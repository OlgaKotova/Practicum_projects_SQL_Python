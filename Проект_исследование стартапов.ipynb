{
 "cells": [
  {
   "cell_type": "markdown",
   "metadata": {
    "id": "4mJbK1knrJgz"
   },
   "source": [
    "# Проект: Исследование стартапов\n",
    "- Автор: Котова Ольга\n",
    "- Дата: 27.02.2025"
   ]
  },
  {
   "cell_type": "markdown",
   "metadata": {
    "id": "P6j0r3worJg0"
   },
   "source": [
    "## Введение"
   ]
  },
  {
   "cell_type": "markdown",
   "metadata": {
    "id": "8lQtbsIUyFG6"
   },
   "source": [
    "\n",
    "\n",
    "<font color='#777778'>\n",
    "Необходимо провести анализ данных для финансовой компании, которая предоставляет льготные займы стартапам и хочет войти на инвестиционный рынок с прицелом на покупку, развитие и последующую перепродажу перспективных стартапов.\n",
    "    Для разработки модели бизнеса нужна информация. Чтобы выработать общее понимание, какие данные могут быть полезны. Данные неполны, поэтому заказчик, кроме ответа на некоторые интересующие его вопросы, просит аккуратно относиться к получаемым в процессе исследования значениям показателей и выводам и стараться оценивать их на возможные искажения.\n"
   ]
  },
  {
   "cell_type": "markdown",
   "metadata": {},
   "source": [
    "### Цели и задачи проекта\n",
    "\n",
    "<font color='#777778'>**Цель:** \n",
    "Подготовить датасет и проверить, что данные в нём соответствуют здравому смыслу, а также ответить на вопросы заказчика как о предобработке, так и о значении данных для бизнеса.\n",
    "\n",
    "**Задачи:**\n",
    "1. Загрузить данные и познакомиться с их содержимым.  \n",
    "2. Провести предобработку данных.  \n",
    "3. Провести анализ данных и дать ответы на вопросы:  \n",
    "•\tпо каким столбцам можно объединять данные из разных таблиц;  \n",
    "•\tможно ли доверять данным о сотрудниках стартапов и их образовании;  \n",
    "•\tчто значат покупки за 0 или за 1 доллар;  \n",
    "•\tкакая цена в зависимости от категории стартапов и количества раундов финансирования перед его покупкой;  \n",
    "•\tкак рассчитать и отобразить численные показатели и динамику.  \n",
    "4. Сформулировать выводы по проведённому анализу: возможно ли выявить показатели и признаки, которые указывают на повышенную вероятность успешной сделки по покупке компании.</font>\n",
    "\n",
    "### Описание данных\n",
    "<font color='#777778'>\n",
    "\n",
    "Поступили следующие основные датасеты: \n",
    "- company_and_rounds.csv - cодержит информацию о компаниях и раундах финансирования,\n",
    "- acquisition.csv - содержит информацию о покупках одними компаниями других компаний,  \n",
    "- people.csv - cодержит информацию о сотрудниках,\n",
    "- education.csv - cодержит информацию об образовании сотрудника,\n",
    "- degrees.csv - cодержит информацию о типе образования сотрудника.\n",
    "\n",
    "А также 2 дополнительных датасета:\n",
    "<font color='#777778'>\n",
    "\n",
    "**Описание датасета `acquisition`**:  \n",
    "    \n",
    "`id` — идентификатор покупки.  \n",
    "`acquiring_company_id` — идентификатор покупающей компании.  \n",
    "`acquired_company_id` — идентификатор покупаемой компании.  \n",
    "`term_code` — варианты расчёта.  \n",
    "`price_amount` — сумма сделки.   \n",
    "`acquired_at` — дата сделки.  \n",
    "\n",
    "**Описание датасета `company_and_rounds`**:\n",
    "    \n",
    "`company ID` — идентификатор компании.  \n",
    "`name` — название компании.  \n",
    "`category code` — категория области деятельности компании.  \n",
    "`status` — статус компании.  \n",
    "`founded at` — дата инвестирования.  \n",
    "`closed at` — дата закрытия компании.  \n",
    "`domain` — официальный сайт компании.  \n",
    "`network username` — ник компании в сети.  \n",
    "`country code` — код страны компании.  \n",
    "`investment rounds` — число инвестиционных раундов.  \n",
    "`funding rounds` — число раундов финансирования.  \n",
    "`funding total` — сумма финансирования.  \n",
    "`milestones` — вехи финансирования.  \n",
    "`funding round id` — идентификатор этапа финансирования.  \n",
    "`company id` — идентификатор компании.    \n",
    "`funded at` — дата финансирования.  \n",
    "`funding round type` — тип финансирования.  \n",
    "`raised amount` — сумма финансирования.  \n",
    "`pre money valuation`— предварительная денежная оценка.   \n",
    "`participants` — число участников.    \n",
    "`is first round` — является ли раунд первым.  \n",
    "`is last round` — является раунд последним.  \n",
    "\n",
    "**Описание датасета `education`**:\n",
    "    \n",
    "`id` — идентификатор записи об образовании.  \n",
    "`person_id` — идентификатор работника.  \n",
    "`instituition` — название учебного заведения.  \n",
    "`graduated_at` — дата получения образования.  \n",
    "\n",
    "**Описание датасета `people`**:  \n",
    "    \n",
    "`id` — идентификатор сотрудника.  \n",
    "`first_name` — имя сотрудника.  \n",
    "`last_name` — фамилия сотрудника.  \n",
    "`company_id` — идентификатор компании.  \n",
    "`network_username` — ник в социальных сетях.   \n",
    "\n",
    "**Описание датасета `degrees`**: \n",
    "    \n",
    "`id` — идентификатор записи.  \n",
    "`object_id` — идентификатор сотрудника.  \n",
    "`degree_type` — тип образования.  \n",
    "`subject` — специальность."
   ]
  },
  {
   "cell_type": "markdown",
   "metadata": {},
   "source": [
    "### Содержимое проекта\n",
    "\n",
    "Шаг 1. Знакомство с данными: загрузка и первичная предобработка.  \n",
    "1.1. Вывод общей информации, исправление названия столбцов      \n",
    "1.2. Смена типов и анализ пропусков\n",
    "\n",
    "\n",
    "Шаг 2. Предобработка данных, предварительное исследование.  \n",
    "2.1. Раунды финансирования по годам  \n",
    "2.2. Люди и их образование  \n",
    "2.3. Объединять или не объединять датасеты  \n",
    "2.4. Проблемный датасет и причина возникновения пропусков  \n",
    "    \n",
    "Шаг 3. Исследовательский анализ объединённых таблиц    \n",
    "3.1. Объединение данных  \n",
    "3.2. Анализ выбросов  \n",
    "3.3. Куплены забесплатно?      \n",
    "3.4. Цены стартапов по категориям      \n",
    "3.5. Сколько раундов продержится стартап перед покупкой  \n",
    "    \n",
    "Шаг 4. Итоговый вывод и рекомендации.</font>\n",
    "\n",
    "---"
   ]
  },
  {
   "cell_type": "markdown",
   "metadata": {
    "id": "xqr6uttCrJg0"
   },
   "source": [
    "\n",
    "## Шаг 1. Знакомство с данными: загрузка и первичная предобработка\n",
    "\n",
    "Начнём с загрузки библиотек и датасетов. Будем использовать pandas и библиотеки визуализации данных.\n"
   ]
  },
  {
   "cell_type": "code",
   "execution_count": 1,
   "metadata": {},
   "outputs": [
    {
     "name": "stdout",
     "output_type": "stream",
     "text": [
      "Requirement already satisfied: phik==0.11.1 in /opt/conda/lib/python3.9/site-packages (0.11.1)\r\n",
      "Requirement already satisfied: joblib>=0.14.1 in /opt/conda/lib/python3.9/site-packages (from phik==0.11.1) (1.1.0)\r\n",
      "Requirement already satisfied: pandas>=0.25.1 in /opt/conda/lib/python3.9/site-packages (from phik==0.11.1) (1.2.4)\r\n",
      "Requirement already satisfied: matplotlib>=2.2.3 in /opt/conda/lib/python3.9/site-packages (from phik==0.11.1) (3.3.4)\r\n",
      "Requirement already satisfied: numpy>=1.18.0 in /opt/conda/lib/python3.9/site-packages (from phik==0.11.1) (1.21.1)\r\n",
      "Requirement already satisfied: scipy>=1.5.2 in /opt/conda/lib/python3.9/site-packages (from phik==0.11.1) (1.9.1)\r\n",
      "Requirement already satisfied: cycler>=0.10 in /opt/conda/lib/python3.9/site-packages (from matplotlib>=2.2.3->phik==0.11.1) (0.11.0)\r\n",
      "Requirement already satisfied: pyparsing!=2.0.4,!=2.1.2,!=2.1.6,>=2.0.3 in /opt/conda/lib/python3.9/site-packages (from matplotlib>=2.2.3->phik==0.11.1) (2.4.7)\r\n",
      "Requirement already satisfied: python-dateutil>=2.1 in /opt/conda/lib/python3.9/site-packages (from matplotlib>=2.2.3->phik==0.11.1) (2.8.1)\r\n",
      "Requirement already satisfied: pillow>=6.2.0 in /opt/conda/lib/python3.9/site-packages (from matplotlib>=2.2.3->phik==0.11.1) (8.4.0)\r\n",
      "Requirement already satisfied: kiwisolver>=1.0.1 in /opt/conda/lib/python3.9/site-packages (from matplotlib>=2.2.3->phik==0.11.1) (1.4.4)\r\n",
      "Requirement already satisfied: pytz>=2017.3 in /opt/conda/lib/python3.9/site-packages (from pandas>=0.25.1->phik==0.11.1) (2021.1)\r\n",
      "Requirement already satisfied: six>=1.5 in /opt/conda/lib/python3.9/site-packages (from python-dateutil>=2.1->matplotlib>=2.2.3->phik==0.11.1) (1.16.0)\r\n"
     ]
    }
   ],
   "source": [
    "# Импортируем библиотеки\n",
    "import pandas as pd\n",
    "\n",
    "# Загружаем библиотеки для визуализации данных\n",
    "import matplotlib.pyplot as plt\n",
    "\n",
    "import seaborn as sns\n",
    "\n",
    "# Загружаем библиотеку для расчёта коэффициента корреляции phi_k\n",
    "!pip install phik==0.11.1\n",
    "from phik import phik\n",
    "from phik import resources\n",
    "\n",
    "\n",
    "import warnings\n",
    "\n",
    "# Отключаем предупреждения\n",
    "warnings.filterwarnings('ignore')"
   ]
  },
  {
   "cell_type": "code",
   "execution_count": 2,
   "metadata": {},
   "outputs": [],
   "source": [
    "# Выгружаем данные в переменные c названием, аналогичным таблицам\n",
    "company_and_rounds = pd.read_csv('https://code.s3.yandex.net/datasets/company_and_rounds.csv')\n",
    "acquisition = pd.read_csv('https://code.s3.yandex.net/datasets/acquisition.csv')\n",
    "people=pd.read_csv('https://code.s3.yandex.net/datasets/people.csv')\n",
    "education=pd.read_csv('https://code.s3.yandex.net/datasets/education.csv')\n",
    "degrees=pd.read_csv('https://code.s3.yandex.net/datasets/degrees.csv')"
   ]
  },
  {
   "cell_type": "markdown",
   "metadata": {},
   "source": [
    "### 1.1. Вывод общей информации, исправление названия столбцов\n",
    "Познакомимся с данными датасетов — выведем первые строки методом head(), а информацию о датафрейме методом info()"
   ]
  },
  {
   "cell_type": "code",
   "execution_count": 3,
   "metadata": {},
   "outputs": [
    {
     "data": {
      "text/html": [
       "<div>\n",
       "<style scoped>\n",
       "    .dataframe tbody tr th:only-of-type {\n",
       "        vertical-align: middle;\n",
       "    }\n",
       "\n",
       "    .dataframe tbody tr th {\n",
       "        vertical-align: top;\n",
       "    }\n",
       "\n",
       "    .dataframe thead th {\n",
       "        text-align: right;\n",
       "    }\n",
       "</style>\n",
       "<table border=\"1\" class=\"dataframe\">\n",
       "  <thead>\n",
       "    <tr style=\"text-align: right;\">\n",
       "      <th></th>\n",
       "      <th>company  ID</th>\n",
       "      <th>name</th>\n",
       "      <th>category  code</th>\n",
       "      <th>status</th>\n",
       "      <th>founded  at</th>\n",
       "      <th>closed  at</th>\n",
       "      <th>domain</th>\n",
       "      <th>network  username</th>\n",
       "      <th>country  code</th>\n",
       "      <th>investment  rounds</th>\n",
       "      <th>...</th>\n",
       "      <th>milestones</th>\n",
       "      <th>funding  round  id</th>\n",
       "      <th>company  id</th>\n",
       "      <th>funded  at</th>\n",
       "      <th>funding  round  type</th>\n",
       "      <th>raised  amount</th>\n",
       "      <th>pre  money  valuation</th>\n",
       "      <th>participants</th>\n",
       "      <th>is  first  round</th>\n",
       "      <th>is  last  round</th>\n",
       "    </tr>\n",
       "  </thead>\n",
       "  <tbody>\n",
       "    <tr>\n",
       "      <th>0</th>\n",
       "      <td>1.0</td>\n",
       "      <td>Wetpaint</td>\n",
       "      <td>web</td>\n",
       "      <td>operating</td>\n",
       "      <td>2005-10-17</td>\n",
       "      <td>NaN</td>\n",
       "      <td>wetpaint-inc.com</td>\n",
       "      <td>BachelrWetpaint</td>\n",
       "      <td>USA</td>\n",
       "      <td>0.0</td>\n",
       "      <td>...</td>\n",
       "      <td>5.0</td>\n",
       "      <td>888.0</td>\n",
       "      <td>1.0</td>\n",
       "      <td>2005-10-01</td>\n",
       "      <td>series-a</td>\n",
       "      <td>5250000.0</td>\n",
       "      <td>0.0</td>\n",
       "      <td>2.0</td>\n",
       "      <td>0.0</td>\n",
       "      <td>1.0</td>\n",
       "    </tr>\n",
       "    <tr>\n",
       "      <th>1</th>\n",
       "      <td>1.0</td>\n",
       "      <td>Wetpaint</td>\n",
       "      <td>web</td>\n",
       "      <td>operating</td>\n",
       "      <td>2005-10-17</td>\n",
       "      <td>NaN</td>\n",
       "      <td>wetpaint-inc.com</td>\n",
       "      <td>BachelrWetpaint</td>\n",
       "      <td>USA</td>\n",
       "      <td>0.0</td>\n",
       "      <td>...</td>\n",
       "      <td>5.0</td>\n",
       "      <td>889.0</td>\n",
       "      <td>1.0</td>\n",
       "      <td>2007-01-01</td>\n",
       "      <td>series-b</td>\n",
       "      <td>9500000.0</td>\n",
       "      <td>0.0</td>\n",
       "      <td>3.0</td>\n",
       "      <td>0.0</td>\n",
       "      <td>0.0</td>\n",
       "    </tr>\n",
       "    <tr>\n",
       "      <th>2</th>\n",
       "      <td>1.0</td>\n",
       "      <td>Wetpaint</td>\n",
       "      <td>web</td>\n",
       "      <td>operating</td>\n",
       "      <td>2005-10-17</td>\n",
       "      <td>NaN</td>\n",
       "      <td>wetpaint-inc.com</td>\n",
       "      <td>BachelrWetpaint</td>\n",
       "      <td>USA</td>\n",
       "      <td>0.0</td>\n",
       "      <td>...</td>\n",
       "      <td>5.0</td>\n",
       "      <td>2312.0</td>\n",
       "      <td>1.0</td>\n",
       "      <td>2008-05-19</td>\n",
       "      <td>series-c+</td>\n",
       "      <td>25000000.0</td>\n",
       "      <td>0.0</td>\n",
       "      <td>4.0</td>\n",
       "      <td>1.0</td>\n",
       "      <td>0.0</td>\n",
       "    </tr>\n",
       "    <tr>\n",
       "      <th>3</th>\n",
       "      <td>10.0</td>\n",
       "      <td>Flektor</td>\n",
       "      <td>games_video</td>\n",
       "      <td>acquired</td>\n",
       "      <td>NaN</td>\n",
       "      <td>NaN</td>\n",
       "      <td>flektor.com</td>\n",
       "      <td>NaN</td>\n",
       "      <td>USA</td>\n",
       "      <td>0.0</td>\n",
       "      <td>...</td>\n",
       "      <td>0.0</td>\n",
       "      <td>NaN</td>\n",
       "      <td>NaN</td>\n",
       "      <td>NaN</td>\n",
       "      <td>NaN</td>\n",
       "      <td>NaN</td>\n",
       "      <td>NaN</td>\n",
       "      <td>NaN</td>\n",
       "      <td>NaN</td>\n",
       "      <td>NaN</td>\n",
       "    </tr>\n",
       "    <tr>\n",
       "      <th>4</th>\n",
       "      <td>100.0</td>\n",
       "      <td>There</td>\n",
       "      <td>games_video</td>\n",
       "      <td>acquired</td>\n",
       "      <td>NaN</td>\n",
       "      <td>NaN</td>\n",
       "      <td>there.com</td>\n",
       "      <td>NaN</td>\n",
       "      <td>USA</td>\n",
       "      <td>0.0</td>\n",
       "      <td>...</td>\n",
       "      <td>4.0</td>\n",
       "      <td>NaN</td>\n",
       "      <td>NaN</td>\n",
       "      <td>NaN</td>\n",
       "      <td>NaN</td>\n",
       "      <td>NaN</td>\n",
       "      <td>NaN</td>\n",
       "      <td>NaN</td>\n",
       "      <td>NaN</td>\n",
       "      <td>NaN</td>\n",
       "    </tr>\n",
       "    <tr>\n",
       "      <th>5</th>\n",
       "      <td>10000.0</td>\n",
       "      <td>MYWEBBO</td>\n",
       "      <td>network_hosting</td>\n",
       "      <td>operating</td>\n",
       "      <td>2008-07-26</td>\n",
       "      <td>NaN</td>\n",
       "      <td>mywebbo.com</td>\n",
       "      <td>NaN</td>\n",
       "      <td>NaN</td>\n",
       "      <td>0.0</td>\n",
       "      <td>...</td>\n",
       "      <td>0.0</td>\n",
       "      <td>NaN</td>\n",
       "      <td>NaN</td>\n",
       "      <td>NaN</td>\n",
       "      <td>NaN</td>\n",
       "      <td>NaN</td>\n",
       "      <td>NaN</td>\n",
       "      <td>NaN</td>\n",
       "      <td>NaN</td>\n",
       "      <td>NaN</td>\n",
       "    </tr>\n",
       "    <tr>\n",
       "      <th>6</th>\n",
       "      <td>10001.0</td>\n",
       "      <td>THE Movie Streamer</td>\n",
       "      <td>games_video</td>\n",
       "      <td>operating</td>\n",
       "      <td>2008-07-26</td>\n",
       "      <td>NaN</td>\n",
       "      <td>themoviestreamer.com</td>\n",
       "      <td>NaN</td>\n",
       "      <td>NaN</td>\n",
       "      <td>0.0</td>\n",
       "      <td>...</td>\n",
       "      <td>0.0</td>\n",
       "      <td>NaN</td>\n",
       "      <td>NaN</td>\n",
       "      <td>NaN</td>\n",
       "      <td>NaN</td>\n",
       "      <td>NaN</td>\n",
       "      <td>NaN</td>\n",
       "      <td>NaN</td>\n",
       "      <td>NaN</td>\n",
       "      <td>NaN</td>\n",
       "    </tr>\n",
       "    <tr>\n",
       "      <th>7</th>\n",
       "      <td>10002.0</td>\n",
       "      <td>Synergie Media</td>\n",
       "      <td>advertising</td>\n",
       "      <td>operating</td>\n",
       "      <td>2007-06-27</td>\n",
       "      <td>NaN</td>\n",
       "      <td>synergie-media.com</td>\n",
       "      <td>NaN</td>\n",
       "      <td>MAR</td>\n",
       "      <td>0.0</td>\n",
       "      <td>...</td>\n",
       "      <td>0.0</td>\n",
       "      <td>NaN</td>\n",
       "      <td>NaN</td>\n",
       "      <td>NaN</td>\n",
       "      <td>NaN</td>\n",
       "      <td>NaN</td>\n",
       "      <td>NaN</td>\n",
       "      <td>NaN</td>\n",
       "      <td>NaN</td>\n",
       "      <td>NaN</td>\n",
       "    </tr>\n",
       "    <tr>\n",
       "      <th>8</th>\n",
       "      <td>10003.0</td>\n",
       "      <td>Green Basti Ecosystems</td>\n",
       "      <td>cleantech</td>\n",
       "      <td>operating</td>\n",
       "      <td>2008-08-20</td>\n",
       "      <td>NaN</td>\n",
       "      <td>NaN</td>\n",
       "      <td>NaN</td>\n",
       "      <td>IND</td>\n",
       "      <td>0.0</td>\n",
       "      <td>...</td>\n",
       "      <td>0.0</td>\n",
       "      <td>NaN</td>\n",
       "      <td>NaN</td>\n",
       "      <td>NaN</td>\n",
       "      <td>NaN</td>\n",
       "      <td>NaN</td>\n",
       "      <td>NaN</td>\n",
       "      <td>NaN</td>\n",
       "      <td>NaN</td>\n",
       "      <td>NaN</td>\n",
       "    </tr>\n",
       "    <tr>\n",
       "      <th>9</th>\n",
       "      <td>100042.0</td>\n",
       "      <td>HostNine</td>\n",
       "      <td>NaN</td>\n",
       "      <td>operating</td>\n",
       "      <td>NaN</td>\n",
       "      <td>NaN</td>\n",
       "      <td>hostnine.com</td>\n",
       "      <td>Hostnine</td>\n",
       "      <td>NaN</td>\n",
       "      <td>0.0</td>\n",
       "      <td>...</td>\n",
       "      <td>1.0</td>\n",
       "      <td>NaN</td>\n",
       "      <td>NaN</td>\n",
       "      <td>NaN</td>\n",
       "      <td>NaN</td>\n",
       "      <td>NaN</td>\n",
       "      <td>NaN</td>\n",
       "      <td>NaN</td>\n",
       "      <td>NaN</td>\n",
       "      <td>NaN</td>\n",
       "    </tr>\n",
       "  </tbody>\n",
       "</table>\n",
       "<p>10 rows × 22 columns</p>\n",
       "</div>"
      ],
      "text/plain": [
       "   company  ID                    name   category  code     status  \\\n",
       "0          1.0                Wetpaint              web  operating   \n",
       "1          1.0                Wetpaint              web  operating   \n",
       "2          1.0                Wetpaint              web  operating   \n",
       "3         10.0                 Flektor      games_video   acquired   \n",
       "4        100.0                   There      games_video   acquired   \n",
       "5      10000.0                 MYWEBBO  network_hosting  operating   \n",
       "6      10001.0      THE Movie Streamer      games_video  operating   \n",
       "7      10002.0          Synergie Media      advertising  operating   \n",
       "8      10003.0  Green Basti Ecosystems        cleantech  operating   \n",
       "9     100042.0                HostNine              NaN  operating   \n",
       "\n",
       "  founded  at closed  at                domain network  username  \\\n",
       "0  2005-10-17        NaN      wetpaint-inc.com   BachelrWetpaint   \n",
       "1  2005-10-17        NaN      wetpaint-inc.com   BachelrWetpaint   \n",
       "2  2005-10-17        NaN      wetpaint-inc.com   BachelrWetpaint   \n",
       "3         NaN        NaN           flektor.com               NaN   \n",
       "4         NaN        NaN             there.com               NaN   \n",
       "5  2008-07-26        NaN           mywebbo.com               NaN   \n",
       "6  2008-07-26        NaN  themoviestreamer.com               NaN   \n",
       "7  2007-06-27        NaN    synergie-media.com               NaN   \n",
       "8  2008-08-20        NaN                   NaN               NaN   \n",
       "9         NaN        NaN          hostnine.com          Hostnine   \n",
       "\n",
       "  country  code  investment  rounds  ...  milestones  funding  round  id  \\\n",
       "0           USA                 0.0  ...         5.0               888.0   \n",
       "1           USA                 0.0  ...         5.0               889.0   \n",
       "2           USA                 0.0  ...         5.0              2312.0   \n",
       "3           USA                 0.0  ...         0.0                 NaN   \n",
       "4           USA                 0.0  ...         4.0                 NaN   \n",
       "5           NaN                 0.0  ...         0.0                 NaN   \n",
       "6           NaN                 0.0  ...         0.0                 NaN   \n",
       "7           MAR                 0.0  ...         0.0                 NaN   \n",
       "8           IND                 0.0  ...         0.0                 NaN   \n",
       "9           NaN                 0.0  ...         1.0                 NaN   \n",
       "\n",
       "   company  id  funded  at  funding  round  type raised  amount  \\\n",
       "0          1.0  2005-10-01              series-a      5250000.0   \n",
       "1          1.0  2007-01-01              series-b      9500000.0   \n",
       "2          1.0  2008-05-19             series-c+     25000000.0   \n",
       "3          NaN         NaN                   NaN            NaN   \n",
       "4          NaN         NaN                   NaN            NaN   \n",
       "5          NaN         NaN                   NaN            NaN   \n",
       "6          NaN         NaN                   NaN            NaN   \n",
       "7          NaN         NaN                   NaN            NaN   \n",
       "8          NaN         NaN                   NaN            NaN   \n",
       "9          NaN         NaN                   NaN            NaN   \n",
       "\n",
       "  pre  money  valuation  participants  is  first  round  is  last  round  \n",
       "0                   0.0           2.0               0.0              1.0  \n",
       "1                   0.0           3.0               0.0              0.0  \n",
       "2                   0.0           4.0               1.0              0.0  \n",
       "3                   NaN           NaN               NaN              NaN  \n",
       "4                   NaN           NaN               NaN              NaN  \n",
       "5                   NaN           NaN               NaN              NaN  \n",
       "6                   NaN           NaN               NaN              NaN  \n",
       "7                   NaN           NaN               NaN              NaN  \n",
       "8                   NaN           NaN               NaN              NaN  \n",
       "9                   NaN           NaN               NaN              NaN  \n",
       "\n",
       "[10 rows x 22 columns]"
      ]
     },
     "execution_count": 3,
     "metadata": {},
     "output_type": "execute_result"
    }
   ],
   "source": [
    "company_and_rounds.head(10)      "
   ]
  },
  {
   "cell_type": "code",
   "execution_count": 4,
   "metadata": {},
   "outputs": [
    {
     "data": {
      "text/html": [
       "<div>\n",
       "<style scoped>\n",
       "    .dataframe tbody tr th:only-of-type {\n",
       "        vertical-align: middle;\n",
       "    }\n",
       "\n",
       "    .dataframe tbody tr th {\n",
       "        vertical-align: top;\n",
       "    }\n",
       "\n",
       "    .dataframe thead th {\n",
       "        text-align: right;\n",
       "    }\n",
       "</style>\n",
       "<table border=\"1\" class=\"dataframe\">\n",
       "  <thead>\n",
       "    <tr style=\"text-align: right;\">\n",
       "      <th></th>\n",
       "      <th>company  ID</th>\n",
       "      <th>name</th>\n",
       "      <th>category  code</th>\n",
       "      <th>status</th>\n",
       "      <th>founded  at</th>\n",
       "      <th>closed  at</th>\n",
       "      <th>domain</th>\n",
       "      <th>network  username</th>\n",
       "      <th>country  code</th>\n",
       "      <th>investment  rounds</th>\n",
       "      <th>...</th>\n",
       "      <th>milestones</th>\n",
       "      <th>funding  round  id</th>\n",
       "      <th>company  id</th>\n",
       "      <th>funded  at</th>\n",
       "      <th>funding  round  type</th>\n",
       "      <th>raised  amount</th>\n",
       "      <th>pre  money  valuation</th>\n",
       "      <th>participants</th>\n",
       "      <th>is  first  round</th>\n",
       "      <th>is  last  round</th>\n",
       "    </tr>\n",
       "  </thead>\n",
       "  <tbody>\n",
       "    <tr>\n",
       "      <th>217764</th>\n",
       "      <td>NaN</td>\n",
       "      <td>NaN</td>\n",
       "      <td>NaN</td>\n",
       "      <td>NaN</td>\n",
       "      <td>NaN</td>\n",
       "      <td>NaN</td>\n",
       "      <td>NaN</td>\n",
       "      <td>NaN</td>\n",
       "      <td>NaN</td>\n",
       "      <td>NaN</td>\n",
       "      <td>...</td>\n",
       "      <td>NaN</td>\n",
       "      <td>55358.0</td>\n",
       "      <td>269728.0</td>\n",
       "      <td>2013-08-14</td>\n",
       "      <td>series-a</td>\n",
       "      <td>5600000.0</td>\n",
       "      <td>0.0</td>\n",
       "      <td>7.0</td>\n",
       "      <td>1.0</td>\n",
       "      <td>1.0</td>\n",
       "    </tr>\n",
       "    <tr>\n",
       "      <th>217765</th>\n",
       "      <td>NaN</td>\n",
       "      <td>NaN</td>\n",
       "      <td>NaN</td>\n",
       "      <td>NaN</td>\n",
       "      <td>NaN</td>\n",
       "      <td>NaN</td>\n",
       "      <td>NaN</td>\n",
       "      <td>NaN</td>\n",
       "      <td>NaN</td>\n",
       "      <td>NaN</td>\n",
       "      <td>...</td>\n",
       "      <td>NaN</td>\n",
       "      <td>55492.0</td>\n",
       "      <td>78698.0</td>\n",
       "      <td>2013-11-20</td>\n",
       "      <td>series-a</td>\n",
       "      <td>15000000.0</td>\n",
       "      <td>0.0</td>\n",
       "      <td>1.0</td>\n",
       "      <td>1.0</td>\n",
       "      <td>1.0</td>\n",
       "    </tr>\n",
       "    <tr>\n",
       "      <th>217766</th>\n",
       "      <td>NaN</td>\n",
       "      <td>NaN</td>\n",
       "      <td>NaN</td>\n",
       "      <td>NaN</td>\n",
       "      <td>NaN</td>\n",
       "      <td>NaN</td>\n",
       "      <td>NaN</td>\n",
       "      <td>NaN</td>\n",
       "      <td>NaN</td>\n",
       "      <td>NaN</td>\n",
       "      <td>...</td>\n",
       "      <td>NaN</td>\n",
       "      <td>56054.0</td>\n",
       "      <td>196289.0</td>\n",
       "      <td>2011-03-01</td>\n",
       "      <td>other</td>\n",
       "      <td>925000.0</td>\n",
       "      <td>0.0</td>\n",
       "      <td>0.0</td>\n",
       "      <td>1.0</td>\n",
       "      <td>1.0</td>\n",
       "    </tr>\n",
       "    <tr>\n",
       "      <th>217767</th>\n",
       "      <td>NaN</td>\n",
       "      <td>NaN</td>\n",
       "      <td>NaN</td>\n",
       "      <td>NaN</td>\n",
       "      <td>NaN</td>\n",
       "      <td>NaN</td>\n",
       "      <td>NaN</td>\n",
       "      <td>NaN</td>\n",
       "      <td>NaN</td>\n",
       "      <td>NaN</td>\n",
       "      <td>...</td>\n",
       "      <td>NaN</td>\n",
       "      <td>56158.0</td>\n",
       "      <td>282450.0</td>\n",
       "      <td>2013-11-26</td>\n",
       "      <td>series-a</td>\n",
       "      <td>2600000.0</td>\n",
       "      <td>0.0</td>\n",
       "      <td>0.0</td>\n",
       "      <td>1.0</td>\n",
       "      <td>1.0</td>\n",
       "    </tr>\n",
       "    <tr>\n",
       "      <th>217768</th>\n",
       "      <td>NaN</td>\n",
       "      <td>NaN</td>\n",
       "      <td>NaN</td>\n",
       "      <td>NaN</td>\n",
       "      <td>NaN</td>\n",
       "      <td>NaN</td>\n",
       "      <td>NaN</td>\n",
       "      <td>NaN</td>\n",
       "      <td>NaN</td>\n",
       "      <td>NaN</td>\n",
       "      <td>...</td>\n",
       "      <td>NaN</td>\n",
       "      <td>56184.0</td>\n",
       "      <td>146919.0</td>\n",
       "      <td>2013-11-06</td>\n",
       "      <td>other</td>\n",
       "      <td>4900000.0</td>\n",
       "      <td>0.0</td>\n",
       "      <td>0.0</td>\n",
       "      <td>1.0</td>\n",
       "      <td>1.0</td>\n",
       "    </tr>\n",
       "    <tr>\n",
       "      <th>217769</th>\n",
       "      <td>NaN</td>\n",
       "      <td>NaN</td>\n",
       "      <td>NaN</td>\n",
       "      <td>NaN</td>\n",
       "      <td>NaN</td>\n",
       "      <td>NaN</td>\n",
       "      <td>NaN</td>\n",
       "      <td>NaN</td>\n",
       "      <td>NaN</td>\n",
       "      <td>NaN</td>\n",
       "      <td>...</td>\n",
       "      <td>NaN</td>\n",
       "      <td>56454.0</td>\n",
       "      <td>282847.0</td>\n",
       "      <td>2011-01-31</td>\n",
       "      <td>other</td>\n",
       "      <td>5500000.0</td>\n",
       "      <td>0.0</td>\n",
       "      <td>0.0</td>\n",
       "      <td>1.0</td>\n",
       "      <td>1.0</td>\n",
       "    </tr>\n",
       "    <tr>\n",
       "      <th>217770</th>\n",
       "      <td>NaN</td>\n",
       "      <td>NaN</td>\n",
       "      <td>NaN</td>\n",
       "      <td>NaN</td>\n",
       "      <td>NaN</td>\n",
       "      <td>NaN</td>\n",
       "      <td>NaN</td>\n",
       "      <td>NaN</td>\n",
       "      <td>NaN</td>\n",
       "      <td>NaN</td>\n",
       "      <td>...</td>\n",
       "      <td>NaN</td>\n",
       "      <td>56542.0</td>\n",
       "      <td>55477.0</td>\n",
       "      <td>2011-01-13</td>\n",
       "      <td>venture</td>\n",
       "      <td>10633300.0</td>\n",
       "      <td>0.0</td>\n",
       "      <td>0.0</td>\n",
       "      <td>0.0</td>\n",
       "      <td>1.0</td>\n",
       "    </tr>\n",
       "    <tr>\n",
       "      <th>217771</th>\n",
       "      <td>NaN</td>\n",
       "      <td>NaN</td>\n",
       "      <td>NaN</td>\n",
       "      <td>NaN</td>\n",
       "      <td>NaN</td>\n",
       "      <td>NaN</td>\n",
       "      <td>NaN</td>\n",
       "      <td>NaN</td>\n",
       "      <td>NaN</td>\n",
       "      <td>NaN</td>\n",
       "      <td>...</td>\n",
       "      <td>NaN</td>\n",
       "      <td>56543.0</td>\n",
       "      <td>55477.0</td>\n",
       "      <td>2012-05-31</td>\n",
       "      <td>venture</td>\n",
       "      <td>2125720.0</td>\n",
       "      <td>0.0</td>\n",
       "      <td>0.0</td>\n",
       "      <td>1.0</td>\n",
       "      <td>0.0</td>\n",
       "    </tr>\n",
       "    <tr>\n",
       "      <th>217772</th>\n",
       "      <td>NaN</td>\n",
       "      <td>NaN</td>\n",
       "      <td>NaN</td>\n",
       "      <td>NaN</td>\n",
       "      <td>NaN</td>\n",
       "      <td>NaN</td>\n",
       "      <td>NaN</td>\n",
       "      <td>NaN</td>\n",
       "      <td>NaN</td>\n",
       "      <td>NaN</td>\n",
       "      <td>...</td>\n",
       "      <td>NaN</td>\n",
       "      <td>56928.0</td>\n",
       "      <td>283492.0</td>\n",
       "      <td>2013-12-03</td>\n",
       "      <td>venture</td>\n",
       "      <td>3602480.0</td>\n",
       "      <td>0.0</td>\n",
       "      <td>5.0</td>\n",
       "      <td>1.0</td>\n",
       "      <td>1.0</td>\n",
       "    </tr>\n",
       "    <tr>\n",
       "      <th>217773</th>\n",
       "      <td>NaN</td>\n",
       "      <td>NaN</td>\n",
       "      <td>NaN</td>\n",
       "      <td>NaN</td>\n",
       "      <td>NaN</td>\n",
       "      <td>NaN</td>\n",
       "      <td>NaN</td>\n",
       "      <td>NaN</td>\n",
       "      <td>NaN</td>\n",
       "      <td>NaN</td>\n",
       "      <td>...</td>\n",
       "      <td>NaN</td>\n",
       "      <td>57063.0</td>\n",
       "      <td>284191.0</td>\n",
       "      <td>2013-12-04</td>\n",
       "      <td>venture</td>\n",
       "      <td>7000000.0</td>\n",
       "      <td>0.0</td>\n",
       "      <td>4.0</td>\n",
       "      <td>1.0</td>\n",
       "      <td>1.0</td>\n",
       "    </tr>\n",
       "  </tbody>\n",
       "</table>\n",
       "<p>10 rows × 22 columns</p>\n",
       "</div>"
      ],
      "text/plain": [
       "        company  ID name category  code status founded  at closed  at domain  \\\n",
       "217764          NaN  NaN            NaN    NaN         NaN        NaN    NaN   \n",
       "217765          NaN  NaN            NaN    NaN         NaN        NaN    NaN   \n",
       "217766          NaN  NaN            NaN    NaN         NaN        NaN    NaN   \n",
       "217767          NaN  NaN            NaN    NaN         NaN        NaN    NaN   \n",
       "217768          NaN  NaN            NaN    NaN         NaN        NaN    NaN   \n",
       "217769          NaN  NaN            NaN    NaN         NaN        NaN    NaN   \n",
       "217770          NaN  NaN            NaN    NaN         NaN        NaN    NaN   \n",
       "217771          NaN  NaN            NaN    NaN         NaN        NaN    NaN   \n",
       "217772          NaN  NaN            NaN    NaN         NaN        NaN    NaN   \n",
       "217773          NaN  NaN            NaN    NaN         NaN        NaN    NaN   \n",
       "\n",
       "       network  username country  code  investment  rounds  ...  milestones  \\\n",
       "217764               NaN           NaN                 NaN  ...         NaN   \n",
       "217765               NaN           NaN                 NaN  ...         NaN   \n",
       "217766               NaN           NaN                 NaN  ...         NaN   \n",
       "217767               NaN           NaN                 NaN  ...         NaN   \n",
       "217768               NaN           NaN                 NaN  ...         NaN   \n",
       "217769               NaN           NaN                 NaN  ...         NaN   \n",
       "217770               NaN           NaN                 NaN  ...         NaN   \n",
       "217771               NaN           NaN                 NaN  ...         NaN   \n",
       "217772               NaN           NaN                 NaN  ...         NaN   \n",
       "217773               NaN           NaN                 NaN  ...         NaN   \n",
       "\n",
       "        funding  round  id  company  id  funded  at  funding  round  type  \\\n",
       "217764             55358.0     269728.0  2013-08-14              series-a   \n",
       "217765             55492.0      78698.0  2013-11-20              series-a   \n",
       "217766             56054.0     196289.0  2011-03-01                 other   \n",
       "217767             56158.0     282450.0  2013-11-26              series-a   \n",
       "217768             56184.0     146919.0  2013-11-06                 other   \n",
       "217769             56454.0     282847.0  2011-01-31                 other   \n",
       "217770             56542.0      55477.0  2011-01-13               venture   \n",
       "217771             56543.0      55477.0  2012-05-31               venture   \n",
       "217772             56928.0     283492.0  2013-12-03               venture   \n",
       "217773             57063.0     284191.0  2013-12-04               venture   \n",
       "\n",
       "       raised  amount pre  money  valuation  participants  is  first  round  \\\n",
       "217764      5600000.0                   0.0           7.0               1.0   \n",
       "217765     15000000.0                   0.0           1.0               1.0   \n",
       "217766       925000.0                   0.0           0.0               1.0   \n",
       "217767      2600000.0                   0.0           0.0               1.0   \n",
       "217768      4900000.0                   0.0           0.0               1.0   \n",
       "217769      5500000.0                   0.0           0.0               1.0   \n",
       "217770     10633300.0                   0.0           0.0               0.0   \n",
       "217771      2125720.0                   0.0           0.0               1.0   \n",
       "217772      3602480.0                   0.0           5.0               1.0   \n",
       "217773      7000000.0                   0.0           4.0               1.0   \n",
       "\n",
       "        is  last  round  \n",
       "217764              1.0  \n",
       "217765              1.0  \n",
       "217766              1.0  \n",
       "217767              1.0  \n",
       "217768              1.0  \n",
       "217769              1.0  \n",
       "217770              1.0  \n",
       "217771              0.0  \n",
       "217772              1.0  \n",
       "217773              1.0  \n",
       "\n",
       "[10 rows x 22 columns]"
      ]
     },
     "execution_count": 4,
     "metadata": {},
     "output_type": "execute_result"
    }
   ],
   "source": [
    "company_and_rounds.tail(10)"
   ]
  },
  {
   "cell_type": "code",
   "execution_count": 5,
   "metadata": {},
   "outputs": [
    {
     "name": "stdout",
     "output_type": "stream",
     "text": [
      "<class 'pandas.core.frame.DataFrame'>\n",
      "RangeIndex: 217774 entries, 0 to 217773\n",
      "Data columns (total 22 columns):\n",
      " #   Column                 Non-Null Count   Dtype  \n",
      "---  ------                 --------------   -----  \n",
      " 0   company  ID            217472 non-null  float64\n",
      " 1   name                   217472 non-null  object \n",
      " 2   category  code         143886 non-null  object \n",
      " 3   status                 217472 non-null  object \n",
      " 4   founded  at            109956 non-null  object \n",
      " 5   closed  at             3449 non-null    object \n",
      " 6   domain                 147159 non-null  object \n",
      " 7   network  username      95534 non-null   object \n",
      " 8   country  code          108607 non-null  object \n",
      " 9   investment  rounds     217472 non-null  float64\n",
      " 10  funding  rounds        217472 non-null  float64\n",
      " 11  funding  total         217472 non-null  float64\n",
      " 12  milestones             217472 non-null  float64\n",
      " 13  funding  round  id     52928 non-null   float64\n",
      " 14  company  id            52928 non-null   float64\n",
      " 15  funded  at             52680 non-null   object \n",
      " 16  funding  round  type   52928 non-null   object \n",
      " 17  raised  amount         52928 non-null   float64\n",
      " 18  pre  money  valuation  52928 non-null   float64\n",
      " 19  participants           52928 non-null   float64\n",
      " 20  is  first  round       52928 non-null   float64\n",
      " 21  is  last  round        52928 non-null   float64\n",
      "dtypes: float64(12), object(10)\n",
      "memory usage: 36.6+ MB\n"
     ]
    }
   ],
   "source": [
    "# Выводим информацию о датафрейме\n",
    "company_and_rounds.info()"
   ]
  },
  {
   "cell_type": "markdown",
   "metadata": {},
   "source": [
    "Датасет `company_and_rounds.csv` содержит 22 столбца и 217774 строк, в которых представлена информация о компаниях и раундах финансирования.\n",
    "\n",
    "После первичного анализа данных можно сделать следующие промежуточные выводы:\n",
    "\n",
    "Названия столбцов не приведены к виду snake case, при чем содержат по 2 пробела в названиях, будем исправлять в дальнейшем.\n",
    "Также обращает на себя внимание странное совпадение:\n",
    "- с 1 по 12 столбец наиболее частое количество заполненных ячеек 217472. При выводе первых 15 строк заметим, что в столбцах с 13 и до конца есть значения только в том случае, если значения в `funding round id` разные. Данные в первых столбцах совпадают, изменяются только с 13 столбца, при этом, при совпадении id  вся информация по столбцам 1-12 дублируется в нескольких строках, если есть разные значения в `funding round id` различаются.\n",
    "- Данные по столбцам `company  ID` и `company  id` совпадают.\n",
    "- с 13 стоблца данные заполнены с одинаковым количеством пропусков - ненулевых 52928. Если выводим последние строки с помощью tail, видим, что первые столбцы все с пропусками.\n",
    " \n",
    "Закрадывается догадка, что были объединены, но неверно, 2 датафрейма с разными данными.\n",
    "Для тех компаний, у которых есть значение в `funding round id` - был отдельный датасет, с данными по этапам финансирования, сумме, участниках и тд. \n",
    "Поскольку там сохранены все данные по всем этапам (то есть несколько строк по одному и тому же айдишнику), скорее всего, было присоединение к этой таблице, через id компании, но раз подтянулись данные и по другим компаниям без информации с 13 столбца, предполагаем, что присоединяли через 'full join'. Что нашлось - то подтянулось, в остальных данных пропуски. Отсортирован датафрейм по возрастанию id компании.\n",
    "\n",
    "Вероятно, стоит через срезы сделать 2 новых датафрейма и корректно их объединить в дальнейшем?\n",
    "\n",
    "Относительно типов данных: \n",
    "- для id компании необходим целочисленный (в дальнейшем надо оценить, необходимо ли один из идентичных столбцов удалить)\n",
    "- для `name`, `category  code`, `status`,  `domain`, `country  code`,`country  code`, `funding round type`- верный тип object \n",
    "- для `founded  at`, `closed  at`, `funded at` более подходит не числовой тип, а даты и времени (если будут необходимы для анализа, следует заменить).  \n",
    "- для столбцов `investment  rounds`,`funding  rounds`, `milestones`, `participants` можно установить int вместо float64.\n",
    "- булевые значения в столбцах  `is  first  round` и `is  last  round` точно не нуждаются во  float64, необходимо заменить.\n",
    "- остальные стоблцы можно оставить во float.\n",
    "\n",
    "Судя по первому знакомству с данными, значения в столбцах соответствуют своему описанию.\n",
    "Посмотрим по числу раундов и вех, сколько их может быть? И какие виды статусов есть?"
   ]
  },
  {
   "cell_type": "code",
   "execution_count": 6,
   "metadata": {},
   "outputs": [
    {
     "data": {
      "text/plain": [
       "array([  0.,   1.,   3.,  32.,   2.,   4.,   9.,  30.,  17.,   7.,   6.,\n",
       "         8.,  18.,   5.,  25.,  19.,  49.,  21.,  16.,  14.,  37.,  96.,\n",
       "        22.,  10.,  12., 478.,  15.,  89.,  11.,  24., 297.,  20.,  29.,\n",
       "       125.,  33.,  40.,  38.,  68.,  13.,  44.,  58.,  51.,  nan])"
      ]
     },
     "execution_count": 6,
     "metadata": {},
     "output_type": "execute_result"
    }
   ],
   "source": [
    "company_and_rounds['investment  rounds'].unique()"
   ]
  },
  {
   "cell_type": "code",
   "execution_count": 7,
   "metadata": {},
   "outputs": [
    {
     "data": {
      "text/plain": [
       "array([ 3.,  0.,  1.,  5.,  2.,  7.,  4.,  6.,  8., 10.,  9., 13., 11.,\n",
       "       15., 14., 12., nan])"
      ]
     },
     "execution_count": 7,
     "metadata": {},
     "output_type": "execute_result"
    }
   ],
   "source": [
    "company_and_rounds['funding  rounds'].unique() "
   ]
  },
  {
   "cell_type": "code",
   "execution_count": 8,
   "metadata": {},
   "outputs": [
    {
     "data": {
      "text/plain": [
       "array([ 5.,  0.,  4.,  1.,  3.,  2.,  6.,  8.,  7.,  9., nan])"
      ]
     },
     "execution_count": 8,
     "metadata": {},
     "output_type": "execute_result"
    }
   ],
   "source": [
    "company_and_rounds['milestones'].unique() "
   ]
  },
  {
   "cell_type": "markdown",
   "metadata": {},
   "source": [
    "Инвестиционные раунды и райнды финансирования - это точно разное. \n",
    "Загадночные ВЕХИ финансировнания - их всего 10: от 0 до 9.\n",
    "И им всем однозначно хватит целочисленного формата.\n",
    "\n",
    "Еще посмотрим по айдишникам компаний информацию о количестве уникальных."
   ]
  },
  {
   "cell_type": "code",
   "execution_count": 9,
   "metadata": {},
   "outputs": [
    {
     "data": {
      "text/plain": [
       "31939"
      ]
     },
     "execution_count": 9,
     "metadata": {},
     "output_type": "execute_result"
    }
   ],
   "source": [
    "company_and_rounds['company  id'].nunique() "
   ]
  },
  {
   "cell_type": "code",
   "execution_count": 10,
   "metadata": {},
   "outputs": [
    {
     "data": {
      "text/plain": [
       "196553"
      ]
     },
     "execution_count": 10,
     "metadata": {},
     "output_type": "execute_result"
    }
   ],
   "source": [
    "company_and_rounds['company  ID'].nunique() "
   ]
  },
  {
   "cell_type": "code",
   "execution_count": 11,
   "metadata": {},
   "outputs": [
    {
     "data": {
      "text/plain": [
       "array(['operating', 'acquired', 'closed', 'ipo', nan], dtype=object)"
      ]
     },
     "execution_count": 11,
     "metadata": {},
     "output_type": "execute_result"
    }
   ],
   "source": [
    "company_and_rounds['status'].unique() "
   ]
  },
  {
   "cell_type": "markdown",
   "metadata": {},
   "source": [
    "Да, интересно. Компаний с информацией о них `company  id`(из 1-12 столбцов) гораздо меньше, чем компаний с данными о финансировании `company  ID`.\n",
    "Вероятно, база с данными по компаниям с названиеми поломалась и ее восстановили на определенную дату из архива?   \n",
    "А вот данные с данными по финансированию кажутся более полными.\n",
    "И статусов немного, всего 4, но что значит какой статус? Предположить можно следующее: \n",
    "«действующий», «приобретенный», «закрытый», а «ipo» -IPO (initial public offering) — это первая публичная продажа акций неограниченному кругу лиц; листинг на фондовой бирже. Можем предположить, что статус приобретенный  ('acquired') говорит о том, что компанию купили, а значит, именно такие компании учитывая прицел заказчика на покупку, развитие и последующую перепродажу перспективных стартапов.\n",
    "\n",
    "Перед переходом к следующему датасету, приведем названия столбцов в порядок. Поскольку столбцов много, лучше заменить не через словарь, а с помощью replace в функции. Однако, заметим, что при приведении к нижнему регистру будут идентичными стобцы с названиями компаний, в связи с чем lower использовать не будем на данном этапе. "
   ]
  },
  {
   "cell_type": "code",
   "execution_count": 12,
   "metadata": {
    "scrolled": true
   },
   "outputs": [
    {
     "data": {
      "text/plain": [
       "Index(['company  ID', 'name', 'category  code', 'status', 'founded  at',\n",
       "       'closed  at', 'domain', 'network  username', 'country  code',\n",
       "       'investment  rounds', 'funding  rounds', 'funding  total', 'milestones',\n",
       "       'funding  round  id', 'company  id', 'funded  at',\n",
       "       'funding  round  type', 'raised  amount', 'pre  money  valuation',\n",
       "       'participants', 'is  first  round', 'is  last  round'],\n",
       "      dtype='object')"
      ]
     },
     "execution_count": 12,
     "metadata": {},
     "output_type": "execute_result"
    }
   ],
   "source": [
    "# Выводим названия столбцов датафрейма \n",
    "company_and_rounds.columns"
   ]
  },
  {
   "cell_type": "code",
   "execution_count": 13,
   "metadata": {},
   "outputs": [],
   "source": [
    "# Функция для преобразования названий в snake_case\n",
    "def to_snake_case(s):\n",
    "    # Заменяем пробелы\n",
    "    return s.replace('  ', '_')\n",
    "\n",
    "# Применяем функцию ко всем названиям столбцов\n",
    "company_and_rounds.columns = [to_snake_case(col) for col in company_and_rounds.columns]"
   ]
  },
  {
   "cell_type": "code",
   "execution_count": 14,
   "metadata": {},
   "outputs": [
    {
     "data": {
      "text/plain": [
       "Index(['company_ID', 'name', 'category_code', 'status', 'founded_at',\n",
       "       'closed_at', 'domain', 'network_username', 'country_code',\n",
       "       'investment_rounds', 'funding_rounds', 'funding_total', 'milestones',\n",
       "       'funding_round_id', 'company_id', 'funded_at', 'funding_round_type',\n",
       "       'raised_amount', 'pre_money_valuation', 'participants',\n",
       "       'is_first_round', 'is_last_round'],\n",
       "      dtype='object')"
      ]
     },
     "execution_count": 14,
     "metadata": {},
     "output_type": "execute_result"
    }
   ],
   "source": [
    "# Выводим названия столбцов после замены пробелов\n",
    "company_and_rounds.columns"
   ]
  },
  {
   "cell_type": "markdown",
   "metadata": {},
   "source": [
    "Названия столбов приведены к snake_case.\n",
    "\n",
    "Теперь познакомимся с данными датасета acquisition.csv."
   ]
  },
  {
   "cell_type": "code",
   "execution_count": 15,
   "metadata": {},
   "outputs": [
    {
     "data": {
      "text/html": [
       "<div>\n",
       "<style scoped>\n",
       "    .dataframe tbody tr th:only-of-type {\n",
       "        vertical-align: middle;\n",
       "    }\n",
       "\n",
       "    .dataframe tbody tr th {\n",
       "        vertical-align: top;\n",
       "    }\n",
       "\n",
       "    .dataframe thead th {\n",
       "        text-align: right;\n",
       "    }\n",
       "</style>\n",
       "<table border=\"1\" class=\"dataframe\">\n",
       "  <thead>\n",
       "    <tr style=\"text-align: right;\">\n",
       "      <th></th>\n",
       "      <th>id</th>\n",
       "      <th>acquiring_company_id</th>\n",
       "      <th>acquired_company_id</th>\n",
       "      <th>term_code</th>\n",
       "      <th>price_amount</th>\n",
       "      <th>acquired_at</th>\n",
       "    </tr>\n",
       "  </thead>\n",
       "  <tbody>\n",
       "    <tr>\n",
       "      <th>0</th>\n",
       "      <td>1</td>\n",
       "      <td>11</td>\n",
       "      <td>10</td>\n",
       "      <td>NaN</td>\n",
       "      <td>20000000</td>\n",
       "      <td>2007-05-30</td>\n",
       "    </tr>\n",
       "    <tr>\n",
       "      <th>1</th>\n",
       "      <td>7</td>\n",
       "      <td>59</td>\n",
       "      <td>72</td>\n",
       "      <td>cash</td>\n",
       "      <td>60000000</td>\n",
       "      <td>2007-07-01</td>\n",
       "    </tr>\n",
       "    <tr>\n",
       "      <th>2</th>\n",
       "      <td>8</td>\n",
       "      <td>24</td>\n",
       "      <td>132</td>\n",
       "      <td>cash</td>\n",
       "      <td>280000000</td>\n",
       "      <td>2007-05-01</td>\n",
       "    </tr>\n",
       "    <tr>\n",
       "      <th>3</th>\n",
       "      <td>9</td>\n",
       "      <td>59</td>\n",
       "      <td>155</td>\n",
       "      <td>cash</td>\n",
       "      <td>100000000</td>\n",
       "      <td>2007-06-01</td>\n",
       "    </tr>\n",
       "    <tr>\n",
       "      <th>4</th>\n",
       "      <td>10</td>\n",
       "      <td>212</td>\n",
       "      <td>215</td>\n",
       "      <td>cash</td>\n",
       "      <td>25000000</td>\n",
       "      <td>2007-07-01</td>\n",
       "    </tr>\n",
       "  </tbody>\n",
       "</table>\n",
       "</div>"
      ],
      "text/plain": [
       "   id  acquiring_company_id  acquired_company_id term_code  price_amount  \\\n",
       "0   1                    11                   10       NaN      20000000   \n",
       "1   7                    59                   72      cash      60000000   \n",
       "2   8                    24                  132      cash     280000000   \n",
       "3   9                    59                  155      cash     100000000   \n",
       "4  10                   212                  215      cash      25000000   \n",
       "\n",
       "  acquired_at  \n",
       "0  2007-05-30  \n",
       "1  2007-07-01  \n",
       "2  2007-05-01  \n",
       "3  2007-06-01  \n",
       "4  2007-07-01  "
      ]
     },
     "execution_count": 15,
     "metadata": {},
     "output_type": "execute_result"
    }
   ],
   "source": [
    "acquisition.head()"
   ]
  },
  {
   "cell_type": "code",
   "execution_count": 16,
   "metadata": {},
   "outputs": [
    {
     "name": "stdout",
     "output_type": "stream",
     "text": [
      "<class 'pandas.core.frame.DataFrame'>\n",
      "RangeIndex: 9407 entries, 0 to 9406\n",
      "Data columns (total 6 columns):\n",
      " #   Column                Non-Null Count  Dtype \n",
      "---  ------                --------------  ----- \n",
      " 0   id                    9407 non-null   int64 \n",
      " 1   acquiring_company_id  9407 non-null   int64 \n",
      " 2   acquired_company_id   9407 non-null   int64 \n",
      " 3   term_code             1831 non-null   object\n",
      " 4   price_amount          9407 non-null   int64 \n",
      " 5   acquired_at           9378 non-null   object\n",
      "dtypes: int64(4), object(2)\n",
      "memory usage: 441.1+ KB\n"
     ]
    }
   ],
   "source": [
    "acquisition.info()"
   ]
  },
  {
   "cell_type": "markdown",
   "metadata": {},
   "source": [
    "В `acquisition` 6 столбцов и 9407 строк.\n",
    "Названия столбцов не надо корректировать.  \n",
    "\n",
    "По типам данных вопрос к `acquired_at` - надо привести к datetime.\n",
    "Также `price_amount` вызывает подозрение целочисленный тип.  \n",
    "Остальные типы данных корректные.\n",
    "Обратим внимание, здесь также идет речь про acquiring_company_id  и acquired_company_id, то есть частично находит подтверждение гипотеза про статус приобретенный ('acquired').  \n",
    "\n",
    "Cудя по первому знакомству с данными, значения в столбцах соответствуют своему описанию. \n",
    "Посмотрим, какие бывают варианты расчета? "
   ]
  },
  {
   "cell_type": "code",
   "execution_count": 17,
   "metadata": {},
   "outputs": [
    {
     "data": {
      "text/plain": [
       "array([nan, 'cash', 'stock', 'cash_and_stock'], dtype=object)"
      ]
     },
     "execution_count": 17,
     "metadata": {},
     "output_type": "execute_result"
    }
   ],
   "source": [
    "acquisition['term_code'].unique() "
   ]
  },
  {
   "cell_type": "markdown",
   "metadata": {},
   "source": [
    "4 варианта расчета, включая наличные.\n",
    "\n",
    "Также посмотрим статистические данные по сумме покупки компании."
   ]
  },
  {
   "cell_type": "code",
   "execution_count": 18,
   "metadata": {},
   "outputs": [
    {
     "data": {
      "text/plain": [
       "count    9.407000e+03\n",
       "mean     3.932965e+08\n",
       "std      2.682198e+10\n",
       "min      0.000000e+00\n",
       "25%      0.000000e+00\n",
       "50%      0.000000e+00\n",
       "75%      2.343200e+04\n",
       "max      2.600000e+12\n",
       "Name: price_amount, dtype: float64"
      ]
     },
     "execution_count": 18,
     "metadata": {},
     "output_type": "execute_result"
    }
   ],
   "source": [
    "acquisition['price_amount'].describe()"
   ]
  },
  {
   "cell_type": "markdown",
   "metadata": {},
   "source": [
    "Много нулевых значений при отсутствии пропусков в данных, 50 процентиль 0, но и максимальные суммы покупки компании впечатляют - 2 600 000 000 000!\n",
    "\n",
    "Посмотрим на оставшиеся датасеты.\n"
   ]
  },
  {
   "cell_type": "code",
   "execution_count": 19,
   "metadata": {
    "scrolled": true
   },
   "outputs": [
    {
     "data": {
      "text/html": [
       "<div>\n",
       "<style scoped>\n",
       "    .dataframe tbody tr th:only-of-type {\n",
       "        vertical-align: middle;\n",
       "    }\n",
       "\n",
       "    .dataframe tbody tr th {\n",
       "        vertical-align: top;\n",
       "    }\n",
       "\n",
       "    .dataframe thead th {\n",
       "        text-align: right;\n",
       "    }\n",
       "</style>\n",
       "<table border=\"1\" class=\"dataframe\">\n",
       "  <thead>\n",
       "    <tr style=\"text-align: right;\">\n",
       "      <th></th>\n",
       "      <th>id</th>\n",
       "      <th>first_name</th>\n",
       "      <th>last_name</th>\n",
       "      <th>company_id</th>\n",
       "      <th>network_username</th>\n",
       "    </tr>\n",
       "  </thead>\n",
       "  <tbody>\n",
       "    <tr>\n",
       "      <th>0</th>\n",
       "      <td>10</td>\n",
       "      <td>Mark</td>\n",
       "      <td>Zuckerberg</td>\n",
       "      <td>5.0</td>\n",
       "      <td>NaN</td>\n",
       "    </tr>\n",
       "    <tr>\n",
       "      <th>1</th>\n",
       "      <td>100</td>\n",
       "      <td>Peter</td>\n",
       "      <td>Lester</td>\n",
       "      <td>27.0</td>\n",
       "      <td>NaN</td>\n",
       "    </tr>\n",
       "    <tr>\n",
       "      <th>2</th>\n",
       "      <td>1000</td>\n",
       "      <td>Dr. Steven</td>\n",
       "      <td>E. Saunders</td>\n",
       "      <td>292.0</td>\n",
       "      <td>NaN</td>\n",
       "    </tr>\n",
       "    <tr>\n",
       "      <th>3</th>\n",
       "      <td>10000</td>\n",
       "      <td>Neil</td>\n",
       "      <td>Capel</td>\n",
       "      <td>2526.0</td>\n",
       "      <td>NaN</td>\n",
       "    </tr>\n",
       "    <tr>\n",
       "      <th>4</th>\n",
       "      <td>100000</td>\n",
       "      <td>Sue</td>\n",
       "      <td>Pilsch</td>\n",
       "      <td>NaN</td>\n",
       "      <td>NaN</td>\n",
       "    </tr>\n",
       "  </tbody>\n",
       "</table>\n",
       "</div>"
      ],
      "text/plain": [
       "       id  first_name    last_name  company_id network_username\n",
       "0      10        Mark   Zuckerberg         5.0              NaN\n",
       "1     100       Peter       Lester        27.0              NaN\n",
       "2    1000  Dr. Steven  E. Saunders       292.0              NaN\n",
       "3   10000        Neil        Capel      2526.0              NaN\n",
       "4  100000         Sue       Pilsch         NaN              NaN"
      ]
     },
     "execution_count": 19,
     "metadata": {},
     "output_type": "execute_result"
    }
   ],
   "source": [
    "people.head()"
   ]
  },
  {
   "cell_type": "code",
   "execution_count": 20,
   "metadata": {},
   "outputs": [
    {
     "name": "stdout",
     "output_type": "stream",
     "text": [
      "<class 'pandas.core.frame.DataFrame'>\n",
      "RangeIndex: 226709 entries, 0 to 226708\n",
      "Data columns (total 5 columns):\n",
      " #   Column            Non-Null Count   Dtype  \n",
      "---  ------            --------------   -----  \n",
      " 0   id                226709 non-null  int64  \n",
      " 1   first_name        226704 non-null  object \n",
      " 2   last_name         226708 non-null  object \n",
      " 3   company_id        34615 non-null   float64\n",
      " 4   network_username  38867 non-null   object \n",
      "dtypes: float64(1), int64(1), object(3)\n",
      "memory usage: 8.6+ MB\n"
     ]
    }
   ],
   "source": [
    "people.info()"
   ]
  },
  {
   "cell_type": "code",
   "execution_count": 21,
   "metadata": {},
   "outputs": [
    {
     "data": {
      "text/plain": [
       "226708"
      ]
     },
     "execution_count": 21,
     "metadata": {},
     "output_type": "execute_result"
    }
   ],
   "source": [
    "people['id'].nunique()"
   ]
  },
  {
   "cell_type": "markdown",
   "metadata": {},
   "source": [
    "В `people` 5 столбцов и 226709 строк. \n",
    "Столбцы названы корректно. Пропуски в имени незначительные, но есть многие сотрудники без наименования компании и никнейма. \n",
    "По типам данных столбец `company_id` надо привеcти к целочисленному типу, остальные корректные.\n",
    "Cудя по первому знакомству с данными, значения в столбцах соответствуют своему описанию. \n",
    "Уникальных идентификаторов сотрудников 226708 - столько же, сколько строк без заголовка.  "
   ]
  },
  {
   "cell_type": "markdown",
   "metadata": {},
   "source": [
    "В проекте используется несколько датасетов. При этом проверка данных довольно однотипная, т. е. можно автоматизировать анализ данных написав для этого отдельную функцию (или несколько функций), которая будет выводить общую информацию о датафрейме, подсчитывать процент пропусков по столбцам, проверять наличия дубликатов, подсчитывать число уникальных занчений в данных и т. д.\n",
    "    \n",
    "Ниже привожу пример такой функции:\n",
    "    \n",
    "```\n",
    "def lookup_datasets(dfs, filenames=None):\n",
    "    \"\"\"\n",
    "    Выводит информацию о датасетах из списка\n",
    "\n",
    "    Parameters:\n",
    "        dfs (list of pd.DataFrame): Список датафреймов для обработки.\n",
    "        filenames (list of str): Список названий файлов (имена для отображения).\n",
    "    \"\"\"\n",
    "    if filenames is None:\n",
    "        filenames = [f\"df_{i + 1}\" for i in range(len(dfs))]\n",
    "\n",
    "    for df, df_name in zip(dfs, filenames):\n",
    "        print('-'*10,' '*5, df_name, ' '*5, '-'*10)\n",
    "\n",
    "        # Пропущенные значения\n",
    "        missing_data = df.isna().mean()\n",
    "        missing_data_result = missing_data.apply(lambda x: f'{x:.2%}' if x > 0 else \"\")\n",
    "        missing_data_name = \"Пропущено\" if missing_data.sum() > 0 else \"\"\n",
    "        missing_data_result.name = missing_data_name\n",
    "\n",
    "        # Типы данных\n",
    "        dtypes_result = df.dtypes\n",
    "        dtypes_result.name = \"Тип данных колонки\"\n",
    "        fewest_nans_row = df.iloc[1:-1].isna().sum(axis=1).idxmin()\n",
    "\n",
    "        values_type = df.loc[fewest_nans_row].map(type).T\n",
    "        values_type.name = \"Тип значения\"\n",
    "\n",
    "        # Объединяем результаты и пример данных\n",
    "        result = pd.concat([\n",
    "            dtypes_result, # типы\n",
    "            values_type, # типы значений\n",
    "            missing_data_result, # пропущенные значения\n",
    "            df.iloc[0, :], # первая строка\n",
    "            df.loc[fewest_nans_row].T, # полная строка\n",
    "            df.iloc[-1, :] # последняя строка\n",
    "        ], axis=1)\n",
    "\n",
    "        display(result)\n",
    "\n",
    "        # Проверка на полные дубликаты\n",
    "        duplicates = df.duplicated().mean()\n",
    "        if duplicates > 0:\n",
    "            print(f'Полных дубликатов: {duplicates:.2%}')\n",
    "\n",
    "        print()\n",
    "\n",
    "# Проводим автоматический осмотр данных\n",
    "column_counts = lookup_datasets(dfs.values(), dfs.keys())\n",
    "```\n"
   ]
  },
  {
   "cell_type": "code",
   "execution_count": 22,
   "metadata": {},
   "outputs": [
    {
     "data": {
      "text/html": [
       "<div>\n",
       "<style scoped>\n",
       "    .dataframe tbody tr th:only-of-type {\n",
       "        vertical-align: middle;\n",
       "    }\n",
       "\n",
       "    .dataframe tbody tr th {\n",
       "        vertical-align: top;\n",
       "    }\n",
       "\n",
       "    .dataframe thead th {\n",
       "        text-align: right;\n",
       "    }\n",
       "</style>\n",
       "<table border=\"1\" class=\"dataframe\">\n",
       "  <thead>\n",
       "    <tr style=\"text-align: right;\">\n",
       "      <th></th>\n",
       "      <th>id</th>\n",
       "      <th>person_id</th>\n",
       "      <th>instituition</th>\n",
       "      <th>graduated_at</th>\n",
       "    </tr>\n",
       "  </thead>\n",
       "  <tbody>\n",
       "    <tr>\n",
       "      <th>0</th>\n",
       "      <td>1</td>\n",
       "      <td>6117</td>\n",
       "      <td>NaN</td>\n",
       "      <td>NaN</td>\n",
       "    </tr>\n",
       "    <tr>\n",
       "      <th>1</th>\n",
       "      <td>2</td>\n",
       "      <td>6136</td>\n",
       "      <td>Washington University, St. Louis</td>\n",
       "      <td>1990-01-01</td>\n",
       "    </tr>\n",
       "    <tr>\n",
       "      <th>2</th>\n",
       "      <td>3</td>\n",
       "      <td>6136</td>\n",
       "      <td>Boston University</td>\n",
       "      <td>1992-01-01</td>\n",
       "    </tr>\n",
       "    <tr>\n",
       "      <th>3</th>\n",
       "      <td>4</td>\n",
       "      <td>6005</td>\n",
       "      <td>University of Greenwich</td>\n",
       "      <td>2006-01-01</td>\n",
       "    </tr>\n",
       "    <tr>\n",
       "      <th>4</th>\n",
       "      <td>5</td>\n",
       "      <td>5832</td>\n",
       "      <td>Rice University</td>\n",
       "      <td>NaN</td>\n",
       "    </tr>\n",
       "  </tbody>\n",
       "</table>\n",
       "</div>"
      ],
      "text/plain": [
       "   id  person_id                      instituition graduated_at\n",
       "0   1       6117                               NaN          NaN\n",
       "1   2       6136  Washington University, St. Louis   1990-01-01\n",
       "2   3       6136                 Boston University   1992-01-01\n",
       "3   4       6005           University of Greenwich   2006-01-01\n",
       "4   5       5832                   Rice University          NaN"
      ]
     },
     "execution_count": 22,
     "metadata": {},
     "output_type": "execute_result"
    }
   ],
   "source": [
    "education.head()"
   ]
  },
  {
   "cell_type": "code",
   "execution_count": 23,
   "metadata": {},
   "outputs": [
    {
     "name": "stdout",
     "output_type": "stream",
     "text": [
      "<class 'pandas.core.frame.DataFrame'>\n",
      "RangeIndex: 109610 entries, 0 to 109609\n",
      "Data columns (total 4 columns):\n",
      " #   Column        Non-Null Count   Dtype \n",
      "---  ------        --------------   ----- \n",
      " 0   id            109610 non-null  int64 \n",
      " 1   person_id     109610 non-null  int64 \n",
      " 2   instituition  109555 non-null  object\n",
      " 3   graduated_at  58054 non-null   object\n",
      "dtypes: int64(2), object(2)\n",
      "memory usage: 3.3+ MB\n"
     ]
    }
   ],
   "source": [
    "education.info()"
   ]
  },
  {
   "cell_type": "code",
   "execution_count": 24,
   "metadata": {},
   "outputs": [
    {
     "data": {
      "text/plain": [
       "68451"
      ]
     },
     "execution_count": 24,
     "metadata": {},
     "output_type": "execute_result"
    }
   ],
   "source": [
    "education['person_id'].nunique()"
   ]
  },
  {
   "cell_type": "markdown",
   "metadata": {},
   "source": [
    "В `education` 4 столбцa и 109610 строк.   \n",
    "И типы данных, и названия корректные. Пропуски в институте и годе окончания, не думаю, что имеют значение для анализа.  \n",
    "Столбец `graduated_at` стоит привести к datetime при необходимости в анализе.\n",
    "Cудя по первому знакомству с данными, значения в столбцах соответствуют своему описанию.  \n",
    "Обратим внимание, что число сотрудников с указанным образованием, полученных через уникальные значения в 'person_id'- 68 451, значительно меньше, чем id сотрудников в датафрейме `people` - 226 708."
   ]
  },
  {
   "cell_type": "code",
   "execution_count": 25,
   "metadata": {},
   "outputs": [
    {
     "data": {
      "text/html": [
       "<div>\n",
       "<style scoped>\n",
       "    .dataframe tbody tr th:only-of-type {\n",
       "        vertical-align: middle;\n",
       "    }\n",
       "\n",
       "    .dataframe tbody tr th {\n",
       "        vertical-align: top;\n",
       "    }\n",
       "\n",
       "    .dataframe thead th {\n",
       "        text-align: right;\n",
       "    }\n",
       "</style>\n",
       "<table border=\"1\" class=\"dataframe\">\n",
       "  <thead>\n",
       "    <tr style=\"text-align: right;\">\n",
       "      <th></th>\n",
       "      <th>id</th>\n",
       "      <th>object_id</th>\n",
       "      <th>degree_type</th>\n",
       "      <th>subject</th>\n",
       "    </tr>\n",
       "  </thead>\n",
       "  <tbody>\n",
       "    <tr>\n",
       "      <th>0</th>\n",
       "      <td>1</td>\n",
       "      <td>p:6117</td>\n",
       "      <td>MBA</td>\n",
       "      <td>NaN</td>\n",
       "    </tr>\n",
       "    <tr>\n",
       "      <th>1</th>\n",
       "      <td>2</td>\n",
       "      <td>p:6136</td>\n",
       "      <td>BA</td>\n",
       "      <td>English, French</td>\n",
       "    </tr>\n",
       "    <tr>\n",
       "      <th>2</th>\n",
       "      <td>3</td>\n",
       "      <td>p:6136</td>\n",
       "      <td>MS</td>\n",
       "      <td>Mass Communication</td>\n",
       "    </tr>\n",
       "    <tr>\n",
       "      <th>3</th>\n",
       "      <td>4</td>\n",
       "      <td>p:6005</td>\n",
       "      <td>MS</td>\n",
       "      <td>Internet Technology</td>\n",
       "    </tr>\n",
       "    <tr>\n",
       "      <th>4</th>\n",
       "      <td>5</td>\n",
       "      <td>p:5832</td>\n",
       "      <td>BCS</td>\n",
       "      <td>Computer Science, Psychology</td>\n",
       "    </tr>\n",
       "  </tbody>\n",
       "</table>\n",
       "</div>"
      ],
      "text/plain": [
       "   id object_id degree_type                       subject\n",
       "0   1    p:6117         MBA                           NaN\n",
       "1   2    p:6136          BA               English, French\n",
       "2   3    p:6136          MS            Mass Communication\n",
       "3   4    p:6005          MS           Internet Technology\n",
       "4   5    p:5832         BCS  Computer Science, Psychology"
      ]
     },
     "execution_count": 25,
     "metadata": {},
     "output_type": "execute_result"
    }
   ],
   "source": [
    "degrees.head()"
   ]
  },
  {
   "cell_type": "code",
   "execution_count": 26,
   "metadata": {},
   "outputs": [
    {
     "name": "stdout",
     "output_type": "stream",
     "text": [
      "<class 'pandas.core.frame.DataFrame'>\n",
      "RangeIndex: 109610 entries, 0 to 109609\n",
      "Data columns (total 4 columns):\n",
      " #   Column       Non-Null Count   Dtype \n",
      "---  ------       --------------   ----- \n",
      " 0   id           109610 non-null  int64 \n",
      " 1   object_id    109610 non-null  object\n",
      " 2   degree_type  98392 non-null   object\n",
      " 3   subject      81298 non-null   object\n",
      "dtypes: int64(1), object(3)\n",
      "memory usage: 3.3+ MB\n"
     ]
    }
   ],
   "source": [
    "degrees.info()"
   ]
  },
  {
   "cell_type": "markdown",
   "metadata": {},
   "source": [
    "В `degrees` 4 столбцa и 109610 строк - ровно как в `education`.\n",
    "И типы данных, и названия корректные на 1 взгляд. \n",
    "Но! Обратим внимание на содержание столбца `object_id`: в нем идентификатор сотрудника прописан как p:6117. Надо убрать p: и в дальнейшем привести к целочисленному типу данных этот столбец из object.\n",
    "Пропуски в институте `degree_type` и `subject`-посмотрим, необходимо ли с ними проводить работу по ходу анализа.\n",
    "Cудя по первому знакомству с данными, значения в столбцах соответствуют своему описанию."
   ]
  },
  {
   "cell_type": "markdown",
   "metadata": {
    "id": "mg2gEwh0rJg0"
   },
   "source": [
    "### 1.2. Смена типов и анализ пропусков\n",
    "\n",
    "Обработаем типы данных в столбцах, которые хранят значения даты и времени - в датасетах, где это необходимо для анализа:  `company_and_rounds` для столбцов `founded_at`, `closed_at`, `funded_at`. Сначала приведем к типу datetime, далее выделяем год - тип данных станет float64, значит затем преобразуем год в целочисленный формат. Пропуски будеи менять на зашлушки=0, иначе код выдает ошибку.\n",
    "\n",
    "Аналогично поработаем в датасете `acquisition` со столбцом `acquired_at`."
   ]
  },
  {
   "cell_type": "code",
   "execution_count": 27,
   "metadata": {},
   "outputs": [
    {
     "name": "stdout",
     "output_type": "stream",
     "text": [
      "<class 'pandas.core.frame.DataFrame'>\n",
      "RangeIndex: 217774 entries, 0 to 217773\n",
      "Data columns (total 22 columns):\n",
      " #   Column               Non-Null Count   Dtype  \n",
      "---  ------               --------------   -----  \n",
      " 0   company_ID           217472 non-null  float64\n",
      " 1   name                 217472 non-null  object \n",
      " 2   category_code        143886 non-null  object \n",
      " 3   status               217472 non-null  object \n",
      " 4   founded_at           217774 non-null  int64  \n",
      " 5   closed_at            217774 non-null  int64  \n",
      " 6   domain               147159 non-null  object \n",
      " 7   network_username     95534 non-null   object \n",
      " 8   country_code         108607 non-null  object \n",
      " 9   investment_rounds    217472 non-null  float64\n",
      " 10  funding_rounds       217472 non-null  float64\n",
      " 11  funding_total        217472 non-null  float64\n",
      " 12  milestones           217472 non-null  float64\n",
      " 13  funding_round_id     52928 non-null   float64\n",
      " 14  company_id           52928 non-null   float64\n",
      " 15  funded_at            217774 non-null  int64  \n",
      " 16  funding_round_type   52928 non-null   object \n",
      " 17  raised_amount        52928 non-null   float64\n",
      " 18  pre_money_valuation  52928 non-null   float64\n",
      " 19  participants         52928 non-null   float64\n",
      " 20  is_first_round       52928 non-null   float64\n",
      " 21  is_last_round        52928 non-null   float64\n",
      "dtypes: float64(12), int64(3), object(7)\n",
      "memory usage: 36.6+ MB\n"
     ]
    }
   ],
   "source": [
    "# Конвертация в datetime и выделение года из даты\n",
    "for col in ['founded_at','closed_at','funded_at']:\n",
    "    company_and_rounds[col] = pd.to_datetime(company_and_rounds[col]).dt.year   \n",
    "    company_and_rounds[col]=company_and_rounds[col].fillna(0).astype(int)  # необходимо заменить пропуски, иначе выдает ошибку\n",
    "# Вывод итога обработки\n",
    "company_and_rounds.info()\n"
   ]
  },
  {
   "cell_type": "code",
   "execution_count": 28,
   "metadata": {},
   "outputs": [
    {
     "name": "stdout",
     "output_type": "stream",
     "text": [
      "<class 'pandas.core.frame.DataFrame'>\n",
      "RangeIndex: 9407 entries, 0 to 9406\n",
      "Data columns (total 6 columns):\n",
      " #   Column                Non-Null Count  Dtype \n",
      "---  ------                --------------  ----- \n",
      " 0   id                    9407 non-null   int64 \n",
      " 1   acquiring_company_id  9407 non-null   int64 \n",
      " 2   acquired_company_id   9407 non-null   int64 \n",
      " 3   term_code             1831 non-null   object\n",
      " 4   price_amount          9407 non-null   int64 \n",
      " 5   acquired_at           9407 non-null   int64 \n",
      "dtypes: int64(5), object(1)\n",
      "memory usage: 441.1+ KB\n"
     ]
    },
    {
     "data": {
      "text/html": [
       "<div>\n",
       "<style scoped>\n",
       "    .dataframe tbody tr th:only-of-type {\n",
       "        vertical-align: middle;\n",
       "    }\n",
       "\n",
       "    .dataframe tbody tr th {\n",
       "        vertical-align: top;\n",
       "    }\n",
       "\n",
       "    .dataframe thead th {\n",
       "        text-align: right;\n",
       "    }\n",
       "</style>\n",
       "<table border=\"1\" class=\"dataframe\">\n",
       "  <thead>\n",
       "    <tr style=\"text-align: right;\">\n",
       "      <th></th>\n",
       "      <th>id</th>\n",
       "      <th>acquiring_company_id</th>\n",
       "      <th>acquired_company_id</th>\n",
       "      <th>term_code</th>\n",
       "      <th>price_amount</th>\n",
       "      <th>acquired_at</th>\n",
       "    </tr>\n",
       "  </thead>\n",
       "  <tbody>\n",
       "    <tr>\n",
       "      <th>0</th>\n",
       "      <td>1</td>\n",
       "      <td>11</td>\n",
       "      <td>10</td>\n",
       "      <td>NaN</td>\n",
       "      <td>20000000</td>\n",
       "      <td>2007</td>\n",
       "    </tr>\n",
       "    <tr>\n",
       "      <th>1</th>\n",
       "      <td>7</td>\n",
       "      <td>59</td>\n",
       "      <td>72</td>\n",
       "      <td>cash</td>\n",
       "      <td>60000000</td>\n",
       "      <td>2007</td>\n",
       "    </tr>\n",
       "    <tr>\n",
       "      <th>2</th>\n",
       "      <td>8</td>\n",
       "      <td>24</td>\n",
       "      <td>132</td>\n",
       "      <td>cash</td>\n",
       "      <td>280000000</td>\n",
       "      <td>2007</td>\n",
       "    </tr>\n",
       "    <tr>\n",
       "      <th>3</th>\n",
       "      <td>9</td>\n",
       "      <td>59</td>\n",
       "      <td>155</td>\n",
       "      <td>cash</td>\n",
       "      <td>100000000</td>\n",
       "      <td>2007</td>\n",
       "    </tr>\n",
       "    <tr>\n",
       "      <th>4</th>\n",
       "      <td>10</td>\n",
       "      <td>212</td>\n",
       "      <td>215</td>\n",
       "      <td>cash</td>\n",
       "      <td>25000000</td>\n",
       "      <td>2007</td>\n",
       "    </tr>\n",
       "  </tbody>\n",
       "</table>\n",
       "</div>"
      ],
      "text/plain": [
       "   id  acquiring_company_id  acquired_company_id term_code  price_amount  \\\n",
       "0   1                    11                   10       NaN      20000000   \n",
       "1   7                    59                   72      cash      60000000   \n",
       "2   8                    24                  132      cash     280000000   \n",
       "3   9                    59                  155      cash     100000000   \n",
       "4  10                   212                  215      cash      25000000   \n",
       "\n",
       "   acquired_at  \n",
       "0         2007  \n",
       "1         2007  \n",
       "2         2007  \n",
       "3         2007  \n",
       "4         2007  "
      ]
     },
     "execution_count": 28,
     "metadata": {},
     "output_type": "execute_result"
    }
   ],
   "source": [
    "# Конвертация в datetime и выделение года из даты\n",
    "acquisition['acquired_at'] = pd.to_datetime(acquisition['acquired_at']).dt.year   \n",
    "acquisition['acquired_at']=acquisition['acquired_at'].fillna(0).astype(int)\n",
    "\n",
    "# Вывод итога обработки\n",
    "acquisition.info()\n",
    "acquisition.head()"
   ]
  },
  {
   "cell_type": "markdown",
   "metadata": {},
   "source": [
    "Отлично, с типом даты и времени в 2 датасетах разобрались, теперь указаны только года, что подходит для анализа, теперь перейдем к отработке типов данных в `company_and_rounds`:"
   ]
  },
  {
   "cell_type": "code",
   "execution_count": 29,
   "metadata": {},
   "outputs": [],
   "source": [
    "for colu in ['company_ID', 'company_id', \n",
    "             'investment_rounds', 'funding_rounds', 'milestones', 'participants', \n",
    "             'is_first_round','is_last_round',]:\n",
    "    company_and_rounds[colu] = company_and_rounds[colu].fillna(-1).astype(int)\n",
    "    company_and_rounds[colu] = pd.to_numeric(company_and_rounds[colu], downcast='integer')\n"
   ]
  },
  {
   "cell_type": "code",
   "execution_count": 30,
   "metadata": {},
   "outputs": [
    {
     "name": "stdout",
     "output_type": "stream",
     "text": [
      "<class 'pandas.core.frame.DataFrame'>\n",
      "RangeIndex: 217774 entries, 0 to 217773\n",
      "Data columns (total 22 columns):\n",
      " #   Column               Non-Null Count   Dtype  \n",
      "---  ------               --------------   -----  \n",
      " 0   company_ID           217774 non-null  int32  \n",
      " 1   name                 217472 non-null  object \n",
      " 2   category_code        143886 non-null  object \n",
      " 3   status               217472 non-null  object \n",
      " 4   founded_at           217774 non-null  int64  \n",
      " 5   closed_at            217774 non-null  int64  \n",
      " 6   domain               147159 non-null  object \n",
      " 7   network_username     95534 non-null   object \n",
      " 8   country_code         108607 non-null  object \n",
      " 9   investment_rounds    217774 non-null  int16  \n",
      " 10  funding_rounds       217774 non-null  int8   \n",
      " 11  funding_total        217472 non-null  float64\n",
      " 12  milestones           217774 non-null  int8   \n",
      " 13  funding_round_id     52928 non-null   float64\n",
      " 14  company_id           217774 non-null  int32  \n",
      " 15  funded_at            217774 non-null  int64  \n",
      " 16  funding_round_type   52928 non-null   object \n",
      " 17  raised_amount        52928 non-null   float64\n",
      " 18  pre_money_valuation  52928 non-null   float64\n",
      " 19  participants         217774 non-null  int8   \n",
      " 20  is_first_round       217774 non-null  int8   \n",
      " 21  is_last_round        217774 non-null  int8   \n",
      "dtypes: float64(4), int16(1), int32(2), int64(3), int8(5), object(7)\n",
      "memory usage: 26.4+ MB\n"
     ]
    }
   ],
   "source": [
    "company_and_rounds.info()"
   ]
  },
  {
   "cell_type": "markdown",
   "metadata": {},
   "source": [
    "Для столбцов `investment_rounds`, `funding_rounds`, `milestones`, `participants` вместо float64 установлен подходящий оптимальный int. Булевые значения в столбцах `is_first_round` и `is_last_round` приведены к int8.  \n",
    "Столбцы `company_ID`, `company_id` приведены к int32.\n",
    "\n",
    "Данные стали как будто полнее, но отчасти за счет заглушек - установили их в значении -1.\n",
    "Пропуски не удаляем совсем, максимально сохраняем данные на текущем этапе.\n",
    "\n"
   ]
  },
  {
   "cell_type": "markdown",
   "metadata": {},
   "source": [
    "В `people` столбец `company_id` также приводим к целочисленному типу."
   ]
  },
  {
   "cell_type": "code",
   "execution_count": 31,
   "metadata": {},
   "outputs": [
    {
     "name": "stdout",
     "output_type": "stream",
     "text": [
      "<class 'pandas.core.frame.DataFrame'>\n",
      "RangeIndex: 226709 entries, 0 to 226708\n",
      "Data columns (total 5 columns):\n",
      " #   Column            Non-Null Count   Dtype \n",
      "---  ------            --------------   ----- \n",
      " 0   id                226709 non-null  int64 \n",
      " 1   first_name        226704 non-null  object\n",
      " 2   last_name         226708 non-null  object\n",
      " 3   company_id        226709 non-null  int32 \n",
      " 4   network_username  38867 non-null   object\n",
      "dtypes: int32(1), int64(1), object(3)\n",
      "memory usage: 7.8+ MB\n"
     ]
    }
   ],
   "source": [
    "people['company_id'] = people['company_id'].fillna(-1).astype(int)\n",
    "people['company_id'] = pd.to_numeric(people['company_id'], downcast='integer')\n",
    "\n",
    "# Проверяем коррекность замены\n",
    "people.info()"
   ]
  },
  {
   "cell_type": "markdown",
   "metadata": {},
   "source": [
    "`company_id` приведен к int32. \n",
    "\n",
    "В `degrees` поработаем со столбцом `object_id`: приводим к целочисленному типу ячейки типа \"p:6117\" "
   ]
  },
  {
   "cell_type": "code",
   "execution_count": 32,
   "metadata": {
    "id": "5Sg2O8zNnzKc",
    "scrolled": true
   },
   "outputs": [
    {
     "name": "stdout",
     "output_type": "stream",
     "text": [
      "<class 'pandas.core.frame.DataFrame'>\n",
      "RangeIndex: 109610 entries, 0 to 109609\n",
      "Data columns (total 4 columns):\n",
      " #   Column       Non-Null Count   Dtype \n",
      "---  ------       --------------   ----- \n",
      " 0   id           109610 non-null  int64 \n",
      " 1   object_id    109610 non-null  int64 \n",
      " 2   degree_type  98392 non-null   object\n",
      " 3   subject      81298 non-null   object\n",
      "dtypes: int64(2), object(2)\n",
      "memory usage: 3.3+ MB\n"
     ]
    },
    {
     "data": {
      "text/html": [
       "<div>\n",
       "<style scoped>\n",
       "    .dataframe tbody tr th:only-of-type {\n",
       "        vertical-align: middle;\n",
       "    }\n",
       "\n",
       "    .dataframe tbody tr th {\n",
       "        vertical-align: top;\n",
       "    }\n",
       "\n",
       "    .dataframe thead th {\n",
       "        text-align: right;\n",
       "    }\n",
       "</style>\n",
       "<table border=\"1\" class=\"dataframe\">\n",
       "  <thead>\n",
       "    <tr style=\"text-align: right;\">\n",
       "      <th></th>\n",
       "      <th>id</th>\n",
       "      <th>object_id</th>\n",
       "      <th>degree_type</th>\n",
       "      <th>subject</th>\n",
       "    </tr>\n",
       "  </thead>\n",
       "  <tbody>\n",
       "    <tr>\n",
       "      <th>0</th>\n",
       "      <td>1</td>\n",
       "      <td>6117</td>\n",
       "      <td>MBA</td>\n",
       "      <td>NaN</td>\n",
       "    </tr>\n",
       "    <tr>\n",
       "      <th>1</th>\n",
       "      <td>2</td>\n",
       "      <td>6136</td>\n",
       "      <td>BA</td>\n",
       "      <td>English, French</td>\n",
       "    </tr>\n",
       "    <tr>\n",
       "      <th>2</th>\n",
       "      <td>3</td>\n",
       "      <td>6136</td>\n",
       "      <td>MS</td>\n",
       "      <td>Mass Communication</td>\n",
       "    </tr>\n",
       "  </tbody>\n",
       "</table>\n",
       "</div>"
      ],
      "text/plain": [
       "   id  object_id degree_type             subject\n",
       "0   1       6117         MBA                 NaN\n",
       "1   2       6136          BA     English, French\n",
       "2   3       6136          MS  Mass Communication"
      ]
     },
     "execution_count": 32,
     "metadata": {},
     "output_type": "execute_result"
    }
   ],
   "source": [
    "# Использование str.replace для удаления 'р:'\n",
    "degrees['object_id']=degrees['object_id'].astype(str)\n",
    "degrees['object_id']=degrees['object_id'].str.replace('p:', '')\n",
    "# Преобразуем в int\n",
    "degrees['object_id']=degrees['object_id'].astype(int)\n",
    "# Проверяем коррекность замены\n",
    "degrees.info()\n",
    "degrees.head(3)"
   ]
  },
  {
   "cell_type": "markdown",
   "metadata": {},
   "source": [
    "Удачно прошла замена значений в столбце `object_id` и приведение к int.\n",
    "\n",
    "Теперь во всех таблицах столбцы, необхоимые для анализа, приведены к корректному типу данных, пропуски в ряде столбцов заменены на заглушки. "
   ]
  },
  {
   "cell_type": "markdown",
   "metadata": {
    "id": "u60cHsn6rJg1"
   },
   "source": [
    "## Шаг 2. Предобработка данных, предварительное исследование"
   ]
  },
  {
   "cell_type": "markdown",
   "metadata": {
    "id": "g2bHIIjcrJg1"
   },
   "source": [
    "\n",
    "### 2.1. Раунды финансирования по годам\n",
    "\n",
    "* Составим сводную таблицу по годам, в которой на основании столбца `raised_amount` для каждого года указан:\n",
    "\n",
    "  * типичный размер средств, выделяемый в рамках одного раунда;\n",
    "  * общее количество раундов финансирования за этот год.\n",
    "  \n",
    "* Оставьте в таблице информацию только для тех лет, для которых есть информация о более чем 50 раундах финансирования.\n",
    "  \n",
    " Выполняем без объединения и дополнительной предобработки на основе датасета `company_and_rounds.csv`.\n",
    " \n",
    " Для удосбства работы с цифрами, разделим значения `raised_amount` на 1 000 000 и будем считать в млн.долл.\n",
    "\n"
   ]
  },
  {
   "cell_type": "code",
   "execution_count": 33,
   "metadata": {},
   "outputs": [
    {
     "data": {
      "text/html": [
       "<div>\n",
       "<style scoped>\n",
       "    .dataframe tbody tr th:only-of-type {\n",
       "        vertical-align: middle;\n",
       "    }\n",
       "\n",
       "    .dataframe tbody tr th {\n",
       "        vertical-align: top;\n",
       "    }\n",
       "\n",
       "    .dataframe thead th {\n",
       "        text-align: right;\n",
       "    }\n",
       "</style>\n",
       "<table border=\"1\" class=\"dataframe\">\n",
       "  <thead>\n",
       "    <tr style=\"text-align: right;\">\n",
       "      <th></th>\n",
       "      <th>typical_amount</th>\n",
       "      <th>rounds_count</th>\n",
       "    </tr>\n",
       "    <tr>\n",
       "      <th>funded_at</th>\n",
       "      <th></th>\n",
       "      <th></th>\n",
       "    </tr>\n",
       "  </thead>\n",
       "  <tbody>\n",
       "    <tr>\n",
       "      <th>1999</th>\n",
       "      <td>2000000.0</td>\n",
       "      <td>76</td>\n",
       "    </tr>\n",
       "    <tr>\n",
       "      <th>2000</th>\n",
       "      <td>4200000.0</td>\n",
       "      <td>125</td>\n",
       "    </tr>\n",
       "    <tr>\n",
       "      <th>2001</th>\n",
       "      <td>3000000.0</td>\n",
       "      <td>96</td>\n",
       "    </tr>\n",
       "    <tr>\n",
       "      <th>2002</th>\n",
       "      <td>4200000.0</td>\n",
       "      <td>116</td>\n",
       "    </tr>\n",
       "    <tr>\n",
       "      <th>2003</th>\n",
       "      <td>3000000.0</td>\n",
       "      <td>159</td>\n",
       "    </tr>\n",
       "    <tr>\n",
       "      <th>2004</th>\n",
       "      <td>5000000.0</td>\n",
       "      <td>291</td>\n",
       "    </tr>\n",
       "    <tr>\n",
       "      <th>2005</th>\n",
       "      <td>5500000.0</td>\n",
       "      <td>1633</td>\n",
       "    </tr>\n",
       "    <tr>\n",
       "      <th>2006</th>\n",
       "      <td>5000000.0</td>\n",
       "      <td>2436</td>\n",
       "    </tr>\n",
       "    <tr>\n",
       "      <th>2007</th>\n",
       "      <td>3973320.0</td>\n",
       "      <td>3279</td>\n",
       "    </tr>\n",
       "    <tr>\n",
       "      <th>2008</th>\n",
       "      <td>3110000.0</td>\n",
       "      <td>3774</td>\n",
       "    </tr>\n",
       "    <tr>\n",
       "      <th>2009</th>\n",
       "      <td>2000000.0</td>\n",
       "      <td>4151</td>\n",
       "    </tr>\n",
       "    <tr>\n",
       "      <th>2010</th>\n",
       "      <td>1602500.0</td>\n",
       "      <td>6221</td>\n",
       "    </tr>\n",
       "    <tr>\n",
       "      <th>2011</th>\n",
       "      <td>1200000.0</td>\n",
       "      <td>9204</td>\n",
       "    </tr>\n",
       "    <tr>\n",
       "      <th>2012</th>\n",
       "      <td>1000000.0</td>\n",
       "      <td>9970</td>\n",
       "    </tr>\n",
       "    <tr>\n",
       "      <th>2013</th>\n",
       "      <td>1200000.0</td>\n",
       "      <td>11072</td>\n",
       "    </tr>\n",
       "  </tbody>\n",
       "</table>\n",
       "</div>"
      ],
      "text/plain": [
       "           typical_amount  rounds_count\n",
       "funded_at                              \n",
       "1999            2000000.0            76\n",
       "2000            4200000.0           125\n",
       "2001            3000000.0            96\n",
       "2002            4200000.0           116\n",
       "2003            3000000.0           159\n",
       "2004            5000000.0           291\n",
       "2005            5500000.0          1633\n",
       "2006            5000000.0          2436\n",
       "2007            3973320.0          3279\n",
       "2008            3110000.0          3774\n",
       "2009            2000000.0          4151\n",
       "2010            1602500.0          6221\n",
       "2011            1200000.0          9204\n",
       "2012            1000000.0          9970\n",
       "2013            1200000.0         11072"
      ]
     },
     "execution_count": 33,
     "metadata": {},
     "output_type": "execute_result"
    }
   ],
   "source": [
    "# Фильтрация для исключения нулевых годов (убираем заглушки по годам)\n",
    "filtered_company_and_rounds = company_and_rounds[company_and_rounds['funded_at']>0]\n",
    "# Разделим значения raised_amount на 1 000 000 и будем считать в млн.долл.\n",
    "company_and_rounds['raised_amount']=company_and_rounds['raised_amount']/1000000\n",
    "# Составим сводную таблицу по годам\n",
    "rounds_by_years=pd.pivot_table(data=filtered_company_and_rounds, index='funded_at', \n",
    "                               values='raised_amount', aggfunc=['median', 'count'])\n",
    "# Переименуем столбцы для наглядности\n",
    "rounds_by_years.columns = ['typical_amount', 'rounds_count']\n",
    "# Фильтрация по условию более 50 раундов финансирования\n",
    "filtered_rounds_by_years = rounds_by_years[rounds_by_years['rounds_count'] > 50]\n",
    "# Выводим результат\n",
    "filtered_rounds_by_years"
   ]
  },
  {
   "cell_type": "markdown",
   "metadata": {},
   "source": [
    "В данных у нас есть выбросы, поэтому среднее значение нельзя использовать для оценки типичного размера финансирования и нужно использовать медиану. Это связано с тем, что среднее значение не будет показательно при наличии аномальных значений и распределении отличном от нормального. \n"
   ]
  },
  {
   "cell_type": "markdown",
   "metadata": {},
   "source": [
    "На основе получившейся таблицы построим график, который будет отражать динамику типичного размера средств (взяли медиану), которые стартапы получали в рамках одного раунда финансирования.\n"
   ]
  },
  {
   "cell_type": "code",
   "execution_count": 34,
   "metadata": {},
   "outputs": [
    {
     "data": {
      "image/png": "[encoded data removed]",
      "text/plain": [
       "<Figure size 720x432 with 2 Axes>"
      ]
     },
     "metadata": {},
     "output_type": "display_data"
    }
   ],
   "source": [
    "# Построение графика с двумя осями Y\n",
    "fig, ax1 = plt.subplots(figsize=(10, 6))\n",
    "\n",
    "# Первая ось Y (левой)\n",
    "ax1.set_xlabel('Год')\n",
    "ax1.set_ylabel('Типичный размер средств в млн. долл.', color='b')\n",
    "ax1.plot(filtered_rounds_by_years.index, filtered_rounds_by_years['typical_amount'], marker='o', linestyle='-', color='b')\n",
    "ax1.tick_params(axis='y', labelcolor='b')\n",
    "\n",
    "# Создание второй оси Y (правой)\n",
    "ax2 = ax1.twinx()  \n",
    "ax2.set_ylabel('Количество раундов', color='r')  \n",
    "ax2.plot(filtered_rounds_by_years.index, filtered_rounds_by_years['rounds_count'], marker='o', linestyle='-', color='salmon')\n",
    "ax2.tick_params(axis='y', labelcolor='salmon')\n",
    "\n",
    "# Заголовок графика\n",
    "plt.title('Динамика типичного размера средств и количества раундов финансирования')\n",
    "plt.grid()\n",
    "\n",
    "# Отображение графика\n",
    "plt.tight_layout()\n",
    "plt.show()"
   ]
  },
  {
   "cell_type": "markdown",
   "metadata": {
    "id": "HB81GTA9n04M"
   },
   "source": [
    "##### На основе полученных данных ответим на вопросы:\n",
    "\n",
    "* Типичный размер собранных в рамках одного раунда средств был максимален в 2005 году.\n",
    "\n",
    "* В 2013 году произошло увеличение по количеству раундов (нарастающая тенденция с 2004 года, рост был постоянный) и выделяемых в рамках каждого раунда средств, при этом это это был перелом постоянного падения: с 2005 года до 2012 года наюблюдалось постепенное падение типичного размера средств."
   ]
  },
  {
   "cell_type": "markdown",
   "metadata": {
    "id": "45if1en1rJg2"
   },
   "source": [
    "\n",
    "### 2.2. Люди и их образование\n",
    "\n",
    "Заказчик хочет понять, зависит ли полнота сведений о сотрудниках (например, об их образовании) от размера компаний. Оценим:\n",
    "\n",
    "* насколько информация об образовании сотрудников полна. Используя датасеты `people.csv` и `education.csv`, разделите все компании на несколько групп по количеству сотрудников и оцените среднюю долю сотрудников без информации об образовании в каждой из групп. Обоснуйте выбранные границы групп.\n",
    "\n",
    "* возможно ли для выполнения задания присоединить к этим таблицам ещё и таблицу `degrees.csv`."
   ]
  },
  {
   "cell_type": "markdown",
   "metadata": {
    "id": "psPO7C4MrJg2"
   },
   "source": [
    "Сразу заметим, что объединить возможно все три таблицы, так как во всех них идентификатор сотрудника:\n",
    "- в `education` person_id — идентификатор работника,  \n",
    "- в `people` id — идентификатор сотрудника,  \n",
    "- в `degrees` object_id — идентификатор сотрудника.\n",
    "\n",
    "Будем последовательное объединение: сначала первые 2 талицы, затем к ним - `degrees`. Присоединять будем к таюлице `people`, поскольку запрос идет именно на сотрудников, поэтому максимально сохраняем инормацию о сотрудниках, а уже дальше информация об образовании, используем left-присоединение.\n",
    "\n",
    "Также заметим, что нам необходимо исключить дублирование столбцов с идетификатором сотрудника и можем удалить столбец  `id` - идентификатор записи  в `degrees`, а также\tid — идентификатор записи об образовании в `education` для исключения дублирования в названии с id сотрудника в `people`.\n"
   ]
  },
  {
   "cell_type": "code",
   "execution_count": 35,
   "metadata": {
    "id": "xdQ6H5ZSn1ZM",
    "scrolled": true
   },
   "outputs": [
    {
     "name": "stdout",
     "output_type": "stream",
     "text": [
      "<class 'pandas.core.frame.DataFrame'>\n",
      "Int64Index: 370836 entries, 0 to 370835\n",
      "Data columns (total 9 columns):\n",
      " #   Column            Non-Null Count   Dtype \n",
      "---  ------            --------------   ----- \n",
      " 0   id                370836 non-null  int64 \n",
      " 1   first_name        370831 non-null  object\n",
      " 2   last_name         370835 non-null  object\n",
      " 3   company_id        370836 non-null  int32 \n",
      " 4   network_username  81529 non-null   object\n",
      " 5   instituition      212109 non-null  object\n",
      " 6   graduated_at      113991 non-null  object\n",
      " 7   degree_type       190722 non-null  object\n",
      " 8   subject           156477 non-null  object\n",
      "dtypes: int32(1), int64(1), object(7)\n",
      "memory usage: 26.9+ MB\n"
     ]
    }
   ],
   "source": [
    "# Удаление столбца id в degrees и education для исключения дублирования в названии с id сотрудника в people.\n",
    "degrees.drop(columns=['id'], inplace=True)\n",
    "education.drop(columns=['id'], inplace=True)\n",
    "\n",
    "# Объединяем датафреймы\n",
    "ed_peop_df = people.merge(education, left_on='id', right_on='person_id', how='left')\n",
    "ed_peop_deg_df = ed_peop_df.merge(degrees, left_on='id', right_on='object_id', how='left')\n",
    "\n",
    "# Удаление повторяющихся столбцов\n",
    "ed_peop_deg_df.drop(columns=['person_id', 'object_id'], inplace=True)\n",
    "\n",
    "# Вывод информации о получившемся датафрейме\n",
    "ed_peop_deg_df.info()\n"
   ]
  },
  {
   "cell_type": "code",
   "execution_count": 36,
   "metadata": {},
   "outputs": [
    {
     "data": {
      "text/html": [
       "<div>\n",
       "<style scoped>\n",
       "    .dataframe tbody tr th:only-of-type {\n",
       "        vertical-align: middle;\n",
       "    }\n",
       "\n",
       "    .dataframe tbody tr th {\n",
       "        vertical-align: top;\n",
       "    }\n",
       "\n",
       "    .dataframe thead th {\n",
       "        text-align: right;\n",
       "    }\n",
       "</style>\n",
       "<table border=\"1\" class=\"dataframe\">\n",
       "  <thead>\n",
       "    <tr style=\"text-align: right;\">\n",
       "      <th></th>\n",
       "      <th>id</th>\n",
       "      <th>first_name</th>\n",
       "      <th>last_name</th>\n",
       "      <th>company_id</th>\n",
       "      <th>network_username</th>\n",
       "      <th>instituition</th>\n",
       "      <th>graduated_at</th>\n",
       "      <th>degree_type</th>\n",
       "      <th>subject</th>\n",
       "    </tr>\n",
       "  </thead>\n",
       "  <tbody>\n",
       "    <tr>\n",
       "      <th>0</th>\n",
       "      <td>10</td>\n",
       "      <td>Mark</td>\n",
       "      <td>Zuckerberg</td>\n",
       "      <td>5</td>\n",
       "      <td>NaN</td>\n",
       "      <td>Harvard University</td>\n",
       "      <td>NaN</td>\n",
       "      <td>NaN</td>\n",
       "      <td>Computer Science</td>\n",
       "    </tr>\n",
       "    <tr>\n",
       "      <th>1</th>\n",
       "      <td>100</td>\n",
       "      <td>Peter</td>\n",
       "      <td>Lester</td>\n",
       "      <td>27</td>\n",
       "      <td>NaN</td>\n",
       "      <td>NaN</td>\n",
       "      <td>NaN</td>\n",
       "      <td>NaN</td>\n",
       "      <td>NaN</td>\n",
       "    </tr>\n",
       "    <tr>\n",
       "      <th>2</th>\n",
       "      <td>1000</td>\n",
       "      <td>Dr. Steven</td>\n",
       "      <td>E. Saunders</td>\n",
       "      <td>292</td>\n",
       "      <td>NaN</td>\n",
       "      <td>NaN</td>\n",
       "      <td>NaN</td>\n",
       "      <td>NaN</td>\n",
       "      <td>NaN</td>\n",
       "    </tr>\n",
       "  </tbody>\n",
       "</table>\n",
       "</div>"
      ],
      "text/plain": [
       "     id  first_name    last_name  company_id network_username  \\\n",
       "0    10        Mark   Zuckerberg           5              NaN   \n",
       "1   100       Peter       Lester          27              NaN   \n",
       "2  1000  Dr. Steven  E. Saunders         292              NaN   \n",
       "\n",
       "         instituition graduated_at degree_type           subject  \n",
       "0  Harvard University          NaN         NaN  Computer Science  \n",
       "1                 NaN          NaN         NaN               NaN  \n",
       "2                 NaN          NaN         NaN               NaN  "
      ]
     },
     "execution_count": 36,
     "metadata": {},
     "output_type": "execute_result"
    }
   ],
   "source": [
    "ed_peop_deg_df.head(3)"
   ]
  },
  {
   "cell_type": "markdown",
   "metadata": {},
   "source": [
    "Итак, id - идентификатор сотрудника, в получившемся датафрейме 370836 строк, то есть сотрудников, сведений о образовании меньше, но прежде чем ответить на вопросы заказчика, т.е. работать с пропусками в сведениях об образовании, надо проверить дубликаты и удалить их при совпадении одновременно в id, имени и фамилии сотрудника."
   ]
  },
  {
   "cell_type": "code",
   "execution_count": 37,
   "metadata": {},
   "outputs": [
    {
     "data": {
      "text/plain": [
       "144128"
      ]
     },
     "execution_count": 37,
     "metadata": {},
     "output_type": "execute_result"
    }
   ],
   "source": [
    "# Ищем дубликаты\n",
    "ed_peop_deg_df.duplicated(subset=['id','first_name', 'last_name'], keep='first').sum()"
   ]
  },
  {
   "cell_type": "markdown",
   "metadata": {},
   "source": [
    "Дубликатов слишком много...При удалении дубликатов по сотруднику может остаться неактуальная информация, так как может остаться запись с отсутствующим образованием и удалиться запись с образованием, а значит, будет потеря данных. Также у 1 человека может быть несколько образований, например.\n",
    "В связи с чем удалим только явные дубликаты."
   ]
  },
  {
   "cell_type": "code",
   "execution_count": 38,
   "metadata": {},
   "outputs": [
    {
     "data": {
      "text/html": [
       "<div>\n",
       "<style scoped>\n",
       "    .dataframe tbody tr th:only-of-type {\n",
       "        vertical-align: middle;\n",
       "    }\n",
       "\n",
       "    .dataframe tbody tr th {\n",
       "        vertical-align: top;\n",
       "    }\n",
       "\n",
       "    .dataframe thead th {\n",
       "        text-align: right;\n",
       "    }\n",
       "</style>\n",
       "<table border=\"1\" class=\"dataframe\">\n",
       "  <thead>\n",
       "    <tr style=\"text-align: right;\">\n",
       "      <th></th>\n",
       "      <th>id</th>\n",
       "      <th>first_name</th>\n",
       "      <th>last_name</th>\n",
       "      <th>company_id</th>\n",
       "      <th>network_username</th>\n",
       "      <th>instituition</th>\n",
       "      <th>graduated_at</th>\n",
       "      <th>degree_type</th>\n",
       "      <th>subject</th>\n",
       "    </tr>\n",
       "  </thead>\n",
       "  <tbody>\n",
       "    <tr>\n",
       "      <th>0</th>\n",
       "      <td>10</td>\n",
       "      <td>Mark</td>\n",
       "      <td>Zuckerberg</td>\n",
       "      <td>5</td>\n",
       "      <td>NaN</td>\n",
       "      <td>Harvard University</td>\n",
       "      <td>NaN</td>\n",
       "      <td>NaN</td>\n",
       "      <td>Computer Science</td>\n",
       "    </tr>\n",
       "    <tr>\n",
       "      <th>1</th>\n",
       "      <td>100</td>\n",
       "      <td>Peter</td>\n",
       "      <td>Lester</td>\n",
       "      <td>27</td>\n",
       "      <td>NaN</td>\n",
       "      <td>NaN</td>\n",
       "      <td>NaN</td>\n",
       "      <td>NaN</td>\n",
       "      <td>NaN</td>\n",
       "    </tr>\n",
       "    <tr>\n",
       "      <th>2</th>\n",
       "      <td>1000</td>\n",
       "      <td>Dr. Steven</td>\n",
       "      <td>E. Saunders</td>\n",
       "      <td>292</td>\n",
       "      <td>NaN</td>\n",
       "      <td>NaN</td>\n",
       "      <td>NaN</td>\n",
       "      <td>NaN</td>\n",
       "      <td>NaN</td>\n",
       "    </tr>\n",
       "    <tr>\n",
       "      <th>3</th>\n",
       "      <td>10000</td>\n",
       "      <td>Neil</td>\n",
       "      <td>Capel</td>\n",
       "      <td>2526</td>\n",
       "      <td>NaN</td>\n",
       "      <td>NaN</td>\n",
       "      <td>NaN</td>\n",
       "      <td>NaN</td>\n",
       "      <td>NaN</td>\n",
       "    </tr>\n",
       "    <tr>\n",
       "      <th>4</th>\n",
       "      <td>100000</td>\n",
       "      <td>Sue</td>\n",
       "      <td>Pilsch</td>\n",
       "      <td>-1</td>\n",
       "      <td>NaN</td>\n",
       "      <td>NaN</td>\n",
       "      <td>NaN</td>\n",
       "      <td>NaN</td>\n",
       "      <td>NaN</td>\n",
       "    </tr>\n",
       "    <tr>\n",
       "      <th>...</th>\n",
       "      <td>...</td>\n",
       "      <td>...</td>\n",
       "      <td>...</td>\n",
       "      <td>...</td>\n",
       "      <td>...</td>\n",
       "      <td>...</td>\n",
       "      <td>...</td>\n",
       "      <td>...</td>\n",
       "      <td>...</td>\n",
       "    </tr>\n",
       "    <tr>\n",
       "      <th>370831</th>\n",
       "      <td>99999</td>\n",
       "      <td>Ramon</td>\n",
       "      <td>Peypoch</td>\n",
       "      <td>-1</td>\n",
       "      <td>NaN</td>\n",
       "      <td>NaN</td>\n",
       "      <td>NaN</td>\n",
       "      <td>NaN</td>\n",
       "      <td>NaN</td>\n",
       "    </tr>\n",
       "    <tr>\n",
       "      <th>370832</th>\n",
       "      <td>174088</td>\n",
       "      <td>Dr. Ray</td>\n",
       "      <td>Woods</td>\n",
       "      <td>188200</td>\n",
       "      <td>network</td>\n",
       "      <td>Sydney University Medical School</td>\n",
       "      <td>1982-01-01</td>\n",
       "      <td>M.B.B.S.</td>\n",
       "      <td>Medicine</td>\n",
       "    </tr>\n",
       "    <tr>\n",
       "      <th>370833</th>\n",
       "      <td>118386</td>\n",
       "      <td>Ricardo</td>\n",
       "      <td>Durand</td>\n",
       "      <td>143419</td>\n",
       "      <td>itechsocialnet</td>\n",
       "      <td>ESCS</td>\n",
       "      <td>2004-01-01</td>\n",
       "      <td>PhD</td>\n",
       "      <td>Journalism</td>\n",
       "    </tr>\n",
       "    <tr>\n",
       "      <th>370834</th>\n",
       "      <td>175827</td>\n",
       "      <td>mahesh</td>\n",
       "      <td>kumar</td>\n",
       "      <td>-1</td>\n",
       "      <td>socialnethubs</td>\n",
       "      <td>NaN</td>\n",
       "      <td>NaN</td>\n",
       "      <td>NaN</td>\n",
       "      <td>NaN</td>\n",
       "    </tr>\n",
       "    <tr>\n",
       "      <th>370835</th>\n",
       "      <td>178190</td>\n",
       "      <td>Alex</td>\n",
       "      <td>Smith</td>\n",
       "      <td>-1</td>\n",
       "      <td>esocialnetlike</td>\n",
       "      <td>NaN</td>\n",
       "      <td>NaN</td>\n",
       "      <td>NaN</td>\n",
       "      <td>NaN</td>\n",
       "    </tr>\n",
       "  </tbody>\n",
       "</table>\n",
       "<p>354869 rows × 9 columns</p>\n",
       "</div>"
      ],
      "text/plain": [
       "            id  first_name    last_name  company_id network_username  \\\n",
       "0           10        Mark   Zuckerberg           5              NaN   \n",
       "1          100       Peter       Lester          27              NaN   \n",
       "2         1000  Dr. Steven  E. Saunders         292              NaN   \n",
       "3        10000        Neil        Capel        2526              NaN   \n",
       "4       100000         Sue       Pilsch          -1              NaN   \n",
       "...        ...         ...          ...         ...              ...   \n",
       "370831   99999       Ramon      Peypoch          -1              NaN   \n",
       "370832  174088     Dr. Ray        Woods      188200          network   \n",
       "370833  118386     Ricardo       Durand      143419   itechsocialnet   \n",
       "370834  175827      mahesh        kumar          -1    socialnethubs   \n",
       "370835  178190        Alex        Smith          -1   esocialnetlike   \n",
       "\n",
       "                            instituition graduated_at degree_type  \\\n",
       "0                     Harvard University          NaN         NaN   \n",
       "1                                    NaN          NaN         NaN   \n",
       "2                                    NaN          NaN         NaN   \n",
       "3                                    NaN          NaN         NaN   \n",
       "4                                    NaN          NaN         NaN   \n",
       "...                                  ...          ...         ...   \n",
       "370831                               NaN          NaN         NaN   \n",
       "370832  Sydney University Medical School   1982-01-01    M.B.B.S.   \n",
       "370833                              ESCS   2004-01-01         PhD   \n",
       "370834                               NaN          NaN         NaN   \n",
       "370835                               NaN          NaN         NaN   \n",
       "\n",
       "                 subject  \n",
       "0       Computer Science  \n",
       "1                    NaN  \n",
       "2                    NaN  \n",
       "3                    NaN  \n",
       "4                    NaN  \n",
       "...                  ...  \n",
       "370831               NaN  \n",
       "370832          Medicine  \n",
       "370833        Journalism  \n",
       "370834               NaN  \n",
       "370835               NaN  \n",
       "\n",
       "[354869 rows x 9 columns]"
      ]
     },
     "execution_count": 38,
     "metadata": {},
     "output_type": "execute_result"
    }
   ],
   "source": [
    "ed_peop_deg_df.drop_duplicates(keep='first')"
   ]
  },
  {
   "cell_type": "markdown",
   "metadata": {},
   "source": [
    "Посмотрим на долю пропусков в столбцах."
   ]
  },
  {
   "cell_type": "code",
   "execution_count": 39,
   "metadata": {
    "scrolled": true
   },
   "outputs": [
    {
     "data": {
      "text/plain": [
       "network_username    0.780148\n",
       "graduated_at        0.692611\n",
       "subject             0.578043\n",
       "degree_type         0.485697\n",
       "instituition        0.428025\n",
       "first_name          0.000013\n",
       "last_name           0.000003\n",
       "id                  0.000000\n",
       "company_id          0.000000\n",
       "dtype: float64"
      ]
     },
     "execution_count": 39,
     "metadata": {},
     "output_type": "execute_result"
    }
   ],
   "source": [
    "ed_peop_deg_df.isna().mean().sort_values(ascending=False)"
   ]
  },
  {
   "cell_type": "markdown",
   "metadata": {},
   "source": [
    "Можем оценить, насколько информация об образовании сотрудников полна:  \n",
    "•\tdegree_type — тип образования - 49% пропусков.  \n",
    "•\tsubject — специальность - 58% пропусков.  \n",
    "•\tinstituition — название учебного заведения - 43% пропусков.  \n",
    "•\tgraduated_at — дата получения образования - 69% пропусков.  \n",
    "Таким образом, данные об образовании далеко не полные, но будем работать с тем, что есть.\n",
    "\n",
    "Теперь разделим все компании на несколько групп по количеству сотрудников и оценим среднюю долю сотрудников без информации об образовании в каждой из групп. \n",
    "Для определения границ групп необходимо посмотреть, сколько сотрудников у нас числится в каждой компании, сгруппируем данные по компаниям. "
   ]
  },
  {
   "cell_type": "code",
   "execution_count": 40,
   "metadata": {},
   "outputs": [
    {
     "data": {
      "text/html": [
       "<div>\n",
       "<style scoped>\n",
       "    .dataframe tbody tr th:only-of-type {\n",
       "        vertical-align: middle;\n",
       "    }\n",
       "\n",
       "    .dataframe tbody tr th {\n",
       "        vertical-align: top;\n",
       "    }\n",
       "\n",
       "    .dataframe thead th {\n",
       "        text-align: right;\n",
       "    }\n",
       "</style>\n",
       "<table border=\"1\" class=\"dataframe\">\n",
       "  <thead>\n",
       "    <tr style=\"text-align: right;\">\n",
       "      <th></th>\n",
       "      <th>company_id</th>\n",
       "      <th>employee_count</th>\n",
       "    </tr>\n",
       "  </thead>\n",
       "  <tbody>\n",
       "    <tr>\n",
       "      <th>0</th>\n",
       "      <td>-1</td>\n",
       "      <td>299967</td>\n",
       "    </tr>\n",
       "    <tr>\n",
       "      <th>1</th>\n",
       "      <td>59</td>\n",
       "      <td>722</td>\n",
       "    </tr>\n",
       "    <tr>\n",
       "      <th>2</th>\n",
       "      <td>29</td>\n",
       "      <td>393</td>\n",
       "    </tr>\n",
       "    <tr>\n",
       "      <th>3</th>\n",
       "      <td>1242</td>\n",
       "      <td>320</td>\n",
       "    </tr>\n",
       "    <tr>\n",
       "      <th>4</th>\n",
       "      <td>231067</td>\n",
       "      <td>195</td>\n",
       "    </tr>\n",
       "    <tr>\n",
       "      <th>...</th>\n",
       "      <td>...</td>\n",
       "      <td>...</td>\n",
       "    </tr>\n",
       "    <tr>\n",
       "      <th>22918</th>\n",
       "      <td>192866</td>\n",
       "      <td>1</td>\n",
       "    </tr>\n",
       "    <tr>\n",
       "      <th>22919</th>\n",
       "      <td>225618</td>\n",
       "      <td>1</td>\n",
       "    </tr>\n",
       "    <tr>\n",
       "      <th>22920</th>\n",
       "      <td>13975</td>\n",
       "      <td>1</td>\n",
       "    </tr>\n",
       "    <tr>\n",
       "      <th>22921</th>\n",
       "      <td>18073</td>\n",
       "      <td>1</td>\n",
       "    </tr>\n",
       "    <tr>\n",
       "      <th>22922</th>\n",
       "      <td>22539</td>\n",
       "      <td>1</td>\n",
       "    </tr>\n",
       "  </tbody>\n",
       "</table>\n",
       "<p>22923 rows × 2 columns</p>\n",
       "</div>"
      ],
      "text/plain": [
       "       company_id  employee_count\n",
       "0              -1          299967\n",
       "1              59             722\n",
       "2              29             393\n",
       "3            1242             320\n",
       "4          231067             195\n",
       "...           ...             ...\n",
       "22918      192866               1\n",
       "22919      225618               1\n",
       "22920       13975               1\n",
       "22921       18073               1\n",
       "22922       22539               1\n",
       "\n",
       "[22923 rows x 2 columns]"
      ]
     },
     "execution_count": 40,
     "metadata": {},
     "output_type": "execute_result"
    }
   ],
   "source": [
    "# Подсчет количества сотрудников в каждой компании\n",
    "employee_count = ed_peop_deg_df['company_id'].value_counts().reset_index()\n",
    "employee_count.columns = ['company_id', 'employee_count']\n",
    "employee_count "
   ]
  },
  {
   "cell_type": "markdown",
   "metadata": {},
   "source": [
    "В выдаче обратим внимание: большое количество сотрудников в компании -1: сработала наша заглушка, эти данные уберем фильтрацией.\n",
    "Также заметим на большое количество 1 в последних строках. Выведем уникальное количеством столбца с количсетвом сотрудников и на основании этого примем решении о том, КАК нам делаить на группы компании."
   ]
  },
  {
   "cell_type": "code",
   "execution_count": 41,
   "metadata": {},
   "outputs": [
    {
     "data": {
      "text/plain": [
       "array([722, 393, 320, 195, 177, 167, 138, 121, 116, 112, 103, 102,  94,\n",
       "        90,  87,  86,  83,  81,  80,  78,  76,  73,  67,  65,  64,  60,\n",
       "        59,  58,  57,  55,  54,  53,  52,  50,  49,  48,  47,  46,  45,\n",
       "        44,  42,  41,  40,  39,  38,  37,  36,  35,  34,  33,  32,  31,\n",
       "        30,  29,  28,  27,  26,  25,  24,  23,  22,  21,  20,  19,  18,\n",
       "        17,  16,  15,  14,  13,  12,  11,  10,   9,   8,   7,   6,   5,\n",
       "         4,   3,   2,   1])"
      ]
     },
     "execution_count": 41,
     "metadata": {},
     "output_type": "execute_result"
    }
   ],
   "source": [
    "employee_count=employee_count[employee_count['company_id']!=-1]\n",
    "employee_count['employee_count'].unique()"
   ]
  },
  {
   "cell_type": "markdown",
   "metadata": {},
   "source": [
    "Уникальных значений не так уж много, но компаний с 1 человеком в конце сортировки как будто много? проверим сколько. "
   ]
  },
  {
   "cell_type": "code",
   "execution_count": 42,
   "metadata": {
    "scrolled": true
   },
   "outputs": [
    {
     "data": {
      "text/plain": [
       "14150"
      ]
     },
     "execution_count": 42,
     "metadata": {},
     "output_type": "execute_result"
    }
   ],
   "source": [
    "# Узнаем количество компаний с 1 сотрудником через фильтрацю строк, где employee_count = 1\n",
    "count_of_a_employee_companies = len(employee_count[employee_count['employee_count'] == 1])\n",
    "count_of_a_employee_companies"
   ]
  },
  {
   "cell_type": "markdown",
   "metadata": {},
   "source": [
    "Достаточно большое количество компаний с 1 сотрудником - 18116 (из 22921 строк). Целесообразно выделить такие компании в отдельную группу.\n",
    "Скорее всего, если речь идет о стартапах - это не про большое количество сотрудников, в связи с чем выделим и условно назовем \"некрупные компании\" с количеством сотрудников до 5, а остальные назовем \"крупные компании\" с количеством 5 и более. Используем функцию для определения категории компании."
   ]
  },
  {
   "cell_type": "code",
   "execution_count": 43,
   "metadata": {
    "scrolled": true
   },
   "outputs": [
    {
     "data": {
      "text/html": [
       "<div>\n",
       "<style scoped>\n",
       "    .dataframe tbody tr th:only-of-type {\n",
       "        vertical-align: middle;\n",
       "    }\n",
       "\n",
       "    .dataframe tbody tr th {\n",
       "        vertical-align: top;\n",
       "    }\n",
       "\n",
       "    .dataframe thead th {\n",
       "        text-align: right;\n",
       "    }\n",
       "</style>\n",
       "<table border=\"1\" class=\"dataframe\">\n",
       "  <thead>\n",
       "    <tr style=\"text-align: right;\">\n",
       "      <th></th>\n",
       "      <th>company_id</th>\n",
       "      <th>employee_count</th>\n",
       "      <th>company_group</th>\n",
       "    </tr>\n",
       "  </thead>\n",
       "  <tbody>\n",
       "    <tr>\n",
       "      <th>1</th>\n",
       "      <td>59</td>\n",
       "      <td>722</td>\n",
       "      <td>Крупные компании</td>\n",
       "    </tr>\n",
       "    <tr>\n",
       "      <th>2</th>\n",
       "      <td>29</td>\n",
       "      <td>393</td>\n",
       "      <td>Крупные компании</td>\n",
       "    </tr>\n",
       "    <tr>\n",
       "      <th>3</th>\n",
       "      <td>1242</td>\n",
       "      <td>320</td>\n",
       "      <td>Крупные компании</td>\n",
       "    </tr>\n",
       "    <tr>\n",
       "      <th>4</th>\n",
       "      <td>231067</td>\n",
       "      <td>195</td>\n",
       "      <td>Крупные компании</td>\n",
       "    </tr>\n",
       "    <tr>\n",
       "      <th>5</th>\n",
       "      <td>4715</td>\n",
       "      <td>177</td>\n",
       "      <td>Крупные компании</td>\n",
       "    </tr>\n",
       "    <tr>\n",
       "      <th>...</th>\n",
       "      <td>...</td>\n",
       "      <td>...</td>\n",
       "      <td>...</td>\n",
       "    </tr>\n",
       "    <tr>\n",
       "      <th>22918</th>\n",
       "      <td>192866</td>\n",
       "      <td>1</td>\n",
       "      <td>Компании с 1 сотрудником</td>\n",
       "    </tr>\n",
       "    <tr>\n",
       "      <th>22919</th>\n",
       "      <td>225618</td>\n",
       "      <td>1</td>\n",
       "      <td>Компании с 1 сотрудником</td>\n",
       "    </tr>\n",
       "    <tr>\n",
       "      <th>22920</th>\n",
       "      <td>13975</td>\n",
       "      <td>1</td>\n",
       "      <td>Компании с 1 сотрудником</td>\n",
       "    </tr>\n",
       "    <tr>\n",
       "      <th>22921</th>\n",
       "      <td>18073</td>\n",
       "      <td>1</td>\n",
       "      <td>Компании с 1 сотрудником</td>\n",
       "    </tr>\n",
       "    <tr>\n",
       "      <th>22922</th>\n",
       "      <td>22539</td>\n",
       "      <td>1</td>\n",
       "      <td>Компании с 1 сотрудником</td>\n",
       "    </tr>\n",
       "  </tbody>\n",
       "</table>\n",
       "<p>22922 rows × 3 columns</p>\n",
       "</div>"
      ],
      "text/plain": [
       "       company_id  employee_count             company_group\n",
       "1              59             722          Крупные компании\n",
       "2              29             393          Крупные компании\n",
       "3            1242             320          Крупные компании\n",
       "4          231067             195          Крупные компании\n",
       "5            4715             177          Крупные компании\n",
       "...           ...             ...                       ...\n",
       "22918      192866               1  Компании с 1 сотрудником\n",
       "22919      225618               1  Компании с 1 сотрудником\n",
       "22920       13975               1  Компании с 1 сотрудником\n",
       "22921       18073               1  Компании с 1 сотрудником\n",
       "22922       22539               1  Компании с 1 сотрудником\n",
       "\n",
       "[22922 rows x 3 columns]"
      ]
     },
     "execution_count": 43,
     "metadata": {},
     "output_type": "execute_result"
    }
   ],
   "source": [
    "# Функция для определения группы по количеству сотрудников\n",
    "def category_company(row):\n",
    "    if row['employee_count'] == 1:\n",
    "        return 'Компании с 1 сотрудником'\n",
    "    elif 2 <= row['employee_count'] < 5:\n",
    "        return 'Некрупные компании'\n",
    "    else:\n",
    "        return 'Крупные компании'\n",
    "\n",
    "# Применение функции к DataFrame\n",
    "employee_count['company_group'] = employee_count.apply(category_company, axis=1)\n",
    "employee_count\n"
   ]
  },
  {
   "cell_type": "markdown",
   "metadata": {},
   "source": [
    "Считаем, что категориязация прошла успешно (равные группы выделить нереально - тк. компаний с 1 сотрудником много).\n",
    "Перейдем к анализу пропусков данных. Для этого необходимо столбец с группой компании company_group добавить в датафрейм ed_peop_deg_df и уже затем оценить долю пропусков через группировку."
   ]
  },
  {
   "cell_type": "code",
   "execution_count": 44,
   "metadata": {},
   "outputs": [
    {
     "name": "stdout",
     "output_type": "stream",
     "text": [
      "<class 'pandas.core.frame.DataFrame'>\n",
      "Int64Index: 370836 entries, 0 to 370835\n",
      "Data columns (total 11 columns):\n",
      " #   Column            Non-Null Count   Dtype  \n",
      "---  ------            --------------   -----  \n",
      " 0   id                370836 non-null  int64  \n",
      " 1   first_name        370831 non-null  object \n",
      " 2   last_name         370835 non-null  object \n",
      " 3   company_id        370836 non-null  int32  \n",
      " 4   network_username  81529 non-null   object \n",
      " 5   instituition      212109 non-null  object \n",
      " 6   graduated_at      113991 non-null  object \n",
      " 7   degree_type       190722 non-null  object \n",
      " 8   subject           156477 non-null  object \n",
      " 9   employee_count    70869 non-null   float64\n",
      " 10  company_group     70869 non-null   object \n",
      "dtypes: float64(1), int32(1), int64(1), object(8)\n",
      "memory usage: 32.5+ MB\n"
     ]
    }
   ],
   "source": [
    "# Объединяем датафреймы\n",
    "ed_peop_deg_df=ed_peop_deg_df.merge(employee_count, on='company_id', how='left')\n",
    "# Проверяем наличие новых столбцов в дополненном ed_peop_deg_df\n",
    "ed_peop_deg_df.info()"
   ]
  },
  {
   "cell_type": "markdown",
   "metadata": {},
   "source": [
    "Новый столбец 'company_group' добавлен, теперь сгруппируем компании с известным company_id (не забудем про заглушку -1) по выделенным группам в зависимости от числа сотрудников и посмотрим, какой процент пропусков есть в столбцах, которые могут нам сказать об образовании, а именно: 'instituition','degree_type','subject'.  Для каждой группы по указанным столбцам (x) вычисляем долю пропущенных значений с помощью isna().mean()."
   ]
  },
  {
   "cell_type": "code",
   "execution_count": 45,
   "metadata": {
    "scrolled": true
   },
   "outputs": [
    {
     "data": {
      "text/html": [
       "<div>\n",
       "<style scoped>\n",
       "    .dataframe tbody tr th:only-of-type {\n",
       "        vertical-align: middle;\n",
       "    }\n",
       "\n",
       "    .dataframe tbody tr th {\n",
       "        vertical-align: top;\n",
       "    }\n",
       "\n",
       "    .dataframe thead th {\n",
       "        text-align: right;\n",
       "    }\n",
       "</style>\n",
       "<table border=\"1\" class=\"dataframe\">\n",
       "  <thead>\n",
       "    <tr style=\"text-align: right;\">\n",
       "      <th></th>\n",
       "      <th>instituition</th>\n",
       "      <th>degree_type</th>\n",
       "      <th>subject</th>\n",
       "    </tr>\n",
       "    <tr>\n",
       "      <th>company_group</th>\n",
       "      <th></th>\n",
       "      <th></th>\n",
       "      <th></th>\n",
       "    </tr>\n",
       "  </thead>\n",
       "  <tbody>\n",
       "    <tr>\n",
       "      <th>Компании с 1 сотрудником</th>\n",
       "      <td>0.592862</td>\n",
       "      <td>0.639011</td>\n",
       "      <td>0.651166</td>\n",
       "    </tr>\n",
       "    <tr>\n",
       "      <th>Крупные компании</th>\n",
       "      <td>0.105291</td>\n",
       "      <td>0.200338</td>\n",
       "      <td>0.287240</td>\n",
       "    </tr>\n",
       "    <tr>\n",
       "      <th>Некрупные компании</th>\n",
       "      <td>0.209279</td>\n",
       "      <td>0.285941</td>\n",
       "      <td>0.355021</td>\n",
       "    </tr>\n",
       "  </tbody>\n",
       "</table>\n",
       "</div>"
      ],
      "text/plain": [
       "                          instituition  degree_type   subject\n",
       "company_group                                                \n",
       "Компании с 1 сотрудником      0.592862     0.639011  0.651166\n",
       "Крупные компании              0.105291     0.200338  0.287240\n",
       "Некрупные компании            0.209279     0.285941  0.355021"
      ]
     },
     "execution_count": 45,
     "metadata": {},
     "output_type": "execute_result"
    }
   ],
   "source": [
    "# фильтруем компании по заглушке в company_id =-1\n",
    "filtered_ed=ed_peop_deg_df[ed_peop_deg_df['company_id']!=-1]\n",
    "# Узнаем долю пропусков в сведениях об образовании, группируя по company_group\n",
    "miss_education = filtered_ed.groupby('company_group')['instituition','degree_type','subject'].apply(lambda x: x.isna().mean())\n",
    "\n",
    "miss_education"
   ]
  },
  {
   "cell_type": "code",
   "execution_count": 46,
   "metadata": {},
   "outputs": [
    {
     "data": {
      "image/png": "[encoded data removed]",
      "text/plain": [
       "<Figure size 432x288 with 1 Axes>"
      ]
     },
     "metadata": {
      "needs_background": "light"
     },
     "output_type": "display_data"
    }
   ],
   "source": [
    "miss_education.plot(kind='barh')\n",
    "plt.xlabel('Процент пропусков информации об образовании')\n",
    "plt.ylabel('Группа компаний')\n",
    "plt.title('Процент пропусков информации об образовании в зависимости от численности сотрудников комапнии\\n(некрупные до 5 сотрудников, крупные - от 5 и выше сотрудников)')\n",
    "plt.show()"
   ]
  },
  {
   "cell_type": "markdown",
   "metadata": {},
   "source": [
    "Можем сделать вывод, что пропуски есть во всех группах компаний, но процент пропусков в сведениях об образовании в компаниях с 1 сотрудником больше, чем у других, а крупные компании лучше следят за отражением данных об образовании."
   ]
  },
  {
   "cell_type": "markdown",
   "metadata": {},
   "source": [
    "### 2.3. Объединять или не объединять — вот в чём вопрос\n",
    "\n",
    "Некоторые названия столбцов встречаются в датасетах чаще других. И, например, в результате предварительной проверки датасетов было выяснено, что столбец `company_id` подходит для объединения данных, так как большая часть значений встречается в разных датасетах не один, а несколько раз. Этот столбец может быть использован для объединения данных.\n",
    "\n",
    "* Установим, подходит ли для объединения данных столбец `network_username`, который встречается в нескольких датасетах. Нам необходимо понимать, дублируется ли для разных датасетов информация в столбцах с таким названием, и если да — то насколько часто.\n",
    "\n",
    "* Оценим, можно ли использовать столбцы с именем `network_username` для объединения данных."
   ]
  },
  {
   "cell_type": "markdown",
   "metadata": {},
   "source": [
    "Столбец `network_username` встрчеается в `company_and_rounds` и `people`. С помощью pd.concat() создадим один общий датафрейм и подчситаем частоту повторений с помощью value_counts() + проанализируем количество дубликатов."
   ]
  },
  {
   "cell_type": "code",
   "execution_count": 47,
   "metadata": {
    "id": "Cf5IjfOQrJg1"
   },
   "outputs": [
    {
     "data": {
      "text/plain": [
       "Goodman_UK       20\n",
       "IndiaMART        17\n",
       "mobivery         15\n",
       "tyropayments     15\n",
       "network          14\n",
       "                 ..\n",
       "82apps            1\n",
       "practicology      1\n",
       "it_heroix         1\n",
       "chandansraj       1\n",
       "90degreemedia     1\n",
       "Name: network_username, Length: 115793, dtype: int64"
      ]
     },
     "execution_count": 47,
     "metadata": {},
     "output_type": "execute_result"
    }
   ],
   "source": [
    "# Объединим датафреймы\n",
    "full_df = pd.concat([company_and_rounds, people], ignore_index=True)\n",
    "# Подсчет количества появлений каждого network_username\n",
    "username_counts = full_df['network_username'].value_counts()\n",
    "username_counts"
   ]
  },
  {
   "cell_type": "code",
   "execution_count": 48,
   "metadata": {
    "id": "CilOkz-inz37",
    "scrolled": true
   },
   "outputs": [
    {
     "data": {
      "text/plain": [
       "104994"
      ]
     },
     "execution_count": 48,
     "metadata": {},
     "output_type": "execute_result"
    }
   ],
   "source": [
    "# Определение недубликатов (появляются 1 раз)\n",
    "not_duplicates = username_counts[username_counts == 1].sum()\n",
    "not_duplicates"
   ]
  },
  {
   "cell_type": "markdown",
   "metadata": {},
   "source": [
    "Из полученной информации сделаем вывод, что велико количество дубликатов - например, Goodman_UK встречается 20 раз, мы знаем, что дублировались строки с информацией об одном и том же участнике company_and_rounds (в том чиле никнейм) - для разных раундов финансирования, однако если таких повторений 20 - скорее всего здесь речь о дубликатах.\n",
    "А теперь посмотрим, что 1 раз встречается в объединенном датасете 104994 никнейма. То есть эти данные могут потеряться при объединении.  \n",
    "\n",
    "То есть нецелесообразно объединять таблицы по столбцу `network_username` в связи с:\n",
    "- возможной потерей информации,\n",
    "- формированием дубликатов, с которыми сложно будет дальше вести анализ."
   ]
  },
  {
   "cell_type": "markdown",
   "metadata": {
    "id": "EHcODomVrJg1"
   },
   "source": [
    "\n",
    "### 2.4. Проблемный датасет и причина возникновения пропусков\n",
    "\n",
    "Во время собственного анализа данных у заказчика больше всего вопросов возникло к датасету `company_and_rounds.csv`. В нём много пропусков как раз в информации о раундах, которая заказчику важна. Хотя информация об общем объёме финансирования по раундам присутствует в других датасетах, заказчик считает данные `company_and_rounds.csv` о размере средств наиболее верными.\n",
    "\n",
    "* Приведем данные в вид, который позволяет проводить анализ в разрезе отдельных компаний (можно изменять форму данных, порядок их хранения. Обращаем внимание на структуру датасета, порядок и названия столбцов, проанализируем значения).\n",
    "\n",
    "По гипотезе заказчика данные по компаниям из этой таблицы раньше хранились иначе, более удобным для исследования образом.\n",
    "\n",
    "* Максимальным образом сохраняя данные, сохранив их связность и исключив возможные возникающие при этом ошибки, подготовим данные так, чтобы удобно было отобрать компании по параметрам и рассчитать показатели из расчёта на одну компанию."
   ]
  },
  {
   "cell_type": "markdown",
   "metadata": {
    "id": "tJ6Sl6MKrJg1"
   },
   "source": [
    "При знакомстве с `company_and_rounds` было предположение об изначальном хранени информации в 2 разных датасетах, которые в итоге объединили с полным сохранением данных, но часть ячеек при этом остались с Nan. Также мы пришли в к выводу, что данные по столбцам `company_ID` и `company_id` совпадают: значит по ним сможем объединять.\n",
    "\n",
    "Повторим шаг с выводом информации по датафрейму, чтобы еще раз проанализировать, какие стоит сделать срезы, чтобы сделать 2 новых датафрейма и корректно их объединить в дальнейшем.Помним, что часть данных заполнены заглушками."
   ]
  },
  {
   "cell_type": "code",
   "execution_count": 49,
   "metadata": {
    "id": "SFfUmzron0Tc",
    "scrolled": true
   },
   "outputs": [
    {
     "name": "stdout",
     "output_type": "stream",
     "text": [
      "<class 'pandas.core.frame.DataFrame'>\n",
      "RangeIndex: 217774 entries, 0 to 217773\n",
      "Data columns (total 22 columns):\n",
      " #   Column               Non-Null Count   Dtype  \n",
      "---  ------               --------------   -----  \n",
      " 0   company_ID           217774 non-null  int32  \n",
      " 1   name                 217472 non-null  object \n",
      " 2   category_code        143886 non-null  object \n",
      " 3   status               217472 non-null  object \n",
      " 4   founded_at           217774 non-null  int64  \n",
      " 5   closed_at            217774 non-null  int64  \n",
      " 6   domain               147159 non-null  object \n",
      " 7   network_username     95534 non-null   object \n",
      " 8   country_code         108607 non-null  object \n",
      " 9   investment_rounds    217774 non-null  int16  \n",
      " 10  funding_rounds       217774 non-null  int8   \n",
      " 11  funding_total        217472 non-null  float64\n",
      " 12  milestones           217774 non-null  int8   \n",
      " 13  funding_round_id     52928 non-null   float64\n",
      " 14  company_id           217774 non-null  int32  \n",
      " 15  funded_at            217774 non-null  int64  \n",
      " 16  funding_round_type   52928 non-null   object \n",
      " 17  raised_amount        52928 non-null   float64\n",
      " 18  pre_money_valuation  52928 non-null   float64\n",
      " 19  participants         217774 non-null  int8   \n",
      " 20  is_first_round       217774 non-null  int8   \n",
      " 21  is_last_round        217774 non-null  int8   \n",
      "dtypes: float64(4), int16(1), int32(2), int64(3), int8(5), object(7)\n",
      "memory usage: 26.4+ MB\n"
     ]
    }
   ],
   "source": [
    "# Выводим информацию о датафрейме\n",
    "company_and_rounds.info()"
   ]
  },
  {
   "cell_type": "markdown",
   "metadata": {},
   "source": [
    "- с 1 по 12 столбец - это датафрейм с информацией о компаниях:    \n",
    "•\tcompany_ID — идентификатор компании.\n",
    "•\tname — название компании.\n",
    "•\tcategory_code — категория области деятельности компании.\n",
    "•\tstatus — статус компании.\n",
    "•\tfounded_at — дата инвестирования.\n",
    "•\tclosed_at — дата закрытия компании.\n",
    "•\tdomain — официальный сайт компании.\n",
    "•\tnetwork_username — ник компании в сети.\n",
    "•\tcountry_code — код страны компании.\n",
    "•\tinvestment_rounds — число инвестиционных раундов.\n",
    "•\tfunding_rounds — число раундов финансирования.\n",
    "•\tfunding_total — сумма финансирования.\n",
    "•\tmilestones — вехи финансирования.  \n",
    "\n",
    "\n",
    "- с 13 стоблца данные заполнены данными о раундах финансирования:  \n",
    "•\tfunding_round_id — идентификатор этапа финансирования.\n",
    "•\tcompany_id — идентификатор компании.\n",
    "•\tfunded_at — дата финансирования.\n",
    "•\tfunding_round_type — тип финансирования.\n",
    "•\traised_amount — сумма финансирования.\n",
    "•\tpre_money_valuation — предварительная денежная оценка.\n",
    "•\tparticipants — число участников.\n",
    "•\tis_first_round — является ли раунд первым.\n",
    "•\tis_last_round — является раунд последним.\n",
    "\n",
    "Разделяем на 2 датафрейма: `company`, `rounds`."
   ]
  },
  {
   "cell_type": "code",
   "execution_count": 50,
   "metadata": {},
   "outputs": [
    {
     "name": "stdout",
     "output_type": "stream",
     "text": [
      "<class 'pandas.core.frame.DataFrame'>\n",
      "RangeIndex: 217774 entries, 0 to 217773\n",
      "Data columns (total 13 columns):\n",
      " #   Column             Non-Null Count   Dtype  \n",
      "---  ------             --------------   -----  \n",
      " 0   company_ID         217774 non-null  int32  \n",
      " 1   name               217472 non-null  object \n",
      " 2   category_code      143886 non-null  object \n",
      " 3   status             217472 non-null  object \n",
      " 4   founded_at         217774 non-null  int64  \n",
      " 5   closed_at          217774 non-null  int64  \n",
      " 6   domain             147159 non-null  object \n",
      " 7   network_username   95534 non-null   object \n",
      " 8   country_code       108607 non-null  object \n",
      " 9   investment_rounds  217774 non-null  int16  \n",
      " 10  funding_rounds     217774 non-null  int8   \n",
      " 11  funding_total      217472 non-null  float64\n",
      " 12  milestones         217774 non-null  int8   \n",
      "dtypes: float64(1), int16(1), int32(1), int64(2), int8(2), object(6)\n",
      "memory usage: 16.6+ MB\n"
     ]
    }
   ],
   "source": [
    "company=company_and_rounds[['company_ID', \n",
    "                               'name', \n",
    "                               'category_code', \n",
    "                               'status', \n",
    "                               'founded_at', \n",
    "                               'closed_at', \n",
    "                               'domain', \n",
    "                               'network_username', \n",
    "                               'country_code', \n",
    "                               'investment_rounds', \n",
    "                               'funding_rounds', \n",
    "                               'funding_total', \n",
    "                               'milestones']]\n",
    "\n",
    "company.info()"
   ]
  },
  {
   "cell_type": "code",
   "execution_count": 51,
   "metadata": {
    "scrolled": true
   },
   "outputs": [],
   "source": [
    "rounds = company_and_rounds[['funding_round_id', \n",
    "                              'company_id', \n",
    "                              'funded_at', \n",
    "                              'funding_round_type', \n",
    "                              'raised_amount', \n",
    "                              'pre_money_valuation', \n",
    "                              'participants', \n",
    "                              'is_first_round', \n",
    "                              'is_last_round']]\n"
   ]
  },
  {
   "cell_type": "markdown",
   "metadata": {},
   "source": [
    "Теперь проверим и удалим явные дубликаты в обоих датафреймах."
   ]
  },
  {
   "cell_type": "code",
   "execution_count": 52,
   "metadata": {},
   "outputs": [
    {
     "data": {
      "text/plain": [
       "21220"
      ]
     },
     "execution_count": 52,
     "metadata": {},
     "output_type": "execute_result"
    }
   ],
   "source": [
    "# Прoверяем количество дубликатов в company\n",
    "company.duplicated().sum()\n"
   ]
  },
  {
   "cell_type": "code",
   "execution_count": 53,
   "metadata": {},
   "outputs": [
    {
     "data": {
      "text/plain": [
       "164845"
      ]
     },
     "execution_count": 53,
     "metadata": {},
     "output_type": "execute_result"
    }
   ],
   "source": [
    "# Прoверяем количество дубликатов в rounds\n",
    "rounds.duplicated().sum()\n"
   ]
  },
  {
   "cell_type": "code",
   "execution_count": 54,
   "metadata": {},
   "outputs": [],
   "source": [
    "# Удаляем дубликаты\n",
    "company=company.drop_duplicates()\n",
    "rounds=rounds.drop_duplicates()"
   ]
  },
  {
   "cell_type": "code",
   "execution_count": 55,
   "metadata": {},
   "outputs": [
    {
     "name": "stdout",
     "output_type": "stream",
     "text": [
      "<class 'pandas.core.frame.DataFrame'>\n",
      "Int64Index: 196554 entries, 0 to 217472\n",
      "Data columns (total 13 columns):\n",
      " #   Column             Non-Null Count   Dtype  \n",
      "---  ------             --------------   -----  \n",
      " 0   company_ID         196554 non-null  int32  \n",
      " 1   name               196553 non-null  object \n",
      " 2   category_code      123186 non-null  object \n",
      " 3   status             196553 non-null  object \n",
      " 4   founded_at         196554 non-null  int64  \n",
      " 5   closed_at          196554 non-null  int64  \n",
      " 6   domain             126545 non-null  object \n",
      " 7   network_username   80591 non-null   object \n",
      " 8   country_code       87990 non-null   object \n",
      " 9   investment_rounds  196554 non-null  int16  \n",
      " 10  funding_rounds     196554 non-null  int8   \n",
      " 11  funding_total      196553 non-null  float64\n",
      " 12  milestones         196554 non-null  int8   \n",
      "dtypes: float64(1), int16(1), int32(1), int64(2), int8(2), object(6)\n",
      "memory usage: 16.5+ MB\n"
     ]
    }
   ],
   "source": [
    "company.info()"
   ]
  },
  {
   "cell_type": "code",
   "execution_count": 56,
   "metadata": {},
   "outputs": [
    {
     "name": "stdout",
     "output_type": "stream",
     "text": [
      "<class 'pandas.core.frame.DataFrame'>\n",
      "Int64Index: 52929 entries, 0 to 217773\n",
      "Data columns (total 9 columns):\n",
      " #   Column               Non-Null Count  Dtype  \n",
      "---  ------               --------------  -----  \n",
      " 0   funding_round_id     52928 non-null  float64\n",
      " 1   company_id           52929 non-null  int32  \n",
      " 2   funded_at            52929 non-null  int64  \n",
      " 3   funding_round_type   52928 non-null  object \n",
      " 4   raised_amount        52928 non-null  float64\n",
      " 5   pre_money_valuation  52928 non-null  float64\n",
      " 6   participants         52929 non-null  int8   \n",
      " 7   is_first_round       52929 non-null  int8   \n",
      " 8   is_last_round        52929 non-null  int8   \n",
      "dtypes: float64(3), int32(1), int64(1), int8(3), object(1)\n",
      "memory usage: 2.8+ MB\n"
     ]
    }
   ],
   "source": [
    "rounds.info()"
   ]
  },
  {
   "cell_type": "markdown",
   "metadata": {},
   "source": [
    "По итогу мы имеем 2 разных датасета с информацией о компаниях и о раундах финансирования, которые в дальнейшем можем объединять как друг с другом (чтобы потдянуть информацию о компании, например) или с другими таблицами (возможно, для анализа покупок компаний с  `acquisition`)."
   ]
  },
  {
   "cell_type": "markdown",
   "metadata": {
    "id": "bmVYhphNrJg2"
   },
   "source": [
    "\n",
    "## Шаг 3. Исследовательский анализ объединённых таблиц\n",
    "\n",
    "<big>Приступите к шагу 3 после проверки ревьюера.</big>"
   ]
  },
  {
   "cell_type": "markdown",
   "metadata": {
    "id": "3Di6tCT3rJg2"
   },
   "source": [
    "\n",
    "### 3.1. Объединение данных\n",
    "\n",
    "Объединим данные для ответа на вопросы заказчика, которые касаются интересующих его компаний. Заказчика прежде всего интересуют те компании, которые меняли или готовы менять владельцев. Получение инвестиций или финансирования, по мнению заказчика, означает интерес к покупке или продаже компании.\n",
    "\n",
    "В качестве основы для объединённой таблицы возьмем данные из обработанного датасета `company_and_rounds.csv` — выберем только те компании, у которых указаны значения `funding_rounds` или `investment_rounds` больше нуля, или те, у которых в колонке `status` указано `acquired`.\n",
    "\n"
   ]
  },
  {
   "cell_type": "code",
   "execution_count": 57,
   "metadata": {
    "id": "mGYqoHS7rJg2"
   },
   "outputs": [
    {
     "name": "stdout",
     "output_type": "stream",
     "text": [
      "<class 'pandas.core.frame.DataFrame'>\n",
      "Int64Index: 40747 entries, 0 to 217469\n",
      "Data columns (total 13 columns):\n",
      " #   Column             Non-Null Count  Dtype  \n",
      "---  ------             --------------  -----  \n",
      " 0   company_ID         40747 non-null  int32  \n",
      " 1   name               40747 non-null  object \n",
      " 2   category_code      35315 non-null  object \n",
      " 3   status             40747 non-null  object \n",
      " 4   founded_at         40747 non-null  int64  \n",
      " 5   closed_at          40747 non-null  int64  \n",
      " 6   domain             35754 non-null  object \n",
      " 7   network_username   20850 non-null  object \n",
      " 8   country_code       34742 non-null  object \n",
      " 9   investment_rounds  40747 non-null  int16  \n",
      " 10  funding_rounds     40747 non-null  int8   \n",
      " 11  funding_total      40747 non-null  float64\n",
      " 12  milestones         40747 non-null  int8   \n",
      "dtypes: float64(1), int16(1), int32(1), int64(2), int8(2), object(6)\n",
      "memory usage: 3.4+ MB\n"
     ]
    }
   ],
   "source": [
    "# Формируем датафрейм, делая выборку по заданным условиям\n",
    "final_company=company[(company['funding_rounds'] > 0) | (company['investment_rounds'] > 0) | (company['status']=='acquired')]\n",
    "final_company.info()"
   ]
  },
  {
   "cell_type": "code",
   "execution_count": 58,
   "metadata": {
    "id": "vJZ4mO2Un1yt",
    "scrolled": true
   },
   "outputs": [
    {
     "data": {
      "text/html": [
       "<div>\n",
       "<style scoped>\n",
       "    .dataframe tbody tr th:only-of-type {\n",
       "        vertical-align: middle;\n",
       "    }\n",
       "\n",
       "    .dataframe tbody tr th {\n",
       "        vertical-align: top;\n",
       "    }\n",
       "\n",
       "    .dataframe thead th {\n",
       "        text-align: right;\n",
       "    }\n",
       "</style>\n",
       "<table border=\"1\" class=\"dataframe\">\n",
       "  <thead>\n",
       "    <tr style=\"text-align: right;\">\n",
       "      <th></th>\n",
       "      <th>company_ID</th>\n",
       "      <th>name</th>\n",
       "      <th>category_code</th>\n",
       "      <th>status</th>\n",
       "      <th>founded_at</th>\n",
       "      <th>closed_at</th>\n",
       "      <th>domain</th>\n",
       "      <th>network_username</th>\n",
       "      <th>country_code</th>\n",
       "      <th>investment_rounds</th>\n",
       "      <th>funding_rounds</th>\n",
       "      <th>funding_total</th>\n",
       "      <th>milestones</th>\n",
       "    </tr>\n",
       "  </thead>\n",
       "  <tbody>\n",
       "    <tr>\n",
       "      <th>0</th>\n",
       "      <td>1</td>\n",
       "      <td>Wetpaint</td>\n",
       "      <td>web</td>\n",
       "      <td>operating</td>\n",
       "      <td>2005</td>\n",
       "      <td>0</td>\n",
       "      <td>wetpaint-inc.com</td>\n",
       "      <td>BachelrWetpaint</td>\n",
       "      <td>USA</td>\n",
       "      <td>0</td>\n",
       "      <td>3</td>\n",
       "      <td>39750000.0</td>\n",
       "      <td>5</td>\n",
       "    </tr>\n",
       "    <tr>\n",
       "      <th>3</th>\n",
       "      <td>10</td>\n",
       "      <td>Flektor</td>\n",
       "      <td>games_video</td>\n",
       "      <td>acquired</td>\n",
       "      <td>0</td>\n",
       "      <td>0</td>\n",
       "      <td>flektor.com</td>\n",
       "      <td>NaN</td>\n",
       "      <td>USA</td>\n",
       "      <td>0</td>\n",
       "      <td>0</td>\n",
       "      <td>0.0</td>\n",
       "      <td>0</td>\n",
       "    </tr>\n",
       "    <tr>\n",
       "      <th>4</th>\n",
       "      <td>100</td>\n",
       "      <td>There</td>\n",
       "      <td>games_video</td>\n",
       "      <td>acquired</td>\n",
       "      <td>0</td>\n",
       "      <td>0</td>\n",
       "      <td>there.com</td>\n",
       "      <td>NaN</td>\n",
       "      <td>USA</td>\n",
       "      <td>0</td>\n",
       "      <td>0</td>\n",
       "      <td>0.0</td>\n",
       "      <td>4</td>\n",
       "    </tr>\n",
       "    <tr>\n",
       "      <th>15</th>\n",
       "      <td>1001</td>\n",
       "      <td>FriendFeed</td>\n",
       "      <td>web</td>\n",
       "      <td>acquired</td>\n",
       "      <td>2007</td>\n",
       "      <td>0</td>\n",
       "      <td>friendfeed.com</td>\n",
       "      <td>friendfeed</td>\n",
       "      <td>USA</td>\n",
       "      <td>0</td>\n",
       "      <td>1</td>\n",
       "      <td>5000000.0</td>\n",
       "      <td>3</td>\n",
       "    </tr>\n",
       "    <tr>\n",
       "      <th>20</th>\n",
       "      <td>10014</td>\n",
       "      <td>Mobclix</td>\n",
       "      <td>mobile</td>\n",
       "      <td>acquired</td>\n",
       "      <td>2008</td>\n",
       "      <td>0</td>\n",
       "      <td>mobclix.com</td>\n",
       "      <td>mobclix</td>\n",
       "      <td>USA</td>\n",
       "      <td>0</td>\n",
       "      <td>1</td>\n",
       "      <td>0.0</td>\n",
       "      <td>4</td>\n",
       "    </tr>\n",
       "  </tbody>\n",
       "</table>\n",
       "</div>"
      ],
      "text/plain": [
       "    company_ID        name category_code     status  founded_at  closed_at  \\\n",
       "0            1    Wetpaint           web  operating        2005          0   \n",
       "3           10     Flektor   games_video   acquired           0          0   \n",
       "4          100       There   games_video   acquired           0          0   \n",
       "15        1001  FriendFeed           web   acquired        2007          0   \n",
       "20       10014     Mobclix        mobile   acquired        2008          0   \n",
       "\n",
       "              domain network_username country_code  investment_rounds  \\\n",
       "0   wetpaint-inc.com  BachelrWetpaint          USA                  0   \n",
       "3        flektor.com              NaN          USA                  0   \n",
       "4          there.com              NaN          USA                  0   \n",
       "15    friendfeed.com       friendfeed          USA                  0   \n",
       "20       mobclix.com          mobclix          USA                  0   \n",
       "\n",
       "    funding_rounds  funding_total  milestones  \n",
       "0                3     39750000.0           5  \n",
       "3                0            0.0           0  \n",
       "4                0            0.0           4  \n",
       "15               1      5000000.0           3  \n",
       "20               1            0.0           4  "
      ]
     },
     "execution_count": 58,
     "metadata": {},
     "output_type": "execute_result"
    }
   ],
   "source": [
    "final_company.head()"
   ]
  },
  {
   "cell_type": "markdown",
   "metadata": {},
   "source": [
    "Отлично, осталось только 40747 строк. Присоединим к ним информацию из `acquisition`, который содержит информацию о покупках одними компаниями других компаний и поскольку заказчика интересуют компании, которые меняли или готовы менять владельцев, то присоединяем данные left-ом по столбцу 'acquired_company_id' — идентификатор покупаемой компании.\n"
   ]
  },
  {
   "cell_type": "code",
   "execution_count": 59,
   "metadata": {
    "scrolled": true
   },
   "outputs": [
    {
     "name": "stdout",
     "output_type": "stream",
     "text": [
      "<class 'pandas.core.frame.DataFrame'>\n",
      "Int64Index: 40890 entries, 0 to 40889\n",
      "Data columns (total 19 columns):\n",
      " #   Column                Non-Null Count  Dtype  \n",
      "---  ------                --------------  -----  \n",
      " 0   company_ID            40890 non-null  int32  \n",
      " 1   name                  40890 non-null  object \n",
      " 2   category_code         35436 non-null  object \n",
      " 3   status                40890 non-null  object \n",
      " 4   founded_at            40890 non-null  int64  \n",
      " 5   closed_at             40890 non-null  int64  \n",
      " 6   domain                35883 non-null  object \n",
      " 7   network_username      20938 non-null  object \n",
      " 8   country_code          34858 non-null  object \n",
      " 9   investment_rounds     40890 non-null  int16  \n",
      " 10  funding_rounds        40890 non-null  int8   \n",
      " 11  funding_total         40890 non-null  float64\n",
      " 12  milestones            40890 non-null  int8   \n",
      " 13  id                    9390 non-null   float64\n",
      " 14  acquiring_company_id  9390 non-null   float64\n",
      " 15  acquired_company_id   9390 non-null   float64\n",
      " 16  term_code             1830 non-null   object \n",
      " 17  price_amount          9390 non-null   float64\n",
      " 18  acquired_at           9390 non-null   float64\n",
      "dtypes: float64(6), int16(1), int32(1), int64(2), int8(2), object(7)\n",
      "memory usage: 5.3+ MB\n"
     ]
    }
   ],
   "source": [
    "company_and_acquisition=final_company.merge(acquisition, left_on='company_ID',right_on='acquired_company_id',how='left')\n",
    "company_and_acquisition.info()"
   ]
  },
  {
   "cell_type": "code",
   "execution_count": 60,
   "metadata": {
    "scrolled": true
   },
   "outputs": [
    {
     "data": {
      "text/html": [
       "<div>\n",
       "<style scoped>\n",
       "    .dataframe tbody tr th:only-of-type {\n",
       "        vertical-align: middle;\n",
       "    }\n",
       "\n",
       "    .dataframe tbody tr th {\n",
       "        vertical-align: top;\n",
       "    }\n",
       "\n",
       "    .dataframe thead th {\n",
       "        text-align: right;\n",
       "    }\n",
       "</style>\n",
       "<table border=\"1\" class=\"dataframe\">\n",
       "  <thead>\n",
       "    <tr style=\"text-align: right;\">\n",
       "      <th></th>\n",
       "      <th>company_ID</th>\n",
       "      <th>name</th>\n",
       "      <th>category_code</th>\n",
       "      <th>status</th>\n",
       "      <th>founded_at</th>\n",
       "      <th>closed_at</th>\n",
       "      <th>domain</th>\n",
       "      <th>network_username</th>\n",
       "      <th>country_code</th>\n",
       "      <th>investment_rounds</th>\n",
       "      <th>funding_rounds</th>\n",
       "      <th>funding_total</th>\n",
       "      <th>milestones</th>\n",
       "      <th>id</th>\n",
       "      <th>acquiring_company_id</th>\n",
       "      <th>acquired_company_id</th>\n",
       "      <th>term_code</th>\n",
       "      <th>price_amount</th>\n",
       "      <th>acquired_at</th>\n",
       "    </tr>\n",
       "  </thead>\n",
       "  <tbody>\n",
       "    <tr>\n",
       "      <th>0</th>\n",
       "      <td>1</td>\n",
       "      <td>Wetpaint</td>\n",
       "      <td>web</td>\n",
       "      <td>operating</td>\n",
       "      <td>2005</td>\n",
       "      <td>0</td>\n",
       "      <td>wetpaint-inc.com</td>\n",
       "      <td>BachelrWetpaint</td>\n",
       "      <td>USA</td>\n",
       "      <td>0</td>\n",
       "      <td>3</td>\n",
       "      <td>39750000.0</td>\n",
       "      <td>5</td>\n",
       "      <td>NaN</td>\n",
       "      <td>NaN</td>\n",
       "      <td>NaN</td>\n",
       "      <td>NaN</td>\n",
       "      <td>NaN</td>\n",
       "      <td>NaN</td>\n",
       "    </tr>\n",
       "    <tr>\n",
       "      <th>1</th>\n",
       "      <td>10</td>\n",
       "      <td>Flektor</td>\n",
       "      <td>games_video</td>\n",
       "      <td>acquired</td>\n",
       "      <td>0</td>\n",
       "      <td>0</td>\n",
       "      <td>flektor.com</td>\n",
       "      <td>NaN</td>\n",
       "      <td>USA</td>\n",
       "      <td>0</td>\n",
       "      <td>0</td>\n",
       "      <td>0.0</td>\n",
       "      <td>0</td>\n",
       "      <td>1.0</td>\n",
       "      <td>11.0</td>\n",
       "      <td>10.0</td>\n",
       "      <td>NaN</td>\n",
       "      <td>20000000.0</td>\n",
       "      <td>2007.0</td>\n",
       "    </tr>\n",
       "    <tr>\n",
       "      <th>2</th>\n",
       "      <td>100</td>\n",
       "      <td>There</td>\n",
       "      <td>games_video</td>\n",
       "      <td>acquired</td>\n",
       "      <td>0</td>\n",
       "      <td>0</td>\n",
       "      <td>there.com</td>\n",
       "      <td>NaN</td>\n",
       "      <td>USA</td>\n",
       "      <td>0</td>\n",
       "      <td>0</td>\n",
       "      <td>0.0</td>\n",
       "      <td>4</td>\n",
       "      <td>20.0</td>\n",
       "      <td>377.0</td>\n",
       "      <td>100.0</td>\n",
       "      <td>cash</td>\n",
       "      <td>0.0</td>\n",
       "      <td>2005.0</td>\n",
       "    </tr>\n",
       "    <tr>\n",
       "      <th>3</th>\n",
       "      <td>1001</td>\n",
       "      <td>FriendFeed</td>\n",
       "      <td>web</td>\n",
       "      <td>acquired</td>\n",
       "      <td>2007</td>\n",
       "      <td>0</td>\n",
       "      <td>friendfeed.com</td>\n",
       "      <td>friendfeed</td>\n",
       "      <td>USA</td>\n",
       "      <td>0</td>\n",
       "      <td>1</td>\n",
       "      <td>5000000.0</td>\n",
       "      <td>3</td>\n",
       "      <td>1901.0</td>\n",
       "      <td>5.0</td>\n",
       "      <td>1001.0</td>\n",
       "      <td>cash_and_stock</td>\n",
       "      <td>47500000.0</td>\n",
       "      <td>2009.0</td>\n",
       "    </tr>\n",
       "    <tr>\n",
       "      <th>4</th>\n",
       "      <td>10014</td>\n",
       "      <td>Mobclix</td>\n",
       "      <td>mobile</td>\n",
       "      <td>acquired</td>\n",
       "      <td>2008</td>\n",
       "      <td>0</td>\n",
       "      <td>mobclix.com</td>\n",
       "      <td>mobclix</td>\n",
       "      <td>USA</td>\n",
       "      <td>0</td>\n",
       "      <td>1</td>\n",
       "      <td>0.0</td>\n",
       "      <td>4</td>\n",
       "      <td>3878.0</td>\n",
       "      <td>23054.0</td>\n",
       "      <td>10014.0</td>\n",
       "      <td>NaN</td>\n",
       "      <td>0.0</td>\n",
       "      <td>2010.0</td>\n",
       "    </tr>\n",
       "  </tbody>\n",
       "</table>\n",
       "</div>"
      ],
      "text/plain": [
       "   company_ID        name category_code     status  founded_at  closed_at  \\\n",
       "0           1    Wetpaint           web  operating        2005          0   \n",
       "1          10     Flektor   games_video   acquired           0          0   \n",
       "2         100       There   games_video   acquired           0          0   \n",
       "3        1001  FriendFeed           web   acquired        2007          0   \n",
       "4       10014     Mobclix        mobile   acquired        2008          0   \n",
       "\n",
       "             domain network_username country_code  investment_rounds  \\\n",
       "0  wetpaint-inc.com  BachelrWetpaint          USA                  0   \n",
       "1       flektor.com              NaN          USA                  0   \n",
       "2         there.com              NaN          USA                  0   \n",
       "3    friendfeed.com       friendfeed          USA                  0   \n",
       "4       mobclix.com          mobclix          USA                  0   \n",
       "\n",
       "   funding_rounds  funding_total  milestones      id  acquiring_company_id  \\\n",
       "0               3     39750000.0           5     NaN                   NaN   \n",
       "1               0            0.0           0     1.0                  11.0   \n",
       "2               0            0.0           4    20.0                 377.0   \n",
       "3               1      5000000.0           3  1901.0                   5.0   \n",
       "4               1            0.0           4  3878.0               23054.0   \n",
       "\n",
       "   acquired_company_id       term_code  price_amount  acquired_at  \n",
       "0                  NaN             NaN           NaN          NaN  \n",
       "1                 10.0             NaN    20000000.0       2007.0  \n",
       "2                100.0            cash           0.0       2005.0  \n",
       "3               1001.0  cash_and_stock    47500000.0       2009.0  \n",
       "4              10014.0             NaN           0.0       2010.0  "
      ]
     },
     "execution_count": 60,
     "metadata": {},
     "output_type": "execute_result"
    }
   ],
   "source": [
    "company_and_acquisition.head()"
   ]
  },
  {
   "cell_type": "markdown",
   "metadata": {},
   "source": [
    "Данные корректно объединились.   \n",
    "По цифрам 9390 ненулевых значений 'acquiring_company_id' из более, чем 40 000 строк понимаем, что покупаемых компаний примерно пятая часть.\n",
    "\n",
    "Далее будем работать только с этими данными."
   ]
  },
  {
   "cell_type": "markdown",
   "metadata": {
    "id": "DFHINkV3rJg2"
   },
   "source": [
    "\n",
    "### 3.2. Анализ выбросов\n",
    "\n",
    "Заказчика интересует обычный для рассматриваемого периода размер средств, который предоставлялся компаниям.\n",
    "\n",
    "* По предобработанному столбцу `funding_total` графическим способом оценим, какой размер общего финансирования для одной компании будет типичным, а какой — выбивающимся. Здесь разделим значения `funding_total` на 1 000 000 и будем считать в млн.долл.\n",
    "\n",
    "* В процессе расчёта значений обратим внимание, например, на показатели, возвращаемые методом `.describe()`и ответим на вопрос, применимы ли к таким данным обычные способы нахождения типичных значений?"
   ]
  },
  {
   "cell_type": "code",
   "execution_count": 61,
   "metadata": {
    "id": "8jm75fKXrJg2",
    "scrolled": true
   },
   "outputs": [
    {
     "data": {
      "image/png": "[encoded data removed]",
      "text/plain": [
       "<Figure size 864x288 with 1 Axes>"
      ]
     },
     "metadata": {
      "needs_background": "light"
     },
     "output_type": "display_data"
    }
   ],
   "source": [
    "# Разделим значения funding_total на 1 000 000 и будем считать в млн.долл.\n",
    "company_and_acquisition['funding_total']=company_and_acquisition['funding_total']/1000000\n",
    "\n",
    "# Построение графика Boxplot\n",
    "plt.figure(figsize=(12, 4))\n",
    "sns.boxplot(company_and_acquisition['funding_total'])\n",
    "plt.title('Распределение значений суммы финансирования')\n",
    "plt.xlabel('Сумма финансирования  в млн. долл.')\n",
    "plt.show()\n",
    "\n",
    "\n"
   ]
  },
  {
   "cell_type": "code",
   "execution_count": 62,
   "metadata": {},
   "outputs": [
    {
     "data": {
      "image/png": "[encoded data removed]",
      "text/plain": [
       "<Figure size 432x288 with 1 Axes>"
      ]
     },
     "metadata": {
      "needs_background": "light"
     },
     "output_type": "display_data"
    }
   ],
   "source": [
    "# Построение гистограммы\n",
    "sns.histplot(company_and_acquisition['funding_total'], bins=30, kde=True)\n",
    "plt.title('Распределение значений суммы финансирования')\n",
    "plt.xlabel('Сумма финансирования  в млн. долл.')\n",
    "plt.ylabel('Частота')\n",
    "plt.show()"
   ]
  },
  {
   "cell_type": "markdown",
   "metadata": {},
   "source": [
    "Однозначино видим большое количество нулевого финансирования, а также большие выбросы, даже за 5 000 млн. долл.\n",
    "Ящик с усами совсем неинформативен из-за большого количества выбросов, скроем их на графике через showfliers=False и посмотрим на статичтические характеристики через describe()"
   ]
  },
  {
   "cell_type": "code",
   "execution_count": 63,
   "metadata": {},
   "outputs": [
    {
     "data": {
      "image/png": "[encoded data removed]",
      "text/plain": [
       "<Figure size 864x432 with 1 Axes>"
      ]
     },
     "metadata": {
      "needs_background": "light"
     },
     "output_type": "display_data"
    }
   ],
   "source": [
    "# Построение графика без выбросов\n",
    "plt.figure(figsize=(12, 6))\n",
    "sns.boxplot(company_and_acquisition['funding_total'], showfliers=False)\n",
    "plt.title('Распределение значений суммы финансирования ')\n",
    "plt.xlabel('Сумма финансирования в млн. долл.')\n",
    "plt.show()"
   ]
  },
  {
   "cell_type": "code",
   "execution_count": 64,
   "metadata": {
    "id": "dIWqyEomn2MU",
    "scrolled": true
   },
   "outputs": [
    {
     "data": {
      "text/plain": [
       "count    40890.000000\n",
       "mean        10.135586\n",
       "std         56.412887\n",
       "min          0.000000\n",
       "25%          0.000000\n",
       "50%          0.600000\n",
       "75%          5.631320\n",
       "max       5700.000000\n",
       "Name: funding_total, dtype: float64"
      ]
     },
     "execution_count": 64,
     "metadata": {},
     "output_type": "execute_result"
    }
   ],
   "source": [
    "company_and_acquisition['funding_total'].describe()"
   ]
  },
  {
   "cell_type": "markdown",
   "metadata": {},
   "source": [
    "Судя по графику и цифрам метода describe(), суммы финансирования начинаются с 0 и 25 процентиль нулевой (что очень странно), максимум - 5700 млн. долл.\n",
    "Также очень большие выбросы, видимые на 1 графике. И размер std весомый, среднее значение отличается значительно от медианы, в т.ч. за счет выбросов. Медиана в отметке 0.6 млн. долл. \n",
    "Вероятно, к таким данным обычные способы нахождения типичных значений не применимы, так как стартапы бывают разные, и суммы финансирования могут очень сильно разнится.\n"
   ]
  },
  {
   "cell_type": "markdown",
   "metadata": {
    "id": "JqkRAQrIrJg2"
   },
   "source": [
    "\n",
    "### 3.3. Куплены забесплатно?\n",
    "\n",
    "* Исследуем компании, которые были проданы за ноль или за один доллар, и при этом известно, что у них был ненулевой общий объём финансирования.\n",
    "\n",
    "* Рассчитаем аналитически верхнюю и нижнюю границу выбросов для столбца `funding_total` и укажем, каким процентилям границы соответствуют."
   ]
  },
  {
   "cell_type": "code",
   "execution_count": 65,
   "metadata": {},
   "outputs": [
    {
     "data": {
      "text/plain": [
       "count    1618.000000\n",
       "mean       18.152962\n",
       "std       144.503027\n",
       "min         0.003750\n",
       "25%         2.000000\n",
       "50%         6.000000\n",
       "75%        15.500000\n",
       "max      5700.000000\n",
       "Name: funding_total, dtype: float64"
      ]
     },
     "execution_count": 65,
     "metadata": {},
     "output_type": "execute_result"
    }
   ],
   "source": [
    "# Фильтруем данные по условиям покупки за 0 или 1 доллар и ненулевому финансированию\n",
    "unpaid_company_and_acquisition=company_and_acquisition[\n",
    "    (company_and_acquisition['price_amount'].isin([0, 1]))&(company_and_acquisition['funding_total'] > 0)]\n",
    "# Выведем стат.показатели\n",
    "unpaid_company_and_acquisition['funding_total'].describe()"
   ]
  },
  {
   "cell_type": "markdown",
   "metadata": {},
   "source": [
    "Для аналитического расчета верхней и нижней границы выбросов используем метод межквартильного размаха (IQR).   \n",
    "Сначала найдем первый квартиль (Q1) и третий квартиль (Q3), зетем квартильный размах (IQR = Q3 - Q1), а затем определим границы выбросов:\n",
    "   - Нижняя граница: Q1 - 1.5 * IQR\n",
    "   - Верхняя граница: Q3 + 1.5 * IQR\n",
    "\n",
    "Используем функцию lt() и gt() для расчета того, какой процент данных меньше нижней границы и больше верхней границы.\n",
    "lt() - (less than) возвращает True для каждой записи, которая меньше заданного значения; gt() - (greater than) возвращает True для каждой записи, которая больше заданного значения. mean() - среднее значение фактически дает долю True значений в общей выборке и далее * 100, чтобы долю перевести в проценты."
   ]
  },
  {
   "cell_type": "code",
   "execution_count": 66,
   "metadata": {
    "id": "wJHXCBwwrJg2"
   },
   "outputs": [
    {
     "data": {
      "text/plain": [
       "'Нижняя граница выбросов: -18.25 млн.'"
      ]
     },
     "metadata": {},
     "output_type": "display_data"
    },
    {
     "data": {
      "text/plain": [
       "'Верхняя граница выбросов: 35.75 млн.'"
      ]
     },
     "metadata": {},
     "output_type": "display_data"
    },
    {
     "data": {
      "text/plain": [
       "'Нижняя граница соответствует примерно 0.00% данных.'"
      ]
     },
     "metadata": {},
     "output_type": "display_data"
    },
    {
     "data": {
      "text/plain": [
       "'Верхняя граница соответствует примерно 9.09% данных.'"
      ]
     },
     "metadata": {},
     "output_type": "display_data"
    }
   ],
   "source": [
    "# Вычисляем Q1, Q3 и IQR\n",
    "Q1 = unpaid_company_and_acquisition['funding_total'].quantile(0.25)\n",
    "Q3 = unpaid_company_and_acquisition['funding_total'].quantile(0.75)\n",
    "IQR = Q3 - Q1\n",
    "\n",
    "# Определяем границы выбросов\n",
    "lower_bound = Q1 - 1.5 * IQR # здесь не может быть отрицательного финансирования, поэтому ограничиваем выбросы 0\n",
    "upper_bound = Q3 + 1.5 * IQR\n",
    "\n",
    "# Определяем, каким процентилям соответствуют границы\n",
    "lower_percentile = unpaid_company_and_acquisition['funding_total'].lt(lower_bound).mean() * 100\n",
    "upper_percentile = unpaid_company_and_acquisition['funding_total'].gt(upper_bound).mean() * 100\n",
    "\n",
    "display(f\"Нижняя граница выбросов: {lower_bound} млн.\")\n",
    "display(f\"Верхняя граница выбросов: {upper_bound} млн.\")\n",
    "display(f\"Нижняя граница соответствует примерно {lower_percentile:.2f}% данных.\")\n",
    "display(f\"Верхняя граница соответствует примерно {upper_percentile:.2f}% данных.\")"
   ]
  },
  {
   "cell_type": "markdown",
   "metadata": {},
   "source": [
    "Нижняя граница выбросов отрицательная и таких данных будет 0%, так как не может быть отрицательного финансирования.\n",
    "Добавим в код условие, отсекая отрицательные значения через выборку максимума из 0 или Q1 - 1.5 * IQR и оценим, изменятся ли % данных, которым соответствует граница выбросов."
   ]
  },
  {
   "cell_type": "code",
   "execution_count": 67,
   "metadata": {},
   "outputs": [
    {
     "data": {
      "text/plain": [
       "'Нижняя граница выбросов: 0 млн.'"
      ]
     },
     "metadata": {},
     "output_type": "display_data"
    },
    {
     "data": {
      "text/plain": [
       "'Верхняя граница выбросов: 35.75 млн.'"
      ]
     },
     "metadata": {},
     "output_type": "display_data"
    },
    {
     "data": {
      "text/plain": [
       "'Нижняя граница соответствует примерно 0.00% данных.'"
      ]
     },
     "metadata": {},
     "output_type": "display_data"
    },
    {
     "data": {
      "text/plain": [
       "'Верхняя граница соответствует примерно 9.09% данных.'"
      ]
     },
     "metadata": {},
     "output_type": "display_data"
    }
   ],
   "source": [
    "# Вычисляем Q1, Q3 и IQR\n",
    "Q1 = unpaid_company_and_acquisition['funding_total'].quantile(0.25)\n",
    "Q3 = unpaid_company_and_acquisition['funding_total'].quantile(0.75)\n",
    "IQR = Q3 - Q1\n",
    "\n",
    "# Определяем границы выбросов\n",
    "lower_bound = max(0, Q1 - 1.5 * IQR) # не может быть отрицательного финансирования, поэтому ограничиваем выбросы 0\n",
    "upper_bound = Q3 + 1.5 * IQR\n",
    "\n",
    "# Определяем, каким процентилям соответствуют границы\n",
    "lower_percentile = unpaid_company_and_acquisition['funding_total'].lt(lower_bound).mean() * 100\n",
    "upper_percentile = unpaid_company_and_acquisition['funding_total'].gt(upper_bound).mean() * 100\n",
    "\n",
    "display(f\"Нижняя граница выбросов: {lower_bound} млн.\")\n",
    "display(f\"Верхняя граница выбросов: {upper_bound} млн.\")\n",
    "display(f\"Нижняя граница соответствует примерно {lower_percentile:.2f}% данных.\")\n",
    "display(f\"Верхняя граница соответствует примерно {upper_percentile:.2f}% данных.\")"
   ]
  },
  {
   "cell_type": "markdown",
   "metadata": {},
   "source": [
    "Картина не изменилась. Нижняя граница соответствует 0% данных, верхняя - 9%.\n",
    "\n",
    "Заказчик планирует заменить границы на значения, рассчитанные по процентилям: рассмотрим, например, 1-й и 99-й процентиль."
   ]
  },
  {
   "cell_type": "code",
   "execution_count": 68,
   "metadata": {},
   "outputs": [
    {
     "data": {
      "text/plain": [
       "count    1618.000000\n",
       "mean       18.152962\n",
       "std       144.503027\n",
       "min         0.003750\n",
       "1%          0.020000\n",
       "50%         6.000000\n",
       "99%       151.552930\n",
       "max      5700.000000\n",
       "Name: funding_total, dtype: float64"
      ]
     },
     "execution_count": 68,
     "metadata": {},
     "output_type": "execute_result"
    }
   ],
   "source": [
    "unpaid_company_and_acquisition['funding_total'].describe(percentiles=[0.01,0.99])"
   ]
  },
  {
   "cell_type": "markdown",
   "metadata": {},
   "source": [
    "Через межквартильный размах нижняя граница выбросов: нулевая (или даже отрицательная), верхняя граница выбросов: 35.75 млн., тогда как через процентили: 1%     -     0.02000, 99%   -    151.552930. Цифры значительно отличаются. \n",
    "\n",
    "Можно сделать вывод о некорректности планируемой заказчиком замены нижней и верхней границы выбросов на значения, рассчитанные по процентилям.\n",
    "\n",
    "Если бы данные имели нормальное распределение, использование процентилей было бы скорее всего адекватным, а у нас данные имеют асимметричное распределение, и имеется значительное количество выбросов, замена границ по процентилям может скрыть важные моменты в данных."
   ]
  },
  {
   "cell_type": "markdown",
   "metadata": {
    "id": "mEiWpROjrJg2"
   },
   "source": [
    "\n",
    "### 3.4. Цены стартапов по категориям\n",
    "\n",
    "Категории стартапов с наибольшими ценами и значительным разбросом цен могут быть наиболее привлекательными для крупных инвесторов, которые готовы к высоким рискам ради потенциально больших доходов. Среди категорий стартапов выделим категории стартапов, характеризующиеся:\n",
    "\n",
    "* наибольшими типичными  ценами;\n",
    "* и наибольшим разбросом цен за стартап.\n",
    "\n",
    "Будем работать с компаниями, у которых ненулевая стоимость, группировку делаем по `category code` — категория области деятельности компании. "
   ]
  },
  {
   "cell_type": "code",
   "execution_count": 69,
   "metadata": {
    "id": "jQ09dYUWrJg2",
    "scrolled": true
   },
   "outputs": [
    {
     "data": {
      "text/plain": [
       "count            2473.00\n",
       "mean       1495976014.75\n",
       "std       52304386698.95\n",
       "min                 1.00\n",
       "25%          12700000.00\n",
       "50%          56000000.00\n",
       "75%         265000000.00\n",
       "max     2600000000000.00\n",
       "Name: price_amount, dtype: float64"
      ]
     },
     "execution_count": 69,
     "metadata": {},
     "output_type": "execute_result"
    }
   ],
   "source": [
    "# Фильтруем данные по условию покупки не за 0 \n",
    "n0_company_and_acquisition=company_and_acquisition[company_and_acquisition['price_amount']!=0]\n",
    "# Установка формата вывода\n",
    "pd.options.display.float_format = '{:.2f}'.format  # Форматируем до двух десятичных знаков \n",
    "\n",
    "n0_company_and_acquisition['price_amount'].describe()\n",
    "\n"
   ]
  },
  {
   "cell_type": "markdown",
   "metadata": {},
   "source": [
    "Под типичными ценами рассматриваем медиану (среднее значение значительно отличается от медианы, стандартное отклонение очень высокое). А разброс цен рассмотриваем через расчет std. "
   ]
  },
  {
   "cell_type": "code",
   "execution_count": 70,
   "metadata": {},
   "outputs": [
    {
     "data": {
      "text/html": [
       "<div>\n",
       "<style scoped>\n",
       "    .dataframe tbody tr th:only-of-type {\n",
       "        vertical-align: middle;\n",
       "    }\n",
       "\n",
       "    .dataframe tbody tr th {\n",
       "        vertical-align: top;\n",
       "    }\n",
       "\n",
       "    .dataframe thead th {\n",
       "        text-align: right;\n",
       "    }\n",
       "</style>\n",
       "<table border=\"1\" class=\"dataframe\">\n",
       "  <thead>\n",
       "    <tr style=\"text-align: right;\">\n",
       "      <th></th>\n",
       "      <th>category_code</th>\n",
       "      <th>median_price</th>\n",
       "      <th>std_price</th>\n",
       "      <th>count</th>\n",
       "    </tr>\n",
       "  </thead>\n",
       "  <tbody>\n",
       "    <tr>\n",
       "      <th>2</th>\n",
       "      <td>automotive</td>\n",
       "      <td>2400000000.00</td>\n",
       "      <td>2581669292.02</td>\n",
       "      <td>3</td>\n",
       "    </tr>\n",
       "    <tr>\n",
       "      <th>38</th>\n",
       "      <td>sports</td>\n",
       "      <td>622500000.00</td>\n",
       "      <td>512652416.36</td>\n",
       "      <td>2</td>\n",
       "    </tr>\n",
       "    <tr>\n",
       "      <th>24</th>\n",
       "      <td>nanotech</td>\n",
       "      <td>584000000.00</td>\n",
       "      <td>NaN</td>\n",
       "      <td>1</td>\n",
       "    </tr>\n",
       "    <tr>\n",
       "      <th>32</th>\n",
       "      <td>real_estate</td>\n",
       "      <td>400000000.00</td>\n",
       "      <td>2676302206.40</td>\n",
       "      <td>6</td>\n",
       "    </tr>\n",
       "    <tr>\n",
       "      <th>19</th>\n",
       "      <td>manufacturing</td>\n",
       "      <td>351000000.00</td>\n",
       "      <td>1060434506.33</td>\n",
       "      <td>21</td>\n",
       "    </tr>\n",
       "    <tr>\n",
       "      <th>39</th>\n",
       "      <td>transportation</td>\n",
       "      <td>230000000.00</td>\n",
       "      <td>572625532.09</td>\n",
       "      <td>3</td>\n",
       "    </tr>\n",
       "    <tr>\n",
       "      <th>3</th>\n",
       "      <td>biotech</td>\n",
       "      <td>200000000.00</td>\n",
       "      <td>1968195263.66</td>\n",
       "      <td>263</td>\n",
       "    </tr>\n",
       "    <tr>\n",
       "      <th>1</th>\n",
       "      <td>analytics</td>\n",
       "      <td>200000000.00</td>\n",
       "      <td>92967736.34</td>\n",
       "      <td>3</td>\n",
       "    </tr>\n",
       "    <tr>\n",
       "      <th>10</th>\n",
       "      <td>fashion</td>\n",
       "      <td>195000000.00</td>\n",
       "      <td>86494219.46</td>\n",
       "      <td>3</td>\n",
       "    </tr>\n",
       "    <tr>\n",
       "      <th>4</th>\n",
       "      <td>cleantech</td>\n",
       "      <td>185000000.00</td>\n",
       "      <td>874419628.26</td>\n",
       "      <td>39</td>\n",
       "    </tr>\n",
       "  </tbody>\n",
       "</table>\n",
       "</div>"
      ],
      "text/plain": [
       "     category_code  median_price     std_price  count\n",
       "2       automotive 2400000000.00 2581669292.02      3\n",
       "38          sports  622500000.00  512652416.36      2\n",
       "24        nanotech  584000000.00           NaN      1\n",
       "32     real_estate  400000000.00 2676302206.40      6\n",
       "19   manufacturing  351000000.00 1060434506.33     21\n",
       "39  transportation  230000000.00  572625532.09      3\n",
       "3          biotech  200000000.00 1968195263.66    263\n",
       "1        analytics  200000000.00   92967736.34      3\n",
       "10         fashion  195000000.00   86494219.46      3\n",
       "4        cleantech  185000000.00  874419628.26     39"
      ]
     },
     "execution_count": 70,
     "metadata": {},
     "output_type": "execute_result"
    }
   ],
   "source": [
    "# Группировка данных по категориям\n",
    "grouped_category = n0_company_and_acquisition.groupby('category_code')['price_amount'].agg(['median', 'std', 'count'])\n",
    "# Сбрасываем индекс\n",
    "grouped_category=grouped_category.reset_index()\n",
    "# Переименование столбцов\n",
    "grouped_category = grouped_category.rename(columns={\n",
    "    'median': 'median_price',\n",
    "    'std': 'std_price',\n",
    "    'count': 'count'})\n",
    "\n",
    "# Сортировка по возрастанию медианы\n",
    "sorted_by_median = grouped_category.sort_values(by='median_price',ascending=False).head(10)\n",
    "sorted_by_median"
   ]
  },
  {
   "cell_type": "markdown",
   "metadata": {
    "id": "MFONscXPn29F"
   },
   "source": [
    "При выводе топ-10 компаний по категориям видим, что значения медианы в строках 6-10 повторяются или находятся близко друг к другу -около 200000000, поэтому наглядной картины они нам не дадут, в связи с чем предлагается оставить топ-5 компаний с типичными ценами выше 300 000 000. По аналогии сделаем  и с std. Проанализируем, есть ли пересечния или такой выборки недостаточно.\n"
   ]
  },
  {
   "cell_type": "code",
   "execution_count": 71,
   "metadata": {
    "scrolled": true
   },
   "outputs": [
    {
     "data": {
      "text/plain": [
       "'Топ-5 категорий по наибольшим типичным  ценам:'"
      ]
     },
     "metadata": {},
     "output_type": "display_data"
    },
    {
     "data": {
      "text/html": [
       "<div>\n",
       "<style scoped>\n",
       "    .dataframe tbody tr th:only-of-type {\n",
       "        vertical-align: middle;\n",
       "    }\n",
       "\n",
       "    .dataframe tbody tr th {\n",
       "        vertical-align: top;\n",
       "    }\n",
       "\n",
       "    .dataframe thead th {\n",
       "        text-align: right;\n",
       "    }\n",
       "</style>\n",
       "<table border=\"1\" class=\"dataframe\">\n",
       "  <thead>\n",
       "    <tr style=\"text-align: right;\">\n",
       "      <th></th>\n",
       "      <th>category_code</th>\n",
       "      <th>median_price</th>\n",
       "      <th>std_price</th>\n",
       "      <th>count</th>\n",
       "    </tr>\n",
       "  </thead>\n",
       "  <tbody>\n",
       "    <tr>\n",
       "      <th>2</th>\n",
       "      <td>automotive</td>\n",
       "      <td>2400000000.00</td>\n",
       "      <td>2581669292.02</td>\n",
       "      <td>3</td>\n",
       "    </tr>\n",
       "    <tr>\n",
       "      <th>38</th>\n",
       "      <td>sports</td>\n",
       "      <td>622500000.00</td>\n",
       "      <td>512652416.36</td>\n",
       "      <td>2</td>\n",
       "    </tr>\n",
       "    <tr>\n",
       "      <th>24</th>\n",
       "      <td>nanotech</td>\n",
       "      <td>584000000.00</td>\n",
       "      <td>NaN</td>\n",
       "      <td>1</td>\n",
       "    </tr>\n",
       "    <tr>\n",
       "      <th>32</th>\n",
       "      <td>real_estate</td>\n",
       "      <td>400000000.00</td>\n",
       "      <td>2676302206.40</td>\n",
       "      <td>6</td>\n",
       "    </tr>\n",
       "    <tr>\n",
       "      <th>19</th>\n",
       "      <td>manufacturing</td>\n",
       "      <td>351000000.00</td>\n",
       "      <td>1060434506.33</td>\n",
       "      <td>21</td>\n",
       "    </tr>\n",
       "  </tbody>\n",
       "</table>\n",
       "</div>"
      ],
      "text/plain": [
       "    category_code  median_price     std_price  count\n",
       "2      automotive 2400000000.00 2581669292.02      3\n",
       "38         sports  622500000.00  512652416.36      2\n",
       "24       nanotech  584000000.00           NaN      1\n",
       "32    real_estate  400000000.00 2676302206.40      6\n",
       "19  manufacturing  351000000.00 1060434506.33     21"
      ]
     },
     "metadata": {},
     "output_type": "display_data"
    }
   ],
   "source": [
    "# Сортировка по убыванию по медиане и вывод топ-5\n",
    "sorted_by_median = grouped_category.sort_values(by='median_price',ascending=False).head()\n",
    "display(\"Топ-5 категорий по наибольшим типичным  ценам:\")\n",
    "display(sorted_by_median)\n",
    "\n"
   ]
  },
  {
   "cell_type": "code",
   "execution_count": 72,
   "metadata": {},
   "outputs": [
    {
     "data": {
      "text/plain": [
       "'Топ-5 категорий по наибольшему разбросу цен за стартап:'"
      ]
     },
     "metadata": {},
     "output_type": "display_data"
    },
    {
     "data": {
      "text/html": [
       "<div>\n",
       "<style scoped>\n",
       "    .dataframe tbody tr th:only-of-type {\n",
       "        vertical-align: middle;\n",
       "    }\n",
       "\n",
       "    .dataframe tbody tr th {\n",
       "        vertical-align: top;\n",
       "    }\n",
       "\n",
       "    .dataframe thead th {\n",
       "        text-align: right;\n",
       "    }\n",
       "</style>\n",
       "<table border=\"1\" class=\"dataframe\">\n",
       "  <thead>\n",
       "    <tr style=\"text-align: right;\">\n",
       "      <th></th>\n",
       "      <th>category_code</th>\n",
       "      <th>median_price</th>\n",
       "      <th>std_price</th>\n",
       "      <th>count</th>\n",
       "    </tr>\n",
       "  </thead>\n",
       "  <tbody>\n",
       "    <tr>\n",
       "      <th>9</th>\n",
       "      <td>enterprise</td>\n",
       "      <td>54750000.00</td>\n",
       "      <td>241358098250.90</td>\n",
       "      <td>116</td>\n",
       "    </tr>\n",
       "    <tr>\n",
       "      <th>31</th>\n",
       "      <td>public_relations</td>\n",
       "      <td>110000000.00</td>\n",
       "      <td>6854337755.92</td>\n",
       "      <td>74</td>\n",
       "    </tr>\n",
       "    <tr>\n",
       "      <th>32</th>\n",
       "      <td>real_estate</td>\n",
       "      <td>400000000.00</td>\n",
       "      <td>2676302206.40</td>\n",
       "      <td>6</td>\n",
       "    </tr>\n",
       "    <tr>\n",
       "      <th>2</th>\n",
       "      <td>automotive</td>\n",
       "      <td>2400000000.00</td>\n",
       "      <td>2581669292.02</td>\n",
       "      <td>3</td>\n",
       "    </tr>\n",
       "    <tr>\n",
       "      <th>28</th>\n",
       "      <td>other</td>\n",
       "      <td>71550000.00</td>\n",
       "      <td>2060860617.08</td>\n",
       "      <td>84</td>\n",
       "    </tr>\n",
       "  </tbody>\n",
       "</table>\n",
       "</div>"
      ],
      "text/plain": [
       "       category_code  median_price       std_price  count\n",
       "9         enterprise   54750000.00 241358098250.90    116\n",
       "31  public_relations  110000000.00   6854337755.92     74\n",
       "32       real_estate  400000000.00   2676302206.40      6\n",
       "2         automotive 2400000000.00   2581669292.02      3\n",
       "28             other   71550000.00   2060860617.08     84"
      ]
     },
     "metadata": {},
     "output_type": "display_data"
    }
   ],
   "source": [
    "# Сортировка по убыванию по std и вывод топ-5\n",
    "sorted_by_median = grouped_category.sort_values(by='std_price',ascending=False).head()\n",
    "display(\"Топ-5 категорий по наибольшему разбросу цен за стартап:\")\n",
    "display(sorted_by_median)"
   ]
  },
  {
   "cell_type": "markdown",
   "metadata": {},
   "source": [
    "Исходя из данных двух тыблиц, можно сделать вывод о достаточности сведений для заказика  по рисковым проектам. Также по 2 категориям находятся пересечения (вероятно, именно они будут интересны в первую очередь):\n",
    "- automotive - на 1 месте по типичным ценам и на 4 - по разбросу цен;  \n",
    "- real_estate, занимающая 4 место по медианным ценам и 3 место по разбросу цен. "
   ]
  },
  {
   "cell_type": "markdown",
   "metadata": {
    "id": "ADOfyVY_rJg3"
   },
   "source": [
    "\n",
    "### 3.5. Сколько раундов продержится стартап перед покупкой\n",
    "\n",
    "* Необходимо проанализировать столбец `funding_rounds`. Исследуем значения столбца. Заказчика интересует типичное значение количества раундов для каждого возможного статуса стартапа.\n",
    "\n",
    "* Построим график, который отображает, сколько в среднем раундов финансирования проходило для стартапов из каждой группы. "
   ]
  },
  {
   "cell_type": "markdown",
   "metadata": {},
   "source": [
    "Для начала посмотрим, сколько бывает раундов финансирования через уникальные значения и на стат. характеристики."
   ]
  },
  {
   "cell_type": "code",
   "execution_count": 73,
   "metadata": {
    "scrolled": true
   },
   "outputs": [
    {
     "data": {
      "text/plain": [
       "array([ 3,  0,  1,  5,  2,  7,  4,  6,  8, 10,  9, 13, 11, 15, 14, 12],\n",
       "      dtype=int8)"
      ]
     },
     "execution_count": 73,
     "metadata": {},
     "output_type": "execute_result"
    }
   ],
   "source": [
    "company_and_acquisition['funding_rounds'].unique()\n"
   ]
  },
  {
   "cell_type": "code",
   "execution_count": 74,
   "metadata": {},
   "outputs": [
    {
     "data": {
      "text/plain": [
       "count   40890.00\n",
       "mean        1.29\n",
       "std         1.26\n",
       "min         0.00\n",
       "25%         1.00\n",
       "50%         1.00\n",
       "75%         2.00\n",
       "max        15.00\n",
       "Name: funding_rounds, dtype: float64"
      ]
     },
     "execution_count": 74,
     "metadata": {},
     "output_type": "execute_result"
    }
   ],
   "source": [
    "company_and_acquisition['funding_rounds'].describe()"
   ]
  },
  {
   "cell_type": "markdown",
   "metadata": {},
   "source": [
    "Уникальных значений не так много, раундов финанирования может быть до 15. Среднее и медиана не сильно отличаются, разброс значений небольшой. Сгруппируем данные по среднему значению, помня с начала исследования, что статуса всего 4: «действующий», «приобретенный», «закрытый», «ipo» - первая публичная продажа акций неограниченному кругу лиц."
   ]
  },
  {
   "cell_type": "code",
   "execution_count": 75,
   "metadata": {
    "id": "hgXMPC4WrJg3"
   },
   "outputs": [
    {
     "data": {
      "text/html": [
       "<div>\n",
       "<style scoped>\n",
       "    .dataframe tbody tr th:only-of-type {\n",
       "        vertical-align: middle;\n",
       "    }\n",
       "\n",
       "    .dataframe tbody tr th {\n",
       "        vertical-align: top;\n",
       "    }\n",
       "\n",
       "    .dataframe thead th {\n",
       "        text-align: right;\n",
       "    }\n",
       "</style>\n",
       "<table border=\"1\" class=\"dataframe\">\n",
       "  <thead>\n",
       "    <tr style=\"text-align: right;\">\n",
       "      <th></th>\n",
       "      <th>status</th>\n",
       "      <th>funding_rounds</th>\n",
       "    </tr>\n",
       "  </thead>\n",
       "  <tbody>\n",
       "    <tr>\n",
       "      <th>2</th>\n",
       "      <td>ipo</td>\n",
       "      <td>1.93</td>\n",
       "    </tr>\n",
       "    <tr>\n",
       "      <th>3</th>\n",
       "      <td>operating</td>\n",
       "      <td>1.52</td>\n",
       "    </tr>\n",
       "    <tr>\n",
       "      <th>1</th>\n",
       "      <td>closed</td>\n",
       "      <td>1.38</td>\n",
       "    </tr>\n",
       "    <tr>\n",
       "      <th>0</th>\n",
       "      <td>acquired</td>\n",
       "      <td>0.53</td>\n",
       "    </tr>\n",
       "  </tbody>\n",
       "</table>\n",
       "</div>"
      ],
      "text/plain": [
       "      status  funding_rounds\n",
       "2        ipo            1.93\n",
       "3  operating            1.52\n",
       "1     closed            1.38\n",
       "0   acquired            0.53"
      ]
     },
     "execution_count": 75,
     "metadata": {},
     "output_type": "execute_result"
    }
   ],
   "source": [
    "# Группировка по статусу и вычисление среднего количества раундов\n",
    "average_funding_rounds = company_and_acquisition.groupby('status')['funding_rounds'].mean().reset_index()\n",
    "# Добавим сортировку\n",
    "average_funding_rounds=average_funding_rounds.sort_values(by='funding_rounds', ascending=False)\n",
    "average_funding_rounds"
   ]
  },
  {
   "cell_type": "code",
   "execution_count": 76,
   "metadata": {},
   "outputs": [
    {
     "data": {
      "image/png": "[encoded data removed]",
      "text/plain": [
       "<Figure size 576x360 with 1 Axes>"
      ]
     },
     "metadata": {
      "needs_background": "light"
     },
     "output_type": "display_data"
    }
   ],
   "source": [
    "# Построение графика\n",
    "plt.figure(figsize=(8, 5))\n",
    "sns.barplot(data=average_funding_rounds, x='status', y='funding_rounds', palette='viridis')\n",
    "plt.title('Среднее количество раундов финансирования по статусу стартапов')\n",
    "plt.xlabel('Статус стартапа')\n",
    "plt.ylabel('Среднее количество раундов финансирования')\n",
    "plt.show()"
   ]
  },
  {
   "cell_type": "markdown",
   "metadata": {},
   "source": [
    "В основном раундов финансирования 1-2. Для интересующего заказчика статуса 'acquired' среднее число раундов финансирования 0,53, что может говорить, что уже после 1 этапа финансирования на компанию был спрос. И это действительно самая интереснаям группа для исследований.\n",
    "Наибольшее среднее число раундов - почти 2 - финансирования у статуса «ipo» - первый листинг на бирже, за ними действующие компании (operating) и затем закрытые (closed). Вероятно, на 2 этапе финасирования можно понять, пойдет или не пойдет стартап, поэтому уже можно или продолжать, или закрыть сразу без дальнеших вложений. "
   ]
  },
  {
   "cell_type": "markdown",
   "metadata": {},
   "source": [
    "\n",
    "    \n",
    "Обычно до стадии IPO доходят только самые успешные стартапы и соответственно число раундов финансирования, как правило, больше чем у остальных стадий развития стартапов.\n"
   ]
  },
  {
   "cell_type": "markdown",
   "metadata": {
    "id": "VAFEZ2HBrJg3"
   },
   "source": [
    "\n",
    "## Шаг 4. Итоговый вывод и рекомендации\n",
    "\n",
    "\n",
    "1. **Общий обзор проделанной работы**  \n",
    "- Были загружены данные, необходимые для анализа, из 5 датасетов:  \n",
    "сompany_and_rounds.csv - cодержит информацию о компаниях и раундах финансирования,  \n",
    "acquisition.csv - содержит информацию о покупках одними компаниями других компаний,  \n",
    "people.csv - cодержит информацию о сотрудниках,  \n",
    "education.csv - cодержит информацию об образовании сотрудника,  \n",
    "degrees.csv - cодержит информацию о типе образования сотрудника.  \n",
    "\n",
    "- Датафрейм `сompany_and_rounds` был сначала разделен на 2 - `сompany` и `rounds`, затем данные из `сompany` объединены с `acquisition` для удобства анализа. \n",
    "- Объединены 3 датафрейма для анализа сведений по образованию сотрудников `people`, `education`, `degrees`.  \n",
    "- В этот объединенный датафрейм добавлен новый столбец 'company_group', разделяющий компании на 3 группы: с 1 сотрудником, с числом сотрудников от 2 до 5 (некрупные компании), и от 5 человек и больше (крупные компании).\n",
    "- Удалены явные дубликаты, пропуски макисмально не удалялись в целях сохранения данных, при необходимости менялись на заглушки, что учитывалось при анализе.\n",
    "- В столбцах `founded_at`, `closed_at`, `funded_at` установлен сначала тип даты и времени, далее выделен год и установлен int, как и для столбцов с id компании,  `investment_rounds`,`funding_rounds`, `milestones`, `participants` и булевых столбцах  `is  first  round` и `is  last  round`  - с возможным снижением размерности.  \n",
    "\n",
    "\n",
    "2. **Ответы на исследовательские вопросы**\n",
    "- Раунды финансирования по годам:\n",
    "Типичный размер собранных в рамках одного раунда средств был максимален в 2005 году. В 2013 году произошло увеличение по количеству раундов (нарастающая тенденция с 2004 года, рост был постоянный) и выделяемых в рамках каждого раунда средств, при этом это это был перелом постоянного падения: с 2005 года до 2012 года наюблюдалось постепенное падение типичного размера средств.\n",
    "\n",
    "- Люди и их образование:\n",
    "Данные об образовании далеко не полные, доля пропусков от 43 до 69% по столбцам с образованием, но по оценкам средней доли сотрудников без информации об образовании в каждой из групп можно прийти к выводу, что процент пропусков в сведениях об образовании в компаниях с 1 сотрудником больше, чем у других, а самый мелнький процент пропусков в крупных компаниях. \n",
    "\n",
    "- Объединять или не объединять по столбцу `network_username`, который встречается в нескольких датасетах:\n",
    "нельзя объединять, так как результат может получиться некорректным: слишком много пропусков и дубликатов. \n",
    "\n",
    "- Проблемный датасет: \n",
    "`сompany_and_rounds` был сразделен на 2: `сompany` и `rounds` - именно так данные изначально скорее всего хранились и были некорректно объединены, что привело к большому количеству пропусков и дубликатов.\n",
    "\n",
    "- Анализ выбросов (обычный для рассматриваемого периода размер средств, который предоставлялся компаниям):\n",
    "Суммы финансирования, включая 25 процентиль нулевые, максимум - 5700 млн. долл. Выявлены очень большие выбросы (свыше 5 000 млн. долл.), среднее отклонение весомое, среднее значение (0.6 млн. долл.) отличается значительно от медианы в 10 млн. долл. \n",
    "Вероятно, к таким данным обычные способы нахождения типичных значений: стартапы бывают разные и в разных отраслях, что-то сразу \"выстреливает\" при минимальном финансировании, а какие-то разработки требют огромных вложений (например, в медицинской отрали), но потом все же могут принести прибыль.\n",
    "\n",
    "- Исследование компаний, которые были проданы за ноль или за один доллар:\n",
    "Через межквартильный размах нижняя граница выбросов: нулевая (или даже отрицательная), верхняя граница выбросов: 35.75 млн., Цифры значительно отличаются от расчетов выбросов через 1 и 99 процентиль: 1%     -     0.02000, 99%   -    151.552930.  \n",
    "\n",
    "- Цены стартапов по категориям:\n",
    "Топ-5 категорий по наибольшим типичным  ценам:\tautomotive, sports, nanotech, real_estate, manufacturing.  \n",
    "Топ-5 категорий по наибольшему разбросу цен за стартап: enterprise, public_relations, real_estate, automotive, other.\n",
    "\n",
    "- Сколько раундов продержится стартап перед покупкой: \n",
    "Для интересующего заказчика статуса 'acquired' среднее число раундов финансирования 0,53. Среднее число раундов для всех статусов 1-2.\n",
    "\n",
    "\n",
    "3. **Рекомендации на основе анализа данных**\n",
    "\n",
    "По результатм исследования можно сказать о некорректности планируемой заказчиком замены нижней и верхней границы выбросов на значения, рассчитанные по процентилям.   \n",
    "По рисковым проектам в топ-5 наиболее интересны категории, которые находятся пересечения и по типичным ценам и по разбросу цен:\n",
    "- automotive - на 1 месте по типичным ценам и на 4 - по разбросу цен;  \n",
    "- real_estate, занимающая 4 место по медианным ценам и 3 место по разбросу цен.  \n",
    "\n",
    "Рекомендуется  рассмотреть выдачу льготных займов стартапам: вложения могут окупиться уже после 1 раунда финансирования, однако заставляют сомневаться в полученных результатах  - исследования в разрезе компаний за 0 или 1 доллар и анализ выбросов. Вероятно, в данных где-то есть ошибки, как уже выявленные в процессе анализа некорректные объединения таблиц."
   ]
  }
 ],
 "metadata": {
  "ExecuteTimeLog": [
   {
    "duration": 95,
    "start_time": "2025-02-20T14:44:13.898Z"
   },
   {
    "duration": 6216,
    "start_time": "2025-02-20T14:56:33.834Z"
   },
   {
    "duration": 2183,
    "start_time": "2025-02-20T14:58:30.153Z"
   },
   {
    "duration": 33,
    "start_time": "2025-02-20T14:58:34.183Z"
   },
   {
    "duration": 28,
    "start_time": "2025-02-20T14:58:37.367Z"
   },
   {
    "duration": 27,
    "start_time": "2025-02-20T14:58:42.574Z"
   },
   {
    "duration": 105,
    "start_time": "2025-02-20T14:59:10.717Z"
   },
   {
    "duration": 6,
    "start_time": "2025-02-20T15:00:02.727Z"
   },
   {
    "duration": 6,
    "start_time": "2025-02-20T15:00:19.597Z"
   },
   {
    "duration": 7,
    "start_time": "2025-02-20T15:00:21.485Z"
   },
   {
    "duration": 9,
    "start_time": "2025-02-20T15:01:07.508Z"
   },
   {
    "duration": 15,
    "start_time": "2025-02-20T15:01:38.457Z"
   },
   {
    "duration": 17,
    "start_time": "2025-02-20T15:01:40.605Z"
   },
   {
    "duration": 6724,
    "start_time": "2025-02-21T09:15:39.446Z"
   },
   {
    "duration": 1903,
    "start_time": "2025-02-21T09:15:46.172Z"
   },
   {
    "duration": 35,
    "start_time": "2025-02-21T09:15:48.076Z"
   },
   {
    "duration": 36,
    "start_time": "2025-02-21T09:15:48.112Z"
   },
   {
    "duration": 115,
    "start_time": "2025-02-21T09:15:48.151Z"
   },
   {
    "duration": 6,
    "start_time": "2025-02-21T09:15:48.268Z"
   },
   {
    "duration": 18,
    "start_time": "2025-02-21T09:15:48.275Z"
   },
   {
    "duration": 41,
    "start_time": "2025-02-21T09:15:48.295Z"
   },
   {
    "duration": 18,
    "start_time": "2025-02-21T09:15:48.338Z"
   },
   {
    "duration": 19,
    "start_time": "2025-02-21T09:15:48.357Z"
   },
   {
    "duration": 20,
    "start_time": "2025-02-21T09:15:48.378Z"
   },
   {
    "duration": 85,
    "start_time": "2025-02-21T09:15:48.400Z"
   },
   {
    "duration": 9,
    "start_time": "2025-02-21T09:32:59.452Z"
   },
   {
    "duration": 12,
    "start_time": "2025-02-21T09:33:01.684Z"
   },
   {
    "duration": 4,
    "start_time": "2025-02-21T09:45:16.982Z"
   },
   {
    "duration": 4,
    "start_time": "2025-02-21T09:48:33.426Z"
   },
   {
    "duration": 5,
    "start_time": "2025-02-21T09:48:59.107Z"
   },
   {
    "duration": 7,
    "start_time": "2025-02-21T09:55:18.123Z"
   },
   {
    "duration": 10,
    "start_time": "2025-02-21T10:02:33.625Z"
   },
   {
    "duration": 4414,
    "start_time": "2025-02-21T10:30:38.102Z"
   },
   {
    "duration": 3254,
    "start_time": "2025-02-21T10:30:42.518Z"
   },
   {
    "duration": 37,
    "start_time": "2025-02-21T10:30:45.774Z"
   },
   {
    "duration": 42,
    "start_time": "2025-02-21T10:30:45.814Z"
   },
   {
    "duration": 128,
    "start_time": "2025-02-21T10:30:45.859Z"
   },
   {
    "duration": 7,
    "start_time": "2025-02-21T10:30:45.989Z"
   },
   {
    "duration": 29,
    "start_time": "2025-02-21T10:30:45.998Z"
   },
   {
    "duration": 23,
    "start_time": "2025-02-21T10:30:46.029Z"
   },
   {
    "duration": 35,
    "start_time": "2025-02-21T10:30:46.054Z"
   },
   {
    "duration": 19,
    "start_time": "2025-02-21T10:30:46.093Z"
   },
   {
    "duration": 50,
    "start_time": "2025-02-21T10:30:46.114Z"
   },
   {
    "duration": 8,
    "start_time": "2025-02-21T10:30:46.166Z"
   },
   {
    "duration": 10,
    "start_time": "2025-02-21T10:30:46.176Z"
   },
   {
    "duration": 27,
    "start_time": "2025-02-21T10:30:46.187Z"
   },
   {
    "duration": 75,
    "start_time": "2025-02-21T10:30:46.215Z"
   },
   {
    "duration": 0,
    "start_time": "2025-02-21T10:30:46.292Z"
   },
   {
    "duration": 0,
    "start_time": "2025-02-21T10:30:46.293Z"
   },
   {
    "duration": 0,
    "start_time": "2025-02-21T10:30:46.294Z"
   },
   {
    "duration": 0,
    "start_time": "2025-02-21T10:30:46.296Z"
   },
   {
    "duration": 0,
    "start_time": "2025-02-21T10:30:46.297Z"
   },
   {
    "duration": 0,
    "start_time": "2025-02-21T10:30:46.298Z"
   },
   {
    "duration": 9,
    "start_time": "2025-02-21T10:30:51.999Z"
   },
   {
    "duration": 92,
    "start_time": "2025-02-21T10:30:56.758Z"
   },
   {
    "duration": 144,
    "start_time": "2025-02-21T10:31:21.295Z"
   },
   {
    "duration": 12,
    "start_time": "2025-02-21T10:31:51.169Z"
   },
   {
    "duration": 11,
    "start_time": "2025-02-21T10:34:03.224Z"
   },
   {
    "duration": 9,
    "start_time": "2025-02-21T10:35:17.950Z"
   },
   {
    "duration": 11,
    "start_time": "2025-02-21T10:36:53.543Z"
   },
   {
    "duration": 10,
    "start_time": "2025-02-21T10:37:27.363Z"
   },
   {
    "duration": 71,
    "start_time": "2025-02-21T10:39:46.092Z"
   },
   {
    "duration": 4,
    "start_time": "2025-02-21T10:39:56.723Z"
   },
   {
    "duration": 17,
    "start_time": "2025-02-21T10:40:17.286Z"
   },
   {
    "duration": 12,
    "start_time": "2025-02-21T10:41:00.380Z"
   },
   {
    "duration": 14,
    "start_time": "2025-02-21T10:42:28.820Z"
   },
   {
    "duration": 11,
    "start_time": "2025-02-21T10:46:45.564Z"
   },
   {
    "duration": 10,
    "start_time": "2025-02-21T10:48:19.969Z"
   },
   {
    "duration": 10,
    "start_time": "2025-02-21T10:48:32.692Z"
   },
   {
    "duration": 11,
    "start_time": "2025-02-21T10:48:46.635Z"
   },
   {
    "duration": 4433,
    "start_time": "2025-02-21T10:49:06.447Z"
   },
   {
    "duration": 2178,
    "start_time": "2025-02-21T10:49:10.882Z"
   },
   {
    "duration": 42,
    "start_time": "2025-02-21T10:49:13.061Z"
   },
   {
    "duration": 44,
    "start_time": "2025-02-21T10:49:13.105Z"
   },
   {
    "duration": 118,
    "start_time": "2025-02-21T10:49:13.152Z"
   },
   {
    "duration": 6,
    "start_time": "2025-02-21T10:49:13.272Z"
   },
   {
    "duration": 10,
    "start_time": "2025-02-21T10:49:13.280Z"
   },
   {
    "duration": 7,
    "start_time": "2025-02-21T10:49:13.292Z"
   },
   {
    "duration": 37,
    "start_time": "2025-02-21T10:49:13.300Z"
   },
   {
    "duration": 18,
    "start_time": "2025-02-21T10:49:13.339Z"
   },
   {
    "duration": 22,
    "start_time": "2025-02-21T10:49:13.359Z"
   },
   {
    "duration": 9,
    "start_time": "2025-02-21T10:49:13.383Z"
   },
   {
    "duration": 6,
    "start_time": "2025-02-21T10:49:13.394Z"
   },
   {
    "duration": 7,
    "start_time": "2025-02-21T10:49:13.432Z"
   },
   {
    "duration": 13,
    "start_time": "2025-02-21T10:49:13.468Z"
   },
   {
    "duration": 38,
    "start_time": "2025-02-21T10:49:13.483Z"
   },
   {
    "duration": 72,
    "start_time": "2025-02-21T10:49:13.523Z"
   },
   {
    "duration": 0,
    "start_time": "2025-02-21T10:49:13.597Z"
   },
   {
    "duration": 0,
    "start_time": "2025-02-21T10:49:13.599Z"
   },
   {
    "duration": 0,
    "start_time": "2025-02-21T10:49:13.600Z"
   },
   {
    "duration": 9,
    "start_time": "2025-02-21T10:49:16.062Z"
   },
   {
    "duration": 12,
    "start_time": "2025-02-21T10:49:18.573Z"
   },
   {
    "duration": 9,
    "start_time": "2025-02-21T10:49:28.622Z"
   },
   {
    "duration": 8,
    "start_time": "2025-02-21T10:49:33.726Z"
   },
   {
    "duration": 90,
    "start_time": "2025-02-21T10:50:32.862Z"
   },
   {
    "duration": 274,
    "start_time": "2025-02-21T10:50:51.622Z"
   },
   {
    "duration": 17,
    "start_time": "2025-02-21T10:52:52.658Z"
   },
   {
    "duration": 13,
    "start_time": "2025-02-21T10:57:59.602Z"
   },
   {
    "duration": 11,
    "start_time": "2025-02-21T10:58:09.545Z"
   },
   {
    "duration": 11,
    "start_time": "2025-02-21T10:58:29.863Z"
   },
   {
    "duration": 12,
    "start_time": "2025-02-21T10:59:12.046Z"
   },
   {
    "duration": 11,
    "start_time": "2025-02-21T10:59:37.408Z"
   },
   {
    "duration": 14,
    "start_time": "2025-02-21T11:01:04.896Z"
   },
   {
    "duration": 44,
    "start_time": "2025-02-21T11:04:52.660Z"
   },
   {
    "duration": 10,
    "start_time": "2025-02-21T11:04:54.690Z"
   },
   {
    "duration": 34,
    "start_time": "2025-02-21T11:17:37.548Z"
   },
   {
    "duration": 8,
    "start_time": "2025-02-21T11:17:39.623Z"
   },
   {
    "duration": 27,
    "start_time": "2025-02-21T11:19:33.385Z"
   },
   {
    "duration": 9,
    "start_time": "2025-02-21T11:19:36.144Z"
   },
   {
    "duration": 14,
    "start_time": "2025-02-21T11:22:32.694Z"
   },
   {
    "duration": 17,
    "start_time": "2025-02-21T11:22:36.694Z"
   },
   {
    "duration": 16,
    "start_time": "2025-02-21T11:23:31.654Z"
   },
   {
    "duration": 21,
    "start_time": "2025-02-21T11:26:03.000Z"
   },
   {
    "duration": 9,
    "start_time": "2025-02-21T11:26:05.226Z"
   },
   {
    "duration": 16,
    "start_time": "2025-02-21T11:31:33.445Z"
   },
   {
    "duration": 9,
    "start_time": "2025-02-21T11:42:00.835Z"
   },
   {
    "duration": 25,
    "start_time": "2025-02-21T11:42:02.700Z"
   },
   {
    "duration": 1679,
    "start_time": "2025-02-21T11:59:18.728Z"
   },
   {
    "duration": 253,
    "start_time": "2025-02-21T11:59:32.118Z"
   },
   {
    "duration": 41,
    "start_time": "2025-02-21T11:59:49.809Z"
   },
   {
    "duration": 36,
    "start_time": "2025-02-21T11:59:52.692Z"
   },
   {
    "duration": 34,
    "start_time": "2025-02-21T11:59:55.197Z"
   },
   {
    "duration": 118,
    "start_time": "2025-02-21T12:00:05.970Z"
   },
   {
    "duration": 118,
    "start_time": "2025-02-21T12:00:09.225Z"
   },
   {
    "duration": 115,
    "start_time": "2025-02-21T12:00:34.099Z"
   },
   {
    "duration": 32,
    "start_time": "2025-02-21T12:01:02.443Z"
   },
   {
    "duration": 115,
    "start_time": "2025-02-21T12:01:10.910Z"
   },
   {
    "duration": 132,
    "start_time": "2025-02-21T12:01:25.370Z"
   },
   {
    "duration": 28,
    "start_time": "2025-02-21T12:02:27.050Z"
   },
   {
    "duration": 39,
    "start_time": "2025-02-21T12:03:24.186Z"
   },
   {
    "duration": 45,
    "start_time": "2025-02-21T12:03:44.474Z"
   },
   {
    "duration": 206,
    "start_time": "2025-02-21T12:04:06.480Z"
   },
   {
    "duration": 172,
    "start_time": "2025-02-21T12:05:48.222Z"
   },
   {
    "duration": 155,
    "start_time": "2025-02-21T12:06:27.878Z"
   },
   {
    "duration": 39,
    "start_time": "2025-02-21T12:07:35.046Z"
   },
   {
    "duration": 218,
    "start_time": "2025-02-21T12:08:17.400Z"
   },
   {
    "duration": 43,
    "start_time": "2025-02-21T12:12:20.934Z"
   },
   {
    "duration": 37,
    "start_time": "2025-02-21T12:12:33.990Z"
   },
   {
    "duration": 185,
    "start_time": "2025-02-21T12:12:38.831Z"
   },
   {
    "duration": 12,
    "start_time": "2025-02-21T12:15:51.739Z"
   },
   {
    "duration": 4504,
    "start_time": "2025-02-21T12:16:16.025Z"
   },
   {
    "duration": 2382,
    "start_time": "2025-02-21T12:16:20.531Z"
   },
   {
    "duration": 38,
    "start_time": "2025-02-21T12:16:22.914Z"
   },
   {
    "duration": 27,
    "start_time": "2025-02-21T12:16:22.954Z"
   },
   {
    "duration": 128,
    "start_time": "2025-02-21T12:16:22.983Z"
   },
   {
    "duration": 5,
    "start_time": "2025-02-21T12:16:23.113Z"
   },
   {
    "duration": 14,
    "start_time": "2025-02-21T12:16:23.120Z"
   },
   {
    "duration": 16,
    "start_time": "2025-02-21T12:16:23.136Z"
   },
   {
    "duration": 9,
    "start_time": "2025-02-21T12:16:23.153Z"
   },
   {
    "duration": 16,
    "start_time": "2025-02-21T12:16:23.165Z"
   },
   {
    "duration": 20,
    "start_time": "2025-02-21T12:16:23.183Z"
   },
   {
    "duration": 5,
    "start_time": "2025-02-21T12:16:23.234Z"
   },
   {
    "duration": 10,
    "start_time": "2025-02-21T12:16:23.240Z"
   },
   {
    "duration": 6,
    "start_time": "2025-02-21T12:16:23.252Z"
   },
   {
    "duration": 13,
    "start_time": "2025-02-21T12:16:23.260Z"
   },
   {
    "duration": 20,
    "start_time": "2025-02-21T12:16:23.275Z"
   },
   {
    "duration": 35,
    "start_time": "2025-02-21T12:16:23.298Z"
   },
   {
    "duration": 9,
    "start_time": "2025-02-21T12:16:23.335Z"
   },
   {
    "duration": 10,
    "start_time": "2025-02-21T12:16:23.346Z"
   },
   {
    "duration": 47,
    "start_time": "2025-02-21T12:16:23.358Z"
   },
   {
    "duration": 36,
    "start_time": "2025-02-21T12:16:23.407Z"
   },
   {
    "duration": 31,
    "start_time": "2025-02-21T12:16:23.445Z"
   },
   {
    "duration": 26,
    "start_time": "2025-02-21T12:16:23.478Z"
   },
   {
    "duration": 8,
    "start_time": "2025-02-21T12:16:23.506Z"
   },
   {
    "duration": 8,
    "start_time": "2025-02-21T12:16:23.516Z"
   },
   {
    "duration": 32,
    "start_time": "2025-02-21T12:16:23.526Z"
   },
   {
    "duration": 380,
    "start_time": "2025-02-21T12:16:23.560Z"
   },
   {
    "duration": 23,
    "start_time": "2025-02-21T12:16:23.943Z"
   },
   {
    "duration": 28,
    "start_time": "2025-02-21T12:43:12.809Z"
   },
   {
    "duration": 69,
    "start_time": "2025-02-21T12:52:26.673Z"
   },
   {
    "duration": 1935,
    "start_time": "2025-02-21T13:01:56.699Z"
   },
   {
    "duration": 64,
    "start_time": "2025-02-21T13:02:15.999Z"
   },
   {
    "duration": 18,
    "start_time": "2025-02-21T13:02:25.597Z"
   },
   {
    "duration": 16,
    "start_time": "2025-02-21T13:02:27.684Z"
   },
   {
    "duration": 3,
    "start_time": "2025-02-21T13:02:54.900Z"
   },
   {
    "duration": 91,
    "start_time": "2025-02-21T13:02:59.126Z"
   },
   {
    "duration": 17,
    "start_time": "2025-02-21T13:04:17.098Z"
   },
   {
    "duration": 115,
    "start_time": "2025-02-21T13:04:55.578Z"
   },
   {
    "duration": 103,
    "start_time": "2025-02-21T13:06:39.730Z"
   },
   {
    "duration": 22,
    "start_time": "2025-02-21T13:07:01.926Z"
   },
   {
    "duration": 100,
    "start_time": "2025-02-21T13:07:05.286Z"
   },
   {
    "duration": 22,
    "start_time": "2025-02-21T13:07:48.122Z"
   },
   {
    "duration": 110,
    "start_time": "2025-02-21T13:07:57.750Z"
   },
   {
    "duration": 47,
    "start_time": "2025-02-21T13:08:22.220Z"
   },
   {
    "duration": 34,
    "start_time": "2025-02-21T13:09:21.536Z"
   },
   {
    "duration": 18,
    "start_time": "2025-02-21T13:10:12.976Z"
   },
   {
    "duration": 15,
    "start_time": "2025-02-21T13:10:55.039Z"
   },
   {
    "duration": 10,
    "start_time": "2025-02-21T13:11:00.470Z"
   },
   {
    "duration": 90,
    "start_time": "2025-02-21T13:11:13.720Z"
   },
   {
    "duration": 107,
    "start_time": "2025-02-21T13:14:10.564Z"
   },
   {
    "duration": 109,
    "start_time": "2025-02-21T13:14:21.470Z"
   },
   {
    "duration": 34,
    "start_time": "2025-02-21T13:15:04.275Z"
   },
   {
    "duration": 92,
    "start_time": "2025-02-21T13:15:14.176Z"
   },
   {
    "duration": 15,
    "start_time": "2025-02-21T13:17:16.598Z"
   },
   {
    "duration": 13,
    "start_time": "2025-02-21T13:18:21.030Z"
   },
   {
    "duration": 14,
    "start_time": "2025-02-21T13:18:56.548Z"
   },
   {
    "duration": 110,
    "start_time": "2025-02-21T13:18:58.920Z"
   },
   {
    "duration": 4,
    "start_time": "2025-02-21T13:31:08.133Z"
   },
   {
    "duration": 4,
    "start_time": "2025-02-21T13:31:25.315Z"
   },
   {
    "duration": 5,
    "start_time": "2025-02-21T13:31:36.915Z"
   },
   {
    "duration": 31,
    "start_time": "2025-02-21T13:31:51.751Z"
   },
   {
    "duration": 5,
    "start_time": "2025-02-21T13:31:56.329Z"
   },
   {
    "duration": 4563,
    "start_time": "2025-02-21T13:32:06.629Z"
   },
   {
    "duration": 2123,
    "start_time": "2025-02-21T13:32:11.194Z"
   },
   {
    "duration": 41,
    "start_time": "2025-02-21T13:32:13.319Z"
   },
   {
    "duration": 27,
    "start_time": "2025-02-21T13:32:13.363Z"
   },
   {
    "duration": 125,
    "start_time": "2025-02-21T13:32:13.392Z"
   },
   {
    "duration": 18,
    "start_time": "2025-02-21T13:32:13.518Z"
   },
   {
    "duration": 18,
    "start_time": "2025-02-21T13:32:13.538Z"
   },
   {
    "duration": 22,
    "start_time": "2025-02-21T13:32:13.559Z"
   },
   {
    "duration": 12,
    "start_time": "2025-02-21T13:32:13.583Z"
   },
   {
    "duration": 17,
    "start_time": "2025-02-21T13:32:13.598Z"
   },
   {
    "duration": 44,
    "start_time": "2025-02-21T13:32:13.617Z"
   },
   {
    "duration": 11,
    "start_time": "2025-02-21T13:32:13.664Z"
   },
   {
    "duration": 10,
    "start_time": "2025-02-21T13:32:13.677Z"
   },
   {
    "duration": 10,
    "start_time": "2025-02-21T13:32:13.689Z"
   },
   {
    "duration": 10,
    "start_time": "2025-02-21T13:32:13.701Z"
   },
   {
    "duration": 15,
    "start_time": "2025-02-21T13:32:13.712Z"
   },
   {
    "duration": 4,
    "start_time": "2025-02-21T13:32:13.733Z"
   },
   {
    "duration": 9,
    "start_time": "2025-02-21T13:32:13.739Z"
   },
   {
    "duration": 10,
    "start_time": "2025-02-21T13:32:13.750Z"
   },
   {
    "duration": 45,
    "start_time": "2025-02-21T13:32:13.762Z"
   },
   {
    "duration": 17,
    "start_time": "2025-02-21T13:32:13.833Z"
   },
   {
    "duration": 8,
    "start_time": "2025-02-21T13:32:13.852Z"
   },
   {
    "duration": 28,
    "start_time": "2025-02-21T13:32:13.862Z"
   },
   {
    "duration": 9,
    "start_time": "2025-02-21T13:32:13.892Z"
   },
   {
    "duration": 35,
    "start_time": "2025-02-21T13:32:13.903Z"
   },
   {
    "duration": 27,
    "start_time": "2025-02-21T13:32:13.940Z"
   },
   {
    "duration": 316,
    "start_time": "2025-02-21T13:32:13.969Z"
   },
   {
    "duration": 24,
    "start_time": "2025-02-21T13:32:14.290Z"
   },
   {
    "duration": 14,
    "start_time": "2025-02-21T13:32:14.332Z"
   },
   {
    "duration": 124,
    "start_time": "2025-02-21T13:32:14.347Z"
   },
   {
    "duration": 17,
    "start_time": "2025-02-21T13:33:22.301Z"
   },
   {
    "duration": 16,
    "start_time": "2025-02-21T13:33:34.761Z"
   },
   {
    "duration": 102,
    "start_time": "2025-02-21T13:33:37.942Z"
   },
   {
    "duration": 86,
    "start_time": "2025-02-21T13:34:08.712Z"
   },
   {
    "duration": 17,
    "start_time": "2025-02-21T13:34:12.108Z"
   },
   {
    "duration": 17,
    "start_time": "2025-02-21T13:35:44.121Z"
   },
   {
    "duration": 18,
    "start_time": "2025-02-21T13:35:47.130Z"
   },
   {
    "duration": 85,
    "start_time": "2025-02-21T13:35:49.629Z"
   },
   {
    "duration": 179,
    "start_time": "2025-02-21T13:36:05.800Z"
   },
   {
    "duration": 14,
    "start_time": "2025-02-21T13:37:23.380Z"
   },
   {
    "duration": 82,
    "start_time": "2025-02-21T13:38:00.439Z"
   },
   {
    "duration": 104,
    "start_time": "2025-02-21T13:38:06.234Z"
   },
   {
    "duration": 130,
    "start_time": "2025-02-21T13:39:10.710Z"
   },
   {
    "duration": 13,
    "start_time": "2025-02-21T13:39:42.794Z"
   },
   {
    "duration": 14,
    "start_time": "2025-02-21T13:39:58.386Z"
   },
   {
    "duration": 5571,
    "start_time": "2025-02-22T08:26:50.112Z"
   },
   {
    "duration": 1743,
    "start_time": "2025-02-22T08:26:55.685Z"
   },
   {
    "duration": 30,
    "start_time": "2025-02-22T08:26:57.429Z"
   },
   {
    "duration": 43,
    "start_time": "2025-02-22T08:26:57.460Z"
   },
   {
    "duration": 158,
    "start_time": "2025-02-22T08:26:57.504Z"
   },
   {
    "duration": 7,
    "start_time": "2025-02-22T08:26:57.664Z"
   },
   {
    "duration": 24,
    "start_time": "2025-02-22T08:26:57.672Z"
   },
   {
    "duration": 26,
    "start_time": "2025-02-22T08:26:57.698Z"
   },
   {
    "duration": 19,
    "start_time": "2025-02-22T08:26:57.725Z"
   },
   {
    "duration": 24,
    "start_time": "2025-02-22T08:26:57.746Z"
   },
   {
    "duration": 16,
    "start_time": "2025-02-22T08:26:57.771Z"
   },
   {
    "duration": 19,
    "start_time": "2025-02-22T08:26:57.788Z"
   },
   {
    "duration": 7,
    "start_time": "2025-02-22T08:26:57.808Z"
   },
   {
    "duration": 16,
    "start_time": "2025-02-22T08:26:57.816Z"
   },
   {
    "duration": 35,
    "start_time": "2025-02-22T08:26:57.833Z"
   },
   {
    "duration": 12,
    "start_time": "2025-02-22T08:26:57.870Z"
   },
   {
    "duration": 4,
    "start_time": "2025-02-22T08:26:57.884Z"
   },
   {
    "duration": 27,
    "start_time": "2025-02-22T08:26:57.889Z"
   },
   {
    "duration": 39,
    "start_time": "2025-02-22T08:26:57.918Z"
   },
   {
    "duration": 61,
    "start_time": "2025-02-22T08:26:57.958Z"
   },
   {
    "duration": 15,
    "start_time": "2025-02-22T08:26:58.021Z"
   },
   {
    "duration": 13,
    "start_time": "2025-02-22T08:26:58.037Z"
   },
   {
    "duration": 44,
    "start_time": "2025-02-22T08:26:58.051Z"
   },
   {
    "duration": 27,
    "start_time": "2025-02-22T08:26:58.096Z"
   },
   {
    "duration": 17,
    "start_time": "2025-02-22T08:26:58.124Z"
   },
   {
    "duration": 50,
    "start_time": "2025-02-22T08:26:58.142Z"
   },
   {
    "duration": 247,
    "start_time": "2025-02-22T08:26:58.194Z"
   },
   {
    "duration": 31,
    "start_time": "2025-02-22T08:26:58.444Z"
   },
   {
    "duration": 117,
    "start_time": "2025-02-22T08:26:58.476Z"
   },
   {
    "duration": 0,
    "start_time": "2025-02-22T08:26:58.594Z"
   },
   {
    "duration": 21,
    "start_time": "2025-02-22T08:27:49.346Z"
   },
   {
    "duration": 131,
    "start_time": "2025-02-22T08:37:29.701Z"
   },
   {
    "duration": 17,
    "start_time": "2025-02-22T08:37:40.206Z"
   },
   {
    "duration": 11,
    "start_time": "2025-02-22T08:38:28.341Z"
   },
   {
    "duration": 10,
    "start_time": "2025-02-22T08:40:42.503Z"
   },
   {
    "duration": 74,
    "start_time": "2025-02-22T08:41:02.069Z"
   },
   {
    "duration": 12,
    "start_time": "2025-02-22T08:44:56.406Z"
   },
   {
    "duration": 12,
    "start_time": "2025-02-22T08:44:59.379Z"
   },
   {
    "duration": 77,
    "start_time": "2025-02-22T08:45:03.507Z"
   },
   {
    "duration": 14,
    "start_time": "2025-02-22T08:46:00.919Z"
   },
   {
    "duration": 40,
    "start_time": "2025-02-22T08:46:19.812Z"
   },
   {
    "duration": 76,
    "start_time": "2025-02-22T08:46:25.645Z"
   },
   {
    "duration": 18,
    "start_time": "2025-02-22T08:46:46.905Z"
   },
   {
    "duration": 84,
    "start_time": "2025-02-22T08:46:47.852Z"
   },
   {
    "duration": 72,
    "start_time": "2025-02-22T08:47:39.106Z"
   },
   {
    "duration": 31,
    "start_time": "2025-02-22T08:47:40.889Z"
   },
   {
    "duration": 72,
    "start_time": "2025-02-22T08:47:43.704Z"
   },
   {
    "duration": 31,
    "start_time": "2025-02-22T08:48:19.765Z"
   },
   {
    "duration": 70,
    "start_time": "2025-02-22T08:48:22.116Z"
   },
   {
    "duration": 36,
    "start_time": "2025-02-22T08:48:46.239Z"
   },
   {
    "duration": 68,
    "start_time": "2025-02-22T08:48:48.409Z"
   },
   {
    "duration": 34,
    "start_time": "2025-02-22T08:51:47.818Z"
   },
   {
    "duration": 33,
    "start_time": "2025-02-22T08:52:00.504Z"
   },
   {
    "duration": 69,
    "start_time": "2025-02-22T08:52:03.913Z"
   },
   {
    "duration": 46,
    "start_time": "2025-02-22T08:57:10.571Z"
   },
   {
    "duration": 79,
    "start_time": "2025-02-22T08:57:36.838Z"
   },
   {
    "duration": 7,
    "start_time": "2025-02-22T09:02:37.284Z"
   },
   {
    "duration": 13,
    "start_time": "2025-02-22T09:02:52.811Z"
   },
   {
    "duration": 11,
    "start_time": "2025-02-22T09:03:18.304Z"
   },
   {
    "duration": 74,
    "start_time": "2025-02-22T09:06:10.679Z"
   },
   {
    "duration": 68,
    "start_time": "2025-02-22T09:06:31.957Z"
   },
   {
    "duration": 13,
    "start_time": "2025-02-22T09:07:17.245Z"
   },
   {
    "duration": 12,
    "start_time": "2025-02-22T09:07:35.959Z"
   },
   {
    "duration": 13,
    "start_time": "2025-02-22T09:08:08.831Z"
   },
   {
    "duration": 13,
    "start_time": "2025-02-22T09:08:25.468Z"
   },
   {
    "duration": 13,
    "start_time": "2025-02-22T09:08:50.165Z"
   },
   {
    "duration": 13,
    "start_time": "2025-02-22T09:11:55.878Z"
   },
   {
    "duration": 13,
    "start_time": "2025-02-22T09:12:36.600Z"
   },
   {
    "duration": 101,
    "start_time": "2025-02-22T09:12:57.418Z"
   },
   {
    "duration": 54,
    "start_time": "2025-02-22T09:13:10.388Z"
   },
   {
    "duration": 14,
    "start_time": "2025-02-22T09:13:18.367Z"
   },
   {
    "duration": 104,
    "start_time": "2025-02-22T09:13:24.743Z"
   },
   {
    "duration": 221,
    "start_time": "2025-02-22T09:13:36.716Z"
   },
   {
    "duration": 137,
    "start_time": "2025-02-22T09:14:21.303Z"
   },
   {
    "duration": 133,
    "start_time": "2025-02-22T09:14:34.278Z"
   },
   {
    "duration": 132,
    "start_time": "2025-02-22T09:14:43.116Z"
   },
   {
    "duration": 144,
    "start_time": "2025-02-22T09:14:46.967Z"
   },
   {
    "duration": 154,
    "start_time": "2025-02-22T09:14:58.352Z"
   },
   {
    "duration": 142,
    "start_time": "2025-02-22T09:17:26.296Z"
   },
   {
    "duration": 13,
    "start_time": "2025-02-22T09:33:17.613Z"
   },
   {
    "duration": 9,
    "start_time": "2025-02-22T09:33:54.634Z"
   },
   {
    "duration": 10,
    "start_time": "2025-02-22T09:34:08.484Z"
   },
   {
    "duration": 26,
    "start_time": "2025-02-22T09:34:19.557Z"
   },
   {
    "duration": 10,
    "start_time": "2025-02-22T09:34:34.001Z"
   },
   {
    "duration": 17,
    "start_time": "2025-02-22T09:34:49.533Z"
   },
   {
    "duration": 17,
    "start_time": "2025-02-22T09:35:00.297Z"
   },
   {
    "duration": 69,
    "start_time": "2025-02-22T09:35:14.852Z"
   },
   {
    "duration": 67,
    "start_time": "2025-02-22T09:35:23.487Z"
   },
   {
    "duration": 24,
    "start_time": "2025-02-22T09:35:45.187Z"
   },
   {
    "duration": 6,
    "start_time": "2025-02-22T09:39:21.305Z"
   },
   {
    "duration": 24,
    "start_time": "2025-02-22T09:41:18.781Z"
   },
   {
    "duration": 17,
    "start_time": "2025-02-22T09:42:07.067Z"
   },
   {
    "duration": 18,
    "start_time": "2025-02-22T09:42:31.683Z"
   },
   {
    "duration": 16,
    "start_time": "2025-02-22T09:43:09.032Z"
   },
   {
    "duration": 30,
    "start_time": "2025-02-22T09:43:28.695Z"
   },
   {
    "duration": 70,
    "start_time": "2025-02-22T09:43:42.144Z"
   },
   {
    "duration": 18,
    "start_time": "2025-02-22T09:43:49.363Z"
   },
   {
    "duration": 21,
    "start_time": "2025-02-22T09:44:46.950Z"
   },
   {
    "duration": 3828,
    "start_time": "2025-02-22T09:45:05.165Z"
   },
   {
    "duration": 1843,
    "start_time": "2025-02-22T09:45:08.995Z"
   },
   {
    "duration": 33,
    "start_time": "2025-02-22T09:45:10.839Z"
   },
   {
    "duration": 28,
    "start_time": "2025-02-22T09:45:10.874Z"
   },
   {
    "duration": 103,
    "start_time": "2025-02-22T09:45:10.904Z"
   },
   {
    "duration": 6,
    "start_time": "2025-02-22T09:45:11.009Z"
   },
   {
    "duration": 12,
    "start_time": "2025-02-22T09:45:11.017Z"
   },
   {
    "duration": 7,
    "start_time": "2025-02-22T09:45:11.031Z"
   },
   {
    "duration": 32,
    "start_time": "2025-02-22T09:45:11.039Z"
   },
   {
    "duration": 15,
    "start_time": "2025-02-22T09:45:11.074Z"
   },
   {
    "duration": 20,
    "start_time": "2025-02-22T09:45:11.090Z"
   },
   {
    "duration": 12,
    "start_time": "2025-02-22T09:45:11.112Z"
   },
   {
    "duration": 12,
    "start_time": "2025-02-22T09:45:11.125Z"
   },
   {
    "duration": 18,
    "start_time": "2025-02-22T09:45:11.139Z"
   },
   {
    "duration": 71,
    "start_time": "2025-02-22T09:45:11.159Z"
   },
   {
    "duration": 56,
    "start_time": "2025-02-22T09:45:11.233Z"
   },
   {
    "duration": 56,
    "start_time": "2025-02-22T09:45:11.291Z"
   },
   {
    "duration": 26,
    "start_time": "2025-02-22T09:45:11.349Z"
   },
   {
    "duration": 8,
    "start_time": "2025-02-22T09:45:11.377Z"
   },
   {
    "duration": 47,
    "start_time": "2025-02-22T09:45:11.387Z"
   },
   {
    "duration": 16,
    "start_time": "2025-02-22T09:45:11.436Z"
   },
   {
    "duration": 18,
    "start_time": "2025-02-22T09:45:11.454Z"
   },
   {
    "duration": 58,
    "start_time": "2025-02-22T09:45:11.473Z"
   },
   {
    "duration": 63,
    "start_time": "2025-02-22T09:45:11.533Z"
   },
   {
    "duration": 53,
    "start_time": "2025-02-22T09:45:11.597Z"
   },
   {
    "duration": 41,
    "start_time": "2025-02-22T09:45:11.652Z"
   },
   {
    "duration": 267,
    "start_time": "2025-02-22T09:45:11.694Z"
   },
   {
    "duration": 19,
    "start_time": "2025-02-22T09:45:11.972Z"
   },
   {
    "duration": 86,
    "start_time": "2025-02-22T09:45:11.992Z"
   },
   {
    "duration": 72,
    "start_time": "2025-02-22T09:45:12.080Z"
   },
   {
    "duration": 77,
    "start_time": "2025-02-22T09:45:12.154Z"
   },
   {
    "duration": 0,
    "start_time": "2025-02-22T09:45:12.232Z"
   },
   {
    "duration": 0,
    "start_time": "2025-02-22T09:45:12.234Z"
   },
   {
    "duration": 0,
    "start_time": "2025-02-22T09:45:12.234Z"
   },
   {
    "duration": 0,
    "start_time": "2025-02-22T09:45:12.236Z"
   },
   {
    "duration": 5,
    "start_time": "2025-02-22T09:45:12.262Z"
   },
   {
    "duration": 43,
    "start_time": "2025-02-22T09:45:16.935Z"
   },
   {
    "duration": 73,
    "start_time": "2025-02-22T09:45:35.394Z"
   },
   {
    "duration": 73,
    "start_time": "2025-02-22T09:45:38.716Z"
   },
   {
    "duration": 36,
    "start_time": "2025-02-22T09:46:05.803Z"
   },
   {
    "duration": 35,
    "start_time": "2025-02-22T09:46:11.703Z"
   },
   {
    "duration": 116,
    "start_time": "2025-02-22T09:47:06.410Z"
   },
   {
    "duration": 26,
    "start_time": "2025-02-22T09:48:41.953Z"
   },
   {
    "duration": 187,
    "start_time": "2025-02-22T09:52:00.745Z"
   },
   {
    "duration": 68,
    "start_time": "2025-02-22T09:52:25.125Z"
   },
   {
    "duration": 11,
    "start_time": "2025-02-22T09:52:31.460Z"
   },
   {
    "duration": 10,
    "start_time": "2025-02-22T09:52:35.048Z"
   },
   {
    "duration": 9,
    "start_time": "2025-02-22T09:52:35.413Z"
   },
   {
    "duration": 78,
    "start_time": "2025-02-22T09:52:35.575Z"
   },
   {
    "duration": 9,
    "start_time": "2025-02-22T09:52:53.130Z"
   },
   {
    "duration": 3749,
    "start_time": "2025-02-22T09:53:02.179Z"
   },
   {
    "duration": 1883,
    "start_time": "2025-02-22T09:53:05.930Z"
   },
   {
    "duration": 30,
    "start_time": "2025-02-22T09:53:07.814Z"
   },
   {
    "duration": 61,
    "start_time": "2025-02-22T09:53:07.846Z"
   },
   {
    "duration": 151,
    "start_time": "2025-02-22T09:53:07.909Z"
   },
   {
    "duration": 10,
    "start_time": "2025-02-22T09:53:08.061Z"
   },
   {
    "duration": 6,
    "start_time": "2025-02-22T09:53:08.073Z"
   },
   {
    "duration": 57,
    "start_time": "2025-02-22T09:53:08.081Z"
   },
   {
    "duration": 35,
    "start_time": "2025-02-22T09:53:08.140Z"
   },
   {
    "duration": 83,
    "start_time": "2025-02-22T09:53:08.178Z"
   },
   {
    "duration": 49,
    "start_time": "2025-02-22T09:53:08.263Z"
   },
   {
    "duration": 20,
    "start_time": "2025-02-22T09:53:08.314Z"
   },
   {
    "duration": 29,
    "start_time": "2025-02-22T09:53:08.336Z"
   },
   {
    "duration": 9,
    "start_time": "2025-02-22T09:53:08.367Z"
   },
   {
    "duration": 22,
    "start_time": "2025-02-22T09:53:08.377Z"
   },
   {
    "duration": 40,
    "start_time": "2025-02-22T09:53:08.401Z"
   },
   {
    "duration": 81,
    "start_time": "2025-02-22T09:53:08.443Z"
   },
   {
    "duration": 76,
    "start_time": "2025-02-22T09:53:08.525Z"
   },
   {
    "duration": 16,
    "start_time": "2025-02-22T09:53:08.602Z"
   },
   {
    "duration": 65,
    "start_time": "2025-02-22T09:53:08.619Z"
   },
   {
    "duration": 19,
    "start_time": "2025-02-22T09:53:08.686Z"
   },
   {
    "duration": 9,
    "start_time": "2025-02-22T09:53:08.707Z"
   },
   {
    "duration": 32,
    "start_time": "2025-02-22T09:53:08.718Z"
   },
   {
    "duration": 23,
    "start_time": "2025-02-22T09:53:08.751Z"
   },
   {
    "duration": 8,
    "start_time": "2025-02-22T09:53:08.775Z"
   },
   {
    "duration": 98,
    "start_time": "2025-02-22T09:53:08.784Z"
   },
   {
    "duration": 263,
    "start_time": "2025-02-22T09:53:08.884Z"
   },
   {
    "duration": 28,
    "start_time": "2025-02-22T09:53:09.149Z"
   },
   {
    "duration": 76,
    "start_time": "2025-02-22T09:53:09.178Z"
   },
   {
    "duration": 79,
    "start_time": "2025-02-22T09:53:09.256Z"
   },
   {
    "duration": 293,
    "start_time": "2025-02-22T09:53:09.337Z"
   },
   {
    "duration": 0,
    "start_time": "2025-02-22T09:53:09.631Z"
   },
   {
    "duration": 0,
    "start_time": "2025-02-22T09:53:09.632Z"
   },
   {
    "duration": 0,
    "start_time": "2025-02-22T09:53:09.633Z"
   },
   {
    "duration": 0,
    "start_time": "2025-02-22T09:53:09.634Z"
   },
   {
    "duration": 32,
    "start_time": "2025-02-22T09:54:30.248Z"
   },
   {
    "duration": 29,
    "start_time": "2025-02-22T09:55:26.806Z"
   },
   {
    "duration": 76,
    "start_time": "2025-02-22T10:01:34.600Z"
   },
   {
    "duration": 102,
    "start_time": "2025-02-22T10:01:49.804Z"
   },
   {
    "duration": 42,
    "start_time": "2025-02-22T10:02:03.009Z"
   },
   {
    "duration": 25,
    "start_time": "2025-02-22T10:02:55.933Z"
   },
   {
    "duration": 1442,
    "start_time": "2025-02-22T10:07:21.952Z"
   },
   {
    "duration": 1236,
    "start_time": "2025-02-22T10:07:38.075Z"
   },
   {
    "duration": 97,
    "start_time": "2025-02-22T10:10:12.519Z"
   },
   {
    "duration": 72,
    "start_time": "2025-02-22T10:10:59.555Z"
   },
   {
    "duration": 1467,
    "start_time": "2025-02-22T10:11:23.895Z"
   },
   {
    "duration": 37,
    "start_time": "2025-02-22T10:12:44.204Z"
   },
   {
    "duration": 32,
    "start_time": "2025-02-22T10:13:12.689Z"
   },
   {
    "duration": 33,
    "start_time": "2025-02-22T10:13:23.342Z"
   },
   {
    "duration": 273,
    "start_time": "2025-02-22T10:17:43.155Z"
   },
   {
    "duration": 401,
    "start_time": "2025-02-22T10:19:57.879Z"
   },
   {
    "duration": 564,
    "start_time": "2025-02-22T10:21:48.459Z"
   },
   {
    "duration": 268,
    "start_time": "2025-02-22T10:23:14.514Z"
   },
   {
    "duration": 356,
    "start_time": "2025-02-22T10:24:56.028Z"
   },
   {
    "duration": 488,
    "start_time": "2025-02-22T10:25:20.892Z"
   },
   {
    "duration": 350,
    "start_time": "2025-02-22T10:26:28.120Z"
   },
   {
    "duration": 304,
    "start_time": "2025-02-22T10:27:10.336Z"
   },
   {
    "duration": 345,
    "start_time": "2025-02-22T10:27:18.236Z"
   },
   {
    "duration": 45,
    "start_time": "2025-02-23T16:49:10.092Z"
   },
   {
    "duration": 6,
    "start_time": "2025-02-23T16:49:42.882Z"
   },
   {
    "duration": 5865,
    "start_time": "2025-02-23T16:49:50.855Z"
   },
   {
    "duration": 1816,
    "start_time": "2025-02-23T16:49:56.722Z"
   },
   {
    "duration": 35,
    "start_time": "2025-02-23T16:49:58.540Z"
   },
   {
    "duration": 24,
    "start_time": "2025-02-23T16:49:58.577Z"
   },
   {
    "duration": 125,
    "start_time": "2025-02-23T16:49:58.603Z"
   },
   {
    "duration": 5,
    "start_time": "2025-02-23T16:49:58.729Z"
   },
   {
    "duration": 30,
    "start_time": "2025-02-23T16:49:58.736Z"
   },
   {
    "duration": 25,
    "start_time": "2025-02-23T16:49:58.767Z"
   },
   {
    "duration": 14,
    "start_time": "2025-02-23T16:49:58.794Z"
   },
   {
    "duration": 23,
    "start_time": "2025-02-23T16:49:58.810Z"
   },
   {
    "duration": 22,
    "start_time": "2025-02-23T16:49:58.835Z"
   },
   {
    "duration": 5,
    "start_time": "2025-02-23T16:49:58.859Z"
   },
   {
    "duration": 20,
    "start_time": "2025-02-23T16:49:58.866Z"
   },
   {
    "duration": 56,
    "start_time": "2025-02-23T16:49:58.887Z"
   },
   {
    "duration": 15,
    "start_time": "2025-02-23T16:49:58.945Z"
   },
   {
    "duration": 25,
    "start_time": "2025-02-23T16:49:58.961Z"
   },
   {
    "duration": 5,
    "start_time": "2025-02-23T16:49:58.988Z"
   },
   {
    "duration": 25,
    "start_time": "2025-02-23T16:49:58.995Z"
   },
   {
    "duration": 10,
    "start_time": "2025-02-23T16:49:59.021Z"
   },
   {
    "duration": 42,
    "start_time": "2025-02-23T16:49:59.032Z"
   },
   {
    "duration": 13,
    "start_time": "2025-02-23T16:49:59.076Z"
   },
   {
    "duration": 16,
    "start_time": "2025-02-23T16:49:59.091Z"
   },
   {
    "duration": 31,
    "start_time": "2025-02-23T16:49:59.109Z"
   },
   {
    "duration": 23,
    "start_time": "2025-02-23T16:49:59.142Z"
   },
   {
    "duration": 31,
    "start_time": "2025-02-23T16:49:59.167Z"
   },
   {
    "duration": 54,
    "start_time": "2025-02-23T16:49:59.199Z"
   },
   {
    "duration": 229,
    "start_time": "2025-02-23T16:49:59.254Z"
   },
   {
    "duration": 18,
    "start_time": "2025-02-23T16:49:59.486Z"
   },
   {
    "duration": 85,
    "start_time": "2025-02-23T16:49:59.505Z"
   },
   {
    "duration": 71,
    "start_time": "2025-02-23T16:49:59.592Z"
   },
   {
    "duration": 44,
    "start_time": "2025-02-23T16:49:59.669Z"
   },
   {
    "duration": 111,
    "start_time": "2025-02-23T16:49:59.715Z"
   },
   {
    "duration": 31,
    "start_time": "2025-02-23T16:49:59.828Z"
   },
   {
    "duration": 461,
    "start_time": "2025-02-23T16:49:59.870Z"
   },
   {
    "duration": 310,
    "start_time": "2025-02-23T16:50:00.332Z"
   },
   {
    "duration": 400,
    "start_time": "2025-02-23T16:50:47.840Z"
   },
   {
    "duration": 414,
    "start_time": "2025-02-23T17:02:30.814Z"
   },
   {
    "duration": 116,
    "start_time": "2025-02-23T17:04:33.583Z"
   },
   {
    "duration": 3898,
    "start_time": "2025-02-23T17:05:00.330Z"
   },
   {
    "duration": 2446,
    "start_time": "2025-02-23T17:05:04.231Z"
   },
   {
    "duration": 31,
    "start_time": "2025-02-23T17:05:06.678Z"
   },
   {
    "duration": 27,
    "start_time": "2025-02-23T17:05:06.711Z"
   },
   {
    "duration": 120,
    "start_time": "2025-02-23T17:05:06.741Z"
   },
   {
    "duration": 8,
    "start_time": "2025-02-23T17:05:06.863Z"
   },
   {
    "duration": 6,
    "start_time": "2025-02-23T17:05:06.873Z"
   },
   {
    "duration": 14,
    "start_time": "2025-02-23T17:05:06.881Z"
   },
   {
    "duration": 22,
    "start_time": "2025-02-23T17:05:06.897Z"
   },
   {
    "duration": 84,
    "start_time": "2025-02-23T17:05:06.921Z"
   },
   {
    "duration": 48,
    "start_time": "2025-02-23T17:05:07.007Z"
   },
   {
    "duration": 9,
    "start_time": "2025-02-23T17:05:07.057Z"
   },
   {
    "duration": 6,
    "start_time": "2025-02-23T17:05:07.067Z"
   },
   {
    "duration": 30,
    "start_time": "2025-02-23T17:05:07.076Z"
   },
   {
    "duration": 18,
    "start_time": "2025-02-23T17:05:07.108Z"
   },
   {
    "duration": 32,
    "start_time": "2025-02-23T17:05:07.128Z"
   },
   {
    "duration": 7,
    "start_time": "2025-02-23T17:05:07.162Z"
   },
   {
    "duration": 14,
    "start_time": "2025-02-23T17:05:07.171Z"
   },
   {
    "duration": 16,
    "start_time": "2025-02-23T17:05:07.186Z"
   },
   {
    "duration": 58,
    "start_time": "2025-02-23T17:05:07.204Z"
   },
   {
    "duration": 24,
    "start_time": "2025-02-23T17:05:07.263Z"
   },
   {
    "duration": 7,
    "start_time": "2025-02-23T17:05:07.289Z"
   },
   {
    "duration": 38,
    "start_time": "2025-02-23T17:05:07.297Z"
   },
   {
    "duration": 8,
    "start_time": "2025-02-23T17:05:07.337Z"
   },
   {
    "duration": 31,
    "start_time": "2025-02-23T17:05:07.346Z"
   },
   {
    "duration": 39,
    "start_time": "2025-02-23T17:05:07.378Z"
   },
   {
    "duration": 269,
    "start_time": "2025-02-23T17:05:07.418Z"
   },
   {
    "duration": 22,
    "start_time": "2025-02-23T17:05:07.689Z"
   },
   {
    "duration": 95,
    "start_time": "2025-02-23T17:05:07.712Z"
   },
   {
    "duration": 76,
    "start_time": "2025-02-23T17:05:07.808Z"
   },
   {
    "duration": 45,
    "start_time": "2025-02-23T17:05:07.886Z"
   },
   {
    "duration": 115,
    "start_time": "2025-02-23T17:05:07.932Z"
   },
   {
    "duration": 42,
    "start_time": "2025-02-23T17:05:08.049Z"
   },
   {
    "duration": 523,
    "start_time": "2025-02-23T17:05:08.092Z"
   },
   {
    "duration": 125,
    "start_time": "2025-02-23T17:05:09.060Z"
   },
   {
    "duration": 13,
    "start_time": "2025-02-23T17:05:10.411Z"
   },
   {
    "duration": 3777,
    "start_time": "2025-02-23T17:05:27.852Z"
   },
   {
    "duration": 1902,
    "start_time": "2025-02-23T17:05:31.631Z"
   },
   {
    "duration": 39,
    "start_time": "2025-02-23T17:05:33.535Z"
   },
   {
    "duration": 25,
    "start_time": "2025-02-23T17:05:33.576Z"
   },
   {
    "duration": 118,
    "start_time": "2025-02-23T17:05:33.602Z"
   },
   {
    "duration": 4,
    "start_time": "2025-02-23T17:05:33.722Z"
   },
   {
    "duration": 25,
    "start_time": "2025-02-23T17:05:33.728Z"
   },
   {
    "duration": 18,
    "start_time": "2025-02-23T17:05:33.755Z"
   },
   {
    "duration": 9,
    "start_time": "2025-02-23T17:05:33.775Z"
   },
   {
    "duration": 15,
    "start_time": "2025-02-23T17:05:33.785Z"
   },
   {
    "duration": 17,
    "start_time": "2025-02-23T17:05:33.802Z"
   },
   {
    "duration": 37,
    "start_time": "2025-02-23T17:05:33.820Z"
   },
   {
    "duration": 11,
    "start_time": "2025-02-23T17:05:33.859Z"
   },
   {
    "duration": 6,
    "start_time": "2025-02-23T17:05:33.873Z"
   },
   {
    "duration": 9,
    "start_time": "2025-02-23T17:05:33.881Z"
   },
   {
    "duration": 17,
    "start_time": "2025-02-23T17:05:33.891Z"
   },
   {
    "duration": 18,
    "start_time": "2025-02-23T17:05:33.909Z"
   },
   {
    "duration": 30,
    "start_time": "2025-02-23T17:05:33.929Z"
   },
   {
    "duration": 12,
    "start_time": "2025-02-23T17:05:33.961Z"
   },
   {
    "duration": 44,
    "start_time": "2025-02-23T17:05:33.974Z"
   },
   {
    "duration": 15,
    "start_time": "2025-02-23T17:05:34.020Z"
   },
   {
    "duration": 7,
    "start_time": "2025-02-23T17:05:34.037Z"
   },
   {
    "duration": 39,
    "start_time": "2025-02-23T17:05:34.046Z"
   },
   {
    "duration": 19,
    "start_time": "2025-02-23T17:05:34.087Z"
   },
   {
    "duration": 7,
    "start_time": "2025-02-23T17:05:34.108Z"
   },
   {
    "duration": 34,
    "start_time": "2025-02-23T17:05:34.117Z"
   },
   {
    "duration": 235,
    "start_time": "2025-02-23T17:05:34.152Z"
   },
   {
    "duration": 19,
    "start_time": "2025-02-23T17:05:34.389Z"
   },
   {
    "duration": 93,
    "start_time": "2025-02-23T17:05:34.410Z"
   },
   {
    "duration": 83,
    "start_time": "2025-02-23T17:05:34.504Z"
   },
   {
    "duration": 46,
    "start_time": "2025-02-23T17:05:34.589Z"
   },
   {
    "duration": 121,
    "start_time": "2025-02-23T17:05:34.637Z"
   },
   {
    "duration": 41,
    "start_time": "2025-02-23T17:05:34.760Z"
   },
   {
    "duration": 539,
    "start_time": "2025-02-23T17:05:34.802Z"
   },
   {
    "duration": 449,
    "start_time": "2025-02-23T17:05:35.343Z"
   },
   {
    "duration": 139,
    "start_time": "2025-02-23T17:13:13.523Z"
   },
   {
    "duration": 133,
    "start_time": "2025-02-23T17:14:31.731Z"
   },
   {
    "duration": 13,
    "start_time": "2025-02-23T17:14:43.315Z"
   },
   {
    "duration": 3802,
    "start_time": "2025-02-23T17:14:52.038Z"
   },
   {
    "duration": 2081,
    "start_time": "2025-02-23T17:14:55.843Z"
   },
   {
    "duration": 31,
    "start_time": "2025-02-23T17:14:57.926Z"
   },
   {
    "duration": 28,
    "start_time": "2025-02-23T17:14:57.959Z"
   },
   {
    "duration": 105,
    "start_time": "2025-02-23T17:14:57.989Z"
   },
   {
    "duration": 5,
    "start_time": "2025-02-23T17:14:58.095Z"
   },
   {
    "duration": 13,
    "start_time": "2025-02-23T17:14:58.102Z"
   },
   {
    "duration": 20,
    "start_time": "2025-02-23T17:14:58.116Z"
   },
   {
    "duration": 38,
    "start_time": "2025-02-23T17:14:58.138Z"
   },
   {
    "duration": 34,
    "start_time": "2025-02-23T17:14:58.178Z"
   },
   {
    "duration": 32,
    "start_time": "2025-02-23T17:14:58.213Z"
   },
   {
    "duration": 13,
    "start_time": "2025-02-23T17:14:58.246Z"
   },
   {
    "duration": 4,
    "start_time": "2025-02-23T17:14:58.261Z"
   },
   {
    "duration": 37,
    "start_time": "2025-02-23T17:14:58.266Z"
   },
   {
    "duration": 20,
    "start_time": "2025-02-23T17:14:58.305Z"
   },
   {
    "duration": 14,
    "start_time": "2025-02-23T17:14:58.326Z"
   },
   {
    "duration": 19,
    "start_time": "2025-02-23T17:14:58.341Z"
   },
   {
    "duration": 39,
    "start_time": "2025-02-23T17:14:58.361Z"
   },
   {
    "duration": 44,
    "start_time": "2025-02-23T17:14:58.402Z"
   },
   {
    "duration": 90,
    "start_time": "2025-02-23T17:14:58.447Z"
   },
   {
    "duration": 15,
    "start_time": "2025-02-23T17:14:58.538Z"
   },
   {
    "duration": 12,
    "start_time": "2025-02-23T17:14:58.555Z"
   },
   {
    "duration": 52,
    "start_time": "2025-02-23T17:14:58.568Z"
   },
   {
    "duration": 32,
    "start_time": "2025-02-23T17:14:58.622Z"
   },
   {
    "duration": 45,
    "start_time": "2025-02-23T17:14:58.656Z"
   },
   {
    "duration": 39,
    "start_time": "2025-02-23T17:14:58.704Z"
   },
   {
    "duration": 258,
    "start_time": "2025-02-23T17:14:58.744Z"
   },
   {
    "duration": 18,
    "start_time": "2025-02-23T17:14:59.005Z"
   },
   {
    "duration": 122,
    "start_time": "2025-02-23T17:14:59.025Z"
   },
   {
    "duration": 75,
    "start_time": "2025-02-23T17:14:59.148Z"
   },
   {
    "duration": 49,
    "start_time": "2025-02-23T17:14:59.225Z"
   },
   {
    "duration": 116,
    "start_time": "2025-02-23T17:14:59.276Z"
   },
   {
    "duration": 34,
    "start_time": "2025-02-23T17:14:59.394Z"
   },
   {
    "duration": 498,
    "start_time": "2025-02-23T17:14:59.430Z"
   },
   {
    "duration": 446,
    "start_time": "2025-02-23T17:14:59.929Z"
   },
   {
    "duration": 135,
    "start_time": "2025-02-23T17:15:00.376Z"
   },
   {
    "duration": 120,
    "start_time": "2025-02-23T17:15:00.512Z"
   },
   {
    "duration": 0,
    "start_time": "2025-02-23T17:15:00.634Z"
   },
   {
    "duration": 17,
    "start_time": "2025-02-23T17:15:39.466Z"
   },
   {
    "duration": 14,
    "start_time": "2025-02-23T17:15:52.966Z"
   },
   {
    "duration": 14,
    "start_time": "2025-02-23T17:15:54.723Z"
   },
   {
    "duration": 3750,
    "start_time": "2025-02-23T17:16:05.543Z"
   },
   {
    "duration": 1787,
    "start_time": "2025-02-23T17:16:09.295Z"
   },
   {
    "duration": 30,
    "start_time": "2025-02-23T17:16:11.083Z"
   },
   {
    "duration": 22,
    "start_time": "2025-02-23T17:16:11.114Z"
   },
   {
    "duration": 112,
    "start_time": "2025-02-23T17:16:11.138Z"
   },
   {
    "duration": 5,
    "start_time": "2025-02-23T17:16:11.252Z"
   },
   {
    "duration": 25,
    "start_time": "2025-02-23T17:16:11.258Z"
   },
   {
    "duration": 6,
    "start_time": "2025-02-23T17:16:11.284Z"
   },
   {
    "duration": 7,
    "start_time": "2025-02-23T17:16:11.292Z"
   },
   {
    "duration": 25,
    "start_time": "2025-02-23T17:16:11.301Z"
   },
   {
    "duration": 17,
    "start_time": "2025-02-23T17:16:11.328Z"
   },
   {
    "duration": 11,
    "start_time": "2025-02-23T17:16:11.346Z"
   },
   {
    "duration": 13,
    "start_time": "2025-02-23T17:16:11.358Z"
   },
   {
    "duration": 5,
    "start_time": "2025-02-23T17:16:11.374Z"
   },
   {
    "duration": 22,
    "start_time": "2025-02-23T17:16:11.380Z"
   },
   {
    "duration": 15,
    "start_time": "2025-02-23T17:16:11.404Z"
   },
   {
    "duration": 8,
    "start_time": "2025-02-23T17:16:11.421Z"
   },
   {
    "duration": 14,
    "start_time": "2025-02-23T17:16:11.431Z"
   },
   {
    "duration": 9,
    "start_time": "2025-02-23T17:16:11.447Z"
   },
   {
    "duration": 47,
    "start_time": "2025-02-23T17:16:11.457Z"
   },
   {
    "duration": 15,
    "start_time": "2025-02-23T17:16:11.505Z"
   },
   {
    "duration": 8,
    "start_time": "2025-02-23T17:16:11.521Z"
   },
   {
    "duration": 40,
    "start_time": "2025-02-23T17:16:11.530Z"
   },
   {
    "duration": 8,
    "start_time": "2025-02-23T17:16:11.571Z"
   },
   {
    "duration": 10,
    "start_time": "2025-02-23T17:16:11.580Z"
   },
   {
    "duration": 37,
    "start_time": "2025-02-23T17:16:11.591Z"
   },
   {
    "duration": 243,
    "start_time": "2025-02-23T17:16:11.630Z"
   },
   {
    "duration": 21,
    "start_time": "2025-02-23T17:16:11.875Z"
   },
   {
    "duration": 99,
    "start_time": "2025-02-23T17:16:11.898Z"
   },
   {
    "duration": 76,
    "start_time": "2025-02-23T17:16:11.998Z"
   },
   {
    "duration": 49,
    "start_time": "2025-02-23T17:16:12.076Z"
   },
   {
    "duration": 122,
    "start_time": "2025-02-23T17:16:12.126Z"
   },
   {
    "duration": 43,
    "start_time": "2025-02-23T17:16:12.250Z"
   },
   {
    "duration": 528,
    "start_time": "2025-02-23T17:16:12.294Z"
   },
   {
    "duration": 426,
    "start_time": "2025-02-23T17:16:12.824Z"
   },
   {
    "duration": 134,
    "start_time": "2025-02-23T17:16:13.251Z"
   },
   {
    "duration": 120,
    "start_time": "2025-02-23T17:16:13.387Z"
   },
   {
    "duration": 0,
    "start_time": "2025-02-23T17:16:13.508Z"
   },
   {
    "duration": 3907,
    "start_time": "2025-02-23T17:16:36.684Z"
   },
   {
    "duration": 1847,
    "start_time": "2025-02-23T17:16:40.593Z"
   },
   {
    "duration": 37,
    "start_time": "2025-02-23T17:16:42.442Z"
   },
   {
    "duration": 22,
    "start_time": "2025-02-23T17:16:42.481Z"
   },
   {
    "duration": 104,
    "start_time": "2025-02-23T17:16:42.504Z"
   },
   {
    "duration": 5,
    "start_time": "2025-02-23T17:16:42.609Z"
   },
   {
    "duration": 8,
    "start_time": "2025-02-23T17:16:42.616Z"
   },
   {
    "duration": 6,
    "start_time": "2025-02-23T17:16:42.625Z"
   },
   {
    "duration": 7,
    "start_time": "2025-02-23T17:16:42.632Z"
   },
   {
    "duration": 38,
    "start_time": "2025-02-23T17:16:42.642Z"
   },
   {
    "duration": 16,
    "start_time": "2025-02-23T17:16:42.681Z"
   },
   {
    "duration": 12,
    "start_time": "2025-02-23T17:16:42.698Z"
   },
   {
    "duration": 5,
    "start_time": "2025-02-23T17:16:42.711Z"
   },
   {
    "duration": 6,
    "start_time": "2025-02-23T17:16:42.717Z"
   },
   {
    "duration": 15,
    "start_time": "2025-02-23T17:16:42.724Z"
   },
   {
    "duration": 17,
    "start_time": "2025-02-23T17:16:42.741Z"
   },
   {
    "duration": 4,
    "start_time": "2025-02-23T17:16:42.759Z"
   },
   {
    "duration": 7,
    "start_time": "2025-02-23T17:16:42.770Z"
   },
   {
    "duration": 17,
    "start_time": "2025-02-23T17:16:42.778Z"
   },
   {
    "duration": 39,
    "start_time": "2025-02-23T17:16:42.797Z"
   },
   {
    "duration": 13,
    "start_time": "2025-02-23T17:16:42.838Z"
   },
   {
    "duration": 20,
    "start_time": "2025-02-23T17:16:42.852Z"
   },
   {
    "duration": 19,
    "start_time": "2025-02-23T17:16:42.873Z"
   },
   {
    "duration": 19,
    "start_time": "2025-02-23T17:16:42.894Z"
   },
   {
    "duration": 7,
    "start_time": "2025-02-23T17:16:42.914Z"
   },
   {
    "duration": 33,
    "start_time": "2025-02-23T17:16:42.923Z"
   },
   {
    "duration": 229,
    "start_time": "2025-02-23T17:16:42.958Z"
   },
   {
    "duration": 18,
    "start_time": "2025-02-23T17:16:43.192Z"
   },
   {
    "duration": 95,
    "start_time": "2025-02-23T17:16:43.212Z"
   },
   {
    "duration": 75,
    "start_time": "2025-02-23T17:16:43.309Z"
   },
   {
    "duration": 44,
    "start_time": "2025-02-23T17:16:43.386Z"
   },
   {
    "duration": 118,
    "start_time": "2025-02-23T17:16:43.431Z"
   },
   {
    "duration": 43,
    "start_time": "2025-02-23T17:16:43.551Z"
   },
   {
    "duration": 531,
    "start_time": "2025-02-23T17:16:43.595Z"
   },
   {
    "duration": 403,
    "start_time": "2025-02-23T17:16:44.127Z"
   },
   {
    "duration": 134,
    "start_time": "2025-02-23T17:16:44.532Z"
   },
   {
    "duration": 114,
    "start_time": "2025-02-23T17:16:44.667Z"
   },
   {
    "duration": 0,
    "start_time": "2025-02-23T17:16:44.782Z"
   },
   {
    "duration": 133,
    "start_time": "2025-02-23T17:17:25.679Z"
   },
   {
    "duration": 201,
    "start_time": "2025-02-23T17:17:57.539Z"
   },
   {
    "duration": 180,
    "start_time": "2025-02-23T17:19:16.946Z"
   },
   {
    "duration": 115,
    "start_time": "2025-02-23T17:19:33.464Z"
   },
   {
    "duration": 113,
    "start_time": "2025-02-23T17:20:08.840Z"
   },
   {
    "duration": 177,
    "start_time": "2025-02-23T17:25:01.236Z"
   },
   {
    "duration": 64,
    "start_time": "2025-02-23T17:25:22.725Z"
   },
   {
    "duration": 3,
    "start_time": "2025-02-23T17:40:53.748Z"
   },
   {
    "duration": 4,
    "start_time": "2025-02-23T17:41:02.363Z"
   },
   {
    "duration": 9,
    "start_time": "2025-02-23T17:42:44.556Z"
   },
   {
    "duration": 8,
    "start_time": "2025-02-23T17:42:47.247Z"
   },
   {
    "duration": 9,
    "start_time": "2025-02-23T17:42:53.465Z"
   },
   {
    "duration": 14,
    "start_time": "2025-02-23T17:43:24.731Z"
   },
   {
    "duration": 65,
    "start_time": "2025-02-24T11:44:28.824Z"
   },
   {
    "duration": 6995,
    "start_time": "2025-02-24T11:44:37.911Z"
   },
   {
    "duration": 2260,
    "start_time": "2025-02-24T11:44:44.909Z"
   },
   {
    "duration": 49,
    "start_time": "2025-02-24T11:44:47.173Z"
   },
   {
    "duration": 30,
    "start_time": "2025-02-24T11:44:47.233Z"
   },
   {
    "duration": 118,
    "start_time": "2025-02-24T11:44:47.265Z"
   },
   {
    "duration": 7,
    "start_time": "2025-02-24T11:44:47.385Z"
   },
   {
    "duration": 32,
    "start_time": "2025-02-24T11:44:47.394Z"
   },
   {
    "duration": 8,
    "start_time": "2025-02-24T11:44:47.427Z"
   },
   {
    "duration": 16,
    "start_time": "2025-02-24T11:44:47.437Z"
   },
   {
    "duration": 15,
    "start_time": "2025-02-24T11:44:47.455Z"
   },
   {
    "duration": 18,
    "start_time": "2025-02-24T11:44:47.472Z"
   },
   {
    "duration": 37,
    "start_time": "2025-02-24T11:44:47.491Z"
   },
   {
    "duration": 4,
    "start_time": "2025-02-24T11:44:47.533Z"
   },
   {
    "duration": 39,
    "start_time": "2025-02-24T11:44:47.539Z"
   },
   {
    "duration": 11,
    "start_time": "2025-02-24T11:44:47.580Z"
   },
   {
    "duration": 10,
    "start_time": "2025-02-24T11:44:47.593Z"
   },
   {
    "duration": 19,
    "start_time": "2025-02-24T11:44:47.605Z"
   },
   {
    "duration": 20,
    "start_time": "2025-02-24T11:44:47.626Z"
   },
   {
    "duration": 22,
    "start_time": "2025-02-24T11:44:47.649Z"
   },
   {
    "duration": 39,
    "start_time": "2025-02-24T11:44:47.673Z"
   },
   {
    "duration": 68,
    "start_time": "2025-02-24T11:44:47.714Z"
   },
   {
    "duration": 7,
    "start_time": "2025-02-24T11:44:47.784Z"
   },
   {
    "duration": 19,
    "start_time": "2025-02-24T11:44:47.793Z"
   },
   {
    "duration": 23,
    "start_time": "2025-02-24T11:44:47.821Z"
   },
   {
    "duration": 98,
    "start_time": "2025-02-24T11:44:47.846Z"
   },
   {
    "duration": 23,
    "start_time": "2025-02-24T11:44:47.947Z"
   },
   {
    "duration": 271,
    "start_time": "2025-02-24T11:44:47.972Z"
   },
   {
    "duration": 21,
    "start_time": "2025-02-24T11:44:48.245Z"
   },
   {
    "duration": 111,
    "start_time": "2025-02-24T11:44:48.267Z"
   },
   {
    "duration": 100,
    "start_time": "2025-02-24T11:44:48.380Z"
   },
   {
    "duration": 78,
    "start_time": "2025-02-24T11:44:48.483Z"
   },
   {
    "duration": 143,
    "start_time": "2025-02-24T11:44:48.564Z"
   },
   {
    "duration": 45,
    "start_time": "2025-02-24T11:44:48.720Z"
   },
   {
    "duration": 537,
    "start_time": "2025-02-24T11:44:48.767Z"
   },
   {
    "duration": 485,
    "start_time": "2025-02-24T11:44:49.306Z"
   },
   {
    "duration": 169,
    "start_time": "2025-02-24T11:44:49.793Z"
   },
   {
    "duration": 281,
    "start_time": "2025-02-24T11:44:49.964Z"
   },
   {
    "duration": 89,
    "start_time": "2025-02-24T11:44:50.247Z"
   },
   {
    "duration": 0,
    "start_time": "2025-02-24T11:44:50.338Z"
   },
   {
    "duration": 0,
    "start_time": "2025-02-24T11:44:50.339Z"
   },
   {
    "duration": 16,
    "start_time": "2025-02-24T11:53:37.786Z"
   },
   {
    "duration": 138,
    "start_time": "2025-02-24T11:54:25.309Z"
   },
   {
    "duration": 22,
    "start_time": "2025-02-24T11:54:43.010Z"
   },
   {
    "duration": 24,
    "start_time": "2025-02-24T11:55:10.407Z"
   },
   {
    "duration": 18,
    "start_time": "2025-02-24T11:59:48.260Z"
   },
   {
    "duration": 13,
    "start_time": "2025-02-24T12:00:06.437Z"
   },
   {
    "duration": 15,
    "start_time": "2025-02-24T12:00:14.995Z"
   },
   {
    "duration": 7,
    "start_time": "2025-02-24T12:01:23.342Z"
   },
   {
    "duration": 12,
    "start_time": "2025-02-24T12:02:29.937Z"
   },
   {
    "duration": 12,
    "start_time": "2025-02-24T12:02:42.033Z"
   },
   {
    "duration": 10,
    "start_time": "2025-02-24T12:06:17.867Z"
   },
   {
    "duration": 5,
    "start_time": "2025-02-24T12:06:49.007Z"
   },
   {
    "duration": 10,
    "start_time": "2025-02-24T12:06:58.822Z"
   },
   {
    "duration": 5,
    "start_time": "2025-02-24T12:10:54.110Z"
   },
   {
    "duration": 10,
    "start_time": "2025-02-24T12:21:50.191Z"
   },
   {
    "duration": 13,
    "start_time": "2025-02-24T12:22:17.527Z"
   },
   {
    "duration": 7,
    "start_time": "2025-02-24T12:22:22.011Z"
   },
   {
    "duration": 80,
    "start_time": "2025-02-24T12:22:24.695Z"
   },
   {
    "duration": 14,
    "start_time": "2025-02-24T12:22:33.667Z"
   },
   {
    "duration": 164,
    "start_time": "2025-02-24T12:28:14.444Z"
   },
   {
    "duration": 5,
    "start_time": "2025-02-24T12:30:15.293Z"
   },
   {
    "duration": 5,
    "start_time": "2025-02-24T12:30:25.931Z"
   },
   {
    "duration": 8,
    "start_time": "2025-02-24T12:30:36.563Z"
   },
   {
    "duration": 75,
    "start_time": "2025-02-24T12:30:58.409Z"
   },
   {
    "duration": 6,
    "start_time": "2025-02-24T12:31:25.706Z"
   },
   {
    "duration": 168,
    "start_time": "2025-02-24T12:31:43.702Z"
   },
   {
    "duration": 7,
    "start_time": "2025-02-24T12:31:54.126Z"
   },
   {
    "duration": 7,
    "start_time": "2025-02-24T12:32:07.662Z"
   },
   {
    "duration": 163,
    "start_time": "2025-02-24T12:32:27.749Z"
   },
   {
    "duration": 6,
    "start_time": "2025-02-24T12:32:32.685Z"
   },
   {
    "duration": 6,
    "start_time": "2025-02-24T12:32:45.248Z"
   },
   {
    "duration": 160,
    "start_time": "2025-02-24T12:33:35.683Z"
   },
   {
    "duration": 7,
    "start_time": "2025-02-24T12:33:43.053Z"
   },
   {
    "duration": 6,
    "start_time": "2025-02-24T12:33:55.135Z"
   },
   {
    "duration": 164,
    "start_time": "2025-02-24T12:37:10.030Z"
   },
   {
    "duration": 79,
    "start_time": "2025-02-24T12:53:18.931Z"
   },
   {
    "duration": 156,
    "start_time": "2025-02-24T12:55:40.820Z"
   },
   {
    "duration": 93,
    "start_time": "2025-02-24T12:55:42.692Z"
   },
   {
    "duration": 87,
    "start_time": "2025-02-24T12:55:43.638Z"
   },
   {
    "duration": 178,
    "start_time": "2025-02-24T12:58:06.385Z"
   },
   {
    "duration": 4216,
    "start_time": "2025-02-24T12:58:46.841Z"
   },
   {
    "duration": 2313,
    "start_time": "2025-02-24T12:58:51.060Z"
   },
   {
    "duration": 39,
    "start_time": "2025-02-24T12:58:53.375Z"
   },
   {
    "duration": 28,
    "start_time": "2025-02-24T12:58:53.416Z"
   },
   {
    "duration": 124,
    "start_time": "2025-02-24T12:58:53.447Z"
   },
   {
    "duration": 6,
    "start_time": "2025-02-24T12:58:53.573Z"
   },
   {
    "duration": 7,
    "start_time": "2025-02-24T12:58:53.581Z"
   },
   {
    "duration": 27,
    "start_time": "2025-02-24T12:58:53.590Z"
   },
   {
    "duration": 9,
    "start_time": "2025-02-24T12:58:53.619Z"
   },
   {
    "duration": 16,
    "start_time": "2025-02-24T12:58:53.629Z"
   },
   {
    "duration": 20,
    "start_time": "2025-02-24T12:58:53.647Z"
   },
   {
    "duration": 6,
    "start_time": "2025-02-24T12:58:53.669Z"
   },
   {
    "duration": 41,
    "start_time": "2025-02-24T12:58:53.676Z"
   },
   {
    "duration": 17,
    "start_time": "2025-02-24T12:58:53.721Z"
   },
   {
    "duration": 15,
    "start_time": "2025-02-24T12:58:53.739Z"
   },
   {
    "duration": 12,
    "start_time": "2025-02-24T12:58:53.755Z"
   },
   {
    "duration": 5,
    "start_time": "2025-02-24T12:58:53.769Z"
   },
   {
    "duration": 9,
    "start_time": "2025-02-24T12:58:53.776Z"
   },
   {
    "duration": 29,
    "start_time": "2025-02-24T12:58:53.786Z"
   },
   {
    "duration": 42,
    "start_time": "2025-02-24T12:58:53.817Z"
   },
   {
    "duration": 15,
    "start_time": "2025-02-24T12:58:53.862Z"
   },
   {
    "duration": 8,
    "start_time": "2025-02-24T12:58:53.879Z"
   },
   {
    "duration": 46,
    "start_time": "2025-02-24T12:58:53.889Z"
   },
   {
    "duration": 80,
    "start_time": "2025-02-24T12:58:53.937Z"
   },
   {
    "duration": 8,
    "start_time": "2025-02-24T12:58:54.020Z"
   },
   {
    "duration": 25,
    "start_time": "2025-02-24T12:58:54.030Z"
   },
   {
    "duration": 286,
    "start_time": "2025-02-24T12:58:54.057Z"
   },
   {
    "duration": 20,
    "start_time": "2025-02-24T12:58:54.344Z"
   },
   {
    "duration": 97,
    "start_time": "2025-02-24T12:58:54.366Z"
   },
   {
    "duration": 83,
    "start_time": "2025-02-24T12:58:54.465Z"
   },
   {
    "duration": 63,
    "start_time": "2025-02-24T12:58:54.550Z"
   },
   {
    "duration": 124,
    "start_time": "2025-02-24T12:58:54.615Z"
   },
   {
    "duration": 63,
    "start_time": "2025-02-24T12:58:54.741Z"
   },
   {
    "duration": 583,
    "start_time": "2025-02-24T12:58:54.806Z"
   },
   {
    "duration": 446,
    "start_time": "2025-02-24T12:58:55.391Z"
   },
   {
    "duration": 146,
    "start_time": "2025-02-24T12:58:55.839Z"
   },
   {
    "duration": 280,
    "start_time": "2025-02-24T12:58:55.988Z"
   },
   {
    "duration": 77,
    "start_time": "2025-02-24T12:58:56.270Z"
   },
   {
    "duration": 25,
    "start_time": "2025-02-24T12:58:56.349Z"
   },
   {
    "duration": 6,
    "start_time": "2025-02-24T12:58:56.376Z"
   },
   {
    "duration": 5,
    "start_time": "2025-02-24T12:58:56.386Z"
   },
   {
    "duration": 222,
    "start_time": "2025-02-24T12:58:56.393Z"
   },
   {
    "duration": 196,
    "start_time": "2025-02-24T12:58:56.617Z"
   },
   {
    "duration": 73,
    "start_time": "2025-02-24T12:58:56.815Z"
   },
   {
    "duration": 0,
    "start_time": "2025-02-24T12:58:56.890Z"
   },
   {
    "duration": 0,
    "start_time": "2025-02-24T12:58:56.891Z"
   },
   {
    "duration": 76,
    "start_time": "2025-02-24T13:04:46.991Z"
   },
   {
    "duration": 37,
    "start_time": "2025-02-24T13:10:58.251Z"
   },
   {
    "duration": 32,
    "start_time": "2025-02-24T13:11:46.848Z"
   },
   {
    "duration": 113,
    "start_time": "2025-02-24T13:14:08.149Z"
   },
   {
    "duration": 35,
    "start_time": "2025-02-24T13:14:21.317Z"
   },
   {
    "duration": 35,
    "start_time": "2025-02-24T13:15:27.940Z"
   },
   {
    "duration": 36,
    "start_time": "2025-02-24T13:15:40.299Z"
   },
   {
    "duration": 128,
    "start_time": "2025-02-24T13:17:51.838Z"
   },
   {
    "duration": 35,
    "start_time": "2025-02-24T13:19:09.772Z"
   },
   {
    "duration": 200,
    "start_time": "2025-02-24T13:27:40.283Z"
   },
   {
    "duration": 166,
    "start_time": "2025-02-24T13:28:05.957Z"
   },
   {
    "duration": 110,
    "start_time": "2025-02-24T13:32:24.454Z"
   },
   {
    "duration": 185,
    "start_time": "2025-02-24T13:32:36.720Z"
   },
   {
    "duration": 177,
    "start_time": "2025-02-24T13:32:41.842Z"
   },
   {
    "duration": 195,
    "start_time": "2025-02-24T13:33:15.947Z"
   },
   {
    "duration": 172,
    "start_time": "2025-02-24T13:33:27.248Z"
   },
   {
    "duration": 189,
    "start_time": "2025-02-24T13:33:59.408Z"
   },
   {
    "duration": 79,
    "start_time": "2025-02-24T13:34:07.838Z"
   },
   {
    "duration": 101,
    "start_time": "2025-02-24T13:34:17.426Z"
   },
   {
    "duration": 206,
    "start_time": "2025-02-24T13:34:23.883Z"
   },
   {
    "duration": 235,
    "start_time": "2025-02-24T13:35:00.961Z"
   },
   {
    "duration": 6,
    "start_time": "2025-02-24T13:36:16.469Z"
   },
   {
    "duration": 21,
    "start_time": "2025-02-24T13:36:25.889Z"
   },
   {
    "duration": 3,
    "start_time": "2025-02-24T13:46:41.771Z"
   },
   {
    "duration": 216,
    "start_time": "2025-02-24T13:47:32.491Z"
   },
   {
    "duration": 11,
    "start_time": "2025-02-24T13:50:35.778Z"
   },
   {
    "duration": 27,
    "start_time": "2025-02-24T13:50:56.275Z"
   },
   {
    "duration": 3,
    "start_time": "2025-02-24T13:51:46.413Z"
   },
   {
    "duration": 8,
    "start_time": "2025-02-24T13:51:57.544Z"
   },
   {
    "duration": 11,
    "start_time": "2025-02-24T13:53:30.060Z"
   },
   {
    "duration": 46,
    "start_time": "2025-02-24T13:54:44.800Z"
   },
   {
    "duration": 9,
    "start_time": "2025-02-24T13:55:07.533Z"
   },
   {
    "duration": 269,
    "start_time": "2025-02-24T13:56:14.712Z"
   },
   {
    "duration": 7,
    "start_time": "2025-02-24T13:57:03.081Z"
   },
   {
    "duration": 12,
    "start_time": "2025-02-24T13:59:22.540Z"
   },
   {
    "duration": 10,
    "start_time": "2025-02-24T14:00:19.481Z"
   },
   {
    "duration": 17,
    "start_time": "2025-02-24T14:00:54.838Z"
   },
   {
    "duration": 14,
    "start_time": "2025-02-24T14:01:59.204Z"
   },
   {
    "duration": 32,
    "start_time": "2025-02-24T14:04:19.324Z"
   },
   {
    "duration": 16,
    "start_time": "2025-02-24T14:04:28.306Z"
   },
   {
    "duration": 22,
    "start_time": "2025-02-24T14:06:34.185Z"
   },
   {
    "duration": 269,
    "start_time": "2025-02-24T14:07:14.977Z"
   },
   {
    "duration": 9,
    "start_time": "2025-02-24T14:10:32.152Z"
   },
   {
    "duration": 83,
    "start_time": "2025-02-24T16:14:24.547Z"
   },
   {
    "duration": 16,
    "start_time": "2025-02-24T16:35:54.998Z"
   },
   {
    "duration": 87,
    "start_time": "2025-02-24T16:36:12.329Z"
   },
   {
    "duration": 28,
    "start_time": "2025-02-24T16:38:58.354Z"
   },
   {
    "duration": 70,
    "start_time": "2025-02-24T16:41:43.490Z"
   },
   {
    "duration": 250,
    "start_time": "2025-02-24T16:46:11.477Z"
   },
   {
    "duration": 209,
    "start_time": "2025-02-24T16:46:26.963Z"
   },
   {
    "duration": 49,
    "start_time": "2025-02-24T16:47:08.764Z"
   },
   {
    "duration": 66,
    "start_time": "2025-02-24T16:49:20.588Z"
   },
   {
    "duration": 310,
    "start_time": "2025-02-24T16:49:24.453Z"
   },
   {
    "duration": 84,
    "start_time": "2025-02-24T16:49:26.442Z"
   },
   {
    "duration": 13,
    "start_time": "2025-02-24T16:49:29.131Z"
   },
   {
    "duration": 4111,
    "start_time": "2025-02-24T16:57:47.974Z"
   },
   {
    "duration": 2505,
    "start_time": "2025-02-24T16:57:52.087Z"
   },
   {
    "duration": 44,
    "start_time": "2025-02-24T16:57:54.594Z"
   },
   {
    "duration": 25,
    "start_time": "2025-02-24T16:57:54.641Z"
   },
   {
    "duration": 120,
    "start_time": "2025-02-24T16:57:54.668Z"
   },
   {
    "duration": 6,
    "start_time": "2025-02-24T16:57:54.790Z"
   },
   {
    "duration": 18,
    "start_time": "2025-02-24T16:57:54.797Z"
   },
   {
    "duration": 6,
    "start_time": "2025-02-24T16:57:54.817Z"
   },
   {
    "duration": 8,
    "start_time": "2025-02-24T16:57:54.824Z"
   },
   {
    "duration": 15,
    "start_time": "2025-02-24T16:57:54.835Z"
   },
   {
    "duration": 19,
    "start_time": "2025-02-24T16:57:54.852Z"
   },
   {
    "duration": 4,
    "start_time": "2025-02-24T16:57:54.873Z"
   },
   {
    "duration": 4,
    "start_time": "2025-02-24T16:57:54.914Z"
   },
   {
    "duration": 5,
    "start_time": "2025-02-24T16:57:54.920Z"
   },
   {
    "duration": 10,
    "start_time": "2025-02-24T16:57:54.927Z"
   },
   {
    "duration": 12,
    "start_time": "2025-02-24T16:57:54.939Z"
   },
   {
    "duration": 5,
    "start_time": "2025-02-24T16:57:54.953Z"
   },
   {
    "duration": 15,
    "start_time": "2025-02-24T16:57:54.960Z"
   },
   {
    "duration": 143,
    "start_time": "2025-02-24T16:57:54.977Z"
   },
   {
    "duration": 43,
    "start_time": "2025-02-24T16:57:55.122Z"
   },
   {
    "duration": 16,
    "start_time": "2025-02-24T16:57:55.167Z"
   },
   {
    "duration": 34,
    "start_time": "2025-02-24T16:57:55.185Z"
   },
   {
    "duration": 26,
    "start_time": "2025-02-24T16:57:55.221Z"
   },
   {
    "duration": 13,
    "start_time": "2025-02-24T16:57:55.249Z"
   },
   {
    "duration": 94,
    "start_time": "2025-02-24T16:57:55.264Z"
   },
   {
    "duration": 26,
    "start_time": "2025-02-24T16:57:55.361Z"
   },
   {
    "duration": 271,
    "start_time": "2025-02-24T16:57:55.389Z"
   },
   {
    "duration": 23,
    "start_time": "2025-02-24T16:57:55.665Z"
   },
   {
    "duration": 103,
    "start_time": "2025-02-24T16:57:55.690Z"
   },
   {
    "duration": 92,
    "start_time": "2025-02-24T16:57:55.794Z"
   },
   {
    "duration": 60,
    "start_time": "2025-02-24T16:57:55.888Z"
   },
   {
    "duration": 129,
    "start_time": "2025-02-24T16:57:55.950Z"
   },
   {
    "duration": 54,
    "start_time": "2025-02-24T16:57:56.081Z"
   },
   {
    "duration": 579,
    "start_time": "2025-02-24T16:57:56.137Z"
   },
   {
    "duration": 455,
    "start_time": "2025-02-24T16:57:56.718Z"
   },
   {
    "duration": 145,
    "start_time": "2025-02-24T16:57:57.175Z"
   },
   {
    "duration": 243,
    "start_time": "2025-02-24T16:57:57.321Z"
   },
   {
    "duration": 83,
    "start_time": "2025-02-24T16:57:57.566Z"
   },
   {
    "duration": 34,
    "start_time": "2025-02-24T16:57:57.651Z"
   },
   {
    "duration": 74,
    "start_time": "2025-02-24T16:57:57.687Z"
   },
   {
    "duration": 24,
    "start_time": "2025-02-24T16:57:57.763Z"
   },
   {
    "duration": 159,
    "start_time": "2025-02-24T16:57:57.788Z"
   },
   {
    "duration": 176,
    "start_time": "2025-02-24T16:57:57.948Z"
   },
   {
    "duration": 89,
    "start_time": "2025-02-24T16:57:58.125Z"
   },
   {
    "duration": 203,
    "start_time": "2025-02-24T16:57:58.216Z"
   },
   {
    "duration": 245,
    "start_time": "2025-02-24T16:57:58.421Z"
   },
   {
    "duration": 9,
    "start_time": "2025-02-24T16:57:58.667Z"
   },
   {
    "duration": 94,
    "start_time": "2025-02-24T16:57:58.677Z"
   },
   {
    "duration": 89,
    "start_time": "2025-02-24T16:57:58.773Z"
   },
   {
    "duration": 9,
    "start_time": "2025-02-24T16:57:58.864Z"
   },
   {
    "duration": 265,
    "start_time": "2025-02-24T16:57:58.874Z"
   },
   {
    "duration": 76,
    "start_time": "2025-02-24T16:57:59.141Z"
   },
   {
    "duration": 312,
    "start_time": "2025-02-24T16:57:59.219Z"
   },
   {
    "duration": 63,
    "start_time": "2025-02-24T16:57:59.532Z"
   },
   {
    "duration": 29,
    "start_time": "2025-02-24T16:57:59.596Z"
   },
   {
    "duration": 4304,
    "start_time": "2025-02-24T17:37:22.252Z"
   },
   {
    "duration": 2854,
    "start_time": "2025-02-24T17:37:26.558Z"
   },
   {
    "duration": 32,
    "start_time": "2025-02-24T17:37:29.414Z"
   },
   {
    "duration": 29,
    "start_time": "2025-02-24T17:37:29.447Z"
   },
   {
    "duration": 119,
    "start_time": "2025-02-24T17:37:29.478Z"
   },
   {
    "duration": 8,
    "start_time": "2025-02-24T17:37:29.602Z"
   },
   {
    "duration": 30,
    "start_time": "2025-02-24T17:37:29.612Z"
   },
   {
    "duration": 9,
    "start_time": "2025-02-24T17:37:29.644Z"
   },
   {
    "duration": 10,
    "start_time": "2025-02-24T17:37:29.656Z"
   },
   {
    "duration": 28,
    "start_time": "2025-02-24T17:37:29.668Z"
   },
   {
    "duration": 18,
    "start_time": "2025-02-24T17:37:29.698Z"
   },
   {
    "duration": 14,
    "start_time": "2025-02-24T17:37:29.718Z"
   },
   {
    "duration": 34,
    "start_time": "2025-02-24T17:37:29.734Z"
   },
   {
    "duration": 6,
    "start_time": "2025-02-24T17:37:29.771Z"
   },
   {
    "duration": 99,
    "start_time": "2025-02-24T17:37:29.778Z"
   },
   {
    "duration": 12,
    "start_time": "2025-02-24T17:37:29.879Z"
   },
   {
    "duration": 11,
    "start_time": "2025-02-24T17:37:29.893Z"
   },
   {
    "duration": 115,
    "start_time": "2025-02-24T17:37:29.906Z"
   },
   {
    "duration": 37,
    "start_time": "2025-02-24T17:37:30.023Z"
   },
   {
    "duration": 159,
    "start_time": "2025-02-24T17:37:30.062Z"
   },
   {
    "duration": 30,
    "start_time": "2025-02-24T17:37:30.222Z"
   },
   {
    "duration": 18,
    "start_time": "2025-02-24T17:37:30.253Z"
   },
   {
    "duration": 158,
    "start_time": "2025-02-24T17:37:30.273Z"
   },
   {
    "duration": 100,
    "start_time": "2025-02-24T17:37:30.433Z"
   },
   {
    "duration": 34,
    "start_time": "2025-02-24T17:37:30.535Z"
   },
   {
    "duration": 80,
    "start_time": "2025-02-24T17:37:30.571Z"
   },
   {
    "duration": 297,
    "start_time": "2025-02-24T17:37:30.653Z"
   },
   {
    "duration": 23,
    "start_time": "2025-02-24T17:37:30.951Z"
   },
   {
    "duration": 99,
    "start_time": "2025-02-24T17:37:30.976Z"
   },
   {
    "duration": 81,
    "start_time": "2025-02-24T17:37:31.077Z"
   },
   {
    "duration": 56,
    "start_time": "2025-02-24T17:37:31.160Z"
   },
   {
    "duration": 126,
    "start_time": "2025-02-24T17:37:31.218Z"
   },
   {
    "duration": 41,
    "start_time": "2025-02-24T17:37:31.346Z"
   },
   {
    "duration": 568,
    "start_time": "2025-02-24T17:37:31.388Z"
   },
   {
    "duration": 457,
    "start_time": "2025-02-24T17:37:31.958Z"
   },
   {
    "duration": 132,
    "start_time": "2025-02-24T17:37:32.416Z"
   },
   {
    "duration": 371,
    "start_time": "2025-02-24T17:37:32.550Z"
   },
   {
    "duration": 88,
    "start_time": "2025-02-24T17:37:32.923Z"
   },
   {
    "duration": 37,
    "start_time": "2025-02-24T17:37:33.013Z"
   },
   {
    "duration": 17,
    "start_time": "2025-02-24T17:37:33.051Z"
   },
   {
    "duration": 86,
    "start_time": "2025-02-24T17:37:33.072Z"
   },
   {
    "duration": 169,
    "start_time": "2025-02-24T17:37:33.159Z"
   },
   {
    "duration": 179,
    "start_time": "2025-02-24T17:37:33.330Z"
   },
   {
    "duration": 97,
    "start_time": "2025-02-24T17:37:33.510Z"
   },
   {
    "duration": 239,
    "start_time": "2025-02-24T17:37:33.608Z"
   },
   {
    "duration": 267,
    "start_time": "2025-02-24T17:37:33.849Z"
   },
   {
    "duration": 8,
    "start_time": "2025-02-24T17:37:34.118Z"
   },
   {
    "duration": 241,
    "start_time": "2025-02-24T17:37:34.128Z"
   },
   {
    "duration": 164,
    "start_time": "2025-02-24T17:37:34.371Z"
   },
   {
    "duration": 11,
    "start_time": "2025-02-24T17:37:34.536Z"
   },
   {
    "duration": 307,
    "start_time": "2025-02-24T17:37:34.548Z"
   },
   {
    "duration": 70,
    "start_time": "2025-02-24T17:37:34.856Z"
   },
   {
    "duration": 309,
    "start_time": "2025-02-24T17:37:34.928Z"
   },
   {
    "duration": 69,
    "start_time": "2025-02-24T17:37:35.239Z"
   },
   {
    "duration": 91,
    "start_time": "2025-02-24T17:37:35.310Z"
   },
   {
    "duration": 7609,
    "start_time": "2025-02-25T13:44:31.261Z"
   },
   {
    "duration": 2360,
    "start_time": "2025-02-25T13:44:38.873Z"
   },
   {
    "duration": 38,
    "start_time": "2025-02-25T13:44:41.235Z"
   },
   {
    "duration": 54,
    "start_time": "2025-02-25T13:44:41.275Z"
   },
   {
    "duration": 125,
    "start_time": "2025-02-25T13:44:41.331Z"
   },
   {
    "duration": 6,
    "start_time": "2025-02-25T13:44:41.458Z"
   },
   {
    "duration": 7,
    "start_time": "2025-02-25T13:44:41.466Z"
   },
   {
    "duration": 39,
    "start_time": "2025-02-25T13:44:41.474Z"
   },
   {
    "duration": 13,
    "start_time": "2025-02-25T13:44:41.516Z"
   },
   {
    "duration": 19,
    "start_time": "2025-02-25T13:44:41.531Z"
   },
   {
    "duration": 19,
    "start_time": "2025-02-25T13:44:41.552Z"
   },
   {
    "duration": 48,
    "start_time": "2025-02-25T13:44:41.573Z"
   },
   {
    "duration": 13,
    "start_time": "2025-02-25T13:44:41.623Z"
   },
   {
    "duration": 12,
    "start_time": "2025-02-25T13:44:41.641Z"
   },
   {
    "duration": 27,
    "start_time": "2025-02-25T13:44:41.655Z"
   },
   {
    "duration": 12,
    "start_time": "2025-02-25T13:44:41.684Z"
   },
   {
    "duration": 25,
    "start_time": "2025-02-25T13:44:41.697Z"
   },
   {
    "duration": 14,
    "start_time": "2025-02-25T13:44:41.729Z"
   },
   {
    "duration": 10,
    "start_time": "2025-02-25T13:44:41.745Z"
   },
   {
    "duration": 62,
    "start_time": "2025-02-25T13:44:41.756Z"
   },
   {
    "duration": 17,
    "start_time": "2025-02-25T13:44:41.821Z"
   },
   {
    "duration": 27,
    "start_time": "2025-02-25T13:44:41.840Z"
   },
   {
    "duration": 72,
    "start_time": "2025-02-25T13:44:41.869Z"
   },
   {
    "duration": 9,
    "start_time": "2025-02-25T13:44:41.943Z"
   },
   {
    "duration": 9,
    "start_time": "2025-02-25T13:44:41.954Z"
   },
   {
    "duration": 28,
    "start_time": "2025-02-25T13:44:41.965Z"
   },
   {
    "duration": 324,
    "start_time": "2025-02-25T13:44:41.995Z"
   },
   {
    "duration": 26,
    "start_time": "2025-02-25T13:44:42.329Z"
   },
   {
    "duration": 107,
    "start_time": "2025-02-25T13:44:42.357Z"
   },
   {
    "duration": 98,
    "start_time": "2025-02-25T13:44:42.466Z"
   },
   {
    "duration": 84,
    "start_time": "2025-02-25T13:44:42.566Z"
   },
   {
    "duration": 154,
    "start_time": "2025-02-25T13:44:42.652Z"
   },
   {
    "duration": 47,
    "start_time": "2025-02-25T13:44:42.821Z"
   },
   {
    "duration": 671,
    "start_time": "2025-02-25T13:44:42.870Z"
   },
   {
    "duration": 555,
    "start_time": "2025-02-25T13:44:43.543Z"
   },
   {
    "duration": 179,
    "start_time": "2025-02-25T13:44:44.112Z"
   },
   {
    "duration": 326,
    "start_time": "2025-02-25T13:44:44.293Z"
   },
   {
    "duration": 105,
    "start_time": "2025-02-25T13:44:44.622Z"
   },
   {
    "duration": 18,
    "start_time": "2025-02-25T13:44:44.731Z"
   },
   {
    "duration": 13,
    "start_time": "2025-02-25T13:44:44.751Z"
   },
   {
    "duration": 8,
    "start_time": "2025-02-25T13:44:44.771Z"
   },
   {
    "duration": 253,
    "start_time": "2025-02-25T13:44:44.781Z"
   },
   {
    "duration": 238,
    "start_time": "2025-02-25T13:44:45.038Z"
   },
   {
    "duration": 119,
    "start_time": "2025-02-25T13:44:45.277Z"
   },
   {
    "duration": 262,
    "start_time": "2025-02-25T13:44:45.399Z"
   },
   {
    "duration": 344,
    "start_time": "2025-02-25T13:44:45.662Z"
   },
   {
    "duration": 16,
    "start_time": "2025-02-25T13:44:46.009Z"
   },
   {
    "duration": 123,
    "start_time": "2025-02-25T13:44:46.027Z"
   },
   {
    "duration": 107,
    "start_time": "2025-02-25T13:44:46.152Z"
   },
   {
    "duration": 45,
    "start_time": "2025-02-25T13:44:46.261Z"
   },
   {
    "duration": 362,
    "start_time": "2025-02-25T13:44:46.308Z"
   },
   {
    "duration": 87,
    "start_time": "2025-02-25T13:44:46.672Z"
   },
   {
    "duration": 404,
    "start_time": "2025-02-25T13:44:46.761Z"
   },
   {
    "duration": 79,
    "start_time": "2025-02-25T13:44:47.167Z"
   },
   {
    "duration": 43,
    "start_time": "2025-02-25T13:44:47.249Z"
   },
   {
    "duration": 64,
    "start_time": "2025-02-26T13:27:16.571Z"
   },
   {
    "duration": 6480,
    "start_time": "2025-02-26T13:27:24.175Z"
   },
   {
    "duration": 2162,
    "start_time": "2025-02-26T13:27:30.657Z"
   },
   {
    "duration": 36,
    "start_time": "2025-02-26T13:27:32.820Z"
   },
   {
    "duration": 40,
    "start_time": "2025-02-26T13:27:32.858Z"
   },
   {
    "duration": 119,
    "start_time": "2025-02-26T13:27:32.900Z"
   },
   {
    "duration": 6,
    "start_time": "2025-02-26T13:27:33.021Z"
   },
   {
    "duration": 14,
    "start_time": "2025-02-26T13:27:33.029Z"
   },
   {
    "duration": 37,
    "start_time": "2025-02-26T13:27:33.045Z"
   },
   {
    "duration": 19,
    "start_time": "2025-02-26T13:27:33.084Z"
   },
   {
    "duration": 26,
    "start_time": "2025-02-26T13:27:33.105Z"
   },
   {
    "duration": 20,
    "start_time": "2025-02-26T13:27:33.133Z"
   },
   {
    "duration": 27,
    "start_time": "2025-02-26T13:27:33.155Z"
   },
   {
    "duration": 4,
    "start_time": "2025-02-26T13:27:33.184Z"
   },
   {
    "duration": 9,
    "start_time": "2025-02-26T13:27:33.191Z"
   },
   {
    "duration": 16,
    "start_time": "2025-02-26T13:27:33.201Z"
   },
   {
    "duration": 13,
    "start_time": "2025-02-26T13:27:33.219Z"
   },
   {
    "duration": 8,
    "start_time": "2025-02-26T13:27:33.234Z"
   },
   {
    "duration": 18,
    "start_time": "2025-02-26T13:27:33.244Z"
   },
   {
    "duration": 10,
    "start_time": "2025-02-26T13:27:33.273Z"
   },
   {
    "duration": 51,
    "start_time": "2025-02-26T13:27:33.285Z"
   },
   {
    "duration": 34,
    "start_time": "2025-02-26T13:27:33.338Z"
   },
   {
    "duration": 8,
    "start_time": "2025-02-26T13:27:33.374Z"
   },
   {
    "duration": 31,
    "start_time": "2025-02-26T13:27:33.384Z"
   },
   {
    "duration": 8,
    "start_time": "2025-02-26T13:27:33.417Z"
   },
   {
    "duration": 9,
    "start_time": "2025-02-26T13:27:33.427Z"
   },
   {
    "duration": 50,
    "start_time": "2025-02-26T13:27:33.438Z"
   },
   {
    "duration": 287,
    "start_time": "2025-02-26T13:27:33.490Z"
   },
   {
    "duration": 23,
    "start_time": "2025-02-26T13:27:33.779Z"
   },
   {
    "duration": 129,
    "start_time": "2025-02-26T13:27:33.805Z"
   },
   {
    "duration": 90,
    "start_time": "2025-02-26T13:27:33.935Z"
   },
   {
    "duration": 68,
    "start_time": "2025-02-26T13:27:34.027Z"
   },
   {
    "duration": 134,
    "start_time": "2025-02-26T13:27:34.097Z"
   },
   {
    "duration": 59,
    "start_time": "2025-02-26T13:27:34.233Z"
   },
   {
    "duration": 570,
    "start_time": "2025-02-26T13:27:34.294Z"
   },
   {
    "duration": 598,
    "start_time": "2025-02-26T13:27:34.866Z"
   },
   {
    "duration": 168,
    "start_time": "2025-02-26T13:27:35.466Z"
   },
   {
    "duration": 253,
    "start_time": "2025-02-26T13:27:35.636Z"
   },
   {
    "duration": 85,
    "start_time": "2025-02-26T13:27:35.891Z"
   },
   {
    "duration": 16,
    "start_time": "2025-02-26T13:27:35.978Z"
   },
   {
    "duration": 16,
    "start_time": "2025-02-26T13:27:35.996Z"
   },
   {
    "duration": 18,
    "start_time": "2025-02-26T13:27:36.016Z"
   },
   {
    "duration": 182,
    "start_time": "2025-02-26T13:27:36.036Z"
   },
   {
    "duration": 198,
    "start_time": "2025-02-26T13:27:36.220Z"
   },
   {
    "duration": 110,
    "start_time": "2025-02-26T13:27:36.420Z"
   },
   {
    "duration": 226,
    "start_time": "2025-02-26T13:27:36.532Z"
   },
   {
    "duration": 269,
    "start_time": "2025-02-26T13:27:36.760Z"
   },
   {
    "duration": 10,
    "start_time": "2025-02-26T13:27:37.030Z"
   },
   {
    "duration": 99,
    "start_time": "2025-02-26T13:27:37.042Z"
   },
   {
    "duration": 102,
    "start_time": "2025-02-26T13:27:37.142Z"
   },
   {
    "duration": 12,
    "start_time": "2025-02-26T13:27:37.246Z"
   },
   {
    "duration": 302,
    "start_time": "2025-02-26T13:27:37.260Z"
   },
   {
    "duration": 76,
    "start_time": "2025-02-26T13:27:37.563Z"
   },
   {
    "duration": 352,
    "start_time": "2025-02-26T13:27:37.641Z"
   },
   {
    "duration": 78,
    "start_time": "2025-02-26T13:27:37.995Z"
   },
   {
    "duration": 15,
    "start_time": "2025-02-26T13:27:38.075Z"
   },
   {
    "duration": 92,
    "start_time": "2025-02-26T13:32:18.040Z"
   },
   {
    "duration": 141,
    "start_time": "2025-02-26T13:46:40.895Z"
   },
   {
    "duration": 36,
    "start_time": "2025-02-26T13:46:59.306Z"
   },
   {
    "duration": 392,
    "start_time": "2025-02-26T13:48:21.224Z"
   },
   {
    "duration": 36,
    "start_time": "2025-02-26T13:48:36.612Z"
   },
   {
    "duration": 379,
    "start_time": "2025-02-26T13:48:40.047Z"
   },
   {
    "duration": 4619,
    "start_time": "2025-02-26T13:49:03.961Z"
   },
   {
    "duration": 2488,
    "start_time": "2025-02-26T13:49:08.584Z"
   },
   {
    "duration": 37,
    "start_time": "2025-02-26T13:49:11.074Z"
   },
   {
    "duration": 29,
    "start_time": "2025-02-26T13:49:11.113Z"
   },
   {
    "duration": 153,
    "start_time": "2025-02-26T13:49:11.144Z"
   },
   {
    "duration": 6,
    "start_time": "2025-02-26T13:49:11.299Z"
   },
   {
    "duration": 7,
    "start_time": "2025-02-26T13:49:11.307Z"
   },
   {
    "duration": 7,
    "start_time": "2025-02-26T13:49:11.315Z"
   },
   {
    "duration": 9,
    "start_time": "2025-02-26T13:49:11.324Z"
   },
   {
    "duration": 50,
    "start_time": "2025-02-26T13:49:11.336Z"
   },
   {
    "duration": 20,
    "start_time": "2025-02-26T13:49:11.387Z"
   },
   {
    "duration": 5,
    "start_time": "2025-02-26T13:49:11.409Z"
   },
   {
    "duration": 4,
    "start_time": "2025-02-26T13:49:11.415Z"
   },
   {
    "duration": 4,
    "start_time": "2025-02-26T13:49:11.421Z"
   },
   {
    "duration": 12,
    "start_time": "2025-02-26T13:49:11.427Z"
   },
   {
    "duration": 13,
    "start_time": "2025-02-26T13:49:11.473Z"
   },
   {
    "duration": 5,
    "start_time": "2025-02-26T13:49:11.488Z"
   },
   {
    "duration": 15,
    "start_time": "2025-02-26T13:49:11.495Z"
   },
   {
    "duration": 10,
    "start_time": "2025-02-26T13:49:11.512Z"
   },
   {
    "duration": 70,
    "start_time": "2025-02-26T13:49:11.524Z"
   },
   {
    "duration": 17,
    "start_time": "2025-02-26T13:49:11.596Z"
   },
   {
    "duration": 8,
    "start_time": "2025-02-26T13:49:11.615Z"
   },
   {
    "duration": 22,
    "start_time": "2025-02-26T13:49:11.625Z"
   },
   {
    "duration": 9,
    "start_time": "2025-02-26T13:49:11.673Z"
   },
   {
    "duration": 9,
    "start_time": "2025-02-26T13:49:11.683Z"
   },
   {
    "duration": 35,
    "start_time": "2025-02-26T13:49:11.693Z"
   },
   {
    "duration": 295,
    "start_time": "2025-02-26T13:49:11.730Z"
   },
   {
    "duration": 22,
    "start_time": "2025-02-26T13:49:12.029Z"
   },
   {
    "duration": 100,
    "start_time": "2025-02-26T13:49:12.053Z"
   },
   {
    "duration": 91,
    "start_time": "2025-02-26T13:49:12.154Z"
   },
   {
    "duration": 68,
    "start_time": "2025-02-26T13:49:12.247Z"
   },
   {
    "duration": 131,
    "start_time": "2025-02-26T13:49:12.317Z"
   },
   {
    "duration": 53,
    "start_time": "2025-02-26T13:49:12.450Z"
   },
   {
    "duration": 560,
    "start_time": "2025-02-26T13:49:12.505Z"
   },
   {
    "duration": 615,
    "start_time": "2025-02-26T13:49:13.067Z"
   },
   {
    "duration": 175,
    "start_time": "2025-02-26T13:49:13.684Z"
   },
   {
    "duration": 268,
    "start_time": "2025-02-26T13:49:13.861Z"
   },
   {
    "duration": 86,
    "start_time": "2025-02-26T13:49:14.131Z"
   },
   {
    "duration": 18,
    "start_time": "2025-02-26T13:49:14.219Z"
   },
   {
    "duration": 9,
    "start_time": "2025-02-26T13:49:14.238Z"
   },
   {
    "duration": 27,
    "start_time": "2025-02-26T13:49:14.249Z"
   },
   {
    "duration": 195,
    "start_time": "2025-02-26T13:49:14.278Z"
   },
   {
    "duration": 228,
    "start_time": "2025-02-26T13:49:14.476Z"
   },
   {
    "duration": 108,
    "start_time": "2025-02-26T13:49:14.706Z"
   },
   {
    "duration": 241,
    "start_time": "2025-02-26T13:49:14.816Z"
   },
   {
    "duration": 302,
    "start_time": "2025-02-26T13:49:15.059Z"
   },
   {
    "duration": 16,
    "start_time": "2025-02-26T13:49:15.363Z"
   },
   {
    "duration": 91,
    "start_time": "2025-02-26T13:49:15.381Z"
   },
   {
    "duration": 104,
    "start_time": "2025-02-26T13:49:15.474Z"
   },
   {
    "duration": 12,
    "start_time": "2025-02-26T13:49:15.580Z"
   },
   {
    "duration": 322,
    "start_time": "2025-02-26T13:49:15.594Z"
   },
   {
    "duration": 81,
    "start_time": "2025-02-26T13:49:15.918Z"
   },
   {
    "duration": 356,
    "start_time": "2025-02-26T13:49:16.001Z"
   },
   {
    "duration": 69,
    "start_time": "2025-02-26T13:49:16.359Z"
   },
   {
    "duration": 15,
    "start_time": "2025-02-26T13:49:16.430Z"
   },
   {
    "duration": 139,
    "start_time": "2025-02-26T13:49:58.197Z"
   },
   {
    "duration": 4574,
    "start_time": "2025-02-26T13:50:08.797Z"
   },
   {
    "duration": 2345,
    "start_time": "2025-02-26T13:50:13.374Z"
   },
   {
    "duration": 38,
    "start_time": "2025-02-26T13:50:15.722Z"
   },
   {
    "duration": 38,
    "start_time": "2025-02-26T13:50:15.762Z"
   },
   {
    "duration": 126,
    "start_time": "2025-02-26T13:50:15.803Z"
   },
   {
    "duration": 6,
    "start_time": "2025-02-26T13:50:15.931Z"
   },
   {
    "duration": 9,
    "start_time": "2025-02-26T13:50:15.939Z"
   },
   {
    "duration": 24,
    "start_time": "2025-02-26T13:50:15.950Z"
   },
   {
    "duration": 9,
    "start_time": "2025-02-26T13:50:15.976Z"
   },
   {
    "duration": 18,
    "start_time": "2025-02-26T13:50:15.987Z"
   },
   {
    "duration": 20,
    "start_time": "2025-02-26T13:50:16.007Z"
   },
   {
    "duration": 4,
    "start_time": "2025-02-26T13:50:16.029Z"
   },
   {
    "duration": 5,
    "start_time": "2025-02-26T13:50:16.071Z"
   },
   {
    "duration": 5,
    "start_time": "2025-02-26T13:50:16.079Z"
   },
   {
    "duration": 11,
    "start_time": "2025-02-26T13:50:16.086Z"
   },
   {
    "duration": 20,
    "start_time": "2025-02-26T13:50:16.098Z"
   },
   {
    "duration": 8,
    "start_time": "2025-02-26T13:50:16.120Z"
   },
   {
    "duration": 43,
    "start_time": "2025-02-26T13:50:16.130Z"
   },
   {
    "duration": 11,
    "start_time": "2025-02-26T13:50:16.175Z"
   },
   {
    "duration": 47,
    "start_time": "2025-02-26T13:50:16.187Z"
   },
   {
    "duration": 44,
    "start_time": "2025-02-26T13:50:16.236Z"
   },
   {
    "duration": 9,
    "start_time": "2025-02-26T13:50:16.282Z"
   },
   {
    "duration": 30,
    "start_time": "2025-02-26T13:50:16.293Z"
   },
   {
    "duration": 9,
    "start_time": "2025-02-26T13:50:16.325Z"
   },
   {
    "duration": 10,
    "start_time": "2025-02-26T13:50:16.335Z"
   },
   {
    "duration": 52,
    "start_time": "2025-02-26T13:50:16.346Z"
   },
   {
    "duration": 300,
    "start_time": "2025-02-26T13:50:16.401Z"
   },
   {
    "duration": 24,
    "start_time": "2025-02-26T13:50:16.703Z"
   },
   {
    "duration": 121,
    "start_time": "2025-02-26T13:50:16.729Z"
   },
   {
    "duration": 96,
    "start_time": "2025-02-26T13:50:16.852Z"
   },
   {
    "duration": 63,
    "start_time": "2025-02-26T13:50:16.950Z"
   },
   {
    "duration": 138,
    "start_time": "2025-02-26T13:50:17.015Z"
   },
   {
    "duration": 55,
    "start_time": "2025-02-26T13:50:17.154Z"
   },
   {
    "duration": 598,
    "start_time": "2025-02-26T13:50:17.210Z"
   },
   {
    "duration": 521,
    "start_time": "2025-02-26T13:50:17.810Z"
   },
   {
    "duration": 162,
    "start_time": "2025-02-26T13:50:18.333Z"
   },
   {
    "duration": 253,
    "start_time": "2025-02-26T13:50:18.496Z"
   },
   {
    "duration": 88,
    "start_time": "2025-02-26T13:50:18.751Z"
   },
   {
    "duration": 33,
    "start_time": "2025-02-26T13:50:18.841Z"
   },
   {
    "duration": 7,
    "start_time": "2025-02-26T13:50:18.876Z"
   },
   {
    "duration": 26,
    "start_time": "2025-02-26T13:50:18.887Z"
   },
   {
    "duration": 209,
    "start_time": "2025-02-26T13:50:18.915Z"
   },
   {
    "duration": 188,
    "start_time": "2025-02-26T13:50:19.126Z"
   },
   {
    "duration": 84,
    "start_time": "2025-02-26T13:50:19.316Z"
   },
   {
    "duration": 229,
    "start_time": "2025-02-26T13:50:19.401Z"
   },
   {
    "duration": 295,
    "start_time": "2025-02-26T13:50:19.633Z"
   },
   {
    "duration": 9,
    "start_time": "2025-02-26T13:50:19.930Z"
   },
   {
    "duration": 101,
    "start_time": "2025-02-26T13:50:19.941Z"
   },
   {
    "duration": 101,
    "start_time": "2025-02-26T13:50:20.044Z"
   },
   {
    "duration": 14,
    "start_time": "2025-02-26T13:50:20.147Z"
   },
   {
    "duration": 321,
    "start_time": "2025-02-26T13:50:20.173Z"
   },
   {
    "duration": 91,
    "start_time": "2025-02-26T13:50:20.496Z"
   },
   {
    "duration": 376,
    "start_time": "2025-02-26T13:50:20.589Z"
   },
   {
    "duration": 70,
    "start_time": "2025-02-26T13:50:20.967Z"
   },
   {
    "duration": 39,
    "start_time": "2025-02-26T13:50:21.039Z"
   },
   {
    "duration": 12,
    "start_time": "2025-02-26T13:52:59.665Z"
   },
   {
    "duration": 135,
    "start_time": "2025-02-26T13:53:02.876Z"
   },
   {
    "duration": 4376,
    "start_time": "2025-02-26T13:53:11.402Z"
   },
   {
    "duration": 1980,
    "start_time": "2025-02-26T13:53:15.781Z"
   },
   {
    "duration": 38,
    "start_time": "2025-02-26T13:53:17.763Z"
   },
   {
    "duration": 28,
    "start_time": "2025-02-26T13:53:17.803Z"
   },
   {
    "duration": 128,
    "start_time": "2025-02-26T13:53:17.833Z"
   },
   {
    "duration": 11,
    "start_time": "2025-02-26T13:53:17.963Z"
   },
   {
    "duration": 8,
    "start_time": "2025-02-26T13:53:17.977Z"
   },
   {
    "duration": 8,
    "start_time": "2025-02-26T13:53:17.986Z"
   },
   {
    "duration": 15,
    "start_time": "2025-02-26T13:53:17.996Z"
   },
   {
    "duration": 17,
    "start_time": "2025-02-26T13:53:18.013Z"
   },
   {
    "duration": 52,
    "start_time": "2025-02-26T13:53:18.032Z"
   },
   {
    "duration": 6,
    "start_time": "2025-02-26T13:53:18.086Z"
   },
   {
    "duration": 5,
    "start_time": "2025-02-26T13:53:18.094Z"
   },
   {
    "duration": 7,
    "start_time": "2025-02-26T13:53:18.101Z"
   },
   {
    "duration": 24,
    "start_time": "2025-02-26T13:53:18.110Z"
   },
   {
    "duration": 13,
    "start_time": "2025-02-26T13:53:18.136Z"
   },
   {
    "duration": 5,
    "start_time": "2025-02-26T13:53:18.172Z"
   },
   {
    "duration": 11,
    "start_time": "2025-02-26T13:53:18.178Z"
   },
   {
    "duration": 10,
    "start_time": "2025-02-26T13:53:18.191Z"
   },
   {
    "duration": 45,
    "start_time": "2025-02-26T13:53:18.202Z"
   },
   {
    "duration": 17,
    "start_time": "2025-02-26T13:53:18.273Z"
   },
   {
    "duration": 9,
    "start_time": "2025-02-26T13:53:18.291Z"
   },
   {
    "duration": 25,
    "start_time": "2025-02-26T13:53:18.301Z"
   },
   {
    "duration": 8,
    "start_time": "2025-02-26T13:53:18.328Z"
   },
   {
    "duration": 40,
    "start_time": "2025-02-26T13:53:18.338Z"
   },
   {
    "duration": 28,
    "start_time": "2025-02-26T13:53:18.380Z"
   },
   {
    "duration": 297,
    "start_time": "2025-02-26T13:53:18.410Z"
   },
   {
    "duration": 23,
    "start_time": "2025-02-26T13:53:18.711Z"
   },
   {
    "duration": 108,
    "start_time": "2025-02-26T13:53:18.736Z"
   },
   {
    "duration": 118,
    "start_time": "2025-02-26T13:53:18.846Z"
   },
   {
    "duration": 73,
    "start_time": "2025-02-26T13:53:18.971Z"
   },
   {
    "duration": 140,
    "start_time": "2025-02-26T13:53:19.046Z"
   },
   {
    "duration": 42,
    "start_time": "2025-02-26T13:53:19.188Z"
   },
   {
    "duration": 609,
    "start_time": "2025-02-26T13:53:19.233Z"
   },
   {
    "duration": 497,
    "start_time": "2025-02-26T13:53:19.844Z"
   },
   {
    "duration": 12,
    "start_time": "2025-02-26T13:53:20.342Z"
   },
   {
    "duration": 156,
    "start_time": "2025-02-26T13:53:20.371Z"
   },
   {
    "duration": 247,
    "start_time": "2025-02-26T13:53:20.529Z"
   },
   {
    "duration": 80,
    "start_time": "2025-02-26T13:53:20.777Z"
   },
   {
    "duration": 16,
    "start_time": "2025-02-26T13:53:20.872Z"
   },
   {
    "duration": 6,
    "start_time": "2025-02-26T13:53:20.890Z"
   },
   {
    "duration": 6,
    "start_time": "2025-02-26T13:53:20.898Z"
   },
   {
    "duration": 199,
    "start_time": "2025-02-26T13:53:20.906Z"
   },
   {
    "duration": 213,
    "start_time": "2025-02-26T13:53:21.107Z"
   },
   {
    "duration": 83,
    "start_time": "2025-02-26T13:53:21.321Z"
   },
   {
    "duration": 218,
    "start_time": "2025-02-26T13:53:21.406Z"
   },
   {
    "duration": 276,
    "start_time": "2025-02-26T13:53:21.626Z"
   },
   {
    "duration": 10,
    "start_time": "2025-02-26T13:53:21.904Z"
   },
   {
    "duration": 104,
    "start_time": "2025-02-26T13:53:21.915Z"
   },
   {
    "duration": 98,
    "start_time": "2025-02-26T13:53:22.021Z"
   },
   {
    "duration": 11,
    "start_time": "2025-02-26T13:53:22.121Z"
   },
   {
    "duration": 312,
    "start_time": "2025-02-26T13:53:22.134Z"
   },
   {
    "duration": 82,
    "start_time": "2025-02-26T13:53:22.448Z"
   },
   {
    "duration": 371,
    "start_time": "2025-02-26T13:53:22.532Z"
   },
   {
    "duration": 80,
    "start_time": "2025-02-26T13:53:22.904Z"
   },
   {
    "duration": 16,
    "start_time": "2025-02-26T13:53:22.986Z"
   },
   {
    "duration": 48,
    "start_time": "2025-02-26T13:55:18.578Z"
   },
   {
    "duration": 14,
    "start_time": "2025-02-26T13:55:21.616Z"
   },
   {
    "duration": 93,
    "start_time": "2025-02-26T14:31:54.682Z"
   },
   {
    "duration": 88,
    "start_time": "2025-02-26T14:32:24.353Z"
   },
   {
    "duration": 15,
    "start_time": "2025-02-26T14:32:28.594Z"
   },
   {
    "duration": 7,
    "start_time": "2025-02-26T14:32:32.723Z"
   },
   {
    "duration": 4431,
    "start_time": "2025-02-26T14:32:46.910Z"
   },
   {
    "duration": 2194,
    "start_time": "2025-02-26T14:32:51.344Z"
   },
   {
    "duration": 41,
    "start_time": "2025-02-26T14:32:53.540Z"
   },
   {
    "duration": 29,
    "start_time": "2025-02-26T14:32:53.584Z"
   },
   {
    "duration": 122,
    "start_time": "2025-02-26T14:32:53.615Z"
   },
   {
    "duration": 7,
    "start_time": "2025-02-26T14:32:53.739Z"
   },
   {
    "duration": 27,
    "start_time": "2025-02-26T14:32:53.748Z"
   },
   {
    "duration": 7,
    "start_time": "2025-02-26T14:32:53.777Z"
   },
   {
    "duration": 15,
    "start_time": "2025-02-26T14:32:53.786Z"
   },
   {
    "duration": 19,
    "start_time": "2025-02-26T14:32:53.805Z"
   },
   {
    "duration": 47,
    "start_time": "2025-02-26T14:32:53.826Z"
   },
   {
    "duration": 5,
    "start_time": "2025-02-26T14:32:53.875Z"
   },
   {
    "duration": 14,
    "start_time": "2025-02-26T14:32:53.883Z"
   },
   {
    "duration": 32,
    "start_time": "2025-02-26T14:32:53.899Z"
   },
   {
    "duration": 13,
    "start_time": "2025-02-26T14:32:53.933Z"
   },
   {
    "duration": 59,
    "start_time": "2025-02-26T14:32:53.948Z"
   },
   {
    "duration": 14,
    "start_time": "2025-02-26T14:32:54.009Z"
   },
   {
    "duration": 16,
    "start_time": "2025-02-26T14:32:54.025Z"
   },
   {
    "duration": 10,
    "start_time": "2025-02-26T14:32:54.043Z"
   },
   {
    "duration": 59,
    "start_time": "2025-02-26T14:32:54.055Z"
   },
   {
    "duration": 17,
    "start_time": "2025-02-26T14:32:54.116Z"
   },
   {
    "duration": 9,
    "start_time": "2025-02-26T14:32:54.135Z"
   },
   {
    "duration": 44,
    "start_time": "2025-02-26T14:32:54.146Z"
   },
   {
    "duration": 9,
    "start_time": "2025-02-26T14:32:54.192Z"
   },
   {
    "duration": 10,
    "start_time": "2025-02-26T14:32:54.203Z"
   },
   {
    "duration": 30,
    "start_time": "2025-02-26T14:32:54.215Z"
   },
   {
    "duration": 309,
    "start_time": "2025-02-26T14:32:54.247Z"
   },
   {
    "duration": 30,
    "start_time": "2025-02-26T14:32:54.560Z"
   },
   {
    "duration": 100,
    "start_time": "2025-02-26T14:32:54.592Z"
   },
   {
    "duration": 100,
    "start_time": "2025-02-26T14:32:54.694Z"
   },
   {
    "duration": 55,
    "start_time": "2025-02-26T14:32:54.796Z"
   },
   {
    "duration": 142,
    "start_time": "2025-02-26T14:32:54.853Z"
   },
   {
    "duration": 43,
    "start_time": "2025-02-26T14:32:54.997Z"
   },
   {
    "duration": 625,
    "start_time": "2025-02-26T14:32:55.042Z"
   },
   {
    "duration": 498,
    "start_time": "2025-02-26T14:32:55.673Z"
   },
   {
    "duration": 18,
    "start_time": "2025-02-26T14:32:56.172Z"
   },
   {
    "duration": 189,
    "start_time": "2025-02-26T14:32:56.193Z"
   },
   {
    "duration": 159,
    "start_time": "2025-02-26T14:32:56.385Z"
   },
   {
    "duration": 140,
    "start_time": "2025-02-26T14:32:56.546Z"
   },
   {
    "duration": 17,
    "start_time": "2025-02-26T14:32:56.688Z"
   },
   {
    "duration": 6,
    "start_time": "2025-02-26T14:32:56.707Z"
   },
   {
    "duration": 5,
    "start_time": "2025-02-26T14:32:56.715Z"
   },
   {
    "duration": 235,
    "start_time": "2025-02-26T14:32:56.722Z"
   },
   {
    "duration": 278,
    "start_time": "2025-02-26T14:32:56.958Z"
   },
   {
    "duration": 167,
    "start_time": "2025-02-26T14:32:57.238Z"
   },
   {
    "duration": 210,
    "start_time": "2025-02-26T14:32:57.406Z"
   },
   {
    "duration": 276,
    "start_time": "2025-02-26T14:32:57.618Z"
   },
   {
    "duration": 10,
    "start_time": "2025-02-26T14:32:57.895Z"
   },
   {
    "duration": 98,
    "start_time": "2025-02-26T14:32:57.906Z"
   },
   {
    "duration": 98,
    "start_time": "2025-02-26T14:32:58.005Z"
   },
   {
    "duration": 12,
    "start_time": "2025-02-26T14:32:58.105Z"
   },
   {
    "duration": 325,
    "start_time": "2025-02-26T14:32:58.119Z"
   },
   {
    "duration": 83,
    "start_time": "2025-02-26T14:32:58.445Z"
   },
   {
    "duration": 358,
    "start_time": "2025-02-26T14:32:58.530Z"
   },
   {
    "duration": 65,
    "start_time": "2025-02-26T14:32:58.889Z"
   },
   {
    "duration": 24,
    "start_time": "2025-02-26T14:32:58.956Z"
   },
   {
    "duration": 65,
    "start_time": "2025-02-26T14:32:58.982Z"
   },
   {
    "duration": 32,
    "start_time": "2025-02-26T14:32:59.050Z"
   },
   {
    "duration": 57,
    "start_time": "2025-02-26T14:32:59.083Z"
   },
   {
    "duration": 133,
    "start_time": "2025-02-26T14:42:47.844Z"
   },
   {
    "duration": 15,
    "start_time": "2025-02-26T14:43:13.019Z"
   },
   {
    "duration": 137,
    "start_time": "2025-02-26T14:59:34.478Z"
   },
   {
    "duration": 18,
    "start_time": "2025-02-26T14:59:39.247Z"
   },
   {
    "duration": 7,
    "start_time": "2025-02-26T14:59:42.450Z"
   },
   {
    "duration": 8,
    "start_time": "2025-02-26T14:59:42.832Z"
   },
   {
    "duration": 207,
    "start_time": "2025-02-26T14:59:43.240Z"
   },
   {
    "duration": 349,
    "start_time": "2025-02-26T14:59:44.132Z"
   },
   {
    "duration": 172,
    "start_time": "2025-02-26T14:59:44.924Z"
   },
   {
    "duration": 29,
    "start_time": "2025-02-26T14:59:48.455Z"
   },
   {
    "duration": 4537,
    "start_time": "2025-02-26T14:59:56.828Z"
   },
   {
    "duration": 2516,
    "start_time": "2025-02-26T15:00:01.367Z"
   },
   {
    "duration": 36,
    "start_time": "2025-02-26T15:00:03.885Z"
   },
   {
    "duration": 27,
    "start_time": "2025-02-26T15:00:03.923Z"
   },
   {
    "duration": 137,
    "start_time": "2025-02-26T15:00:03.952Z"
   },
   {
    "duration": 5,
    "start_time": "2025-02-26T15:00:04.091Z"
   },
   {
    "duration": 18,
    "start_time": "2025-02-26T15:00:04.098Z"
   },
   {
    "duration": 7,
    "start_time": "2025-02-26T15:00:04.118Z"
   },
   {
    "duration": 26,
    "start_time": "2025-02-26T15:00:04.127Z"
   },
   {
    "duration": 42,
    "start_time": "2025-02-26T15:00:04.156Z"
   },
   {
    "duration": 21,
    "start_time": "2025-02-26T15:00:04.199Z"
   },
   {
    "duration": 34,
    "start_time": "2025-02-26T15:00:04.221Z"
   },
   {
    "duration": 34,
    "start_time": "2025-02-26T15:00:04.257Z"
   },
   {
    "duration": 93,
    "start_time": "2025-02-26T15:00:04.293Z"
   },
   {
    "duration": 28,
    "start_time": "2025-02-26T15:00:04.388Z"
   },
   {
    "duration": 66,
    "start_time": "2025-02-26T15:00:04.418Z"
   },
   {
    "duration": 61,
    "start_time": "2025-02-26T15:00:04.486Z"
   },
   {
    "duration": 34,
    "start_time": "2025-02-26T15:00:04.549Z"
   },
   {
    "duration": 10,
    "start_time": "2025-02-26T15:00:04.585Z"
   },
   {
    "duration": 45,
    "start_time": "2025-02-26T15:00:04.597Z"
   },
   {
    "duration": 36,
    "start_time": "2025-02-26T15:00:04.643Z"
   },
   {
    "duration": 26,
    "start_time": "2025-02-26T15:00:04.681Z"
   },
   {
    "duration": 24,
    "start_time": "2025-02-26T15:00:04.709Z"
   },
   {
    "duration": 9,
    "start_time": "2025-02-26T15:00:04.735Z"
   },
   {
    "duration": 9,
    "start_time": "2025-02-26T15:00:04.746Z"
   },
   {
    "duration": 46,
    "start_time": "2025-02-26T15:00:04.757Z"
   },
   {
    "duration": 282,
    "start_time": "2025-02-26T15:00:04.805Z"
   },
   {
    "duration": 25,
    "start_time": "2025-02-26T15:00:05.091Z"
   },
   {
    "duration": 113,
    "start_time": "2025-02-26T15:00:05.118Z"
   },
   {
    "duration": 94,
    "start_time": "2025-02-26T15:00:05.233Z"
   },
   {
    "duration": 66,
    "start_time": "2025-02-26T15:00:05.329Z"
   },
   {
    "duration": 149,
    "start_time": "2025-02-26T15:00:05.397Z"
   },
   {
    "duration": 54,
    "start_time": "2025-02-26T15:00:05.548Z"
   },
   {
    "duration": 568,
    "start_time": "2025-02-26T15:00:05.604Z"
   },
   {
    "duration": 505,
    "start_time": "2025-02-26T15:00:06.174Z"
   },
   {
    "duration": 12,
    "start_time": "2025-02-26T15:00:06.681Z"
   },
   {
    "duration": 170,
    "start_time": "2025-02-26T15:00:06.695Z"
   },
   {
    "duration": 73,
    "start_time": "2025-02-26T15:00:06.867Z"
   },
   {
    "duration": 0,
    "start_time": "2025-02-26T15:00:06.943Z"
   },
   {
    "duration": 0,
    "start_time": "2025-02-26T15:00:06.945Z"
   },
   {
    "duration": 0,
    "start_time": "2025-02-26T15:00:06.947Z"
   },
   {
    "duration": 0,
    "start_time": "2025-02-26T15:00:06.949Z"
   },
   {
    "duration": 0,
    "start_time": "2025-02-26T15:00:06.950Z"
   },
   {
    "duration": 0,
    "start_time": "2025-02-26T15:00:06.952Z"
   },
   {
    "duration": 0,
    "start_time": "2025-02-26T15:00:06.954Z"
   },
   {
    "duration": 0,
    "start_time": "2025-02-26T15:00:06.955Z"
   },
   {
    "duration": 0,
    "start_time": "2025-02-26T15:00:06.957Z"
   },
   {
    "duration": 0,
    "start_time": "2025-02-26T15:00:06.959Z"
   },
   {
    "duration": 0,
    "start_time": "2025-02-26T15:00:06.960Z"
   },
   {
    "duration": 0,
    "start_time": "2025-02-26T15:00:06.962Z"
   },
   {
    "duration": 0,
    "start_time": "2025-02-26T15:00:06.964Z"
   },
   {
    "duration": 0,
    "start_time": "2025-02-26T15:00:06.965Z"
   },
   {
    "duration": 0,
    "start_time": "2025-02-26T15:00:06.967Z"
   },
   {
    "duration": 0,
    "start_time": "2025-02-26T15:00:06.968Z"
   },
   {
    "duration": 0,
    "start_time": "2025-02-26T15:00:06.970Z"
   },
   {
    "duration": 0,
    "start_time": "2025-02-26T15:00:06.972Z"
   },
   {
    "duration": 0,
    "start_time": "2025-02-26T15:00:06.974Z"
   },
   {
    "duration": 0,
    "start_time": "2025-02-26T15:00:06.975Z"
   },
   {
    "duration": 0,
    "start_time": "2025-02-26T15:00:06.977Z"
   },
   {
    "duration": 46,
    "start_time": "2025-02-27T07:14:02.938Z"
   },
   {
    "duration": 5732,
    "start_time": "2025-02-27T07:14:14.573Z"
   },
   {
    "duration": 1937,
    "start_time": "2025-02-27T07:14:20.307Z"
   },
   {
    "duration": 33,
    "start_time": "2025-02-27T07:14:22.246Z"
   },
   {
    "duration": 22,
    "start_time": "2025-02-27T07:14:22.281Z"
   },
   {
    "duration": 120,
    "start_time": "2025-02-27T07:14:22.304Z"
   },
   {
    "duration": 4,
    "start_time": "2025-02-27T07:14:22.426Z"
   },
   {
    "duration": 5,
    "start_time": "2025-02-27T07:14:22.432Z"
   },
   {
    "duration": 9,
    "start_time": "2025-02-27T07:14:22.439Z"
   },
   {
    "duration": 21,
    "start_time": "2025-02-27T07:14:22.450Z"
   },
   {
    "duration": 15,
    "start_time": "2025-02-27T07:14:22.473Z"
   },
   {
    "duration": 17,
    "start_time": "2025-02-27T07:14:22.489Z"
   },
   {
    "duration": 19,
    "start_time": "2025-02-27T07:14:22.507Z"
   },
   {
    "duration": 10,
    "start_time": "2025-02-27T07:14:22.528Z"
   },
   {
    "duration": 25,
    "start_time": "2025-02-27T07:14:22.539Z"
   },
   {
    "duration": 24,
    "start_time": "2025-02-27T07:14:22.565Z"
   },
   {
    "duration": 28,
    "start_time": "2025-02-27T07:14:22.591Z"
   },
   {
    "duration": 11,
    "start_time": "2025-02-27T07:14:22.620Z"
   },
   {
    "duration": 33,
    "start_time": "2025-02-27T07:14:22.632Z"
   },
   {
    "duration": 8,
    "start_time": "2025-02-27T07:14:22.667Z"
   },
   {
    "duration": 38,
    "start_time": "2025-02-27T07:14:22.676Z"
   },
   {
    "duration": 14,
    "start_time": "2025-02-27T07:14:22.715Z"
   },
   {
    "duration": 7,
    "start_time": "2025-02-27T07:14:22.731Z"
   },
   {
    "duration": 46,
    "start_time": "2025-02-27T07:14:22.739Z"
   },
   {
    "duration": 7,
    "start_time": "2025-02-27T07:14:22.787Z"
   },
   {
    "duration": 8,
    "start_time": "2025-02-27T07:14:22.795Z"
   },
   {
    "duration": 25,
    "start_time": "2025-02-27T07:14:22.805Z"
   },
   {
    "duration": 257,
    "start_time": "2025-02-27T07:14:22.831Z"
   },
   {
    "duration": 19,
    "start_time": "2025-02-27T07:14:23.091Z"
   },
   {
    "duration": 88,
    "start_time": "2025-02-27T07:14:23.112Z"
   },
   {
    "duration": 84,
    "start_time": "2025-02-27T07:14:23.201Z"
   },
   {
    "duration": 45,
    "start_time": "2025-02-27T07:14:23.287Z"
   },
   {
    "duration": 121,
    "start_time": "2025-02-27T07:14:23.334Z"
   },
   {
    "duration": 42,
    "start_time": "2025-02-27T07:14:23.457Z"
   },
   {
    "duration": 524,
    "start_time": "2025-02-27T07:14:23.501Z"
   },
   {
    "duration": 406,
    "start_time": "2025-02-27T07:14:24.026Z"
   },
   {
    "duration": 9,
    "start_time": "2025-02-27T07:14:24.434Z"
   },
   {
    "duration": 134,
    "start_time": "2025-02-27T07:14:24.444Z"
   },
   {
    "duration": 320,
    "start_time": "2025-02-27T07:14:24.579Z"
   },
   {
    "duration": 105,
    "start_time": "2025-02-27T07:14:24.900Z"
   },
   {
    "duration": 42,
    "start_time": "2025-02-27T07:14:25.007Z"
   },
   {
    "duration": 16,
    "start_time": "2025-02-27T07:14:25.050Z"
   },
   {
    "duration": 13,
    "start_time": "2025-02-27T07:14:25.068Z"
   },
   {
    "duration": 169,
    "start_time": "2025-02-27T07:14:25.083Z"
   },
   {
    "duration": 237,
    "start_time": "2025-02-27T07:14:25.254Z"
   },
   {
    "duration": 144,
    "start_time": "2025-02-27T07:14:25.493Z"
   },
   {
    "duration": 186,
    "start_time": "2025-02-27T07:14:25.638Z"
   },
   {
    "duration": 231,
    "start_time": "2025-02-27T07:14:25.825Z"
   },
   {
    "duration": 16,
    "start_time": "2025-02-27T07:14:26.057Z"
   },
   {
    "duration": 86,
    "start_time": "2025-02-27T07:14:26.074Z"
   },
   {
    "duration": 78,
    "start_time": "2025-02-27T07:14:26.169Z"
   },
   {
    "duration": 23,
    "start_time": "2025-02-27T07:14:26.249Z"
   },
   {
    "duration": 254,
    "start_time": "2025-02-27T07:14:26.273Z"
   },
   {
    "duration": 67,
    "start_time": "2025-02-27T07:14:26.529Z"
   },
   {
    "duration": 305,
    "start_time": "2025-02-27T07:14:26.597Z"
   },
   {
    "duration": 55,
    "start_time": "2025-02-27T07:14:26.904Z"
   },
   {
    "duration": 46,
    "start_time": "2025-02-27T07:14:26.969Z"
   },
   {
    "duration": 40,
    "start_time": "2025-02-27T07:14:27.016Z"
   },
   {
    "duration": 12,
    "start_time": "2025-02-27T07:14:27.058Z"
   },
   {
    "duration": 96,
    "start_time": "2025-02-27T07:14:27.071Z"
   },
   {
    "duration": 125,
    "start_time": "2025-02-27T07:41:47.281Z"
   },
   {
    "duration": 60,
    "start_time": "2025-02-27T07:49:52.024Z"
   },
   {
    "duration": 29,
    "start_time": "2025-02-27T07:52:31.505Z"
   },
   {
    "duration": 77,
    "start_time": "2025-02-27T07:52:37.537Z"
   },
   {
    "duration": 24,
    "start_time": "2025-02-27T07:53:43.422Z"
   },
   {
    "duration": 156,
    "start_time": "2025-02-27T07:55:57.724Z"
   },
   {
    "duration": 139,
    "start_time": "2025-02-27T08:18:45.357Z"
   },
   {
    "duration": 798,
    "start_time": "2025-02-27T08:19:35.879Z"
   },
   {
    "duration": 857,
    "start_time": "2025-02-27T08:19:54.736Z"
   },
   {
    "duration": 799,
    "start_time": "2025-02-27T08:21:42.168Z"
   },
   {
    "duration": 115,
    "start_time": "2025-02-27T08:22:04.526Z"
   },
   {
    "duration": 115,
    "start_time": "2025-02-27T08:24:46.953Z"
   },
   {
    "duration": 116,
    "start_time": "2025-02-27T08:25:14.902Z"
   },
   {
    "duration": 122,
    "start_time": "2025-02-27T08:25:27.804Z"
   },
   {
    "duration": 3954,
    "start_time": "2025-02-27T08:25:38.529Z"
   },
   {
    "duration": 1912,
    "start_time": "2025-02-27T08:25:42.485Z"
   },
   {
    "duration": 30,
    "start_time": "2025-02-27T08:25:44.399Z"
   },
   {
    "duration": 41,
    "start_time": "2025-02-27T08:25:44.431Z"
   },
   {
    "duration": 101,
    "start_time": "2025-02-27T08:25:44.473Z"
   },
   {
    "duration": 5,
    "start_time": "2025-02-27T08:25:44.575Z"
   },
   {
    "duration": 7,
    "start_time": "2025-02-27T08:25:44.582Z"
   },
   {
    "duration": 7,
    "start_time": "2025-02-27T08:25:44.590Z"
   },
   {
    "duration": 8,
    "start_time": "2025-02-27T08:25:44.599Z"
   },
   {
    "duration": 33,
    "start_time": "2025-02-27T08:25:44.609Z"
   },
   {
    "duration": 52,
    "start_time": "2025-02-27T08:25:44.644Z"
   },
   {
    "duration": 18,
    "start_time": "2025-02-27T08:25:44.698Z"
   },
   {
    "duration": 17,
    "start_time": "2025-02-27T08:25:44.717Z"
   },
   {
    "duration": 7,
    "start_time": "2025-02-27T08:25:44.735Z"
   },
   {
    "duration": 12,
    "start_time": "2025-02-27T08:25:44.744Z"
   },
   {
    "duration": 25,
    "start_time": "2025-02-27T08:25:44.757Z"
   },
   {
    "duration": 8,
    "start_time": "2025-02-27T08:25:44.783Z"
   },
   {
    "duration": 9,
    "start_time": "2025-02-27T08:25:44.793Z"
   },
   {
    "duration": 8,
    "start_time": "2025-02-27T08:25:44.804Z"
   },
   {
    "duration": 50,
    "start_time": "2025-02-27T08:25:44.814Z"
   },
   {
    "duration": 18,
    "start_time": "2025-02-27T08:25:44.865Z"
   },
   {
    "duration": 7,
    "start_time": "2025-02-27T08:25:44.885Z"
   },
   {
    "duration": 34,
    "start_time": "2025-02-27T08:25:44.893Z"
   },
   {
    "duration": 48,
    "start_time": "2025-02-27T08:25:44.928Z"
   },
   {
    "duration": 49,
    "start_time": "2025-02-27T08:25:44.977Z"
   },
   {
    "duration": 163,
    "start_time": "2025-02-27T08:25:45.027Z"
   },
   {
    "duration": 393,
    "start_time": "2025-02-27T08:25:45.192Z"
   },
   {
    "duration": 19,
    "start_time": "2025-02-27T08:25:45.588Z"
   },
   {
    "duration": 121,
    "start_time": "2025-02-27T08:25:45.609Z"
   },
   {
    "duration": 81,
    "start_time": "2025-02-27T08:25:45.732Z"
   },
   {
    "duration": 56,
    "start_time": "2025-02-27T08:25:45.814Z"
   },
   {
    "duration": 124,
    "start_time": "2025-02-27T08:25:45.873Z"
   },
   {
    "duration": 40,
    "start_time": "2025-02-27T08:25:45.999Z"
   },
   {
    "duration": 532,
    "start_time": "2025-02-27T08:25:46.040Z"
   },
   {
    "duration": 428,
    "start_time": "2025-02-27T08:25:46.574Z"
   },
   {
    "duration": 10,
    "start_time": "2025-02-27T08:25:47.003Z"
   },
   {
    "duration": 144,
    "start_time": "2025-02-27T08:25:47.015Z"
   },
   {
    "duration": 331,
    "start_time": "2025-02-27T08:25:47.161Z"
   },
   {
    "duration": 133,
    "start_time": "2025-02-27T08:25:47.494Z"
   },
   {
    "duration": 28,
    "start_time": "2025-02-27T08:25:47.629Z"
   },
   {
    "duration": 30,
    "start_time": "2025-02-27T08:25:47.659Z"
   },
   {
    "duration": 23,
    "start_time": "2025-02-27T08:25:47.691Z"
   },
   {
    "duration": 167,
    "start_time": "2025-02-27T08:25:47.716Z"
   },
   {
    "duration": 252,
    "start_time": "2025-02-27T08:25:47.885Z"
   },
   {
    "duration": 157,
    "start_time": "2025-02-27T08:25:48.139Z"
   },
   {
    "duration": 194,
    "start_time": "2025-02-27T08:25:48.297Z"
   },
   {
    "duration": 267,
    "start_time": "2025-02-27T08:25:48.492Z"
   },
   {
    "duration": 16,
    "start_time": "2025-02-27T08:25:48.761Z"
   },
   {
    "duration": 79,
    "start_time": "2025-02-27T08:25:48.779Z"
   },
   {
    "duration": 90,
    "start_time": "2025-02-27T08:25:48.860Z"
   },
   {
    "duration": 19,
    "start_time": "2025-02-27T08:25:48.952Z"
   },
   {
    "duration": 324,
    "start_time": "2025-02-27T08:25:48.973Z"
   },
   {
    "duration": 64,
    "start_time": "2025-02-27T08:25:49.299Z"
   },
   {
    "duration": 313,
    "start_time": "2025-02-27T08:25:49.370Z"
   },
   {
    "duration": 56,
    "start_time": "2025-02-27T08:25:49.685Z"
   },
   {
    "duration": 33,
    "start_time": "2025-02-27T08:25:49.743Z"
   },
   {
    "duration": 47,
    "start_time": "2025-02-27T08:25:49.778Z"
   },
   {
    "duration": 12,
    "start_time": "2025-02-27T08:25:49.827Z"
   },
   {
    "duration": 68,
    "start_time": "2025-02-27T08:25:49.841Z"
   },
   {
    "duration": 17,
    "start_time": "2025-02-27T08:25:49.910Z"
   },
   {
    "duration": 143,
    "start_time": "2025-02-27T08:25:49.928Z"
   },
   {
    "duration": 9,
    "start_time": "2025-02-27T08:26:33.045Z"
   },
   {
    "duration": 114,
    "start_time": "2025-02-27T08:34:53.671Z"
   },
   {
    "duration": 115,
    "start_time": "2025-02-27T08:36:10.389Z"
   },
   {
    "duration": 227,
    "start_time": "2025-02-27T08:37:09.395Z"
   },
   {
    "duration": 119,
    "start_time": "2025-02-27T08:37:24.357Z"
   },
   {
    "duration": 98,
    "start_time": "2025-02-27T08:38:14.877Z"
   },
   {
    "duration": 111,
    "start_time": "2025-02-27T08:38:50.240Z"
   },
   {
    "duration": 928,
    "start_time": "2025-02-27T08:54:45.102Z"
   },
   {
    "duration": 620,
    "start_time": "2025-02-27T08:55:00.945Z"
   },
   {
    "duration": 114,
    "start_time": "2025-02-27T09:02:32.377Z"
   },
   {
    "duration": 101,
    "start_time": "2025-02-27T09:02:41.116Z"
   },
   {
    "duration": 107,
    "start_time": "2025-02-27T09:02:54.566Z"
   },
   {
    "duration": 622,
    "start_time": "2025-02-27T09:02:59.524Z"
   },
   {
    "duration": 640,
    "start_time": "2025-02-27T09:04:12.014Z"
   },
   {
    "duration": 222,
    "start_time": "2025-02-27T09:05:09.436Z"
   },
   {
    "duration": 576,
    "start_time": "2025-02-27T09:05:57.791Z"
   },
   {
    "duration": 507,
    "start_time": "2025-02-27T09:06:15.239Z"
   },
   {
    "duration": 493,
    "start_time": "2025-02-27T09:07:22.563Z"
   },
   {
    "duration": 426,
    "start_time": "2025-02-27T09:07:43.553Z"
   },
   {
    "duration": 453,
    "start_time": "2025-02-27T09:07:49.505Z"
   },
   {
    "duration": 3876,
    "start_time": "2025-02-27T09:10:00.859Z"
   },
   {
    "duration": 1895,
    "start_time": "2025-02-27T09:10:04.737Z"
   },
   {
    "duration": 38,
    "start_time": "2025-02-27T09:10:06.633Z"
   },
   {
    "duration": 24,
    "start_time": "2025-02-27T09:10:06.673Z"
   },
   {
    "duration": 121,
    "start_time": "2025-02-27T09:10:06.699Z"
   },
   {
    "duration": 5,
    "start_time": "2025-02-27T09:10:06.822Z"
   },
   {
    "duration": 31,
    "start_time": "2025-02-27T09:10:06.828Z"
   },
   {
    "duration": 7,
    "start_time": "2025-02-27T09:10:06.861Z"
   },
   {
    "duration": 15,
    "start_time": "2025-02-27T09:10:06.869Z"
   },
   {
    "duration": 34,
    "start_time": "2025-02-27T09:10:06.886Z"
   },
   {
    "duration": 31,
    "start_time": "2025-02-27T09:10:06.921Z"
   },
   {
    "duration": 9,
    "start_time": "2025-02-27T09:10:06.954Z"
   },
   {
    "duration": 19,
    "start_time": "2025-02-27T09:10:06.964Z"
   },
   {
    "duration": 31,
    "start_time": "2025-02-27T09:10:06.986Z"
   },
   {
    "duration": 36,
    "start_time": "2025-02-27T09:10:07.018Z"
   },
   {
    "duration": 32,
    "start_time": "2025-02-27T09:10:07.056Z"
   },
   {
    "duration": 8,
    "start_time": "2025-02-27T09:10:07.089Z"
   },
   {
    "duration": 27,
    "start_time": "2025-02-27T09:10:07.098Z"
   },
   {
    "duration": 17,
    "start_time": "2025-02-27T09:10:07.126Z"
   },
   {
    "duration": 39,
    "start_time": "2025-02-27T09:10:07.145Z"
   },
   {
    "duration": 13,
    "start_time": "2025-02-27T09:10:07.186Z"
   },
   {
    "duration": 36,
    "start_time": "2025-02-27T09:10:07.201Z"
   },
   {
    "duration": 40,
    "start_time": "2025-02-27T09:10:07.239Z"
   },
   {
    "duration": 34,
    "start_time": "2025-02-27T09:10:07.281Z"
   },
   {
    "duration": 21,
    "start_time": "2025-02-27T09:10:07.316Z"
   },
   {
    "duration": 24,
    "start_time": "2025-02-27T09:10:07.339Z"
   },
   {
    "duration": 262,
    "start_time": "2025-02-27T09:10:07.365Z"
   },
   {
    "duration": 21,
    "start_time": "2025-02-27T09:10:07.628Z"
   },
   {
    "duration": 90,
    "start_time": "2025-02-27T09:10:07.650Z"
   },
   {
    "duration": 79,
    "start_time": "2025-02-27T09:10:07.741Z"
   },
   {
    "duration": 54,
    "start_time": "2025-02-27T09:10:07.821Z"
   },
   {
    "duration": 109,
    "start_time": "2025-02-27T09:10:07.877Z"
   },
   {
    "duration": 37,
    "start_time": "2025-02-27T09:10:07.988Z"
   },
   {
    "duration": 500,
    "start_time": "2025-02-27T09:10:08.027Z"
   },
   {
    "duration": 432,
    "start_time": "2025-02-27T09:10:08.528Z"
   },
   {
    "duration": 14,
    "start_time": "2025-02-27T09:10:08.962Z"
   },
   {
    "duration": 138,
    "start_time": "2025-02-27T09:10:08.978Z"
   },
   {
    "duration": 314,
    "start_time": "2025-02-27T09:10:09.118Z"
   },
   {
    "duration": 110,
    "start_time": "2025-02-27T09:10:09.433Z"
   },
   {
    "duration": 35,
    "start_time": "2025-02-27T09:10:09.545Z"
   },
   {
    "duration": 15,
    "start_time": "2025-02-27T09:10:09.584Z"
   },
   {
    "duration": 18,
    "start_time": "2025-02-27T09:10:09.600Z"
   },
   {
    "duration": 169,
    "start_time": "2025-02-27T09:10:09.619Z"
   },
   {
    "duration": 250,
    "start_time": "2025-02-27T09:10:09.789Z"
   },
   {
    "duration": 149,
    "start_time": "2025-02-27T09:10:10.040Z"
   },
   {
    "duration": 185,
    "start_time": "2025-02-27T09:10:10.191Z"
   },
   {
    "duration": 245,
    "start_time": "2025-02-27T09:10:10.378Z"
   },
   {
    "duration": 9,
    "start_time": "2025-02-27T09:10:10.624Z"
   },
   {
    "duration": 131,
    "start_time": "2025-02-27T09:10:10.635Z"
   },
   {
    "duration": 79,
    "start_time": "2025-02-27T09:10:10.768Z"
   },
   {
    "duration": 13,
    "start_time": "2025-02-27T09:10:10.848Z"
   },
   {
    "duration": 261,
    "start_time": "2025-02-27T09:10:10.863Z"
   },
   {
    "duration": 75,
    "start_time": "2025-02-27T09:10:11.126Z"
   },
   {
    "duration": 317,
    "start_time": "2025-02-27T09:10:11.203Z"
   },
   {
    "duration": 60,
    "start_time": "2025-02-27T09:10:11.522Z"
   },
   {
    "duration": 29,
    "start_time": "2025-02-27T09:10:11.584Z"
   },
   {
    "duration": 45,
    "start_time": "2025-02-27T09:10:11.614Z"
   },
   {
    "duration": 11,
    "start_time": "2025-02-27T09:10:11.660Z"
   },
   {
    "duration": 68,
    "start_time": "2025-02-27T09:10:11.673Z"
   },
   {
    "duration": 16,
    "start_time": "2025-02-27T09:10:11.743Z"
   },
   {
    "duration": 144,
    "start_time": "2025-02-27T09:10:11.761Z"
   },
   {
    "duration": 515,
    "start_time": "2025-02-27T09:10:11.907Z"
   },
   {
    "duration": 117,
    "start_time": "2025-02-27T09:10:12.423Z"
   },
   {
    "duration": 10,
    "start_time": "2025-02-27T09:10:12.542Z"
   },
   {
    "duration": 1432,
    "start_time": "2025-02-27T09:38:03.400Z"
   },
   {
    "duration": 1596,
    "start_time": "2025-02-27T09:38:05.919Z"
   },
   {
    "duration": 4,
    "start_time": "2025-02-27T09:39:03.480Z"
   },
   {
    "duration": 4,
    "start_time": "2025-02-27T09:39:23.745Z"
   },
   {
    "duration": 72,
    "start_time": "2025-02-27T09:41:04.683Z"
   },
   {
    "duration": 14,
    "start_time": "2025-02-27T09:41:23.315Z"
   },
   {
    "duration": 20,
    "start_time": "2025-02-27T10:22:33.411Z"
   },
   {
    "duration": 3788,
    "start_time": "2025-02-27T10:22:42.160Z"
   },
   {
    "duration": 2735,
    "start_time": "2025-02-27T10:22:45.950Z"
   },
   {
    "duration": 39,
    "start_time": "2025-02-27T10:22:48.687Z"
   },
   {
    "duration": 27,
    "start_time": "2025-02-27T10:22:48.728Z"
   },
   {
    "duration": 101,
    "start_time": "2025-02-27T10:22:48.757Z"
   },
   {
    "duration": 14,
    "start_time": "2025-02-27T10:22:48.859Z"
   },
   {
    "duration": 21,
    "start_time": "2025-02-27T10:22:48.875Z"
   },
   {
    "duration": 9,
    "start_time": "2025-02-27T10:22:48.897Z"
   },
   {
    "duration": 8,
    "start_time": "2025-02-27T10:22:48.907Z"
   },
   {
    "duration": 28,
    "start_time": "2025-02-27T10:22:48.916Z"
   },
   {
    "duration": 17,
    "start_time": "2025-02-27T10:22:48.945Z"
   },
   {
    "duration": 12,
    "start_time": "2025-02-27T10:22:48.970Z"
   },
   {
    "duration": 8,
    "start_time": "2025-02-27T10:22:48.983Z"
   },
   {
    "duration": 8,
    "start_time": "2025-02-27T10:22:48.994Z"
   },
   {
    "duration": 26,
    "start_time": "2025-02-27T10:22:49.004Z"
   },
   {
    "duration": 11,
    "start_time": "2025-02-27T10:22:49.032Z"
   },
   {
    "duration": 21,
    "start_time": "2025-02-27T10:22:49.044Z"
   },
   {
    "duration": 31,
    "start_time": "2025-02-27T10:22:49.066Z"
   },
   {
    "duration": 9,
    "start_time": "2025-02-27T10:22:49.098Z"
   },
   {
    "duration": 69,
    "start_time": "2025-02-27T10:22:49.108Z"
   },
   {
    "duration": 18,
    "start_time": "2025-02-27T10:22:49.178Z"
   },
   {
    "duration": 25,
    "start_time": "2025-02-27T10:22:49.198Z"
   },
   {
    "duration": 36,
    "start_time": "2025-02-27T10:22:49.224Z"
   },
   {
    "duration": 24,
    "start_time": "2025-02-27T10:22:49.261Z"
   },
   {
    "duration": 16,
    "start_time": "2025-02-27T10:22:49.287Z"
   },
   {
    "duration": 65,
    "start_time": "2025-02-27T10:22:49.304Z"
   },
   {
    "duration": 301,
    "start_time": "2025-02-27T10:22:49.370Z"
   },
   {
    "duration": 18,
    "start_time": "2025-02-27T10:22:49.672Z"
   },
   {
    "duration": 79,
    "start_time": "2025-02-27T10:22:49.692Z"
   },
   {
    "duration": 72,
    "start_time": "2025-02-27T10:22:49.772Z"
   },
   {
    "duration": 58,
    "start_time": "2025-02-27T10:22:49.846Z"
   },
   {
    "duration": 115,
    "start_time": "2025-02-27T10:22:49.906Z"
   },
   {
    "duration": 48,
    "start_time": "2025-02-27T10:22:50.022Z"
   },
   {
    "duration": 528,
    "start_time": "2025-02-27T10:22:50.072Z"
   },
   {
    "duration": 410,
    "start_time": "2025-02-27T10:22:50.602Z"
   },
   {
    "duration": 9,
    "start_time": "2025-02-27T10:22:51.014Z"
   },
   {
    "duration": 148,
    "start_time": "2025-02-27T10:22:51.024Z"
   },
   {
    "duration": 322,
    "start_time": "2025-02-27T10:22:51.173Z"
   },
   {
    "duration": 108,
    "start_time": "2025-02-27T10:22:51.496Z"
   },
   {
    "duration": 28,
    "start_time": "2025-02-27T10:22:51.606Z"
   },
   {
    "duration": 19,
    "start_time": "2025-02-27T10:22:51.638Z"
   },
   {
    "duration": 33,
    "start_time": "2025-02-27T10:22:51.659Z"
   },
   {
    "duration": 174,
    "start_time": "2025-02-27T10:22:51.693Z"
   },
   {
    "duration": 243,
    "start_time": "2025-02-27T10:22:51.868Z"
   },
   {
    "duration": 154,
    "start_time": "2025-02-27T10:22:52.113Z"
   },
   {
    "duration": 176,
    "start_time": "2025-02-27T10:22:52.269Z"
   },
   {
    "duration": 217,
    "start_time": "2025-02-27T10:22:52.446Z"
   },
   {
    "duration": 8,
    "start_time": "2025-02-27T10:22:52.669Z"
   },
   {
    "duration": 111,
    "start_time": "2025-02-27T10:22:52.678Z"
   },
   {
    "duration": 80,
    "start_time": "2025-02-27T10:22:52.791Z"
   },
   {
    "duration": 10,
    "start_time": "2025-02-27T10:22:52.873Z"
   },
   {
    "duration": 297,
    "start_time": "2025-02-27T10:22:52.885Z"
   },
   {
    "duration": 62,
    "start_time": "2025-02-27T10:22:53.184Z"
   },
   {
    "duration": 307,
    "start_time": "2025-02-27T10:22:53.247Z"
   },
   {
    "duration": 62,
    "start_time": "2025-02-27T10:22:53.556Z"
   },
   {
    "duration": 35,
    "start_time": "2025-02-27T10:22:53.620Z"
   },
   {
    "duration": 56,
    "start_time": "2025-02-27T10:22:53.657Z"
   },
   {
    "duration": 11,
    "start_time": "2025-02-27T10:22:53.715Z"
   },
   {
    "duration": 56,
    "start_time": "2025-02-27T10:22:53.728Z"
   },
   {
    "duration": 15,
    "start_time": "2025-02-27T10:22:53.786Z"
   },
   {
    "duration": 136,
    "start_time": "2025-02-27T10:22:53.803Z"
   },
   {
    "duration": 482,
    "start_time": "2025-02-27T10:22:53.941Z"
   },
   {
    "duration": 112,
    "start_time": "2025-02-27T10:22:54.424Z"
   },
   {
    "duration": 9,
    "start_time": "2025-02-27T10:22:54.538Z"
   },
   {
    "duration": 28,
    "start_time": "2025-02-27T10:22:54.548Z"
   },
   {
    "duration": 12,
    "start_time": "2025-02-27T10:22:54.578Z"
   },
   {
    "duration": 11,
    "start_time": "2025-02-27T10:46:01.639Z"
   },
   {
    "duration": 12,
    "start_time": "2025-02-27T10:46:49.920Z"
   },
   {
    "duration": 12,
    "start_time": "2025-02-27T10:49:24.886Z"
   },
   {
    "duration": 11,
    "start_time": "2025-02-27T10:58:35.126Z"
   },
   {
    "duration": 12,
    "start_time": "2025-02-27T10:58:37.646Z"
   },
   {
    "duration": 12,
    "start_time": "2025-02-27T11:04:31.525Z"
   },
   {
    "duration": 8,
    "start_time": "2025-02-27T11:04:58.110Z"
   },
   {
    "duration": 4251,
    "start_time": "2025-02-27T11:05:27.850Z"
   },
   {
    "duration": 2108,
    "start_time": "2025-02-27T11:05:32.103Z"
   },
   {
    "duration": 32,
    "start_time": "2025-02-27T11:05:34.212Z"
   },
   {
    "duration": 61,
    "start_time": "2025-02-27T11:05:34.247Z"
   },
   {
    "duration": 103,
    "start_time": "2025-02-27T11:05:34.310Z"
   },
   {
    "duration": 6,
    "start_time": "2025-02-27T11:05:34.414Z"
   },
   {
    "duration": 40,
    "start_time": "2025-02-27T11:05:34.421Z"
   },
   {
    "duration": 27,
    "start_time": "2025-02-27T11:05:34.463Z"
   },
   {
    "duration": 52,
    "start_time": "2025-02-27T11:05:34.492Z"
   },
   {
    "duration": 27,
    "start_time": "2025-02-27T11:05:34.547Z"
   },
   {
    "duration": 94,
    "start_time": "2025-02-27T11:05:34.576Z"
   },
   {
    "duration": 48,
    "start_time": "2025-02-27T11:05:34.672Z"
   },
   {
    "duration": 43,
    "start_time": "2025-02-27T11:05:34.722Z"
   },
   {
    "duration": 42,
    "start_time": "2025-02-27T11:05:34.767Z"
   },
   {
    "duration": 45,
    "start_time": "2025-02-27T11:05:34.811Z"
   },
   {
    "duration": 67,
    "start_time": "2025-02-27T11:05:34.858Z"
   },
   {
    "duration": 34,
    "start_time": "2025-02-27T11:05:34.927Z"
   },
   {
    "duration": 75,
    "start_time": "2025-02-27T11:05:34.963Z"
   },
   {
    "duration": 20,
    "start_time": "2025-02-27T11:05:35.040Z"
   },
   {
    "duration": 63,
    "start_time": "2025-02-27T11:05:35.062Z"
   },
   {
    "duration": 15,
    "start_time": "2025-02-27T11:05:35.127Z"
   },
   {
    "duration": 15,
    "start_time": "2025-02-27T11:05:35.144Z"
   },
   {
    "duration": 42,
    "start_time": "2025-02-27T11:05:35.161Z"
   },
   {
    "duration": 24,
    "start_time": "2025-02-27T11:05:35.205Z"
   },
   {
    "duration": 97,
    "start_time": "2025-02-27T11:05:35.231Z"
   },
   {
    "duration": 91,
    "start_time": "2025-02-27T11:05:35.329Z"
   },
   {
    "duration": 305,
    "start_time": "2025-02-27T11:05:35.421Z"
   },
   {
    "duration": 39,
    "start_time": "2025-02-27T11:05:35.732Z"
   },
   {
    "duration": 84,
    "start_time": "2025-02-27T11:05:35.772Z"
   },
   {
    "duration": 83,
    "start_time": "2025-02-27T11:05:35.858Z"
   },
   {
    "duration": 66,
    "start_time": "2025-02-27T11:05:35.943Z"
   },
   {
    "duration": 122,
    "start_time": "2025-02-27T11:05:36.011Z"
   },
   {
    "duration": 52,
    "start_time": "2025-02-27T11:05:36.135Z"
   },
   {
    "duration": 526,
    "start_time": "2025-02-27T11:05:36.189Z"
   },
   {
    "duration": 436,
    "start_time": "2025-02-27T11:05:36.717Z"
   },
   {
    "duration": 16,
    "start_time": "2025-02-27T11:05:37.155Z"
   },
   {
    "duration": 179,
    "start_time": "2025-02-27T11:05:37.173Z"
   },
   {
    "duration": 466,
    "start_time": "2025-02-27T11:05:37.354Z"
   },
   {
    "duration": 117,
    "start_time": "2025-02-27T11:05:37.822Z"
   },
   {
    "duration": 37,
    "start_time": "2025-02-27T11:05:37.941Z"
   },
   {
    "duration": 39,
    "start_time": "2025-02-27T11:05:37.980Z"
   },
   {
    "duration": 53,
    "start_time": "2025-02-27T11:05:38.021Z"
   },
   {
    "duration": 190,
    "start_time": "2025-02-27T11:05:38.076Z"
   },
   {
    "duration": 253,
    "start_time": "2025-02-27T11:05:38.267Z"
   },
   {
    "duration": 179,
    "start_time": "2025-02-27T11:05:38.521Z"
   },
   {
    "duration": 218,
    "start_time": "2025-02-27T11:05:38.702Z"
   },
   {
    "duration": 242,
    "start_time": "2025-02-27T11:05:38.922Z"
   },
   {
    "duration": 9,
    "start_time": "2025-02-27T11:05:39.170Z"
   },
   {
    "duration": 89,
    "start_time": "2025-02-27T11:05:39.181Z"
   },
   {
    "duration": 98,
    "start_time": "2025-02-27T11:05:39.272Z"
   },
   {
    "duration": 12,
    "start_time": "2025-02-27T11:05:39.372Z"
   },
   {
    "duration": 285,
    "start_time": "2025-02-27T11:05:39.386Z"
   },
   {
    "duration": 73,
    "start_time": "2025-02-27T11:05:39.673Z"
   },
   {
    "duration": 306,
    "start_time": "2025-02-27T11:05:39.748Z"
   },
   {
    "duration": 64,
    "start_time": "2025-02-27T11:05:40.055Z"
   },
   {
    "duration": 158,
    "start_time": "2025-02-27T11:05:40.121Z"
   },
   {
    "duration": 149,
    "start_time": "2025-02-27T11:05:40.281Z"
   },
   {
    "duration": 13,
    "start_time": "2025-02-27T11:05:40.432Z"
   },
   {
    "duration": 67,
    "start_time": "2025-02-27T11:05:40.447Z"
   },
   {
    "duration": 16,
    "start_time": "2025-02-27T11:05:40.516Z"
   },
   {
    "duration": 146,
    "start_time": "2025-02-27T11:05:40.534Z"
   },
   {
    "duration": 550,
    "start_time": "2025-02-27T11:05:40.682Z"
   },
   {
    "duration": 138,
    "start_time": "2025-02-27T11:05:41.235Z"
   },
   {
    "duration": 14,
    "start_time": "2025-02-27T11:05:41.375Z"
   },
   {
    "duration": 34,
    "start_time": "2025-02-27T11:05:41.391Z"
   },
   {
    "duration": 15,
    "start_time": "2025-02-27T11:05:41.427Z"
   },
   {
    "duration": 38,
    "start_time": "2025-02-27T11:05:41.444Z"
   },
   {
    "duration": 11,
    "start_time": "2025-02-27T11:06:11.351Z"
   },
   {
    "duration": 11,
    "start_time": "2025-02-27T11:06:56.003Z"
   },
   {
    "duration": 12,
    "start_time": "2025-02-27T11:15:38.445Z"
   },
   {
    "duration": 8,
    "start_time": "2025-02-27T11:40:30.536Z"
   },
   {
    "duration": 1382,
    "start_time": "2025-02-27T12:05:30.645Z"
   },
   {
    "duration": 9,
    "start_time": "2025-02-27T12:05:42.484Z"
   },
   {
    "duration": 20,
    "start_time": "2025-02-27T12:07:34.008Z"
   },
   {
    "duration": 19,
    "start_time": "2025-02-27T12:08:57.782Z"
   },
   {
    "duration": 23,
    "start_time": "2025-02-27T12:10:20.000Z"
   },
   {
    "duration": 25,
    "start_time": "2025-02-27T12:12:40.512Z"
   },
   {
    "duration": 4057,
    "start_time": "2025-02-27T12:12:48.851Z"
   },
   {
    "duration": 1916,
    "start_time": "2025-02-27T12:12:52.910Z"
   },
   {
    "duration": 32,
    "start_time": "2025-02-27T12:12:54.828Z"
   },
   {
    "duration": 40,
    "start_time": "2025-02-27T12:12:54.862Z"
   },
   {
    "duration": 105,
    "start_time": "2025-02-27T12:12:54.904Z"
   },
   {
    "duration": 5,
    "start_time": "2025-02-27T12:12:55.011Z"
   },
   {
    "duration": 14,
    "start_time": "2025-02-27T12:12:55.018Z"
   },
   {
    "duration": 8,
    "start_time": "2025-02-27T12:12:55.033Z"
   },
   {
    "duration": 21,
    "start_time": "2025-02-27T12:12:55.042Z"
   },
   {
    "duration": 27,
    "start_time": "2025-02-27T12:12:55.064Z"
   },
   {
    "duration": 18,
    "start_time": "2025-02-27T12:12:55.092Z"
   },
   {
    "duration": 9,
    "start_time": "2025-02-27T12:12:55.111Z"
   },
   {
    "duration": 9,
    "start_time": "2025-02-27T12:12:55.122Z"
   },
   {
    "duration": 5,
    "start_time": "2025-02-27T12:12:55.134Z"
   },
   {
    "duration": 28,
    "start_time": "2025-02-27T12:12:55.140Z"
   },
   {
    "duration": 13,
    "start_time": "2025-02-27T12:12:55.170Z"
   },
   {
    "duration": 4,
    "start_time": "2025-02-27T12:12:55.185Z"
   },
   {
    "duration": 22,
    "start_time": "2025-02-27T12:12:55.190Z"
   },
   {
    "duration": 10,
    "start_time": "2025-02-27T12:12:55.213Z"
   },
   {
    "duration": 52,
    "start_time": "2025-02-27T12:12:55.224Z"
   },
   {
    "duration": 17,
    "start_time": "2025-02-27T12:12:55.278Z"
   },
   {
    "duration": 16,
    "start_time": "2025-02-27T12:12:55.297Z"
   },
   {
    "duration": 21,
    "start_time": "2025-02-27T12:12:55.315Z"
   },
   {
    "duration": 14,
    "start_time": "2025-02-27T12:12:55.338Z"
   },
   {
    "duration": 20,
    "start_time": "2025-02-27T12:12:55.354Z"
   },
   {
    "duration": 64,
    "start_time": "2025-02-27T12:12:55.376Z"
   },
   {
    "duration": 245,
    "start_time": "2025-02-27T12:12:55.442Z"
   },
   {
    "duration": 20,
    "start_time": "2025-02-27T12:12:55.690Z"
   },
   {
    "duration": 104,
    "start_time": "2025-02-27T12:12:55.712Z"
   },
   {
    "duration": 85,
    "start_time": "2025-02-27T12:12:55.817Z"
   },
   {
    "duration": 47,
    "start_time": "2025-02-27T12:12:55.904Z"
   },
   {
    "duration": 139,
    "start_time": "2025-02-27T12:12:55.953Z"
   },
   {
    "duration": 41,
    "start_time": "2025-02-27T12:12:56.094Z"
   },
   {
    "duration": 499,
    "start_time": "2025-02-27T12:12:56.137Z"
   },
   {
    "duration": 440,
    "start_time": "2025-02-27T12:12:56.639Z"
   },
   {
    "duration": 10,
    "start_time": "2025-02-27T12:12:57.081Z"
   },
   {
    "duration": 151,
    "start_time": "2025-02-27T12:12:57.093Z"
   },
   {
    "duration": 361,
    "start_time": "2025-02-27T12:12:57.246Z"
   },
   {
    "duration": 116,
    "start_time": "2025-02-27T12:12:57.609Z"
   },
   {
    "duration": 17,
    "start_time": "2025-02-27T12:12:57.726Z"
   },
   {
    "duration": 23,
    "start_time": "2025-02-27T12:12:57.749Z"
   },
   {
    "duration": 12,
    "start_time": "2025-02-27T12:12:57.773Z"
   },
   {
    "duration": 177,
    "start_time": "2025-02-27T12:12:57.787Z"
   },
   {
    "duration": 256,
    "start_time": "2025-02-27T12:12:57.965Z"
   },
   {
    "duration": 159,
    "start_time": "2025-02-27T12:12:58.222Z"
   },
   {
    "duration": 193,
    "start_time": "2025-02-27T12:12:58.383Z"
   },
   {
    "duration": 272,
    "start_time": "2025-02-27T12:12:58.578Z"
   },
   {
    "duration": 8,
    "start_time": "2025-02-27T12:12:58.852Z"
   },
   {
    "duration": 100,
    "start_time": "2025-02-27T12:12:58.870Z"
   },
   {
    "duration": 83,
    "start_time": "2025-02-27T12:12:58.972Z"
   },
   {
    "duration": 11,
    "start_time": "2025-02-27T12:12:59.070Z"
   },
   {
    "duration": 272,
    "start_time": "2025-02-27T12:12:59.083Z"
   },
   {
    "duration": 76,
    "start_time": "2025-02-27T12:12:59.357Z"
   },
   {
    "duration": 344,
    "start_time": "2025-02-27T12:12:59.434Z"
   },
   {
    "duration": 61,
    "start_time": "2025-02-27T12:12:59.780Z"
   },
   {
    "duration": 30,
    "start_time": "2025-02-27T12:12:59.843Z"
   },
   {
    "duration": 48,
    "start_time": "2025-02-27T12:12:59.875Z"
   },
   {
    "duration": 14,
    "start_time": "2025-02-27T12:12:59.925Z"
   },
   {
    "duration": 76,
    "start_time": "2025-02-27T12:12:59.940Z"
   },
   {
    "duration": 18,
    "start_time": "2025-02-27T12:13:00.017Z"
   },
   {
    "duration": 185,
    "start_time": "2025-02-27T12:13:00.037Z"
   },
   {
    "duration": 502,
    "start_time": "2025-02-27T12:13:00.225Z"
   },
   {
    "duration": 121,
    "start_time": "2025-02-27T12:13:00.729Z"
   },
   {
    "duration": 9,
    "start_time": "2025-02-27T12:13:00.851Z"
   },
   {
    "duration": 32,
    "start_time": "2025-02-27T12:13:00.870Z"
   },
   {
    "duration": 12,
    "start_time": "2025-02-27T12:13:00.904Z"
   },
   {
    "duration": 48,
    "start_time": "2025-02-27T12:13:00.917Z"
   },
   {
    "duration": 46,
    "start_time": "2025-02-27T12:13:00.966Z"
   },
   {
    "duration": 35,
    "start_time": "2025-02-27T12:13:01.014Z"
   },
   {
    "duration": 138,
    "start_time": "2025-02-27T12:13:01.050Z"
   },
   {
    "duration": 139,
    "start_time": "2025-02-27T12:18:11.991Z"
   },
   {
    "duration": 18,
    "start_time": "2025-02-27T12:21:35.331Z"
   },
   {
    "duration": 17,
    "start_time": "2025-02-27T12:22:11.619Z"
   },
   {
    "duration": 17,
    "start_time": "2025-02-27T12:22:19.405Z"
   },
   {
    "duration": 19,
    "start_time": "2025-02-27T12:23:45.204Z"
   },
   {
    "duration": 4188,
    "start_time": "2025-02-27T12:24:05.648Z"
   },
   {
    "duration": 1801,
    "start_time": "2025-02-27T12:24:09.838Z"
   },
   {
    "duration": 43,
    "start_time": "2025-02-27T12:24:11.640Z"
   },
   {
    "duration": 26,
    "start_time": "2025-02-27T12:24:11.685Z"
   },
   {
    "duration": 125,
    "start_time": "2025-02-27T12:24:11.712Z"
   },
   {
    "duration": 4,
    "start_time": "2025-02-27T12:24:11.839Z"
   },
   {
    "duration": 28,
    "start_time": "2025-02-27T12:24:11.845Z"
   },
   {
    "duration": 12,
    "start_time": "2025-02-27T12:24:11.883Z"
   },
   {
    "duration": 24,
    "start_time": "2025-02-27T12:24:11.897Z"
   },
   {
    "duration": 34,
    "start_time": "2025-02-27T12:24:11.922Z"
   },
   {
    "duration": 30,
    "start_time": "2025-02-27T12:24:11.958Z"
   },
   {
    "duration": 4,
    "start_time": "2025-02-27T12:24:11.989Z"
   },
   {
    "duration": 27,
    "start_time": "2025-02-27T12:24:11.994Z"
   },
   {
    "duration": 45,
    "start_time": "2025-02-27T12:24:12.024Z"
   },
   {
    "duration": 42,
    "start_time": "2025-02-27T12:24:12.070Z"
   },
   {
    "duration": 28,
    "start_time": "2025-02-27T12:24:12.114Z"
   },
   {
    "duration": 17,
    "start_time": "2025-02-27T12:24:12.144Z"
   },
   {
    "duration": 26,
    "start_time": "2025-02-27T12:24:12.162Z"
   },
   {
    "duration": 18,
    "start_time": "2025-02-27T12:24:12.189Z"
   },
   {
    "duration": 56,
    "start_time": "2025-02-27T12:24:12.208Z"
   },
   {
    "duration": 19,
    "start_time": "2025-02-27T12:24:12.266Z"
   },
   {
    "duration": 8,
    "start_time": "2025-02-27T12:24:12.287Z"
   },
   {
    "duration": 36,
    "start_time": "2025-02-27T12:24:12.296Z"
   },
   {
    "duration": 22,
    "start_time": "2025-02-27T12:24:12.334Z"
   },
   {
    "duration": 10,
    "start_time": "2025-02-27T12:24:12.357Z"
   },
   {
    "duration": 43,
    "start_time": "2025-02-27T12:24:12.368Z"
   },
   {
    "duration": 297,
    "start_time": "2025-02-27T12:24:12.413Z"
   },
   {
    "duration": 19,
    "start_time": "2025-02-27T12:24:12.711Z"
   },
   {
    "duration": 92,
    "start_time": "2025-02-27T12:24:12.731Z"
   },
   {
    "duration": 84,
    "start_time": "2025-02-27T12:24:12.824Z"
   },
   {
    "duration": 46,
    "start_time": "2025-02-27T12:24:12.910Z"
   },
   {
    "duration": 173,
    "start_time": "2025-02-27T12:24:12.957Z"
   },
   {
    "duration": 52,
    "start_time": "2025-02-27T12:24:13.132Z"
   },
   {
    "duration": 519,
    "start_time": "2025-02-27T12:24:13.185Z"
   },
   {
    "duration": 453,
    "start_time": "2025-02-27T12:24:13.705Z"
   },
   {
    "duration": 26,
    "start_time": "2025-02-27T12:24:14.160Z"
   },
   {
    "duration": 150,
    "start_time": "2025-02-27T12:24:14.187Z"
   },
   {
    "duration": 363,
    "start_time": "2025-02-27T12:24:14.339Z"
   },
   {
    "duration": 125,
    "start_time": "2025-02-27T12:24:14.704Z"
   },
   {
    "duration": 51,
    "start_time": "2025-02-27T12:24:14.831Z"
   },
   {
    "duration": 36,
    "start_time": "2025-02-27T12:24:14.887Z"
   },
   {
    "duration": 155,
    "start_time": "2025-02-27T12:24:14.925Z"
   },
   {
    "duration": 183,
    "start_time": "2025-02-27T12:24:15.082Z"
   },
   {
    "duration": 262,
    "start_time": "2025-02-27T12:24:15.267Z"
   },
   {
    "duration": 161,
    "start_time": "2025-02-27T12:24:15.531Z"
   },
   {
    "duration": 195,
    "start_time": "2025-02-27T12:24:15.694Z"
   },
   {
    "duration": 255,
    "start_time": "2025-02-27T12:24:15.891Z"
   },
   {
    "duration": 8,
    "start_time": "2025-02-27T12:24:16.147Z"
   },
   {
    "duration": 98,
    "start_time": "2025-02-27T12:24:16.157Z"
   },
   {
    "duration": 86,
    "start_time": "2025-02-27T12:24:16.257Z"
   },
   {
    "duration": 10,
    "start_time": "2025-02-27T12:24:16.345Z"
   },
   {
    "duration": 286,
    "start_time": "2025-02-27T12:24:16.357Z"
   },
   {
    "duration": 74,
    "start_time": "2025-02-27T12:24:16.644Z"
   },
   {
    "duration": 322,
    "start_time": "2025-02-27T12:24:16.720Z"
   },
   {
    "duration": 70,
    "start_time": "2025-02-27T12:24:17.043Z"
   },
   {
    "duration": 11,
    "start_time": "2025-02-27T12:24:17.115Z"
   },
   {
    "duration": 67,
    "start_time": "2025-02-27T12:24:17.128Z"
   },
   {
    "duration": 13,
    "start_time": "2025-02-27T12:24:17.196Z"
   },
   {
    "duration": 73,
    "start_time": "2025-02-27T12:24:17.211Z"
   },
   {
    "duration": 17,
    "start_time": "2025-02-27T12:24:17.285Z"
   },
   {
    "duration": 125,
    "start_time": "2025-02-27T12:24:17.304Z"
   },
   {
    "duration": 511,
    "start_time": "2025-02-27T12:24:17.431Z"
   },
   {
    "duration": 120,
    "start_time": "2025-02-27T12:24:17.944Z"
   },
   {
    "duration": 16,
    "start_time": "2025-02-27T12:24:18.071Z"
   },
   {
    "duration": 25,
    "start_time": "2025-02-27T12:24:18.089Z"
   },
   {
    "duration": 13,
    "start_time": "2025-02-27T12:24:18.116Z"
   },
   {
    "duration": 24,
    "start_time": "2025-02-27T12:24:18.131Z"
   },
   {
    "duration": 9,
    "start_time": "2025-02-27T12:24:18.174Z"
   },
   {
    "duration": 17,
    "start_time": "2025-02-27T12:24:18.185Z"
   },
   {
    "duration": 142,
    "start_time": "2025-02-27T12:24:18.203Z"
   },
   {
    "duration": 18,
    "start_time": "2025-02-27T12:24:28.092Z"
   },
   {
    "duration": 29,
    "start_time": "2025-02-27T12:24:36.454Z"
   },
   {
    "duration": 24,
    "start_time": "2025-02-27T12:28:43.987Z"
   },
   {
    "duration": 20,
    "start_time": "2025-02-27T12:32:07.004Z"
   },
   {
    "duration": 28,
    "start_time": "2025-02-27T12:32:28.894Z"
   },
   {
    "duration": 10,
    "start_time": "2025-02-27T12:33:46.575Z"
   },
   {
    "duration": 16,
    "start_time": "2025-02-27T12:34:10.027Z"
   },
   {
    "duration": 17,
    "start_time": "2025-02-27T12:34:58.984Z"
   },
   {
    "duration": 11,
    "start_time": "2025-02-27T12:38:57.250Z"
   },
   {
    "duration": 15,
    "start_time": "2025-02-27T12:39:04.897Z"
   },
   {
    "duration": 16,
    "start_time": "2025-02-27T12:42:21.088Z"
   },
   {
    "duration": 9,
    "start_time": "2025-02-27T12:47:30.720Z"
   },
   {
    "duration": 13,
    "start_time": "2025-02-27T12:49:29.709Z"
   },
   {
    "duration": 15,
    "start_time": "2025-02-27T12:49:43.478Z"
   },
   {
    "duration": 15,
    "start_time": "2025-02-27T12:49:56.895Z"
   },
   {
    "duration": 16,
    "start_time": "2025-02-27T12:51:41.798Z"
   },
   {
    "duration": 16,
    "start_time": "2025-02-27T12:52:39.993Z"
   },
   {
    "duration": 12,
    "start_time": "2025-02-27T12:54:59.168Z"
   },
   {
    "duration": 162,
    "start_time": "2025-02-27T12:55:47.898Z"
   },
   {
    "duration": 10,
    "start_time": "2025-02-27T12:57:17.419Z"
   },
   {
    "duration": 11,
    "start_time": "2025-02-27T12:57:19.479Z"
   },
   {
    "duration": 14,
    "start_time": "2025-02-27T12:58:58.680Z"
   },
   {
    "duration": 10,
    "start_time": "2025-02-27T12:59:01.509Z"
   },
   {
    "duration": 10,
    "start_time": "2025-02-27T13:01:32.052Z"
   },
   {
    "duration": 9,
    "start_time": "2025-02-27T13:03:37.339Z"
   },
   {
    "duration": 11,
    "start_time": "2025-02-27T13:04:03.707Z"
   },
   {
    "duration": 10,
    "start_time": "2025-02-27T13:09:42.408Z"
   },
   {
    "duration": 10,
    "start_time": "2025-02-27T13:18:49.893Z"
   },
   {
    "duration": 12,
    "start_time": "2025-02-27T13:19:18.273Z"
   },
   {
    "duration": 13,
    "start_time": "2025-02-27T13:20:09.450Z"
   },
   {
    "duration": 5,
    "start_time": "2025-02-27T13:20:28.946Z"
   },
   {
    "duration": 6,
    "start_time": "2025-02-27T13:20:43.497Z"
   },
   {
    "duration": 5,
    "start_time": "2025-02-27T13:20:48.457Z"
   },
   {
    "duration": 8,
    "start_time": "2025-02-27T13:24:02.256Z"
   },
   {
    "duration": 8,
    "start_time": "2025-02-27T13:24:15.946Z"
   },
   {
    "duration": 4,
    "start_time": "2025-02-27T13:24:20.348Z"
   },
   {
    "duration": 131,
    "start_time": "2025-02-27T13:29:51.662Z"
   },
   {
    "duration": 135,
    "start_time": "2025-02-27T13:30:09.527Z"
   },
   {
    "duration": 138,
    "start_time": "2025-02-27T13:30:17.750Z"
   },
   {
    "duration": 14,
    "start_time": "2025-02-27T13:36:38.293Z"
   },
   {
    "duration": 18,
    "start_time": "2025-02-27T13:36:55.018Z"
   },
   {
    "duration": 13,
    "start_time": "2025-02-27T13:37:00.689Z"
   },
   {
    "duration": 9,
    "start_time": "2025-02-27T13:38:34.826Z"
   },
   {
    "duration": 140,
    "start_time": "2025-02-27T13:38:39.611Z"
   },
   {
    "duration": 13,
    "start_time": "2025-02-27T13:38:45.333Z"
   },
   {
    "duration": 4406,
    "start_time": "2025-02-27T14:43:17.994Z"
   },
   {
    "duration": 2181,
    "start_time": "2025-02-27T14:43:22.403Z"
   },
   {
    "duration": 32,
    "start_time": "2025-02-27T14:43:24.594Z"
   },
   {
    "duration": 38,
    "start_time": "2025-02-27T14:43:24.628Z"
   },
   {
    "duration": 122,
    "start_time": "2025-02-27T14:43:24.668Z"
   },
   {
    "duration": 7,
    "start_time": "2025-02-27T14:43:24.794Z"
   },
   {
    "duration": 18,
    "start_time": "2025-02-27T14:43:24.803Z"
   },
   {
    "duration": 8,
    "start_time": "2025-02-27T14:43:24.823Z"
   },
   {
    "duration": 8,
    "start_time": "2025-02-27T14:43:24.833Z"
   },
   {
    "duration": 30,
    "start_time": "2025-02-27T14:43:24.844Z"
   },
   {
    "duration": 29,
    "start_time": "2025-02-27T14:43:24.876Z"
   },
   {
    "duration": 16,
    "start_time": "2025-02-27T14:43:24.907Z"
   },
   {
    "duration": 11,
    "start_time": "2025-02-27T14:43:24.924Z"
   },
   {
    "duration": 8,
    "start_time": "2025-02-27T14:43:24.937Z"
   },
   {
    "duration": 23,
    "start_time": "2025-02-27T14:43:24.947Z"
   },
   {
    "duration": 39,
    "start_time": "2025-02-27T14:43:24.972Z"
   },
   {
    "duration": 20,
    "start_time": "2025-02-27T14:43:25.013Z"
   },
   {
    "duration": 14,
    "start_time": "2025-02-27T14:43:25.034Z"
   },
   {
    "duration": 9,
    "start_time": "2025-02-27T14:43:25.050Z"
   },
   {
    "duration": 62,
    "start_time": "2025-02-27T14:43:25.060Z"
   },
   {
    "duration": 14,
    "start_time": "2025-02-27T14:43:25.124Z"
   },
   {
    "duration": 14,
    "start_time": "2025-02-27T14:43:25.140Z"
   },
   {
    "duration": 31,
    "start_time": "2025-02-27T14:43:25.155Z"
   },
   {
    "duration": 14,
    "start_time": "2025-02-27T14:43:25.187Z"
   },
   {
    "duration": 38,
    "start_time": "2025-02-27T14:43:25.202Z"
   },
   {
    "duration": 55,
    "start_time": "2025-02-27T14:43:25.242Z"
   },
   {
    "duration": 297,
    "start_time": "2025-02-27T14:43:25.300Z"
   },
   {
    "duration": 21,
    "start_time": "2025-02-27T14:43:25.603Z"
   },
   {
    "duration": 121,
    "start_time": "2025-02-27T14:43:25.625Z"
   },
   {
    "duration": 93,
    "start_time": "2025-02-27T14:43:25.748Z"
   },
   {
    "duration": 71,
    "start_time": "2025-02-27T14:43:25.843Z"
   },
   {
    "duration": 128,
    "start_time": "2025-02-27T14:43:25.915Z"
   },
   {
    "duration": 58,
    "start_time": "2025-02-27T14:43:26.045Z"
   },
   {
    "duration": 545,
    "start_time": "2025-02-27T14:43:26.105Z"
   },
   {
    "duration": 473,
    "start_time": "2025-02-27T14:43:26.652Z"
   },
   {
    "duration": 10,
    "start_time": "2025-02-27T14:43:27.126Z"
   },
   {
    "duration": 165,
    "start_time": "2025-02-27T14:43:27.137Z"
   },
   {
    "duration": 392,
    "start_time": "2025-02-27T14:43:27.304Z"
   },
   {
    "duration": 131,
    "start_time": "2025-02-27T14:43:27.698Z"
   },
   {
    "duration": 19,
    "start_time": "2025-02-27T14:43:27.831Z"
   },
   {
    "duration": 33,
    "start_time": "2025-02-27T14:43:27.852Z"
   },
   {
    "duration": 5,
    "start_time": "2025-02-27T14:43:27.887Z"
   },
   {
    "duration": 197,
    "start_time": "2025-02-27T14:43:27.895Z"
   },
   {
    "duration": 291,
    "start_time": "2025-02-27T14:43:28.094Z"
   },
   {
    "duration": 177,
    "start_time": "2025-02-27T14:43:28.387Z"
   },
   {
    "duration": 244,
    "start_time": "2025-02-27T14:43:28.565Z"
   },
   {
    "duration": 274,
    "start_time": "2025-02-27T14:43:28.811Z"
   },
   {
    "duration": 13,
    "start_time": "2025-02-27T14:43:29.091Z"
   },
   {
    "duration": 87,
    "start_time": "2025-02-27T14:43:29.105Z"
   },
   {
    "duration": 96,
    "start_time": "2025-02-27T14:43:29.196Z"
   },
   {
    "duration": 14,
    "start_time": "2025-02-27T14:43:29.294Z"
   },
   {
    "duration": 313,
    "start_time": "2025-02-27T14:43:29.309Z"
   },
   {
    "duration": 84,
    "start_time": "2025-02-27T14:43:29.623Z"
   },
   {
    "duration": 357,
    "start_time": "2025-02-27T14:43:29.709Z"
   },
   {
    "duration": 73,
    "start_time": "2025-02-27T14:43:30.070Z"
   },
   {
    "duration": 50,
    "start_time": "2025-02-27T14:43:30.144Z"
   },
   {
    "duration": 126,
    "start_time": "2025-02-27T14:43:30.196Z"
   },
   {
    "duration": 12,
    "start_time": "2025-02-27T14:43:30.323Z"
   },
   {
    "duration": 102,
    "start_time": "2025-02-27T14:43:30.336Z"
   },
   {
    "duration": 17,
    "start_time": "2025-02-27T14:43:30.439Z"
   },
   {
    "duration": 152,
    "start_time": "2025-02-27T14:43:30.458Z"
   },
   {
    "duration": 536,
    "start_time": "2025-02-27T14:43:30.612Z"
   },
   {
    "duration": 138,
    "start_time": "2025-02-27T14:43:31.150Z"
   },
   {
    "duration": 15,
    "start_time": "2025-02-27T14:43:31.296Z"
   },
   {
    "duration": 37,
    "start_time": "2025-02-27T14:43:31.312Z"
   },
   {
    "duration": 46,
    "start_time": "2025-02-27T14:43:31.351Z"
   },
   {
    "duration": 50,
    "start_time": "2025-02-27T14:43:31.399Z"
   },
   {
    "duration": 44,
    "start_time": "2025-02-27T14:43:31.451Z"
   },
   {
    "duration": 19,
    "start_time": "2025-02-27T14:43:31.497Z"
   },
   {
    "duration": 83,
    "start_time": "2025-02-27T14:43:31.518Z"
   },
   {
    "duration": 37,
    "start_time": "2025-02-27T14:43:31.603Z"
   },
   {
    "duration": 46,
    "start_time": "2025-02-27T14:43:31.642Z"
   },
   {
    "duration": 28,
    "start_time": "2025-02-27T14:43:31.691Z"
   },
   {
    "duration": 35,
    "start_time": "2025-02-27T14:43:31.721Z"
   },
   {
    "duration": 25,
    "start_time": "2025-02-27T14:43:31.758Z"
   },
   {
    "duration": 200,
    "start_time": "2025-02-27T14:43:31.785Z"
   },
   {
    "duration": 4247,
    "start_time": "2025-02-27T14:58:36.604Z"
   },
   {
    "duration": 2212,
    "start_time": "2025-02-27T14:58:40.853Z"
   },
   {
    "duration": 41,
    "start_time": "2025-02-27T14:58:43.067Z"
   },
   {
    "duration": 37,
    "start_time": "2025-02-27T14:58:43.110Z"
   },
   {
    "duration": 142,
    "start_time": "2025-02-27T14:58:43.148Z"
   },
   {
    "duration": 5,
    "start_time": "2025-02-27T14:58:43.292Z"
   },
   {
    "duration": 69,
    "start_time": "2025-02-27T14:58:43.299Z"
   },
   {
    "duration": 27,
    "start_time": "2025-02-27T14:58:43.370Z"
   },
   {
    "duration": 9,
    "start_time": "2025-02-27T14:58:43.399Z"
   },
   {
    "duration": 20,
    "start_time": "2025-02-27T14:58:43.411Z"
   },
   {
    "duration": 19,
    "start_time": "2025-02-27T14:58:43.433Z"
   },
   {
    "duration": 29,
    "start_time": "2025-02-27T14:58:43.454Z"
   },
   {
    "duration": 3,
    "start_time": "2025-02-27T14:58:43.486Z"
   },
   {
    "duration": 10,
    "start_time": "2025-02-27T14:58:43.491Z"
   },
   {
    "duration": 23,
    "start_time": "2025-02-27T14:58:43.502Z"
   },
   {
    "duration": 17,
    "start_time": "2025-02-27T14:58:43.527Z"
   },
   {
    "duration": 41,
    "start_time": "2025-02-27T14:58:43.545Z"
   },
   {
    "duration": 26,
    "start_time": "2025-02-27T14:58:43.588Z"
   },
   {
    "duration": 87,
    "start_time": "2025-02-27T14:58:43.615Z"
   },
   {
    "duration": 50,
    "start_time": "2025-02-27T14:58:43.704Z"
   },
   {
    "duration": 21,
    "start_time": "2025-02-27T14:58:43.755Z"
   },
   {
    "duration": 11,
    "start_time": "2025-02-27T14:58:43.782Z"
   },
   {
    "duration": 22,
    "start_time": "2025-02-27T14:58:43.795Z"
   },
   {
    "duration": 10,
    "start_time": "2025-02-27T14:58:43.819Z"
   },
   {
    "duration": 13,
    "start_time": "2025-02-27T14:58:43.831Z"
   },
   {
    "duration": 37,
    "start_time": "2025-02-27T14:58:43.845Z"
   },
   {
    "duration": 266,
    "start_time": "2025-02-27T14:58:43.885Z"
   },
   {
    "duration": 39,
    "start_time": "2025-02-27T14:58:44.155Z"
   },
   {
    "duration": 92,
    "start_time": "2025-02-27T14:58:44.196Z"
   },
   {
    "duration": 81,
    "start_time": "2025-02-27T14:58:44.290Z"
   },
   {
    "duration": 50,
    "start_time": "2025-02-27T14:58:44.377Z"
   },
   {
    "duration": 124,
    "start_time": "2025-02-27T14:58:44.428Z"
   },
   {
    "duration": 62,
    "start_time": "2025-02-27T14:58:44.554Z"
   },
   {
    "duration": 527,
    "start_time": "2025-02-27T14:58:44.617Z"
   },
   {
    "duration": 476,
    "start_time": "2025-02-27T14:58:45.145Z"
   },
   {
    "duration": 10,
    "start_time": "2025-02-27T14:58:45.623Z"
   },
   {
    "duration": 179,
    "start_time": "2025-02-27T14:58:45.635Z"
   },
   {
    "duration": 363,
    "start_time": "2025-02-27T14:58:45.816Z"
   },
   {
    "duration": 120,
    "start_time": "2025-02-27T14:58:46.182Z"
   },
   {
    "duration": 27,
    "start_time": "2025-02-27T14:58:46.304Z"
   },
   {
    "duration": 6,
    "start_time": "2025-02-27T14:58:46.332Z"
   },
   {
    "duration": 6,
    "start_time": "2025-02-27T14:58:46.339Z"
   },
   {
    "duration": 186,
    "start_time": "2025-02-27T14:58:46.347Z"
   },
   {
    "duration": 274,
    "start_time": "2025-02-27T14:58:46.535Z"
   },
   {
    "duration": 171,
    "start_time": "2025-02-27T14:58:46.811Z"
   },
   {
    "duration": 199,
    "start_time": "2025-02-27T14:58:46.984Z"
   },
   {
    "duration": 254,
    "start_time": "2025-02-27T14:58:47.185Z"
   },
   {
    "duration": 10,
    "start_time": "2025-02-27T14:58:47.441Z"
   },
   {
    "duration": 96,
    "start_time": "2025-02-27T14:58:47.452Z"
   },
   {
    "duration": 95,
    "start_time": "2025-02-27T14:58:47.550Z"
   },
   {
    "duration": 10,
    "start_time": "2025-02-27T14:58:47.647Z"
   },
   {
    "duration": 358,
    "start_time": "2025-02-27T14:58:47.671Z"
   },
   {
    "duration": 89,
    "start_time": "2025-02-27T14:58:48.032Z"
   },
   {
    "duration": 330,
    "start_time": "2025-02-27T14:58:48.123Z"
   },
   {
    "duration": 68,
    "start_time": "2025-02-27T14:58:48.454Z"
   },
   {
    "duration": 32,
    "start_time": "2025-02-27T14:58:48.524Z"
   },
   {
    "duration": 53,
    "start_time": "2025-02-27T14:58:48.558Z"
   },
   {
    "duration": 13,
    "start_time": "2025-02-27T14:58:48.613Z"
   },
   {
    "duration": 81,
    "start_time": "2025-02-27T14:58:48.628Z"
   },
   {
    "duration": 22,
    "start_time": "2025-02-27T14:58:48.711Z"
   },
   {
    "duration": 125,
    "start_time": "2025-02-27T14:58:48.735Z"
   },
   {
    "duration": 493,
    "start_time": "2025-02-27T14:58:48.862Z"
   },
   {
    "duration": 138,
    "start_time": "2025-02-27T14:58:49.356Z"
   },
   {
    "duration": 9,
    "start_time": "2025-02-27T14:58:49.495Z"
   },
   {
    "duration": 17,
    "start_time": "2025-02-27T14:58:49.506Z"
   },
   {
    "duration": 17,
    "start_time": "2025-02-27T14:58:49.525Z"
   },
   {
    "duration": 37,
    "start_time": "2025-02-27T14:58:49.543Z"
   },
   {
    "duration": 10,
    "start_time": "2025-02-27T14:58:49.583Z"
   },
   {
    "duration": 29,
    "start_time": "2025-02-27T14:58:49.595Z"
   },
   {
    "duration": 110,
    "start_time": "2025-02-27T14:58:49.626Z"
   },
   {
    "duration": 8,
    "start_time": "2025-02-27T14:58:49.738Z"
   },
   {
    "duration": 21,
    "start_time": "2025-02-27T14:58:49.747Z"
   },
   {
    "duration": 12,
    "start_time": "2025-02-27T14:58:49.770Z"
   },
   {
    "duration": 25,
    "start_time": "2025-02-27T14:58:49.784Z"
   },
   {
    "duration": 33,
    "start_time": "2025-02-27T14:58:49.811Z"
   },
   {
    "duration": 158,
    "start_time": "2025-02-27T14:58:49.846Z"
   },
   {
    "duration": 4196,
    "start_time": "2025-02-28T14:33:52.289Z"
   },
   {
    "duration": 2284,
    "start_time": "2025-02-28T14:33:56.488Z"
   },
   {
    "duration": 31,
    "start_time": "2025-02-28T14:33:58.776Z"
   },
   {
    "duration": 25,
    "start_time": "2025-02-28T14:33:58.809Z"
   },
   {
    "duration": 141,
    "start_time": "2025-02-28T14:33:58.836Z"
   },
   {
    "duration": 5,
    "start_time": "2025-02-28T14:33:58.979Z"
   },
   {
    "duration": 22,
    "start_time": "2025-02-28T14:33:58.986Z"
   },
   {
    "duration": 6,
    "start_time": "2025-02-28T14:33:59.010Z"
   },
   {
    "duration": 25,
    "start_time": "2025-02-28T14:33:59.018Z"
   },
   {
    "duration": 36,
    "start_time": "2025-02-28T14:33:59.044Z"
   },
   {
    "duration": 21,
    "start_time": "2025-02-28T14:33:59.082Z"
   },
   {
    "duration": 42,
    "start_time": "2025-02-28T14:33:59.104Z"
   },
   {
    "duration": 41,
    "start_time": "2025-02-28T14:33:59.148Z"
   },
   {
    "duration": 11,
    "start_time": "2025-02-28T14:33:59.191Z"
   },
   {
    "duration": 17,
    "start_time": "2025-02-28T14:33:59.204Z"
   },
   {
    "duration": 15,
    "start_time": "2025-02-28T14:33:59.223Z"
   },
   {
    "duration": 5,
    "start_time": "2025-02-28T14:33:59.240Z"
   },
   {
    "duration": 23,
    "start_time": "2025-02-28T14:33:59.248Z"
   },
   {
    "duration": 12,
    "start_time": "2025-02-28T14:33:59.273Z"
   },
   {
    "duration": 61,
    "start_time": "2025-02-28T14:33:59.287Z"
   },
   {
    "duration": 29,
    "start_time": "2025-02-28T14:33:59.350Z"
   },
   {
    "duration": 9,
    "start_time": "2025-02-28T14:33:59.380Z"
   },
   {
    "duration": 24,
    "start_time": "2025-02-28T14:33:59.390Z"
   },
   {
    "duration": 9,
    "start_time": "2025-02-28T14:33:59.416Z"
   },
   {
    "duration": 47,
    "start_time": "2025-02-28T14:33:59.427Z"
   },
   {
    "duration": 29,
    "start_time": "2025-02-28T14:33:59.476Z"
   },
   {
    "duration": 481,
    "start_time": "2025-02-28T14:33:59.512Z"
   },
   {
    "duration": 87,
    "start_time": "2025-02-28T14:33:59.995Z"
   },
   {
    "duration": 214,
    "start_time": "2025-02-28T14:34:00.085Z"
   },
   {
    "duration": 205,
    "start_time": "2025-02-28T14:34:00.301Z"
   },
   {
    "duration": 86,
    "start_time": "2025-02-28T14:34:00.507Z"
   },
   {
    "duration": 197,
    "start_time": "2025-02-28T14:34:00.595Z"
   },
   {
    "duration": 170,
    "start_time": "2025-02-28T14:34:00.794Z"
   },
   {
    "duration": 506,
    "start_time": "2025-02-28T14:34:00.966Z"
   },
   {
    "duration": 460,
    "start_time": "2025-02-28T14:34:01.474Z"
   },
   {
    "duration": 10,
    "start_time": "2025-02-28T14:34:01.936Z"
   },
   {
    "duration": 176,
    "start_time": "2025-02-28T14:34:01.948Z"
   },
   {
    "duration": 369,
    "start_time": "2025-02-28T14:34:02.126Z"
   },
   {
    "duration": 120,
    "start_time": "2025-02-28T14:34:02.497Z"
   },
   {
    "duration": 38,
    "start_time": "2025-02-28T14:34:02.619Z"
   },
   {
    "duration": 18,
    "start_time": "2025-02-28T14:34:02.659Z"
   },
   {
    "duration": 16,
    "start_time": "2025-02-28T14:34:02.679Z"
   },
   {
    "duration": 205,
    "start_time": "2025-02-28T14:34:02.697Z"
   },
   {
    "duration": 274,
    "start_time": "2025-02-28T14:34:02.904Z"
   },
   {
    "duration": 167,
    "start_time": "2025-02-28T14:34:03.180Z"
   },
   {
    "duration": 215,
    "start_time": "2025-02-28T14:34:03.350Z"
   },
   {
    "duration": 260,
    "start_time": "2025-02-28T14:34:03.567Z"
   },
   {
    "duration": 11,
    "start_time": "2025-02-28T14:34:03.829Z"
   },
   {
    "duration": 185,
    "start_time": "2025-02-28T14:34:03.842Z"
   },
   {
    "duration": 88,
    "start_time": "2025-02-28T14:34:04.029Z"
   },
   {
    "duration": 9,
    "start_time": "2025-02-28T14:34:04.120Z"
   },
   {
    "duration": 313,
    "start_time": "2025-02-28T14:34:04.131Z"
   },
   {
    "duration": 80,
    "start_time": "2025-02-28T14:34:04.446Z"
   },
   {
    "duration": 332,
    "start_time": "2025-02-28T14:34:04.527Z"
   },
   {
    "duration": 66,
    "start_time": "2025-02-28T14:34:04.860Z"
   },
   {
    "duration": 38,
    "start_time": "2025-02-28T14:34:04.928Z"
   },
   {
    "duration": 47,
    "start_time": "2025-02-28T14:34:04.968Z"
   },
   {
    "duration": 12,
    "start_time": "2025-02-28T14:34:05.017Z"
   },
   {
    "duration": 84,
    "start_time": "2025-02-28T14:34:05.031Z"
   },
   {
    "duration": 18,
    "start_time": "2025-02-28T14:34:05.116Z"
   },
   {
    "duration": 178,
    "start_time": "2025-02-28T14:34:05.136Z"
   },
   {
    "duration": 534,
    "start_time": "2025-02-28T14:34:05.316Z"
   },
   {
    "duration": 131,
    "start_time": "2025-02-28T14:34:05.852Z"
   },
   {
    "duration": 23,
    "start_time": "2025-02-28T14:34:05.984Z"
   },
   {
    "duration": 21,
    "start_time": "2025-02-28T14:34:06.009Z"
   },
   {
    "duration": 13,
    "start_time": "2025-02-28T14:34:06.031Z"
   },
   {
    "duration": 16,
    "start_time": "2025-02-28T14:34:06.072Z"
   },
   {
    "duration": 101,
    "start_time": "2025-02-28T14:34:06.090Z"
   },
   {
    "duration": 30,
    "start_time": "2025-02-28T14:34:06.193Z"
   },
   {
    "duration": 35,
    "start_time": "2025-02-28T14:34:06.225Z"
   },
   {
    "duration": 28,
    "start_time": "2025-02-28T14:34:06.262Z"
   },
   {
    "duration": 11,
    "start_time": "2025-02-28T14:34:06.292Z"
   },
   {
    "duration": 11,
    "start_time": "2025-02-28T14:34:06.305Z"
   },
   {
    "duration": 40,
    "start_time": "2025-02-28T14:34:06.318Z"
   },
   {
    "duration": 19,
    "start_time": "2025-02-28T14:34:06.360Z"
   },
   {
    "duration": 171,
    "start_time": "2025-02-28T14:34:06.381Z"
   }
  ],
  "colab": {
   "provenance": []
  },
  "kernelspec": {
   "display_name": "Python 3 (ipykernel)",
   "language": "python",
   "name": "python3"
  },
  "language_info": {
   "codemirror_mode": {
    "name": "ipython",
    "version": 3
   },
   "file_extension": ".py",
   "mimetype": "text/x-python",
   "name": "python",
   "nbconvert_exporter": "python",
   "pygments_lexer": "ipython3",
   "version": "3.12.7"
  },
  "toc": {
   "base_numbering": 1,
   "nav_menu": {},
   "number_sections": true,
   "sideBar": true,
   "skip_h1_title": true,
   "title_cell": "Table of Contents",
   "title_sidebar": "Contents",
   "toc_cell": false,
   "toc_position": {},
   "toc_section_display": true,
   "toc_window_display": false
  }
 },
 "nbformat": 4,
 "nbformat_minor": 4
}
