{
 "cells": [
  {
   "cell_type": "markdown",
   "id": "1532da09",
   "metadata": {
    "id": "1532da09"
   },
   "source": [
    "# Исследование рынка общественного питания Москвы для фонда Shut Up and Take My Money\n",
    "\n",
    "- Автор: Котова Ольга\n",
    "- Дата:\n",
    "\n",
    "## 01. Цель и задачи  \n",
    "\n",
    "**Цель:** \n",
    "Провести исследовательский анализ рынка Москвы для инвесторов с целью открыть заведение общественного питания в Москве и определить: \n",
    "- место (кафе, ресторан, бар...);  \n",
    "- расположение;\n",
    "- цены.\n",
    " \n",
    "\n",
    "**Задачи:**\n",
    "1. Загрузить данные и познакомиться с их содержимым.\n",
    "2. Провести предобработку данных.\n",
    "3. Провести исследовательский анализ данных:\n",
    "    - Какие категории заведений представлены в данных?\n",
    "    - Какие административные районы Москвы присутствуют в данных?   \n",
    "    - Каких заведений больше — сетевых или несетевых?  \n",
    "    - Сколько посадочных мест в заведениях?  \n",
    "    - Отличается ли рейтинг заведений?\n",
    "    - С какими данными показывают самую сильную корреляцию рейтинги заведений?\n",
    "    - Топ-15 популярных сетей в Москве?\n",
    "    - Размер среднего чека заведения  в зависимости от района Москвы? \n",
    "4. Сформулировать выводы по проведённому анализу.\n",
    "\n",
    "\n",
    "## 02. Описание данных\n",
    "\n",
    "Для анализа поступили данные о клиентах банка «Метанпром». Данные состоят из двух датасетов:\n",
    "\n",
    "- `rest_info.csv` — информация о заведениях общественного питания;\n",
    "- `rest_price.csv` —  информация о среднем чеке в заведениях общественного питания.\n",
    "\n",
    "### Описание датасета `rest_info.csv`\n",
    "\n",
    "`name` — название заведения;  \n",
    "`address` — адрес заведения;  \n",
    "`district` — административный район, в котором находится заведение, например Центральный административный округ;  \n",
    "`category` — категория заведения, например «кафе», «пиццерия» или «кофейня»;  \n",
    "`hours` — информация о днях и часах работы;  \n",
    "`rating` — рейтинг заведения по оценкам пользователей в Яндекс Картах (высшая оценка — 5.0);  \n",
    "`chain` — число, выраженное 0 или 1, которое показывает, является ли заведение сетевым (для маленьких сетей могут встречаться ошибки):  \n",
    "- 0 — заведение не является сетевым;  \n",
    "- 1 — заведение является сетевым.  \n",
    "`seats` — количество посадочных мест.\n",
    "\n",
    "### Описание датасета `rest_price.csv`\n",
    "\n",
    "`price` — категория цен в заведении, например «средние», «ниже среднего», «выше среднего» и так далее;  \n",
    "`avg_bill` — строка, которая хранит среднюю стоимость заказа в виде диапазона, например:  \n",
    "- «Средний счёт: 1000–1500 ₽»;  \n",
    "- «Цена чашки капучино: 130–220 ₽»;  \n",
    "- «Цена бокала пива: 400–600 ₽».  \n",
    "и так далее;\n",
    "`middle_avg_bill` — число с оценкой среднего чека, которое указано только для значений из столбца avg_bill, начинающихся с подстроки «Средний счёт»:  \n",
    "- Если в строке указан ценовой диапазон из двух значений, в столбец войдёт медиана этих двух значений.  \n",
    "- Если в строке указано одно число — цена без диапазона, то в столбец войдёт это число.  \n",
    "- Если значения нет или оно не начинается с подстроки «Средний счёт», то в столбец ничего не войдёт.\n",
    "       \n",
    "`middle_coffee_cup` — число с оценкой одной чашки капучино, которое указано только для значений из столбца avg_bill, начинающихся с подстроки «Цена одной чашки капучино»:  \n",
    "- Если в строке указан ценовой диапазон из двух значений, в столбец войдёт медиана этих двух значений.  \n",
    "- Если в строке указано одно число — цена без диапазона, то в столбец войдёт это число.  \n",
    "- Если значения нет или оно не начинается с подстроки «Цена одной чашки капучино», то в столбец ничего не войдёт.\n",
    "\n",
    "\n",
    "## 03. Содержание проекта\n",
    "\n",
    "1. Загрузка данных и знакомство с ними.\n",
    "2. Предобработка данных.\n",
    "3. Исследовательский анализ данных.\n",
    "4. Итоговые выводы.\n",
    "\n",
    "---"
   ]
  },
  {
   "cell_type": "markdown",
   "id": "311cf986",
   "metadata": {
    "id": "311cf986"
   },
   "source": [
    "## 1. Загрузка данных и знакомство с ними\n",
    "\n",
    "Начнём с загрузки библиотек и датасетов `rest_info.csv` и `rest_price.csv`. Будем использовать pandas и библиотеки визуализации данных matplotlib и seaborn, а также phik для построения матрицы корреляции. Данные датасетов сохраним в двух переменных: `rest_df` и `price_df`."
   ]
  },

  {
   "cell_type": "code",
   "execution_count": 4,
   "id": "604451ca",
   "metadata": {
    "id": "604451ca"
   },
   "outputs": [
    {
     "name": "stdout",
     "output_type": "stream",
     "text": [
      "Requirement already satisfied: seaborn==0.11.1 in c:\\anaconda\\lib\\site-packages (0.11.1)\n",
      "Requirement already satisfied: numpy>=1.15 in c:\\anaconda\\lib\\site-packages (from seaborn==0.11.1) (1.26.4)\n",
      "Requirement already satisfied: scipy>=1.0 in c:\\anaconda\\lib\\site-packages (from seaborn==0.11.1) (1.13.1)\n",
      "Requirement already satisfied: pandas>=0.23 in c:\\anaconda\\lib\\site-packages (from seaborn==0.11.1) (2.2.2)\n",
      "Requirement already satisfied: matplotlib>=2.2 in c:\\anaconda\\lib\\site-packages (from seaborn==0.11.1) (3.10.0)\n",
      "Requirement already satisfied: contourpy>=1.0.1 in c:\\anaconda\\lib\\site-packages (from matplotlib>=2.2->seaborn==0.11.1) (1.2.0)\n",
      "Requirement already satisfied: cycler>=0.10 in c:\\anaconda\\lib\\site-packages (from matplotlib>=2.2->seaborn==0.11.1) (0.11.0)\n",
      "Requirement already satisfied: fonttools>=4.22.0 in c:\\anaconda\\lib\\site-packages (from matplotlib>=2.2->seaborn==0.11.1) (4.51.0)\n",
      "Requirement already satisfied: kiwisolver>=1.3.1 in c:\\anaconda\\lib\\site-packages (from matplotlib>=2.2->seaborn==0.11.1) (1.4.4)\n",
      "Requirement already satisfied: packaging>=20.0 in c:\\anaconda\\lib\\site-packages (from matplotlib>=2.2->seaborn==0.11.1) (24.1)\n",
      "Requirement already satisfied: pillow>=8 in c:\\anaconda\\lib\\site-packages (from matplotlib>=2.2->seaborn==0.11.1) (10.4.0)\n",
      "Requirement already satisfied: pyparsing>=2.3.1 in c:\\anaconda\\lib\\site-packages (from matplotlib>=2.2->seaborn==0.11.1) (3.1.2)\n",
      "Requirement already satisfied: python-dateutil>=2.7 in c:\\anaconda\\lib\\site-packages (from matplotlib>=2.2->seaborn==0.11.1) (2.9.0.post0)\n",
      "Requirement already satisfied: pytz>=2020.1 in c:\\anaconda\\lib\\site-packages (from pandas>=0.23->seaborn==0.11.1) (2024.1)\n",
      "Requirement already satisfied: tzdata>=2022.7 in c:\\anaconda\\lib\\site-packages (from pandas>=0.23->seaborn==0.11.1) (2023.3)\n",
      "Requirement already satisfied: six>=1.5 in c:\\anaconda\\lib\\site-packages (from python-dateutil>=2.7->matplotlib>=2.2->seaborn==0.11.1) (1.16.0)\n",
      "Requirement already satisfied: phik==0.11.1 in c:\\anaconda\\lib\\site-packages (0.11.1)\n",
      "Requirement already satisfied: numpy>=1.18.0 in c:\\anaconda\\lib\\site-packages (from phik==0.11.1) (1.26.4)\n",
      "Requirement already satisfied: scipy>=1.5.2 in c:\\anaconda\\lib\\site-packages (from phik==0.11.1) (1.13.1)\n",
      "Requirement already satisfied: pandas>=0.25.1 in c:\\anaconda\\lib\\site-packages (from phik==0.11.1) (2.2.2)\n",
      "Requirement already satisfied: matplotlib>=2.2.3 in c:\\anaconda\\lib\\site-packages (from phik==0.11.1) (3.10.0)\n",
      "Requirement already satisfied: joblib>=0.14.1 in c:\\anaconda\\lib\\site-packages (from phik==0.11.1) (1.4.2)\n",
      "Requirement already satisfied: contourpy>=1.0.1 in c:\\anaconda\\lib\\site-packages (from matplotlib>=2.2.3->phik==0.11.1) (1.2.0)\n",
      "Requirement already satisfied: cycler>=0.10 in c:\\anaconda\\lib\\site-packages (from matplotlib>=2.2.3->phik==0.11.1) (0.11.0)\n",
      "Requirement already satisfied: fonttools>=4.22.0 in c:\\anaconda\\lib\\site-packages (from matplotlib>=2.2.3->phik==0.11.1) (4.51.0)\n",
      "Requirement already satisfied: kiwisolver>=1.3.1 in c:\\anaconda\\lib\\site-packages (from matplotlib>=2.2.3->phik==0.11.1) (1.4.4)\n",
      "Requirement already satisfied: packaging>=20.0 in c:\\anaconda\\lib\\site-packages (from matplotlib>=2.2.3->phik==0.11.1) (24.1)\n",
      "Requirement already satisfied: pillow>=8 in c:\\anaconda\\lib\\site-packages (from matplotlib>=2.2.3->phik==0.11.1) (10.4.0)\n",
      "Requirement already satisfied: pyparsing>=2.3.1 in c:\\anaconda\\lib\\site-packages (from matplotlib>=2.2.3->phik==0.11.1) (3.1.2)\n",
      "Requirement already satisfied: python-dateutil>=2.7 in c:\\anaconda\\lib\\site-packages (from matplotlib>=2.2.3->phik==0.11.1) (2.9.0.post0)\n",
      "Requirement already satisfied: pytz>=2020.1 in c:\\anaconda\\lib\\site-packages (from pandas>=0.25.1->phik==0.11.1) (2024.1)\n",
      "Requirement already satisfied: tzdata>=2022.7 in c:\\anaconda\\lib\\site-packages (from pandas>=0.25.1->phik==0.11.1) (2023.3)\n",
      "Requirement already satisfied: six>=1.5 in c:\\anaconda\\lib\\site-packages (from python-dateutil>=2.7->matplotlib>=2.2.3->phik==0.11.1) (1.16.0)\n"
     ]
    }
   ],
   "source": [
    "# Импортируем библиотеки\n",
    "import pandas as pd\n",
    "\n",
    "\n",
    "# Загружаем библиотеки для визуализации данных\n",
    "import matplotlib.pyplot as plt\n",
    "\n",
    "!pip install seaborn==0.11.1\n",
    "\n",
    "# Загружаем библиотеку для расчёта коэффициента корреляции phi_k\n",
    "!pip install phik==0.11.1"
   ]
  },
  {
   "cell_type": "code",
   "execution_count": 5,
   "id": "6a6c884b",
   "metadata": {
    "id": "6a6c884b"
   },
   "outputs": [],
   "source": [
    "# Выгружаем данные в переменные rest_df и price_df\n",
    "rest_df = pd.read_csv('https://code.s3.yandex.net/datasets/rest_info.csv')\n",
    "price_df = pd.read_csv('https://code.s3.yandex.net/datasets/rest_price.csv')"
   ]
  },
  {
   "cell_type": "markdown",
   "id": "ca91b729",
   "metadata": {
    "id": "ca91b729"
   },
   "source": [
    "Познакомимся с данными датасета `rest_info.csv` — выведем первые строки методом `head()`, а информацию о датафрейме методом `info()`:"
   ]
  },
  {
   "cell_type": "code",
   "execution_count": 7,
   "id": "0e81a323",
   "metadata": {
    "id": "0e81a323",
    "outputId": "5733dfc3-745a-469f-e9a5-a261454d7a11"
   },
   "outputs": [
    {
     "data": {
      "text/html": [
       "<div>\n",
       "<style scoped>\n",
       "    .dataframe tbody tr th:only-of-type {\n",
       "        vertical-align: middle;\n",
       "    }\n",
       "\n",
       "    .dataframe tbody tr th {\n",
       "        vertical-align: top;\n",
       "    }\n",
       "\n",
       "    .dataframe thead th {\n",
       "        text-align: right;\n",
       "    }\n",
       "</style>\n",
       "<table border=\"1\" class=\"dataframe\">\n",
       "  <thead>\n",
       "    <tr style=\"text-align: right;\">\n",
       "      <th></th>\n",
       "      <th>id</th>\n",
       "      <th>name</th>\n",
       "      <th>category</th>\n",
       "      <th>address</th>\n",
       "      <th>district</th>\n",
       "      <th>hours</th>\n",
       "      <th>rating</th>\n",
       "      <th>chain</th>\n",
       "      <th>seats</th>\n",
       "    </tr>\n",
       "  </thead>\n",
       "  <tbody>\n",
       "    <tr>\n",
       "      <th>0</th>\n",
       "      <td>0c3e3439a8c64ea5bf6ecd6ca6ae19f0</td>\n",
       "      <td>WoWфли</td>\n",
       "      <td>кафе</td>\n",
       "      <td>Москва, улица Дыбенко, 7/1</td>\n",
       "      <td>Северный административный округ</td>\n",
       "      <td>ежедневно, 10:00–22:00</td>\n",
       "      <td>5.0</td>\n",
       "      <td>0</td>\n",
       "      <td>NaN</td>\n",
       "    </tr>\n",
       "    <tr>\n",
       "      <th>1</th>\n",
       "      <td>045780ada3474c57a2112e505d74b633</td>\n",
       "      <td>Четыре комнаты</td>\n",
       "      <td>ресторан</td>\n",
       "      <td>Москва, улица Дыбенко, 36, корп. 1</td>\n",
       "      <td>Северный административный округ</td>\n",
       "      <td>ежедневно, 10:00–22:00</td>\n",
       "      <td>4.5</td>\n",
       "      <td>0</td>\n",
       "      <td>4.0</td>\n",
       "    </tr>\n",
       "    <tr>\n",
       "      <th>2</th>\n",
       "      <td>1070b6b59144425896c65889347fcff6</td>\n",
       "      <td>Хазри</td>\n",
       "      <td>кафе</td>\n",
       "      <td>Москва, Клязьминская улица, 15</td>\n",
       "      <td>Северный административный округ</td>\n",
       "      <td>пн-чт 11:00–02:00; пт,сб 11:00–05:00; вс 11:00...</td>\n",
       "      <td>4.6</td>\n",
       "      <td>0</td>\n",
       "      <td>45.0</td>\n",
       "    </tr>\n",
       "    <tr>\n",
       "      <th>3</th>\n",
       "      <td>03ac7cd772104f65b58b349dc59f03ee</td>\n",
       "      <td>Dormouse Coffee Shop</td>\n",
       "      <td>кофейня</td>\n",
       "      <td>Москва, улица Маршала Федоренко, 12</td>\n",
       "      <td>Северный административный округ</td>\n",
       "      <td>ежедневно, 09:00–22:00</td>\n",
       "      <td>5.0</td>\n",
       "      <td>0</td>\n",
       "      <td>NaN</td>\n",
       "    </tr>\n",
       "    <tr>\n",
       "      <th>4</th>\n",
       "      <td>a163aada139c4c7f87b0b1c0b466a50f</td>\n",
       "      <td>Иль Марко</td>\n",
       "      <td>пиццерия</td>\n",
       "      <td>Москва, Правобережная улица, 1Б</td>\n",
       "      <td>Северный административный округ</td>\n",
       "      <td>ежедневно, 10:00–22:00</td>\n",
       "      <td>5.0</td>\n",
       "      <td>1</td>\n",
       "      <td>148.0</td>\n",
       "    </tr>\n",
       "  </tbody>\n",
       "</table>\n",
       "</div>"
      ],
      "text/plain": [
       "                                 id                  name  category  \\\n",
       "0  0c3e3439a8c64ea5bf6ecd6ca6ae19f0                WoWфли      кафе   \n",
       "1  045780ada3474c57a2112e505d74b633        Четыре комнаты  ресторан   \n",
       "2  1070b6b59144425896c65889347fcff6                 Хазри      кафе   \n",
       "3  03ac7cd772104f65b58b349dc59f03ee  Dormouse Coffee Shop   кофейня   \n",
       "4  a163aada139c4c7f87b0b1c0b466a50f             Иль Марко  пиццерия   \n",
       "\n",
       "                               address                         district  \\\n",
       "0           Москва, улица Дыбенко, 7/1  Северный административный округ   \n",
       "1   Москва, улица Дыбенко, 36, корп. 1  Северный административный округ   \n",
       "2       Москва, Клязьминская улица, 15  Северный административный округ   \n",
       "3  Москва, улица Маршала Федоренко, 12  Северный административный округ   \n",
       "4      Москва, Правобережная улица, 1Б  Северный административный округ   \n",
       "\n",
       "                                               hours  rating  chain  seats  \n",
       "0                             ежедневно, 10:00–22:00     5.0      0    NaN  \n",
       "1                             ежедневно, 10:00–22:00     4.5      0    4.0  \n",
       "2  пн-чт 11:00–02:00; пт,сб 11:00–05:00; вс 11:00...     4.6      0   45.0  \n",
       "3                             ежедневно, 09:00–22:00     5.0      0    NaN  \n",
       "4                             ежедневно, 10:00–22:00     5.0      1  148.0  "
      ]
     },
     "execution_count": 7,
     "metadata": {},
     "output_type": "execute_result"
    }
   ],
   "source": [
    "# Выводим первые строки датафрейма на экран\n",
    "rest_df.head()"
   ]
  },
  {
   "cell_type": "code",
   "execution_count": 8,
   "id": "c8c21eaa-d5be-4390-bf1f-24d3ffe8e82c",
   "metadata": {
    "id": "9d71d0f5",
    "outputId": "b0da54c6-9f23-40d9-f406-789ecefb3060"
   },
   "outputs": [
    {
     "name": "stdout",
     "output_type": "stream",
     "text": [
      "<class 'pandas.core.frame.DataFrame'>\n",
      "RangeIndex: 8406 entries, 0 to 8405\n",
      "Data columns (total 9 columns):\n",
      " #   Column    Non-Null Count  Dtype  \n",
      "---  ------    --------------  -----  \n",
      " 0   id        8406 non-null   object \n",
      " 1   name      8406 non-null   object \n",
      " 2   category  8406 non-null   object \n",
      " 3   address   8406 non-null   object \n",
      " 4   district  8406 non-null   object \n",
      " 5   hours     7870 non-null   object \n",
      " 6   rating    8406 non-null   float64\n",
      " 7   chain     8406 non-null   int64  \n",
      " 8   seats     4795 non-null   float64\n",
      "dtypes: float64(2), int64(1), object(6)\n",
      "memory usage: 591.2+ KB\n"
     ]
    }
   ],
   "source": [
    "# Выводим информацию о датафрейме\n",
    "rest_df.info()"
   ]
  },
  {
   "cell_type": "markdown",
   "id": "f744c4b2",
   "metadata": {
    "id": "f744c4b2"
   },
   "source": [
    "Датасет `rest_info.csv` содержит 9 столбцов и 8406 строк, в которых представлена информация о заведениях общественного питания Москвы.\n",
    "\n",
    "После первичного анализа данных можно сделать следующие выводы:\n",
    "- Названия столбцов приведены к виду snake case.\n",
    "- Первый столбец `id` неинформативен, остальные будем использовать в анализе.\n",
    "- Представленные данные содержат строковые данные, которые находятся в корректном типе данных object по столбцам `name`, `category`, `address`, `district`, `hours` (часы работы включают диапазон времени и слова ежедневно и тд, т.е. приведение к datetime нецелесообразно). А также содеражат - числовые значения в столбцах `rating` и `seats` в типе float64 и `chain` - в   int64 и показывает, является ли заведение сетевым, и содержит значения 1 или 0 — размерность этих данных можно оптимизировать. Количество мест `seats` также можно перевести в целочисленный формат.\n",
    "- Пропуски содержатся только в столбцах `hours` и `seats`. \n",
    "- Судя по первому знакомству с данными, значения в столбцах соответствуют своему описанию.\n",
    "\n",
    "Теперь познакомимся с данными датасета `rest_price.csv`."
   ]
  },
  {
   "cell_type": "code",
   "execution_count": 10,
   "id": "6d416c6f",
   "metadata": {
    "id": "6d416c6f",
    "outputId": "c5cf0b4f-d2b9-4fe5-b963-c57a7fe6d2c0"
   },
   "outputs": [
    {
     "ename": "NameError",
     "evalue": "name 'clients_df' is not defined",
     "output_type": "error",
     "traceback": [
      "\u001b[1;31m---------------------------------------------------------------------------\u001b[0m",
      "\u001b[1;31mNameError\u001b[0m                                 Traceback (most recent call last)",
      "Cell \u001b[1;32mIn[10], line 2\u001b[0m\n\u001b[0;32m      1\u001b[0m \u001b[38;5;66;03m# Выводим первые строки датафрейма на экран\u001b[39;00m\n\u001b[1;32m----> 2\u001b[0m clients_df\u001b[38;5;241m.\u001b[39mhead()\n",
      "\u001b[1;31mNameError\u001b[0m: name 'clients_df' is not defined"
     ]
    }
   ],
   "source": [
    "# Выводим первые строки датафрейма на экран\n",
    "clients_df.head()"
   ]
  },
  {
   "cell_type": "code",
   "execution_count": null,
   "id": "7bd582ee",
   "metadata": {
    "id": "7bd582ee",
    "outputId": "2140d094-1f49-4e17-84c9-80fb55de847d"
   },
   "outputs": [],
   "source": [
    "# Выводим информацию о датафрейме\n",
    "clients_df.info()"
   ]
  },
  {
   "cell_type": "markdown",
   "id": "ee72a164",
   "metadata": {
    "id": "ee72a164"
   },
   "source": [
    "Датасет `clients_information.csv` содержит 6 столбцов и 10000 строк, в которых представлена информация о клиентах банка. По аналогии с предыдущим датасетом можно отметить, что:\n",
    "\n",
    "- Названия столбцов лучше привести к единому виду, например snake case.\n",
    "- Типы данных соответствуют содержимому. Тип данных для столбца `Age` можно оптимизировать с понижением размерности. Маловероятно, что он хранит сильно завышенные значения.\n",
    "- Пропусков на первый взгляд нет, однако следует проверить в столбцах значения-индикаторы, которые могут говорить об отсутствии данных.\n",
    "- Значения в столбцах соответствуют описанию.\n",
    "\n",
    "Первичное знакомство показывает, что данные хорошего качества — в них практически нет пропущенных значений, а сами данные соответствуют описанию и выглядят корректными. Настало время следующего этапа — предобработки данных.\n",
    "\n",
    "---"
   ]
  },
  {
   "cell_type": "markdown",
   "id": "589727a2",
   "metadata": {
    "id": "589727a2"
   },
   "source": [
    "## 2. Предобработка данных\n",
    "\n",
    "### 2.1. Меняем названия, или метки, столбцов датафрейма\n",
    "\n",
    "Для переименования используем метод `rename()`, которому передадим словарь с новыми названиями столбцов. Однако сначала выведем все названия на экран — так будет удобнее составлять словарь."
   ]
  },
  {
   "cell_type": "code",
   "execution_count": null,
   "id": "95819756",
   "metadata": {
    "id": "95819756",
    "outputId": "83b92ddf-8508-44f2-ec46-9c149549619d"
   },
   "outputs": [],
   "source": [
    "# Выводим названия столбцов датафрейма bank_df\n",
    "bank_df.columns"
   ]
  },
  {
   "cell_type": "code",
   "execution_count": null,
   "id": "4b0bb4a9",
   "metadata": {
    "id": "4b0bb4a9"
   },
   "outputs": [],
   "source": [
    "# Передаём методу rename() словарь с названиями столбцов\n",
    "bank_df = bank_df.rename(columns={'userid': 'userid',\n",
    "                                  'Objects': 'objects',\n",
    "                                  'Balance': 'balance',\n",
    "                                  'Products': 'products',\n",
    "                                  'CreditCard': 'credit_card',\n",
    "                                  'Loyalty': 'loyalty',\n",
    "                                  'Churn': 'churn'})"
   ]
  },
  {
   "cell_type": "markdown",
   "id": "7172e4f2",
   "metadata": {
    "id": "7172e4f2"
   },
   "source": [
    "В названиях столбцов мы поменяли стиль и исправили так называемый CamelCase. При CamelCase (англ. «верблюжий регистр») каждое слово начинается с большой буквы, а между словами нет пробелов и других символов.\n",
    "\n",
    "Чтобы из CamelCase перейти в snake_case, необходимо все заглавные символы сделать строчными, а между словами добавить подчёркивание `_`. Напишем такую функцию:"
   ]
  },
  {
   "cell_type": "code",
   "execution_count": null,
   "id": "84cd8ef8",
   "metadata": {
    "id": "84cd8ef8"
   },
   "outputs": [],
   "source": [
    "# Напишем функцию для корректировки названия столбцов из CamelCase в snake_case\n",
    "def col_to_snake_case(df):\n",
    "    \"\"\"\n",
    "    Функция приводит названия столбцов из CamelCase в snake_case.\n",
    "    Пример: столбец FirstName станет first_name.\n",
    "    В качестве аргументов принимает датафрейм.\n",
    "    Перебирает столбцы и проверяет каждый столбец.\n",
    "    Если первый символ является заглавной буквой, то он меняется на прописную.\n",
    "    Если в названии отыскиваются другие заглавные буквы, перед ними вставляется символ\n",
    "    подчёркивания, и буква меняется на прописную.\n",
    "    Функция возвращает исправленный датафрейм.\n",
    "    \"\"\"\n",
    "\n",
    "    for col in df.columns:\n",
    "        str_bad = col\n",
    "        if str_bad[0].isupper():\n",
    "            str_bad = str_bad[0].lower() + str_bad[1:]\n",
    "        for index_s, item_s in enumerate(str_bad):\n",
    "            if item_s.isupper():\n",
    "                str_bad = str_bad[:index_s] + '_' + str_bad[index_s].lower() + str_bad[index_s + 1:]\n",
    "        df = df.rename(columns={col: str_bad})\n",
    "    return df"
   ]
  },
  {
   "cell_type": "markdown",
   "id": "240c78d3",
   "metadata": {
    "id": "240c78d3"
   },
   "source": [
    "В качестве аргумента функция принимает датафрейм. Она перебирает все значения `df.columns`, то есть названия столбцов. Условие  `if str_bad[0].isupper()` проверяет, является ли первая буква названия заглавной. Если да, то её регистр поменяется. Затем перебираются все символы названия столбца `for index_s, item_s in enumerate(str_bad)`. Если встречается ещё один заглавный символ, то его регистр также меняется на нижний, и перед символом добавляется знак `_`. Применим функцию к датафрейму `clients_df`:"
   ]
  },
  {
   "cell_type": "code",
   "execution_count": null,
   "id": "cd6c2b58",
   "metadata": {
    "id": "cd6c2b58"
   },
   "outputs": [],
   "source": [
    "# Применяем функцию col_to_snake_case()\n",
    "clients_df = col_to_snake_case(clients_df)"
   ]
  },
  {
   "cell_type": "code",
   "execution_count": null,
   "id": "83a60c79",
   "metadata": {
    "id": "83a60c79",
    "outputId": "f4f1fde0-be3b-4885-c87e-724be19e9e6e"
   },
   "outputs": [],
   "source": [
    "# Выводим названия столбцов датафрейма clients_df\n",
    "clients_df.columns"
   ]
  },
  {
   "cell_type": "code",
   "execution_count": null,
   "id": "ef0cf6c9",
   "metadata": {
    "id": "ef0cf6c9",
    "outputId": "ea7b3288-90c9-4f68-ceae-1709ed72eac9"
   },
   "outputs": [],
   "source": [
    "# Выводим названия столбцов датафрейма clients_df\n",
    "clients_df.columns"
   ]
  },
  {
   "cell_type": "markdown",
   "id": "ecf13657",
   "metadata": {
    "id": "ecf13657"
   },
   "source": [
    "Названия столбцов были скорректированы. Теперь можно перейти к преобразованию типов данных.\n",
    "\n",
    "---"
   ]
  },
  {
   "cell_type": "markdown",
   "id": "255f30ae",
   "metadata": {
    "id": "255f30ae"
   },
   "source": [
    "### 2.2. Оптимизируем типы данных\n",
    "\n",
    "С данными банка здесь работы не так много — понадобится только провести оптимизацию целочисленных данных. В целом этот шаг можно было бы пропустить, особенно если данных немного — такое несоответствие не будет ошибкой при обработке данных. Однако для примера оставим этот шаг и проведём оптимизацию целочисленных типов данных.\n",
    "\n",
    "Для оптимизации будем использовать метод `pd.to_numeric` с аргументом `downcast='integer'`:"
   ]
  },
  {
   "cell_type": "code",
   "execution_count": null,
   "id": "7ceaf8a3",
   "metadata": {
    "id": "7ceaf8a3"
   },
   "outputs": [],
   "source": [
    "# Оптимизируем целочисленный тип данных в датафрейме bank_df\n",
    "for column in ['score','objects','products',\n",
    "               'credit_card','loyalty','churn']:\n",
    "    bank_df[column] = pd.to_numeric(bank_df[column],\n",
    "                                    downcast='integer')\n",
    "\n",
    "# Оптимизируем целочисленный тип данных в датафрейме clients_df\n",
    "clients_df['age'] = pd.to_numeric(clients_df['age'], downcast='integer')"
   ]
  },
  {
   "cell_type": "code",
   "execution_count": null,
   "id": "d9b8185b",
   "metadata": {
    "id": "d9b8185b",
    "outputId": "53f9ecfa-83d4-41f8-d8c3-5fd1a88916af"
   },
   "outputs": [],
   "source": [
    "# Проверим типы данных в датафрейме bank_df с помощью атрибута dtypes\n",
    "bank_df.dtypes"
   ]
  },
  {
   "cell_type": "code",
   "execution_count": null,
   "id": "53bfcbc6",
   "metadata": {
    "id": "53bfcbc6",
    "outputId": "a4ab05bf-c5b3-41b6-eb65-43088ea011bd"
   },
   "outputs": [],
   "source": [
    "# Проверим типы данных в датафрейме clients_df с помощью атрибута dtypes\n",
    "clients_df.dtypes"
   ]
  },
  {
   "cell_type": "markdown",
   "id": "ace0ba7d",
   "metadata": {
    "id": "ace0ba7d"
   },
   "source": [
    "Типы данных были успешно оптимизированы с понижением размерности целочисленных данных.\n",
    "\n",
    "---"
   ]
  },
  {
   "cell_type": "markdown",
   "id": "135f0651",
   "metadata": {
    "id": "135f0651"
   },
   "source": [
    "### 2.3. Проверяем наличие пропусков в данных\n",
    "\n",
    "При первичном анализе мы обнаружили пропуски в столбце `balance` датафрейма `bank_df`. Узнаем абсолютное и относительное количество пропусков в этом столбце."
   ]
  },
  {
   "cell_type": "code",
   "execution_count": null,
   "id": "f7989a4a",
   "metadata": {
    "id": "f7989a4a",
    "outputId": "7f6153c7-a385-4f69-b799-4d741fa44a2e"
   },
   "outputs": [],
   "source": [
    "# Применяем метод isna() к датафрейму bank_df\n",
    "bank_df.isna().sum()"
   ]
  },
  {
   "cell_type": "code",
   "execution_count": null,
   "id": "ee37014b",
   "metadata": {
    "id": "ee37014b",
    "outputId": "d26b82f2-ecb2-430b-9cf5-40b01f9d2187"
   },
   "outputs": [],
   "source": [
    "# Подсчитываем долю строк с пропусками\n",
    "bank_df.isna().sum() / bank_df.shape[0]"
   ]
  },
  {
   "cell_type": "markdown",
   "id": "56347d27",
   "metadata": {
    "id": "56347d27"
   },
   "source": [
    "В датафрейме `bank_df` обнаружено 3617 пропусков в столбце `balance` — это 36% данных. Количество пропусков достаточно большое, чтобы их просто удалить.\n",
    "\n",
    "Пропуски в этом столбце могут быть вызваны:\n",
    "- Клиент не пользуется услугами банка, которые подразумевают открытие счёта. Среди таких услуг, к примеру, страхование. Однако у нас нет данных о типе услуги клиента, поэтому достоверно проверить эту гипотезу не получится. Этот тип пропусков можно отнести к типу MNAR.\n",
    "- При обработке данных произошёл технический сбой. Технические ошибки могут привести к пропускам в данных, включая случаи, когда баланс не был записан. Этот тип пропусков можно отнести к типу MCAR.\n",
    "- Клиент закрыл свой счёт и прекратил пользоваться услугами банка. Если клиент ушёл из банка и закрыл счёт, это также может быть причиной отсутствия данных о балансе. Можно проверить эту гипотезу, если проанализировать значения в столбцах `churn` и `products` в строках с пропусками. Этот тип пропусков можно отнести к типу MAR.\n",
    "\n",
    "\n",
    "Чтобы разобраться с причиной пропусков, обычно анализируют возможные взаимосвязи пропусков с другими данными. Для этого добавим новый столбец-признак `is_balance`, который укажет на наличие пропуска в столбце `balance`.\n",
    "\n",
    "Если в строке нет пропуска и в ней хранится информация о балансе, то значение в новом столбце будет 1, то есть `True`. Если в строке пропуск и баланса нет, то в столбец войдёт 0, то есть `False`. Такой подход помогает присвоить данным бинарный признак, как, например, в столбце `churn`. Затем можно использовать эти данные для изучения корреляции между данными с пропусками. Этот признак также можно использовать для группировки данных и сравнения результатов по данным с пропусками и без.\n",
    "\n",
    "Напишем небольшую функцию:"
   ]
  },
  {
   "cell_type": "code",
   "execution_count": null,
   "id": "98ce65b5",
   "metadata": {
    "id": "98ce65b5"
   },
   "outputs": [],
   "source": [
    "# Определяем функцию, которая создаст новый столбец с бинарным признаком в зависимости от наличия данных в другом столбце\n",
    "def create_is_na(x):\n",
    "    \"\"\"\n",
    "    Функция создаёт новый столбец с бинарным признаком, который указывает\n",
    "    на наличие данных в столбце. Функция применяется к столбцу после метода isna()\n",
    "    \"\"\"\n",
    "    if x:\n",
    "        return 0\n",
    "    return 1"
   ]
  },
  {
   "cell_type": "markdown",
   "id": "a4df77eb",
   "metadata": {
    "id": "a4df77eb"
   },
   "source": [
    "Функция применяется к столбцу, в котором следует проверить данные, после метода `isna()`. Как вы знаете, этот метод проверяет пропуски в данных и, если пропуск есть, возвращает `True`. В случае `True` срабатывает условие `if x` — функция возвращает 0, что означает, что в столбце нет данных. Если пропуска нет, метод `isna()` вернёт `False`. Тогда условие `if x` не сработает, и код вернёт 1. Применим эту функцию к столбцу `balance` и создадим новый столбец `is_balance`:"
   ]
  },
  {
   "cell_type": "code",
   "execution_count": null,
   "id": "44f06e35",
   "metadata": {
    "id": "44f06e35"
   },
   "outputs": [],
   "source": [
    "# Создаём столбец is_balance с помощью функции create_is_na\n",
    "bank_df['is_balance'] = bank_df['balance'].isna().apply(create_is_na)"
   ]
  },
  {
   "cell_type": "markdown",
   "id": "5619e200",
   "metadata": {
    "id": "5619e200"
   },
   "source": [
    "После того как столбец-признак `is_balance` был создан, можно посчитать средние значения или медиану по другим столбцам. Это поможет получить характеристики клиентов с пропуском и без пропуска в столбце `balance`. Для этого проведём агрегацию данных:\n",
    "\n",
    "- Для данных с дискретными признаками `objects` и `products` будем использовать медиану `median`. Для таких значений среднее может быть дробным числом, а медиана, как правило, будет числом целым, которое проще интерпретировать.\n",
    "- Для непрерывных вещественных данных `score` и `estimated_salary` используем среднее `mean`, чтобы охарактеризовать типичное значение.\n",
    "- Для бинарных данных `credit_card`, `loyalty` и `churn` также используем среднее значение `mean` — оно будет соответствовать доли значений с признаком 1."
   ]
  },
  {
   "cell_type": "code",
   "execution_count": null,
   "id": "d997d134",
   "metadata": {
    "id": "d997d134",
    "outputId": "6009950d-3669-412d-d759-c63f62113a59"
   },
   "outputs": [],
   "source": [
    "# Проводим агрегацию данных по полю is_balance\n",
    "bank_df.groupby('is_balance').agg({\n",
    "    'score':'mean',\n",
    "    'objects':'median',\n",
    "    'products':'median',\n",
    "    'credit_card':'mean',\n",
    "    'loyalty':'mean',\n",
    "    'churn':'mean',\n",
    "    'estimated_salary':'mean'\n",
    "})"
   ]
  },
  {
   "cell_type": "markdown",
   "id": "48931a8a",
   "metadata": {
    "id": "48931a8a"
   },
   "source": [
    "Можно сделать такие выводы о связи между пропусками в столбце `balance` и другими характеристиками клиентов:\n",
    "\n",
    "- У клиентов с пропусками в `balance` в среднем больше продуктов, чем у клиентов без пропусков: у клиентов с пропусками в среднем два продукта, а у клиентов без пропусков — только один.\n",
    "- Клиенты с указанным балансом чаще перестают пользоваться услугами банка, а количество объектов недвижимости не влияет на наличие пропуска в столбце `balance`.\n",
    "\n",
    "Пропуски в столбце `balance`, скорее всего, неслучайны и могут зависеть от разных факторов, о которых у нас нет информации. Например, от названия продукта.\n",
    "\n",
    "---\n",
    "\n",
    "Далее проверим, встречаются ли в данных значения-индикаторы, которые можно рассматривать как пропуски. Иногда для анализа поступают уже частично или полностью подготовленные данные. Если аналитик не знает, по какому алгоритму происходили первичный сбор и обработка данных, лучше дополнительно проверить, использовались ли значения-индикаторы для замены пропусков. Это поможет понять качество данных и избежать ошибок при их агрегации, когда значение-индикатор будет учитываться при расчёте среднего или медианы, что исказит исходные данные.\n",
    "\n",
    "Посмотрим на уникальные значения в ключевых данных — среди них количество продуктов, объекты недвижимости, наличие кредитной карты, специальные условия обслуживания и признак, по которому клиент ушёл из банка."
   ]
  },
  {
   "cell_type": "code",
   "execution_count": null,
   "id": "e38d9019",
   "metadata": {
    "id": "e38d9019",
    "outputId": "3f748e7b-1807-41e2-e9dd-57b64ed69156"
   },
   "outputs": [],
   "source": [
    "# Проверяем уникальные значения в столбцах\n",
    "for column in ['objects', 'products', 'credit_card', 'loyalty', 'churn']:\n",
    "    print(f'Уникальные значения в столбце {column}:')\n",
    "    print(bank_df[column].sort_values().unique())\n",
    "    print()"
   ]
  },
  {
   "cell_type": "markdown",
   "id": "40aa8a6d",
   "metadata": {
    "id": "40aa8a6d"
   },
   "source": [
    "Все значения выглядят корректными. Теперь можно перейти к изучению дубликатов в данных.\n",
    "\n",
    "---"
   ]
  },
  {
   "cell_type": "markdown",
   "id": "3fb473cb",
   "metadata": {
    "id": "3fb473cb"
   },
   "source": [
    "### 2.4. Явные и неявные дубликаты в данных\n",
    "\n",
    "Проверим данные на наличие явных и неявных дубликатов. Начнём с полных дубликатов:"
   ]
  },
  {
   "cell_type": "code",
   "execution_count": null,
   "id": "8b9cafc2",
   "metadata": {
    "id": "8b9cafc2",
    "outputId": "4893057d-e2b9-46e7-c7c3-8b0257c7c4d8"
   },
   "outputs": [],
   "source": [
    "# Проверяем полные дубликаты в датафрейме bank_df\n",
    "bank_df.duplicated().sum()"
   ]
  },
  {
   "cell_type": "code",
   "execution_count": null,
   "id": "c69b2069",
   "metadata": {
    "id": "c69b2069",
    "outputId": "b2e8aedd-df8d-4d02-8a8b-951be94084f7"
   },
   "outputs": [],
   "source": [
    "# Проверяем полные дубликаты в датафрейме clients_df\n",
    "clients_df.duplicated().sum()"
   ]
  },
  {
   "cell_type": "markdown",
   "id": "08fb0131",
   "metadata": {
    "id": "08fb0131"
   },
   "source": [
    "В датафреймах нет полных дубликатов строк. Проверим неявные дубликаты — значения по `id` клиентов должны быть уникальными, то есть каждая строка в данных — уникальный клиент:"
   ]
  },
  {
   "cell_type": "code",
   "execution_count": null,
   "id": "51874b83",
   "metadata": {
    "id": "51874b83",
    "outputId": "014230f8-102e-4e6f-d586-20e36ce6dba0"
   },
   "outputs": [],
   "source": [
    "# Проверяем неявные дубликаты в датафрейме bank_df\n",
    "bank_df.duplicated(subset='userid').sum()"
   ]
  },
  {
   "cell_type": "code",
   "execution_count": null,
   "id": "a042edd6",
   "metadata": {
    "id": "a042edd6",
    "outputId": "d2559526-532c-4d5a-f798-f8563621d5a4"
   },
   "outputs": [],
   "source": [
    "# Проверяем неявные дубликаты в датафрейме clients_df\n",
    "clients_df.duplicated(subset='userid').sum()"
   ]
  },
  {
   "cell_type": "markdown",
   "id": "f1e0db72",
   "metadata": {
    "id": "f1e0db72"
   },
   "source": [
    "Тут тоже всё хорошо — каждая строка соответствует уникальному клиенту. Теперь проверим корректность написания категориальных значений в данных `clients_df`."
   ]
  },
  {
   "cell_type": "code",
   "execution_count": null,
   "id": "e11e211f",
   "metadata": {
    "id": "e11e211f",
    "outputId": "dbdc476d-9ef5-42aa-dfa1-87cf7d35bc0a"
   },
   "outputs": [],
   "source": [
    "# Проверяем уникальные значения в категориальных столбцах\n",
    "for column in ['gender', 'city']:\n",
    "    print(f'Уникальные значения в столбце {column}:')\n",
    "    print(clients_df[column].sort_values().unique())\n",
    "    print()"
   ]
  },
  {
   "cell_type": "markdown",
   "id": "8106aa7f",
   "metadata": {
    "id": "8106aa7f"
   },
   "source": [
    "В обозначении пола клиента и его города регистрации также нет ошибок.\n",
    "\n",
    "---"
   ]
  },
  {
   "cell_type": "markdown",
   "id": "11c220e5",
   "metadata": {
    "id": "11c220e5"
   },
   "source": [
    "### 2.5. Промежуточные выводы после предобработки\n",
    "\n",
    "На этом предобработка завершена. Предоставленные данные хорошего качества и требуют не так много действий по предобработке. Однако, независимо от качества данных, лучше завершить этот этап небольшим промежуточным выводом: отметить основные действия и ошибки, с которыми вы столкнулись на этом шаге.\n",
    "\n",
    "В результате предобработки данных были выполнены следующие действия:\n",
    "\n",
    "- Скорректированы названия столбцов — их привели к стилю snake case;\n",
    "- Изучены пропуски в данных. Пропуски обнаружились в столбце `balance` и составляют около 36% данных столбца. Учитывая это количество, пропуски могут отражать особенности использования услуг клиентами и не являться ошибкой в данных. Поэтому их оставили как есть.\n",
    "- Данные проверили на явные и неявные дубликаты — в данных их нет.\n",
    "\n",
    "---"
   ]
  },
  {
   "cell_type": "markdown",
   "id": "acc7d273",
   "metadata": {
    "id": "acc7d273"
   },
   "source": [
    "### 2.6. Подготовка единого датафрейма\n",
    "\n",
    "Задача проекта предполагает создание портрета клиента для анализа его лояльности. Поэтому можно соединить данные о том, как клиент пользуется банковскими продуктами из таблицы `bank_df`, с персональными данными — возрастом и городом проживания из таблицы `clients_df`.\n",
    "\n",
    "Каждая строка в этих датафреймах — это информация о клиенте, поэтому такие данные удобно соединить в один датафрейм, который можно использовать для поиска закономерностей в данных. Соединять данные будем по идентификатору клиента. При соединении оставим только полные данные — это значит, что значение `userid` клиента должно быть в двух датафреймах.\n",
    "\n",
    "Соединим данные, используя значение параметра `how` по умолчанию — `'inner'`. Это позволит оставить только полные данные по клиентам банка."
   ]
  },
  {
   "cell_type": "code",
   "execution_count": null,
   "id": "92ebc822",
   "metadata": {
    "id": "92ebc822"
   },
   "outputs": [],
   "source": [
    "# Соединяем данные в единый датафрейм df\n",
    "df = bank_df.merge(clients_df, on='userid')"
   ]
  },
  {
   "cell_type": "code",
   "execution_count": null,
   "id": "abf19dee",
   "metadata": {
    "id": "abf19dee",
    "outputId": "5029e746-7234-48b5-83a7-630412cb21bb"
   },
   "outputs": [],
   "source": [
    "# Выводим информацию о датафрейме\n",
    "df.info()"
   ]
  },
  {
   "cell_type": "markdown",
   "id": "4e6d952e",
   "metadata": {
    "id": "4e6d952e"
   },
   "source": [
    "Данные соединены, и информация обо всех пользователях сохранилась.\n",
    "\n",
    "---"
   ]
  },
  {
   "cell_type": "markdown",
   "id": "cdc4e8e9",
   "metadata": {
    "id": "cdc4e8e9"
   },
   "source": [
    "## 3. Исследовательский анализ данных\n"
   ]
  },
  {
   "cell_type": "markdown",
   "id": "bff28bdc",
   "metadata": {
    "id": "bff28bdc"
   },
   "source": [
    "### 3.1. Числовые данные с небольшим количеством значений\n",
    "\n",
    "Начнём с числовых данных. Рассмотрим ситуацию, когда уникальных значений немного и они дискретные, как, например, количество объектов собственности или количество продуктов банка, которые использует клиент. В таком случае стоит оценить распределение данных по этим категориям.\n",
    "\n",
    "Вторая ситуация — когда данные представлены непрерывными значениям, как, например, баланс клиента на счёте. Тогда будем оценивать их статистические показатели и строить гистограммы распределения значений и диаграммы размаха для проверки выбросов.\n",
    "\n",
    "Сначала разберём столбец `objects`, который хранит целочисленные дискретные значения. Количество уникальных значений в нём невелико — от 0 до 10. Это мы узнали на этапе предобработки данных."
   ]
  },
  {
   "cell_type": "code",
   "execution_count": null,
   "id": "b179b535",
   "metadata": {
    "id": "b179b535",
    "outputId": "7cf1ae4b-21f0-4640-dc48-3dc6a426857e"
   },
   "outputs": [],
   "source": [
    "# Проверяем распределение данных по значениям столбца objects\n",
    "print('Распределение данных по значениям столбца objects:')\n",
    "df['objects'].value_counts()"
   ]
  },
  {
   "cell_type": "markdown",
   "id": "5718fbb1",
   "metadata": {
    "id": "5718fbb1"
   },
   "source": [
    "Результаты показывают, что всего в этом столбце 11 уникальных значений — от 0 до 10, при этом 0 и 10 самые непопулярные. Остальные значения содержат примерно равное количество клиентов — около 1000.\n",
    "\n",
    "По этим данным можно сделать вывод, что все значения в этом столбце примерно сопоставимы по количеству данных, за исключением двух категорий, где данных в два раза меньше (0 и 10 объектов). Это стоит учитывать при сравнении статистических показателей разных категорий."
   ]
  },
  {
   "cell_type": "markdown",
   "id": "a03deb61",
   "metadata": {
    "id": "a03deb61"
   },
   "source": [
    "Для анализа данных в таких столбцах можно использовать группировку по уникальному значению с подсчётом определённых параметров, например уникальных идентификаторов клиентов или среднего значения баланса. Узнаем уникальное количество клиентов по значениям столбца `objects`:"
   ]
  },
  {
   "cell_type": "code",
   "execution_count": null,
   "id": "c845e211",
   "metadata": {
    "id": "c845e211",
    "outputId": "dce0ccea-d28b-423c-bff9-c1978aa2619f"
   },
   "outputs": [],
   "source": [
    "# Посчитаем количество уникальных клиентов для каждого значения столбца objects\n",
    "print('Распределение клиентов по значениям столбца objects:')\n",
    "df.groupby('objects')['userid'].nunique()"
   ]
  },
  {
   "cell_type": "markdown",
   "id": "5f084b03",
   "metadata": {
    "id": "5f084b03"
   },
   "source": [
    "Аналогичным образом проверим данные в столбце `products`:"
   ]
  },
  {
   "cell_type": "code",
   "execution_count": null,
   "id": "b0cba005",
   "metadata": {
    "id": "b0cba005",
    "outputId": "2fa939bd-772a-4ba1-dfdc-1b1c65bdad08"
   },
   "outputs": [],
   "source": [
    "# Проверяем распределение данных по значениям столбца products\n",
    "print('Распределение данных по значениям столбца products:')\n",
    "df['products'].value_counts()"
   ]
  },
  {
   "cell_type": "markdown",
   "id": "11894f9e",
   "metadata": {
    "id": "11894f9e"
   },
   "source": [
    "Клиенты в основном предпочитают один или два продукта, и общее количество клиентов в этих категориях представлено близкими значениями. А вот тремя и четырьмя продуктами пользуется гораздо меньше людей. Это значит, что клиенты распределены неравномерно между количеством продуктов, и это накладывает свои ограничения на сравнение групп между собой.\n",
    "\n",
    "Для визуального анализа такого распределения можно использовать столбчатые диаграммы. Визуализируем распределение в столбце `products`:"
   ]
  },
  {
   "cell_type": "code",
   "execution_count": null,
   "id": "62b634e7",
   "metadata": {
    "id": "62b634e7",
    "outputId": "f79fdccf-0856-45f6-d731-f907c1a31de0"
   },
   "outputs": [],
   "source": [
    "# Создаём контейнер графика matplotlib и задаём его размер\n",
    "plt.figure(figsize=(7, 3))\n",
    "\n",
    "# Строим столбчатую диаграмму с помощью pandas через plot(kind='bar')\n",
    "df['products'].value_counts().plot(\n",
    "               kind='bar', # Тип графика - столбчатая диаграмма\n",
    "               rot=0, # Градус вращения подписи по оси Х\n",
    "               legend=False, # Выключаем легенду\n",
    "               title=f'Распределение клиентов в зависимости от количества продуктов банка'\n",
    ")\n",
    "\n",
    "# Настраиваем оформление графика\n",
    "plt.xlabel('Количество продуктов банка')\n",
    "plt.ylabel('Количество клиентов')\n",
    "# Добавляем сетку графика\n",
    "plt.grid()\n",
    "\n",
    "# Выводим график\n",
    "plt.show()"
   ]
  },
  {
   "cell_type": "markdown",
   "id": "eca82650",
   "metadata": {
    "id": "eca82650"
   },
   "source": [
    "Из категорий по количеству продуктов две значительно преобладают — теперь это хорошо видно.\n",
    "\n",
    "Визуализируем распределение в столбце `objects`:\n",
    "\n",
    "---"
   ]
  },
  {
   "cell_type": "code",
   "execution_count": null,
   "id": "3b7ac52c",
   "metadata": {
    "id": "3b7ac52c",
    "outputId": "09b7a661-8b7a-4aef-c428-488983eb7970"
   },
   "outputs": [],
   "source": [
    "# Создаём контейнер графика matplotlib и задаём его размер\n",
    "plt.figure(figsize=(7, 3))\n",
    "\n",
    "# Строим столбчатую диаграмму с помощью pandas через plot(kind='bar')\n",
    "df['objects'].value_counts().plot(\n",
    "               kind='bar', # Тип графика - столбчатая диаграмма\n",
    "               rot=0, # Градус вращения подписи по оси Х\n",
    "               legend=False, # Выключаем легенду\n",
    "               title=f'Распределение клиентов в зависимости от количества объектов собственности'\n",
    ")\n",
    "\n",
    "# Настраиваем оформление графика\n",
    "plt.xlabel('Количество объектов собственности')\n",
    "plt.ylabel('Количество клиентов')\n",
    "\n",
    "# Добавляем сетку графика\n",
    "plt.grid()\n",
    "\n",
    "# Выводим график\n",
    "plt.show()"
   ]
  },
  {
   "cell_type": "markdown",
   "id": "5fc432ee",
   "metadata": {
    "id": "5fc432ee"
   },
   "source": [
    "### 3.2. Непрерывные числовые данные\n",
    "\n",
    "Теперь посмотрим на данные кредитного рейтинга клиента `score` и его баланса на счёте `balance`. Значения в них относятся к непрерывным вещественным данным.\n",
    "\n",
    "Начнём с баланса — при знакомстве с подобными данными вначале стоит оценить статические показатели. Для этого используем метод `describe()`:"
   ]
  },
  {
   "cell_type": "code",
   "execution_count": null,
   "id": "20b08ac2",
   "metadata": {
    "id": "20b08ac2",
    "outputId": "cc31baad-aa85-42fe-aa3f-b35620564ebb"
   },
   "outputs": [],
   "source": [
    "# Изучаем статистические показатели столбца balance\n",
    "print('Статистические показатели столбца balance:')\n",
    "df['balance'].describe()"
   ]
  },
  {
   "cell_type": "markdown",
   "id": "ad44812f",
   "metadata": {
    "id": "ad44812f"
   },
   "source": [
    "Можно предположить, что данные баланса имеют распределение, близкое к нормальному. Об этом говорит близость среднего и медианного значений. Однако значение стандартного отклонения довольно высокое — 30095.06, и при среднем 119827.49 это указывает, что данные могут иметь широкий разброс. Разница между минимальным и максимальным значениями это подтверждает.\n",
    "\n",
    "Дополнительно проверим это и построим гистограмму распределения значений и диаграмму размаха для столбца с балансом."
   ]
  },
  {
   "cell_type": "code",
   "execution_count": null,
   "id": "776c95d6",
   "metadata": {
    "id": "776c95d6",
    "outputId": "5a82a9c3-d66e-430d-8c74-530c4eb569a4"
   },
   "outputs": [],
   "source": [
    "# Создаём контейнер графика matplotlib и задаём его размер\n",
    "plt.figure(figsize=(7, 3))\n",
    "\n",
    "# Строим гистограмму с помощью pandas через plot(kind='hist')\n",
    "df['balance'].plot(\n",
    "                kind='hist', # Тип графика - гистограмма\n",
    "                bins=25, # Устанавливаем количество корзин - всего 25\n",
    "                alpha=0.75,\n",
    "                edgecolor='black',\n",
    "                rot=0, # Градус вращения подписи по оси Х\n",
    ")\n",
    "\n",
    "# Настраиваем оформление графика\n",
    "plt.title('Распределение значений баланса клиентов')\n",
    "plt.xlabel('Баланс клиента')\n",
    "plt.ylabel('Частота')\n",
    "# Добавляем сетку графика\n",
    "plt.grid()\n",
    "\n",
    "# Выводим график\n",
    "plt.show()"
   ]
  },
  {
   "cell_type": "code",
   "execution_count": null,
   "id": "669d8324",
   "metadata": {
    "id": "669d8324",
    "outputId": "0f947108-600a-463d-bde0-5caf78bfc8f2"
   },
   "outputs": [],
   "source": [
    "# Создаём контейнер графика matplotlib и задаём его размер\n",
    "plt.figure(figsize=(7, 2))\n",
    "\n",
    "# Строим диаграмму размаха значений в столбце balance\n",
    "df.boxplot(column='balance', vert=False)\n",
    "\n",
    "# Добавляем заголовок и метки оси\n",
    "plt.title('Распределение значений баланса клиента')\n",
    "plt.xlabel('Баланс клиента')\n",
    "\n",
    "# Выводим график\n",
    "plt.show()"
   ]
  },
  {
   "cell_type": "markdown",
   "id": "313601ca",
   "metadata": {
    "id": "313601ca"
   },
   "source": [
    "Распределение данных действительно выглядит нормальным, однако характеризуется широким разбросом и «хвостами» как в левой, так и в правой части гистограммы. Такие низкие и высокие значения можно отнести к выбросам. Однако сами значения, как минимальные, так и максимальные, не выглядят ошибкой, и такой баланс у клиента вполне допустим. Поэтому при анализе данных их оставим.\n",
    "\n",
    "Теперь изучим распределение значений в столбце `score`:"
   ]
  },
  {
   "cell_type": "code",
   "execution_count": null,
   "id": "088d1cd4",
   "metadata": {
    "id": "088d1cd4",
    "outputId": "b9668e71-2e7a-4c43-d60e-745b09803f29"
   },
   "outputs": [],
   "source": [
    "# Изучаем статистические показатели столбца score\n",
    "print('Статистические показатели столбца score:')\n",
    "df['score'].describe()"
   ]
  },
  {
   "cell_type": "code",
   "execution_count": null,
   "id": "a809b224",
   "metadata": {
    "id": "a809b224",
    "outputId": "2310dec9-9c35-4840-bed3-0cc7c9c3c748"
   },
   "outputs": [],
   "source": [
    "# Создаём контейнер графика matplotlib и задаём его размер\n",
    "plt.figure(figsize=(7, 3))\n",
    "\n",
    "# Строим гистограмму с помощью pandas через plot(kind='hist')\n",
    "df['score'].plot(\n",
    "                kind='hist', # Тип графика - гистограмма\n",
    "                bins=50, # Устанавливаем количество корзин\n",
    "                alpha=0.75,\n",
    "                edgecolor='black',\n",
    "                rot=0, # Градус вращения подписи по оси Х\n",
    ")\n",
    "\n",
    "# Настраиваем оформление графика\n",
    "plt.title('Распределение значений кредитного рейтинга клиента')\n",
    "plt.xlabel('Кредитный рейтинг клиента')\n",
    "plt.ylabel('Частота')\n",
    "# Добавляем сетку графика\n",
    "plt.grid()\n",
    "\n",
    "# Выводим график\n",
    "plt.show()"
   ]
  },
  {
   "cell_type": "code",
   "execution_count": null,
   "id": "f44e841c",
   "metadata": {
    "id": "f44e841c",
    "outputId": "636d2051-f8a7-4a22-f58b-f23bf75ee197"
   },
   "outputs": [],
   "source": [
    "# Создаём контейнер графика matplotlib и задаём его размер\n",
    "plt.figure(figsize=(7, 2))\n",
    "\n",
    "# Строим диаграмму размаха значений в столбце score\n",
    "df.boxplot(column='score', vert=False)\n",
    "\n",
    "# Добавляем заголовок и метки оси\n",
    "plt.title('Распределение значений кредитного рейтинга клиента')\n",
    "plt.xlabel('Кредитный рейтинг клиента')\n",
    "\n",
    "# Выводим график\n",
    "plt.show()"
   ]
  },
  {
   "cell_type": "markdown",
   "id": "f19844a4",
   "metadata": {
    "id": "f19844a4"
   },
   "source": [
    "На гистограмме видно, что распределение значений в столбце `score` приближается к нормальному, но резко увеличивается количество высоких значений, близких к 850. Такой пик может означать, что 850 — это значение-индикатор, которое отражает пропуски. Например, у таких клиентов может не быть кредитного рейтинга, так как ранее они не оформляли кредиты. Может быть и другое объяснение. Допустим, кредитный рейтинг клиента составляет больше 850. Если значение 850 является максимальным, то всем клиентам с рейтингом выше может присваиваться значение 850.\n",
    "\n",
    "Исходя из диаграммы размаха, минимальные значения можно считать за выбросы, однако такой рейтинг можно допустить для клиентов, которые задерживают выплаты по кредитам или нарушают другие условия кредитования.\n",
    "\n",
    "Проверим эту особенность данных отдельно и изучим распределение данных для значений рейтинга от 840 до 850:"
   ]
  },
  {
   "cell_type": "code",
   "execution_count": null,
   "id": "0b8056b0",
   "metadata": {
    "id": "0b8056b0",
    "outputId": "89ac8dba-7b86-4034-8ebf-68891a9e9c08"
   },
   "outputs": [],
   "source": [
    "# Проверяем распределение данных по значениям столбца score 840 и выше\n",
    "print('Распределение данных по значениям столбца score 840 и выше:')\n",
    "df.loc[df['score'] >= 840]['score'].value_counts()"
   ]
  },
  {
   "cell_type": "markdown",
   "id": "ecee3166",
   "metadata": {
    "id": "ecee3166"
   },
   "source": [
    "Действительно, данных с рейтингом 850 значительно больше, чем с рейтингом от 840 до 849. Это может подтвердить одну из предложенных гипотез.\n",
    "\n",
    "Теперь изучим распределение значений в столбце `estimated_salary`:"
   ]
  },
  {
   "cell_type": "code",
   "execution_count": null,
   "id": "713d9a90",
   "metadata": {
    "id": "713d9a90",
    "outputId": "e59a9134-1be8-486f-ed2b-880e707ee377"
   },
   "outputs": [],
   "source": [
    "# Изучаем статистические показатели столбца estimated_salary\n",
    "print('Статистические показатели столбца estimated_salary:')\n",
    "df['estimated_salary'].describe()"
   ]
  },
  {
   "cell_type": "code",
   "execution_count": null,
   "id": "21bf87fb",
   "metadata": {
    "id": "21bf87fb",
    "outputId": "3717b4f1-7b4b-47c4-a715-20fdb2ebfefd"
   },
   "outputs": [],
   "source": [
    "# Создаём контейнер графика matplotlib и задаём его размер\n",
    "plt.figure(figsize=(7, 3))\n",
    "\n",
    "# Строим гистограмму с помощью pandas через plot(kind='hist')\n",
    "df['estimated_salary'].plot(\n",
    "                kind='hist', # Тип графика - гистограмма\n",
    "                bins=50, # Устанавливаем количество корзин\n",
    "                alpha=0.75,\n",
    "                edgecolor='black',\n",
    "                rot=0, # Градус вращения подписи по оси Х\n",
    ")\n",
    "\n",
    "# Настраиваем оформление графика\n",
    "plt.title('Распределение значений оценочного дохода клиента')\n",
    "plt.xlabel('Оценочный доход клиента')\n",
    "plt.ylabel('Частота')\n",
    "# Добавляем сетку графика\n",
    "plt.grid()\n",
    "\n",
    "# Выводим график\n",
    "plt.show()"
   ]
  },
  {
   "cell_type": "code",
   "execution_count": null,
   "id": "eac0218c",
   "metadata": {
    "id": "eac0218c",
    "outputId": "763d426f-c6e0-4953-e27d-ed15a08ba848"
   },
   "outputs": [],
   "source": [
    "# Создаём контейнер графика matplotlib и задаём его размер\n",
    "plt.figure(figsize=(7, 2))\n",
    "\n",
    "# Строим диаграмму размаха значений в столбце score\n",
    "df.boxplot(column='estimated_salary', vert=False)\n",
    "\n",
    "# Добавляем заголовок и метки оси\n",
    "plt.title('Распределение значений оценочного дохода клиента')\n",
    "plt.xlabel('Оценочный доход клиента')\n",
    "\n",
    "# Выводим график\n",
    "plt.show()"
   ]
  },
  {
   "cell_type": "markdown",
   "id": "ff03adbd",
   "metadata": {
    "id": "ff03adbd"
   },
   "source": [
    "Значения оценочного дохода клиента имеют равномерное распределение — все значения от 0 до 200000 встречаются примерно одинаковой закономерностью.\n",
    "\n",
    "Теперь изучим распределение значений в столбце `age`:"
   ]
  },
  {
   "cell_type": "code",
   "execution_count": null,
   "id": "495637b8",
   "metadata": {
    "id": "495637b8",
    "outputId": "276ace54-5037-41e5-d4e5-f9d4c1155aaf"
   },
   "outputs": [],
   "source": [
    "# Изучаем статистические показатели столбца age\n",
    "print('Статистические показатели столбца age:')\n",
    "df['age'].describe()"
   ]
  },
  {
   "cell_type": "code",
   "execution_count": null,
   "id": "efefc8c9",
   "metadata": {
    "id": "efefc8c9",
    "outputId": "964a3e42-4ba3-4621-b54e-f7c7001d0b74"
   },
   "outputs": [],
   "source": [
    "# Создаём контейнер графика matplotlib и задаём его размер\n",
    "plt.figure(figsize=(7, 3))\n",
    "\n",
    "# Строим гистограмму с помощью pandas через plot(kind='hist')\n",
    "df['age'].plot(\n",
    "                kind='hist', # Тип графика - гистограмма\n",
    "                bins=37, # Устанавливаем количество корзин\n",
    "                alpha=0.75,\n",
    "                edgecolor='black',\n",
    "                rot=0, # Градус вращения подписи по оси Х\n",
    ")\n",
    "\n",
    "# Настраиваем оформление графика\n",
    "plt.title('Распределение возраста клиента')\n",
    "plt.xlabel('Возраст клиента')\n",
    "plt.ylabel('Частота')\n",
    "# Добавляем сетку графика\n",
    "plt.grid()\n",
    "\n",
    "# Выводим график\n",
    "plt.show()"
   ]
  },
  {
   "cell_type": "code",
   "execution_count": null,
   "id": "dcc86b6b",
   "metadata": {
    "id": "dcc86b6b",
    "outputId": "51d964d0-021f-4c76-b905-e3a9a34c0f67"
   },
   "outputs": [],
   "source": [
    "# Создаём контейнер графика matplotlib и задаём его размер\n",
    "plt.figure(figsize=(7, 2))\n",
    "\n",
    "# Строим диаграмму размаха значений в столбце score\n",
    "df.boxplot(column='age', vert=False)\n",
    "\n",
    "# Добавляем заголовок и метки оси\n",
    "plt.title('Распределение возраста клиента')\n",
    "plt.xlabel('Возраст клиента')\n",
    "\n",
    "# Выводим график\n",
    "plt.show()"
   ]
  },
  {
   "cell_type": "markdown",
   "id": "ad42c863",
   "metadata": {
    "id": "ad42c863"
   },
   "source": [
    "Распределение значения возраста асимметричное, скошенное вправо. Минимальный возраст — 18 лет, а максимальный — 92, что является корректным. Среднее значение соответствует 39 годам, тогда как медиана — 37. Среднее и медианное значение достаточно близки. По гистограмме размаха видно, что значения выше примерно 62 лет можно считать выбросами.\n",
    "\n",
    "При анализе данных оставим все значения, поскольку если отбросить группу клиентов старше 62 лет, то можно исключить из анализа целую категорию клиентов пенсионного возраста.\n",
    "\n",
    "---"
   ]
  },
  {
   "cell_type": "markdown",
   "id": "0f3a4239",
   "metadata": {
    "id": "0f3a4239"
   },
   "source": [
    "### 3.3. Бинарные признаки и категориальные данные\n",
    "\n",
    "Изучение бинарных признаков и категориальных данных похоже на изучение дискретных числовых данных с небольшим количеством значений. Для бинарных признаков важно оценить, как распределяются клиенты между признаками, а для категориальных данных — убедиться, что в них нет ошибок, а также проверить распределение значений по категориям.\n",
    "\n",
    "При исследовании таких данных можно использовать метод `value_counts()` с аргументом `normalize=True`, чтобы сравнить доли значений. Изучим значения в столбцах с бинарными признаками, применив метод `value_counts()` для каждого столбца в цикле:"
   ]
  },
  {
   "cell_type": "code",
   "execution_count": null,
   "id": "cc6774f4",
   "metadata": {
    "id": "cc6774f4",
    "outputId": "a7677d0c-9374-40b3-8258-89438b99bb4d"
   },
   "outputs": [],
   "source": [
    "# Проверяем распределение данных по значениям в столбце\n",
    "for column in ['credit_card','loyalty','churn']:\n",
    "    print(f'Распределение данных по значениям столбца {column}:')\n",
    "    print(df[column].value_counts(normalize=True))\n",
    "    print()"
   ]
  },
  {
   "cell_type": "markdown",
   "id": "11dd7c7f",
   "metadata": {
    "id": "11dd7c7f"
   },
   "source": [
    "Доля нелояльных клиентов, которые покинули банк, из столбца `churn` составляет около 20%, а доля клиентов без кредитных карт из столбца `credit_card` — около 30%. Распределение данных по уникальным значениям столбца `loyalty` примерно равно — 51% к 49%. Так соотносятся клиенты, которые участвуют в программах лояльности банка, с теми, кто предпочитает в них не участвовать.\n",
    "\n",
    "Результаты `value_counts()` можно также визуализировать с помощью столбчатой диаграммы. Посмотрим на распределение клиентов по значениям в столбцах с полом клиента и городом:"
   ]
  },
  {
   "cell_type": "code",
   "execution_count": null,
   "id": "a2d254f9",
   "metadata": {
    "id": "a2d254f9",
    "outputId": "a959973e-a23e-4787-d429-b9c0c67ec617"
   },
   "outputs": [],
   "source": [
    "# Создаём контейнер графика matplotlib и задаём его размер\n",
    "plt.figure(figsize=(7, 3))\n",
    "\n",
    "# Строим столбчатую диаграмму с помощью pandas через plot(kind='bar')\n",
    "df['gender'].value_counts(normalize=True).plot(\n",
    "               kind='bar', # Тип графика — столбчатая диаграмма\n",
    "               rot=0, # Градус вращения подписи по оси Х\n",
    "               legend=False, # Выключаем легенду\n",
    "               title=f'Распределение клиентов в зависимости от пола'\n",
    ")\n",
    "\n",
    "# Настраиваем оформление графика\n",
    "plt.xlabel('Пол клиента (М - мужской, Ж - женский)')\n",
    "plt.ylabel('Доля клиентов')\n",
    "# Добавляем сетку графика\n",
    "plt.grid()\n",
    "\n",
    "# Выводим график\n",
    "plt.show()"
   ]
  },
  {
   "cell_type": "code",
   "execution_count": null,
   "id": "1b0b39f1",
   "metadata": {
    "id": "1b0b39f1",
    "outputId": "f01081a2-754d-48c4-b58e-f18d15a3f53c"
   },
   "outputs": [],
   "source": [
    "# Создаём контейнер графика matplotlib и задаём его размер\n",
    "plt.figure(figsize=(7, 3))\n",
    "\n",
    "# Строим столбчатую диаграмму с помощью pandas через plot(kind='bar')\n",
    "df['city'].value_counts(normalize=True).plot(\n",
    "               kind='bar', # Тип графика - столбчатая диаграмма\n",
    "               rot=0, # Градус вращения подписи по оси Х\n",
    "               legend=False, # Выключаем легенду\n",
    "               title=f'Распределение клиентов в зависимости от города'\n",
    ")\n",
    "\n",
    "# Настраиваем оформление графика\n",
    "plt.xlabel('Город первого обращения клиента')\n",
    "plt.ylabel('Доля клиентов')\n",
    "# Добавляем сетку графика\n",
    "plt.grid()\n",
    "\n",
    "# Выводим график\n",
    "plt.show()"
   ]
  },
  {
   "cell_type": "markdown",
   "id": "b37e7438",
   "metadata": {
    "id": "b37e7438"
   },
   "source": [
    "Судя по диаграммам, примерно 55% клиентов — женщины. Половина клиентов представляют Ярославль, а остальная половина — Ростов Великий и Рыбинск примерно поровну. Около 20% клиентов перестали пользоваться продуктами банка.\n",
    "\n",
    "Теперь изучим распределение значений в столбце `is_balance`:"
   ]
  },
  {
   "cell_type": "code",
   "execution_count": null,
   "id": "3aa32e53",
   "metadata": {
    "id": "3aa32e53",
    "outputId": "42f0d2c7-d500-48bb-b2bb-aca066f242fe"
   },
   "outputs": [],
   "source": [
    "# Проверяем распределение данных по значениям в столбце is_balance\n",
    "print('Распределение данных по значениям столбца is_balance:')\n",
    "print(df['is_balance'].value_counts(normalize=True))"
   ]
  },
  {
   "cell_type": "code",
   "execution_count": null,
   "id": "be1fc27b",
   "metadata": {
    "id": "be1fc27b",
    "outputId": "25dd786d-0a97-4ff7-fa41-6761f0002398"
   },
   "outputs": [],
   "source": [
    "# Создаём контейнер графика matplotlib и задаём его размер\n",
    "plt.figure(figsize=(7, 3))\n",
    "\n",
    "# Строим столбчатую диаграмму с помощью pandas через plot(kind='bar')\n",
    "df['is_balance'].value_counts(normalize=True).plot(\n",
    "               kind='bar', # Тип графика - столбчатая диаграмма\n",
    "               rot=0, # Градус вращения подписи по оси Х\n",
    "               legend=False, # Выключаем легенду\n",
    "               title=f'Распределение клиентов с балансом и без баланса'\n",
    ")\n",
    "\n",
    "# Настраиваем оформление графика\n",
    "plt.xlabel('Наличие у клиента баланса (1 - есть баланс, 2 - нет баланса)')\n",
    "plt.ylabel('Доля клиентов')\n",
    "# Добавляем сетку графика\n",
    "plt.grid()\n",
    "\n",
    "# Выводим график\n",
    "plt.show()"
   ]
  },
  {
   "cell_type": "markdown",
   "id": "6204f6b9",
   "metadata": {
    "id": "6204f6b9"
   },
   "source": [
    "Около 36% клиентов не имеют баланс.\n",
    "\n",
    "---\n",
    "\n",
    "#### Промежуточный вывод\n",
    "\n",
    "Исследовательский анализ данных позволил сформировать профиль клиента банка:\n",
    "\n",
    "- Из 10000 проанализированных клиентов банка половина людей проживает в Ярославле, а остальная половина в Ростове Великом и Рыбинске в равном количестве.\n",
    "- 54% клиентов — женщины, а средний возраст клиентов составляет 39 лет.\n",
    "- Как правило, клиенты банка пользуются 1–2 продуктами. Средний баланс составляет около 120 тыс. рублей, однако для 35% клиентов нет баланса. При этом 70% клиентов оформляют кредитные карты, а 51% участвует в программах лояльности.\n",
    "\n",
    "Доля ушедших, или нелояльных, клиентов составляет 20% от всех клиентов банка.\n",
    "\n",
    "---"
   ]
  },
  {
   "cell_type": "markdown",
   "id": "5789a242",
   "metadata": {
    "id": "5789a242"
   },
   "source": [
    "### 3.4. Изучение взаимосвязей между данными\n",
    "\n",
    "В нашей задаче сосредоточимся на профилях двух типов клиентов: лояльных, которые пользуются услугами банка, и нелояльных, которые прекратили ими пользоваться.\n",
    "\n",
    "#### Изучение корреляции между данными\n",
    "\n",
    "Чтобы понять, существует ли связь между данными, аналитики часто используют матрицы корреляции для признаков в данных. Для задачи важен столбец `churn`, поэтому будем изучать взаимосвязи данных в этом столбце с другими признаками. В Python существует универсальная библиотека phik, которая помогает изучать связи между данными разного типа, непрерывными и категориальными.\n",
    "\n",
    "Библиотеку phik можно использовать для анализа связи между значением оттока клиентов и другими признаками. Они как раз представлены разными по природе данными: встречаются непрерывные значения, как баланс, так и категории, например город клиента.\n",
    "\n",
    "Рассчитаем матрицу корреляции `phi_k` для данных о клиентах банка «Метанпром». Для составления матрицы корреляции были отобраны данные, которые могут влиять на отток клиента: количество объектов собственности и продуктов банка, баланс и оценочная заработная плата клиента, кредитный рейтинг клиента, наличие кредитной карты, участие в программах лояльности, а также возраст, пол и город. В качестве критерия также был использован столбец `is_balance` — это поможет установить, существует ли зависимость между пропуском в столбце `balance` и значением `churn`."
   ]
  },
  {
   "cell_type": "code",
   "execution_count": null,
   "id": "d5e6b7db",
   "metadata": {
    "id": "d5e6b7db",
    "outputId": "ab737fea-4a34-4e55-917a-dc3267f10a73"
   },
   "outputs": [],
   "source": [
    "# Вычисляем корреляционную матрицу с использованием phi_k\n",
    "correlation_matrix = df[['objects', 'products', 'balance', 'estimated_salary', 'score',\n",
    "                         'credit_card', 'loyalty', 'is_balance', 'age',\n",
    "                         'gender', 'city', 'churn']].phik_matrix()\n",
    "\n",
    "# Выводим результат\n",
    "print('Корреляционная матрица с коэффициентом phi_k для переменной churn')\n",
    "correlation_matrix.loc[correlation_matrix.index != 'churn'][['churn']].sort_values(by='churn', ascending=False)"
   ]
  },
  {
   "cell_type": "markdown",
   "id": "4f28cf6e",
   "metadata": {
    "id": "4f28cf6e"
   },
   "source": [
    "Нас интересует связь оттока клиента с другими данными, поэтому на экран был выведен только столбец `churn` итоговой матрицы корреляции `correlation_matrix`. Условие `correlation_matrix.loc[correlation_matrix.index != 'churn']` помогает убрать строку с индексом `'churn'`."
   ]
  },
  {
   "cell_type": "markdown",
   "id": "43454fea",
   "metadata": {
    "id": "43454fea"
   },
   "source": [
    "Наибольшая корреляция оттока клиентов наблюдается с количеством продуктов (`0.57`), возрастом клиента (`0.49`) и участием в программах лояльности (`0.24`). Для остальных признаков коэффициент корреляции снижается с `0.19` до `0`.\n",
    "\n",
    "Важно помнить, что `phi_k` сообщает только о наличии связи между данными. На сам характер связи коэффициент `phi_k` не указывает, поэтому после получения коэффициента следует продолжить анализ. Например, можно предположить, что снижение количества продуктов отрицательно связано с лояльностью клиента — чем меньше продуктов у клиента, тем меньше у него мотивации пользоваться услугами банка. В этом случае связь будет отрицательной. Такую гипотезу можно проверить при анализе данных.\n",
    "\n",
    "Перед тем как перейти к дальнейшему анализу, визуализируем результат корреляции с помощью тепловой карты и библиотеки seaborn:"
   ]
  },
  {
   "cell_type": "code",
   "execution_count": null,
   "id": "872fb27a",
   "metadata": {
    "id": "872fb27a",
    "outputId": "20599eb5-1803-4c47-e72d-a754d169964a"
   },
   "outputs": [],
   "source": [
    "# Строим тепловую карту\n",
    "plt.figure(figsize=(2, 6))\n",
    "\n",
    "# Сохраняем матрицу корреляции признака churn с другими признаками клиента\n",
    "data_heatmap = correlation_matrix.loc[correlation_matrix.index != 'churn'][['churn']].sort_values(by='churn', ascending=False)\n",
    "sns.heatmap(data_heatmap,\n",
    "            annot=True, # Отображаем численные значения в ячейках карты\n",
    "            fmt='.2f', # Форматируем значения корреляции: два знака после точки\n",
    "            cmap='coolwarm', # Устанавливаем цветовую гамму от красного (макс. значение) к синему\n",
    "            linewidths=0.5, # Форматируем линию между ячейками карты\n",
    "            cbar=False # Отключаем цветовую шкалу\n",
    "           )\n",
    "\n",
    "# Добавляем заголовок и подпись по оси Х\n",
    "plt.title('Тепловая карта коэффициента phi_k \\n для данных churn')\n",
    "plt.xlabel('Отток клиента')\n",
    "\n",
    "# Выводим график\n",
    "plt.show()"
   ]
  },
  {
   "cell_type": "markdown",
   "id": "998d320e",
   "metadata": {
    "id": "998d320e"
   },
   "source": [
    "Теперь корреляция между оттоком клиентов и другими признаками наглядно отображена. Можно продолжить исследование данных.\n",
    "\n",
    "---"
   ]
  },
  {
   "cell_type": "markdown",
   "id": "b7043586",
   "metadata": {
    "id": "b7043586"
   },
   "source": [
    "### 3.5. Анализ взаимосвязей между данными\n",
    "\n",
    "#### Изучаем признаки с небольшим количеством категорий\n",
    "\n",
    "Изучим, существует ли зависимость между уходом клиента из банка и городом первого обращения. Для этого построим столбчатые диаграммы с разделением по признаку `churn` среди разных городов:"
   ]
  },
  {
   "cell_type": "code",
   "execution_count": null,
   "id": "a0c4affb",
   "metadata": {
    "id": "a0c4affb",
    "outputId": "037a1652-9194-46da-8e72-cd2571659550"
   },
   "outputs": [],
   "source": [
    "# Построим график столбчатой диаграммы\n",
    "grouped = df.groupby('city')['churn'].value_counts().unstack(fill_value=0)\n",
    "grouped.plot(kind='bar',\n",
    "               title=f'Распределение лояльных клиентов в зависимости от города',\n",
    "               legend=True,\n",
    "               ylabel='Количество клиентов',\n",
    "               xlabel='Город',\n",
    "               rot=0,\n",
    "               figsize=(7, 3))\n",
    "plt.grid()\n",
    "\n",
    "# Выводим график\n",
    "plt.show()"
   ]
  },
  {
   "cell_type": "markdown",
   "id": "6d86fa9c",
   "metadata": {
    "id": "6d86fa9c"
   },
   "source": [
    "Больше всего клиентов в Ярославле. Однако количество клиентов, которые прекратили пользоваться продуктом, в Ярославле примерно такое же, как в Ростове Великом. Получается, что больше всего нелояльных клиентов в Ярославле и Ростове Великом, а в Рыбинске меньше всего.\n",
    "\n",
    "И всё же такое сопоставление нельзя назвать корректным: клиентов в Ростове Великом и Рыбинске меньше, чем в Ярославле. В этом случае лучше изучить доли нелояльных клиентов от общего числа клиентов в каждом городе. Для этого можно использовать признак `churn`, который содержит значения 1 и 0. Если мы посчитаем сумму в этом столбце, то значение покажет общее количество нелояльных клиентов, а если среднее значение — то их долю. Когда посчитаем среднее значение по столбцу `churn`, перестроим график.\n",
    "\n",
    "Рассчитаем среднее значение с помощью `df.groupby('city')['churn'].mean()` и визуализируем результат с помощью столбчатой диаграммы:"
   ]
  },
  {
   "cell_type": "code",
   "execution_count": null,
   "id": "8058b96c",
   "metadata": {
    "id": "8058b96c",
    "outputId": "46c0908b-c2fb-4c99-9a83-bbbd794652a5"
   },
   "outputs": [],
   "source": [
    "# Построим график столбчатой диаграммы\n",
    "grouped = df.groupby('city')['churn'].mean()\n",
    "grouped.plot(kind='bar',\n",
    "               title=f'Распределение доли нелояльных клиентов в зависимости от города',\n",
    "               legend=True,\n",
    "               ylabel='Доля нелояльных клиентов',\n",
    "               xlabel='Город',\n",
    "               rot=0,\n",
    "               figsize=(7, 3))\n",
    "plt.grid()\n",
    "\n",
    "# Выводим график\n",
    "plt.show()"
   ]
  },
  {
   "cell_type": "markdown",
   "id": "4f990a9d",
   "metadata": {
    "id": "4f990a9d"
   },
   "source": [
    "Видно, что доля нелояльных клиентов больше всего в Ростове Великом — там она составляет около 33%, а в других городах эта доля равна примерно 16%.\n",
    "\n",
    "Изучая подобные данные, полезно сравнивать значения в каждом сегменте со средним для всех данных — это поможет понять, где метрика уменьшается, а где увеличивается. Что-то подобное вы делали в первом проекте по SQL, когда изучали доли платящих клиентов в разрезе игровой расы персонажа.\n",
    "\n",
    "Добавим на график линию, которая будет показывать среднее значение:"
   ]
  },
  {
   "cell_type": "code",
   "execution_count": null,
   "id": "8c1bb7cd",
   "metadata": {
    "id": "8c1bb7cd",
    "outputId": "e3bbe888-74bf-4de5-ede9-8fa11878fd0a"
   },
   "outputs": [],
   "source": [
    "# Строим график столбчатой диаграммы\n",
    "grouped = df.groupby('city')['churn'].mean()\n",
    "grouped.plot(kind='bar',\n",
    "               title=f'Распределение доли нелояльных клиентов в зависимости от города',\n",
    "               legend=True,\n",
    "               ylabel='Доля нелояльных клиентов',\n",
    "               xlabel='Город',\n",
    "               rot=0,\n",
    "               figsize=(7, 3))\n",
    "\n",
    "# Рассчитываем среднее значение по доле нелояльных клиентов\n",
    "mean_churn_share = df['churn'].mean()\n",
    "\n",
    "# Наносим на график линию с средним значением доли нелояльных клиентов\n",
    "plt.axhline(mean_churn_share, # Данные, по которым строится линия\n",
    "            color='red', # Цвет линии\n",
    "            linestyle='--', # Стиль линии\n",
    "            linewidth=1, # Ширина линии\n",
    "            label=f'Доля нелояльных клиентов {round(mean_churn_share,4)}')\n",
    "\n",
    "plt.grid()\n",
    "plt.legend()\n",
    "\n",
    "# Выводим график\n",
    "plt.show()"
   ]
  },
  {
   "cell_type": "markdown",
   "id": "5cccdec5",
   "metadata": {
    "id": "5cccdec5"
   },
   "source": [
    "Теперь на визуализации видны различия долей нелояльных клиентов в каждом сегменте по отношению к среднему значению.\n",
    "\n",
    "Из кода для графика можно сделать функцию, ведь подобный анализ будет выполняться и для других признаков:"
   ]
  },
  {
   "cell_type": "code",
   "execution_count": null,
   "id": "8acdccac",
   "metadata": {
    "id": "8acdccac"
   },
   "outputs": [],
   "source": [
    "# Задаём функцию для анализа данных\n",
    "def plot_bar_plot(df, groupby, value, aggfunc, title, ylabel, xlabel):\n",
    "    '''\n",
    "    Функция для анализа распределения метрики по признакам:\n",
    "    df - датафрейм с данными для анализа;\n",
    "    groupby - str, название столбца для группировки данных;\n",
    "    value - str, название столбца, значение которого будет агрегироваться;\n",
    "    aggfunc - str, функция агрегации, которая используется для расчёта;\n",
    "    title - str, заголовок графика;\n",
    "    ylabel - str, подпись по оси Y;\n",
    "    xlabel - str, подпись по оси X.\n",
    "    '''\n",
    "    grouped = df.groupby(groupby).agg({value:aggfunc})\n",
    "    grouped.plot(kind='bar',\n",
    "                   title=title,\n",
    "                   legend=True,\n",
    "                   ylabel=ylabel,\n",
    "                   xlabel=xlabel,\n",
    "                   rot=0,\n",
    "                   figsize=(7, 3))\n",
    "\n",
    "    # Рассчитываем общее значение value по всем данным\n",
    "    mean_churn_share = df.agg({value:aggfunc})[0]\n",
    "\n",
    "    # Наносим на график линию с значением value по всем данным\n",
    "    plt.axhline(mean_churn_share, color='red',\n",
    "                linestyle='--', linewidth=1,\n",
    "                label=f'Значение по всем данным {round(mean_churn_share,4)}')\n",
    "\n",
    "    plt.grid()\n",
    "    plt.legend()\n",
    "    plt.show()"
   ]
  },
  {
   "cell_type": "markdown",
   "id": "4118ffbe",
   "metadata": {
    "id": "4118ffbe"
   },
   "source": [
    "Применим функцию и изучим распределение доли нелояльных клиентов в зависимости от количества объектов собственности."
   ]
  },
  {
   "cell_type": "code",
   "execution_count": null,
   "id": "9d13863c",
   "metadata": {
    "id": "9d13863c",
    "outputId": "db5f018f-d859-43ea-e7e6-f8298b71db6d"
   },
   "outputs": [],
   "source": [
    "# Применим функцию и изучим распределение доли нелояльных клиентов в зависимости от количества объектов собственности\n",
    "title='Распределение доли нелояльных клиентов в зависимости \\n от количества объектов собственности'\n",
    "xlabel='Количество объектов собственности'\n",
    "ylabel='Доля нелояльных клиентов'\n",
    "\n",
    "plot_bar_plot(df, 'objects', 'churn', 'mean', title, ylabel, xlabel)"
   ]
  },
  {
   "cell_type": "markdown",
   "id": "493c62e3",
   "metadata": {
    "id": "493c62e3"
   },
   "source": [
    "Видно, что нет чёткой зависимости между увеличением количества объектов собственности и изменением доли нелояльных клиентов. Значения находятся примерно около среднего, однако можно отметить тенденцию, что клиенты с одним и двумя объектами собственности более склонны к оттоку.\n",
    "\n",
    "Применим функцию и изучим распределение доли нелояльных клиентов в зависимости от пола клиента, наличия баланса в банке и кредитной карты, а также от участия в программе лояльности."
   ]
  },
  {
   "cell_type": "code",
   "execution_count": null,
   "id": "b7142273",
   "metadata": {
    "id": "b7142273",
    "outputId": "a8e3e066-179c-4543-dd89-0ee2ee90c936"
   },
   "outputs": [],
   "source": [
    "# Применим функцию и изучим распределение доли нелояльных клиентов в зависимости от поля клиента\n",
    "plot_bar_plot(df,\n",
    "              groupby='gender',\n",
    "              value='churn',\n",
    "              aggfunc='mean',\n",
    "              title='Распределение доли нелояльных клиентов в зависимости \\n от пола клиента',\n",
    "              ylabel='Доля нелояльных клиентов',\n",
    "              xlabel='Пол клиента (М - мужской, Ж - женский)')"
   ]
  },
  {
   "cell_type": "markdown",
   "id": "39693eaf",
   "metadata": {
    "id": "39693eaf"
   },
   "source": [
    "Среди женщин выше процент нелояльных клиентов, чем среди мужчин (25% против 16%)."
   ]
  },
  {
   "cell_type": "code",
   "execution_count": null,
   "id": "3683db57",
   "metadata": {
    "id": "3683db57",
    "outputId": "06fc0146-6f7d-4382-aaf3-bad2f54a5f69"
   },
   "outputs": [],
   "source": [
    "# Применим функцию и изучим распределение доли нелояльных клиентов в зависимости от наличия кредитной карты\n",
    "plot_bar_plot(df,\n",
    "              groupby='credit_card',\n",
    "              value='churn',\n",
    "              aggfunc='mean',\n",
    "              title='Распределение доли нелояльных клиентов в зависимости \\n от наличия кредитной карты',\n",
    "              ylabel='Доля нелояльных клиентов',\n",
    "              xlabel='Наличие кредитной карты (1 - да, 0 - нет)')"
   ]
  },
  {
   "cell_type": "markdown",
   "id": "907900d4",
   "metadata": {
    "id": "907900d4"
   },
   "source": [
    "Наличие кредитной карты практически не влияет на доли нелояльных клиентов."
   ]
  },
  {
   "cell_type": "code",
   "execution_count": null,
   "id": "e31cf014",
   "metadata": {
    "id": "e31cf014",
    "outputId": "360cb3a6-10a2-4874-b479-eec13781f3ef"
   },
   "outputs": [],
   "source": [
    "# Применим функцию и изучим распределение доли нелояльных клиентов в зависимости от участия в программе лояльности\n",
    "plot_bar_plot(df,\n",
    "              groupby='loyalty',\n",
    "              value='churn',\n",
    "              aggfunc='mean',\n",
    "              title='Распределение доли нелояльных клиентов в зависимости \\n от участия в программе лояльности',\n",
    "              ylabel='Доля нелояльных клиентов',\n",
    "              xlabel='Участие клиента в программе лояльности (1 - да, 0 - нет)')"
   ]
  },
  {
   "cell_type": "markdown",
   "id": "4225e4fd",
   "metadata": {
    "id": "4225e4fd"
   },
   "source": [
    "Среди клиентов, которые не участвуют в программе лояльности, больше процент ушедших клиентов, чем среди тех, кто в программе лояльности участвует (27% против 14%)\n",
    "\n",
    "Оценим распределение доли нелояльных клиентов в зависимости от количества продуктов банка:\n",
    "    "
   ]
  },
  {
   "cell_type": "code",
   "execution_count": null,
   "id": "e951648f",
   "metadata": {
    "id": "e951648f",
    "outputId": "88af9098-f198-4aa4-9afb-b12397ae516e"
   },
   "outputs": [],
   "source": [
    "# Применим функцию и изучим распределение доли нелояльных клиентов в зависимости от количества объектов собственности\n",
    "plot_bar_plot(df,\n",
    "              groupby='products',\n",
    "              value='churn',\n",
    "              aggfunc='mean',\n",
    "              title='Распределение доли нелояльных клиентов в зависимости \\n от количества продуктов',\n",
    "              ylabel='Доля нелояльных клиентов',\n",
    "              xlabel='Количество продуктов банка')"
   ]
  },
  {
   "cell_type": "markdown",
   "id": "8d887046",
   "metadata": {
    "id": "8d887046"
   },
   "source": [
    "Количество объектов собственности, как правило, не влияет на лояльность клиентов, в отличие от количества продуктов: клиенты с одним продуктом больше склонны к уходу, чем клиенты с двумя продуктами (27% против 8%). Для клиентов с тремя и четырьмя продуктами мало данных, чтобы сделать корректные выводы."
   ]
  },
  {
   "cell_type": "code",
   "execution_count": null,
   "id": "71b63593",
   "metadata": {
    "id": "71b63593",
    "outputId": "de3b036b-27cc-4f7d-d518-85eaa6154e70"
   },
   "outputs": [],
   "source": [
    "# Применим функцию и изучим распределение доли нелояльных клиентов в зависимости от участия наличия баланса\n",
    "plot_bar_plot(df,\n",
    "              groupby='is_balance',\n",
    "              value='churn',\n",
    "              aggfunc='mean',\n",
    "              title='Распределение доли нелояльных клиентов в зависимости от наличия баланса',\n",
    "              ylabel='Доля нелояльных клиентов',\n",
    "              xlabel='Наличие у клиента баланса (1 - есть баланс, 2 - нет баланса)')"
   ]
  },
  {
   "cell_type": "markdown",
   "id": "80fa0d99",
   "metadata": {
    "id": "80fa0d99"
   },
   "source": [
    "Клиенты, для которых не указан баланс, в целом более лояльны банку. Процент нелояльных клиентов в этом сегменте около 14%, тогда как процент нелояльных клиентов среди тех, для кого указан баланс, возрастает до 24%."
   ]
  },
  {
   "cell_type": "markdown",
   "id": "415f3876",
   "metadata": {
    "id": "415f3876"
   },
   "source": [
    "#### Изучаем числовые непрерывные данные\n",
    "\n",
    "Теперь перейдём к непрерывным числовым данным и изучим гистограммы распределения возраста в разрезе лояльных и нелояльных клиентов. У клиента может быть два признака лояльности: он либо ушёл из банка, либо нет. Поэтому в matplotlib необходимо построить два графика по разным значениям признака `churn`. Удобно это сделать в цикле, который будет строить два графика в зависимости от `churn`. Чтобы не прописывать значение `churn` вручную, используем метод `unique()` для определения уникальных значений:"
   ]
  },
  {
   "cell_type": "code",
   "execution_count": null,
   "id": "f3b3f943",
   "metadata": {
    "id": "f3b3f943",
    "outputId": "93ad9ac7-fdcf-42b1-99f1-7c5c4f191390"
   },
   "outputs": [],
   "source": [
    "# Строим гистограмму распределения значений возраста\n",
    "# Создаём фигуру графика\n",
    "plt.figure(figsize=(10, 4))\n",
    "\n",
    "# Строим гистограммы для каждого значения churn\n",
    "for i in df['churn'].unique():\n",
    "    # Фильтруем данные по значению столбца churn\n",
    "    df.loc[df['churn'] == i, 'age'].plot(\n",
    "        kind='hist',\n",
    "        bins=37,\n",
    "        alpha=0.5,\n",
    "        label=f'{i}',\n",
    "        legend=True\n",
    "    )\n",
    "\n",
    "# Настраиваем внешний вид графика и выводим его на экран\n",
    "plt.title(f'Сравнение распределение возраста клиента в зависимости от признака \"churn\"')\n",
    "plt.xlabel('Возраст клиента')\n",
    "plt.ylabel('Количество наблюдений')\n",
    "plt.legend(title='Значение churn')\n",
    "plt.show()"
   ]
  },
  {
   "cell_type": "markdown",
   "id": "cf4af00f",
   "metadata": {
    "id": "cf4af00f"
   },
   "source": [
    "Для более информативного представления данных добавили прозрачность `alpha=0.5`. По графику видно, что значений для лояльных клиентов больше, чем для нелояльных, поэтому два распределения имеют разную высоту. Из-за этого сопоставлять их не очень удобно.\n",
    "\n",
    "Когда сравниваемые выборки неравномерны по количеству наблюдений, для сравнения их распределений можно построить плотность вероятности. Тогда высота каждого столбца будет нормирована таким образом, что сумма площадей всех столбцов будет равна 1. Таким способом удобнее сравнивать выборки разного размера. Для этого можно установить аргумент `density=True`:"
   ]
  },
  {
   "cell_type": "code",
   "execution_count": null,
   "id": "372843de",
   "metadata": {
    "id": "372843de",
    "outputId": "f0de58ca-bfeb-4b77-d230-f297264af200"
   },
   "outputs": [],
   "source": [
    "# Строим гистограмму распределения значений возраста\n",
    "# Создаём фигуру графика\n",
    "plt.figure(figsize=(10, 4))\n",
    "\n",
    "# Строим гистограммы для каждого значения churn\n",
    "for i in df['churn'].unique():\n",
    "    # Фильтруем данные по значению столбца churn\n",
    "    df.loc[df['churn'] == i, 'age'].plot(\n",
    "        kind='hist',\n",
    "        density=True,\n",
    "        bins=37,\n",
    "        alpha=0.5,\n",
    "        label=f'{i}',\n",
    "        legend=True\n",
    "    )\n",
    "\n",
    "# Настраиваем внешний вид графика и выводим его на экран\n",
    "plt.title(f'Сравнение распределение возраста клиента в зависимости от признака \"churn\"')\n",
    "plt.xlabel('Возраст клиента')\n",
    "plt.ylabel('Плотность вероятности')\n",
    "plt.legend(title='Значение churn')\n",
    "plt.show()"
   ]
  },
  {
   "cell_type": "markdown",
   "id": "34b920f4",
   "metadata": {
    "id": "34b920f4"
   },
   "source": [
    "Теперь распределения двух выборок сопоставимы между собой. Можно заметить, что распределение выборки с признаком `churn=1` смещено в область более высоких значений.\n",
    "\n",
    "Сейчас размеры интервалов, или корзин, различаются для разных данных. Лучше сделать их в едином масштабе с заданной шириной, например в два года. Для этого нужно скорректировать параметр `bins` — задать минимальное значение, максимальное значение и шаг. Минимальное и максимальное значения можно взять из общих данных, а шаг задать в два года. Сначала найдём минимальное и максимальное значения:"
   ]
  },
  {
   "cell_type": "code",
   "execution_count": null,
   "id": "41005c25",
   "metadata": {
    "id": "41005c25"
   },
   "outputs": [],
   "source": [
    "# Находим минимальное и максимальное значения\n",
    "min_value = df['age'].min()\n",
    "max_value = df['age'].max()"
   ]
  },
  {
   "cell_type": "markdown",
   "id": "6989cc1f",
   "metadata": {
    "id": "6989cc1f"
   },
   "source": [
    "Значение параметра `bins` пропишем как интервал от минимального к максимальному значению с шагом 2: `bins=range(min_value, max_value+1, 2)`. Здесь `+1` нужно для того, чтобы увеличить интервал значений, ведь функция `range()` не использует последнее значение в интервале:"
   ]
  },
  {
   "cell_type": "code",
   "execution_count": null,
   "id": "44210a49",
   "metadata": {
    "id": "44210a49",
    "outputId": "fca34f30-0167-4fcf-8216-db4eae2dcee6"
   },
   "outputs": [],
   "source": [
    "# Строим гистограмму распределения значений возраста\n",
    "# Создаём фигуру графика\n",
    "plt.figure(figsize=(10, 4))\n",
    "\n",
    "# Находим минимальное и максимальное значения\n",
    "min_value = df['age'].min()\n",
    "max_value = df['age'].max()\n",
    "\n",
    "# Строим гистограммы для каждого значения churn\n",
    "for i in df['churn'].unique():\n",
    "    # Фильтруем данные по значению столбца churn\n",
    "    df.loc[df['churn'] == i, 'age'].plot(\n",
    "        kind='hist',\n",
    "        density=True,\n",
    "        bins=range(min_value, max_value+1, 2),\n",
    "        alpha=0.5,\n",
    "        label=f'{i}',\n",
    "        legend=True\n",
    "    )\n",
    "\n",
    "# Настраиваем внешний вид графика и выводим его на экран\n",
    "plt.title(f'Сравнение распределение возраста клиента в зависимости от признака \"churn\"')\n",
    "plt.xlabel('Возраст клиента')\n",
    "plt.ylabel('Плотность вероятности')\n",
    "plt.legend(title='Значение churn')\n",
    "\n",
    "plt.show()"
   ]
  },
  {
   "cell_type": "markdown",
   "id": "d9284e95",
   "metadata": {
    "id": "d9284e95"
   },
   "source": [
    "При этом важно убедиться, что значения в интервале представлены целыми числами, иначе возникнет ошибка.\n",
    "\n",
    "На графике видно, что распределение возраста нелояльных клиентов сдвинуто в правую область по отношению к распределению возраста лояльных клиентов: услугами банка предпочитает пользоваться более молодое поколение клиентов возраста от 30 до 40 лет. Эти результаты согласуются с высоким коэффициентом корреляции `phi_k` — 0.49. Теперь мы можем более точно сказать, что с повышением возраста клиент более склонен к оттоку.\n",
    "\n",
    "Дополнительно вместо гистограммы можно использовать график KDE — оценку функции плотности вероятности для непрерывных данных. KDE представляет гладкую линию, которая показывает вероятность встретить значения в определённом диапазоне. Чем выше линия располагается на графике, тем больше вероятность встретить подобное значение. Сравнение линий KDE двух распределений помогает выявить различия между ними.\n",
    "\n",
    "Для построения графика KDE можно использовать метод `plot()` c аргументом `kind='kde'`. Модифицируем предыдущий код и построим визуализацию KDE:"
   ]
  },
  {
   "cell_type": "code",
   "execution_count": null,
   "id": "7d236ecf",
   "metadata": {
    "id": "7d236ecf",
    "outputId": "74ef1d3b-6cfd-45c4-e66f-16dc450aeab5"
   },
   "outputs": [],
   "source": [
    "# Строим гистограмму распределения значений возраста\n",
    "column = 'age'\n",
    "\n",
    "# Создаём фигуру графика\n",
    "plt.figure(figsize=(10, 4))\n",
    "\n",
    "# Строим гистограммы для каждого значения churn\n",
    "for i in df['churn'].unique():\n",
    "    # Фильтруем данные по значению столбца churn\n",
    "    df.loc[df['churn'] == i, column].plot(\n",
    "        kind='kde',\n",
    "        alpha=0.5,\n",
    "        label=f'Признак churn: {i}',\n",
    "        legend=True\n",
    "    )\n",
    "\n",
    "# Настраиваем внешний вид графика и выводим его на экран\n",
    "plt.title(f'Сравнение плотностей распределения возраста в зависимости от признака \"churn\"')\n",
    "plt.xlabel('Значение')\n",
    "plt.ylabel('Плотность')\n",
    "plt.legend(title='Значение churn')\n",
    "plt.show()"
   ]
  },
  {
   "cell_type": "markdown",
   "id": "b3ca5b57",
   "metadata": {
    "id": "b3ca5b57"
   },
   "source": [
    "Линия KDE для распределения возраста нелояльных клиентов сдвинута вправо по отношению к линии KDE для лояльных клиентов. При этом линия лояльных клиентов выше по значению плотности по сравнению с линией нелояльных клиентов. Это может указывать на разброс значений.\n",
    "\n",
    "Для более детального анализа данных рассчитаем среднее и медианное значения возраста для лояльных и нелояльных клиентов:"
   ]
  },
  {
   "cell_type": "code",
   "execution_count": null,
   "id": "b4ef1f5d",
   "metadata": {
    "id": "b4ef1f5d",
    "outputId": "41720428-6c8c-481f-db52-d6225e3e8967"
   },
   "outputs": [],
   "source": [
    "# Рассчитаем среднее и медианное значения возраста для\n",
    "# лояльных и нелояльных клиентов\n",
    "df.groupby('churn').agg({'age':['mean','median']})"
   ]
  },
  {
   "cell_type": "markdown",
   "id": "f99f26b0",
   "metadata": {
    "id": "f99f26b0"
   },
   "source": [
    "Действительно, видны различия в среднем и медиане для разных клиентов. Значит, возраст клиента можно использовать для дальнейшего изучения причин оттока.\n",
    "\n",
    "На основе написанного кода создадим функцию для визуализации данных:"
   ]
  },
  {
   "cell_type": "code",
   "execution_count": null,
   "id": "80c790d0",
   "metadata": {
    "id": "80c790d0"
   },
   "outputs": [],
   "source": [
    "def plot_hist(df, column, groupby, title, xlabel, ylabel, binwidth, kde=False):\n",
    "    '''\n",
    "    Функция для визуализации распределения значений с учётом категорий и линией KDE.\n",
    "    Параметры:\n",
    "    df - датафрейм с данными для анализа.\n",
    "    column - str, название столбца, значения которого будут отображаться на графике.\n",
    "    groupby - str, название столбца, по которому будет производиться группировка данных.\n",
    "    binwidth - int, ширина корзины для гистограммы.\n",
    "    title - str, заголовок графика.\n",
    "    xlabel - str, подпись по оси X.\n",
    "    ylabel - str, подпись по оси Y.\n",
    "    kde - наложение графика KDE на гистограмму.\n",
    "    '''\n",
    "\n",
    "    # Создаём график\n",
    "    plt.figure(figsize=(7, 3))\n",
    "\n",
    "    # Находим минимальное и максимальное значения\n",
    "    min_value = int(df[column].min())\n",
    "    max_value = round(df[column].max())\n",
    "\n",
    "    for value in df[groupby].unique():\n",
    "        # Фильтруем данные по значению столбца churn\n",
    "        df.loc[df[groupby] == value, column].plot(\n",
    "            kind='hist',\n",
    "            density=True,\n",
    "            bins=range(min_value, max_value+1, binwidth),\n",
    "            alpha=0.5,\n",
    "            label=f'{groupby}: {value}',\n",
    "            legend=True\n",
    "        )\n",
    "\n",
    "    for value in df[groupby].unique():\n",
    "        if kde == True:\n",
    "            df.loc[df[groupby] == value, column].plot(\n",
    "                kind='kde',\n",
    "                label=f'KDE {value}',\n",
    "            )\n",
    "\n",
    "    # Настраиваем график\n",
    "    plt.title(title)\n",
    "    plt.xlabel(xlabel)\n",
    "    plt.ylabel(ylabel)\n",
    "    plt.legend()\n",
    "    plt.xlim(min_value, max_value)\n",
    "\n",
    "    plt.grid()\n",
    "    plt.show()"
   ]
  },
  {
   "cell_type": "markdown",
   "id": "b3be19e8",
   "metadata": {
    "id": "b3be19e8"
   },
   "source": [
    "Посмотрим на распределение значений оценочной заработной платы и суммы баланса в зависимости от оттока:"
   ]
  },
  {
   "cell_type": "code",
   "execution_count": null,
   "id": "a6bbb800",
   "metadata": {
    "id": "a6bbb800",
    "outputId": "556785d3-44e8-4c40-e705-3e3839a13351"
   },
   "outputs": [],
   "source": [
    "# Изучаем распределение значений баланса клиентов в зависимости от их лояльности\n",
    "plot_hist(\n",
    "    df=df,\n",
    "    column='balance',\n",
    "    groupby='churn',\n",
    "    binwidth=5000,\n",
    "    title='Распределение баланса клиента в зависимости от оттока',\n",
    "    xlabel='Баланс',\n",
    "    ylabel='Плотность',\n",
    "    kde=True\n",
    ")"
   ]
  },
  {
   "cell_type": "code",
   "execution_count": null,
   "id": "9e9814fd",
   "metadata": {
    "id": "9e9814fd",
    "outputId": "d96cebdd-bfb4-4540-f094-7216bbe5944f"
   },
   "outputs": [],
   "source": [
    "# Построим гистограмму распределения данных и линию KDE с помощью фунции plot_hist\n",
    "plot_hist(\n",
    "    df=df,\n",
    "    column='estimated_salary',\n",
    "    groupby='churn',\n",
    "    binwidth=5000,\n",
    "    title='Распределение оценочной заработной платы в зависимости от оттока',\n",
    "    xlabel='Оценочный доход клиента',\n",
    "    ylabel='Плотность',\n",
    "    kde=True\n",
    ")"
   ]
  },
  {
   "cell_type": "markdown",
   "id": "8cc33d5b",
   "metadata": {
    "id": "8cc33d5b"
   },
   "source": [
    "Распределение значений баланса лояльных и нелояльных клиентов примерно равно. Предполагаем, что баланс вряд ли играет определяющую роль при уходе клиента из банка, как и оценочная заработная плата.\n",
    "\n",
    "Оценим распределение значений кредитного рейтинга клиента в зависимости от оттока:"
   ]
  },
  {
   "cell_type": "code",
   "execution_count": null,
   "id": "12a88cd8",
   "metadata": {
    "id": "12a88cd8",
    "outputId": "80302c42-1533-4186-d320-91af02a918b2",
    "scrolled": true
   },
   "outputs": [],
   "source": [
    "# Построим гистограмму распределения данных и линию KDE с помощью фунции plot_hist\n",
    "plot_hist(\n",
    "    df=df,\n",
    "    column='score',\n",
    "    groupby='churn',\n",
    "    binwidth=10,\n",
    "    title='Распределение кредитного рейтинга в зависимости от оттока',\n",
    "    xlabel='Кредитный рейтинг клиента',\n",
    "    ylabel='Плотность',\n",
    "    kde=True\n",
    ")"
   ]
  },
  {
   "cell_type": "markdown",
   "id": "aaf6c7f9",
   "metadata": {
    "id": "aaf6c7f9"
   },
   "source": [
    "Значение кредитного рейтинга в целом не влияет на отток клиентов, хотя можно отметить тенденцию к тому, среди лояльных клиентов большая часть клиентов имеет кредитный рейтинг ближе к 700, а среди нелояльных — к 600, хотя средние значения достаточно близки."
   ]
  },
  {
   "cell_type": "markdown",
   "id": "ac7e7fa0",
   "metadata": {
    "id": "ac7e7fa0"
   },
   "source": [
    "#### Поиск закономерностей с помощью диаграммы рассеяния\n",
    "\n",
    "Ещё один инструмент для поиска закономерностей в данных — диаграмма рассеяния, или scatter plot. На диаграмме рассеяния по каждой оси откладываются значения двух переменных, что помогает заметить возможные связи между ними. Обычно таким образом сравнивают две непрерывные переменные.\n",
    "\n",
    "Например, если отложить возраст клиентов по одной оси, а уровень накоплений по другой, можно увидеть, склонны ли клиенты старше определённого возраста иметь более высокие накопления. Это полезно для изучения финансовых привычек разных возрастных групп.\n",
    "\n",
    "Диаграммы рассеяния помогают аналитикам искать закономерности в данных и определять, существует ли положительная или отрицательная корреляция между переменными или её вообще нет.\n",
    "\n",
    "Посмотрим на взаимосвязь между возрастом и балансом клиента:"
   ]
  },
  {
   "cell_type": "code",
   "execution_count": null,
   "id": "3a3148fe",
   "metadata": {
    "id": "3a3148fe",
    "outputId": "9cbed2bd-a3f1-44b4-ef63-fad9ed3ec48e"
   },
   "outputs": [],
   "source": [
    "# Создаём контейнер графика\n",
    "plt.figure(figsize=(10, 4))\n",
    "\n",
    "# Строим линейный график\n",
    "plt.plot(df['age'],\n",
    "         df['balance'],\n",
    "         marker='o', # Задаём стиль маркера\n",
    "         linestyle='', # Делаем линии между точками невидимыми\n",
    "         alpha=0.7)\n",
    "\n",
    "# Добавляем заголовок и метки осей\n",
    "plt.title('Взаимосвязь между возрастом и балансом клиентов')\n",
    "plt.xlabel('Возраст')\n",
    "plt.ylabel('Баланс')\n",
    "plt.grid()\n",
    "\n",
    "\n",
    "# Отображаем график\n",
    "plt.show()"
   ]
  },
  {
   "cell_type": "markdown",
   "id": "f3b4fc03",
   "metadata": {
    "id": "f3b4fc03"
   },
   "source": [
    "Для построения графика метод `plot()` применили к библиотеке matplotlib. Посмотрим на результат. Как видно из графика, данные не показывают какую-либо взаимосвязь. Посмотрим на связи с признаком лояльности клиента:"
   ]
  },
  {
   "cell_type": "code",
   "execution_count": null,
   "id": "bfa28f33",
   "metadata": {
    "id": "bfa28f33",
    "outputId": "cf5408ed-2c76-4042-f577-7a7ad15cb495"
   },
   "outputs": [],
   "source": [
    "# Создаём контейнер графика\n",
    "plt.figure(figsize=(10, 4))\n",
    "\n",
    "# Строим гистограммы для каждого значения churn\n",
    "for i in df['churn'].unique():\n",
    "    # Фильтруем данные по значению столбца churn\n",
    "    plot_data = df.loc[df['churn'] == i]\n",
    "\n",
    "    # Строим линейный график\n",
    "    plt.plot(plot_data['age'],\n",
    "             plot_data['balance'],\n",
    "             marker='o', # Задаём стиль маркера\n",
    "             linestyle='', # Делаем линии между точками невидимыми\n",
    "             label=f'churn {i}',\n",
    "             alpha=0.45)\n",
    "\n",
    "# Добавляем заголовок и метки осей\n",
    "plt.title('Взаимосвязь между возрастом и балансом клиентов')\n",
    "plt.xlabel('Возраст')\n",
    "plt.ylabel('Баланс')\n",
    "plt.legend()\n",
    "plt.grid()\n",
    "\n",
    "# Отображаем график\n",
    "plt.show()"
   ]
  },
  {
   "cell_type": "markdown",
   "id": "f753ed22",
   "metadata": {
    "id": "f753ed22"
   },
   "source": [
    "Нелояльные клиенты образуют облако точек в центральной части диаграммы — это преобладающий интервал возраста, который составляет 40–60 лет. Однако никакой видимой закономерности от баланса и на этом графике, увы, нельзя зафиксировать.\n",
    "\n",
    "---\n",
    "\n",
    "#### Промежуточные выводы\n",
    "\n",
    "Анализ взаимосвязи данных показал, что:\n",
    "\n",
    "- Наибольший процент нелояльных клиентов фиксируется среди клиентов из Ростова Великого (32%), при этом среди женщин также выше процент нелояльных клиентов, чем среди мужчин (25% против 16%). Также существенное различие можно отметить среди возрастных групп клиентов: среди нелояльных клиентов преобладаю клиенты с возрастом 40–50 лет, тогда как среди лояльных — 30–40 лет.\n",
    "- Сумма баланса клиента и его оценочная заработная плата не влияют на его лояльность. Однако клиенты, для которых не указан баланс, в целом более лояльны банку. Процент нелояльных клиентов в этом сегменте около 14%, тогда как процент нелояльных клиентов среди тех, для кого указан баланс, возрастает до 24%.\n",
    "- Наличие кредитной карты и значение кредитного рейтинга в целом не влияет на отток клиентов, хотя можно отметить тенденцию к тому, среди лояльных клиентов большая часть клиентов имеет кредитный рейтинг ближе к 700, а среди нелояльных — к 600, хотя средние значения достаточно близки.\n",
    "- Среди клиентов, которые не участвуют в программе лояльности, больше процент ушедших клиентов, чем среди тех, кто в программе лояльности участвует (27% против 14%).\n",
    "- Количество объектов собственности, как правило, не влияет на лояльность клиентов, в отличие от количества продуктов: клиенты с одним продуктом больше склонны к уходу, чем клиенты с двумя продуктами (27% против 8%). Для клиентов с тремя и четырьмя продуктами мало данных, чтобы сделать корректные выводы.\n",
    "\n",
    "---"
   ]
  },
  {
   "cell_type": "markdown",
   "id": "1086efd3",
   "metadata": {
    "id": "1086efd3"
   },
   "source": [
    "## Подведём итоги\n",
    "\n",
    "В ходе исследования проанализировали данные 10000 клиентов банка «Метанпром» из трёх городов. Данные включали персональную информацию клиентов и особенности использования услуг банка. Акцент исследования был на том, чтобы найти взаимосвязи между уходом клиентов и другими факторами. Среди них: возраст и город проживания клиента, текущий баланс и оценочная заработная плата, кредитный рейтинг и наличие кредитной карты, участие в программе лояльности, количество объектов недвижимости и продуктов банка.\n",
    "\n",
    "### Общий профиль клиента банка\n",
    "\n",
    "Исследовательский анализ данных позволил сформировать профиль клиента банка:\n",
    "\n",
    "- Из 10000 проанализированных клиентов банка половина людей проживает в Ярославле, а остальная половина в Ростове Великом и Рыбинске в равном количестве.\n",
    "\n",
    "- 54% клиентов — женщины, а средний возраст клиентов составляет 39 лет.\n",
    "\n",
    "- Как правило, клиенты банка пользуются 1–2 продуктами. Средний баланс составляет около 120 тыс. рублей, однако для 35% клиентов нет баланса. При этом 70% клиентов оформляют кредитные карты, а 51% участвует в программах лояльности.\n",
    "\n",
    "Ушедшие, или нелояльные, клиенты составляют 20% от всех клиентов банка.\n",
    "\n",
    "### Факторы, влияющие на отток клиентов из банка\n",
    "\n",
    "На значение процента клиентов, ушедших в отток, положительно влияют несколько факторов: регион регистрации клиента, его возраст и пол, а также наличие баланса в банке, участие в программе лояльности и количество используемых продуктов.\n",
    "\n",
    "Среди ушедших клиентов преобладают:\n",
    "\n",
    "- люди из Ростова Великого — это 32% от всех клиентов региона;\n",
    "\n",
    "- женщины — это 25% по сравнению с 16% для клиентов-мужчин;\n",
    "\n",
    "- клиенты возрастом от 40 до 50 лет.\n",
    "\n",
    "Ушедшие клиенты чаще других имеют баланс в банке, не участвуют в программах лояльности и пользуются одним банковским продуктом.\n",
    "\n",
    "### Рекомендации\n",
    "\n",
    "В качестве рекомендаций стоит обратить внимание на удержание клиентов возраста 40–50 лет. Им можно предложить более выгодные условия кредитования или разработать для них специальные банковские продукты и увеличить вовлечённость в программы лояльности.\n",
    "\n",
    "Дополнительно можно провести более детальную сегментацию, чтобы выделить конкретные группы клиентов.\n"
   ]
  }
 ],
 "metadata": {
  "colab": {
   "provenance": []
  },
  "kernelspec": {
   "display_name": "Python 3 (ipykernel)",
   "language": "python",
   "name": "python3"
  },
  "language_info": {
   "codemirror_mode": {
    "name": "ipython",
    "version": 3
   },
   "file_extension": ".py",
   "mimetype": "text/x-python",
   "name": "python",
   "nbconvert_exporter": "python",
   "pygments_lexer": "ipython3",
   "version": "3.12.7"
  }
 },
 "nbformat": 4,
 "nbformat_minor": 5
}
