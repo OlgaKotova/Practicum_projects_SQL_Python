{
 "cells": [
  {
   "cell_type": "markdown",
   "metadata": {
    "id": "u98L9TgH0eMk"
   },
   "source": [
    "# Разработка A/B-тестирования и анализ результатов\n",
    "\n",
    "Вы работаете продуктовым аналитиком в компании, которая разрабатывает развлекательное приложение с функцией «бесконечной» ленты, как, например, в приложениях с короткими видео. В вашем приложении существует две модели монетизации: первая — ежемесячная платная подписка, которая позволяет пользователям смотреть ленту без рекламы, вторая — демонстрация рекламы для пользователей, которые ещё не оформили подписку.\n",
    "\n",
    "Команда разработчиков рекомендательных систем создала новый алгоритм рекомендаций, который, по их мнению, будет показывать более интересный контент для каждого пользователя. Вас, как аналитика, просят помочь рассчитать параметры A/B-теста, который позволит проверить эту гипотезу, и проанализировать его результаты."
   ]
  },
  {
   "cell_type": "markdown",
   "metadata": {
    "id": "LJBRALHs0eMf"
   },
   "source": [
    "## Описание данных\n",
    "\n",
    "Вы будете работать с тремя таблицами:\n",
    "\n",
    "- `sessions_project_history.csv` — таблица с историческими данными по сессиям пользователей на период с 2025-08-15 по 2025-09-23. Путь к файлу: `/datasets/sessions_project_history.csv`.\n",
    "\n",
    "- `sessions_project_test_part.csv` — таблица с данными за первый день проведения A/B-теста, то есть за 2025-10-14. Путь к файлу: `/datasets/sessions_project_test_part.csv`.\n",
    "\n",
    "- `sessions_project_test.csv` — таблица с данными за весь период проведения A/B-теста, то есть с 2025-10-14 по 2025-11-02. Путь к файлу: `/datasets/sessions_project_test.csv`.\n",
    "\n",
    "У этих таблиц почти совпадает структура и содержание колонок, различаются лишь периоды наблюдения.\n",
    "\n",
    "Поля таблиц `sessions_project_history.csv`, `sessions_project_test.csv`, `sessions_project_test_part.csv`:\n",
    "\n",
    "- `user_id` — идентификатор пользователя;\n",
    "\n",
    "- `session_id` — идентификатор сессии в приложении;\n",
    "\n",
    "- `session_date` — дата сессии;\n",
    "\n",
    "- `session_start_ts` — дата и время начала сессии;\n",
    "\n",
    "- `install_date` — дата установки приложения;\n",
    "\n",
    "- `session_number` — порядковый номер сессии для конкретного пользователя;\n",
    "\n",
    "- `registration_flag` — является ли пользователь зарегистрированным;\n",
    "\n",
    "- `page_counter` — количество просмотренных страниц во время сессии;\n",
    "\n",
    "- `region` — регион пользователя;\n",
    "\n",
    "- `device` — тип устройства пользователя;\n",
    "\n",
    "- `test_group` — тестовая группа (в таблице с историческими данными этого столбца нет).\n",
    "\n",
    "\n",
    "## Что нужно сделать\n",
    "Ваши задачи: рассчитать параметры теста, оценить корректность его проведения и проанализировать результаты эксперимента.\n",
    "Важнейшик метрики продукта выбраны: число зарегистрированных пользователей и число просмотренных страниц в приложении. Успешными сессиями считали те, в рамках которых пользователь просмотрел 4 и более страниц. Проверим, является ли изменение в метрике доли успешных сессий статистически значимым"
   ]
  },
  {
   "cell_type": "markdown",
   "metadata": {
    "id": "UpOucjID0eMl"
   },
   "source": [
    "### 1. Работа с историческими данными (EDA)"
   ]
  },
  {
   "cell_type": "markdown",
   "metadata": {
    "id": "8iJMtL-30eMl"
   },
   "source": [
    "#### 1.1. Загрузка исторических данных\n",
    "На первом этапе поработайте с историческими данными приложения:\n",
    "\n",
    "- Импортируйте библиотеку pandas.\n",
    "\n",
    "- Считайте и сохраните в датафрейм `sessions_history` CSV-файл с историческими данными о сессиях пользователей `sessions_project_history.csv`.\n",
    "\n",
    "Выведите на экран первые пять строк полученного датафрейма."
   ]
  },
  {
   "cell_type": "code",
   "execution_count": 1,
   "metadata": {
    "id": "6TPR2-1RPboT"
   },
   "outputs": [],
   "source": [
    "import pandas as pd\n",
    "# для построения графика нам необходимо импортировать бибилиотеку matplotlib\n",
    "import matplotlib.pyplot as plt\n",
    "from math import ceil\n",
    "# для t-теста\n",
    "from scipy import stats\n",
    "# для z-теста\n",
    "from statsmodels.stats.proportion import proportions_ztest\n"
   ]
  },
  {
   "cell_type": "code",
   "execution_count": 2,
   "metadata": {},
   "outputs": [
    {
     "data": {
      "text/html": [
       "<div>\n",
       "<style scoped>\n",
       "    .dataframe tbody tr th:only-of-type {\n",
       "        vertical-align: middle;\n",
       "    }\n",
       "\n",
       "    .dataframe tbody tr th {\n",
       "        vertical-align: top;\n",
       "    }\n",
       "\n",
       "    .dataframe thead th {\n",
       "        text-align: right;\n",
       "    }\n",
       "</style>\n",
       "<table border=\"1\" class=\"dataframe\">\n",
       "  <thead>\n",
       "    <tr style=\"text-align: right;\">\n",
       "      <th></th>\n",
       "      <th>user_id</th>\n",
       "      <th>session_id</th>\n",
       "      <th>session_date</th>\n",
       "      <th>session_start_ts</th>\n",
       "      <th>install_date</th>\n",
       "      <th>session_number</th>\n",
       "      <th>registration_flag</th>\n",
       "      <th>page_counter</th>\n",
       "      <th>region</th>\n",
       "      <th>device</th>\n",
       "    </tr>\n",
       "  </thead>\n",
       "  <tbody>\n",
       "    <tr>\n",
       "      <th>0</th>\n",
       "      <td>E302123B7000BFE4</td>\n",
       "      <td>F9AF61A0C2023832</td>\n",
       "      <td>2025-08-15</td>\n",
       "      <td>2025-08-15 17:47:35</td>\n",
       "      <td>2025-08-15</td>\n",
       "      <td>1</td>\n",
       "      <td>0</td>\n",
       "      <td>3</td>\n",
       "      <td>CIS</td>\n",
       "      <td>iPhone</td>\n",
       "    </tr>\n",
       "    <tr>\n",
       "      <th>1</th>\n",
       "      <td>2530F72E221829FB</td>\n",
       "      <td>85003A206CBDAC6F</td>\n",
       "      <td>2025-08-15</td>\n",
       "      <td>2025-08-15 16:42:14</td>\n",
       "      <td>2025-08-15</td>\n",
       "      <td>1</td>\n",
       "      <td>0</td>\n",
       "      <td>4</td>\n",
       "      <td>MENA</td>\n",
       "      <td>Android</td>\n",
       "    </tr>\n",
       "    <tr>\n",
       "      <th>2</th>\n",
       "      <td>876E020A4FC512F5</td>\n",
       "      <td>3677423E49D72DEE</td>\n",
       "      <td>2025-08-15</td>\n",
       "      <td>2025-08-15 12:30:00</td>\n",
       "      <td>2025-08-15</td>\n",
       "      <td>1</td>\n",
       "      <td>0</td>\n",
       "      <td>4</td>\n",
       "      <td>EU</td>\n",
       "      <td>PC</td>\n",
       "    </tr>\n",
       "    <tr>\n",
       "      <th>3</th>\n",
       "      <td>2640B349E1D81584</td>\n",
       "      <td>956B45F5915CA225</td>\n",
       "      <td>2025-08-15</td>\n",
       "      <td>2025-08-15 15:31:31</td>\n",
       "      <td>2025-08-15</td>\n",
       "      <td>1</td>\n",
       "      <td>0</td>\n",
       "      <td>4</td>\n",
       "      <td>CIS</td>\n",
       "      <td>Android</td>\n",
       "    </tr>\n",
       "    <tr>\n",
       "      <th>4</th>\n",
       "      <td>94E1CBFAEF1F5EE9</td>\n",
       "      <td>83BF0DA35F9F1F40</td>\n",
       "      <td>2025-08-15</td>\n",
       "      <td>2025-08-15 21:33:53</td>\n",
       "      <td>2025-08-15</td>\n",
       "      <td>1</td>\n",
       "      <td>0</td>\n",
       "      <td>3</td>\n",
       "      <td>CIS</td>\n",
       "      <td>Android</td>\n",
       "    </tr>\n",
       "  </tbody>\n",
       "</table>\n",
       "</div>"
      ],
      "text/plain": [
       "            user_id        session_id session_date     session_start_ts  \\\n",
       "0  E302123B7000BFE4  F9AF61A0C2023832   2025-08-15  2025-08-15 17:47:35   \n",
       "1  2530F72E221829FB  85003A206CBDAC6F   2025-08-15  2025-08-15 16:42:14   \n",
       "2  876E020A4FC512F5  3677423E49D72DEE   2025-08-15  2025-08-15 12:30:00   \n",
       "3  2640B349E1D81584  956B45F5915CA225   2025-08-15  2025-08-15 15:31:31   \n",
       "4  94E1CBFAEF1F5EE9  83BF0DA35F9F1F40   2025-08-15  2025-08-15 21:33:53   \n",
       "\n",
       "  install_date  session_number  registration_flag  page_counter region  \\\n",
       "0   2025-08-15               1                  0             3    CIS   \n",
       "1   2025-08-15               1                  0             4   MENA   \n",
       "2   2025-08-15               1                  0             4     EU   \n",
       "3   2025-08-15               1                  0             4    CIS   \n",
       "4   2025-08-15               1                  0             3    CIS   \n",
       "\n",
       "    device  \n",
       "0   iPhone  \n",
       "1  Android  \n",
       "2       PC  \n",
       "3  Android  \n",
       "4  Android  "
      ]
     },
     "execution_count": 2,
     "metadata": {},
     "output_type": "execute_result"
    }
   ],
   "source": [
    "sessions_history=pd.read_csv('https://code.s3.yandex.net/datasets/sessions_project_history.csv')\n",
    "sessions_history.head()"
   ]
  },
  {
   "cell_type": "markdown",
   "metadata": {
    "id": "qTDoiODz0eMo"
   },
   "source": [
    "#### 1.2. Знакомство с данными\n",
    "- Для каждого уникального пользователя `user_id` рассчитайте количество уникальных сессий `session_id`.\n",
    "\n",
    "- Выведите на экран все данные из таблицы `sessions_history` для одного пользователя с наибольшим количеством сессий. Если таких пользователей несколько, выберите любого из них.\n",
    "\n",
    "- Изучите таблицу для одного пользователя, чтобы лучше понять логику формирования каждого столбца данных.\n",
    "\n"
   ]
  },
  {
   "cell_type": "code",
   "execution_count": 3,
   "metadata": {
    "id": "PWZO9vTIPbPN",
    "scrolled": true
   },
   "outputs": [
    {
     "data": {
      "text/html": [
       "<div>\n",
       "<style scoped>\n",
       "    .dataframe tbody tr th:only-of-type {\n",
       "        vertical-align: middle;\n",
       "    }\n",
       "\n",
       "    .dataframe tbody tr th {\n",
       "        vertical-align: top;\n",
       "    }\n",
       "\n",
       "    .dataframe thead th {\n",
       "        text-align: right;\n",
       "    }\n",
       "</style>\n",
       "<table border=\"1\" class=\"dataframe\">\n",
       "  <thead>\n",
       "    <tr style=\"text-align: right;\">\n",
       "      <th></th>\n",
       "      <th>user_id</th>\n",
       "      <th>session_id</th>\n",
       "      <th>session_date</th>\n",
       "      <th>session_start_ts</th>\n",
       "      <th>install_date</th>\n",
       "      <th>session_number</th>\n",
       "      <th>registration_flag</th>\n",
       "      <th>page_counter</th>\n",
       "      <th>region</th>\n",
       "      <th>device</th>\n",
       "    </tr>\n",
       "  </thead>\n",
       "  <tbody>\n",
       "    <tr>\n",
       "      <th>115558</th>\n",
       "      <td>10E0DEFC1ABDBBE0</td>\n",
       "      <td>B8F0423BBFFCF5DC</td>\n",
       "      <td>2025-08-14</td>\n",
       "      <td>2025-08-14 13:57:39</td>\n",
       "      <td>2025-08-14</td>\n",
       "      <td>1</td>\n",
       "      <td>0</td>\n",
       "      <td>4</td>\n",
       "      <td>CIS</td>\n",
       "      <td>Android</td>\n",
       "    </tr>\n",
       "    <tr>\n",
       "      <th>191751</th>\n",
       "      <td>10E0DEFC1ABDBBE0</td>\n",
       "      <td>87CA2FA549473837</td>\n",
       "      <td>2025-08-15</td>\n",
       "      <td>2025-08-15 16:42:10</td>\n",
       "      <td>2025-08-14</td>\n",
       "      <td>2</td>\n",
       "      <td>0</td>\n",
       "      <td>3</td>\n",
       "      <td>CIS</td>\n",
       "      <td>Android</td>\n",
       "    </tr>\n",
       "    <tr>\n",
       "      <th>239370</th>\n",
       "      <td>10E0DEFC1ABDBBE0</td>\n",
       "      <td>4ADD8011DCDCE318</td>\n",
       "      <td>2025-08-16</td>\n",
       "      <td>2025-08-16 19:53:21</td>\n",
       "      <td>2025-08-14</td>\n",
       "      <td>3</td>\n",
       "      <td>0</td>\n",
       "      <td>3</td>\n",
       "      <td>CIS</td>\n",
       "      <td>Android</td>\n",
       "    </tr>\n",
       "    <tr>\n",
       "      <th>274629</th>\n",
       "      <td>10E0DEFC1ABDBBE0</td>\n",
       "      <td>DF0FD0E09BF1F3D7</td>\n",
       "      <td>2025-08-17</td>\n",
       "      <td>2025-08-17 15:03:43</td>\n",
       "      <td>2025-08-14</td>\n",
       "      <td>4</td>\n",
       "      <td>0</td>\n",
       "      <td>1</td>\n",
       "      <td>CIS</td>\n",
       "      <td>Android</td>\n",
       "    </tr>\n",
       "    <tr>\n",
       "      <th>302501</th>\n",
       "      <td>10E0DEFC1ABDBBE0</td>\n",
       "      <td>3C221774B4DE6885</td>\n",
       "      <td>2025-08-18</td>\n",
       "      <td>2025-08-18 17:29:14</td>\n",
       "      <td>2025-08-14</td>\n",
       "      <td>5</td>\n",
       "      <td>0</td>\n",
       "      <td>4</td>\n",
       "      <td>CIS</td>\n",
       "      <td>Android</td>\n",
       "    </tr>\n",
       "    <tr>\n",
       "      <th>325557</th>\n",
       "      <td>10E0DEFC1ABDBBE0</td>\n",
       "      <td>031BD7A67048105B</td>\n",
       "      <td>2025-08-19</td>\n",
       "      <td>2025-08-19 13:23:55</td>\n",
       "      <td>2025-08-14</td>\n",
       "      <td>6</td>\n",
       "      <td>0</td>\n",
       "      <td>2</td>\n",
       "      <td>CIS</td>\n",
       "      <td>Android</td>\n",
       "    </tr>\n",
       "    <tr>\n",
       "      <th>345336</th>\n",
       "      <td>10E0DEFC1ABDBBE0</td>\n",
       "      <td>FF4315CF4AD4B100</td>\n",
       "      <td>2025-08-20</td>\n",
       "      <td>2025-08-20 19:31:54</td>\n",
       "      <td>2025-08-14</td>\n",
       "      <td>7</td>\n",
       "      <td>0</td>\n",
       "      <td>2</td>\n",
       "      <td>CIS</td>\n",
       "      <td>Android</td>\n",
       "    </tr>\n",
       "    <tr>\n",
       "      <th>377532</th>\n",
       "      <td>10E0DEFC1ABDBBE0</td>\n",
       "      <td>4045FEA0747203B4</td>\n",
       "      <td>2025-08-22</td>\n",
       "      <td>2025-08-22 17:54:13</td>\n",
       "      <td>2025-08-14</td>\n",
       "      <td>8</td>\n",
       "      <td>0</td>\n",
       "      <td>2</td>\n",
       "      <td>CIS</td>\n",
       "      <td>Android</td>\n",
       "    </tr>\n",
       "    <tr>\n",
       "      <th>403538</th>\n",
       "      <td>10E0DEFC1ABDBBE0</td>\n",
       "      <td>344B086C421C7F37</td>\n",
       "      <td>2025-08-24</td>\n",
       "      <td>2025-08-24 14:46:13</td>\n",
       "      <td>2025-08-14</td>\n",
       "      <td>9</td>\n",
       "      <td>0</td>\n",
       "      <td>2</td>\n",
       "      <td>CIS</td>\n",
       "      <td>Android</td>\n",
       "    </tr>\n",
       "    <tr>\n",
       "      <th>414743</th>\n",
       "      <td>10E0DEFC1ABDBBE0</td>\n",
       "      <td>054F20BA371E4C9D</td>\n",
       "      <td>2025-08-25</td>\n",
       "      <td>2025-08-25 18:36:41</td>\n",
       "      <td>2025-08-14</td>\n",
       "      <td>10</td>\n",
       "      <td>0</td>\n",
       "      <td>3</td>\n",
       "      <td>CIS</td>\n",
       "      <td>Android</td>\n",
       "    </tr>\n",
       "  </tbody>\n",
       "</table>\n",
       "</div>"
      ],
      "text/plain": [
       "                 user_id        session_id session_date     session_start_ts  \\\n",
       "115558  10E0DEFC1ABDBBE0  B8F0423BBFFCF5DC   2025-08-14  2025-08-14 13:57:39   \n",
       "191751  10E0DEFC1ABDBBE0  87CA2FA549473837   2025-08-15  2025-08-15 16:42:10   \n",
       "239370  10E0DEFC1ABDBBE0  4ADD8011DCDCE318   2025-08-16  2025-08-16 19:53:21   \n",
       "274629  10E0DEFC1ABDBBE0  DF0FD0E09BF1F3D7   2025-08-17  2025-08-17 15:03:43   \n",
       "302501  10E0DEFC1ABDBBE0  3C221774B4DE6885   2025-08-18  2025-08-18 17:29:14   \n",
       "325557  10E0DEFC1ABDBBE0  031BD7A67048105B   2025-08-19  2025-08-19 13:23:55   \n",
       "345336  10E0DEFC1ABDBBE0  FF4315CF4AD4B100   2025-08-20  2025-08-20 19:31:54   \n",
       "377532  10E0DEFC1ABDBBE0  4045FEA0747203B4   2025-08-22  2025-08-22 17:54:13   \n",
       "403538  10E0DEFC1ABDBBE0  344B086C421C7F37   2025-08-24  2025-08-24 14:46:13   \n",
       "414743  10E0DEFC1ABDBBE0  054F20BA371E4C9D   2025-08-25  2025-08-25 18:36:41   \n",
       "\n",
       "       install_date  session_number  registration_flag  page_counter region  \\\n",
       "115558   2025-08-14               1                  0             4    CIS   \n",
       "191751   2025-08-14               2                  0             3    CIS   \n",
       "239370   2025-08-14               3                  0             3    CIS   \n",
       "274629   2025-08-14               4                  0             1    CIS   \n",
       "302501   2025-08-14               5                  0             4    CIS   \n",
       "325557   2025-08-14               6                  0             2    CIS   \n",
       "345336   2025-08-14               7                  0             2    CIS   \n",
       "377532   2025-08-14               8                  0             2    CIS   \n",
       "403538   2025-08-14               9                  0             2    CIS   \n",
       "414743   2025-08-14              10                  0             3    CIS   \n",
       "\n",
       "         device  \n",
       "115558  Android  \n",
       "191751  Android  \n",
       "239370  Android  \n",
       "274629  Android  \n",
       "302501  Android  \n",
       "325557  Android  \n",
       "345336  Android  \n",
       "377532  Android  \n",
       "403538  Android  \n",
       "414743  Android  "
      ]
     },
     "execution_count": 3,
     "metadata": {},
     "output_type": "execute_result"
    }
   ],
   "source": [
    "# считаем число уникальных сессий на пользователя\n",
    "unique_sessions_count = sessions_history.groupby('user_id')['session_id'].nunique()\n",
    "# выделяем пользователя с наибольшим количеством сессий\n",
    "top_user = unique_sessions_count.idxmax() \n",
    "# данные для этого пользователя из sessions_history\n",
    "top_user_data = sessions_history[sessions_history['user_id'] == top_user]\n",
    "top_user_data"
   ]
  },
  {
   "cell_type": "markdown",
   "metadata": {},
   "source": [
    "Пользователь 10E0DEFC1ABDBBE0 установил приложение 14.08.2025 и начиная с этой даты до 25.08.2025 года заходил туда каждодневно, увеличивая количество сессий на 1 (с 1 до 10 оответственно), при этом он не зарегистрирован, просматривает от 1 до 4 страниц с андроида."
   ]
  },
  {
   "cell_type": "markdown",
   "metadata": {
    "id": "CmcGpJTP0eMq"
   },
   "source": [
    "#### 1.3. Анализ числа регистраций\n",
    "Одна из важнейших метрик продукта — число зарегистрированных пользователей. Используя исторические данные, визуализируйте, как менялось число регистраций в приложении за время его существования.\n",
    "\n",
    "- Агрегируйте исторические данные и рассчитайте число уникальных пользователей и число зарегистрированных пользователей для каждого дня наблюдения. Для простоты считайте, что у пользователя в течение дня бывает одна сессия максимум и статус регистрации в течение одного дня не может измениться.\n",
    "\n",
    "- Постройте линейные графики общего числа пользователей и общего числа зарегистрированных пользователей по дням. Отобразите их на одном графике.\n",
    "\n",
    "- Постройте отдельный линейный график доли зарегистрированных пользователей от всех пользователей по дням.\n",
    "\n",
    "- На обоих графиках должны быть заголовок, подписанные оси X и Y, сетка и легенда."
   ]
  },
  {
   "cell_type": "code",
   "execution_count": 4,
   "metadata": {
    "id": "tN_6Ml3EPatS",
    "scrolled": true
   },
   "outputs": [
    {
     "data": {
      "image/png": "[encoded data removed]",
      "text/plain": [
       "<Figure size 1728x432 with 1 Axes>"
      ]
     },
     "metadata": {
      "needs_background": "light"
     },
     "output_type": "display_data"
    }
   ],
   "source": [
    "# переводим столбец в формат даты\n",
    "sessions_history['session_date'] = pd.to_datetime(sessions_history['session_date'])\n",
    "\n",
    "# Агрегируем исторические данные по дате\n",
    "agg_data = sessions_history.groupby('session_date').agg(\n",
    "    unique_users=('user_id', 'nunique'),\n",
    "    registered_users=('registration_flag', lambda x: (x == 1).sum())\n",
    ").reset_index() # убираем индекс\n",
    "\n",
    "# строим графики общего числа пользователей и зарегистрированных пользователей\n",
    "plt.figure(figsize=(24, 6))\n",
    "plt.plot(agg_data['session_date'], agg_data['unique_users'], label='Общее число пользователей', marker='o')\n",
    "plt.plot(agg_data['session_date'], agg_data['registered_users'], label='Число зарегистрированных пользователей',\n",
    "         marker='o')\n",
    "plt.title('Общее число пользователей и зарегистрированных пользователей')\n",
    "plt.xlabel('Дата')\n",
    "plt.ylabel('Количество пользователей')\n",
    "plt.grid()\n",
    "plt.legend()\n",
    "\n",
    "plt.show()"
   ]
  },
  {
   "cell_type": "markdown",
   "metadata": {},
   "source": [
    "Графики общего числа пользователей и числа зарегистрировнных пользователей имеют похожие направления роста с момента начала до 22.08.2025, удержания на достаточно высоком уровне до 08.09.2025, после чего снижением к концу сентября 2025.\n",
    "\n",
    "Число регистраций в абсолютном значении в приложении за время его существования чсначала росло, затем сохраняло свои значения, а к концу сентября упало, при этом отсутствовали резкие перепады, плавные подъем и спад.\n",
    "\n"
   ]
  },
  {
   "cell_type": "code",
   "execution_count": 5,
   "metadata": {
    "scrolled": true
   },
   "outputs": [
    {
     "data": {
      "image/png": "[encoded data removed]",
      "text/plain": [
       "<Figure size 1728x432 with 1 Axes>"
      ]
     },
     "metadata": {
      "needs_background": "light"
     },
     "output_type": "display_data"
    }
   ],
   "source": [
    "# строим отдельный линейный график доли зарегистрированных пользователей от всех пользователей по дням\n",
    "plt.figure(figsize=(24, 6))\n",
    "agg_data['registered_ratio'] = agg_data['registered_users'] / agg_data['unique_users']\n",
    "plt.plot(agg_data['session_date'], agg_data['registered_ratio'], label='Доля зарегистрированных пользователей', marker='o', \n",
    "         color='orange')\n",
    "plt.title('Доля зарегистрированных пользователей от всех пользователей')\n",
    "plt.xlabel('Дата')\n",
    "plt.ylabel('Доля зарегистрированных пользователей')\n",
    "plt.grid()\n",
    "# Показать графики\n",
    "plt.tight_layout()\n",
    "plt.show()"
   ]
  },
  {
   "cell_type": "markdown",
   "metadata": {},
   "source": [
    "При этом, мы видим устойчивую тенденцию роста доли зарегистрированных пользователей с самого начала до 22.09.2025. При этом,график имеет периоды незначительные перепады то роста, то падения, но тенденция роста с максимумом  22.09.2025 налицо.\n",
    "Важно учитывать, что высокая вариативность доли может быть связана с уменьшением количества наблюдений к концу периода."
   ]
  },
  {
   "cell_type": "markdown",
   "metadata": {
    "id": "UR7D7RhF0eMr"
   },
   "source": [
    "#### 1.4. Анализ числа просмотренных страниц\n",
    "Другая важная метрика продукта — число просмотренных страниц в приложении. Чем больше страниц просмотрено, тем сильнее пользователь увлечён контентом, а значит, выше шансы на то, что он зарегистрируется и оплатит подписку.\n",
    "\n",
    "- Найдите количество сессий для каждого значения количества просмотренных страниц. Например: одну страницу просмотрели в 29160 сессиях, две страницы в 105536 сессиях и так далее.\n",
    "\n",
    "- Постройте столбчатую диаграмму, где по оси X будет число просмотренных страниц, по оси Y — количество сессий.\n",
    "\n",
    "- На диаграмме должны быть заголовок, подписанные оси X и Y."
   ]
  },
  {
   "cell_type": "code",
   "execution_count": 6,
   "metadata": {
    "id": "cb6hPlVzPaSf"
   },
   "outputs": [
    {
     "data": {
      "text/html": [
       "<div>\n",
       "<style scoped>\n",
       "    .dataframe tbody tr th:only-of-type {\n",
       "        vertical-align: middle;\n",
       "    }\n",
       "\n",
       "    .dataframe tbody tr th {\n",
       "        vertical-align: top;\n",
       "    }\n",
       "\n",
       "    .dataframe thead th {\n",
       "        text-align: right;\n",
       "    }\n",
       "</style>\n",
       "<table border=\"1\" class=\"dataframe\">\n",
       "  <thead>\n",
       "    <tr style=\"text-align: right;\">\n",
       "      <th></th>\n",
       "      <th>page_counter</th>\n",
       "      <th>session_number</th>\n",
       "    </tr>\n",
       "  </thead>\n",
       "  <tbody>\n",
       "    <tr>\n",
       "      <th>0</th>\n",
       "      <td>1</td>\n",
       "      <td>69664</td>\n",
       "    </tr>\n",
       "    <tr>\n",
       "      <th>1</th>\n",
       "      <td>2</td>\n",
       "      <td>251400</td>\n",
       "    </tr>\n",
       "    <tr>\n",
       "      <th>2</th>\n",
       "      <td>3</td>\n",
       "      <td>397524</td>\n",
       "    </tr>\n",
       "    <tr>\n",
       "      <th>3</th>\n",
       "      <td>4</td>\n",
       "      <td>250965</td>\n",
       "    </tr>\n",
       "    <tr>\n",
       "      <th>4</th>\n",
       "      <td>5</td>\n",
       "      <td>62823</td>\n",
       "    </tr>\n",
       "    <tr>\n",
       "      <th>5</th>\n",
       "      <td>6</td>\n",
       "      <td>6183</td>\n",
       "    </tr>\n",
       "    <tr>\n",
       "      <th>6</th>\n",
       "      <td>7</td>\n",
       "      <td>208</td>\n",
       "    </tr>\n",
       "  </tbody>\n",
       "</table>\n",
       "</div>"
      ],
      "text/plain": [
       "   page_counter  session_number\n",
       "0             1           69664\n",
       "1             2          251400\n",
       "2             3          397524\n",
       "3             4          250965\n",
       "4             5           62823\n",
       "5             6            6183\n",
       "6             7             208"
      ]
     },
     "execution_count": 6,
     "metadata": {},
     "output_type": "execute_result"
    }
   ],
   "source": [
    "sessions_count = sessions_history.groupby('page_counter')['session_number'].sum().reset_index()\n",
    "sessions_count"
   ]
  },
  {
   "cell_type": "code",
   "execution_count": 7,
   "metadata": {
    "scrolled": true
   },
   "outputs": [
    {
     "data": {
      "image/png": "[encoded data removed]",
      "text/plain": [
       "<Figure size 432x288 with 1 Axes>"
      ]
     },
     "metadata": {
      "needs_background": "light"
     },
     "output_type": "display_data"
    }
   ],
   "source": [
    "#Строим столбчатую диаграмму \n",
    "sessions_count.plot(\n",
    "               kind='bar', # Тип графика - столбчатая диаграмма\n",
    "               legend=False,\n",
    "               x='page_counter', \n",
    "               y='session_number',\n",
    "               rot=0,\n",
    "               title=f'Количество сессий для каждого значения количества просмотренных страниц'\n",
    ")\n",
    "\n",
    "# Настраиваем оформление графика\n",
    "plt.xlabel('Число просмотренных страниц')\n",
    "plt.ylabel('Количество сессий')\n",
    "plt.grid()\n",
    "\n",
    "# Выводим график\n",
    "plt.show()"
   ]
  },
  {
   "cell_type": "markdown",
   "metadata": {},
   "source": [
    "Самое большое количество сессий (397524) было, когда просматривается 3 страницы, далее примерно равные показатели у 2 и 4 страниц, далее - примерно втрое меньше полсдених сессий у 1 и 5 страниц, совем немного у 6 страниц (6183) и  меньше всего у 7 страниц, всего 208."
   ]
  },
  {
   "cell_type": "markdown",
   "metadata": {
    "id": "xDltSpVP0eMr"
   },
   "source": [
    "#### 1.5. Доля пользователей, просмотревших более четырёх страниц\n",
    "Продуктовая команда продукта считает, что сессии, в рамках которых пользователь просмотрел 4 и более страниц, говорят об удовлетворённости контентом и алгоритмами рекомендаций. Этот показатель является важной прокси-метрикой для продукта.\n",
    "\n",
    "- В датафрейме `sessions_history` создайте дополнительный столбец `good_session`. В него войдёт значение `1`, если за одну сессию было просмотрено 4 и более страниц, и значение `0`, если было просмотрено меньше.\n",
    "\n",
    "- Постройте график со средним значением доли успешных сессий ко всем сессиям по дням за весь период наблюдения."
   ]
  },
  {
   "cell_type": "code",
   "execution_count": 8,
   "metadata": {
    "id": "iygaPfixPYMW",
    "scrolled": true
   },
   "outputs": [
    {
     "data": {
      "text/html": [
       "<div>\n",
       "<style scoped>\n",
       "    .dataframe tbody tr th:only-of-type {\n",
       "        vertical-align: middle;\n",
       "    }\n",
       "\n",
       "    .dataframe tbody tr th {\n",
       "        vertical-align: top;\n",
       "    }\n",
       "\n",
       "    .dataframe thead th {\n",
       "        text-align: right;\n",
       "    }\n",
       "</style>\n",
       "<table border=\"1\" class=\"dataframe\">\n",
       "  <thead>\n",
       "    <tr style=\"text-align: right;\">\n",
       "      <th></th>\n",
       "      <th>user_id</th>\n",
       "      <th>session_id</th>\n",
       "      <th>session_date</th>\n",
       "      <th>session_start_ts</th>\n",
       "      <th>install_date</th>\n",
       "      <th>session_number</th>\n",
       "      <th>registration_flag</th>\n",
       "      <th>page_counter</th>\n",
       "      <th>region</th>\n",
       "      <th>device</th>\n",
       "      <th>good_session</th>\n",
       "    </tr>\n",
       "  </thead>\n",
       "  <tbody>\n",
       "    <tr>\n",
       "      <th>0</th>\n",
       "      <td>E302123B7000BFE4</td>\n",
       "      <td>F9AF61A0C2023832</td>\n",
       "      <td>2025-08-15</td>\n",
       "      <td>2025-08-15 17:47:35</td>\n",
       "      <td>2025-08-15</td>\n",
       "      <td>1</td>\n",
       "      <td>0</td>\n",
       "      <td>3</td>\n",
       "      <td>CIS</td>\n",
       "      <td>iPhone</td>\n",
       "      <td>0</td>\n",
       "    </tr>\n",
       "    <tr>\n",
       "      <th>1</th>\n",
       "      <td>2530F72E221829FB</td>\n",
       "      <td>85003A206CBDAC6F</td>\n",
       "      <td>2025-08-15</td>\n",
       "      <td>2025-08-15 16:42:14</td>\n",
       "      <td>2025-08-15</td>\n",
       "      <td>1</td>\n",
       "      <td>0</td>\n",
       "      <td>4</td>\n",
       "      <td>MENA</td>\n",
       "      <td>Android</td>\n",
       "      <td>1</td>\n",
       "    </tr>\n",
       "    <tr>\n",
       "      <th>2</th>\n",
       "      <td>876E020A4FC512F5</td>\n",
       "      <td>3677423E49D72DEE</td>\n",
       "      <td>2025-08-15</td>\n",
       "      <td>2025-08-15 12:30:00</td>\n",
       "      <td>2025-08-15</td>\n",
       "      <td>1</td>\n",
       "      <td>0</td>\n",
       "      <td>4</td>\n",
       "      <td>EU</td>\n",
       "      <td>PC</td>\n",
       "      <td>1</td>\n",
       "    </tr>\n",
       "    <tr>\n",
       "      <th>3</th>\n",
       "      <td>2640B349E1D81584</td>\n",
       "      <td>956B45F5915CA225</td>\n",
       "      <td>2025-08-15</td>\n",
       "      <td>2025-08-15 15:31:31</td>\n",
       "      <td>2025-08-15</td>\n",
       "      <td>1</td>\n",
       "      <td>0</td>\n",
       "      <td>4</td>\n",
       "      <td>CIS</td>\n",
       "      <td>Android</td>\n",
       "      <td>1</td>\n",
       "    </tr>\n",
       "    <tr>\n",
       "      <th>4</th>\n",
       "      <td>94E1CBFAEF1F5EE9</td>\n",
       "      <td>83BF0DA35F9F1F40</td>\n",
       "      <td>2025-08-15</td>\n",
       "      <td>2025-08-15 21:33:53</td>\n",
       "      <td>2025-08-15</td>\n",
       "      <td>1</td>\n",
       "      <td>0</td>\n",
       "      <td>3</td>\n",
       "      <td>CIS</td>\n",
       "      <td>Android</td>\n",
       "      <td>0</td>\n",
       "    </tr>\n",
       "  </tbody>\n",
       "</table>\n",
       "</div>"
      ],
      "text/plain": [
       "            user_id        session_id session_date     session_start_ts  \\\n",
       "0  E302123B7000BFE4  F9AF61A0C2023832   2025-08-15  2025-08-15 17:47:35   \n",
       "1  2530F72E221829FB  85003A206CBDAC6F   2025-08-15  2025-08-15 16:42:14   \n",
       "2  876E020A4FC512F5  3677423E49D72DEE   2025-08-15  2025-08-15 12:30:00   \n",
       "3  2640B349E1D81584  956B45F5915CA225   2025-08-15  2025-08-15 15:31:31   \n",
       "4  94E1CBFAEF1F5EE9  83BF0DA35F9F1F40   2025-08-15  2025-08-15 21:33:53   \n",
       "\n",
       "  install_date  session_number  registration_flag  page_counter region  \\\n",
       "0   2025-08-15               1                  0             3    CIS   \n",
       "1   2025-08-15               1                  0             4   MENA   \n",
       "2   2025-08-15               1                  0             4     EU   \n",
       "3   2025-08-15               1                  0             4    CIS   \n",
       "4   2025-08-15               1                  0             3    CIS   \n",
       "\n",
       "    device  good_session  \n",
       "0   iPhone             0  \n",
       "1  Android             1  \n",
       "2       PC             1  \n",
       "3  Android             1  \n",
       "4  Android             0  "
      ]
     },
     "execution_count": 8,
     "metadata": {},
     "output_type": "execute_result"
    }
   ],
   "source": [
    "sessions_history['good_session'] = (sessions_history['page_counter'] >= 4).astype(int)\n",
    "sessions_history.head()"
   ]
  },
  {
   "cell_type": "markdown",
   "metadata": {},
   "source": [
    "Создали отдельный столбец, проверили, что он создался корректно через head(). Далее переходим к расчету средним значением доли успешных сессий ко всем сессиям по дням."
   ]
  },
  {
   "cell_type": "code",
   "execution_count": 9,
   "metadata": {},
   "outputs": [
    {
     "data": {
      "text/html": [
       "<div>\n",
       "<style scoped>\n",
       "    .dataframe tbody tr th:only-of-type {\n",
       "        vertical-align: middle;\n",
       "    }\n",
       "\n",
       "    .dataframe tbody tr th {\n",
       "        vertical-align: top;\n",
       "    }\n",
       "\n",
       "    .dataframe thead th {\n",
       "        text-align: right;\n",
       "    }\n",
       "</style>\n",
       "<table border=\"1\" class=\"dataframe\">\n",
       "  <thead>\n",
       "    <tr style=\"text-align: right;\">\n",
       "      <th></th>\n",
       "      <th>session_date</th>\n",
       "      <th>total_sessions</th>\n",
       "      <th>total_good_sessions</th>\n",
       "      <th>good_session_share</th>\n",
       "    </tr>\n",
       "  </thead>\n",
       "  <tbody>\n",
       "    <tr>\n",
       "      <th>0</th>\n",
       "      <td>2025-08-11</td>\n",
       "      <td>3919</td>\n",
       "      <td>1226</td>\n",
       "      <td>0.312835</td>\n",
       "    </tr>\n",
       "    <tr>\n",
       "      <th>1</th>\n",
       "      <td>2025-08-12</td>\n",
       "      <td>6056</td>\n",
       "      <td>1829</td>\n",
       "      <td>0.302015</td>\n",
       "    </tr>\n",
       "    <tr>\n",
       "      <th>2</th>\n",
       "      <td>2025-08-13</td>\n",
       "      <td>8489</td>\n",
       "      <td>2604</td>\n",
       "      <td>0.306750</td>\n",
       "    </tr>\n",
       "    <tr>\n",
       "      <th>3</th>\n",
       "      <td>2025-08-14</td>\n",
       "      <td>10321</td>\n",
       "      <td>3262</td>\n",
       "      <td>0.316055</td>\n",
       "    </tr>\n",
       "    <tr>\n",
       "      <th>4</th>\n",
       "      <td>2025-08-15</td>\n",
       "      <td>14065</td>\n",
       "      <td>4289</td>\n",
       "      <td>0.304941</td>\n",
       "    </tr>\n",
       "    <tr>\n",
       "      <th>5</th>\n",
       "      <td>2025-08-16</td>\n",
       "      <td>12205</td>\n",
       "      <td>3737</td>\n",
       "      <td>0.306186</td>\n",
       "    </tr>\n",
       "    <tr>\n",
       "      <th>6</th>\n",
       "      <td>2025-08-17</td>\n",
       "      <td>11200</td>\n",
       "      <td>3557</td>\n",
       "      <td>0.317589</td>\n",
       "    </tr>\n",
       "    <tr>\n",
       "      <th>7</th>\n",
       "      <td>2025-08-18</td>\n",
       "      <td>10839</td>\n",
       "      <td>3366</td>\n",
       "      <td>0.310545</td>\n",
       "    </tr>\n",
       "    <tr>\n",
       "      <th>8</th>\n",
       "      <td>2025-08-19</td>\n",
       "      <td>12118</td>\n",
       "      <td>3791</td>\n",
       "      <td>0.312840</td>\n",
       "    </tr>\n",
       "    <tr>\n",
       "      <th>9</th>\n",
       "      <td>2025-08-20</td>\n",
       "      <td>13514</td>\n",
       "      <td>4148</td>\n",
       "      <td>0.306941</td>\n",
       "    </tr>\n",
       "    <tr>\n",
       "      <th>10</th>\n",
       "      <td>2025-08-21</td>\n",
       "      <td>15051</td>\n",
       "      <td>4563</td>\n",
       "      <td>0.303169</td>\n",
       "    </tr>\n",
       "    <tr>\n",
       "      <th>11</th>\n",
       "      <td>2025-08-22</td>\n",
       "      <td>17563</td>\n",
       "      <td>5500</td>\n",
       "      <td>0.313158</td>\n",
       "    </tr>\n",
       "    <tr>\n",
       "      <th>12</th>\n",
       "      <td>2025-08-23</td>\n",
       "      <td>16082</td>\n",
       "      <td>4858</td>\n",
       "      <td>0.302077</td>\n",
       "    </tr>\n",
       "    <tr>\n",
       "      <th>13</th>\n",
       "      <td>2025-08-24</td>\n",
       "      <td>13683</td>\n",
       "      <td>4239</td>\n",
       "      <td>0.309800</td>\n",
       "    </tr>\n",
       "    <tr>\n",
       "      <th>14</th>\n",
       "      <td>2025-08-25</td>\n",
       "      <td>13635</td>\n",
       "      <td>4165</td>\n",
       "      <td>0.305464</td>\n",
       "    </tr>\n",
       "    <tr>\n",
       "      <th>15</th>\n",
       "      <td>2025-08-26</td>\n",
       "      <td>13289</td>\n",
       "      <td>4132</td>\n",
       "      <td>0.310934</td>\n",
       "    </tr>\n",
       "    <tr>\n",
       "      <th>16</th>\n",
       "      <td>2025-08-27</td>\n",
       "      <td>14766</td>\n",
       "      <td>4594</td>\n",
       "      <td>0.311120</td>\n",
       "    </tr>\n",
       "    <tr>\n",
       "      <th>17</th>\n",
       "      <td>2025-08-28</td>\n",
       "      <td>15388</td>\n",
       "      <td>4779</td>\n",
       "      <td>0.310567</td>\n",
       "    </tr>\n",
       "    <tr>\n",
       "      <th>18</th>\n",
       "      <td>2025-08-29</td>\n",
       "      <td>16873</td>\n",
       "      <td>5283</td>\n",
       "      <td>0.313104</td>\n",
       "    </tr>\n",
       "    <tr>\n",
       "      <th>19</th>\n",
       "      <td>2025-08-30</td>\n",
       "      <td>14891</td>\n",
       "      <td>4673</td>\n",
       "      <td>0.313814</td>\n",
       "    </tr>\n",
       "    <tr>\n",
       "      <th>20</th>\n",
       "      <td>2025-08-31</td>\n",
       "      <td>13266</td>\n",
       "      <td>4013</td>\n",
       "      <td>0.302503</td>\n",
       "    </tr>\n",
       "    <tr>\n",
       "      <th>21</th>\n",
       "      <td>2025-09-01</td>\n",
       "      <td>12685</td>\n",
       "      <td>3964</td>\n",
       "      <td>0.312495</td>\n",
       "    </tr>\n",
       "    <tr>\n",
       "      <th>22</th>\n",
       "      <td>2025-09-02</td>\n",
       "      <td>12672</td>\n",
       "      <td>3998</td>\n",
       "      <td>0.315499</td>\n",
       "    </tr>\n",
       "    <tr>\n",
       "      <th>23</th>\n",
       "      <td>2025-09-03</td>\n",
       "      <td>12777</td>\n",
       "      <td>3886</td>\n",
       "      <td>0.304140</td>\n",
       "    </tr>\n",
       "    <tr>\n",
       "      <th>24</th>\n",
       "      <td>2025-09-04</td>\n",
       "      <td>13683</td>\n",
       "      <td>4317</td>\n",
       "      <td>0.315501</td>\n",
       "    </tr>\n",
       "    <tr>\n",
       "      <th>25</th>\n",
       "      <td>2025-09-05</td>\n",
       "      <td>15324</td>\n",
       "      <td>4656</td>\n",
       "      <td>0.303837</td>\n",
       "    </tr>\n",
       "    <tr>\n",
       "      <th>26</th>\n",
       "      <td>2025-09-06</td>\n",
       "      <td>13078</td>\n",
       "      <td>3983</td>\n",
       "      <td>0.304557</td>\n",
       "    </tr>\n",
       "    <tr>\n",
       "      <th>27</th>\n",
       "      <td>2025-09-07</td>\n",
       "      <td>12367</td>\n",
       "      <td>3860</td>\n",
       "      <td>0.312121</td>\n",
       "    </tr>\n",
       "    <tr>\n",
       "      <th>28</th>\n",
       "      <td>2025-09-08</td>\n",
       "      <td>11826</td>\n",
       "      <td>3652</td>\n",
       "      <td>0.308811</td>\n",
       "    </tr>\n",
       "    <tr>\n",
       "      <th>29</th>\n",
       "      <td>2025-09-09</td>\n",
       "      <td>11780</td>\n",
       "      <td>3599</td>\n",
       "      <td>0.305518</td>\n",
       "    </tr>\n",
       "    <tr>\n",
       "      <th>30</th>\n",
       "      <td>2025-09-10</td>\n",
       "      <td>12526</td>\n",
       "      <td>3822</td>\n",
       "      <td>0.305125</td>\n",
       "    </tr>\n",
       "    <tr>\n",
       "      <th>31</th>\n",
       "      <td>2025-09-11</td>\n",
       "      <td>8623</td>\n",
       "      <td>2627</td>\n",
       "      <td>0.304650</td>\n",
       "    </tr>\n",
       "    <tr>\n",
       "      <th>32</th>\n",
       "      <td>2025-09-12</td>\n",
       "      <td>6436</td>\n",
       "      <td>1941</td>\n",
       "      <td>0.301585</td>\n",
       "    </tr>\n",
       "    <tr>\n",
       "      <th>33</th>\n",
       "      <td>2025-09-13</td>\n",
       "      <td>5183</td>\n",
       "      <td>1550</td>\n",
       "      <td>0.299055</td>\n",
       "    </tr>\n",
       "    <tr>\n",
       "      <th>34</th>\n",
       "      <td>2025-09-14</td>\n",
       "      <td>4364</td>\n",
       "      <td>1343</td>\n",
       "      <td>0.307745</td>\n",
       "    </tr>\n",
       "    <tr>\n",
       "      <th>35</th>\n",
       "      <td>2025-09-15</td>\n",
       "      <td>3698</td>\n",
       "      <td>1131</td>\n",
       "      <td>0.305841</td>\n",
       "    </tr>\n",
       "    <tr>\n",
       "      <th>36</th>\n",
       "      <td>2025-09-16</td>\n",
       "      <td>3032</td>\n",
       "      <td>946</td>\n",
       "      <td>0.312005</td>\n",
       "    </tr>\n",
       "    <tr>\n",
       "      <th>37</th>\n",
       "      <td>2025-09-17</td>\n",
       "      <td>2548</td>\n",
       "      <td>816</td>\n",
       "      <td>0.320251</td>\n",
       "    </tr>\n",
       "    <tr>\n",
       "      <th>38</th>\n",
       "      <td>2025-09-18</td>\n",
       "      <td>1952</td>\n",
       "      <td>571</td>\n",
       "      <td>0.292520</td>\n",
       "    </tr>\n",
       "    <tr>\n",
       "      <th>39</th>\n",
       "      <td>2025-09-19</td>\n",
       "      <td>1418</td>\n",
       "      <td>451</td>\n",
       "      <td>0.318054</td>\n",
       "    </tr>\n",
       "    <tr>\n",
       "      <th>40</th>\n",
       "      <td>2025-09-20</td>\n",
       "      <td>1100</td>\n",
       "      <td>332</td>\n",
       "      <td>0.301818</td>\n",
       "    </tr>\n",
       "    <tr>\n",
       "      <th>41</th>\n",
       "      <td>2025-09-21</td>\n",
       "      <td>776</td>\n",
       "      <td>224</td>\n",
       "      <td>0.288660</td>\n",
       "    </tr>\n",
       "    <tr>\n",
       "      <th>42</th>\n",
       "      <td>2025-09-22</td>\n",
       "      <td>546</td>\n",
       "      <td>169</td>\n",
       "      <td>0.309524</td>\n",
       "    </tr>\n",
       "    <tr>\n",
       "      <th>43</th>\n",
       "      <td>2025-09-23</td>\n",
       "      <td>317</td>\n",
       "      <td>92</td>\n",
       "      <td>0.290221</td>\n",
       "    </tr>\n",
       "  </tbody>\n",
       "</table>\n",
       "</div>"
      ],
      "text/plain": [
       "   session_date  total_sessions  total_good_sessions  good_session_share\n",
       "0    2025-08-11            3919                 1226            0.312835\n",
       "1    2025-08-12            6056                 1829            0.302015\n",
       "2    2025-08-13            8489                 2604            0.306750\n",
       "3    2025-08-14           10321                 3262            0.316055\n",
       "4    2025-08-15           14065                 4289            0.304941\n",
       "5    2025-08-16           12205                 3737            0.306186\n",
       "6    2025-08-17           11200                 3557            0.317589\n",
       "7    2025-08-18           10839                 3366            0.310545\n",
       "8    2025-08-19           12118                 3791            0.312840\n",
       "9    2025-08-20           13514                 4148            0.306941\n",
       "10   2025-08-21           15051                 4563            0.303169\n",
       "11   2025-08-22           17563                 5500            0.313158\n",
       "12   2025-08-23           16082                 4858            0.302077\n",
       "13   2025-08-24           13683                 4239            0.309800\n",
       "14   2025-08-25           13635                 4165            0.305464\n",
       "15   2025-08-26           13289                 4132            0.310934\n",
       "16   2025-08-27           14766                 4594            0.311120\n",
       "17   2025-08-28           15388                 4779            0.310567\n",
       "18   2025-08-29           16873                 5283            0.313104\n",
       "19   2025-08-30           14891                 4673            0.313814\n",
       "20   2025-08-31           13266                 4013            0.302503\n",
       "21   2025-09-01           12685                 3964            0.312495\n",
       "22   2025-09-02           12672                 3998            0.315499\n",
       "23   2025-09-03           12777                 3886            0.304140\n",
       "24   2025-09-04           13683                 4317            0.315501\n",
       "25   2025-09-05           15324                 4656            0.303837\n",
       "26   2025-09-06           13078                 3983            0.304557\n",
       "27   2025-09-07           12367                 3860            0.312121\n",
       "28   2025-09-08           11826                 3652            0.308811\n",
       "29   2025-09-09           11780                 3599            0.305518\n",
       "30   2025-09-10           12526                 3822            0.305125\n",
       "31   2025-09-11            8623                 2627            0.304650\n",
       "32   2025-09-12            6436                 1941            0.301585\n",
       "33   2025-09-13            5183                 1550            0.299055\n",
       "34   2025-09-14            4364                 1343            0.307745\n",
       "35   2025-09-15            3698                 1131            0.305841\n",
       "36   2025-09-16            3032                  946            0.312005\n",
       "37   2025-09-17            2548                  816            0.320251\n",
       "38   2025-09-18            1952                  571            0.292520\n",
       "39   2025-09-19            1418                  451            0.318054\n",
       "40   2025-09-20            1100                  332            0.301818\n",
       "41   2025-09-21             776                  224            0.288660\n",
       "42   2025-09-22             546                  169            0.309524\n",
       "43   2025-09-23             317                   92            0.290221"
      ]
     },
     "execution_count": 9,
     "metadata": {},
     "output_type": "execute_result"
    }
   ],
   "source": [
    "daily_good_session = sessions_history.groupby('session_date').agg(\n",
    "    total_sessions=('session_number', 'count'),\n",
    "    total_good_sessions=('good_session', 'sum')\n",
    ").reset_index()\n",
    "\n",
    "#Рассчитываем долю успешных сессий\n",
    "daily_good_session['good_session_share'] = daily_good_session['total_good_sessions'] / daily_good_session['total_sessions']\n",
    "\n",
    "daily_good_session"
   ]
  },
  {
   "cell_type": "code",
   "execution_count": 10,
   "metadata": {
    "scrolled": true
   },
   "outputs": [
    {
     "data": {
      "image/png": "[encoded data removed]",
      "text/plain": [
       "<Figure size 1440x360 with 1 Axes>"
      ]
     },
     "metadata": {
      "needs_background": "light"
     },
     "output_type": "display_data"
    }
   ],
   "source": [
    "plt.figure(figsize=(20, 5))\n",
    "plt.plot(daily_good_session['session_date'], daily_good_session['good_session_share'], marker='o')\n",
    "\n",
    "# Настройка графика\n",
    "plt.title('Средняя доля успешных сессий по дням')\n",
    "plt.xlabel('Дата')\n",
    "plt.ylabel('Доля успешных сессий')\n",
    "plt.xticks(rotation=45)  # Поворот меток по оси X для лучшей читаемости\n",
    "plt.grid()\n",
    "\n",
    "plt.show()"
   ]
  },
  {
   "cell_type": "markdown",
   "metadata": {},
   "source": [
    "Средняя доля удачных сессий меняется ото дня ко дню, также отметим понижение доли к концу сентября 2025 до 0.29, однако обратим особое внимание, что значительных колебаний тем не менее не наблюдается: значения в районе 0.3  достаточно стабильно (для наглядности изменений выбран график с приближением значений в границах колебаний, а именно от 0.290 до 0.320 - самое высокое значений 2025-09-17)."
   ]
  },
  {
   "cell_type": "markdown",
   "metadata": {
    "id": "21JcG77Y0eMt"
   },
   "source": [
    "### 2. Подготовка к тесту\n",
    "При планировании теста необходимо проделать несколько важных шагов:\n",
    "\n",
    "- Определиться с целевой метрикой.\n",
    "\n",
    "- Рассчитать необходимый размер выборки.\n",
    "\n",
    "- Исходя из текущих значений трафика, рассчитать необходимую длительность проведения теста."
   ]
  },
  {
   "cell_type": "markdown",
   "metadata": {
    "id": "uzaeln270eMt"
   },
   "source": [
    "#### 2.1. Расчёт размера выборки\n",
    "В рамках курса вам уже приходилось рассчитывать размеры выборки, используя онлайн-калькуляторы. В этом задании предлагаем воспользоваться готовым кодом и рассчитать необходимое для вашего дизайна эксперимента количество пользователей.\n",
    "\n",
    "Для этого установите в коде ниже следующие параметры:\n",
    "\n",
    "- Уровень значимости — 0.05.\n",
    "\n",
    "- Вероятность ошибки второго рода — 0.2.\n",
    "\n",
    "- Мощность теста.\n",
    "\n",
    "- Минимальный детектируемый эффект, или MDE, — 3%. Обратите внимание, что здесь нужно указать десятичную дробь, а не процент.\n",
    "\n",
    "При расчёте размера выборки мы будем использовать метод `solve_power()` из класса `power.NormalIndPower` модуля `statsmodels.stats`.\n",
    "\n",
    "Запустите ячейку и изучите полученное значение."
   ]
  },
  {
   "cell_type": "code",
   "execution_count": 11,
   "metadata": {
    "id": "zSxJyPGPNdaI"
   },
   "outputs": [
    {
     "name": "stdout",
     "output_type": "stream",
     "text": [
      "Необходимый размер выборки для каждой группы: 17441\n"
     ]
    }
   ],
   "source": [
    "from statsmodels.stats.power import NormalIndPower\n",
    "\n",
    "# Задаём параметры\n",
    "alpha = 0.05  # Уровень значимости\n",
    "beta = 0.2  # Ошибка второго рода, часто 1 - мощность\n",
    "power = 0.8  # Мощность теста\n",
    "mde = 0.03  # Минимальный детектируемый эффект\n",
    "\n",
    "# Инициализируем класс NormalIndPower\n",
    "power_analysis = NormalIndPower()\n",
    "\n",
    "# Рассчитываем размер выборки\n",
    "sample_size = power_analysis.solve_power(\n",
    "    effect_size = mde,\n",
    "    power = power,\n",
    "    alpha = alpha,\n",
    "    ratio = 1 # Равномерное распределение выборок\n",
    ")\n",
    "\n",
    "print(f\"Необходимый размер выборки для каждой группы: {int(sample_size)}\")"
   ]
  },
  {
   "cell_type": "markdown",
   "metadata": {},
   "source": [
    "Для одной группы расчет на 17441 участника, соответствеено для общего размера для двух групп предстоит его удвоить (у нас группы А и В)."
   ]
  },
  {
   "cell_type": "markdown",
   "metadata": {
    "id": "qLEv4RoV0eMu"
   },
   "source": [
    "#### 2.1. Расчёт длительности A/B-теста\n",
    "\n",
    "Используйте данные о количестве пользователей в каждой выборке и среднем количестве пользователей приложения. Рассчитайте длительность теста, разделив одно на другое.\n",
    "\n",
    "- Рассчитайте среднее количество уникальных пользователей приложения в день.\n",
    "\n",
    "- Определите длительность теста, исходя из рассчитанного значения размера выборок и среднего дневного трафика приложения. Количество дней округлите в большую сторону."
   ]
  },
  {
   "cell_type": "code",
   "execution_count": 12,
   "metadata": {
    "id": "KZDRbryDOGHa"
   },
   "outputs": [
    {
     "name": "stdout",
     "output_type": "stream",
     "text": [
      "Рассчитанная длительность A/B-теста при текущем уровене трафика в 9907.36 пользователей в день составит 4 дней\n"
     ]
    }
   ],
   "source": [
    "daily_users=sessions_history.groupby('session_date')['user_id'].nunique()\n",
    "# Среднее количество пользователей приложения в день по историческим данным\n",
    "avg_daily_users = round(sum(daily_users) / len(daily_users),2)\n",
    "total_sample_size=2*sample_size\n",
    "# Рассчитываем длительность теста в днях как отношение размера выборки к среднему числу пользователей\n",
    "test_duration = ceil(total_sample_size / avg_daily_users)\n",
    "\n",
    "print(f\"Рассчитанная длительность A/B-теста при текущем уровене трафика в {avg_daily_users} пользователей в день составит {test_duration} дней\")"
   ]
  },
  {
   "cell_type": "markdown",
   "metadata": {},
   "source": [
    "Итак, длительность теста составит 4 дня."
   ]
  },
  {
   "cell_type": "markdown",
   "metadata": {},
   "source": [
    "4 дня - это допустимый минимальный срок, однако для повышения надёжности результатов теста желательно провести его дольше — например, на 7 или даже 14 дней, чтобы сгладить возможные колебания в поведении пользователей по дням недели и собрать больше данных для анализа.    \n",
    "    \n",
    "Так же следует учитывать, что в последние дни было снижение активности пользователей, поэтому среднее за весь период не будет однозначно характеризовать размер активной аудитории.    \n"
   ]
  },
  {
   "cell_type": "markdown",
   "metadata": {
    "id": "ZuvtAdha0eMv"
   },
   "source": [
    "### 3. Мониторинг А/В-теста"
   ]
  },
  {
   "cell_type": "markdown",
   "metadata": {
    "id": "jq5sE3Ya0eMv"
   },
   "source": [
    "#### 3.1. Проверка распределения пользователей\n",
    "\n",
    "A/B-тест успешно запущен, и уже доступны данные за первые три дня. На этом этапе нужно убедиться, что всё идёт хорошо: пользователи разделены правильным образом, а интересующие вас метрики корректно считаются.\n",
    "\n",
    "- Считайте и сохраните в датафрейм `sessions_test_part` CSV-файл с историческими данными о сессиях пользователей `sessions_project_test_part.csv`.\n",
    "\n",
    "- Рассчитайте количество уникальных пользователей в каждой из экспериментальных групп для одного дня наблюдения.\n",
    "\n",
    "- Рассчитайте и выведите на экран процентную разницу в количестве пользователей в группах A и B. Постройте любую удобную визуализацию, на которой можно было бы увидеть возможное различие двух групп.\n",
    "\n",
    "Для расчёта процентной разницы воспользуйтесь формулой:\n",
    "$$P = 100 \\cdot  \\frac{|A − B|}{A}$$"
   ]
  },
  {
   "cell_type": "code",
   "execution_count": 13,
   "metadata": {
    "id": "G1bqIzDJOUiz",
    "scrolled": true
   },
   "outputs": [
    {
     "data": {
      "text/html": [
       "<div>\n",
       "<style scoped>\n",
       "    .dataframe tbody tr th:only-of-type {\n",
       "        vertical-align: middle;\n",
       "    }\n",
       "\n",
       "    .dataframe tbody tr th {\n",
       "        vertical-align: top;\n",
       "    }\n",
       "\n",
       "    .dataframe thead th {\n",
       "        text-align: right;\n",
       "    }\n",
       "</style>\n",
       "<table border=\"1\" class=\"dataframe\">\n",
       "  <thead>\n",
       "    <tr style=\"text-align: right;\">\n",
       "      <th></th>\n",
       "      <th>user_id</th>\n",
       "      <th>session_id</th>\n",
       "      <th>session_date</th>\n",
       "      <th>session_start_ts</th>\n",
       "      <th>install_date</th>\n",
       "      <th>session_number</th>\n",
       "      <th>registration_flag</th>\n",
       "      <th>page_counter</th>\n",
       "      <th>region</th>\n",
       "      <th>device</th>\n",
       "      <th>test_group</th>\n",
       "    </tr>\n",
       "  </thead>\n",
       "  <tbody>\n",
       "    <tr>\n",
       "      <th>0</th>\n",
       "      <td>3404844B53442747</td>\n",
       "      <td>B4901323BD537E45</td>\n",
       "      <td>2025-10-14</td>\n",
       "      <td>2025-10-14 19:28:49</td>\n",
       "      <td>2025-10-14</td>\n",
       "      <td>1</td>\n",
       "      <td>0</td>\n",
       "      <td>3</td>\n",
       "      <td>CIS</td>\n",
       "      <td>Android</td>\n",
       "      <td>B</td>\n",
       "    </tr>\n",
       "    <tr>\n",
       "      <th>1</th>\n",
       "      <td>3A2BF4D364E62D89</td>\n",
       "      <td>216FC619308F8788</td>\n",
       "      <td>2025-10-14</td>\n",
       "      <td>2025-10-14 21:11:04</td>\n",
       "      <td>2025-10-14</td>\n",
       "      <td>1</td>\n",
       "      <td>0</td>\n",
       "      <td>3</td>\n",
       "      <td>MENA</td>\n",
       "      <td>iPhone</td>\n",
       "      <td>A</td>\n",
       "    </tr>\n",
       "    <tr>\n",
       "      <th>2</th>\n",
       "      <td>79CDAE11E32B1597</td>\n",
       "      <td>EDFCE4AC1A504074</td>\n",
       "      <td>2025-10-14</td>\n",
       "      <td>2025-10-14 21:44:03</td>\n",
       "      <td>2025-10-14</td>\n",
       "      <td>1</td>\n",
       "      <td>0</td>\n",
       "      <td>3</td>\n",
       "      <td>CIS</td>\n",
       "      <td>iPhone</td>\n",
       "      <td>A</td>\n",
       "    </tr>\n",
       "    <tr>\n",
       "      <th>3</th>\n",
       "      <td>D6AF8D78297A931F</td>\n",
       "      <td>CF0AC0EEDE92C690</td>\n",
       "      <td>2025-10-14</td>\n",
       "      <td>2025-10-14 19:07:55</td>\n",
       "      <td>2025-10-14</td>\n",
       "      <td>1</td>\n",
       "      <td>0</td>\n",
       "      <td>4</td>\n",
       "      <td>CIS</td>\n",
       "      <td>PC</td>\n",
       "      <td>A</td>\n",
       "    </tr>\n",
       "    <tr>\n",
       "      <th>4</th>\n",
       "      <td>37E0CE723AE568E0</td>\n",
       "      <td>2E6ED45E8C86C4E9</td>\n",
       "      <td>2025-10-14</td>\n",
       "      <td>2025-10-14 15:39:44</td>\n",
       "      <td>2025-10-14</td>\n",
       "      <td>1</td>\n",
       "      <td>0</td>\n",
       "      <td>3</td>\n",
       "      <td>CIS</td>\n",
       "      <td>Mac</td>\n",
       "      <td>B</td>\n",
       "    </tr>\n",
       "  </tbody>\n",
       "</table>\n",
       "</div>"
      ],
      "text/plain": [
       "            user_id        session_id session_date     session_start_ts  \\\n",
       "0  3404844B53442747  B4901323BD537E45   2025-10-14  2025-10-14 19:28:49   \n",
       "1  3A2BF4D364E62D89  216FC619308F8788   2025-10-14  2025-10-14 21:11:04   \n",
       "2  79CDAE11E32B1597  EDFCE4AC1A504074   2025-10-14  2025-10-14 21:44:03   \n",
       "3  D6AF8D78297A931F  CF0AC0EEDE92C690   2025-10-14  2025-10-14 19:07:55   \n",
       "4  37E0CE723AE568E0  2E6ED45E8C86C4E9   2025-10-14  2025-10-14 15:39:44   \n",
       "\n",
       "  install_date  session_number  registration_flag  page_counter region  \\\n",
       "0   2025-10-14               1                  0             3    CIS   \n",
       "1   2025-10-14               1                  0             3   MENA   \n",
       "2   2025-10-14               1                  0             3    CIS   \n",
       "3   2025-10-14               1                  0             4    CIS   \n",
       "4   2025-10-14               1                  0             3    CIS   \n",
       "\n",
       "    device test_group  \n",
       "0  Android          B  \n",
       "1   iPhone          A  \n",
       "2   iPhone          A  \n",
       "3       PC          A  \n",
       "4      Mac          B  "
      ]
     },
     "execution_count": 13,
     "metadata": {},
     "output_type": "execute_result"
    }
   ],
   "source": [
    "sessions_test_part=pd.read_csv('https://code.s3.yandex.net/datasets/sessions_project_test_part.csv')\n",
    "sessions_test_part.head()"
   ]
  },
  {
   "cell_type": "code",
   "execution_count": 14,
   "metadata": {
    "scrolled": true
   },
   "outputs": [
    {
     "data": {
      "text/html": [
       "<div>\n",
       "<style scoped>\n",
       "    .dataframe tbody tr th:only-of-type {\n",
       "        vertical-align: middle;\n",
       "    }\n",
       "\n",
       "    .dataframe tbody tr th {\n",
       "        vertical-align: top;\n",
       "    }\n",
       "\n",
       "    .dataframe thead th {\n",
       "        text-align: right;\n",
       "    }\n",
       "</style>\n",
       "<table border=\"1\" class=\"dataframe\">\n",
       "  <thead>\n",
       "    <tr style=\"text-align: right;\">\n",
       "      <th></th>\n",
       "      <th>test_group</th>\n",
       "      <th>user_id</th>\n",
       "    </tr>\n",
       "  </thead>\n",
       "  <tbody>\n",
       "    <tr>\n",
       "      <th>0</th>\n",
       "      <td>A</td>\n",
       "      <td>1477</td>\n",
       "    </tr>\n",
       "    <tr>\n",
       "      <th>1</th>\n",
       "      <td>B</td>\n",
       "      <td>1466</td>\n",
       "    </tr>\n",
       "  </tbody>\n",
       "</table>\n",
       "</div>"
      ],
      "text/plain": [
       "  test_group  user_id\n",
       "0          A     1477\n",
       "1          B     1466"
      ]
     },
     "execution_count": 14,
     "metadata": {},
     "output_type": "execute_result"
    }
   ],
   "source": [
    "test_group_users=sessions_test_part.groupby('test_group')['user_id'].nunique().reset_index()\n",
    "test_group_users"
   ]
  },
  {
   "cell_type": "code",
   "execution_count": 15,
   "metadata": {},
   "outputs": [
    {
     "name": "stdout",
     "output_type": "stream",
     "text": [
      "Разница между группами A и B: 0.74%\n"
     ]
    }
   ],
   "source": [
    "group_A = test_group_users[test_group_users['test_group'] == 'A']\n",
    "group_B = test_group_users[test_group_users['test_group'] == 'B']\n",
    "# Вычисляем разницу\n",
    "test_group_users_difference = 100 * (group_A['user_id'].mean() - group_B['user_id'].mean()) / group_A['user_id'].mean()\n",
    "\n",
    "print(f\"Разница между группами A и B: {test_group_users_difference:.2f}%\")"
   ]
  },
  {
   "cell_type": "code",
   "execution_count": 16,
   "metadata": {},
   "outputs": [
    {
     "data": {
      "text/plain": [
       "Text(0, 0.5, '')"
      ]
     },
     "execution_count": 16,
     "metadata": {},
     "output_type": "execute_result"
    },
    {
     "data": {
      "image/png": "[encoded data removed]",
      "text/plain": [
       "<Figure size 432x288 with 1 Axes>"
      ]
     },
     "metadata": {},
     "output_type": "display_data"
    }
   ],
   "source": [
    "# Строим круговую диаграмму\n",
    "test_group_users['user_id'].plot(\n",
    "    kind='pie',  # Тип графика — круговая диаграмма\n",
    "    autopct='%1.1f%%',  # Формат отображения процентов\n",
    "    startangle=90,  # Начальный угол\n",
    "    colors=['blue', 'orange'],  # Цвета секторов\n",
    "    legend=False,  # Выключаем легенду\n",
    "    labels=['Группа A','Группа B'])\n",
    "\n",
    "# Настраиваем оформление графика\n",
    "plt.title('Разница по количеству пользователей между группами A и B')\n",
    "plt.ylabel('') "
   ]
  },
  {
   "cell_type": "markdown",
   "metadata": {},
   "source": [
    "Проверка распределения пользователей важна по нескольким причинам:\n",
    "    \n",
    "    \n",
    "- Правильность разделения пользователей: Чтобы результат A/B-теста был корректным, важно убедиться, что группы A и B были случайным образом разделены, а не случайным образом или по какому-либо смещённому принципу. Если группы не были равномерно разделены, это может привести к ошибочным выводам, так как различия в поведении пользователей могут быть вызваны не тестируемым фактором, а изначальной неоднородностью групп.\n",
    "- Корректность расчёта метрик: Мы проверяем, что метрики, такие как количество уникальных пользователей, корректно считаются для каждой из групп. Это важно, потому что любые ошибки в учёте пользователей могут исказить результаты теста и привести к неверным выводам о влиянии изменений на поведение пользователей.\n",
    "- Обнаружение аномалий: Если процентная разница в количестве пользователей между группами слишком велика, это может свидетельствовать о проблемах с разделением пользователей, таких как технические ошибки или неправильное распределение. Проверка позволяет выявить такие аномалии на ранних стадиях теста и скорректировать процесс.\n",
    "- Убедительность результатов: Важно, чтобы тест был честным и справедливым. Если группа A имеет значительное преимущество по численности, то результаты могут быть искажены. Это проверка помогает удостовериться, что эксперимент был проведён корректно, и что его результаты можно использовать для объективных выводов.\n"
   ]
  },
  {
   "cell_type": "markdown",
   "metadata": {
    "id": "sgpNY5bv0eM0"
   },
   "source": [
    "#### 3.2. Проверка пересечений пользователей\n",
    "Помимо проверки равенства количества пользователей в группах полезно убедиться в том, что группы независимы. Для этого нужно убедиться, что никто из пользователей случайно не попал в обе группы одновременно.\n",
    "\n",
    "- Рассчитайте количество пользователей, которые встречаются одновременно в группах A и B, или убедитесь, что таких нет."
   ]
  },
  {
   "cell_type": "code",
   "execution_count": 17,
   "metadata": {
    "id": "E72ozN9FOX1u",
    "scrolled": true
   },
   "outputs": [
    {
     "data": {
      "text/plain": [
       "0"
      ]
     },
     "execution_count": 17,
     "metadata": {},
     "output_type": "execute_result"
    }
   ],
   "source": [
    "# используем метод set() для создания множеств пользователей в группах A и B.\n",
    "users_A = set(sessions_test_part[sessions_test_part['test_group'] == 'A']['user_id'])\n",
    "users_B = set(sessions_test_part[sessions_test_part['test_group'] == 'B']['user_id'])\n",
    "\n",
    "# находим пересечение пользователей с помощью intersection\n",
    "usersA_B= users_A.intersection(users_B)\n",
    "\n",
    "# Количество пользователей, которые находятся в обеих группах\n",
    "num_usersA_B = len(usersA_B)\n",
    "num_usersA_B"
   ]
  },
  {
   "cell_type": "markdown",
   "metadata": {},
   "source": [
    "Убедились, что никто из пользователей случайно не попал в обе группы одновременно, совпадений 0."
   ]
  },
  {
   "cell_type": "markdown",
   "metadata": {},
   "source": [
    "Альтернативный способ — использовать группировку, что может быть полезно при работе с большими данными:\n",
    "\n",
    "```py\n",
    "sessions_test_part.groupby('user_id').agg({'test_group': 'nunique'}).query('test_group > 1')\n",
    "```\n",
    "\n",
    "Этот метод позволяет сразу отфильтровать пользователей, которые встречаются в обеих группах."
   ]
  },
  {
   "cell_type": "markdown",
   "metadata": {
    "id": "6RvkNLrg0eM1"
   },
   "source": [
    "#### 3.3. Равномерность разделения пользователей по устройствам\n",
    "Полезно также убедиться в том, что пользователи равномерно распределены по всем доступным категориальным переменным — типам устройства и регионам.\n",
    "\n",
    "Постройте две диаграммы:\n",
    "\n",
    "- доля каждого типа устройства для пользователей из группы A,\n",
    "\n",
    "- доля каждого типа устройства для пользователей из группы B.\n",
    "\n",
    "Постарайтесь добавить на диаграммы все необходимые подписи, пояснения и заголовки, которые позволят сделать вывод о том, совпадает ли распределение устройств в группах A и B.\n"
   ]
  },
  {
   "cell_type": "code",
   "execution_count": 18,
   "metadata": {
    "id": "x_IP6PUNPWHC",
    "scrolled": true
   },
   "outputs": [
    {
     "data": {
      "text/html": [
       "<div>\n",
       "<style scoped>\n",
       "    .dataframe tbody tr th:only-of-type {\n",
       "        vertical-align: middle;\n",
       "    }\n",
       "\n",
       "    .dataframe tbody tr th {\n",
       "        vertical-align: top;\n",
       "    }\n",
       "\n",
       "    .dataframe thead th {\n",
       "        text-align: right;\n",
       "    }\n",
       "</style>\n",
       "<table border=\"1\" class=\"dataframe\">\n",
       "  <thead>\n",
       "    <tr style=\"text-align: right;\">\n",
       "      <th></th>\n",
       "      <th>device</th>\n",
       "      <th>test_group</th>\n",
       "      <th>user_id</th>\n",
       "    </tr>\n",
       "  </thead>\n",
       "  <tbody>\n",
       "    <tr>\n",
       "      <th>0</th>\n",
       "      <td>Android</td>\n",
       "      <td>A</td>\n",
       "      <td>656</td>\n",
       "    </tr>\n",
       "    <tr>\n",
       "      <th>1</th>\n",
       "      <td>Android</td>\n",
       "      <td>B</td>\n",
       "      <td>668</td>\n",
       "    </tr>\n",
       "    <tr>\n",
       "      <th>2</th>\n",
       "      <td>Mac</td>\n",
       "      <td>A</td>\n",
       "      <td>156</td>\n",
       "    </tr>\n",
       "    <tr>\n",
       "      <th>3</th>\n",
       "      <td>Mac</td>\n",
       "      <td>B</td>\n",
       "      <td>148</td>\n",
       "    </tr>\n",
       "    <tr>\n",
       "      <th>4</th>\n",
       "      <td>PC</td>\n",
       "      <td>A</td>\n",
       "      <td>369</td>\n",
       "    </tr>\n",
       "    <tr>\n",
       "      <th>5</th>\n",
       "      <td>PC</td>\n",
       "      <td>B</td>\n",
       "      <td>381</td>\n",
       "    </tr>\n",
       "    <tr>\n",
       "      <th>6</th>\n",
       "      <td>iPhone</td>\n",
       "      <td>A</td>\n",
       "      <td>296</td>\n",
       "    </tr>\n",
       "    <tr>\n",
       "      <th>7</th>\n",
       "      <td>iPhone</td>\n",
       "      <td>B</td>\n",
       "      <td>269</td>\n",
       "    </tr>\n",
       "  </tbody>\n",
       "</table>\n",
       "</div>"
      ],
      "text/plain": [
       "    device test_group  user_id\n",
       "0  Android          A      656\n",
       "1  Android          B      668\n",
       "2      Mac          A      156\n",
       "3      Mac          B      148\n",
       "4       PC          A      369\n",
       "5       PC          B      381\n",
       "6   iPhone          A      296\n",
       "7   iPhone          B      269"
      ]
     },
     "execution_count": 18,
     "metadata": {},
     "output_type": "execute_result"
    }
   ],
   "source": [
    "# распределение по типу устройства\n",
    "grouped_device=sessions_test_part.groupby(['device','test_group']).agg({'user_id': 'nunique'}).reset_index()\n",
    "grouped_device\n"
   ]
  },
  {
   "cell_type": "code",
   "execution_count": 19,
   "metadata": {},
   "outputs": [
    {
     "data": {
      "text/plain": [
       "(Mac        0.25\n",
       " iPhone     0.25\n",
       " PC         0.25\n",
       " Android    0.25\n",
       " Name: device, dtype: float64,\n",
       " Mac        0.25\n",
       " iPhone     0.25\n",
       " PC         0.25\n",
       " Android    0.25\n",
       " Name: device, dtype: float64)"
      ]
     },
     "execution_count": 19,
     "metadata": {},
     "output_type": "execute_result"
    }
   ],
   "source": [
    "device_counts_A = grouped_device[grouped_device['test_group'] == 'A']['device'].value_counts(normalize=True)\n",
    "device_counts_B = grouped_device[grouped_device['test_group'] == 'B']['device'].value_counts(normalize=True)\n",
    "device_counts_A, device_counts_B"
   ]
  },
  {
   "cell_type": "code",
   "execution_count": 20,
   "metadata": {
    "scrolled": true
   },
   "outputs": [
    {
     "data": {
      "text/plain": [
       "Text(0, 0.5, '')"
      ]
     },
     "execution_count": 20,
     "metadata": {},
     "output_type": "execute_result"
    },
    {
     "data": {
      "image/png": "[encoded data removed]",
      "text/plain": [
       "<Figure size 432x288 with 1 Axes>"
      ]
     },
     "metadata": {},
     "output_type": "display_data"
    }
   ],
   "source": [
    "device_counts_A.plot(kind='pie',  # Тип графика — круговая диаграмма\n",
    "    autopct='%1.1f%%',  # Формат отображения процентов\n",
    "    startangle=90,  # Начальный угол\n",
    "        legend=False,  # Выключаем легенду\n",
    "    labels=['Android', 'PC', 'iPhone', 'Mac'])\n",
    "\n",
    "plt.title('Распределение по типу устройства в группе А')\n",
    "plt.ylabel('') \n",
    "\n"
   ]
  },
  {
   "cell_type": "code",
   "execution_count": 21,
   "metadata": {},
   "outputs": [
    {
     "data": {
      "text/plain": [
       "Text(0, 0.5, '')"
      ]
     },
     "execution_count": 21,
     "metadata": {},
     "output_type": "execute_result"
    },
    {
     "data": {
      "image/png": "[encoded data removed]",
      "text/plain": [
       "<Figure size 432x288 with 1 Axes>"
      ]
     },
     "metadata": {},
     "output_type": "display_data"
    }
   ],
   "source": [
    "device_counts_B.plot(kind='pie',  # Тип графика — круговая диаграмма\n",
    "    autopct='%1.1f%%',  # Формат отображения процентов\n",
    "    startangle=90,  # Начальный угол\n",
    "        legend=False,  # Выключаем легенду\n",
    "    labels=['Android', 'PC', 'iPhone', 'Mac'])\n",
    "\n",
    "# Настраиваем оформление графика\n",
    "plt.title('Распределение по типу устройства в группе B')\n",
    "plt.ylabel('') "
   ]
  },
  {
   "cell_type": "markdown",
   "metadata": {},
   "source": [
    "Построив 2 круговые диаграммы по распределению по типам устройств, видим в обеих равномерное распределение по устройствам: по 25%. "
   ]
  },
  {
   "cell_type": "markdown",
   "metadata": {
    "id": "gAgmP6vo0eM1"
   },
   "source": [
    "#### 3.4. Равномерность распределения пользователей по регионам\n",
    "Теперь убедитесь, что пользователи равномерно распределены по регионам.\n",
    "\n",
    "Постройте две диаграммы:\n",
    "\n",
    "- доля каждого региона для пользователей из группы A,\n",
    "\n",
    "- доля каждого региона для пользователей из группы B.\n",
    "\n",
    "Постарайтесь добавить на диаграммы все необходимые подписи, пояснения и заголовки, которые позволят сделать вывод о том, совпадает ли распределение регионов в группах A и B. Постарайтесь использовать другой тип диаграммы, не тот, что в прошлом задании.\n"
   ]
  },
  {
   "cell_type": "code",
   "execution_count": 22,
   "metadata": {},
   "outputs": [
    {
     "data": {
      "text/html": [
       "<div>\n",
       "<style scoped>\n",
       "    .dataframe tbody tr th:only-of-type {\n",
       "        vertical-align: middle;\n",
       "    }\n",
       "\n",
       "    .dataframe tbody tr th {\n",
       "        vertical-align: top;\n",
       "    }\n",
       "\n",
       "    .dataframe thead th {\n",
       "        text-align: right;\n",
       "    }\n",
       "</style>\n",
       "<table border=\"1\" class=\"dataframe\">\n",
       "  <thead>\n",
       "    <tr style=\"text-align: right;\">\n",
       "      <th></th>\n",
       "      <th>region</th>\n",
       "      <th>test_group</th>\n",
       "      <th>user_id</th>\n",
       "    </tr>\n",
       "  </thead>\n",
       "  <tbody>\n",
       "    <tr>\n",
       "      <th>0</th>\n",
       "      <td>CIS</td>\n",
       "      <td>A</td>\n",
       "      <td>644</td>\n",
       "    </tr>\n",
       "    <tr>\n",
       "      <th>1</th>\n",
       "      <td>CIS</td>\n",
       "      <td>B</td>\n",
       "      <td>645</td>\n",
       "    </tr>\n",
       "    <tr>\n",
       "      <th>2</th>\n",
       "      <td>EU</td>\n",
       "      <td>A</td>\n",
       "      <td>224</td>\n",
       "    </tr>\n",
       "    <tr>\n",
       "      <th>3</th>\n",
       "      <td>EU</td>\n",
       "      <td>B</td>\n",
       "      <td>217</td>\n",
       "    </tr>\n",
       "    <tr>\n",
       "      <th>4</th>\n",
       "      <td>MENA</td>\n",
       "      <td>A</td>\n",
       "      <td>609</td>\n",
       "    </tr>\n",
       "    <tr>\n",
       "      <th>5</th>\n",
       "      <td>MENA</td>\n",
       "      <td>B</td>\n",
       "      <td>604</td>\n",
       "    </tr>\n",
       "  </tbody>\n",
       "</table>\n",
       "</div>"
      ],
      "text/plain": [
       "  region test_group  user_id\n",
       "0    CIS          A      644\n",
       "1    CIS          B      645\n",
       "2     EU          A      224\n",
       "3     EU          B      217\n",
       "4   MENA          A      609\n",
       "5   MENA          B      604"
      ]
     },
     "execution_count": 22,
     "metadata": {},
     "output_type": "execute_result"
    }
   ],
   "source": [
    "# распределение по региону\n",
    "grouped_region=sessions_test_part.groupby(['region','test_group']).agg({'user_id': 'nunique'}).reset_index()\n",
    "grouped_region"
   ]
  },
  {
   "cell_type": "code",
   "execution_count": 23,
   "metadata": {
    "id": "3hAq-FG4OdYM",
    "scrolled": true
   },
   "outputs": [
    {
     "data": {
      "text/html": [
       "<div>\n",
       "<style scoped>\n",
       "    .dataframe tbody tr th:only-of-type {\n",
       "        vertical-align: middle;\n",
       "    }\n",
       "\n",
       "    .dataframe tbody tr th {\n",
       "        vertical-align: top;\n",
       "    }\n",
       "\n",
       "    .dataframe thead th {\n",
       "        text-align: right;\n",
       "    }\n",
       "</style>\n",
       "<table border=\"1\" class=\"dataframe\">\n",
       "  <thead>\n",
       "    <tr style=\"text-align: right;\">\n",
       "      <th></th>\n",
       "      <th>Group A</th>\n",
       "      <th>Group B</th>\n",
       "    </tr>\n",
       "  </thead>\n",
       "  <tbody>\n",
       "    <tr>\n",
       "      <th>MENA</th>\n",
       "      <td>0.333333</td>\n",
       "      <td>0.333333</td>\n",
       "    </tr>\n",
       "    <tr>\n",
       "      <th>CIS</th>\n",
       "      <td>0.333333</td>\n",
       "      <td>0.333333</td>\n",
       "    </tr>\n",
       "    <tr>\n",
       "      <th>EU</th>\n",
       "      <td>0.333333</td>\n",
       "      <td>0.333333</td>\n",
       "    </tr>\n",
       "  </tbody>\n",
       "</table>\n",
       "</div>"
      ],
      "text/plain": [
       "       Group A   Group B\n",
       "MENA  0.333333  0.333333\n",
       "CIS   0.333333  0.333333\n",
       "EU    0.333333  0.333333"
      ]
     },
     "execution_count": 23,
     "metadata": {},
     "output_type": "execute_result"
    }
   ],
   "source": [
    "region_counts_A = grouped_region[grouped_region['test_group'] == 'A']['region'].value_counts(normalize=True)\n",
    "region_counts_B = grouped_region[grouped_region['test_group'] == 'B']['region'].value_counts(normalize=True)\n",
    "region_counts = pd.DataFrame({\n",
    "    'Group A': region_counts_A,\n",
    "    'Group B': region_counts_B})\n",
    "region_counts\n"
   ]
  },
  {
   "cell_type": "code",
   "execution_count": 24,
   "metadata": {
    "scrolled": true
   },
   "outputs": [
    {
     "data": {
      "image/png": "[encoded data removed]",
      "text/plain": [
       "<Figure size 432x288 with 1 Axes>"
      ]
     },
     "metadata": {
      "needs_background": "light"
     },
     "output_type": "display_data"
    }
   ],
   "source": [
    "# Строим график\n",
    "region_counts.plot(kind='bar', color=['blue', 'salmon'])\n",
    "plt.title('доля каждого региона для пользователей из группы A и В')\n",
    "plt.xlabel('Регион')\n",
    "plt.ylabel('Доля пользователей')\n",
    "plt.xticks(rotation=45)\n",
    "plt.legend(title='Группы пользователей:', labels=['Группа А', 'Группа В'])\n",
    "plt.grid(axis='y')\n",
    "plt.show()"
   ]
  },
  {
   "cell_type": "markdown",
   "metadata": {},
   "source": [
    "Наглядно видим на диаграмме, что распределение  равномерное в 2 группах: eu, cis и mena  наравне в обеих группах - 0,33."
   ]
  },
  {
   "cell_type": "markdown",
   "metadata": {
    "id": "X2WSZ-sDrSUi"
   },
   "source": [
    "#### 3.5. Вывод после проверки A/B-теста\n",
    "\n",
    "На основе проведённого анализа A/B-теста сформулируем выводы: \n",
    "\n",
    "- Были ли обнаружено различие в количестве пользователей в двух группах? В группе A\t1477 пользователей, в группе B\t- 1466, Разница между группами совсем незначительная: 0.74%.\n",
    "\n",
    "\n",
    "- Являются ли выборки независимыми?\n",
    "Не было обнаружено пересечение пользователей из тестовой и контрольной групп, в связи с чем считаем выборки независимыми.\n",
    "\n",
    "\n",
    "\n",
    "- Сохраняется ли равномерное распределение пользователей тестовой и контрольной групп по категориальным переменным: устройствам и регионам?\n",
    "\n",
    "В соответствии с проведенным мониторингом были построены диаграммы, выведены доли по устройствам и регионам и наблюдается равномерное распределение пользователей.\n",
    "\n",
    "\n",
    "Можем сделать вывод о том, что А/B-тест проходит корректно."
   ]
  },
  {
   "cell_type": "markdown",
   "metadata": {
    "id": "nudRr_BQ0eM2"
   },
   "source": [
    "### 4. Проверка результатов A/B-теста\n",
    "\n",
    "A/B-тест завершён, и у вас есть результаты за все дни проведения эксперимента. Необходимо убедиться в корректности теста и верно интерпретировать результаты."
   ]
  },
  {
   "cell_type": "markdown",
   "metadata": {
    "id": "JVve-YBB0eM2"
   },
   "source": [
    "#### 4.1. Получение результатов теста и подсчёт основной метрики\n",
    "\n",
    "- Считайте и сохраните в датафрейм `sessions_test` CSV-файл с историческими данными о сессиях пользователей `sessions_project_test.csv`.\n",
    "\n",
    "- В датафрейме `sessions_test` создайте дополнительный столбец `good_session`. В него войдёт значение `1`, если за одну сессию было просмотрено 4 и более страниц, и значение `0`, если просмотрено меньше."
   ]
  },
  {
   "cell_type": "code",
   "execution_count": 25,
   "metadata": {
    "id": "EqRlwMtKPTir",
    "scrolled": true
   },
   "outputs": [
    {
     "data": {
      "text/html": [
       "<div>\n",
       "<style scoped>\n",
       "    .dataframe tbody tr th:only-of-type {\n",
       "        vertical-align: middle;\n",
       "    }\n",
       "\n",
       "    .dataframe tbody tr th {\n",
       "        vertical-align: top;\n",
       "    }\n",
       "\n",
       "    .dataframe thead th {\n",
       "        text-align: right;\n",
       "    }\n",
       "</style>\n",
       "<table border=\"1\" class=\"dataframe\">\n",
       "  <thead>\n",
       "    <tr style=\"text-align: right;\">\n",
       "      <th></th>\n",
       "      <th>user_id</th>\n",
       "      <th>session_id</th>\n",
       "      <th>session_date</th>\n",
       "      <th>session_start_ts</th>\n",
       "      <th>install_date</th>\n",
       "      <th>session_number</th>\n",
       "      <th>registration_flag</th>\n",
       "      <th>page_counter</th>\n",
       "      <th>region</th>\n",
       "      <th>device</th>\n",
       "      <th>test_group</th>\n",
       "    </tr>\n",
       "  </thead>\n",
       "  <tbody>\n",
       "    <tr>\n",
       "      <th>0</th>\n",
       "      <td>6DAE3B3654DA738E</td>\n",
       "      <td>C69249E26E58F6E2</td>\n",
       "      <td>2025-10-26</td>\n",
       "      <td>2025-10-26 18:15:05</td>\n",
       "      <td>2025-10-16</td>\n",
       "      <td>3</td>\n",
       "      <td>0</td>\n",
       "      <td>3</td>\n",
       "      <td>MENA</td>\n",
       "      <td>Android</td>\n",
       "      <td>A</td>\n",
       "    </tr>\n",
       "    <tr>\n",
       "      <th>1</th>\n",
       "      <td>0A3FE5D1DD59110A</td>\n",
       "      <td>66D66D7C9F5181B7</td>\n",
       "      <td>2025-10-21</td>\n",
       "      <td>2025-10-21 17:04:53</td>\n",
       "      <td>2025-10-15</td>\n",
       "      <td>2</td>\n",
       "      <td>1</td>\n",
       "      <td>2</td>\n",
       "      <td>CIS</td>\n",
       "      <td>Android</td>\n",
       "      <td>B</td>\n",
       "    </tr>\n",
       "    <tr>\n",
       "      <th>2</th>\n",
       "      <td>2041F1D7AA740B88</td>\n",
       "      <td>50DE51D42215E74C</td>\n",
       "      <td>2025-10-23</td>\n",
       "      <td>2025-10-23 17:39:29</td>\n",
       "      <td>2025-10-19</td>\n",
       "      <td>3</td>\n",
       "      <td>0</td>\n",
       "      <td>2</td>\n",
       "      <td>MENA</td>\n",
       "      <td>Android</td>\n",
       "      <td>A</td>\n",
       "    </tr>\n",
       "    <tr>\n",
       "      <th>3</th>\n",
       "      <td>43D7585009168086</td>\n",
       "      <td>5763C0C353C22263</td>\n",
       "      <td>2025-10-24</td>\n",
       "      <td>2025-10-24 15:01:57</td>\n",
       "      <td>2025-10-18</td>\n",
       "      <td>4</td>\n",
       "      <td>0</td>\n",
       "      <td>1</td>\n",
       "      <td>CIS</td>\n",
       "      <td>iPhone</td>\n",
       "      <td>B</td>\n",
       "    </tr>\n",
       "    <tr>\n",
       "      <th>4</th>\n",
       "      <td>15AD68B14D62D88C</td>\n",
       "      <td>B1AD09F93C1053BC</td>\n",
       "      <td>2025-10-17</td>\n",
       "      <td>2025-10-17 17:34:39</td>\n",
       "      <td>2025-10-17</td>\n",
       "      <td>1</td>\n",
       "      <td>0</td>\n",
       "      <td>2</td>\n",
       "      <td>MENA</td>\n",
       "      <td>Android</td>\n",
       "      <td>B</td>\n",
       "    </tr>\n",
       "  </tbody>\n",
       "</table>\n",
       "</div>"
      ],
      "text/plain": [
       "            user_id        session_id session_date     session_start_ts  \\\n",
       "0  6DAE3B3654DA738E  C69249E26E58F6E2   2025-10-26  2025-10-26 18:15:05   \n",
       "1  0A3FE5D1DD59110A  66D66D7C9F5181B7   2025-10-21  2025-10-21 17:04:53   \n",
       "2  2041F1D7AA740B88  50DE51D42215E74C   2025-10-23  2025-10-23 17:39:29   \n",
       "3  43D7585009168086  5763C0C353C22263   2025-10-24  2025-10-24 15:01:57   \n",
       "4  15AD68B14D62D88C  B1AD09F93C1053BC   2025-10-17  2025-10-17 17:34:39   \n",
       "\n",
       "  install_date  session_number  registration_flag  page_counter region  \\\n",
       "0   2025-10-16               3                  0             3   MENA   \n",
       "1   2025-10-15               2                  1             2    CIS   \n",
       "2   2025-10-19               3                  0             2   MENA   \n",
       "3   2025-10-18               4                  0             1    CIS   \n",
       "4   2025-10-17               1                  0             2   MENA   \n",
       "\n",
       "    device test_group  \n",
       "0  Android          A  \n",
       "1  Android          B  \n",
       "2  Android          A  \n",
       "3   iPhone          B  \n",
       "4  Android          B  "
      ]
     },
     "execution_count": 25,
     "metadata": {},
     "output_type": "execute_result"
    }
   ],
   "source": [
    "sessions_test=pd.read_csv('https://code.s3.yandex.net/datasets/sessions_project_test.csv')\n",
    "sessions_test.head()"
   ]
  },
  {
   "cell_type": "code",
   "execution_count": 26,
   "metadata": {
    "scrolled": true
   },
   "outputs": [
    {
     "data": {
      "text/html": [
       "<div>\n",
       "<style scoped>\n",
       "    .dataframe tbody tr th:only-of-type {\n",
       "        vertical-align: middle;\n",
       "    }\n",
       "\n",
       "    .dataframe tbody tr th {\n",
       "        vertical-align: top;\n",
       "    }\n",
       "\n",
       "    .dataframe thead th {\n",
       "        text-align: right;\n",
       "    }\n",
       "</style>\n",
       "<table border=\"1\" class=\"dataframe\">\n",
       "  <thead>\n",
       "    <tr style=\"text-align: right;\">\n",
       "      <th></th>\n",
       "      <th>user_id</th>\n",
       "      <th>session_id</th>\n",
       "      <th>session_date</th>\n",
       "      <th>session_start_ts</th>\n",
       "      <th>install_date</th>\n",
       "      <th>session_number</th>\n",
       "      <th>registration_flag</th>\n",
       "      <th>page_counter</th>\n",
       "      <th>region</th>\n",
       "      <th>device</th>\n",
       "      <th>test_group</th>\n",
       "      <th>good_session</th>\n",
       "    </tr>\n",
       "  </thead>\n",
       "  <tbody>\n",
       "    <tr>\n",
       "      <th>0</th>\n",
       "      <td>6DAE3B3654DA738E</td>\n",
       "      <td>C69249E26E58F6E2</td>\n",
       "      <td>2025-10-26</td>\n",
       "      <td>2025-10-26 18:15:05</td>\n",
       "      <td>2025-10-16</td>\n",
       "      <td>3</td>\n",
       "      <td>0</td>\n",
       "      <td>3</td>\n",
       "      <td>MENA</td>\n",
       "      <td>Android</td>\n",
       "      <td>A</td>\n",
       "      <td>0</td>\n",
       "    </tr>\n",
       "    <tr>\n",
       "      <th>1</th>\n",
       "      <td>0A3FE5D1DD59110A</td>\n",
       "      <td>66D66D7C9F5181B7</td>\n",
       "      <td>2025-10-21</td>\n",
       "      <td>2025-10-21 17:04:53</td>\n",
       "      <td>2025-10-15</td>\n",
       "      <td>2</td>\n",
       "      <td>1</td>\n",
       "      <td>2</td>\n",
       "      <td>CIS</td>\n",
       "      <td>Android</td>\n",
       "      <td>B</td>\n",
       "      <td>0</td>\n",
       "    </tr>\n",
       "    <tr>\n",
       "      <th>2</th>\n",
       "      <td>2041F1D7AA740B88</td>\n",
       "      <td>50DE51D42215E74C</td>\n",
       "      <td>2025-10-23</td>\n",
       "      <td>2025-10-23 17:39:29</td>\n",
       "      <td>2025-10-19</td>\n",
       "      <td>3</td>\n",
       "      <td>0</td>\n",
       "      <td>2</td>\n",
       "      <td>MENA</td>\n",
       "      <td>Android</td>\n",
       "      <td>A</td>\n",
       "      <td>0</td>\n",
       "    </tr>\n",
       "    <tr>\n",
       "      <th>3</th>\n",
       "      <td>43D7585009168086</td>\n",
       "      <td>5763C0C353C22263</td>\n",
       "      <td>2025-10-24</td>\n",
       "      <td>2025-10-24 15:01:57</td>\n",
       "      <td>2025-10-18</td>\n",
       "      <td>4</td>\n",
       "      <td>0</td>\n",
       "      <td>1</td>\n",
       "      <td>CIS</td>\n",
       "      <td>iPhone</td>\n",
       "      <td>B</td>\n",
       "      <td>0</td>\n",
       "    </tr>\n",
       "    <tr>\n",
       "      <th>4</th>\n",
       "      <td>15AD68B14D62D88C</td>\n",
       "      <td>B1AD09F93C1053BC</td>\n",
       "      <td>2025-10-17</td>\n",
       "      <td>2025-10-17 17:34:39</td>\n",
       "      <td>2025-10-17</td>\n",
       "      <td>1</td>\n",
       "      <td>0</td>\n",
       "      <td>2</td>\n",
       "      <td>MENA</td>\n",
       "      <td>Android</td>\n",
       "      <td>B</td>\n",
       "      <td>0</td>\n",
       "    </tr>\n",
       "    <tr>\n",
       "      <th>5</th>\n",
       "      <td>31F7A42B32103403</td>\n",
       "      <td>E9B64B779C3348ED</td>\n",
       "      <td>2025-10-20</td>\n",
       "      <td>2025-10-20 17:09:41</td>\n",
       "      <td>2025-10-19</td>\n",
       "      <td>2</td>\n",
       "      <td>0</td>\n",
       "      <td>2</td>\n",
       "      <td>CIS</td>\n",
       "      <td>PC</td>\n",
       "      <td>B</td>\n",
       "      <td>0</td>\n",
       "    </tr>\n",
       "    <tr>\n",
       "      <th>6</th>\n",
       "      <td>87C09E3E3B334959</td>\n",
       "      <td>FECFF83C13DC9364</td>\n",
       "      <td>2025-10-22</td>\n",
       "      <td>2025-10-22 23:51:42</td>\n",
       "      <td>2025-10-20</td>\n",
       "      <td>3</td>\n",
       "      <td>0</td>\n",
       "      <td>4</td>\n",
       "      <td>CIS</td>\n",
       "      <td>iPhone</td>\n",
       "      <td>B</td>\n",
       "      <td>1</td>\n",
       "    </tr>\n",
       "  </tbody>\n",
       "</table>\n",
       "</div>"
      ],
      "text/plain": [
       "            user_id        session_id session_date     session_start_ts  \\\n",
       "0  6DAE3B3654DA738E  C69249E26E58F6E2   2025-10-26  2025-10-26 18:15:05   \n",
       "1  0A3FE5D1DD59110A  66D66D7C9F5181B7   2025-10-21  2025-10-21 17:04:53   \n",
       "2  2041F1D7AA740B88  50DE51D42215E74C   2025-10-23  2025-10-23 17:39:29   \n",
       "3  43D7585009168086  5763C0C353C22263   2025-10-24  2025-10-24 15:01:57   \n",
       "4  15AD68B14D62D88C  B1AD09F93C1053BC   2025-10-17  2025-10-17 17:34:39   \n",
       "5  31F7A42B32103403  E9B64B779C3348ED   2025-10-20  2025-10-20 17:09:41   \n",
       "6  87C09E3E3B334959  FECFF83C13DC9364   2025-10-22  2025-10-22 23:51:42   \n",
       "\n",
       "  install_date  session_number  registration_flag  page_counter region  \\\n",
       "0   2025-10-16               3                  0             3   MENA   \n",
       "1   2025-10-15               2                  1             2    CIS   \n",
       "2   2025-10-19               3                  0             2   MENA   \n",
       "3   2025-10-18               4                  0             1    CIS   \n",
       "4   2025-10-17               1                  0             2   MENA   \n",
       "5   2025-10-19               2                  0             2    CIS   \n",
       "6   2025-10-20               3                  0             4    CIS   \n",
       "\n",
       "    device test_group  good_session  \n",
       "0  Android          A             0  \n",
       "1  Android          B             0  \n",
       "2  Android          A             0  \n",
       "3   iPhone          B             0  \n",
       "4  Android          B             0  \n",
       "5       PC          B             0  \n",
       "6   iPhone          B             1  "
      ]
     },
     "execution_count": 26,
     "metadata": {},
     "output_type": "execute_result"
    }
   ],
   "source": [
    "sessions_test['good_session']=(sessions_test['page_counter'] >= 4).astype(int)\n",
    "sessions_test.head(7)"
   ]
  },
  {
   "cell_type": "markdown",
   "metadata": {},
   "source": [
    "Датафрейм загружен, новый столбец корректно сформирован.\n"
   ]
  },
  {
   "cell_type": "markdown",
   "metadata": {
    "id": "aeYhrMYy0eM2"
   },
   "source": [
    "#### 4.2. Проверка корректности результатов теста\n",
    "\n",
    "Прежде чем приступать к анализу ключевых продуктовых метрик, необходимо убедиться, что тест проведён корректно и вы будете сравнивать две сопоставимые группы.\n",
    "\n",
    "- Рассчитайте количество уникальных сессий для каждого дня и обеих тестовых групп, используя группировку.\n",
    "\n",
    "- Проверьте, что количество уникальных дневных сессий в двух выборках не различается или различия не статистически значимы. Используйте статистический тест, который позволит сделать вывод о равенстве средних двух выборок.\n",
    "\n",
    "- В качестве ответа выведите на экран полученное значение p-value и интерпретируйте его."
   ]
  },
  {
   "cell_type": "markdown",
   "metadata": {},
   "source": [
    "Сформулирем нулевую гипотезу:  количество уникальных дневных сессий в двух выборках не различается или различия не статистически значимы. \n",
    "Альтернативной гипотезой будет наличие статистически значимых различий, то есть по количеству уникальных дневных сессий больше будет либо в группе А, чем в группе В, либо в группе В больше, чем в А, то есть alternative='two-sided'.\n",
    "\n",
    "Будем использовать stats.ttest_ind() для проведения t-теста для независимых выборок.  (установка параметра equal_var=False может позволить не считать равными вариации выборок, однако результат теста при его устновке и в его отсутствии одинаковы)."
   ]
  },
  {
   "cell_type": "code",
   "execution_count": 27,
   "metadata": {
    "id": "5NUlcltkTTSU"
   },
   "outputs": [
    {
     "name": "stdout",
     "output_type": "stream",
     "text": [
      "p-value: 0.94\n",
      "Нет оснований отвергать нулевую гипотезу. Различия между группами не статистически значимы.\n"
     ]
    }
   ],
   "source": [
    "# количество уникальных сессий для каждого дня и обеих тестовых групп, используем группировку\n",
    "daily_unique_sessions = sessions_test.groupby(['session_date', 'test_group'])['session_id'].nunique().reset_index()\n",
    "\n",
    "# уникальные дневные сессии для группы А и В\n",
    "group_A = daily_unique_sessions[daily_unique_sessions['test_group'] == 'A']['session_id']\n",
    "group_B = daily_unique_sessions[daily_unique_sessions['test_group'] == 'B']['session_id']\n",
    "\n",
    "# Проведение t-теста для проверки равенства средних\n",
    "t_stat, p_value = stats.ttest_ind(group_A, group_B, alternative='two-sided')\n",
    "\n",
    "print(f'p-value: {p_value:.2}')\n",
    "\n",
    "alpha = 0.05\n",
    "if p_value < alpha:\n",
    "    print(\"Отвергаем нулевую гипотезу. Различия между группами статистически значимы.\")\n",
    "else:\n",
    "    print(\"Нет оснований отвергать нулевую гипотезу. Различия между группами не статистически значимы.\")"
   ]
  },
  {
   "cell_type": "markdown",
   "metadata": {
    "id": "7kwRxzg70eM3"
   },
   "source": [
    "#### 4.3. Сравнение доли успешных сессий\n",
    "\n",
    "Когда вы убедились, что количество сессий в обеих выборках не различалось, можно переходить к анализу ключевой метрики — доли успешных сессий.\n",
    "\n",
    "Используйте созданный на первом шаге задания столбец `good_session` и рассчитайте долю успешных сессий для выборок A и B, а также разницу в этом показателе. Полученный вывод отобразите на экране."
   ]
  },
  {
   "cell_type": "code",
   "execution_count": 28,
   "metadata": {
    "id": "Uku-V1CpPRCz",
    "scrolled": true
   },
   "outputs": [
    {
     "data": {
      "text/html": [
       "<div>\n",
       "<style scoped>\n",
       "    .dataframe tbody tr th:only-of-type {\n",
       "        vertical-align: middle;\n",
       "    }\n",
       "\n",
       "    .dataframe tbody tr th {\n",
       "        vertical-align: top;\n",
       "    }\n",
       "\n",
       "    .dataframe thead th {\n",
       "        text-align: right;\n",
       "    }\n",
       "</style>\n",
       "<table border=\"1\" class=\"dataframe\">\n",
       "  <thead>\n",
       "    <tr style=\"text-align: right;\">\n",
       "      <th></th>\n",
       "      <th>test_group</th>\n",
       "      <th>total_sessions</th>\n",
       "      <th>successful_sessions</th>\n",
       "      <th>success_share</th>\n",
       "    </tr>\n",
       "  </thead>\n",
       "  <tbody>\n",
       "    <tr>\n",
       "      <th>0</th>\n",
       "      <td>A</td>\n",
       "      <td>49551</td>\n",
       "      <td>15248</td>\n",
       "      <td>0.307723</td>\n",
       "    </tr>\n",
       "    <tr>\n",
       "      <th>1</th>\n",
       "      <td>B</td>\n",
       "      <td>50454</td>\n",
       "      <td>16059</td>\n",
       "      <td>0.318290</td>\n",
       "    </tr>\n",
       "  </tbody>\n",
       "</table>\n",
       "</div>"
      ],
      "text/plain": [
       "  test_group  total_sessions  successful_sessions  success_share\n",
       "0          A           49551                15248       0.307723\n",
       "1          B           50454                16059       0.318290"
      ]
     },
     "execution_count": 28,
     "metadata": {},
     "output_type": "execute_result"
    }
   ],
   "source": [
    "# группировка для подсчета успешных и всех сессий\n",
    "grouped_sessions_test = sessions_test.groupby('test_group').agg(\n",
    "    total_sessions=('session_id', 'count'),\n",
    "    successful_sessions=('good_session', 'sum')\n",
    ").reset_index()\n",
    "\n",
    "# доля успешных сессий\n",
    "grouped_sessions_test['success_share'] = grouped_sessions_test['successful_sessions'] / grouped_sessions_test['total_sessions']\n",
    "grouped_sessions_test\n"
   ]
  },
  {
   "cell_type": "code",
   "execution_count": 29,
   "metadata": {
    "scrolled": true
   },
   "outputs": [
    {
     "name": "stdout",
     "output_type": "stream",
     "text": [
      "Разница в доле успешных сессий для выборок A и B: -0.011\n"
     ]
    }
   ],
   "source": [
    "# доли успешных сессий в группах А и В\n",
    "success_A = grouped_sessions_test[grouped_sessions_test['test_group'] == 'A']['success_share'].values[0]\n",
    "success_B = grouped_sessions_test[grouped_sessions_test['test_group'] == 'B']['success_share'].values[0]\n",
    "# разница в долях между группами\n",
    "difference = success_A - success_B\n",
    "print (f'Разница в доле успешных сессий для выборок A и B: {difference:.2}') "
   ]
  },
  {
   "cell_type": "markdown",
   "metadata": {},
   "source": [
    "По отрицательному значению разницы в долях в группах А и В видим превышение доли успешных сессий для выборки B на 0.011, то есть примерно на 1,1%."
   ]
  },
  {
   "cell_type": "markdown",
   "metadata": {},
   "source": [
    "Сравнение доли успешных сессий — важный шаг, потому что именно эта метрика показывает, насколько эффективно пользователи достигают целевого действия при взаимодействии с продуктом.\n",
    "\n",
    "Если доля успешных сессий в одной из групп выше, это может говорить о том, что изменения, протестированные в этой группе, положительно повлияли на пользовательский опыт. А значит, они могут быть внедрены в основную версию продукта.\n",
    "\n",
    "Без такой проверки невозможно оценить реальное влияние нововведения — даже если распределение сессий по группам было корректным.\n"
   ]
  },
  {
   "cell_type": "markdown",
   "metadata": {
    "id": "9fMFuja10eM4"
   },
   "source": [
    "#### 4.4. Насколько статистически значимо изменение ключевой метрики\n",
    "\n",
    "На предыдущем шаге вы убедились, что количество успешных сессий в тестовой выборке примерно на 1.1% выше, чем в контрольной, но делать выводы только на основе этого значения будет некорректно. Для принятия решения всегда необходимо отвечать на вопрос: является ли это изменение статистически значимым.\n",
    "\n",
    "- Используя статистический тест, рассчитайте, является ли изменение в метрике доли успешных сессий статистически значимым.\n",
    "\n",
    "- Выведите на экран полученное значение p-value и свои выводы о статистической значимости. Напомним, что уровень значимости в эксперименте был выбран на уровне 0.05."
   ]
  },
  {
   "cell_type": "markdown",
   "metadata": {
    "id": "gFvhRGwlPLS0"
   },
   "source": [
    "Сформулируем нулевую гипотезу: изменение в доле успешных сессий статистически значимым не является: доля успешных сессий равна или меньше в тестовой, чем в контрольной.\n",
    "Альтернативная, что изменение в метрике существенное и является статистически значимым (доля успешных сессиий изменилась значительно в большую сторону, то есть в тестовой группе больше, чем в контрольной).\n",
    "Соответственно, проверим, с помощью z-тест для пропорций для успешных сессий обеих групп.   \n",
    "\n",
    "У нас уже есть данные по доле успешных сессий в группах А и В, полученные методом values. \n",
    "Теперь получим данные по успешным сессиям из sessions_test, чтобы сформировать первый массив [ ] для z-теста,  а также получим данные об общем количестве сессий того же датафрейма для второго массива z-теста. Ранее мы уже испортировали необходимый proportions_ztest.\n",
    "\n"
   ]
  },
  {
   "cell_type": "code",
   "execution_count": 30,
   "metadata": {},
   "outputs": [
    {
     "name": "stdout",
     "output_type": "stream",
     "text": [
      "p-value: 0.000157\n",
      "Мы отвергаем нулевую гипотезу. Различия в доле успешных сессий статистически значимы.\n"
     ]
    }
   ],
   "source": [
    "\n",
    "# формируем количество успешных сессий для групп А и В\n",
    "successful_A = sessions_test[(sessions_test['test_group'] == 'A')&(sessions_test['good_session']==1)].shape[0]\n",
    "successful_B = sessions_test[(sessions_test['test_group'] == 'B')&(sessions_test['good_session']==1)].shape[0]\n",
    "\n",
    "\n",
    "# формируем общее количество сессий для групп А и В\n",
    "total_A = sessions_test[(sessions_test['test_group'] == 'A')]['session_id'].nunique()\n",
    "total_B = sessions_test[(sessions_test['test_group'] == 'B')]['session_id'].nunique()\n",
    "\n",
    "# z-тест для пропорций\n",
    "z_stat, p_value = proportions_ztest(\n",
    "    [successful_B, successful_A], \n",
    "    [total_B, total_A], \n",
    "    alternative='larger')\n",
    "\n",
    "# Вывод p-value и выводы\n",
    "print(f'p-value: {p_value:.6f}')\n",
    "\n",
    "alpha = 0.05\n",
    "if p_value < alpha:\n",
    "    print(\"Мы отвергаем нулевую гипотезу. Различия в доле успешных сессий статистически значимы.\")\n",
    "else:\n",
    "    print(\"Нет оснований отвергать нулевую гипотезу. Различия в доле успешных сессий не статистически значимы.\")"
   ]
  },
  {
   "cell_type": "markdown",
   "metadata": {
    "id": "GnJrkY9Q63zS",
    "jp-MarkdownHeadingCollapsed": true
   },
   "source": [
    "#### 4.5. Вывод по результатам A/B-эксперимента\n",
    "\n",
    "На основе проведённого анализа результатов теста сформулируйте и запишите свои выводы для команды разработки приложения:\n",
    "\n",
    "- Для эксперимента анализировались данные, где одной из важнейших метрик продукта выбрано число зарегистрированных пользователей. По историческим данным выявили устойчивую тенденцию роста доли зарегистрированных пользователей. Другая важная метрика продукта — число просмотренных страниц в приложении. Чем больше страниц просмотрено, тем сильнее пользователь увлечён контентом, а значит, выше шансы на то, что он зарегистрируется и оплатит подписку.  Успешными сессиями считали те, в рамках которых пользователь просмотрел 4 и более страниц: это говорят об удовлетворённости контентом и алгоритмами рекомендаций. \n",
    "  Необходимый размер выборки был определен для каждой группы: 17441 (то есть удваивали для общего числа), а длительность эксперимента определена в 4 дня. Было задействовано в группе A - 1477 пользователей, в группе B\t- 1466 пользователей.\n",
    "  Ключевой метрикой избрана доля успешных сессий.  \n",
    "  Тест был независимым (пересечений по пользователям не выявлено), количество сессий в обеих выборках не различалось существенно, то есть различия не статистически значимы.\n",
    "  \n",
    "- Внедрение нового алгоритма рекомендаций повлияло на рост ключевой метрики: доля успешных сессий в группе A\t-\t0.307723, в группе В - 0.318290, рост на 1,1%.\n",
    "\n",
    "- Значение p-value для оценки статистической значимости выявленного эффекта = 0.000157.Различия в доле успешных сессий статистически значимы\n",
    "\n",
    "- Таким образом, новый алгоритм рекомендаций, который будет показывать более интересный контент для каждого пользователя, дает большую долю успешных сессий, и хотя разница в долях не большая не первый взгляд, всего на 1.1%, проведенный z-тест выявил, что такие изменения статистически значимы, то есть этот рост важен и позволяет внедрять новоовведение в приложение."
   ]
  },
  {
   "cell_type": "code",
   "execution_count": null,
   "metadata": {},
   "outputs": [],
   "source": []
  }
 ],
 "metadata": {
  "ExecuteTimeLog": [
   {
    "duration": 481,
    "start_time": "2025-04-23T14:18:46.801Z"
   },
   {
    "duration": 2384,
    "start_time": "2025-04-23T14:20:23.485Z"
   },
   {
    "duration": 502,
    "start_time": "2025-04-23T14:26:20.764Z"
   },
   {
    "duration": 512,
    "start_time": "2025-04-23T14:26:55.061Z"
   },
   {
    "duration": 495,
    "start_time": "2025-04-23T14:30:54.075Z"
   },
   {
    "duration": 2379,
    "start_time": "2025-04-23T14:37:49.155Z"
   },
   {
    "duration": 1974,
    "start_time": "2025-04-23T14:38:22.572Z"
   },
   {
    "duration": 1606,
    "start_time": "2025-04-23T14:38:24.820Z"
   },
   {
    "duration": 439,
    "start_time": "2025-04-23T14:42:35.530Z"
   },
   {
    "duration": 1856,
    "start_time": "2025-04-23T14:46:13.231Z"
   },
   {
    "duration": 434,
    "start_time": "2025-04-23T14:46:45.886Z"
   },
   {
    "duration": 405,
    "start_time": "2025-04-23T14:47:01.602Z"
   },
   {
    "duration": 370,
    "start_time": "2025-04-23T14:47:12.122Z"
   },
   {
    "duration": 5,
    "start_time": "2025-04-23T14:49:16.438Z"
   },
   {
    "duration": 25,
    "start_time": "2025-04-23T14:49:41.414Z"
   },
   {
    "duration": 23,
    "start_time": "2025-04-23T14:50:24.563Z"
   },
   {
    "duration": 346,
    "start_time": "2025-04-23T14:50:33.639Z"
   },
   {
    "duration": 352,
    "start_time": "2025-04-23T14:51:05.155Z"
   },
   {
    "duration": 222,
    "start_time": "2025-04-23T14:54:12.189Z"
   },
   {
    "duration": 183,
    "start_time": "2025-04-23T14:54:27.026Z"
   },
   {
    "duration": 166,
    "start_time": "2025-04-23T14:54:51.729Z"
   },
   {
    "duration": 356,
    "start_time": "2025-04-23T14:55:16.435Z"
   },
   {
    "duration": 341,
    "start_time": "2025-04-23T14:58:11.152Z"
   },
   {
    "duration": 310,
    "start_time": "2025-04-23T14:58:30.033Z"
   },
   {
    "duration": 437,
    "start_time": "2025-04-23T14:58:42.066Z"
   },
   {
    "duration": 363,
    "start_time": "2025-04-23T14:59:14.833Z"
   },
   {
    "duration": 346,
    "start_time": "2025-04-23T14:59:48.263Z"
   },
   {
    "duration": 51,
    "start_time": "2025-04-24T09:58:53.744Z"
   },
   {
    "duration": 7,
    "start_time": "2025-04-24T09:59:24.744Z"
   },
   {
    "duration": 2620,
    "start_time": "2025-04-24T11:08:57.836Z"
   },
   {
    "duration": 627,
    "start_time": "2025-04-24T11:09:00.457Z"
   },
   {
    "duration": 1095,
    "start_time": "2025-04-24T11:09:01.086Z"
   },
   {
    "duration": 451,
    "start_time": "2025-04-24T11:09:02.183Z"
   },
   {
    "duration": 13,
    "start_time": "2025-04-24T11:09:02.637Z"
   },
   {
    "duration": 609,
    "start_time": "2025-04-24T11:09:02.652Z"
   },
   {
    "duration": 0,
    "start_time": "2025-04-24T11:09:03.262Z"
   },
   {
    "duration": 47,
    "start_time": "2025-04-24T13:08:45.320Z"
   },
   {
    "duration": 2080,
    "start_time": "2025-04-24T13:09:03.486Z"
   },
   {
    "duration": 585,
    "start_time": "2025-04-24T13:09:05.568Z"
   },
   {
    "duration": 1182,
    "start_time": "2025-04-24T13:09:06.154Z"
   },
   {
    "duration": 456,
    "start_time": "2025-04-24T13:09:07.338Z"
   },
   {
    "duration": 173,
    "start_time": "2025-04-24T13:09:07.796Z"
   },
   {
    "duration": 589,
    "start_time": "2025-04-24T13:09:07.971Z"
   },
   {
    "duration": 0,
    "start_time": "2025-04-24T13:09:08.561Z"
   },
   {
    "duration": 172,
    "start_time": "2025-04-24T13:09:49.329Z"
   },
   {
    "duration": 164,
    "start_time": "2025-04-24T13:11:43.421Z"
   },
   {
    "duration": 164,
    "start_time": "2025-04-24T13:12:21.914Z"
   },
   {
    "duration": 170,
    "start_time": "2025-04-24T13:13:12.230Z"
   },
   {
    "duration": 186,
    "start_time": "2025-04-24T13:13:31.014Z"
   },
   {
    "duration": 231,
    "start_time": "2025-04-24T13:13:39.279Z"
   },
   {
    "duration": 163,
    "start_time": "2025-04-24T13:15:00.595Z"
   },
   {
    "duration": 410,
    "start_time": "2025-04-24T13:15:53.970Z"
   },
   {
    "duration": 164,
    "start_time": "2025-04-24T13:16:35.360Z"
   },
   {
    "duration": 151,
    "start_time": "2025-04-24T13:16:42.324Z"
   },
   {
    "duration": 180,
    "start_time": "2025-04-24T13:16:57.850Z"
   },
   {
    "duration": 1428,
    "start_time": "2025-04-24T13:18:40.480Z"
   },
   {
    "duration": 194,
    "start_time": "2025-04-24T13:18:59.152Z"
   },
   {
    "duration": 160,
    "start_time": "2025-04-24T13:19:59.410Z"
   },
   {
    "duration": 162,
    "start_time": "2025-04-24T13:20:14.656Z"
   },
   {
    "duration": 1433,
    "start_time": "2025-04-24T13:21:48.129Z"
   },
   {
    "duration": 253,
    "start_time": "2025-04-24T13:21:54.687Z"
   },
   {
    "duration": 20,
    "start_time": "2025-04-24T13:22:34.719Z"
   },
   {
    "duration": 55,
    "start_time": "2025-04-24T13:22:46.119Z"
   },
   {
    "duration": 158,
    "start_time": "2025-04-24T13:22:55.601Z"
   },
   {
    "duration": 51,
    "start_time": "2025-04-24T13:24:31.352Z"
   },
   {
    "duration": 155,
    "start_time": "2025-04-24T13:24:36.260Z"
   },
   {
    "duration": 380,
    "start_time": "2025-04-24T13:27:14.049Z"
   },
   {
    "duration": 438,
    "start_time": "2025-04-24T13:31:51.152Z"
   },
   {
    "duration": 10,
    "start_time": "2025-04-24T13:42:58.230Z"
   },
   {
    "duration": 15,
    "start_time": "2025-04-24T13:43:15.628Z"
   },
   {
    "duration": 31,
    "start_time": "2025-04-24T13:54:35.982Z"
   },
   {
    "duration": 30,
    "start_time": "2025-04-24T13:54:49.797Z"
   },
   {
    "duration": 32,
    "start_time": "2025-04-24T13:54:54.107Z"
   },
   {
    "duration": 29,
    "start_time": "2025-04-24T13:55:09.861Z"
   },
   {
    "duration": 26,
    "start_time": "2025-04-24T14:04:20.038Z"
   },
   {
    "duration": 33,
    "start_time": "2025-04-24T14:04:49.115Z"
   },
   {
    "duration": 182,
    "start_time": "2025-04-24T14:07:22.080Z"
   },
   {
    "duration": 201,
    "start_time": "2025-04-24T14:07:31.047Z"
   },
   {
    "duration": 261,
    "start_time": "2025-04-24T14:09:23.649Z"
   },
   {
    "duration": 71,
    "start_time": "2025-04-24T14:17:00.234Z"
   },
   {
    "duration": 16,
    "start_time": "2025-04-24T14:17:10.278Z"
   },
   {
    "duration": 140,
    "start_time": "2025-04-24T14:40:24.387Z"
   },
   {
    "duration": 138,
    "start_time": "2025-04-24T14:41:06.271Z"
   },
   {
    "duration": 129,
    "start_time": "2025-04-24T14:41:52.520Z"
   },
   {
    "duration": 139,
    "start_time": "2025-04-24T14:43:12.495Z"
   },
   {
    "duration": 75,
    "start_time": "2025-04-24T14:46:01.918Z"
   },
   {
    "duration": 12,
    "start_time": "2025-04-24T14:50:17.645Z"
   },
   {
    "duration": 7,
    "start_time": "2025-04-24T14:50:30.797Z"
   },
   {
    "duration": 6,
    "start_time": "2025-04-24T14:55:10.222Z"
   },
   {
    "duration": 1318,
    "start_time": "2025-04-24T14:55:12.284Z"
   },
   {
    "duration": 1412,
    "start_time": "2025-04-24T14:56:36.083Z"
   },
   {
    "duration": 1247,
    "start_time": "2025-04-24T14:57:36.780Z"
   },
   {
    "duration": 10,
    "start_time": "2025-04-24T14:59:21.944Z"
   },
   {
    "duration": 9,
    "start_time": "2025-04-24T14:59:27.271Z"
   },
   {
    "duration": 13,
    "start_time": "2025-04-24T15:00:05.556Z"
   },
   {
    "duration": 9,
    "start_time": "2025-04-24T15:00:46.411Z"
   },
   {
    "duration": 52,
    "start_time": "2025-04-25T09:36:47.571Z"
   },
   {
    "duration": 2311,
    "start_time": "2025-04-25T09:37:01.379Z"
   },
   {
    "duration": 667,
    "start_time": "2025-04-25T09:37:03.692Z"
   },
   {
    "duration": 1146,
    "start_time": "2025-04-25T09:37:04.361Z"
   },
   {
    "duration": 414,
    "start_time": "2025-04-25T09:37:05.510Z"
   },
   {
    "duration": 21,
    "start_time": "2025-04-25T09:37:05.926Z"
   },
   {
    "duration": 183,
    "start_time": "2025-04-25T09:37:05.949Z"
   },
   {
    "duration": 15,
    "start_time": "2025-04-25T09:37:06.138Z"
   },
   {
    "duration": 70,
    "start_time": "2025-04-25T09:37:06.156Z"
   },
   {
    "duration": 293,
    "start_time": "2025-04-25T09:37:06.229Z"
   },
   {
    "duration": 469,
    "start_time": "2025-04-25T09:37:06.525Z"
   },
   {
    "duration": 169,
    "start_time": "2025-04-25T09:37:06.996Z"
   },
   {
    "duration": 408,
    "start_time": "2025-04-25T09:37:07.167Z"
   },
   {
    "duration": 11,
    "start_time": "2025-04-25T09:37:07.578Z"
   },
   {
    "duration": 17,
    "start_time": "2025-04-25T09:37:07.590Z"
   },
   {
    "duration": 9,
    "start_time": "2025-04-25T09:38:26.835Z"
   },
   {
    "duration": 6,
    "start_time": "2025-04-25T09:40:57.385Z"
   },
   {
    "duration": 81,
    "start_time": "2025-04-25T09:43:30.606Z"
   },
   {
    "duration": 6,
    "start_time": "2025-04-25T09:43:35.048Z"
   },
   {
    "duration": 7,
    "start_time": "2025-04-25T09:44:01.238Z"
   },
   {
    "duration": 7,
    "start_time": "2025-04-25T09:44:34.430Z"
   },
   {
    "duration": 112,
    "start_time": "2025-04-25T09:47:42.205Z"
   },
   {
    "duration": 10,
    "start_time": "2025-04-25T09:51:04.483Z"
   },
   {
    "duration": 80,
    "start_time": "2025-04-25T09:51:21.693Z"
   },
   {
    "duration": 6,
    "start_time": "2025-04-25T10:03:09.635Z"
   },
   {
    "duration": 6,
    "start_time": "2025-04-25T10:03:38.398Z"
   },
   {
    "duration": 6,
    "start_time": "2025-04-25T10:03:48.516Z"
   },
   {
    "duration": 1880,
    "start_time": "2025-04-25T10:06:34.309Z"
   },
   {
    "duration": 3445,
    "start_time": "2025-04-25T10:08:03.928Z"
   },
   {
    "duration": 8,
    "start_time": "2025-04-25T10:10:19.761Z"
   },
   {
    "duration": 11,
    "start_time": "2025-04-25T10:10:49.636Z"
   },
   {
    "duration": 11,
    "start_time": "2025-04-25T10:12:16.380Z"
   },
   {
    "duration": 11,
    "start_time": "2025-04-25T10:12:39.836Z"
   },
   {
    "duration": 12,
    "start_time": "2025-04-25T10:15:31.128Z"
   },
   {
    "duration": 97,
    "start_time": "2025-04-25T10:15:49.229Z"
   },
   {
    "duration": 142,
    "start_time": "2025-04-25T10:16:21.223Z"
   },
   {
    "duration": 181,
    "start_time": "2025-04-25T10:16:55.632Z"
   },
   {
    "duration": 98,
    "start_time": "2025-04-25T10:17:02.641Z"
   },
   {
    "duration": 12,
    "start_time": "2025-04-25T10:22:14.340Z"
   },
   {
    "duration": 91,
    "start_time": "2025-04-25T11:25:32.257Z"
   },
   {
    "duration": 97,
    "start_time": "2025-04-25T11:26:04.967Z"
   },
   {
    "duration": 11,
    "start_time": "2025-04-25T11:34:42.810Z"
   },
   {
    "duration": 9,
    "start_time": "2025-04-25T11:38:41.872Z"
   },
   {
    "duration": 163,
    "start_time": "2025-04-25T11:40:15.732Z"
   },
   {
    "duration": 10,
    "start_time": "2025-04-25T11:40:41.024Z"
   },
   {
    "duration": 9,
    "start_time": "2025-04-25T11:40:49.714Z"
   },
   {
    "duration": 15,
    "start_time": "2025-04-25T11:40:57.294Z"
   },
   {
    "duration": 156,
    "start_time": "2025-04-25T11:43:22.014Z"
   },
   {
    "duration": 90,
    "start_time": "2025-04-25T11:50:10.422Z"
   },
   {
    "duration": 512,
    "start_time": "2025-04-25T12:18:06.887Z"
   },
   {
    "duration": 508,
    "start_time": "2025-04-25T12:18:14.361Z"
   },
   {
    "duration": 15,
    "start_time": "2025-04-25T12:21:39.354Z"
   },
   {
    "duration": 19,
    "start_time": "2025-04-25T12:21:55.182Z"
   },
   {
    "duration": 15,
    "start_time": "2025-04-25T12:22:07.003Z"
   },
   {
    "duration": 86,
    "start_time": "2025-04-25T12:22:36.022Z"
   },
   {
    "duration": 48,
    "start_time": "2025-04-25T13:09:57.272Z"
   },
   {
    "duration": 15,
    "start_time": "2025-04-25T13:11:32.742Z"
   },
   {
    "duration": 14,
    "start_time": "2025-04-25T13:11:55.295Z"
   },
   {
    "duration": 14,
    "start_time": "2025-04-25T13:12:20.846Z"
   },
   {
    "duration": 50,
    "start_time": "2025-04-25T13:12:59.179Z"
   },
   {
    "duration": 51,
    "start_time": "2025-04-25T13:14:53.367Z"
   },
   {
    "duration": 54,
    "start_time": "2025-04-25T13:15:30.186Z"
   },
   {
    "duration": 50,
    "start_time": "2025-04-25T13:24:49.261Z"
   },
   {
    "duration": 68,
    "start_time": "2025-04-25T13:30:02.224Z"
   },
   {
    "duration": 58,
    "start_time": "2025-04-25T13:31:56.430Z"
   },
   {
    "duration": 1020,
    "start_time": "2025-04-25T13:35:04.122Z"
   },
   {
    "duration": 38,
    "start_time": "2025-04-25T13:41:33.327Z"
   },
   {
    "duration": 39,
    "start_time": "2025-04-25T13:42:13.923Z"
   },
   {
    "duration": 38,
    "start_time": "2025-04-25T13:43:08.226Z"
   },
   {
    "duration": 1470,
    "start_time": "2025-04-25T13:45:11.966Z"
   },
   {
    "duration": 5,
    "start_time": "2025-04-25T13:45:30.187Z"
   },
   {
    "duration": 7,
    "start_time": "2025-04-25T13:45:37.318Z"
   },
   {
    "duration": 108,
    "start_time": "2025-04-25T13:47:27.385Z"
   },
   {
    "duration": 11,
    "start_time": "2025-04-25T13:48:37.763Z"
   },
   {
    "duration": 94,
    "start_time": "2025-04-25T13:48:47.863Z"
   },
   {
    "duration": 125,
    "start_time": "2025-04-25T13:48:52.165Z"
   },
   {
    "duration": 6,
    "start_time": "2025-04-25T13:48:59.026Z"
   },
   {
    "duration": 8,
    "start_time": "2025-04-25T13:49:06.801Z"
   },
   {
    "duration": 87,
    "start_time": "2025-04-25T14:56:31.028Z"
   },
   {
    "duration": 80,
    "start_time": "2025-04-25T14:56:43.937Z"
   },
   {
    "duration": 78,
    "start_time": "2025-04-25T14:57:25.682Z"
   },
   {
    "duration": 8,
    "start_time": "2025-04-25T14:57:51.463Z"
   },
   {
    "duration": 6,
    "start_time": "2025-04-25T14:57:59.997Z"
   },
   {
    "duration": 77,
    "start_time": "2025-04-25T14:59:36.457Z"
   },
   {
    "duration": 6,
    "start_time": "2025-04-25T15:00:30.500Z"
   },
   {
    "duration": 86,
    "start_time": "2025-04-25T16:43:23.818Z"
   },
   {
    "duration": 8,
    "start_time": "2025-04-25T16:46:53.314Z"
   },
   {
    "duration": 2296,
    "start_time": "2025-04-25T16:47:13.177Z"
   },
   {
    "duration": 634,
    "start_time": "2025-04-25T16:47:15.476Z"
   },
   {
    "duration": 1096,
    "start_time": "2025-04-25T16:47:16.112Z"
   },
   {
    "duration": 414,
    "start_time": "2025-04-25T16:47:17.212Z"
   },
   {
    "duration": 27,
    "start_time": "2025-04-25T16:47:17.628Z"
   },
   {
    "duration": 257,
    "start_time": "2025-04-25T16:47:17.657Z"
   },
   {
    "duration": 23,
    "start_time": "2025-04-25T16:47:17.916Z"
   },
   {
    "duration": 33,
    "start_time": "2025-04-25T16:47:17.940Z"
   },
   {
    "duration": 315,
    "start_time": "2025-04-25T16:47:17.975Z"
   },
   {
    "duration": 434,
    "start_time": "2025-04-25T16:47:18.294Z"
   },
   {
    "duration": 164,
    "start_time": "2025-04-25T16:47:18.730Z"
   },
   {
    "duration": 54,
    "start_time": "2025-04-25T16:47:18.896Z"
   },
   {
    "duration": 10,
    "start_time": "2025-04-25T16:47:18.952Z"
   },
   {
    "duration": 6,
    "start_time": "2025-04-25T16:47:18.964Z"
   },
   {
    "duration": 110,
    "start_time": "2025-04-25T16:47:18.971Z"
   },
   {
    "duration": 11,
    "start_time": "2025-04-25T16:47:19.083Z"
   },
   {
    "duration": 10,
    "start_time": "2025-04-25T16:47:19.096Z"
   },
   {
    "duration": 129,
    "start_time": "2025-04-25T16:47:19.108Z"
   },
   {
    "duration": 108,
    "start_time": "2025-04-25T16:47:19.239Z"
   },
   {
    "duration": 14,
    "start_time": "2025-04-25T16:47:19.349Z"
   },
   {
    "duration": 162,
    "start_time": "2025-04-25T16:47:19.365Z"
   },
   {
    "duration": 503,
    "start_time": "2025-04-25T16:47:19.529Z"
   },
   {
    "duration": 14,
    "start_time": "2025-04-25T16:47:20.037Z"
   },
   {
    "duration": 49,
    "start_time": "2025-04-25T16:47:20.053Z"
   },
   {
    "duration": 100,
    "start_time": "2025-04-25T16:47:20.103Z"
   },
   {
    "duration": 6,
    "start_time": "2025-04-25T16:47:23.600Z"
   },
   {
    "duration": 102,
    "start_time": "2025-04-25T16:57:11.387Z"
   },
   {
    "duration": 2608,
    "start_time": "2025-04-25T16:57:32.730Z"
   },
   {
    "duration": 644,
    "start_time": "2025-04-25T16:57:35.340Z"
   },
   {
    "duration": 856,
    "start_time": "2025-04-25T16:57:35.986Z"
   },
   {
    "duration": 370,
    "start_time": "2025-04-25T16:57:36.844Z"
   },
   {
    "duration": 23,
    "start_time": "2025-04-25T16:57:37.215Z"
   },
   {
    "duration": 178,
    "start_time": "2025-04-25T16:57:37.240Z"
   },
   {
    "duration": 23,
    "start_time": "2025-04-25T16:57:37.420Z"
   },
   {
    "duration": 61,
    "start_time": "2025-04-25T16:57:37.444Z"
   },
   {
    "duration": 231,
    "start_time": "2025-04-25T16:57:37.507Z"
   },
   {
    "duration": 526,
    "start_time": "2025-04-25T16:57:37.741Z"
   },
   {
    "duration": 173,
    "start_time": "2025-04-25T16:57:38.269Z"
   },
   {
    "duration": 50,
    "start_time": "2025-04-25T16:57:38.444Z"
   },
   {
    "duration": 10,
    "start_time": "2025-04-25T16:57:38.495Z"
   },
   {
    "duration": 7,
    "start_time": "2025-04-25T16:57:38.507Z"
   },
   {
    "duration": 102,
    "start_time": "2025-04-25T16:57:38.516Z"
   },
   {
    "duration": 18,
    "start_time": "2025-04-25T16:57:38.620Z"
   },
   {
    "duration": 11,
    "start_time": "2025-04-25T16:57:38.640Z"
   },
   {
    "duration": 119,
    "start_time": "2025-04-25T16:57:38.653Z"
   },
   {
    "duration": 106,
    "start_time": "2025-04-25T16:57:38.774Z"
   },
   {
    "duration": 15,
    "start_time": "2025-04-25T16:57:38.881Z"
   },
   {
    "duration": 167,
    "start_time": "2025-04-25T16:57:38.897Z"
   },
   {
    "duration": 503,
    "start_time": "2025-04-25T16:57:39.066Z"
   },
   {
    "duration": 15,
    "start_time": "2025-04-25T16:57:39.570Z"
   },
   {
    "duration": 71,
    "start_time": "2025-04-25T16:57:39.586Z"
   },
   {
    "duration": 28,
    "start_time": "2025-04-25T16:57:39.659Z"
   },
   {
    "duration": 115,
    "start_time": "2025-04-25T16:57:39.690Z"
   },
   {
    "duration": 0,
    "start_time": "2025-04-25T16:57:39.807Z"
   },
   {
    "duration": 48,
    "start_time": "2025-04-26T15:56:10.305Z"
   },
   {
    "duration": 2115,
    "start_time": "2025-04-26T15:57:03.083Z"
   },
   {
    "duration": 621,
    "start_time": "2025-04-26T15:57:05.200Z"
   },
   {
    "duration": 1028,
    "start_time": "2025-04-26T15:57:05.823Z"
   },
   {
    "duration": 441,
    "start_time": "2025-04-26T15:57:06.854Z"
   },
   {
    "duration": 16,
    "start_time": "2025-04-26T15:57:07.296Z"
   },
   {
    "duration": 172,
    "start_time": "2025-04-26T15:57:07.314Z"
   },
   {
    "duration": 14,
    "start_time": "2025-04-26T15:57:07.488Z"
   },
   {
    "duration": 51,
    "start_time": "2025-04-26T15:57:07.504Z"
   },
   {
    "duration": 311,
    "start_time": "2025-04-26T15:57:07.556Z"
   },
   {
    "duration": 413,
    "start_time": "2025-04-26T15:57:07.870Z"
   },
   {
    "duration": 158,
    "start_time": "2025-04-26T15:57:08.285Z"
   },
   {
    "duration": 56,
    "start_time": "2025-04-26T15:57:08.445Z"
   },
   {
    "duration": 9,
    "start_time": "2025-04-26T15:57:08.503Z"
   },
   {
    "duration": 23,
    "start_time": "2025-04-26T15:57:08.513Z"
   },
   {
    "duration": 91,
    "start_time": "2025-04-26T15:57:08.538Z"
   },
   {
    "duration": 15,
    "start_time": "2025-04-26T15:57:08.631Z"
   },
   {
    "duration": 12,
    "start_time": "2025-04-26T15:57:08.648Z"
   },
   {
    "duration": 107,
    "start_time": "2025-04-26T15:57:08.662Z"
   },
   {
    "duration": 106,
    "start_time": "2025-04-26T15:57:08.770Z"
   },
   {
    "duration": 14,
    "start_time": "2025-04-26T15:57:08.878Z"
   },
   {
    "duration": 174,
    "start_time": "2025-04-26T15:57:08.893Z"
   },
   {
    "duration": 446,
    "start_time": "2025-04-26T15:57:09.069Z"
   },
   {
    "duration": 13,
    "start_time": "2025-04-26T15:57:09.516Z"
   },
   {
    "duration": 46,
    "start_time": "2025-04-26T15:57:09.539Z"
   },
   {
    "duration": 28,
    "start_time": "2025-04-26T15:57:09.587Z"
   },
   {
    "duration": 87,
    "start_time": "2025-04-26T15:57:09.616Z"
   },
   {
    "duration": 126,
    "start_time": "2025-04-26T15:57:09.705Z"
   },
   {
    "duration": 11,
    "start_time": "2025-04-26T16:06:46.314Z"
   },
   {
    "duration": 10,
    "start_time": "2025-04-26T16:10:02.031Z"
   },
   {
    "duration": 10,
    "start_time": "2025-04-26T16:18:00.986Z"
   },
   {
    "duration": 10,
    "start_time": "2025-04-26T16:35:18.203Z"
   },
   {
    "duration": 1522,
    "start_time": "2025-04-26T16:44:34.093Z"
   },
   {
    "duration": 85,
    "start_time": "2025-04-26T16:44:55.675Z"
   },
   {
    "duration": 110,
    "start_time": "2025-04-26T16:47:36.147Z"
   },
   {
    "duration": 75,
    "start_time": "2025-04-26T16:48:16.449Z"
   },
   {
    "duration": 77,
    "start_time": "2025-04-26T16:49:34.197Z"
   },
   {
    "duration": 11,
    "start_time": "2025-04-26T16:50:57.248Z"
   },
   {
    "duration": 2188,
    "start_time": "2025-04-26T16:51:14.568Z"
   },
   {
    "duration": 590,
    "start_time": "2025-04-26T16:51:16.758Z"
   },
   {
    "duration": 864,
    "start_time": "2025-04-26T16:51:17.349Z"
   },
   {
    "duration": 362,
    "start_time": "2025-04-26T16:51:18.215Z"
   },
   {
    "duration": 16,
    "start_time": "2025-04-26T16:51:18.578Z"
   },
   {
    "duration": 175,
    "start_time": "2025-04-26T16:51:18.596Z"
   },
   {
    "duration": 13,
    "start_time": "2025-04-26T16:51:18.772Z"
   },
   {
    "duration": 28,
    "start_time": "2025-04-26T16:51:18.787Z"
   },
   {
    "duration": 255,
    "start_time": "2025-04-26T16:51:18.817Z"
   },
   {
    "duration": 508,
    "start_time": "2025-04-26T16:51:19.075Z"
   },
   {
    "duration": 157,
    "start_time": "2025-04-26T16:51:19.585Z"
   },
   {
    "duration": 113,
    "start_time": "2025-04-26T16:51:19.743Z"
   },
   {
    "duration": 10,
    "start_time": "2025-04-26T16:51:19.857Z"
   },
   {
    "duration": 15,
    "start_time": "2025-04-26T16:51:19.868Z"
   },
   {
    "duration": 93,
    "start_time": "2025-04-26T16:51:19.884Z"
   },
   {
    "duration": 8,
    "start_time": "2025-04-26T16:51:19.978Z"
   },
   {
    "duration": 21,
    "start_time": "2025-04-26T16:51:19.988Z"
   },
   {
    "duration": 135,
    "start_time": "2025-04-26T16:51:20.011Z"
   },
   {
    "duration": 91,
    "start_time": "2025-04-26T16:51:20.148Z"
   },
   {
    "duration": 12,
    "start_time": "2025-04-26T16:51:20.240Z"
   },
   {
    "duration": 145,
    "start_time": "2025-04-26T16:51:20.253Z"
   },
   {
    "duration": 514,
    "start_time": "2025-04-26T16:51:20.399Z"
   },
   {
    "duration": 24,
    "start_time": "2025-04-26T16:51:20.915Z"
   },
   {
    "duration": 64,
    "start_time": "2025-04-26T16:51:20.941Z"
   },
   {
    "duration": 44,
    "start_time": "2025-04-26T16:51:21.007Z"
   },
   {
    "duration": 110,
    "start_time": "2025-04-26T16:51:21.053Z"
   },
   {
    "duration": 0,
    "start_time": "2025-04-26T16:51:21.164Z"
   },
   {
    "duration": 7,
    "start_time": "2025-04-26T16:51:45.495Z"
   },
   {
    "duration": 6,
    "start_time": "2025-04-26T16:52:03.160Z"
   },
   {
    "duration": 83,
    "start_time": "2025-04-26T16:55:01.706Z"
   },
   {
    "duration": 2290,
    "start_time": "2025-04-26T17:15:38.608Z"
   },
   {
    "duration": 627,
    "start_time": "2025-04-26T17:15:40.900Z"
   },
   {
    "duration": 837,
    "start_time": "2025-04-26T17:15:41.528Z"
   },
   {
    "duration": 429,
    "start_time": "2025-04-26T17:15:42.367Z"
   },
   {
    "duration": 17,
    "start_time": "2025-04-26T17:15:42.798Z"
   },
   {
    "duration": 171,
    "start_time": "2025-04-26T17:15:42.816Z"
   },
   {
    "duration": 14,
    "start_time": "2025-04-26T17:15:42.988Z"
   },
   {
    "duration": 53,
    "start_time": "2025-04-26T17:15:43.004Z"
   },
   {
    "duration": 241,
    "start_time": "2025-04-26T17:15:43.058Z"
   },
   {
    "duration": 471,
    "start_time": "2025-04-26T17:15:43.302Z"
   },
   {
    "duration": 149,
    "start_time": "2025-04-26T17:15:43.775Z"
   },
   {
    "duration": 78,
    "start_time": "2025-04-26T17:15:43.926Z"
   },
   {
    "duration": 8,
    "start_time": "2025-04-26T17:15:44.006Z"
   },
   {
    "duration": 6,
    "start_time": "2025-04-26T17:15:44.015Z"
   },
   {
    "duration": 82,
    "start_time": "2025-04-26T17:15:44.022Z"
   },
   {
    "duration": 10,
    "start_time": "2025-04-26T17:15:44.106Z"
   },
   {
    "duration": 23,
    "start_time": "2025-04-26T17:15:44.117Z"
   },
   {
    "duration": 100,
    "start_time": "2025-04-26T17:15:44.141Z"
   },
   {
    "duration": 99,
    "start_time": "2025-04-26T17:15:44.242Z"
   },
   {
    "duration": 14,
    "start_time": "2025-04-26T17:15:44.342Z"
   },
   {
    "duration": 157,
    "start_time": "2025-04-26T17:15:44.357Z"
   },
   {
    "duration": 504,
    "start_time": "2025-04-26T17:15:44.516Z"
   },
   {
    "duration": 27,
    "start_time": "2025-04-26T17:15:45.022Z"
   },
   {
    "duration": 62,
    "start_time": "2025-04-26T17:15:45.051Z"
   },
   {
    "duration": 46,
    "start_time": "2025-04-26T17:15:45.114Z"
   },
   {
    "duration": 10,
    "start_time": "2025-04-26T17:15:45.162Z"
   },
   {
    "duration": 97,
    "start_time": "2025-04-26T17:15:45.174Z"
   },
   {
    "duration": 2378,
    "start_time": "2025-04-27T10:22:52.393Z"
   },
   {
    "duration": 1208,
    "start_time": "2025-04-27T10:22:54.777Z"
   },
   {
    "duration": 1085,
    "start_time": "2025-04-27T10:22:55.987Z"
   },
   {
    "duration": 364,
    "start_time": "2025-04-27T10:22:57.075Z"
   },
   {
    "duration": 16,
    "start_time": "2025-04-27T10:22:57.441Z"
   },
   {
    "duration": 209,
    "start_time": "2025-04-27T10:22:57.458Z"
   },
   {
    "duration": 15,
    "start_time": "2025-04-27T10:22:57.668Z"
   },
   {
    "duration": 31,
    "start_time": "2025-04-27T10:22:57.684Z"
   },
   {
    "duration": 227,
    "start_time": "2025-04-27T10:22:57.717Z"
   },
   {
    "duration": 481,
    "start_time": "2025-04-27T10:22:57.946Z"
   },
   {
    "duration": 163,
    "start_time": "2025-04-27T10:22:58.429Z"
   },
   {
    "duration": 77,
    "start_time": "2025-04-27T10:22:58.594Z"
   },
   {
    "duration": 10,
    "start_time": "2025-04-27T10:22:58.673Z"
   },
   {
    "duration": 7,
    "start_time": "2025-04-27T10:22:58.686Z"
   },
   {
    "duration": 111,
    "start_time": "2025-04-27T10:22:58.694Z"
   },
   {
    "duration": 9,
    "start_time": "2025-04-27T10:22:58.807Z"
   },
   {
    "duration": 24,
    "start_time": "2025-04-27T10:22:58.817Z"
   },
   {
    "duration": 115,
    "start_time": "2025-04-27T10:22:58.843Z"
   },
   {
    "duration": 118,
    "start_time": "2025-04-27T10:22:58.960Z"
   },
   {
    "duration": 16,
    "start_time": "2025-04-27T10:22:59.080Z"
   },
   {
    "duration": 182,
    "start_time": "2025-04-27T10:22:59.098Z"
   },
   {
    "duration": 555,
    "start_time": "2025-04-27T10:22:59.282Z"
   },
   {
    "duration": 13,
    "start_time": "2025-04-27T10:22:59.840Z"
   },
   {
    "duration": 100,
    "start_time": "2025-04-27T10:22:59.855Z"
   },
   {
    "duration": 29,
    "start_time": "2025-04-27T10:22:59.957Z"
   },
   {
    "duration": 7,
    "start_time": "2025-04-27T10:22:59.988Z"
   },
   {
    "duration": 189,
    "start_time": "2025-04-27T10:22:59.996Z"
   },
   {
    "duration": 1387,
    "start_time": "2025-04-27T19:56:58.215Z"
   },
   {
    "duration": 2113,
    "start_time": "2025-04-27T19:56:59.604Z"
   },
   {
    "duration": 660,
    "start_time": "2025-04-27T19:57:01.719Z"
   },
   {
    "duration": 691,
    "start_time": "2025-04-27T19:57:02.382Z"
   },
   {
    "duration": 465,
    "start_time": "2025-04-27T19:57:03.077Z"
   },
   {
    "duration": 20,
    "start_time": "2025-04-27T19:57:03.544Z"
   },
   {
    "duration": 202,
    "start_time": "2025-04-27T19:57:03.566Z"
   },
   {
    "duration": 16,
    "start_time": "2025-04-27T19:57:03.769Z"
   },
   {
    "duration": 83,
    "start_time": "2025-04-27T19:57:03.786Z"
   },
   {
    "duration": 234,
    "start_time": "2025-04-27T19:57:03.871Z"
   },
   {
    "duration": 17,
    "start_time": "2025-04-27T19:57:04.106Z"
   },
   {
    "duration": 176,
    "start_time": "2025-04-27T19:57:04.125Z"
   },
   {
    "duration": 104,
    "start_time": "2025-04-27T19:57:04.305Z"
   },
   {
    "duration": 10,
    "start_time": "2025-04-27T19:57:04.412Z"
   },
   {
    "duration": 14,
    "start_time": "2025-04-27T19:57:04.424Z"
   },
   {
    "duration": 208,
    "start_time": "2025-04-27T19:57:04.439Z"
   },
   {
    "duration": 9,
    "start_time": "2025-04-27T19:57:04.649Z"
   },
   {
    "duration": 11,
    "start_time": "2025-04-27T19:57:04.660Z"
   },
   {
    "duration": 112,
    "start_time": "2025-04-27T19:57:04.672Z"
   },
   {
    "duration": 118,
    "start_time": "2025-04-27T19:57:04.786Z"
   },
   {
    "duration": 14,
    "start_time": "2025-04-27T19:57:04.906Z"
   },
   {
    "duration": 300,
    "start_time": "2025-04-27T19:57:04.921Z"
   },
   {
    "duration": 556,
    "start_time": "2025-04-27T19:57:05.223Z"
   },
   {
    "duration": 25,
    "start_time": "2025-04-27T19:57:05.780Z"
   },
   {
    "duration": 140,
    "start_time": "2025-04-27T19:57:05.807Z"
   },
   {
    "duration": 139,
    "start_time": "2025-04-27T19:57:05.949Z"
   },
   {
    "duration": 6,
    "start_time": "2025-04-27T19:57:06.090Z"
   },
   {
    "duration": 109,
    "start_time": "2025-04-27T19:57:06.098Z"
   },
   {
    "duration": 16,
    "start_time": "2025-04-27T20:04:31.642Z"
   },
   {
    "duration": 12,
    "start_time": "2025-04-27T20:05:11.305Z"
   },
   {
    "duration": 2005,
    "start_time": "2025-04-27T20:05:53.682Z"
   },
   {
    "duration": 1784,
    "start_time": "2025-04-27T20:06:27.668Z"
   },
   {
    "duration": 1370,
    "start_time": "2025-04-27T20:06:47.401Z"
   },
   {
    "duration": 1446,
    "start_time": "2025-04-27T20:08:05.674Z"
   },
   {
    "duration": 1442,
    "start_time": "2025-04-27T20:08:45.067Z"
   },
   {
    "duration": 14,
    "start_time": "2025-04-27T20:09:08.652Z"
   },
   {
    "duration": 10,
    "start_time": "2025-04-27T20:09:12.729Z"
   },
   {
    "duration": 100,
    "start_time": "2025-04-27T20:09:22.177Z"
   },
   {
    "duration": 95,
    "start_time": "2025-04-27T20:09:25.226Z"
   },
   {
    "duration": 16,
    "start_time": "2025-04-27T20:11:32.242Z"
   },
   {
    "duration": 15,
    "start_time": "2025-04-27T20:11:42.763Z"
   },
   {
    "duration": 8,
    "start_time": "2025-04-27T20:12:43.779Z"
   },
   {
    "duration": 13,
    "start_time": "2025-04-27T20:13:01.779Z"
   },
   {
    "duration": 170,
    "start_time": "2025-04-27T20:13:08.483Z"
   },
   {
    "duration": 90,
    "start_time": "2025-04-27T20:15:49.630Z"
   },
   {
    "duration": 90,
    "start_time": "2025-04-27T20:15:56.971Z"
   },
   {
    "duration": 1167,
    "start_time": "2025-04-27T20:16:31.252Z"
   },
   {
    "duration": 2148,
    "start_time": "2025-04-27T20:16:32.421Z"
   },
   {
    "duration": 633,
    "start_time": "2025-04-27T20:16:34.573Z"
   },
   {
    "duration": 669,
    "start_time": "2025-04-27T20:16:35.209Z"
   },
   {
    "duration": 393,
    "start_time": "2025-04-27T20:16:35.879Z"
   },
   {
    "duration": 35,
    "start_time": "2025-04-27T20:16:36.274Z"
   },
   {
    "duration": 287,
    "start_time": "2025-04-27T20:16:36.311Z"
   },
   {
    "duration": 15,
    "start_time": "2025-04-27T20:16:36.600Z"
   },
   {
    "duration": 48,
    "start_time": "2025-04-27T20:16:36.617Z"
   },
   {
    "duration": 252,
    "start_time": "2025-04-27T20:16:36.668Z"
   },
   {
    "duration": 15,
    "start_time": "2025-04-27T20:16:36.923Z"
   },
   {
    "duration": 158,
    "start_time": "2025-04-27T20:16:36.940Z"
   },
   {
    "duration": 49,
    "start_time": "2025-04-27T20:16:37.103Z"
   },
   {
    "duration": 10,
    "start_time": "2025-04-27T20:16:37.154Z"
   },
   {
    "duration": 19,
    "start_time": "2025-04-27T20:16:37.166Z"
   },
   {
    "duration": 93,
    "start_time": "2025-04-27T20:16:37.188Z"
   },
   {
    "duration": 23,
    "start_time": "2025-04-27T20:16:37.283Z"
   },
   {
    "duration": 30,
    "start_time": "2025-04-27T20:16:37.311Z"
   },
   {
    "duration": 14,
    "start_time": "2025-04-27T20:16:37.344Z"
   },
   {
    "duration": 113,
    "start_time": "2025-04-27T20:16:37.361Z"
   },
   {
    "duration": 135,
    "start_time": "2025-04-27T20:16:37.476Z"
   },
   {
    "duration": 14,
    "start_time": "2025-04-27T20:16:37.613Z"
   },
   {
    "duration": 12,
    "start_time": "2025-04-27T20:16:37.629Z"
   },
   {
    "duration": 203,
    "start_time": "2025-04-27T20:16:37.642Z"
   },
   {
    "duration": 565,
    "start_time": "2025-04-27T20:16:37.847Z"
   },
   {
    "duration": 15,
    "start_time": "2025-04-27T20:16:38.413Z"
   },
   {
    "duration": 49,
    "start_time": "2025-04-27T20:16:38.429Z"
   },
   {
    "duration": 50,
    "start_time": "2025-04-27T20:16:38.480Z"
   },
   {
    "duration": 6,
    "start_time": "2025-04-27T20:16:38.531Z"
   },
   {
    "duration": 194,
    "start_time": "2025-04-27T20:16:38.539Z"
   },
   {
    "duration": 188,
    "start_time": "2025-04-27T20:17:56.807Z"
   },
   {
    "duration": 73,
    "start_time": "2025-04-27T20:18:59.208Z"
   },
   {
    "duration": 78,
    "start_time": "2025-04-27T20:23:09.878Z"
   },
   {
    "duration": 95,
    "start_time": "2025-04-27T20:23:32.984Z"
   },
   {
    "duration": 119,
    "start_time": "2025-04-27T20:23:58.208Z"
   },
   {
    "duration": 32,
    "start_time": "2025-04-27T20:28:34.791Z"
   },
   {
    "duration": 1162,
    "start_time": "2025-04-27T20:28:48.340Z"
   },
   {
    "duration": 2110,
    "start_time": "2025-04-27T20:28:49.504Z"
   },
   {
    "duration": 654,
    "start_time": "2025-04-27T20:28:51.619Z"
   },
   {
    "duration": 668,
    "start_time": "2025-04-27T20:28:52.276Z"
   },
   {
    "duration": 425,
    "start_time": "2025-04-27T20:28:52.946Z"
   },
   {
    "duration": 31,
    "start_time": "2025-04-27T20:28:53.373Z"
   },
   {
    "duration": 185,
    "start_time": "2025-04-27T20:28:53.406Z"
   },
   {
    "duration": 25,
    "start_time": "2025-04-27T20:28:53.593Z"
   },
   {
    "duration": 34,
    "start_time": "2025-04-27T20:28:53.620Z"
   },
   {
    "duration": 280,
    "start_time": "2025-04-27T20:28:53.656Z"
   },
   {
    "duration": 16,
    "start_time": "2025-04-27T20:28:53.938Z"
   },
   {
    "duration": 162,
    "start_time": "2025-04-27T20:28:53.956Z"
   },
   {
    "duration": 67,
    "start_time": "2025-04-27T20:28:54.123Z"
   },
   {
    "duration": 13,
    "start_time": "2025-04-27T20:28:54.192Z"
   },
   {
    "duration": 11,
    "start_time": "2025-04-27T20:28:54.206Z"
   },
   {
    "duration": 99,
    "start_time": "2025-04-27T20:28:54.219Z"
   },
   {
    "duration": 10,
    "start_time": "2025-04-27T20:28:54.320Z"
   },
   {
    "duration": 111,
    "start_time": "2025-04-27T20:28:54.332Z"
   },
   {
    "duration": 13,
    "start_time": "2025-04-27T20:28:54.445Z"
   },
   {
    "duration": 119,
    "start_time": "2025-04-27T20:28:54.460Z"
   },
   {
    "duration": 108,
    "start_time": "2025-04-27T20:28:54.580Z"
   },
   {
    "duration": 22,
    "start_time": "2025-04-27T20:28:54.690Z"
   },
   {
    "duration": 12,
    "start_time": "2025-04-27T20:28:54.714Z"
   },
   {
    "duration": 199,
    "start_time": "2025-04-27T20:28:54.728Z"
   },
   {
    "duration": 461,
    "start_time": "2025-04-27T20:28:54.929Z"
   },
   {
    "duration": 23,
    "start_time": "2025-04-27T20:28:55.392Z"
   },
   {
    "duration": 169,
    "start_time": "2025-04-27T20:28:55.416Z"
   },
   {
    "duration": 30,
    "start_time": "2025-04-27T20:28:55.586Z"
   },
   {
    "duration": 9,
    "start_time": "2025-04-27T20:28:55.619Z"
   },
   {
    "duration": 183,
    "start_time": "2025-04-27T20:28:55.630Z"
   },
   {
    "duration": 1348,
    "start_time": "2025-04-27T20:42:49.984Z"
   },
   {
    "duration": 2102,
    "start_time": "2025-04-27T20:42:51.334Z"
   },
   {
    "duration": 716,
    "start_time": "2025-04-27T20:42:53.438Z"
   },
   {
    "duration": 751,
    "start_time": "2025-04-27T20:42:54.156Z"
   },
   {
    "duration": 420,
    "start_time": "2025-04-27T20:42:54.912Z"
   },
   {
    "duration": 22,
    "start_time": "2025-04-27T20:42:55.334Z"
   },
   {
    "duration": 202,
    "start_time": "2025-04-27T20:42:55.358Z"
   },
   {
    "duration": 17,
    "start_time": "2025-04-27T20:42:55.563Z"
   },
   {
    "duration": 70,
    "start_time": "2025-04-27T20:42:55.583Z"
   },
   {
    "duration": 374,
    "start_time": "2025-04-27T20:42:55.655Z"
   },
   {
    "duration": 25,
    "start_time": "2025-04-27T20:42:56.031Z"
   },
   {
    "duration": 167,
    "start_time": "2025-04-27T20:42:56.058Z"
   },
   {
    "duration": 55,
    "start_time": "2025-04-27T20:42:56.227Z"
   },
   {
    "duration": 9,
    "start_time": "2025-04-27T20:42:56.286Z"
   },
   {
    "duration": 9,
    "start_time": "2025-04-27T20:42:56.305Z"
   },
   {
    "duration": 117,
    "start_time": "2025-04-27T20:42:56.316Z"
   },
   {
    "duration": 10,
    "start_time": "2025-04-27T20:42:56.435Z"
   },
   {
    "duration": 64,
    "start_time": "2025-04-27T20:42:56.447Z"
   },
   {
    "duration": 19,
    "start_time": "2025-04-27T20:42:56.513Z"
   },
   {
    "duration": 145,
    "start_time": "2025-04-27T20:42:56.535Z"
   },
   {
    "duration": 124,
    "start_time": "2025-04-27T20:42:56.682Z"
   },
   {
    "duration": 14,
    "start_time": "2025-04-27T20:42:56.808Z"
   },
   {
    "duration": 26,
    "start_time": "2025-04-27T20:42:56.823Z"
   },
   {
    "duration": 207,
    "start_time": "2025-04-27T20:42:56.851Z"
   },
   {
    "duration": 566,
    "start_time": "2025-04-27T20:42:57.060Z"
   },
   {
    "duration": 18,
    "start_time": "2025-04-27T20:42:57.629Z"
   },
   {
    "duration": 67,
    "start_time": "2025-04-27T20:42:57.649Z"
   },
   {
    "duration": 47,
    "start_time": "2025-04-27T20:42:57.719Z"
   },
   {
    "duration": 8,
    "start_time": "2025-04-27T20:42:57.769Z"
   },
   {
    "duration": 213,
    "start_time": "2025-04-27T20:42:57.779Z"
   },
   {
    "duration": 1196,
    "start_time": "2025-04-28T11:31:06.182Z"
   },
   {
    "duration": 2243,
    "start_time": "2025-04-28T11:31:07.381Z"
   },
   {
    "duration": 640,
    "start_time": "2025-04-28T11:31:09.625Z"
   },
   {
    "duration": 652,
    "start_time": "2025-04-28T11:31:10.267Z"
   },
   {
    "duration": 398,
    "start_time": "2025-04-28T11:31:10.921Z"
   },
   {
    "duration": 21,
    "start_time": "2025-04-28T11:31:11.320Z"
   },
   {
    "duration": 187,
    "start_time": "2025-04-28T11:31:11.343Z"
   },
   {
    "duration": 14,
    "start_time": "2025-04-28T11:31:11.531Z"
   },
   {
    "duration": 98,
    "start_time": "2025-04-28T11:31:11.546Z"
   },
   {
    "duration": 211,
    "start_time": "2025-04-28T11:31:11.647Z"
   },
   {
    "duration": 25,
    "start_time": "2025-04-28T11:31:11.860Z"
   },
   {
    "duration": 192,
    "start_time": "2025-04-28T11:31:11.887Z"
   },
   {
    "duration": 84,
    "start_time": "2025-04-28T11:31:12.082Z"
   },
   {
    "duration": 9,
    "start_time": "2025-04-28T11:31:12.168Z"
   },
   {
    "duration": 10,
    "start_time": "2025-04-28T11:31:12.179Z"
   },
   {
    "duration": 95,
    "start_time": "2025-04-28T11:31:12.191Z"
   },
   {
    "duration": 61,
    "start_time": "2025-04-28T11:31:12.288Z"
   },
   {
    "duration": 25,
    "start_time": "2025-04-28T11:31:12.351Z"
   },
   {
    "duration": 25,
    "start_time": "2025-04-28T11:31:12.378Z"
   },
   {
    "duration": 93,
    "start_time": "2025-04-28T11:31:12.405Z"
   },
   {
    "duration": 102,
    "start_time": "2025-04-28T11:31:12.500Z"
   },
   {
    "duration": 13,
    "start_time": "2025-04-28T11:31:12.604Z"
   },
   {
    "duration": 40,
    "start_time": "2025-04-28T11:31:12.619Z"
   },
   {
    "duration": 177,
    "start_time": "2025-04-28T11:31:12.660Z"
   },
   {
    "duration": 829,
    "start_time": "2025-04-28T11:31:12.838Z"
   },
   {
    "duration": 18,
    "start_time": "2025-04-28T11:31:13.669Z"
   },
   {
    "duration": 45,
    "start_time": "2025-04-28T11:31:13.689Z"
   },
   {
    "duration": 70,
    "start_time": "2025-04-28T11:31:13.737Z"
   },
   {
    "duration": 17,
    "start_time": "2025-04-28T11:31:13.809Z"
   },
   {
    "duration": 95,
    "start_time": "2025-04-28T11:31:13.828Z"
   }
  ],
  "colab": {
   "provenance": []
  },
  "kernelspec": {
   "display_name": "Python 3 (ipykernel)",
   "language": "python",
   "name": "python3"
  },
  "language_info": {
   "codemirror_mode": {
    "name": "ipython",
    "version": 3
   },
   "file_extension": ".py",
   "mimetype": "text/x-python",
   "name": "python",
   "nbconvert_exporter": "python",
   "pygments_lexer": "ipython3",
   "version": "3.12.7"
  },
  "toc": {
   "base_numbering": 1,
   "nav_menu": {},
   "number_sections": true,
   "sideBar": true,
   "skip_h1_title": true,
   "title_cell": "Table of Contents",
   "title_sidebar": "Contents",
   "toc_cell": false,
   "toc_position": {},
   "toc_section_display": true,
   "toc_window_display": true
  }
 },
 "nbformat": 4,
 "nbformat_minor": 4
}
