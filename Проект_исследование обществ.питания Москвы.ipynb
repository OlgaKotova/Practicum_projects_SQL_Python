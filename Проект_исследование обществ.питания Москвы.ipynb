{
 "cells": [
  {
   "cell_type": "markdown",
   "id": "e06910dd",
   "metadata": {
    "id": "e06910dd"
   },
   "source": [
    "# Исследование рынка общественного питания Москвы для фонда Shut Up and Take My Money\n",
    "\n",
    "- Автор: Котова Ольга\n",
    "- Дата: 18.02.2025"
   ]
  },
  {
   "cell_type": "markdown",
   "id": "4149134c",
   "metadata": {
    "id": "4149134c"
   },
   "source": [
    "### Цели и задачи проекта\n",
    "\n",
    "<font color='#777778'>**Цель:** \n",
    "Провести исследовательский анализ рынка Москвы для инвесторов с целью открыть заведение общественного питания в Москве и определить: \n",
    "- место (кафе, ресторан, бар...);  \n",
    "- расположение;\n",
    "- цены.\n",
    " \n",
    "\n",
    "**Задачи:**\n",
    "1. Загрузить данные и познакомиться с их содержимым.\n",
    "2. Провести предобработку данных.\n",
    "3. Провести исследовательский анализ данных:\n",
    "    - Какие категории заведений представлены в данных?\n",
    "    - Какие административные районы Москвы присутствуют в данных?   \n",
    "    - Каких заведений больше — сетевых или несетевых?  \n",
    "    - Сколько посадочных мест в заведениях?  \n",
    "    - Отличается ли рейтинг заведений?\n",
    "    - С какими данными показывают самую сильную корреляцию рейтинги заведений?\n",
    "    - Топ-15 популярных сетей в Москве?\n",
    "    - Размер среднего чека заведения  в зависимости от района Москвы? \n",
    "4. Сформулировать выводы по проведённому анализу.</font>"
   ]
  },
  {
   "cell_type": "markdown",
   "id": "728986ea",
   "metadata": {
    "id": "728986ea"
   },
   "source": [
    "### Описание данных\n",
    "\n",
    "<font color='#777778'>Для анализа поступили данные о клиентах банка «Метанпром». Данные состоят из двух датасетов:\n",
    "\n",
    "- `rest_info.csv` — информация о заведениях общественного питания;\n",
    "- `rest_price.csv` —  информация о среднем чеке в заведениях общественного питания.\n",
    "\n",
    "### Описание датасета `rest_info.csv`\n",
    "\n",
    "`name` — название заведения;  \n",
    "`address` — адрес заведения;  \n",
    "`district` — административный район, в котором находится заведение, например Центральный административный округ;  \n",
    "`category` — категория заведения, например «кафе», «пиццерия» или «кофейня»;  \n",
    "`hours` — информация о днях и часах работы;  \n",
    "`rating` — рейтинг заведения по оценкам пользователей в Яндекс Картах (высшая оценка — 5.0);  \n",
    "`chain` — число, выраженное 0 или 1, которое показывает, является ли заведение сетевым (для маленьких сетей могут встречаться ошибки):  \n",
    "- 0 — заведение не является сетевым;  \n",
    "- 1 — заведение является сетевым.  \n",
    "`seats` — количество посадочных мест.\n",
    "\n",
    "### Описание датасета `rest_price.csv`\n",
    "\n",
    "`price` — категория цен в заведении, например «средние», «ниже среднего», «выше среднего» и так далее;  \n",
    "`avg_bill` — строка, которая хранит среднюю стоимость заказа в виде диапазона, например:  \n",
    "- «Средний счёт: 1000–1500 ₽»;  \n",
    "- «Цена чашки капучино: 130–220 ₽»;  \n",
    "- «Цена бокала пива: 400–600 ₽».  \n",
    "и так далее; \n",
    "    \n",
    "`middle_avg_bill` — число с оценкой среднего чека, которое указано только для значений из столбца avg_bill, начинающихся с подстроки «Средний счёт»:  \n",
    "- Если в строке указан ценовой диапазон из двух значений, в столбец войдёт медиана этих двух значений.  \n",
    "- Если в строке указано одно число — цена без диапазона, то в столбец войдёт это число.  \n",
    "- Если значения нет или оно не начинается с подстроки «Средний счёт», то в столбец ничего не войдёт.\n",
    "       \n",
    "`middle_coffee_cup` — число с оценкой одной чашки капучино, которое указано только для значений из столбца avg_bill, начинающихся с подстроки «Цена одной чашки капучино»:  \n",
    "- Если в строке указан ценовой диапазон из двух значений, в столбец войдёт медиана этих двух значений.  \n",
    "- Если в строке указано одно число — цена без диапазона, то в столбец войдёт это число.  \n",
    "- Если значения нет или оно не начинается с подстроки «Цена одной чашки капучино», то в столбец ничего не войдёт.\n",
    "</font>"
   ]
  },
  {
   "cell_type": "markdown",
   "id": "4fecaf95",
   "metadata": {
    "id": "4fecaf95"
   },
   "source": [
    "### Содержимое проекта\n",
    "\n",
    "<font color='#777778'>1. Загрузка данных и знакомство с ними.  \n",
    "2. Предобработка данных.  \n",
    "3. Исследовательский анализ данных.  \n",
    "4. Итоговые выводы.</font>\n",
    "\n",
    "---"
   ]
  },
  {
   "cell_type": "markdown",
   "id": "6f7d21d6",
   "metadata": {
    "id": "6f7d21d6"
   },
   "source": [
    "## Загрузка данных и знакомство с ними\n",
    "\n",
    "Начнём с загрузки библиотек и датасетов `rest_info.csv` и `rest_price.csv`. Будем использовать pandas и библиотеки визуализации данных matplotlib и seaborn, а также phik для построения матрицы корреляции. Данные датасетов сохраним в двух переменных: `rest_df` и `price_df`."
   ]
  },
  {
   "cell_type": "code",
   "execution_count": 1,
   "id": "05faf34b",
   "metadata": {
    "id": "05faf34b"
   },
   "outputs": [
    {
     "name": "stdout",
     "output_type": "stream",
     "text": [
      "Collecting phik==0.11.1\n",
      "  Downloading phik-0.11.1.tar.gz (596 kB)\n",
      "\u001b[K     |████████████████████████████████| 596 kB 1.2 MB/s eta 0:00:01\n",
      "\u001b[?25hRequirement already satisfied: numpy>=1.18.0 in /opt/conda/lib/python3.9/site-packages (from phik==0.11.1) (1.21.1)\n",
      "Requirement already satisfied: scipy>=1.5.2 in /opt/conda/lib/python3.9/site-packages (from phik==0.11.1) (1.9.1)\n",
      "Requirement already satisfied: pandas>=0.25.1 in /opt/conda/lib/python3.9/site-packages (from phik==0.11.1) (1.2.4)\n",
      "Requirement already satisfied: matplotlib>=2.2.3 in /opt/conda/lib/python3.9/site-packages (from phik==0.11.1) (3.3.4)\n",
      "Requirement already satisfied: joblib>=0.14.1 in /opt/conda/lib/python3.9/site-packages (from phik==0.11.1) (1.1.0)\n",
      "Requirement already satisfied: python-dateutil>=2.1 in /opt/conda/lib/python3.9/site-packages (from matplotlib>=2.2.3->phik==0.11.1) (2.8.1)\n",
      "Requirement already satisfied: kiwisolver>=1.0.1 in /opt/conda/lib/python3.9/site-packages (from matplotlib>=2.2.3->phik==0.11.1) (1.4.4)\n",
      "Requirement already satisfied: cycler>=0.10 in /opt/conda/lib/python3.9/site-packages (from matplotlib>=2.2.3->phik==0.11.1) (0.11.0)\n",
      "Requirement already satisfied: pillow>=6.2.0 in /opt/conda/lib/python3.9/site-packages (from matplotlib>=2.2.3->phik==0.11.1) (8.4.0)\n",
      "Requirement already satisfied: pyparsing!=2.0.4,!=2.1.2,!=2.1.6,>=2.0.3 in /opt/conda/lib/python3.9/site-packages (from matplotlib>=2.2.3->phik==0.11.1) (2.4.7)\n",
      "Requirement already satisfied: pytz>=2017.3 in /opt/conda/lib/python3.9/site-packages (from pandas>=0.25.1->phik==0.11.1) (2021.1)\n",
      "Requirement already satisfied: six>=1.5 in /opt/conda/lib/python3.9/site-packages (from python-dateutil>=2.1->matplotlib>=2.2.3->phik==0.11.1) (1.16.0)\n",
      "Building wheels for collected packages: phik\n",
      "  Building wheel for phik (setup.py) ... \u001b[?25ldone\n",
      "\u001b[?25h  Created wheel for phik: filename=phik-0.11.1-py3-none-any.whl size=599822 sha256=1398a90db55258bc838e83194b27ed33e5ea2a2c37691b9fd1ceff672c664328\n",
      "  Stored in directory: /home/jovyan/.cache/pip/wheels/47/a3/a2/54f05f62f6f8c5532fab1bb745f1bad3b5f1d53267efde761d\n",
      "Successfully built phik\n",
      "Installing collected packages: phik\n",
      "Successfully installed phik-0.11.1\n"
     ]
    }
   ],
   "source": [
    "# Импортируем библиотеки\n",
    "import pandas as pd\n",
    "\n",
    "# Загружаем библиотеки для визуализации данных\n",
    "import matplotlib.pyplot as plt\n",
    "\n",
    "import seaborn as sns\n",
    "\n",
    "# Загружаем библиотеку для расчёта коэффициента корреляции phi_k\n",
    "!pip install phik==0.11.1\n",
    "from phik import phik\n",
    "from phik import resources\n",
    "\n",
    "\n",
    "import warnings\n",
    "\n",
    "# Отключаем предупреждения\n",
    "warnings.filterwarnings('ignore')"
   ]
  },
  {
   "cell_type": "code",
   "execution_count": 2,
   "id": "ce87c1db",
   "metadata": {
    "id": "ce87c1db"
   },
   "outputs": [],
   "source": [
    "# Выгружаем данные в переменные rest_df и price_df\n",
    "rest_df = pd.read_csv('https://code.s3.yandex.net/datasets/rest_info.csv')\n",
    "price_df = pd.read_csv('https://code.s3.yandex.net/datasets/rest_price.csv')"
   ]
  },
  {
   "cell_type": "markdown",
   "id": "18a73eb1",
   "metadata": {
    "id": "90fee493"
   },
   "source": [
    "Познакомимся с данными датасета `rest_info.csv` — выведем первые строки методом head(), а информацию о датафрейме методом info():"
   ]
  },
  {
   "cell_type": "code",
   "execution_count": 3,
   "id": "17bb45e2",
   "metadata": {
    "id": "18b5dfff"
   },
   "outputs": [
    {
     "data": {
      "text/html": [
       "<div>\n",
       "<style scoped>\n",
       "    .dataframe tbody tr th:only-of-type {\n",
       "        vertical-align: middle;\n",
       "    }\n",
       "\n",
       "    .dataframe tbody tr th {\n",
       "        vertical-align: top;\n",
       "    }\n",
       "\n",
       "    .dataframe thead th {\n",
       "        text-align: right;\n",
       "    }\n",
       "</style>\n",
       "<table border=\"1\" class=\"dataframe\">\n",
       "  <thead>\n",
       "    <tr style=\"text-align: right;\">\n",
       "      <th></th>\n",
       "      <th>id</th>\n",
       "      <th>name</th>\n",
       "      <th>category</th>\n",
       "      <th>address</th>\n",
       "      <th>district</th>\n",
       "      <th>hours</th>\n",
       "      <th>rating</th>\n",
       "      <th>chain</th>\n",
       "      <th>seats</th>\n",
       "    </tr>\n",
       "  </thead>\n",
       "  <tbody>\n",
       "    <tr>\n",
       "      <th>0</th>\n",
       "      <td>0c3e3439a8c64ea5bf6ecd6ca6ae19f0</td>\n",
       "      <td>WoWфли</td>\n",
       "      <td>кафе</td>\n",
       "      <td>Москва, улица Дыбенко, 7/1</td>\n",
       "      <td>Северный административный округ</td>\n",
       "      <td>ежедневно, 10:00–22:00</td>\n",
       "      <td>5.0</td>\n",
       "      <td>0</td>\n",
       "      <td>NaN</td>\n",
       "    </tr>\n",
       "    <tr>\n",
       "      <th>1</th>\n",
       "      <td>045780ada3474c57a2112e505d74b633</td>\n",
       "      <td>Четыре комнаты</td>\n",
       "      <td>ресторан</td>\n",
       "      <td>Москва, улица Дыбенко, 36, корп. 1</td>\n",
       "      <td>Северный административный округ</td>\n",
       "      <td>ежедневно, 10:00–22:00</td>\n",
       "      <td>4.5</td>\n",
       "      <td>0</td>\n",
       "      <td>4.0</td>\n",
       "    </tr>\n",
       "    <tr>\n",
       "      <th>2</th>\n",
       "      <td>1070b6b59144425896c65889347fcff6</td>\n",
       "      <td>Хазри</td>\n",
       "      <td>кафе</td>\n",
       "      <td>Москва, Клязьминская улица, 15</td>\n",
       "      <td>Северный административный округ</td>\n",
       "      <td>пн-чт 11:00–02:00; пт,сб 11:00–05:00; вс 11:00...</td>\n",
       "      <td>4.6</td>\n",
       "      <td>0</td>\n",
       "      <td>45.0</td>\n",
       "    </tr>\n",
       "    <tr>\n",
       "      <th>3</th>\n",
       "      <td>03ac7cd772104f65b58b349dc59f03ee</td>\n",
       "      <td>Dormouse Coffee Shop</td>\n",
       "      <td>кофейня</td>\n",
       "      <td>Москва, улица Маршала Федоренко, 12</td>\n",
       "      <td>Северный административный округ</td>\n",
       "      <td>ежедневно, 09:00–22:00</td>\n",
       "      <td>5.0</td>\n",
       "      <td>0</td>\n",
       "      <td>NaN</td>\n",
       "    </tr>\n",
       "    <tr>\n",
       "      <th>4</th>\n",
       "      <td>a163aada139c4c7f87b0b1c0b466a50f</td>\n",
       "      <td>Иль Марко</td>\n",
       "      <td>пиццерия</td>\n",
       "      <td>Москва, Правобережная улица, 1Б</td>\n",
       "      <td>Северный административный округ</td>\n",
       "      <td>ежедневно, 10:00–22:00</td>\n",
       "      <td>5.0</td>\n",
       "      <td>1</td>\n",
       "      <td>148.0</td>\n",
       "    </tr>\n",
       "  </tbody>\n",
       "</table>\n",
       "</div>"
      ],
      "text/plain": [
       "                                 id                  name  category  \\\n",
       "0  0c3e3439a8c64ea5bf6ecd6ca6ae19f0                WoWфли      кафе   \n",
       "1  045780ada3474c57a2112e505d74b633        Четыре комнаты  ресторан   \n",
       "2  1070b6b59144425896c65889347fcff6                 Хазри      кафе   \n",
       "3  03ac7cd772104f65b58b349dc59f03ee  Dormouse Coffee Shop   кофейня   \n",
       "4  a163aada139c4c7f87b0b1c0b466a50f             Иль Марко  пиццерия   \n",
       "\n",
       "                               address                         district  \\\n",
       "0           Москва, улица Дыбенко, 7/1  Северный административный округ   \n",
       "1   Москва, улица Дыбенко, 36, корп. 1  Северный административный округ   \n",
       "2       Москва, Клязьминская улица, 15  Северный административный округ   \n",
       "3  Москва, улица Маршала Федоренко, 12  Северный административный округ   \n",
       "4      Москва, Правобережная улица, 1Б  Северный административный округ   \n",
       "\n",
       "                                               hours  rating  chain  seats  \n",
       "0                             ежедневно, 10:00–22:00     5.0      0    NaN  \n",
       "1                             ежедневно, 10:00–22:00     4.5      0    4.0  \n",
       "2  пн-чт 11:00–02:00; пт,сб 11:00–05:00; вс 11:00...     4.6      0   45.0  \n",
       "3                             ежедневно, 09:00–22:00     5.0      0    NaN  \n",
       "4                             ежедневно, 10:00–22:00     5.0      1  148.0  "
      ]
     },
     "execution_count": 3,
     "metadata": {},
     "output_type": "execute_result"
    }
   ],
   "source": [
    "#Выводим первые строки датафрейма на экран\n",
    "rest_df.head()"
   ]
  },
  {
   "cell_type": "code",
   "execution_count": 4,
   "id": "f68a7419",
   "metadata": {
    "id": "f68a7419",
    "scrolled": true
   },
   "outputs": [
    {
     "name": "stdout",
     "output_type": "stream",
     "text": [
      "<class 'pandas.core.frame.DataFrame'>\n",
      "RangeIndex: 8406 entries, 0 to 8405\n",
      "Data columns (total 9 columns):\n",
      " #   Column    Non-Null Count  Dtype  \n",
      "---  ------    --------------  -----  \n",
      " 0   id        8406 non-null   object \n",
      " 1   name      8406 non-null   object \n",
      " 2   category  8406 non-null   object \n",
      " 3   address   8406 non-null   object \n",
      " 4   district  8406 non-null   object \n",
      " 5   hours     7870 non-null   object \n",
      " 6   rating    8406 non-null   float64\n",
      " 7   chain     8406 non-null   int64  \n",
      " 8   seats     4795 non-null   float64\n",
      "dtypes: float64(2), int64(1), object(6)\n",
      "memory usage: 591.2+ KB\n"
     ]
    }
   ],
   "source": [
    "# Выводим информацию о датафрейме\n",
    "rest_df.info()"
   ]
  },
  {
   "cell_type": "markdown",
   "id": "56dde7de",
   "metadata": {},
   "source": [
    "Датасет `rest_price.csv` содержит 9 столбцов и 8406 строк, в которых представлена информация о заведениях общественного питания Москвы.\n",
    "\n",
    "После первичного анализа данных можно сделать следующие **промежуточные выводы**:\n",
    "- Названия столбцов приведены к виду snake case.\n",
    "- Представленные данные содержат строковые данные, которые находятся в корректном типе данных object по столбцам `id`, `name`, `category`, `address`, `district`, `hours` (часы работы включают диапазон времени и слова ежедневно и тд, т.е. приведение к datetime нецелесообразно). А также содеражат - числовые значения в столбцах `rating` и `seats` в типе float64 и `chain` - в   int64 и показывает, является ли заведение сетевым, и содержит значения 1 или 0 — размерность этих данных можно оптимизировать. Количество мест `seats` также можно перевести в целочисленный формат.\n",
    "- Пропуски содержатся только в столбцах `hours` и `seats`. \n",
    "- Судя по первому знакомству с данными, значения в столбцах соответствуют своему описанию.\n",
    "\n",
    "Теперь познакомимся с данными датасета `rest_price.csv`."
   ]
  },
  {
   "cell_type": "code",
   "execution_count": 5,
   "id": "31c51070",
   "metadata": {},
   "outputs": [
    {
     "data": {
      "text/html": [
       "<div>\n",
       "<style scoped>\n",
       "    .dataframe tbody tr th:only-of-type {\n",
       "        vertical-align: middle;\n",
       "    }\n",
       "\n",
       "    .dataframe tbody tr th {\n",
       "        vertical-align: top;\n",
       "    }\n",
       "\n",
       "    .dataframe thead th {\n",
       "        text-align: right;\n",
       "    }\n",
       "</style>\n",
       "<table border=\"1\" class=\"dataframe\">\n",
       "  <thead>\n",
       "    <tr style=\"text-align: right;\">\n",
       "      <th></th>\n",
       "      <th>id</th>\n",
       "      <th>price</th>\n",
       "      <th>avg_bill</th>\n",
       "      <th>middle_avg_bill</th>\n",
       "      <th>middle_coffee_cup</th>\n",
       "    </tr>\n",
       "  </thead>\n",
       "  <tbody>\n",
       "    <tr>\n",
       "      <th>0</th>\n",
       "      <td>045780ada3474c57a2112e505d74b633</td>\n",
       "      <td>выше среднего</td>\n",
       "      <td>Средний счёт:1500–1600 ₽</td>\n",
       "      <td>1550.0</td>\n",
       "      <td>NaN</td>\n",
       "    </tr>\n",
       "    <tr>\n",
       "      <th>1</th>\n",
       "      <td>1070b6b59144425896c65889347fcff6</td>\n",
       "      <td>средние</td>\n",
       "      <td>Средний счёт:от 1000 ₽</td>\n",
       "      <td>1000.0</td>\n",
       "      <td>NaN</td>\n",
       "    </tr>\n",
       "    <tr>\n",
       "      <th>2</th>\n",
       "      <td>03ac7cd772104f65b58b349dc59f03ee</td>\n",
       "      <td>NaN</td>\n",
       "      <td>Цена чашки капучино:155–185 ₽</td>\n",
       "      <td>NaN</td>\n",
       "      <td>170.0</td>\n",
       "    </tr>\n",
       "    <tr>\n",
       "      <th>3</th>\n",
       "      <td>a163aada139c4c7f87b0b1c0b466a50f</td>\n",
       "      <td>средние</td>\n",
       "      <td>Средний счёт:400–600 ₽</td>\n",
       "      <td>500.0</td>\n",
       "      <td>NaN</td>\n",
       "    </tr>\n",
       "    <tr>\n",
       "      <th>4</th>\n",
       "      <td>8a343546b24e4a499ad96eb7d0797a8a</td>\n",
       "      <td>средние</td>\n",
       "      <td>NaN</td>\n",
       "      <td>NaN</td>\n",
       "      <td>NaN</td>\n",
       "    </tr>\n",
       "  </tbody>\n",
       "</table>\n",
       "</div>"
      ],
      "text/plain": [
       "                                 id          price  \\\n",
       "0  045780ada3474c57a2112e505d74b633  выше среднего   \n",
       "1  1070b6b59144425896c65889347fcff6        средние   \n",
       "2  03ac7cd772104f65b58b349dc59f03ee            NaN   \n",
       "3  a163aada139c4c7f87b0b1c0b466a50f        средние   \n",
       "4  8a343546b24e4a499ad96eb7d0797a8a        средние   \n",
       "\n",
       "                        avg_bill  middle_avg_bill  middle_coffee_cup  \n",
       "0       Средний счёт:1500–1600 ₽           1550.0                NaN  \n",
       "1         Средний счёт:от 1000 ₽           1000.0                NaN  \n",
       "2  Цена чашки капучино:155–185 ₽              NaN              170.0  \n",
       "3         Средний счёт:400–600 ₽            500.0                NaN  \n",
       "4                            NaN              NaN                NaN  "
      ]
     },
     "execution_count": 5,
     "metadata": {},
     "output_type": "execute_result"
    }
   ],
   "source": [
    "#Выводим первые строки датафрейма на экран\n",
    "price_df.head()"
   ]
  },
  {
   "cell_type": "code",
   "execution_count": 6,
   "id": "ab85666f",
   "metadata": {},
   "outputs": [
    {
     "name": "stdout",
     "output_type": "stream",
     "text": [
      "<class 'pandas.core.frame.DataFrame'>\n",
      "RangeIndex: 4058 entries, 0 to 4057\n",
      "Data columns (total 5 columns):\n",
      " #   Column             Non-Null Count  Dtype  \n",
      "---  ------             --------------  -----  \n",
      " 0   id                 4058 non-null   object \n",
      " 1   price              3315 non-null   object \n",
      " 2   avg_bill           3816 non-null   object \n",
      " 3   middle_avg_bill    3149 non-null   float64\n",
      " 4   middle_coffee_cup  535 non-null    float64\n",
      "dtypes: float64(2), object(3)\n",
      "memory usage: 158.6+ KB\n"
     ]
    }
   ],
   "source": [
    "# Выводим информацию о датафрейме\n",
    "price_df.info()"
   ]
  },
  {
   "cell_type": "markdown",
   "id": "51cb0542",
   "metadata": {},
   "source": [
    "Датасет `rest_info.csv` содержит 5 столбцов и 4058 строк, в которых представлена информация о ценах в заведениях общественного питания Москвы.\n",
    "\n",
    "После первичного анализа данных можно сделать следующие **промежуточные выводы**:\n",
    "- Названия столбцов приведены к виду snake case.\n",
    "- Первый столбец `id` может быть использован для соединения исследуемых датасетов в один для дальнейшего анализа.\n",
    "- Представленные данные содержат строковые данные, которые находятся в корректном типе данных object по столбцам `price`, `avg_bill`\n",
    "а также содеражат - числовые значения в столбцах `middle_avg_bill` и `middle_coffee_cup` в корректном типе float64.\n",
    "- Пропуски содержатся есть во всех столбцах, кроме `id`.\n",
    "- Судя по первому знакомству с данными, значения в столбцах соответствуют своему описанию.\n"
   ]
  },
  {
   "cell_type": "code",
   "execution_count": 7,
   "id": "3408e303",
   "metadata": {
    "id": "3408e303"
   },
   "outputs": [],
   "source": [
    "df = rest_df.merge(price_df, on='id', how='left')"
   ]
  },
  {
   "cell_type": "code",
   "execution_count": 8,
   "id": "5695950b",
   "metadata": {
    "id": "5695950b"
   },
   "outputs": [
    {
     "data": {
      "text/html": [
       "<div>\n",
       "<style scoped>\n",
       "    .dataframe tbody tr th:only-of-type {\n",
       "        vertical-align: middle;\n",
       "    }\n",
       "\n",
       "    .dataframe tbody tr th {\n",
       "        vertical-align: top;\n",
       "    }\n",
       "\n",
       "    .dataframe thead th {\n",
       "        text-align: right;\n",
       "    }\n",
       "</style>\n",
       "<table border=\"1\" class=\"dataframe\">\n",
       "  <thead>\n",
       "    <tr style=\"text-align: right;\">\n",
       "      <th></th>\n",
       "      <th>id</th>\n",
       "      <th>name</th>\n",
       "      <th>category</th>\n",
       "      <th>address</th>\n",
       "      <th>district</th>\n",
       "      <th>hours</th>\n",
       "      <th>rating</th>\n",
       "      <th>chain</th>\n",
       "      <th>seats</th>\n",
       "      <th>price</th>\n",
       "      <th>avg_bill</th>\n",
       "      <th>middle_avg_bill</th>\n",
       "      <th>middle_coffee_cup</th>\n",
       "    </tr>\n",
       "  </thead>\n",
       "  <tbody>\n",
       "    <tr>\n",
       "      <th>0</th>\n",
       "      <td>0c3e3439a8c64ea5bf6ecd6ca6ae19f0</td>\n",
       "      <td>WoWфли</td>\n",
       "      <td>кафе</td>\n",
       "      <td>Москва, улица Дыбенко, 7/1</td>\n",
       "      <td>Северный административный округ</td>\n",
       "      <td>ежедневно, 10:00–22:00</td>\n",
       "      <td>5.0</td>\n",
       "      <td>0</td>\n",
       "      <td>NaN</td>\n",
       "      <td>NaN</td>\n",
       "      <td>NaN</td>\n",
       "      <td>NaN</td>\n",
       "      <td>NaN</td>\n",
       "    </tr>\n",
       "    <tr>\n",
       "      <th>1</th>\n",
       "      <td>045780ada3474c57a2112e505d74b633</td>\n",
       "      <td>Четыре комнаты</td>\n",
       "      <td>ресторан</td>\n",
       "      <td>Москва, улица Дыбенко, 36, корп. 1</td>\n",
       "      <td>Северный административный округ</td>\n",
       "      <td>ежедневно, 10:00–22:00</td>\n",
       "      <td>4.5</td>\n",
       "      <td>0</td>\n",
       "      <td>4.0</td>\n",
       "      <td>выше среднего</td>\n",
       "      <td>Средний счёт:1500–1600 ₽</td>\n",
       "      <td>1550.0</td>\n",
       "      <td>NaN</td>\n",
       "    </tr>\n",
       "    <tr>\n",
       "      <th>2</th>\n",
       "      <td>1070b6b59144425896c65889347fcff6</td>\n",
       "      <td>Хазри</td>\n",
       "      <td>кафе</td>\n",
       "      <td>Москва, Клязьминская улица, 15</td>\n",
       "      <td>Северный административный округ</td>\n",
       "      <td>пн-чт 11:00–02:00; пт,сб 11:00–05:00; вс 11:00...</td>\n",
       "      <td>4.6</td>\n",
       "      <td>0</td>\n",
       "      <td>45.0</td>\n",
       "      <td>средние</td>\n",
       "      <td>Средний счёт:от 1000 ₽</td>\n",
       "      <td>1000.0</td>\n",
       "      <td>NaN</td>\n",
       "    </tr>\n",
       "    <tr>\n",
       "      <th>3</th>\n",
       "      <td>03ac7cd772104f65b58b349dc59f03ee</td>\n",
       "      <td>Dormouse Coffee Shop</td>\n",
       "      <td>кофейня</td>\n",
       "      <td>Москва, улица Маршала Федоренко, 12</td>\n",
       "      <td>Северный административный округ</td>\n",
       "      <td>ежедневно, 09:00–22:00</td>\n",
       "      <td>5.0</td>\n",
       "      <td>0</td>\n",
       "      <td>NaN</td>\n",
       "      <td>NaN</td>\n",
       "      <td>Цена чашки капучино:155–185 ₽</td>\n",
       "      <td>NaN</td>\n",
       "      <td>170.0</td>\n",
       "    </tr>\n",
       "    <tr>\n",
       "      <th>4</th>\n",
       "      <td>a163aada139c4c7f87b0b1c0b466a50f</td>\n",
       "      <td>Иль Марко</td>\n",
       "      <td>пиццерия</td>\n",
       "      <td>Москва, Правобережная улица, 1Б</td>\n",
       "      <td>Северный административный округ</td>\n",
       "      <td>ежедневно, 10:00–22:00</td>\n",
       "      <td>5.0</td>\n",
       "      <td>1</td>\n",
       "      <td>148.0</td>\n",
       "      <td>средние</td>\n",
       "      <td>Средний счёт:400–600 ₽</td>\n",
       "      <td>500.0</td>\n",
       "      <td>NaN</td>\n",
       "    </tr>\n",
       "  </tbody>\n",
       "</table>\n",
       "</div>"
      ],
      "text/plain": [
       "                                 id                  name  category  \\\n",
       "0  0c3e3439a8c64ea5bf6ecd6ca6ae19f0                WoWфли      кафе   \n",
       "1  045780ada3474c57a2112e505d74b633        Четыре комнаты  ресторан   \n",
       "2  1070b6b59144425896c65889347fcff6                 Хазри      кафе   \n",
       "3  03ac7cd772104f65b58b349dc59f03ee  Dormouse Coffee Shop   кофейня   \n",
       "4  a163aada139c4c7f87b0b1c0b466a50f             Иль Марко  пиццерия   \n",
       "\n",
       "                               address                         district  \\\n",
       "0           Москва, улица Дыбенко, 7/1  Северный административный округ   \n",
       "1   Москва, улица Дыбенко, 36, корп. 1  Северный административный округ   \n",
       "2       Москва, Клязьминская улица, 15  Северный административный округ   \n",
       "3  Москва, улица Маршала Федоренко, 12  Северный административный округ   \n",
       "4      Москва, Правобережная улица, 1Б  Северный административный округ   \n",
       "\n",
       "                                               hours  rating  chain  seats  \\\n",
       "0                             ежедневно, 10:00–22:00     5.0      0    NaN   \n",
       "1                             ежедневно, 10:00–22:00     4.5      0    4.0   \n",
       "2  пн-чт 11:00–02:00; пт,сб 11:00–05:00; вс 11:00...     4.6      0   45.0   \n",
       "3                             ежедневно, 09:00–22:00     5.0      0    NaN   \n",
       "4                             ежедневно, 10:00–22:00     5.0      1  148.0   \n",
       "\n",
       "           price                       avg_bill  middle_avg_bill  \\\n",
       "0            NaN                            NaN              NaN   \n",
       "1  выше среднего       Средний счёт:1500–1600 ₽           1550.0   \n",
       "2        средние         Средний счёт:от 1000 ₽           1000.0   \n",
       "3            NaN  Цена чашки капучино:155–185 ₽              NaN   \n",
       "4        средние         Средний счёт:400–600 ₽            500.0   \n",
       "\n",
       "   middle_coffee_cup  \n",
       "0                NaN  \n",
       "1                NaN  \n",
       "2                NaN  \n",
       "3              170.0  \n",
       "4                NaN  "
      ]
     },
     "execution_count": 8,
     "metadata": {},
     "output_type": "execute_result"
    }
   ],
   "source": [
    "df.head()"
   ]
  },
  {
   "cell_type": "code",
   "execution_count": 9,
   "id": "1fe2ccbc",
   "metadata": {
    "scrolled": true
   },
   "outputs": [
    {
     "name": "stdout",
     "output_type": "stream",
     "text": [
      "<class 'pandas.core.frame.DataFrame'>\n",
      "Int64Index: 8406 entries, 0 to 8405\n",
      "Data columns (total 13 columns):\n",
      " #   Column             Non-Null Count  Dtype  \n",
      "---  ------             --------------  -----  \n",
      " 0   id                 8406 non-null   object \n",
      " 1   name               8406 non-null   object \n",
      " 2   category           8406 non-null   object \n",
      " 3   address            8406 non-null   object \n",
      " 4   district           8406 non-null   object \n",
      " 5   hours              7870 non-null   object \n",
      " 6   rating             8406 non-null   float64\n",
      " 7   chain              8406 non-null   int64  \n",
      " 8   seats              4795 non-null   float64\n",
      " 9   price              3315 non-null   object \n",
      " 10  avg_bill           3816 non-null   object \n",
      " 11  middle_avg_bill    3149 non-null   float64\n",
      " 12  middle_coffee_cup  535 non-null    float64\n",
      "dtypes: float64(4), int64(1), object(8)\n",
      "memory usage: 919.4+ KB\n"
     ]
    }
   ],
   "source": [
    "# Выводим информацию о датафрейме\n",
    "df.info()"
   ]
  },
  {
   "cell_type": "markdown",
   "id": "7ac873ba",
   "metadata": {},
   "source": [
    "Объединение прошло успешно, теперь все данные в одном датасете."
   ]
  },
  {
   "cell_type": "markdown",
   "id": "956e82e2",
   "metadata": {
    "id": "956e82e2"
   },
   "source": [
    "## 2. Предобработка данных\n",
    "\n",
    "Подготовим данные к исследовательскому анализу:\n",
    "\n",
    "Для оптимизации типов данных будем использовать метод pd.to_numeric исходя из намеченного плана при знакомстве с данными: для стобца`chain`, находящегося  в   int64, со значениями 1 или 0 — размерность оптимизируем, а также столбец `seats` приводим в целочисленный формат - посокльку в нем были пропуски, их предварительно меняем на 0."
   ]
  },
  {
   "cell_type": "code",
   "execution_count": 10,
   "id": "67956690",
   "metadata": {
    "id": "67956690"
   },
   "outputs": [],
   "source": [
    "#Сначала заменяем пропуски в seats на 0, без этого код выдаст ошибку, и меняем на int\n",
    "df['seats'] = df['seats'].fillna(0)\n",
    "df['seats'] =df['seats'].astype(int)\n",
    "# Оптимизируем целочисленный тип данных\n",
    "df['chain'] = pd.to_numeric(df['chain'], downcast='integer')\n",
    "df['seats'] =pd.to_numeric(df['seats'],downcast='integer')   "
   ]
  },
  {
   "cell_type": "code",
   "execution_count": 11,
   "id": "b5f2a94d",
   "metadata": {
    "id": "b5f2a94d"
   },
   "outputs": [
    {
     "data": {
      "text/plain": [
       "id                    object\n",
       "name                  object\n",
       "category              object\n",
       "address               object\n",
       "district              object\n",
       "hours                 object\n",
       "rating               float64\n",
       "chain                   int8\n",
       "seats                  int16\n",
       "price                 object\n",
       "avg_bill              object\n",
       "middle_avg_bill      float64\n",
       "middle_coffee_cup    float64\n",
       "dtype: object"
      ]
     },
     "execution_count": 11,
     "metadata": {},
     "output_type": "execute_result"
    }
   ],
   "source": [
    "# Проверим типы данных\n",
    "df.dtypes"
   ]
  },
  {
   "cell_type": "markdown",
   "id": "6cfca627",
   "metadata": {
    "id": "620d2f08"
   },
   "source": [
    "В итоге произошло снижение размерности: в `chain` до int8, в `seats`до int16. В остальном типы данных подходят для анализа."
   ]
  },
  {
   "cell_type": "markdown",
   "id": "4b7ee469",
   "metadata": {
    "id": "4b7ee469"
   },
   "source": [
    "Подробнее изучим пропущенные значения в данных, обнаруженные на этапе знакомства:\n",
    "посчитаем их количество в каждом столбце и изучим данные с пропущенными значениями. "
   ]
  },
  {
   "cell_type": "code",
   "execution_count": 12,
   "id": "3d8840ca",
   "metadata": {
    "id": "3d8840ca",
    "scrolled": true
   },
   "outputs": [
    {
     "data": {
      "text/plain": [
       "id                      0\n",
       "name                    0\n",
       "category                0\n",
       "address                 0\n",
       "district                0\n",
       "hours                 536\n",
       "rating                  0\n",
       "chain                   0\n",
       "seats                   0\n",
       "price                5091\n",
       "avg_bill             4590\n",
       "middle_avg_bill      5257\n",
       "middle_coffee_cup    7871\n",
       "dtype: int64"
      ]
     },
     "execution_count": 12,
     "metadata": {},
     "output_type": "execute_result"
    }
   ],
   "source": [
    "# выводим количество пропусков в каждом столбце в абсолютном значении\n",
    "df.isna().sum()"
   ]
  },
  {
   "cell_type": "code",
   "execution_count": 13,
   "id": "b06a21e5",
   "metadata": {},
   "outputs": [
    {
     "data": {
      "text/plain": [
       "id                   0.000000\n",
       "name                 0.000000\n",
       "category             0.000000\n",
       "address              0.000000\n",
       "district             0.000000\n",
       "hours                0.063764\n",
       "rating               0.000000\n",
       "chain                0.000000\n",
       "seats                0.000000\n",
       "price                0.605639\n",
       "avg_bill             0.546039\n",
       "middle_avg_bill      0.625387\n",
       "middle_coffee_cup    0.936355\n",
       "dtype: float64"
      ]
     },
     "execution_count": 13,
     "metadata": {},
     "output_type": "execute_result"
    }
   ],
   "source": [
    "# выводим количество пропусков в каждом столбце в относительном значении\n",
    "df.isna().mean()"
   ]
  },
  {
   "cell_type": "markdown",
   "id": "206ce1eb",
   "metadata": {},
   "source": [
    "По столбцу `hours` 536 пропусков, это менее 1%, игнорируем их.\n",
    "Более 50% пропусков в столбцах `price`, `avg_bill`, `middle_avg_bill`. Пропуски занимают достаточное количество, что может быть объяснено источником предоставленных данных - часть из них была \"добыта\" из открытых источников, частично не смогли найти информацию. Поскольку нет информации о ценах, то и средние величины с пропусками, но при этом заменять их на какие-либо значения не представляется целесообразным: заполнять средним или медианой сложно, так как они могут зависеть от множества факторов и в итоге не будут корректным отражением реальности, а в итоге могут исказить реальную картину распределения. \n",
    "В связи с чем оставим пропуски (количество пропусков достаточно большое, чтобы их просто удалить), но будем учитывать это при анализе - всегда включая сортировку в значения, либо отсекая пропуски и заглушки (как 0 в `seats`).\n",
    "Самое большое количество пропусков более 90% по столбцу `middle_coffee_cup`, что также объясняется тем, что не везде есть средняя стоимость именно по кофе. Поскольку столбец напрямую не используется в исследовании - оставим как есть."
   ]
  },
  {
   "cell_type": "markdown",
   "id": "c4d5f04d",
   "metadata": {
    "id": "c4d5f04d"
   },
   "source": [
    "Проверим данные на явные и неявные дубликаты. \n",
    "Отметим, что проверять на дубликаты целесообразно в паре: поле с названием и адресом заведения. Для оптимизации проверки названия заведения приведем к нижнему регистру для исключения неявных дубликатов, посмотрим, какие уникальные значения в столбцах категории заведения и районов, необходимо ли там провести аналогичную работу? Проверим неявные дубликаты — значения по `id` клиентов должны быть уникальными."
   ]
  },
  {
   "cell_type": "code",
   "execution_count": 14,
   "id": "0769b681",
   "metadata": {
    "id": "0769b681"
   },
   "outputs": [
    {
     "data": {
      "text/html": [
       "<div>\n",
       "<style scoped>\n",
       "    .dataframe tbody tr th:only-of-type {\n",
       "        vertical-align: middle;\n",
       "    }\n",
       "\n",
       "    .dataframe tbody tr th {\n",
       "        vertical-align: top;\n",
       "    }\n",
       "\n",
       "    .dataframe thead th {\n",
       "        text-align: right;\n",
       "    }\n",
       "</style>\n",
       "<table border=\"1\" class=\"dataframe\">\n",
       "  <thead>\n",
       "    <tr style=\"text-align: right;\">\n",
       "      <th></th>\n",
       "      <th>name</th>\n",
       "      <th>address</th>\n",
       "    </tr>\n",
       "  </thead>\n",
       "  <tbody>\n",
       "    <tr>\n",
       "      <th>0</th>\n",
       "      <td>wowфли</td>\n",
       "      <td>москва, улица дыбенко, 7/1</td>\n",
       "    </tr>\n",
       "    <tr>\n",
       "      <th>1</th>\n",
       "      <td>четыре комнаты</td>\n",
       "      <td>москва, улица дыбенко, 36, корп. 1</td>\n",
       "    </tr>\n",
       "    <tr>\n",
       "      <th>2</th>\n",
       "      <td>хазри</td>\n",
       "      <td>москва, клязьминская улица, 15</td>\n",
       "    </tr>\n",
       "    <tr>\n",
       "      <th>3</th>\n",
       "      <td>dormouse coffee shop</td>\n",
       "      <td>москва, улица маршала федоренко, 12</td>\n",
       "    </tr>\n",
       "    <tr>\n",
       "      <th>4</th>\n",
       "      <td>иль марко</td>\n",
       "      <td>москва, правобережная улица, 1б</td>\n",
       "    </tr>\n",
       "  </tbody>\n",
       "</table>\n",
       "</div>"
      ],
      "text/plain": [
       "                   name                              address\n",
       "0                wowфли           москва, улица дыбенко, 7/1\n",
       "1        четыре комнаты   москва, улица дыбенко, 36, корп. 1\n",
       "2                 хазри       москва, клязьминская улица, 15\n",
       "3  dormouse coffee shop  москва, улица маршала федоренко, 12\n",
       "4             иль марко      москва, правобережная улица, 1б"
      ]
     },
     "execution_count": 14,
     "metadata": {},
     "output_type": "execute_result"
    }
   ],
   "source": [
    "# Приводим названия и адреса к нижнему регистру\n",
    "df['name']=df['name'].str.lower()\n",
    "df['address']=df['address'].str.lower()\n",
    "df[['name','address']].head()"
   ]
  },
  {
   "cell_type": "code",
   "execution_count": 15,
   "id": "95b15cd0",
   "metadata": {
    "id": "95b15cd0"
   },
   "outputs": [
    {
     "data": {
      "text/plain": [
       "array(['кафе', 'ресторан', 'кофейня', 'пиццерия', 'бар,паб',\n",
       "       'быстрое питание', 'булочная', 'столовая'], dtype=object)"
      ]
     },
     "metadata": {},
     "output_type": "display_data"
    },
    {
     "data": {
      "text/plain": [
       "array(['Северный административный округ',\n",
       "       'Северо-Восточный административный округ',\n",
       "       'Северо-Западный административный округ',\n",
       "       'Западный административный округ',\n",
       "       'Центральный административный округ',\n",
       "       'Восточный административный округ',\n",
       "       'Юго-Восточный административный округ',\n",
       "       'Южный административный округ',\n",
       "       'Юго-Западный административный округ'], dtype=object)"
      ]
     },
     "metadata": {},
     "output_type": "display_data"
    }
   ],
   "source": [
    "# смотрим на уникальные значения в категориях и районах\n",
    "display(df['category'].unique())\n",
    "display(df['district'].unique())"
   ]
  },
  {
   "cell_type": "markdown",
   "id": "b26bfed9",
   "metadata": {
    "id": "b52bae9a"
   },
   "source": [
    "В обозначении категории и районов нет ошибок в регистре, теперь переходим к поиску дубликатов и их удалению в сочетании имя-адрес."
   ]
  },
  {
   "cell_type": "code",
   "execution_count": 16,
   "id": "6eb0d6d5",
   "metadata": {},
   "outputs": [
    {
     "data": {
      "text/plain": [
       "4"
      ]
     },
     "execution_count": 16,
     "metadata": {},
     "output_type": "execute_result"
    }
   ],
   "source": [
    "# ищем количество явных дубликатов в 'name', 'address', сохраняя первую встреченную строку \n",
    "df.duplicated(subset=['name', 'address'], keep='first').sum()\n"
   ]
  },
  {
   "cell_type": "markdown",
   "id": "214781e6",
   "metadata": {},
   "source": [
    "Обнаружили 4 дубликата."
   ]
  },
  {
   "cell_type": "code",
   "execution_count": 17,
   "id": "b1be1db6",
   "metadata": {},
   "outputs": [],
   "source": [
    "# Удаляем дубликаты\n",
    "df=df.drop_duplicates(subset=['name', 'address'], keep='first')"
   ]
  },
  {
   "cell_type": "code",
   "execution_count": 18,
   "id": "2598d84f",
   "metadata": {
    "scrolled": true
   },
   "outputs": [
    {
     "data": {
      "text/plain": [
       "0"
      ]
     },
     "execution_count": 18,
     "metadata": {},
     "output_type": "execute_result"
    }
   ],
   "source": [
    "# Проверим, не осталось ли дубликатов\n",
    "df.duplicated(subset=['name', 'address'], keep='first').sum()"
   ]
  },
  {
   "cell_type": "markdown",
   "id": "3206f367",
   "metadata": {},
   "source": [
    "Дубликаты удалены."
   ]
  },
  {
   "cell_type": "markdown",
   "id": "4c0563f2",
   "metadata": {
    "id": "4c0563f2"
   },
   "source": [
    "Для дальнейшей работы создаем столбец `is_24_7` с обозначением того, что заведение работает ежедневно и круглосуточно, то есть 24/7:\n",
    "  - логическое значение `True` — если заведение работает ежедневно и круглосуточно;\n",
    "  - логическое значение `False` — в противоположном случае."
   ]
  },
  {
   "cell_type": "code",
   "execution_count": 19,
   "id": "e64ac45e",
   "metadata": {
    "scrolled": true
   },
   "outputs": [
    {
     "data": {
      "text/html": [
       "<div>\n",
       "<style scoped>\n",
       "    .dataframe tbody tr th:only-of-type {\n",
       "        vertical-align: middle;\n",
       "    }\n",
       "\n",
       "    .dataframe tbody tr th {\n",
       "        vertical-align: top;\n",
       "    }\n",
       "\n",
       "    .dataframe thead th {\n",
       "        text-align: right;\n",
       "    }\n",
       "</style>\n",
       "<table border=\"1\" class=\"dataframe\">\n",
       "  <thead>\n",
       "    <tr style=\"text-align: right;\">\n",
       "      <th></th>\n",
       "      <th>hours</th>\n",
       "      <th>is_24_7</th>\n",
       "    </tr>\n",
       "  </thead>\n",
       "  <tbody>\n",
       "    <tr>\n",
       "      <th>0</th>\n",
       "      <td>ежедневно, 10:00–22:00</td>\n",
       "      <td>False</td>\n",
       "    </tr>\n",
       "    <tr>\n",
       "      <th>1</th>\n",
       "      <td>ежедневно, 10:00–22:00</td>\n",
       "      <td>False</td>\n",
       "    </tr>\n",
       "    <tr>\n",
       "      <th>2</th>\n",
       "      <td>пн-чт 11:00–02:00; пт,сб 11:00–05:00; вс 11:00...</td>\n",
       "      <td>False</td>\n",
       "    </tr>\n",
       "    <tr>\n",
       "      <th>3</th>\n",
       "      <td>ежедневно, 09:00–22:00</td>\n",
       "      <td>False</td>\n",
       "    </tr>\n",
       "    <tr>\n",
       "      <th>4</th>\n",
       "      <td>ежедневно, 10:00–22:00</td>\n",
       "      <td>False</td>\n",
       "    </tr>\n",
       "    <tr>\n",
       "      <th>5</th>\n",
       "      <td>ежедневно, 10:00–23:00</td>\n",
       "      <td>False</td>\n",
       "    </tr>\n",
       "    <tr>\n",
       "      <th>6</th>\n",
       "      <td>пн 15:00–04:00; вт-вс 15:00–05:00</td>\n",
       "      <td>False</td>\n",
       "    </tr>\n",
       "    <tr>\n",
       "      <th>7</th>\n",
       "      <td>пн-чт 10:00–22:00; пт,сб 10:00–23:00; вс 10:00...</td>\n",
       "      <td>False</td>\n",
       "    </tr>\n",
       "    <tr>\n",
       "      <th>8</th>\n",
       "      <td>ежедневно, 10:00–22:00</td>\n",
       "      <td>False</td>\n",
       "    </tr>\n",
       "    <tr>\n",
       "      <th>9</th>\n",
       "      <td>ежедневно, 12:00–00:00</td>\n",
       "      <td>False</td>\n",
       "    </tr>\n",
       "    <tr>\n",
       "      <th>10</th>\n",
       "      <td>ежедневно, круглосуточно</td>\n",
       "      <td>True</td>\n",
       "    </tr>\n",
       "  </tbody>\n",
       "</table>\n",
       "</div>"
      ],
      "text/plain": [
       "                                                hours  is_24_7\n",
       "0                              ежедневно, 10:00–22:00    False\n",
       "1                              ежедневно, 10:00–22:00    False\n",
       "2   пн-чт 11:00–02:00; пт,сб 11:00–05:00; вс 11:00...    False\n",
       "3                              ежедневно, 09:00–22:00    False\n",
       "4                              ежедневно, 10:00–22:00    False\n",
       "5                              ежедневно, 10:00–23:00    False\n",
       "6                   пн 15:00–04:00; вт-вс 15:00–05:00    False\n",
       "7   пн-чт 10:00–22:00; пт,сб 10:00–23:00; вс 10:00...    False\n",
       "8                              ежедневно, 10:00–22:00    False\n",
       "9                              ежедневно, 12:00–00:00    False\n",
       "10                           ежедневно, круглосуточно     True"
      ]
     },
     "metadata": {},
     "output_type": "display_data"
    }
   ],
   "source": [
    "# Находим строки, содержащие оба слова 'ежедневно' и 'круглосуточно' и создаём столбец `is_24_7` \n",
    "df['is_24_7'] = df['hours'].str.contains('ежедневно', case=False, na=False) & \\\n",
    "       df['hours'].str.contains('круглосуточно', case=False, na=False)\n",
    "\n",
    "display (df[['hours','is_24_7']].head(11))"
   ]
  },
  {
   "cell_type": "markdown",
   "id": "0512d56f",
   "metadata": {
    "id": "42d1e685"
   },
   "source": [
    "На выводе первых 11 строк видим, что новый столбец заполнен корректно"
   ]
  },
  {
   "cell_type": "markdown",
   "id": "562f30ab",
   "metadata": {
    "id": "562f30ab"
   },
   "source": [
    "---\n",
    "\n",
    "### Промежуточный вывод\n",
    "\n",
    "После предобработки данных снижена размерность встолбцах `chain` и `seats`. \n",
    "Нормализованы данные в текстовых столбцах `name` и `adress`, после чего проведено удаление дубликатов по сочетанию название-адресс (их было 4), в столбцах с районом и категорией, судя по выведенным уникальным значениям, нет необходимости в нормализции.\n",
    "Пропуски заменены на 0 только в столбце `seats`, другие столбцы с пропусками оставлены без изменений, так как при уадлении пропусков по 1 из столбцов можно потерять важную информацию по другим, в связи с чем будем сортировать значения при исследовании данных.\n"
   ]
  },
  {
   "cell_type": "markdown",
   "id": "6953e84c",
   "metadata": {
    "id": "6953e84c"
   },
   "source": [
    "## 3. Исследовательский анализ данных\n",
    "\n",
    "Проводим исследовательский анализ данных по ряду вопросов заказчиков, с приведением визуализаций для большей наглядности."
   ]
  },
  {
   "cell_type": "markdown",
   "id": "8555d840",
   "metadata": {
    "id": "8555d840"
   },
   "source": [
    "---\n",
    "\n",
    "### Задача 1\n",
    "\n",
    "Какие категории заведений представлены в данных? Исследуем количество объектов общественного питания по каждой категории. Выведем столбчатую диаграмму."
   ]
  },
  {
   "cell_type": "code",
   "execution_count": 20,
   "id": "ef2bffe9",
   "metadata": {
    "id": "ef2bffe9"
   },
   "outputs": [
    {
     "data": {
      "image/png": "[encoded data removed]",
      "text/plain": [
       "<Figure size 720x576 with 1 Axes>"
      ]
     },
     "metadata": {
      "needs_background": "light"
     },
     "output_type": "display_data"
    }
   ],
   "source": [
    "plt.figure (figsize=(10,8)) # Задаем размер фигуры\n",
    "# Для наглядности будем сортировать значения в порядке убывания и потом выводить столбчатую диаграмму\n",
    "df['category'].value_counts().plot(kind='bar', color='blue')\n",
    "plt.title('Количество объектов общественного питания по категориям')\n",
    "plt.xlabel('Количество объектов')\n",
    "plt.ylabel('Категория')\n",
    "plt.xticks(rotation=45)\n",
    "plt.grid(axis='y')\n",
    "plt.show()"
   ]
  },
  {
   "cell_type": "markdown",
   "id": "1d81c80b",
   "metadata": {
    "id": "71ab5e91"
   },
   "source": [
    "По диаграмме видим, что самое большое количество заведений - это кафе, на втором месте ресторан, далее кофейня. "
   ]
  },
  {
   "cell_type": "markdown",
   "id": "6821e1d0",
   "metadata": {
    "id": "6821e1d0"
   },
   "source": [
    "---\n",
    "\n",
    "### Задача 2\n",
    "\n",
    "Какие административные районы Москвы присутствуют в данных? Исследуем распределение количества заведений по административным районам Москвы. "
   ]
  },
  {
   "cell_type": "code",
   "execution_count": 21,
   "id": "e62f31be",
   "metadata": {
    "id": "e62f31be"
   },
   "outputs": [
    {
     "data": {
      "image/png": "[encoded data removed]",
      "text/plain": [
       "<Figure size 720x576 with 1 Axes>"
      ]
     },
     "metadata": {
      "needs_background": "light"
     },
     "output_type": "display_data"
    }
   ],
   "source": [
    "# Задаем размер фигуры\n",
    "plt.figure (figsize=(10,8)) \n",
    "# Для наглядности будем сортировать значения в порядке убывания и потом выводить столбчатую диаграмму\n",
    "df['district'].value_counts().plot(kind='barh', color='blue')\n",
    "plt.title('Количество заведений по административным районам Москвы')\n",
    "plt.xlabel('Количество объектов')\n",
    "plt.ylabel('Район Москвы')\n",
    "plt.grid(axis='x')\n",
    "plt.show()"
   ]
  },
  {
   "cell_type": "markdown",
   "id": "aa18750a",
   "metadata": {
    "id": "0a290cd1"
   },
   "source": [
    "По количеству заведений по административным районам Москвы явный лидер - Центральный административны округ, на визуализации очевидно превышение более чем в два раза от остальных районов, большинство из которых имеет до 1000 заведений, \n",
    "Северо-западный административный округ явно в \"отстающих\" - в нем единственном менее 500 заведений.\n",
    "\n",
    "В связи с чем изучим отдельно распределение заведений каждой категории в Центральном административном округе Москвы. "
   ]
  },
  {
   "cell_type": "code",
   "execution_count": 22,
   "id": "41f1654a",
   "metadata": {
    "id": "41f1654a"
   },
   "outputs": [
    {
     "data": {
      "image/png": "[encoded data removed]",
      "text/plain": [
       "<Figure size 720x288 with 1 Axes>"
      ]
     },
     "metadata": {
      "needs_background": "light"
     },
     "output_type": "display_data"
    }
   ],
   "source": [
    "# Ищем данные для Центрального административного округа (ЦАО)\n",
    "df_tcao = df[df['district'] == 'Центральный административный округ']\n",
    "\n",
    "plt.figure (figsize=(10,4)) # Задаем размер фигуры\n",
    "# Для наглядности будем сортировать значения\n",
    "df_tcao['category'].value_counts().plot(kind='bar', color='blue')\n",
    "plt.title('Количество объектов общественного питания по категориям в ЦАО')\n",
    "plt.xlabel('Количество объектов')\n",
    "plt.ylabel('Категория')\n",
    "plt.xticks(rotation=45)\n",
    "plt.grid(axis='y')\n",
    "plt.show()"
   ]
  },
  {
   "cell_type": "markdown",
   "id": "975d4a19",
   "metadata": {},
   "source": [
    "В ЦАО больше всего ресторанов - свыше 650, далее кафе и кофейни - каждых более 400, но менее 500. Чуть более 350 - бар,паб Пиццерии перешли отметку в 100, Быстрое питание, столовая и болочная - менее 100. Булочных меньше всего."
   ]
  },
  {
   "cell_type": "markdown",
   "id": "7c824f58",
   "metadata": {
    "id": "7c824f58"
   },
   "source": [
    "---\n",
    "\n",
    "### Задача 3\n",
    "\n",
    "Изучим соотношение сетевых и несетевых заведений в целом по всем данным и в разрезе категорий заведения. Каких заведений больше — сетевых или несетевых? Какие категории заведений чаще являются сетевыми? "
   ]
  },
  {
   "cell_type": "code",
   "execution_count": 23,
   "id": "ef442d1a",
   "metadata": {
    "id": "ef442d1a"
   },
   "outputs": [],
   "source": [
    "# Создаём контейнер графика matplotlib и задаём его размер\n",
    "# plt.figure(figsize=(10, 6))\n",
    "\n",
    "# Строим столбчатую диаграмму с помощью pandas через plot(kind='bar')\n",
    "# df['chain'].value_counts(normalize=True).plot(\n",
    "#                kind='bar', # Тип графика — столбчатая диаграмма\n",
    "#                color='blue', # Цвет по аналогии с другими графиками\n",
    "#                rot=0, # Градус вращения подписи по оси Х\n",
    "#                legend=False, # Выключаем легенду\n",
    "#                title=f'Распределение сетевых и несетевых заведений')\n",
    "\n",
    "# Настраиваем оформление графика\n",
    "# plt.xlabel('Признак заведения (1 - сетевое, 0 - несетевое)')\n",
    "# plt.ylabel('Доля сетеневых/несетевых заведений')\n",
    "# Добавляем сетку графика\n",
    "# plt.grid(axis='y')\n",
    "\n",
    "# Выводим график\n",
    "# plt.show()"
   ]
  },
  {
   "cell_type": "code",
   "execution_count": null,
   "id": "3865e5e0-ab01-4a98-b642-c12fb257dc00",
   "metadata": {},
   "outputs": [],
   "source": []
  },
  {
   "cell_type": "code",
   "execution_count": 24,
   "id": "e7afe02c",
   "metadata": {},
   "outputs": [
    {
     "data": {
      "text/plain": [
       "Text(0, 0.5, '')"
      ]
     },
     "execution_count": 24,
     "metadata": {},
     "output_type": "execute_result"
    },
    {
     "data": {
      "image/png": "[encoded data removed]",
      "text/plain": [
       "<Figure size 432x288 with 1 Axes>"
      ]
     },
     "metadata": {},
     "output_type": "display_data"
    }
   ],
   "source": [
    "# Строим круговую диаграмму\n",
    "df['chain'].value_counts().plot(\n",
    "    kind='pie',  # Тип графика — круговая диаграмма\n",
    "    autopct='%1.1f%%',  # Формат отображения процентов\n",
    "    startangle=90,  # Начальный угол\n",
    "    colors=['blue', 'salmon'],  # Цвета секторов\n",
    "    legend=False,  # Выключаем легенду\n",
    "    labels=['Несетевые заведения','Сетевые заведения'])\n",
    "\n",
    "# Настраиваем оформление графика\n",
    "plt.title('Распределение сетевых и несетевых заведений')\n",
    "plt.ylabel('') "
   ]
  },
  {
   "cell_type": "markdown",
   "id": "9c887ad2",
   "metadata": {
    "id": "0de29fa2"
   },
   "source": [
    "В результате видим, что больше несетевых заседений. При этом, доля сетевых заведений все же достаточно высока: почти 0.4\n",
    "\n",
    "Теперь изучим количество сетевых и несетевых заведений по категориям. Используем groupby() для группировки по категориям  и определеяем размер каждой группы с помощью size(). Метод unstack() переводит информацию о статусе сетевой-несетевой в столбцы - это понадобится для дальнейшей визуализации."
   ]
  },
  {
   "cell_type": "code",
   "execution_count": 25,
   "id": "a139bd72",
   "metadata": {
    "id": "a139bd72",
    "scrolled": true
   },
   "outputs": [
    {
     "data": {
      "text/html": [
       "<div>\n",
       "<style scoped>\n",
       "    .dataframe tbody tr th:only-of-type {\n",
       "        vertical-align: middle;\n",
       "    }\n",
       "\n",
       "    .dataframe tbody tr th {\n",
       "        vertical-align: top;\n",
       "    }\n",
       "\n",
       "    .dataframe thead th {\n",
       "        text-align: right;\n",
       "    }\n",
       "</style>\n",
       "<table border=\"1\" class=\"dataframe\">\n",
       "  <thead>\n",
       "    <tr style=\"text-align: right;\">\n",
       "      <th>chain</th>\n",
       "      <th>0</th>\n",
       "      <th>1</th>\n",
       "    </tr>\n",
       "    <tr>\n",
       "      <th>category</th>\n",
       "      <th></th>\n",
       "      <th></th>\n",
       "    </tr>\n",
       "  </thead>\n",
       "  <tbody>\n",
       "    <tr>\n",
       "      <th>кафе</th>\n",
       "      <td>1597</td>\n",
       "      <td>779</td>\n",
       "    </tr>\n",
       "    <tr>\n",
       "      <th>ресторан</th>\n",
       "      <td>1313</td>\n",
       "      <td>729</td>\n",
       "    </tr>\n",
       "    <tr>\n",
       "      <th>кофейня</th>\n",
       "      <td>693</td>\n",
       "      <td>720</td>\n",
       "    </tr>\n",
       "    <tr>\n",
       "      <th>бар,паб</th>\n",
       "      <td>596</td>\n",
       "      <td>168</td>\n",
       "    </tr>\n",
       "    <tr>\n",
       "      <th>быстрое питание</th>\n",
       "      <td>371</td>\n",
       "      <td>232</td>\n",
       "    </tr>\n",
       "    <tr>\n",
       "      <th>пиццерия</th>\n",
       "      <td>303</td>\n",
       "      <td>330</td>\n",
       "    </tr>\n",
       "    <tr>\n",
       "      <th>столовая</th>\n",
       "      <td>227</td>\n",
       "      <td>88</td>\n",
       "    </tr>\n",
       "    <tr>\n",
       "      <th>булочная</th>\n",
       "      <td>99</td>\n",
       "      <td>157</td>\n",
       "    </tr>\n",
       "  </tbody>\n",
       "</table>\n",
       "</div>"
      ],
      "text/plain": [
       "chain               0    1\n",
       "category                  \n",
       "кафе             1597  779\n",
       "ресторан         1313  729\n",
       "кофейня           693  720\n",
       "бар,паб           596  168\n",
       "быстрое питание   371  232\n",
       "пиццерия          303  330\n",
       "столовая          227   88\n",
       "булочная           99  157"
      ]
     },
     "execution_count": 25,
     "metadata": {},
     "output_type": "execute_result"
    }
   ],
   "source": [
    "# Подсчитываем количество сетевых и несетевых заведений по категориям\n",
    "chain_counts = df.groupby(['category', 'chain']).size().unstack()\n",
    "chain_counts = chain_counts.sort_values(by=0, ascending=False) # сортировка по убыванию по несетевым \n",
    "# Выводим результаты\n",
    "chain_counts\n"
   ]
  },
  {
   "cell_type": "code",
   "execution_count": 26,
   "id": "1b507ec2",
   "metadata": {
    "scrolled": true
   },
   "outputs": [
    {
     "data": {
      "image/png": "[encoded data removed]",
      "text/plain": [
       "<Figure size 432x288 with 1 Axes>"
      ]
     },
     "metadata": {
      "needs_background": "light"
     },
     "output_type": "display_data"
    }
   ],
   "source": [
    "# Строим график\n",
    "chain_counts.plot(kind='barh', color=['blue', 'salmon'])\n",
    "plt.title('Количество сетевых и несетевых заведений по категориям')\n",
    "plt.xlabel('Количество заведений')\n",
    "plt.ylabel('Категория заведения')\n",
    "plt.xticks(rotation=45)\n",
    "plt.legend(title='Тип заведения', labels=['Несетевое', 'Сетевое'])\n",
    "plt.grid(axis='y')\n",
    "plt.show()"
   ]
  },
  {
   "cell_type": "markdown",
   "id": "5afdd2f1",
   "metadata": {},
   "source": [
    "Несетевых заведений в основном больше, но обратим внимание на почти одинаковое количество как сетевых, так и несетевых кофеен и пиццерий с небольшим превышением сетевых, значительно больше сетевых булочных, а вот значения несетевых превышают сетевые в два раза и более - у ресторана и кафе, а самый большой перевес более, чем в три раза в пользу несетевых у баров, пабов.\n",
    "\n",
    "Мы видим, что чаще являются сетевыми кафе, рестораны и кофейни, далее пиццерии и быстрое питание, реже всего столовые. При этом, кафе, ресторанов и на третьем месте - кофеен больше и среди несетевых. Далее идут среди несетевых бар, паб.  \n",
    "\n",
    "Построим графики для отражения доли заведений, это даст больше наглядности.\n",
    "Доли сетевых и несетевых заведений вычислим делением количества заведений каждой категории на общее количество заведений в этой категории методом div()."
   ]
  },
  {
   "cell_type": "code",
   "execution_count": 27,
   "id": "492a061a",
   "metadata": {
    "scrolled": true
   },
   "outputs": [
    {
     "data": {
      "text/html": [
       "<div>\n",
       "<style scoped>\n",
       "    .dataframe tbody tr th:only-of-type {\n",
       "        vertical-align: middle;\n",
       "    }\n",
       "\n",
       "    .dataframe tbody tr th {\n",
       "        vertical-align: top;\n",
       "    }\n",
       "\n",
       "    .dataframe thead th {\n",
       "        text-align: right;\n",
       "    }\n",
       "</style>\n",
       "<table border=\"1\" class=\"dataframe\">\n",
       "  <thead>\n",
       "    <tr style=\"text-align: right;\">\n",
       "      <th>chain</th>\n",
       "      <th>0</th>\n",
       "      <th>1</th>\n",
       "    </tr>\n",
       "    <tr>\n",
       "      <th>category</th>\n",
       "      <th></th>\n",
       "      <th></th>\n",
       "    </tr>\n",
       "  </thead>\n",
       "  <tbody>\n",
       "    <tr>\n",
       "      <th>бар,паб</th>\n",
       "      <td>0.780105</td>\n",
       "      <td>0.219895</td>\n",
       "    </tr>\n",
       "    <tr>\n",
       "      <th>столовая</th>\n",
       "      <td>0.720635</td>\n",
       "      <td>0.279365</td>\n",
       "    </tr>\n",
       "    <tr>\n",
       "      <th>кафе</th>\n",
       "      <td>0.672138</td>\n",
       "      <td>0.327862</td>\n",
       "    </tr>\n",
       "    <tr>\n",
       "      <th>ресторан</th>\n",
       "      <td>0.642997</td>\n",
       "      <td>0.357003</td>\n",
       "    </tr>\n",
       "    <tr>\n",
       "      <th>быстрое питание</th>\n",
       "      <td>0.615257</td>\n",
       "      <td>0.384743</td>\n",
       "    </tr>\n",
       "    <tr>\n",
       "      <th>кофейня</th>\n",
       "      <td>0.490446</td>\n",
       "      <td>0.509554</td>\n",
       "    </tr>\n",
       "    <tr>\n",
       "      <th>пиццерия</th>\n",
       "      <td>0.478673</td>\n",
       "      <td>0.521327</td>\n",
       "    </tr>\n",
       "    <tr>\n",
       "      <th>булочная</th>\n",
       "      <td>0.386719</td>\n",
       "      <td>0.613281</td>\n",
       "    </tr>\n",
       "  </tbody>\n",
       "</table>\n",
       "</div>"
      ],
      "text/plain": [
       "chain                   0         1\n",
       "category                           \n",
       "бар,паб          0.780105  0.219895\n",
       "столовая         0.720635  0.279365\n",
       "кафе             0.672138  0.327862\n",
       "ресторан         0.642997  0.357003\n",
       "быстрое питание  0.615257  0.384743\n",
       "кофейня          0.490446  0.509554\n",
       "пиццерия         0.478673  0.521327\n",
       "булочная         0.386719  0.613281"
      ]
     },
     "execution_count": 27,
     "metadata": {},
     "output_type": "execute_result"
    }
   ],
   "source": [
    "# Подсчитываем общее количество заведений по категориям\n",
    "total_counts = chain_counts.sum(axis=1)\n",
    "\n",
    "# Рассчитываем доли сетевых и несетевых заведений, используем метод div() \n",
    "#с параметром axis=0, чтобы деление было по строкам.\n",
    "chain_share = chain_counts.div(total_counts, axis=0)\n",
    "chain_share = chain_share.sort_values(by=0, ascending=False) # сортировка по убыванию по несетевым\n",
    "\n",
    "# Выводим результаты\n",
    "chain_share\n"
   ]
  },
  {
   "cell_type": "code",
   "execution_count": 28,
   "id": "9c305abb",
   "metadata": {
    "scrolled": true
   },
   "outputs": [
    {
     "data": {
      "image/png": "[encoded data removed]",
      "text/plain": [
       "<Figure size 432x288 with 1 Axes>"
      ]
     },
     "metadata": {
      "needs_background": "light"
     },
     "output_type": "display_data"
    }
   ],
   "source": [
    "# Строим график, stacked=True утсанавливаем, чтобы диаграмма получилась с накоплением\n",
    "chain_share.plot(kind='barh', stacked=True, color=['blue', 'salmon'])\n",
    "plt.title('Доля сетевых и несетевых заведений по категориям')\n",
    "plt.xlabel('Доля заведений')\n",
    "plt.ylabel('Категория заведения')\n",
    "plt.legend(title='Тип заведения', labels=['Несетевое', 'Сетевое'])\n",
    "plt.grid(axis='x')\n",
    "plt.show()"
   ]
  },
  {
   "cell_type": "markdown",
   "id": "80a4e9bc",
   "metadata": {},
   "source": [
    "Видим подтверждение наших прежних выводов. Самая большая доля несетевых у баров, пабов. Также примерно равное количество как сетевых, так и несетевых пиццерий и кофеен (примерно по 50%), а рестораны и кафе чаще всего несетевые, как и быстрое питание (за 60%), а самая большая доля сетевых у булочных. "
   ]
  },
  {
   "cell_type": "markdown",
   "id": "5913c3e3",
   "metadata": {
    "id": "5913c3e3"
   },
   "source": [
    "---\n",
    "\n",
    "### Задача 4\n",
    "\n",
    "Исследуем количество посадочных мест в заведениях. Встречаются ли в данных аномальные значения или выбросы? Если да, то с чем они могут быть связаны?   \n",
    "Приведем для каждой категории заведений наиболее типичное для него количество посадочных мест. \n",
    "Помним, что пропуски мы заменяли на ноль.\n",
    "Для начала посмотрим общую информацию по столбцу."
   ]
  },
  {
   "cell_type": "code",
   "execution_count": 29,
   "id": "e4587e29",
   "metadata": {
    "scrolled": true
   },
   "outputs": [
    {
     "data": {
      "text/plain": [
       "count    8402.000000\n",
       "mean       61.802904\n",
       "std       107.160755\n",
       "min         0.000000\n",
       "25%         0.000000\n",
       "50%        20.000000\n",
       "75%        85.000000\n",
       "max      1288.000000\n",
       "Name: seats, dtype: float64"
      ]
     },
     "execution_count": 29,
     "metadata": {},
     "output_type": "execute_result"
    }
   ],
   "source": [
    "df['seats'].describe()"
   ]
  },
  {
   "cell_type": "markdown",
   "id": "a13ae7a6",
   "metadata": {},
   "source": [
    "Видим, что минимальное значение 0 и 25 процентиль тоже 0, целесообразно при анализе данного столбца нули исключить как аномальное значение, т.к. мы видим, что они не дают увидеть реальную картину."
   ]
  },
  {
   "cell_type": "code",
   "execution_count": 30,
   "id": "48f67980",
   "metadata": {
    "scrolled": true
   },
   "outputs": [
    {
     "data": {
      "text/plain": [
       "count    4656.000000\n",
       "mean      111.526632\n",
       "std       123.197930\n",
       "min         1.000000\n",
       "25%        40.000000\n",
       "50%        78.000000\n",
       "75%       141.000000\n",
       "max      1288.000000\n",
       "Name: seats, dtype: float64"
      ]
     },
     "execution_count": 30,
     "metadata": {},
     "output_type": "execute_result"
    }
   ],
   "source": [
    "# Создадим отдельны датафрейм без 0 значений\n",
    "df_for_seats=df[df['seats']>0]\n",
    "\n",
    "df_for_seats['seats'].describe()"
   ]
  },
  {
   "cell_type": "markdown",
   "id": "e14fa949",
   "metadata": {},
   "source": [
    "Значения сильно изменились, однако по-прежнему, медиана и среднее значение далеки друг от друга, максимальное значение видится явным выбросом, отклонение данных значительно.\n",
    "\n",
    "Проанализировать выбросы и распределение значений по категориям будет удобнее на диаграмме размаха. Построим ее сразу для категорий заведений общественного питания с помощью библиотеки seaborn. Перед этим отсортируем по значению медианы и через pd.Categorical  - для указания порядка категорий.  "
   ]
  },
  {
   "cell_type": "code",
   "execution_count": 31,
   "id": "8799bcd7",
   "metadata": {},
   "outputs": [],
   "source": [
    "# Вычисляем медиану для каждой категории\n",
    "median_values = df_for_seats.groupby('category')['seats'].median().sort_values()\n",
    "\n",
    "# Сортируем категории по медиане\n",
    "# Передаем categories=median_values.index, чтобы установить порядок в соответствии с вычисленными медианными значениями\n",
    "df_for_seats['category'] = pd.Categorical(df_for_seats['category'], categories=median_values.index, ordered=True)\n"
   ]
  },
  {
   "cell_type": "code",
   "execution_count": 32,
   "id": "4643c99f",
   "metadata": {
    "scrolled": true
   },
   "outputs": [
    {
     "data": {
      "image/png": "[encoded data removed]",
      "text/plain": [
       "<Figure size 720x288 with 1 Axes>"
      ]
     },
     "metadata": {
      "needs_background": "light"
     },
     "output_type": "display_data"
    }
   ],
   "source": [
    "# Создаём контейнер графика matplotlib и задаём его размер\n",
    "plt.figure(figsize=(10, 4))\n",
    "\n",
    "# Строим диаграмму размаха значений \n",
    "sns.boxplot(x='seats', y='category', data=df_for_seats)\n",
    "\n",
    "# Добавляем заголовок и метки оси\n",
    "plt.title('Распределение количества посадочных мест по категориям заведений')\n",
    "plt.xlabel('Количество мест')\n",
    "plt.ylabel('Категории')\n",
    "\n",
    "# Выводим график\n",
    "plt.show()"
   ]
  },
  {
   "cell_type": "markdown",
   "id": "5ab4df50",
   "metadata": {},
   "source": [
    "На графике видим большое количество выбросов по всем категориям - примерно от 300 до 1288 (что определено методом describe выше), в связи с чем достаточно сложно оценить сам размах. Отрицательных выбросов нет.\n",
    "\n",
    "Отключим выбросы на графике."
   ]
  },
  {
   "cell_type": "code",
   "execution_count": 33,
   "id": "714522be",
   "metadata": {
    "scrolled": true
   },
   "outputs": [
    {
     "data": {
      "image/png": "[encoded data removed]",
      "text/plain": [
       "<Figure size 864x288 with 1 Axes>"
      ]
     },
     "metadata": {
      "needs_background": "light"
     },
     "output_type": "display_data"
    }
   ],
   "source": [
    "# Создаём контейнер графика matplotlib и задаём его размер\n",
    "plt.figure(figsize=(12, 4))\n",
    "\n",
    "# Строим диаграмму размаха значений\n",
    "sns.boxplot(x='seats', y='category', data=df_for_seats, showfliers=False)\n",
    "\n",
    "# Добавляем заголовок и метки оси\n",
    "plt.title('Распределение значений количества мест')\n",
    "plt.xlabel('Количество мест')\n",
    "plt.ylabel('Категории')\n",
    "\n",
    "# Выводим график\n",
    "plt.show()"
   ]
  },
  {
   "cell_type": "markdown",
   "id": "457f7317",
   "metadata": {},
   "source": [
    "Мы видим, что разброс значений по местам от 0 до более 300, но основная масса значений находится по всем категориям примерно от 25 до 150 мест. Цифры похожи на реальность: выбросы могут быть объяснены, напрмер, наличием фудкортов в ТЦ, где действительно может быть большое количество мест. При этом, максимальное значение на почти 1300 мест считаем аномальным, ошибкой в данных.\n",
    "Небольшое количество мест может быть свойственно, например, небольшим семейным кафе или частным пиццериям, булочным.\n",
    "\n",
    "Для определения для каждой категории заведений наиболее типичного количества посадочных мест целесообразнее смотреть на  медиану. При достаточно большом разбросе среднее скорее всего не отобразит реальную картину. Однако выведем и сравним оба значения."
   ]
  },
  {
   "cell_type": "code",
   "execution_count": 34,
   "id": "1c9ddafc",
   "metadata": {
    "scrolled": true
   },
   "outputs": [
    {
     "data": {
      "text/html": [
       "<div>\n",
       "<style scoped>\n",
       "    .dataframe tbody tr th:only-of-type {\n",
       "        vertical-align: middle;\n",
       "    }\n",
       "\n",
       "    .dataframe tbody tr th {\n",
       "        vertical-align: top;\n",
       "    }\n",
       "\n",
       "    .dataframe thead th {\n",
       "        text-align: right;\n",
       "    }\n",
       "</style>\n",
       "<table border=\"1\" class=\"dataframe\">\n",
       "  <thead>\n",
       "    <tr style=\"text-align: right;\">\n",
       "      <th></th>\n",
       "      <th>seats_x</th>\n",
       "      <th>seats_y</th>\n",
       "    </tr>\n",
       "    <tr>\n",
       "      <th>category</th>\n",
       "      <th></th>\n",
       "      <th></th>\n",
       "    </tr>\n",
       "  </thead>\n",
       "  <tbody>\n",
       "    <tr>\n",
       "      <th>булочная</th>\n",
       "      <td>52</td>\n",
       "      <td>96.562044</td>\n",
       "    </tr>\n",
       "    <tr>\n",
       "      <th>пиццерия</th>\n",
       "      <td>56</td>\n",
       "      <td>96.762590</td>\n",
       "    </tr>\n",
       "    <tr>\n",
       "      <th>кафе</th>\n",
       "      <td>60</td>\n",
       "      <td>101.017903</td>\n",
       "    </tr>\n",
       "    <tr>\n",
       "      <th>быстрое питание</th>\n",
       "      <td>75</td>\n",
       "      <td>104.268882</td>\n",
       "    </tr>\n",
       "    <tr>\n",
       "      <th>кофейня</th>\n",
       "      <td>80</td>\n",
       "      <td>114.870702</td>\n",
       "    </tr>\n",
       "    <tr>\n",
       "      <th>столовая</th>\n",
       "      <td>80</td>\n",
       "      <td>102.886792</td>\n",
       "    </tr>\n",
       "    <tr>\n",
       "      <th>бар,паб</th>\n",
       "      <td>84</td>\n",
       "      <td>125.552916</td>\n",
       "    </tr>\n",
       "    <tr>\n",
       "      <th>ресторан</th>\n",
       "      <td>90</td>\n",
       "      <td>123.843875</td>\n",
       "    </tr>\n",
       "  </tbody>\n",
       "</table>\n",
       "</div>"
      ],
      "text/plain": [
       "                 seats_x     seats_y\n",
       "category                            \n",
       "булочная              52   96.562044\n",
       "пиццерия              56   96.762590\n",
       "кафе                  60  101.017903\n",
       "быстрое питание       75  104.268882\n",
       "кофейня               80  114.870702\n",
       "столовая              80  102.886792\n",
       "бар,паб               84  125.552916\n",
       "ресторан              90  123.843875"
      ]
     },
     "execution_count": 34,
     "metadata": {},
     "output_type": "execute_result"
    }
   ],
   "source": [
    "# Считаем значение медианы по датафрейму без 0 в seats\n",
    "median_table = pd.pivot_table(data=df_for_seats, index='category', values='seats', aggfunc='median')\n",
    "# Считаем срезнее значение по датафрейму без 0 в seats\n",
    "mean_table = pd.pivot_table(data=df_for_seats, index='category', values='seats', aggfunc='mean')\n",
    "\n",
    "# Объединяем таблицы по столбцу категории\n",
    "mm_table = median_table.merge(mean_table, on='category')\n",
    "\n",
    "# Выводим результат объединения\n",
    "mm_table"
   ]
  },
  {
   "cell_type": "markdown",
   "id": "0d57eef5",
   "metadata": {},
   "source": [
    "Действительно, средние значения слишком отличнаяются от медианы, скорее всего более далеки от реальности, поэтому типичное количество мест будем считать по медиане. Для наглядности снова построим график."
   ]
  },
  {
   "cell_type": "code",
   "execution_count": 35,
   "id": "d008ade4",
   "metadata": {
    "scrolled": true
   },
   "outputs": [
    {
     "data": {
      "image/png": "[encoded data removed]",
      "text/plain": [
       "<Figure size 432x288 with 1 Axes>"
      ]
     },
     "metadata": {
      "needs_background": "light"
     },
     "output_type": "display_data"
    }
   ],
   "source": [
    "# Сортируем по медиане\n",
    "median_table = median_table.sort_values(by='seats', ascending=False)\n",
    "\n",
    "median_table.plot(kind='barh', # Тип графика — линейчатая диаграмма\n",
    "               color='blue', # Цвет по аналогии с другими графиками\n",
    "               legend=False, # Выключаем легенду\n",
    "               title=f'Типичное количество посадочных мест по категориям заведений')\n",
    "\n",
    "# Настраиваем оформление графика\n",
    "plt.xlabel('Медиана по количеству мест')\n",
    "plt.ylabel('Категория')\n",
    "# Добавляем сетку графика\n",
    "plt.grid(axis='x')\n",
    "\n",
    "# Выводим график\n",
    "plt.show()"
   ]
  },
  {
   "cell_type": "markdown",
   "id": "c3de172b",
   "metadata": {},
   "source": [
    "Типичное количество посадочных мест по категориям заведений: для булочной и пиццерии - около 55, 60 для кафе, 75 в быстром питании, по 80 в столовой и кофейне и примерно также в пабе,баре (84), а в ресторане больше всех - 90."
   ]
  },
  {
   "cell_type": "markdown",
   "id": "8ed065ea",
   "metadata": {
    "id": "8ed065ea"
   },
   "source": [
    "---\n",
    "\n",
    "### Задача 5\n",
    "\n",
    "Исследуем рейтинг заведений через визуализацию среднего рейтинга по категориям заведений. Сильно ли различаются усреднённые рейтинги для разных типов общепита?"
   ]
  },
  {
   "cell_type": "code",
   "execution_count": 36,
   "id": "548fd941",
   "metadata": {
    "id": "ceadf25b"
   },
   "outputs": [
    {
     "data": {
      "text/plain": [
       "category\n",
       "быстрое питание    4.050249\n",
       "кафе               4.124285\n",
       "столовая           4.211429\n",
       "булочная           4.268359\n",
       "кофейня            4.277282\n",
       "ресторан           4.290402\n",
       "пиццерия           4.301264\n",
       "бар,паб            4.387696\n",
       "Name: rating, dtype: float64"
      ]
     },
     "execution_count": 36,
     "metadata": {},
     "output_type": "execute_result"
    }
   ],
   "source": [
    "# Подсчитываем средний рейтинг заведений по категориям\n",
    "mean_rating= df.groupby('category')['rating'].mean()\n",
    "\n",
    "mean_rating= mean_rating.sort_values()\n",
    "# Выводим результаты\n",
    "mean_rating\n"
   ]
  },
  {
   "cell_type": "code",
   "execution_count": 37,
   "id": "cc5206f8",
   "metadata": {
    "id": "cc5206f8"
   },
   "outputs": [
    {
     "data": {
      "image/png": "[encoded data removed]",
      "text/plain": [
       "<Figure size 432x288 with 1 Axes>"
      ]
     },
     "metadata": {
      "needs_background": "light"
     },
     "output_type": "display_data"
    }
   ],
   "source": [
    "# Строим график\n",
    "mean_rating.plot(kind='barh', color=['blue'])\n",
    "plt.title('Средний рейтинг заведений по категориям')\n",
    "plt.xlabel('Средний рейтинг')\n",
    "plt.ylabel('Категория заведения')\n",
    "plt.grid(axis='x')\n",
    "plt.show()"
   ]
  },
  {
   "cell_type": "markdown",
   "id": "01483795",
   "metadata": {
    "id": "766c86cb"
   },
   "source": [
    "Средний рейтинг совсем незначительно отличается по категориям. У всех он выше 4, его значения варьируются от 4,1 до 4.4. Выше всех у баров,пабов.\n"
   ]
  },
  {
   "cell_type": "markdown",
   "id": "dd9702d9",
   "metadata": {
    "id": "dd9702d9"
   },
   "source": [
    "---\n",
    "\n",
    "### Задача 6\n",
    "\n",
    "С какими данными показывают самую сильную корреляцию рейтинги заведений? \n",
    "\n",
    "Используем матрицу корреляции рейтинга заведения с разными данными: его категория, положение (административный район Москвы), статус сетевого заведения, количество мест, ценовая категория и признак, является ли заведения круглосуточным. Выберем самую сильную связь и проверим её."
   ]
  },
  {
   "cell_type": "code",
   "execution_count": 38,
   "id": "15400eb9",
   "metadata": {
    "id": "15400eb9",
    "scrolled": true
   },
   "outputs": [
    {
     "name": "stdout",
     "output_type": "stream",
     "text": [
      "interval columns not set, guessing: ['chain', 'seats', 'rating']\n"
     ]
    },
    {
     "data": {
      "text/plain": [
       "'Корреляционная матрица с коэффициентом phi_k для переменной rating'"
      ]
     },
     "metadata": {},
     "output_type": "display_data"
    },
    {
     "data": {
      "text/html": [
       "<div>\n",
       "<style scoped>\n",
       "    .dataframe tbody tr th:only-of-type {\n",
       "        vertical-align: middle;\n",
       "    }\n",
       "\n",
       "    .dataframe tbody tr th {\n",
       "        vertical-align: top;\n",
       "    }\n",
       "\n",
       "    .dataframe thead th {\n",
       "        text-align: right;\n",
       "    }\n",
       "</style>\n",
       "<table border=\"1\" class=\"dataframe\">\n",
       "  <thead>\n",
       "    <tr style=\"text-align: right;\">\n",
       "      <th></th>\n",
       "      <th>rating</th>\n",
       "    </tr>\n",
       "  </thead>\n",
       "  <tbody>\n",
       "    <tr>\n",
       "      <th>price</th>\n",
       "      <td>0.220295</td>\n",
       "    </tr>\n",
       "    <tr>\n",
       "      <th>district</th>\n",
       "      <td>0.200761</td>\n",
       "    </tr>\n",
       "    <tr>\n",
       "      <th>category</th>\n",
       "      <td>0.189716</td>\n",
       "    </tr>\n",
       "    <tr>\n",
       "      <th>is_24_7</th>\n",
       "      <td>0.150365</td>\n",
       "    </tr>\n",
       "    <tr>\n",
       "      <th>chain</th>\n",
       "      <td>0.107833</td>\n",
       "    </tr>\n",
       "    <tr>\n",
       "      <th>seats</th>\n",
       "      <td>0.000000</td>\n",
       "    </tr>\n",
       "  </tbody>\n",
       "</table>\n",
       "</div>"
      ],
      "text/plain": [
       "            rating\n",
       "price     0.220295\n",
       "district  0.200761\n",
       "category  0.189716\n",
       "is_24_7   0.150365\n",
       "chain     0.107833\n",
       "seats     0.000000"
      ]
     },
     "execution_count": 38,
     "metadata": {},
     "output_type": "execute_result"
    }
   ],
   "source": [
    "# Вычисляем корреляционную матрицу с использованием phi_k\n",
    "correlation_matrix = df[['category',\n",
    "                         'district', 'chain', 'seats', 'price', 'is_24_7', 'rating']].phik_matrix()\n",
    "\n",
    "# Выводим результат\n",
    "display ('Корреляционная матрица с коэффициентом phi_k для переменной rating')\n",
    "correlation_matrix.loc[correlation_matrix.index != 'rating'][['rating']].sort_values(\n",
    "    by='rating', ascending=False)"
   ]
  },
  {
   "cell_type": "markdown",
   "id": "d80ad921",
   "metadata": {},
   "source": [
    "Наибольшая корреляция рейтинга наблюдается с ценой (0.22), районом (0.20) и категорией (0.19). Для остальных признаков коэффициент корреляции снижается с 0.15 до 0.\n",
    "\n",
    "Важно помнить, что phi_k сообщает только о наличии связи между данными. На сам характер связи коэффициент phi_k не указывает, поэтому после получения коэффициента следует продолжить анализ. \n",
    "\n",
    "Например, можно предположить, что повышение рейтинга положительно связано с ценой (чем больше рейтинг, тем выше цены). Такую гипотезу можно проверить при анализе данных. \n",
    "Однако перед этим визуализируем результат корреляции с помощью тепловой карты и библиотеки seaborn"
   ]
  },
  {
   "cell_type": "code",
   "execution_count": 39,
   "id": "9f519b88",
   "metadata": {},
   "outputs": [
    {
     "data": {
      "image/png": "[encoded data removed]",
      "text/plain": [
       "<Figure size 144x432 with 1 Axes>"
      ]
     },
     "metadata": {
      "needs_background": "light"
     },
     "output_type": "display_data"
    }
   ],
   "source": [
    "# Строим тепловую карту\n",
    "plt.figure(figsize=(2, 6))\n",
    "\n",
    "# Сохраняем матрицу корреляции признака rating с другими признаками \n",
    "data_heatmap = correlation_matrix.loc[correlation_matrix.index !='rating'][['rating']].sort_values(by='rating', ascending=False)\n",
    "sns.heatmap(data_heatmap,\n",
    "            annot=True, # Отображаем численные значения в ячейках карты\n",
    "            fmt='.2f', # Форматируем значения корреляции: два знака после точки\n",
    "            cmap='coolwarm', # Устанавливаем цветовую гамму от красного (макс. значение) к синему\n",
    "            linewidths=0.5, # Форматируем линию между ячейками карты\n",
    "            cbar=False # Отключаем цветовую шкалу\n",
    "           )\n",
    "\n",
    "# Добавляем заголовок и подпись по оси Х\n",
    "plt.title('Тепловая карта коэффициента phi_k \\n для данных raiting')\n",
    "\n",
    "\n",
    "# Выводим график\n",
    "plt.show()"
   ]
  },
  {
   "cell_type": "markdown",
   "id": "cf4a106c",
   "metadata": {},
   "source": [
    "Теперь проверим связь цен и рейтинга.\n"
   ]
  },
  {
   "cell_type": "code",
   "execution_count": 40,
   "id": "331b8096",
   "metadata": {
    "scrolled": true
   },
   "outputs": [
    {
     "data": {
      "image/png": "[encoded data removed]",
      "text/plain": [
       "<Figure size 720x360 with 1 Axes>"
      ]
     },
     "metadata": {
      "needs_background": "light"
     },
     "output_type": "display_data"
    }
   ],
   "source": [
    "# Строим график столбчатой диаграммы\n",
    "grouped = df.groupby('price')['rating'].mean().sort_values()\n",
    "grouped.plot(kind='bar',\n",
    "               title=f'Распределение цен в зависимости от рейтинга',\n",
    "               ylabel='Рейтинг',\n",
    "               xlabel='Категория цен',\n",
    "               rot=0,\n",
    "               color= 'blue',\n",
    "               figsize=(10,5))\n",
    "plt.grid(axis='y')\n",
    "plt.show()"
   ]
  },
  {
   "cell_type": "markdown",
   "id": "94b514d4",
   "metadata": {},
   "source": [
    "Гипотеза про связь цен и рейтинга подтвердилась, хотя различия в рейтинге и небольшие - рейтинг самый высокий для высоких цен, и становится ниже для цен выше среднего и средних, самый низкий рейтинг - для низкий цен."
   ]
  },
  {
   "cell_type": "markdown",
   "id": "370de703",
   "metadata": {
    "id": "370de703"
   },
   "source": [
    "---\n",
    "\n",
    "### Задача 7\n",
    "\n",
    "Найдем топ-15 популярных сетей в Москве по названиям заведений и посчитаем для них значения среднего рейтинга. \n",
    "Под популярностью понимается количество заведений этой сети в регионе. \n",
    "К какой категории заведений они относятся? "
   ]
  },
  {
   "cell_type": "code",
   "execution_count": 41,
   "id": "5d828a9a",
   "metadata": {
    "id": "5d828a9a"
   },
   "outputs": [
    {
     "data": {
      "text/html": [
       "<div>\n",
       "<style scoped>\n",
       "    .dataframe tbody tr th:only-of-type {\n",
       "        vertical-align: middle;\n",
       "    }\n",
       "\n",
       "    .dataframe tbody tr th {\n",
       "        vertical-align: top;\n",
       "    }\n",
       "\n",
       "    .dataframe thead th {\n",
       "        text-align: right;\n",
       "    }\n",
       "</style>\n",
       "<table border=\"1\" class=\"dataframe\">\n",
       "  <thead>\n",
       "    <tr style=\"text-align: right;\">\n",
       "      <th></th>\n",
       "      <th>mean_rating</th>\n",
       "      <th>count</th>\n",
       "    </tr>\n",
       "    <tr>\n",
       "      <th>name</th>\n",
       "      <th></th>\n",
       "      <th></th>\n",
       "    </tr>\n",
       "  </thead>\n",
       "  <tbody>\n",
       "    <tr>\n",
       "      <th>шоколадница</th>\n",
       "      <td>4.177500</td>\n",
       "      <td>120</td>\n",
       "    </tr>\n",
       "    <tr>\n",
       "      <th>домино'с пицца</th>\n",
       "      <td>4.169737</td>\n",
       "      <td>76</td>\n",
       "    </tr>\n",
       "    <tr>\n",
       "      <th>додо пицца</th>\n",
       "      <td>4.286486</td>\n",
       "      <td>74</td>\n",
       "    </tr>\n",
       "    <tr>\n",
       "      <th>one price coffee</th>\n",
       "      <td>4.064789</td>\n",
       "      <td>71</td>\n",
       "    </tr>\n",
       "    <tr>\n",
       "      <th>яндекс лавка</th>\n",
       "      <td>3.872464</td>\n",
       "      <td>69</td>\n",
       "    </tr>\n",
       "    <tr>\n",
       "      <th>cofix</th>\n",
       "      <td>4.075385</td>\n",
       "      <td>65</td>\n",
       "    </tr>\n",
       "    <tr>\n",
       "      <th>prime</th>\n",
       "      <td>4.116000</td>\n",
       "      <td>50</td>\n",
       "    </tr>\n",
       "    <tr>\n",
       "      <th>хинкальная</th>\n",
       "      <td>4.322727</td>\n",
       "      <td>44</td>\n",
       "    </tr>\n",
       "    <tr>\n",
       "      <th>кофепорт</th>\n",
       "      <td>4.147619</td>\n",
       "      <td>42</td>\n",
       "    </tr>\n",
       "    <tr>\n",
       "      <th>кулинарная лавка братьев караваевых</th>\n",
       "      <td>4.394872</td>\n",
       "      <td>39</td>\n",
       "    </tr>\n",
       "    <tr>\n",
       "      <th>теремок</th>\n",
       "      <td>4.123684</td>\n",
       "      <td>38</td>\n",
       "    </tr>\n",
       "    <tr>\n",
       "      <th>чайхана</th>\n",
       "      <td>3.924324</td>\n",
       "      <td>37</td>\n",
       "    </tr>\n",
       "    <tr>\n",
       "      <th>cofefest</th>\n",
       "      <td>3.984375</td>\n",
       "      <td>32</td>\n",
       "    </tr>\n",
       "    <tr>\n",
       "      <th>буханка</th>\n",
       "      <td>4.396875</td>\n",
       "      <td>32</td>\n",
       "    </tr>\n",
       "    <tr>\n",
       "      <th>му-му</th>\n",
       "      <td>4.229630</td>\n",
       "      <td>27</td>\n",
       "    </tr>\n",
       "  </tbody>\n",
       "</table>\n",
       "</div>"
      ],
      "text/plain": [
       "                                     mean_rating  count\n",
       "name                                                   \n",
       "шоколадница                             4.177500    120\n",
       "домино'с пицца                          4.169737     76\n",
       "додо пицца                              4.286486     74\n",
       "one price coffee                        4.064789     71\n",
       "яндекс лавка                            3.872464     69\n",
       "cofix                                   4.075385     65\n",
       "prime                                   4.116000     50\n",
       "хинкальная                              4.322727     44\n",
       "кофепорт                                4.147619     42\n",
       "кулинарная лавка братьев караваевых     4.394872     39\n",
       "теремок                                 4.123684     38\n",
       "чайхана                                 3.924324     37\n",
       "cofefest                                3.984375     32\n",
       "буханка                                 4.396875     32\n",
       "му-му                                   4.229630     27"
      ]
     },
     "execution_count": 41,
     "metadata": {},
     "output_type": "execute_result"
    }
   ],
   "source": [
    "# Фильтруем только сетевые заведения, где chain=1\n",
    "df_chain_1 = df[df['chain'] == 1]\n",
    "\n",
    "# Группируем и считаем средний рейтинг и количество заведений\n",
    "grouped_chain_1 = df_chain_1.groupby('name').agg(mean_rating=('rating', 'mean'), count=('name', 'count')\n",
    ")\n",
    "\n",
    "# Сортируем по популярности и берем топ-15\n",
    "top_chain_1 = grouped_chain_1.sort_values(by='count', ascending=False).head(15)\n",
    "top_chain_1\n"
   ]
  },
  {
   "cell_type": "markdown",
   "id": "d83a6b9a",
   "metadata": {},
   "source": [
    "Получили искомые данные: топ-15 популярных сетей в Москве по названиям заведений со значением среднего рейтинга. \n",
    "Посмотрим на диаграмме на популярность"
   ]
  },
  {
   "cell_type": "code",
   "execution_count": 42,
   "id": "d013c598",
   "metadata": {
    "id": "d013c598",
    "scrolled": true
   },
   "outputs": [
    {
     "data": {
      "image/png": "[encoded data removed]",
      "text/plain": [
       "<Figure size 720x360 with 1 Axes>"
      ]
     },
     "metadata": {
      "needs_background": "light"
     },
     "output_type": "display_data"
    }
   ],
   "source": [
    "# Строим график столбчатой диаграммы для популярных сетевых заведений\n",
    "top_chain_1['count']. plot(kind='barh',\n",
    "               title=f'Топ-15 популярных сетей в Москве',\n",
    "               ylabel='Количество заведений',\n",
    "               xlabel='Названия сетевых заведений',\n",
    "               rot=0,\n",
    "               color= 'blue',\n",
    "               figsize=(10,5))\n",
    "plt.grid(axis='x')\n",
    "plt.show()"
   ]
  },
  {
   "cell_type": "markdown",
   "id": "e6bd2895",
   "metadata": {
    "id": "774348d5"
   },
   "source": [
    "Видим, что самым популярным сетевым заведением Москвы с большим отрывом является Шоколадница с количеством в 120 заведений, \n",
    "далее рядом четверка: домино'с пицца (76), додо пицца\t(74), one price coffee\t(71), и яндекс лавка (69).  Меньше всего заведений у му-му.\n",
    "Теперь рассмотрим на графике средние значения рейтинга для них - для наглядности используем не столбчатую диаграмму (на которой все значения примерно одинковы - около 4), а линейный график библиотеки seaborn, чтобы подчеркнуть разницу и проследить зависимость."
   ]
  },
  {
   "cell_type": "code",
   "execution_count": 43,
   "id": "3bd0e307",
   "metadata": {
    "scrolled": true
   },
   "outputs": [
    {
     "data": {
      "image/png": "[encoded data removed]",
      "text/plain": [
       "<Figure size 432x288 with 1 Axes>"
      ]
     },
     "metadata": {
      "needs_background": "light"
     },
     "output_type": "display_data"
    }
   ],
   "source": [
    "# Строим линейный график для среднего рейтинга популярных сетевых заведений\n",
    "sns.lineplot(x='name', y='mean_rating', data=top_chain_1, color='blue', marker='o')\n",
    "plt.title('Cредний рейтинг топ-15 сетевых заведений')\n",
    "# Поворачиваем подписи по оси X для лучшей читаемости\n",
    "plt.xticks(rotation=85)\n",
    "plt.xlabel('Сетевое заведение')\n",
    "plt.ylabel('Средний рейтинг')\n",
    "plt.grid()\n",
    "plt.show()"
   ]
  },
  {
   "cell_type": "code",
   "execution_count": 44,
   "id": "b62e062f",
   "metadata": {},
   "outputs": [
    {
     "data": {
      "image/png": "[encoded data removed]",
      "text/plain": [
       "<Figure size 432x288 with 1 Axes>"
      ]
     },
     "metadata": {
      "needs_background": "light"
     },
     "output_type": "display_data"
    }
   ],
   "source": [
    "top_chain_1['mean_rating'].sort_values().plot(kind='barh', color='blue')\n",
    "                                 \n",
    "plt.title('Cредний рейтинг топ-15 сетевых заведений')\n",
    "# Поворачиваем подписи по оси X для лучшей читаемости\n",
    "plt.xlabel('Сетевое заведение')\n",
    "plt.ylabel('Средний рейтинг')\n",
    "plt.grid()\n",
    "plt.show()"
   ]
  },
  {
   "cell_type": "markdown",
   "id": "c2e318cf",
   "metadata": {},
   "source": [
    "Средний рейтинг не зависит от популярности заведения, у Яндекс лавки, входящей в пятерку самых популярных, он самый низкий. Самые высокие рейтинги, при этом, у Караваевых и Буханки, находящихся во сторой половине (а Буханка на 14 месте) из топ-15. \n",
    "Однако, заметим, что значения всех этих рейтингов достаточно высоки и находятся около 4!\n",
    "\n",
    "Осталось ответить на вопрос - к какой категории заведений относится топ-15. Выведем таблицу - по названиям (где каждому названию соответствует категория или несколько категорий, также можно построить диаграмму по количеству разных категорий."
   ]
  },
  {
   "cell_type": "code",
   "execution_count": 45,
   "id": "788b5461",
   "metadata": {
    "scrolled": true
   },
   "outputs": [
    {
     "data": {
      "text/html": [
       "<div>\n",
       "<style scoped>\n",
       "    .dataframe tbody tr th:only-of-type {\n",
       "        vertical-align: middle;\n",
       "    }\n",
       "\n",
       "    .dataframe tbody tr th {\n",
       "        vertical-align: top;\n",
       "    }\n",
       "\n",
       "    .dataframe thead th {\n",
       "        text-align: right;\n",
       "    }\n",
       "</style>\n",
       "<table border=\"1\" class=\"dataframe\">\n",
       "  <thead>\n",
       "    <tr style=\"text-align: right;\">\n",
       "      <th></th>\n",
       "      <th>name</th>\n",
       "      <th>category</th>\n",
       "    </tr>\n",
       "  </thead>\n",
       "  <tbody>\n",
       "    <tr>\n",
       "      <th>0</th>\n",
       "      <td>шоколадница</td>\n",
       "      <td>кофейня</td>\n",
       "    </tr>\n",
       "    <tr>\n",
       "      <th>7</th>\n",
       "      <td>шоколадница</td>\n",
       "      <td>кафе</td>\n",
       "    </tr>\n",
       "    <tr>\n",
       "      <th>120</th>\n",
       "      <td>домино'с пицца</td>\n",
       "      <td>пиццерия</td>\n",
       "    </tr>\n",
       "    <tr>\n",
       "      <th>196</th>\n",
       "      <td>додо пицца</td>\n",
       "      <td>пиццерия</td>\n",
       "    </tr>\n",
       "    <tr>\n",
       "      <th>270</th>\n",
       "      <td>one price coffee</td>\n",
       "      <td>кофейня</td>\n",
       "    </tr>\n",
       "    <tr>\n",
       "      <th>341</th>\n",
       "      <td>яндекс лавка</td>\n",
       "      <td>ресторан</td>\n",
       "    </tr>\n",
       "    <tr>\n",
       "      <th>410</th>\n",
       "      <td>cofix</td>\n",
       "      <td>кофейня</td>\n",
       "    </tr>\n",
       "    <tr>\n",
       "      <th>475</th>\n",
       "      <td>prime</td>\n",
       "      <td>ресторан</td>\n",
       "    </tr>\n",
       "    <tr>\n",
       "      <th>512</th>\n",
       "      <td>prime</td>\n",
       "      <td>кафе</td>\n",
       "    </tr>\n",
       "    <tr>\n",
       "      <th>525</th>\n",
       "      <td>хинкальная</td>\n",
       "      <td>быстрое питание</td>\n",
       "    </tr>\n",
       "    <tr>\n",
       "      <th>526</th>\n",
       "      <td>хинкальная</td>\n",
       "      <td>кафе</td>\n",
       "    </tr>\n",
       "    <tr>\n",
       "      <th>527</th>\n",
       "      <td>хинкальная</td>\n",
       "      <td>ресторан</td>\n",
       "    </tr>\n",
       "    <tr>\n",
       "      <th>533</th>\n",
       "      <td>хинкальная</td>\n",
       "      <td>столовая</td>\n",
       "    </tr>\n",
       "    <tr>\n",
       "      <th>535</th>\n",
       "      <td>хинкальная</td>\n",
       "      <td>бар,паб</td>\n",
       "    </tr>\n",
       "    <tr>\n",
       "      <th>569</th>\n",
       "      <td>кофепорт</td>\n",
       "      <td>кофейня</td>\n",
       "    </tr>\n",
       "    <tr>\n",
       "      <th>611</th>\n",
       "      <td>кулинарная лавка братьев караваевых</td>\n",
       "      <td>кафе</td>\n",
       "    </tr>\n",
       "    <tr>\n",
       "      <th>650</th>\n",
       "      <td>теремок</td>\n",
       "      <td>ресторан</td>\n",
       "    </tr>\n",
       "    <tr>\n",
       "      <th>657</th>\n",
       "      <td>теремок</td>\n",
       "      <td>быстрое питание</td>\n",
       "    </tr>\n",
       "    <tr>\n",
       "      <th>688</th>\n",
       "      <td>чайхана</td>\n",
       "      <td>кафе</td>\n",
       "    </tr>\n",
       "    <tr>\n",
       "      <th>691</th>\n",
       "      <td>чайхана</td>\n",
       "      <td>быстрое питание</td>\n",
       "    </tr>\n",
       "    <tr>\n",
       "      <th>695</th>\n",
       "      <td>чайхана</td>\n",
       "      <td>ресторан</td>\n",
       "    </tr>\n",
       "    <tr>\n",
       "      <th>725</th>\n",
       "      <td>cofefest</td>\n",
       "      <td>кофейня</td>\n",
       "    </tr>\n",
       "    <tr>\n",
       "      <th>741</th>\n",
       "      <td>cofefest</td>\n",
       "      <td>кафе</td>\n",
       "    </tr>\n",
       "    <tr>\n",
       "      <th>757</th>\n",
       "      <td>буханка</td>\n",
       "      <td>булочная</td>\n",
       "    </tr>\n",
       "    <tr>\n",
       "      <th>766</th>\n",
       "      <td>буханка</td>\n",
       "      <td>кофейня</td>\n",
       "    </tr>\n",
       "    <tr>\n",
       "      <th>787</th>\n",
       "      <td>буханка</td>\n",
       "      <td>кафе</td>\n",
       "    </tr>\n",
       "    <tr>\n",
       "      <th>789</th>\n",
       "      <td>му-му</td>\n",
       "      <td>кафе</td>\n",
       "    </tr>\n",
       "    <tr>\n",
       "      <th>791</th>\n",
       "      <td>му-му</td>\n",
       "      <td>ресторан</td>\n",
       "    </tr>\n",
       "    <tr>\n",
       "      <th>792</th>\n",
       "      <td>му-му</td>\n",
       "      <td>кофейня</td>\n",
       "    </tr>\n",
       "    <tr>\n",
       "      <th>793</th>\n",
       "      <td>му-му</td>\n",
       "      <td>быстрое питание</td>\n",
       "    </tr>\n",
       "    <tr>\n",
       "      <th>801</th>\n",
       "      <td>му-му</td>\n",
       "      <td>пиццерия</td>\n",
       "    </tr>\n",
       "    <tr>\n",
       "      <th>806</th>\n",
       "      <td>му-му</td>\n",
       "      <td>столовая</td>\n",
       "    </tr>\n",
       "    <tr>\n",
       "      <th>811</th>\n",
       "      <td>му-му</td>\n",
       "      <td>бар,паб</td>\n",
       "    </tr>\n",
       "  </tbody>\n",
       "</table>\n",
       "</div>"
      ],
      "text/plain": [
       "                                    name         category\n",
       "0                            шоколадница          кофейня\n",
       "7                            шоколадница             кафе\n",
       "120                       домино'с пицца         пиццерия\n",
       "196                           додо пицца         пиццерия\n",
       "270                     one price coffee          кофейня\n",
       "341                         яндекс лавка         ресторан\n",
       "410                                cofix          кофейня\n",
       "475                                prime         ресторан\n",
       "512                                prime             кафе\n",
       "525                           хинкальная  быстрое питание\n",
       "526                           хинкальная             кафе\n",
       "527                           хинкальная         ресторан\n",
       "533                           хинкальная         столовая\n",
       "535                           хинкальная          бар,паб\n",
       "569                             кофепорт          кофейня\n",
       "611  кулинарная лавка братьев караваевых             кафе\n",
       "650                              теремок         ресторан\n",
       "657                              теремок  быстрое питание\n",
       "688                              чайхана             кафе\n",
       "691                              чайхана  быстрое питание\n",
       "695                              чайхана         ресторан\n",
       "725                             cofefest          кофейня\n",
       "741                             cofefest             кафе\n",
       "757                              буханка         булочная\n",
       "766                              буханка          кофейня\n",
       "787                              буханка             кафе\n",
       "789                                му-му             кафе\n",
       "791                                му-му         ресторан\n",
       "792                                му-му          кофейня\n",
       "793                                му-му  быстрое питание\n",
       "801                                му-му         пиццерия\n",
       "806                                му-му         столовая\n",
       "811                                му-му          бар,паб"
      ]
     },
     "execution_count": 45,
     "metadata": {},
     "output_type": "execute_result"
    }
   ],
   "source": [
    "top_chain_1.reset_index() # убираем название из индекса\n",
    "# Мы хотим получить категории для названий заведений\n",
    "categories_top_15 = top_chain_1.merge(df_chain_1, on='name', how='left') \n",
    "final_categories_top_15=categories_top_15[['name','category']]\n",
    "df_unique_15 = final_categories_top_15.drop_duplicates(subset=['name','category']) # удалим дубликаты для наглядности\n",
    "# Выводим таблицу - название в топ-15 популярных сетей Москвы -с категорией\n",
    "df_unique_15"
   ]
  },
  {
   "cell_type": "code",
   "execution_count": 46,
   "id": "9bb19ea9",
   "metadata": {
    "scrolled": true
   },
   "outputs": [
    {
     "data": {
      "image/png": "[encoded data removed]",
      "text/plain": [
       "<Figure size 1080x288 with 1 Axes>"
      ]
     },
     "metadata": {
      "needs_background": "light"
     },
     "output_type": "display_data"
    }
   ],
   "source": [
    "# Рассчитываем количество заведений по категориям в топ-15 популярных сетевых\n",
    "category_count = final_categories_top_15.groupby('category')['category'].count().sort_values()\n",
    "# Строим диаграмму\n",
    "category_count.plot(kind='barh',\n",
    "               title=f'Распределение категорий заведений в топ-15 популярных сетей в Москве',\n",
    "               ylabel='Количество заведений',\n",
    "               xlabel='Категории сетевых заведений',\n",
    "               color= 'blue',\n",
    "               figsize=(15,4))\n",
    "plt.grid(axis='x')\n",
    "plt.show()"
   ]
  },
  {
   "cell_type": "markdown",
   "id": "52a8bf95",
   "metadata": {},
   "source": [
    "Больше всего кофеен (к которым в том числе относится шоколадница), с большим отрывом, далее рестораны и пиццерии."
   ]
  },
  {
   "cell_type": "markdown",
   "id": "85a90a94",
   "metadata": {
    "id": "85a90a94"
   },
   "source": [
    "---\n",
    "\n",
    "### Задача 8\n",
    "\n",
    "Изучим вариацию среднего чека заведения (столбец `middle_avg_bill`) в зависимости от района Москвы. Проанализируем цены в Центральном административном округе и других. Как удалённость от центра влияет на цены в заведениях? \n"
   ]
  },
  {
   "cell_type": "code",
   "execution_count": 47,
   "id": "5fb4ffc6",
   "metadata": {
    "id": "5fb4ffc6"
   },
   "outputs": [
    {
     "data": {
      "text/html": [
       "<div>\n",
       "<style scoped>\n",
       "    .dataframe tbody tr th:only-of-type {\n",
       "        vertical-align: middle;\n",
       "    }\n",
       "\n",
       "    .dataframe tbody tr th {\n",
       "        vertical-align: top;\n",
       "    }\n",
       "\n",
       "    .dataframe thead th {\n",
       "        text-align: right;\n",
       "    }\n",
       "</style>\n",
       "<table border=\"1\" class=\"dataframe\">\n",
       "  <thead>\n",
       "    <tr style=\"text-align: right;\">\n",
       "      <th></th>\n",
       "      <th>mean</th>\n",
       "      <th>median</th>\n",
       "      <th>std</th>\n",
       "      <th>count</th>\n",
       "    </tr>\n",
       "    <tr>\n",
       "      <th>district</th>\n",
       "      <th></th>\n",
       "      <th></th>\n",
       "      <th></th>\n",
       "      <th></th>\n",
       "    </tr>\n",
       "  </thead>\n",
       "  <tbody>\n",
       "    <tr>\n",
       "      <th>Восточный административный округ</th>\n",
       "      <td>820.626923</td>\n",
       "      <td>575.0</td>\n",
       "      <td>850.903310</td>\n",
       "      <td>260</td>\n",
       "    </tr>\n",
       "    <tr>\n",
       "      <th>Западный административный округ</th>\n",
       "      <td>1053.225490</td>\n",
       "      <td>1000.0</td>\n",
       "      <td>779.008536</td>\n",
       "      <td>306</td>\n",
       "    </tr>\n",
       "    <tr>\n",
       "      <th>Северный административный округ</th>\n",
       "      <td>927.959627</td>\n",
       "      <td>650.0</td>\n",
       "      <td>912.609221</td>\n",
       "      <td>322</td>\n",
       "    </tr>\n",
       "    <tr>\n",
       "      <th>Северо-Восточный административный округ</th>\n",
       "      <td>716.611296</td>\n",
       "      <td>500.0</td>\n",
       "      <td>591.232153</td>\n",
       "      <td>301</td>\n",
       "    </tr>\n",
       "    <tr>\n",
       "      <th>Северо-Западный административный округ</th>\n",
       "      <td>822.222930</td>\n",
       "      <td>700.0</td>\n",
       "      <td>595.055218</td>\n",
       "      <td>157</td>\n",
       "    </tr>\n",
       "    <tr>\n",
       "      <th>Центральный административный округ</th>\n",
       "      <td>1191.057547</td>\n",
       "      <td>1000.0</td>\n",
       "      <td>920.014707</td>\n",
       "      <td>1060</td>\n",
       "    </tr>\n",
       "    <tr>\n",
       "      <th>Юго-Восточный административный округ</th>\n",
       "      <td>654.097938</td>\n",
       "      <td>450.0</td>\n",
       "      <td>566.825663</td>\n",
       "      <td>194</td>\n",
       "    </tr>\n",
       "    <tr>\n",
       "      <th>Юго-Западный административный округ</th>\n",
       "      <td>792.561702</td>\n",
       "      <td>600.0</td>\n",
       "      <td>559.173122</td>\n",
       "      <td>235</td>\n",
       "    </tr>\n",
       "    <tr>\n",
       "      <th>Южный административный округ</th>\n",
       "      <td>834.398089</td>\n",
       "      <td>500.0</td>\n",
       "      <td>2008.640596</td>\n",
       "      <td>314</td>\n",
       "    </tr>\n",
       "  </tbody>\n",
       "</table>\n",
       "</div>"
      ],
      "text/plain": [
       "                                                mean  median          std  \\\n",
       "district                                                                    \n",
       "Восточный административный округ          820.626923   575.0   850.903310   \n",
       "Западный административный округ          1053.225490  1000.0   779.008536   \n",
       "Северный административный округ           927.959627   650.0   912.609221   \n",
       "Северо-Восточный административный округ   716.611296   500.0   591.232153   \n",
       "Северо-Западный административный округ    822.222930   700.0   595.055218   \n",
       "Центральный административный округ       1191.057547  1000.0   920.014707   \n",
       "Юго-Восточный административный округ      654.097938   450.0   566.825663   \n",
       "Юго-Западный административный округ       792.561702   600.0   559.173122   \n",
       "Южный административный округ              834.398089   500.0  2008.640596   \n",
       "\n",
       "                                         count  \n",
       "district                                        \n",
       "Восточный административный округ           260  \n",
       "Западный административный округ            306  \n",
       "Северный административный округ            322  \n",
       "Северо-Восточный административный округ    301  \n",
       "Северо-Западный административный округ     157  \n",
       "Центральный административный округ        1060  \n",
       "Юго-Восточный административный округ       194  \n",
       "Юго-Западный административный округ        235  \n",
       "Южный административный округ               314  "
      ]
     },
     "execution_count": 47,
     "metadata": {},
     "output_type": "execute_result"
    }
   ],
   "source": [
    "# выведем основные статичтические характеристики\n",
    "middle_bill= df.groupby('district')['middle_avg_bill'].agg(['mean', 'median', 'std', 'count'])\n",
    "\n",
    "middle_bill\n"
   ]
  },
  {
   "cell_type": "markdown",
   "id": "f76f384e",
   "metadata": {
    "id": "b98066c1"
   },
   "source": [
    "Центральный админимтративный округ лидирует по размеру среднего чека, медианы у него аналогична Западному административному округу, но среднее и стандарное отклонение больше. Среднее значение олтичается от медианы, при том значительно, поскольку было достаочное количество пропусков в данных, двидится более целесообразность проводить анализ по медиане.\n",
    "\n",
    "Посмотрим на диаграмму размаха, чтобы оценить выбросы для более корректного анализа."
   ]
  },
  {
   "cell_type": "code",
   "execution_count": 48,
   "id": "9b5e00a5",
   "metadata": {
    "id": "9b5e00a5",
    "scrolled": true
   },
   "outputs": [
    {
     "data": {
      "image/png": "[encoded data removed]",
      "text/plain": [
       "<Figure size 864x288 with 1 Axes>"
      ]
     },
     "metadata": {
      "needs_background": "light"
     },
     "output_type": "display_data"
    }
   ],
   "source": [
    "# Сортируем по медиане\n",
    "middle_bill_sorted = middle_bill.sort_values(by='median', ascending=False).index\n",
    "\n",
    "# Строим диаграмму размаха\n",
    "plt.figure(figsize=(12, 4))\n",
    "sns.boxplot(data=df, x='middle_avg_bill', y='district', order=middle_bill_sorted)\n",
    "plt.title('Вариация среднего чека по районам Москвы')\n",
    "plt.ylabel('Район Москвы')\n",
    "plt.xlabel('Средний чек (в руб.)')\n",
    "plt.xticks(rotation=45)\n",
    "plt.grid(axis='x')\n",
    "plt.show()"
   ]
  },
  {
   "cell_type": "markdown",
   "id": "03be53d9",
   "metadata": {},
   "source": [
    "Действительно большие выбросы: у всех большинства округов до 5000, у Центрального округа - примерно от 3000 до 5000 достаточно большое количество данных, есть значения от 5 до 10 тысяч. Аномальные значения в Северном, Восточном и Южных округах Москвы.\n",
    "\n",
    "Точнее оценить картину основного массива средних чеков выбросы мешают (средний чек в 35000 в Южном округе скорее всего ошибка в данных), снова скроем их на диаграмме."
   ]
  },
  {
   "cell_type": "code",
   "execution_count": 49,
   "id": "32be8e23",
   "metadata": {},
   "outputs": [
    {
     "data": {
      "image/png": "[encoded data removed]",
      "text/plain": [
       "<Figure size 864x432 with 1 Axes>"
      ]
     },
     "metadata": {
      "needs_background": "light"
     },
     "output_type": "display_data"
    }
   ],
   "source": [
    "# Строим диаграмму размаха\n",
    "plt.figure(figsize=(12, 6))\n",
    "sns.boxplot(data=df, x='middle_avg_bill', y='district',  order=middle_bill_sorted, showfliers=False)\n",
    "plt.title('Вариация среднего чека по районам Москвы')\n",
    "plt.ylabel('Район Москвы')\n",
    "plt.xlabel('Средний чек (в руб.)')\n",
    "plt.xticks(rotation=45)\n",
    "plt.grid(axis='x')\n",
    "plt.show()"
   ]
  },
  {
   "cell_type": "markdown",
   "id": "b0bffb73",
   "metadata": {},
   "source": [
    "Теперь наглядно видно, что с самым большим значением среднего чека в Центральном административном округе конкурирует лишь Западный административный округ, далее идут Северо-западный и Северные административные округа, за ним Юго-западный (медианы 700-650-700 соответственно). Уже дальше идет остальные округа. Закономерно, центр Москвы - самый дорогой, далее близкий к нему  север и запад, остальные более отдаленные (южные и восточные) районы имеют более низкие в сравнении с центром значения среднего чека. Посмотрим наглядно через диаграмму:"
   ]
  },
  {
   "cell_type": "code",
   "execution_count": 50,
   "id": "ac92803a",
   "metadata": {
    "scrolled": true
   },
   "outputs": [
    {
     "data": {
      "image/png": "[encoded data removed]",
      "text/plain": [
       "<Figure size 648x288 with 1 Axes>"
      ]
     },
     "metadata": {
      "needs_background": "light"
     },
     "output_type": "display_data"
    }
   ],
   "source": [
    "# Строим диаграмму\n",
    "middle_avg_bill= df.groupby('district')['middle_avg_bill'].agg(['median','mean'])\n",
    "middle_avg_bill=middle_avg_bill.sort_values(by='mean')\n",
    "middle_avg_bill.plot(kind='barh',\n",
    "               title=f'Средний чек в заведениях общественного питания по округам Москвы',\n",
    "               ylabel='Средний чек',\n",
    "               xlabel='Округ Москвы',\n",
    "               color= ['salmon','blue'],\n",
    "               figsize=(9,4))\n",
    "\n",
    "plt.grid()\n",
    "plt.show()"
   ]
  },
  {
   "cell_type": "markdown",
   "id": "bba07fb2",
   "metadata": {},
   "source": [
    "Налицо разница между средним значением и медианой. Однако самый высокий средний чек по обеим величинам - Ценральный и западный округа (по среднему центральный опережает запад, хотя по медиане равны). \n",
    "Самые низкие значения среднего чека по медиане - ЮВ, СВ, Восточный и Южный административные округа.\n",
    "По среднему в отстающих ЮВ и СВ, но далее-ЮЗ, и добавляется СЗ к отстающим (по медиане он на 3 месте с начала)."
   ]
  },
  {
   "cell_type": "markdown",
   "id": "c150bd4f",
   "metadata": {
    "id": "c150bd4f"
   },
   "source": [
    "---\n",
    "\n",
    "### Задача 9\n",
    "\n",
    "Проведем исследования других данных и их взаимосвязи. \n",
    "\n",
    "Например, часы работы заведений или стоимость чашки кофе в зависимости от расположения или типа заведения.\n",
    "\n",
    "\n",
    "Для начала посмотрим зависимость стоимость чашки кофе от категории заведения и района Москвы"
   ]
  },
  {
   "cell_type": "code",
   "execution_count": 51,
   "id": "5ee8b279",
   "metadata": {
    "id": "5ee8b279",
    "scrolled": true
   },
   "outputs": [
    {
     "data": {
      "text/html": [
       "<div>\n",
       "<style scoped>\n",
       "    .dataframe tbody tr th:only-of-type {\n",
       "        vertical-align: middle;\n",
       "    }\n",
       "\n",
       "    .dataframe tbody tr th {\n",
       "        vertical-align: top;\n",
       "    }\n",
       "\n",
       "    .dataframe thead tr th {\n",
       "        text-align: left;\n",
       "    }\n",
       "</style>\n",
       "<table border=\"1\" class=\"dataframe\">\n",
       "  <thead>\n",
       "    <tr>\n",
       "      <th></th>\n",
       "      <th>district</th>\n",
       "      <th colspan=\"5\" halign=\"left\">mean</th>\n",
       "    </tr>\n",
       "    <tr>\n",
       "      <th>category</th>\n",
       "      <th></th>\n",
       "      <th>бар,паб</th>\n",
       "      <th>быстрое питание</th>\n",
       "      <th>кафе</th>\n",
       "      <th>кофейня</th>\n",
       "      <th>пиццерия</th>\n",
       "    </tr>\n",
       "  </thead>\n",
       "  <tbody>\n",
       "    <tr>\n",
       "      <th>0</th>\n",
       "      <td>Восточный административный округ</td>\n",
       "      <td>NaN</td>\n",
       "      <td>NaN</td>\n",
       "      <td>NaN</td>\n",
       "      <td>174.023810</td>\n",
       "      <td>NaN</td>\n",
       "    </tr>\n",
       "    <tr>\n",
       "      <th>1</th>\n",
       "      <td>Западный административный округ</td>\n",
       "      <td>175.00</td>\n",
       "      <td>NaN</td>\n",
       "      <td>NaN</td>\n",
       "      <td>189.938776</td>\n",
       "      <td>NaN</td>\n",
       "    </tr>\n",
       "    <tr>\n",
       "      <th>2</th>\n",
       "      <td>Северный административный округ</td>\n",
       "      <td>NaN</td>\n",
       "      <td>NaN</td>\n",
       "      <td>112.0</td>\n",
       "      <td>165.789474</td>\n",
       "      <td>NaN</td>\n",
       "    </tr>\n",
       "    <tr>\n",
       "      <th>3</th>\n",
       "      <td>Северо-Восточный административный округ</td>\n",
       "      <td>NaN</td>\n",
       "      <td>NaN</td>\n",
       "      <td>NaN</td>\n",
       "      <td>165.333333</td>\n",
       "      <td>NaN</td>\n",
       "    </tr>\n",
       "    <tr>\n",
       "      <th>4</th>\n",
       "      <td>Северо-Западный административный округ</td>\n",
       "      <td>NaN</td>\n",
       "      <td>NaN</td>\n",
       "      <td>75.0</td>\n",
       "      <td>165.523810</td>\n",
       "      <td>150.0</td>\n",
       "    </tr>\n",
       "    <tr>\n",
       "      <th>5</th>\n",
       "      <td>Центральный административный округ</td>\n",
       "      <td>216.25</td>\n",
       "      <td>NaN</td>\n",
       "      <td>NaN</td>\n",
       "      <td>187.518519</td>\n",
       "      <td>NaN</td>\n",
       "    </tr>\n",
       "    <tr>\n",
       "      <th>6</th>\n",
       "      <td>Юго-Восточный административный округ</td>\n",
       "      <td>NaN</td>\n",
       "      <td>140.0</td>\n",
       "      <td>NaN</td>\n",
       "      <td>151.088235</td>\n",
       "      <td>NaN</td>\n",
       "    </tr>\n",
       "    <tr>\n",
       "      <th>7</th>\n",
       "      <td>Юго-Западный административный округ</td>\n",
       "      <td>NaN</td>\n",
       "      <td>NaN</td>\n",
       "      <td>NaN</td>\n",
       "      <td>184.176471</td>\n",
       "      <td>160.0</td>\n",
       "    </tr>\n",
       "    <tr>\n",
       "      <th>8</th>\n",
       "      <td>Южный административный округ</td>\n",
       "      <td>210.00</td>\n",
       "      <td>NaN</td>\n",
       "      <td>117.5</td>\n",
       "      <td>158.488372</td>\n",
       "      <td>NaN</td>\n",
       "    </tr>\n",
       "  </tbody>\n",
       "</table>\n",
       "</div>"
      ],
      "text/plain": [
       "                                         district    mean                  \\\n",
       "category                                          бар,паб быстрое питание   \n",
       "0                Восточный административный округ     NaN             NaN   \n",
       "1                 Западный административный округ  175.00             NaN   \n",
       "2                 Северный административный округ     NaN             NaN   \n",
       "3         Северо-Восточный административный округ     NaN             NaN   \n",
       "4          Северо-Западный административный округ     NaN             NaN   \n",
       "5              Центральный административный округ  216.25             NaN   \n",
       "6            Юго-Восточный административный округ     NaN           140.0   \n",
       "7             Юго-Западный административный округ     NaN             NaN   \n",
       "8                    Южный административный округ  210.00             NaN   \n",
       "\n",
       "                                      \n",
       "category   кафе     кофейня пиццерия  \n",
       "0           NaN  174.023810      NaN  \n",
       "1           NaN  189.938776      NaN  \n",
       "2         112.0  165.789474      NaN  \n",
       "3           NaN  165.333333      NaN  \n",
       "4          75.0  165.523810    150.0  \n",
       "5           NaN  187.518519      NaN  \n",
       "6           NaN  151.088235      NaN  \n",
       "7           NaN  184.176471    160.0  \n",
       "8         117.5  158.488372      NaN  "
      ]
     },
     "execution_count": 51,
     "metadata": {},
     "output_type": "execute_result"
    }
   ],
   "source": [
    "# Группировка по типам заведений и расположению, вычисление среднего чека по кофе\n",
    "grouped_middle_coffee_cup = pd.pivot_table(data=df, \n",
    "                                           index='district', \n",
    "                                           columns= 'category', \n",
    "                                           values='middle_coffee_cup',\n",
    "                                           aggfunc =['mean']).reset_index()\n",
    "grouped_middle_coffee_cup\n"
   ]
  },
  {
   "cell_type": "markdown",
   "id": "cc78b500",
   "metadata": {},
   "source": [
    "Отмеченное ранее большое количество пропусков столбце со средней стоимостью  чашки кофе видно и здесь.\n",
    "Зато по всем кофейням данные есть!\n",
    "Еще заметим, что чашка кофе в баре, пабе дороже, чем в кофейне, но зато дешевле выпить кофе можно в кафе или пиццерии.\n",
    "\n",
    "Визуализируем данные по кофейне, чтобы оценить разницу  в средней с\n",
    "стоимости  чашки кофе в зависимости от района."
   ]
  },
  {
   "cell_type": "code",
   "execution_count": 52,
   "id": "16f46b3c",
   "metadata": {},
   "outputs": [
    {
     "data": {
      "text/plain": [
       "Index(['id', 'name', 'category', 'address', 'district', 'hours', 'rating',\n",
       "       'chain', 'seats', 'price', 'avg_bill', 'middle_avg_bill',\n",
       "       'middle_coffee_cup', 'is_24_7'],\n",
       "      dtype='object')"
      ]
     },
     "execution_count": 52,
     "metadata": {},
     "output_type": "execute_result"
    }
   ],
   "source": [
    "df.columns\n"
   ]
  },
  {
   "cell_type": "code",
   "execution_count": 53,
   "id": "c6a666d9",
   "metadata": {
    "id": "c6a666d9"
   },
   "outputs": [
    {
     "data": {
      "image/png": "[encoded data removed]",
      "text/plain": [
       "<Figure size 432x288 with 1 Axes>"
      ]
     },
     "metadata": {
      "needs_background": "light"
     },
     "output_type": "display_data"
    }
   ],
   "source": [
    "# Фильтрация данных для заведений \"кофейня\"\n",
    "df_coffee = df[df['category'] =='кофейня']\n",
    "# Группировка по районам и вычисление среднего значения стоимости middle_coffee_cupчашки кофе\n",
    "grouped_df_coffee=df_coffee.groupby('district')['middle_coffee_cup'].mean().reset_index()\n",
    "# Добавим сортировку\n",
    "grouped_df_coffee=grouped_df_coffee.sort_values(by='middle_coffee_cup')\n",
    "# Визуализация\n",
    "sns.barplot(data=grouped_df_coffee, x='middle_coffee_cup', y='district')\n",
    "plt.title('Средняя стоимость чашки кофе по районам для заведений \"кофейня\"')\n",
    "plt.ylabel('Район')\n",
    "plt.xlabel('Средняя стоимость чашки кофе (в руб.)')\n",
    "plt.xticks(rotation=45)\n",
    "plt.grid(axis='x')\n",
    "plt.show()\n"
   ]
  },
  {
   "cell_type": "markdown",
   "id": "778b3ed6",
   "metadata": {
    "id": "618096b5"
   },
   "source": [
    "История с самым дорогим кофе похожа на средний чек в разрезе Центрального округа: в центре попить кофе дороже всего. За ним идет Западный, похоже. Однако прямой зависимости, как со средним чеком, не наблюдается. Правило \"чем дальше от центра, тем дешевле\" - не работает. То есть зависимости прямой средней стоимости кофе в кофейне от района не наблюдается."
   ]
  },
  {
   "cell_type": "markdown",
   "id": "db8300a2",
   "metadata": {},
   "source": [
    "Теперь посмотрим, если зависимость часов работы заведений от расположения или типа заведения.\n"
   ]
  },
  {
   "cell_type": "code",
   "execution_count": 54,
   "id": "0dbd7d84",
   "metadata": {},
   "outputs": [
    {
     "data": {
      "image/png": "[encoded data removed]",
      "text/plain": [
       "<Figure size 432x288 with 1 Axes>"
      ]
     },
     "metadata": {
      "needs_background": "light"
     },
     "output_type": "display_data"
    }
   ],
   "source": [
    "# Группируем по количеству по признаку круглосуточное или нет заведение\n",
    "grouped_hours_district = pd.pivot_table(data=df, \n",
    "                                          index='district', \n",
    "                                          columns='is_24_7', \n",
    "                                          values='hours',\n",
    "                                          aggfunc='count', \n",
    "                                          fill_value=0)  # Заполнить NaN нулями\n",
    "\n",
    "# Сортируем \n",
    "grouped_hours_district = grouped_hours_district.sort_values(by=0)\n",
    "\n",
    "# Визуализируем\n",
    "grouped_hours_district.plot(kind='barh', color=['blue','salmon'])  # Обратите внимание на порядок цветов\n",
    "plt.title('Количество круглосуточных и некруглосуточных заведений по району')\n",
    "plt.xlabel('Количество заведений')\n",
    "plt.ylabel('Округ')\n",
    "plt.xticks(rotation=45)\n",
    "plt.legend(title='Тип заведения', labels=['Некруглосуточное', 'Круглосуточное'])\n",
    "plt.grid(axis='x')\n",
    "plt.show()\n"
   ]
  },
  {
   "cell_type": "markdown",
   "id": "485e13c9",
   "metadata": {},
   "source": [
    "Интересно, что самое большое количество круглосуточных и некруглосуточных заведений также в Центральном административном округе, однако прямой зависимости от удаления от центра не видно: восток спорит с западом, юг с севером примерно наравне."
   ]
  },
  {
   "cell_type": "markdown",
   "id": "38cb9ec1",
   "metadata": {},
   "source": [
    "Теперь посмотрим, если зависимость часов работы заведений от типа заведения."
   ]
  },
  {
   "cell_type": "code",
   "execution_count": 55,
   "id": "3c477412",
   "metadata": {},
   "outputs": [
    {
     "data": {
      "image/png": "[encoded data removed]",
      "text/plain": [
       "<Figure size 432x288 with 1 Axes>"
      ]
     },
     "metadata": {
      "needs_background": "light"
     },
     "output_type": "display_data"
    }
   ],
   "source": [
    "# Группируем по количеству по признаку круглосуточное или нет заведение\n",
    "grouped_hours_category = pd.pivot_table(data=df, \n",
    "                                         index='category', \n",
    "                                         columns='is_24_7', \n",
    "                                         values='hours',\n",
    "                                         aggfunc='count', \n",
    "                                         fill_value=0)  # Заполним NaN нулями\n",
    "\n",
    "# Сортируем по сумме заведений (по обеим колонкам вместе)\n",
    "grouped_hours_category = grouped_hours_category.sort_values(by=0, ascending=False)\n",
    "\n",
    "# Визуализируем\n",
    "grouped_hours_category.plot(kind='barh', color=['blue','salmon'])  # Обратите внимание на порядок цветов\n",
    "plt.title('Количество круглосуточных и некруглосуточных заведений по категории заведений')\n",
    "plt.xlabel('Количество заведений')\n",
    "plt.ylabel('Категория заведения')\n",
    "plt.xticks(rotation=45)\n",
    "plt.legend(title='Тип заведения', labels=['Некруглосуточное', 'Круглосуточное'])\n",
    "plt.grid(axis='y')\n",
    "plt.show()"
   ]
  },
  {
   "cell_type": "markdown",
   "id": "22211acb",
   "metadata": {},
   "source": [
    "Зависимость часов работы заведений от типа заведения присутствует.\n",
    "Больше всего круглосуточных ресторанов и кафе, есть кофейни. А вот количество круглосуточных столовых и булочных стремится к нулю."
   ]
  },
  {
   "cell_type": "markdown",
   "id": "562554f0",
   "metadata": {},
   "source": [
    "Проверим, выше ли значение среднего чека в круглосуточных заведениях?"
   ]
  },
  {
   "cell_type": "code",
   "execution_count": 56,
   "id": "bace953e",
   "metadata": {
    "scrolled": true
   },
   "outputs": [
    {
     "data": {
      "image/png": "[encoded data removed]",
      "text/plain": [
       "<Figure size 576x360 with 1 Axes>"
      ]
     },
     "metadata": {
      "needs_background": "light"
     },
     "output_type": "display_data"
    }
   ],
   "source": [
    "grouped = df.groupby('is_24_7')['middle_avg_bill'].median().reset_index()\n",
    "\n",
    "# Визуализация\n",
    "plt.figure(figsize=(8, 5))\n",
    "sns.barplot(data=grouped, x='is_24_7', y='middle_avg_bill')\n",
    "plt.title('Средний чек в зависимости от часов работы')\n",
    "plt.ylabel('Средний чек (в руб.)')\n",
    "plt.xlabel('График работы: True - круглосуточно, False - некруглосуточно')\n",
    "plt.grid(axis='y')\n",
    "plt.show()\n"
   ]
  },
  {
   "cell_type": "markdown",
   "id": "49d6ba63",
   "metadata": {},
   "source": [
    "Оказывается нет, это в круглосуточных магазинах обычно дороже, а вот средний чек выше в некруглосуточных заведениях."
   ]
  },
  {
   "cell_type": "markdown",
   "id": "f2c54e9a",
   "metadata": {
    "id": "f2c54e9a"
   },
   "source": [
    "---\n",
    "\n",
    "### Промежуточный вывод\n",
    "\n",
    "В результате анализа выведены и подтверждены визуализациями следующие заключения: \n",
    "\n",
    "- по категориям заведений общественного питания: самое большое количество заведений - это кафе, самое маленькое - столовых.\n",
    "- по распределению количества заведений по административным районам Москвы лидер - Центральный административны округ, Северо-западный административный округ на последнем месте. В ЦАО больше всего ресторанов, кафе и кофеен, булочных меньше всего.  \n",
    "- несетевых заседений больше, чем несетевых, но доля сетевых заведений все же достаточно высока: почти 0.4. Чаще являются сетевыми кафе, рестораны и кофейни. Самая большая доля несетевых у баров, пабов. \n",
    "- по количеству посадочных мест в заведениях в данных встречаются аномальные значения или выбросы  основной разброс значений по местам от 0 до более 300, но основная масса значений находится по всем категориям примерно от 25 до 150 мест.   \n",
    "- средний рейтинг совсем незначительно отличается по категориям.  \n",
    "- самую сильную корреляцию рейтинга заведений phi_k показывает с ценой (0.22), районом (0.20) и категорией (0.19). Для остальных признаков коэффициент корреляции снижается с 0.15 до 0. Гипотеза про связь цен и рейтинга подтвердилась при более глуюоком анализе.  \n",
    "- выдедены топ-15 популярных сетей в Москве по названиям заведений, самым популярным сетевым заведением Москвы с большим отрывом является Шоколадница, отрацается зависимость среднего рейтинга популярности заведения. Самые популярные - кофейни.\n",
    "- по среднему чеку: центр Москвы - самый дорогой, далее близкие к нему север и запад, остальные более отдаленные (южные и восточные) районы имеют более низкие в сравнении с центром значения среднего чека.\n",
    "- прямой зависимости, как со средним чеком, не наблюдается по средней стоимости чашки кофе, хотя ЦАО - снова самый \"дорогой\". \n",
    "- средний чек выше в некруглосуточных заведениях.\n"
   ]
  },
  {
   "cell_type": "markdown",
   "id": "480f3422",
   "metadata": {
    "id": "480f3422"
   },
   "source": [
    "## 4. Итоговый вывод и рекомендации\n",
    "\n",
    "1. **Общий обзор проделанной работы**  \n",
    "- Были загружены данные datasets/rest_info.csv — информация о заведениях общественного питания и datasets/rest_price.csv с информацией о ценах.   \n",
    "- Датафреймы были объединены в один для удобства анализа. Удалено 4 дубликата по совпадению название-адрес.  \n",
    "- Произведено снижение размерности: в `chain` до int8, в `seats`до int16.  \n",
    "- Обнаружено достаточное количество пропусков, в столбце `seats` заменены на заглушку 0, в остальных ввиду значительного количества проигнорированы с целью сохранить данные, близвие к реальности (без замен на средние значения) по другим столбцам для дальнешего анализа.  \n",
    "- Добавлено новое булевое поле `is_24_7` с графиком работы: True - круглосуточно, False - некруглосуточно.\n",
    "\n",
    "2. **Ответы на исследовательские вопросы**\n",
    "\n",
    "2.1. Количество объектов общественного питания по каждой категории:  \n",
    "- самое большое количество заведений - это кафе, на втором месте ресторан, далее кофейня, меньше всего булочных и столовых.\n",
    "\n",
    "2.2. Распределение количества заведений по административным районам Москвы:  \n",
    "По количеству заведений по административным районам Москвы явный лидер - Центральный административны округ, на визуализации очевидно превышение более чем в два раза от остальных районов, большинство из которых имеет до 1000 заведений, Северо-западный административный округ явно в \"отстающих\" - в нем единственном менее 500 заведений.  \n",
    "В ЦАО:\n",
    "- рестораны - свыше 650, \n",
    "- от 400 до 500 - кафе и кофейни,\n",
    "- более 350 - бар,паб \n",
    "- пиццерии перешли отметку в 100,\n",
    "- быстрое питание, столовая и болочная - меньше остальных.\n",
    "\n",
    "2.3. Соотношение сетевых и несетевых заведений в целом по всем данным и в разрезе категорий заведения: \n",
    "- больше несетевых заседений, чем сетевых.  \n",
    "- чаще являются сетевыми кафе, рестораны и кофейни, далее пиццерии и быстрое питание, реже всего столовые. При этом, кафе, ресторанов и на третьем месте - кофеен больше и среди несетевых. Далее идут среди несетевых бар, паб.\n",
    "- почти одинаковое количество как сетевых, так и несетевых кофеен и пиццерий (примерно по 50%), а рестораны и кафе чаще всего несетевые, как и быстрое питание (за 60%), а самый большой перевес в пользу несетевых - у баров, пабов. \n",
    "\n",
    "2.4. Количество посадочных мест в заведениях. \n",
    "Обычно в заведениях общественного питания от 0 до 300 мест, но основная масса значений находится по всем категориям примерно от 25 до 150 мест.Выбросы могут быть объяснены, напрмер, наличием фудкортов в ТЦ, где действительно может быть большее количество мест. Небольшое количество мест может быть свойственно, например, небольшим семейным кафе или частным пиццериям, булочным.\n",
    "Типичное количество посадочных мест по категориям заведений: для булочной и пиццерии - около 55, 60 для кафе, 75 в быстром питании, по 80 в столовой и кофейне и примерно также в пабе,баре (84), а в ресторане больше всех - 90.\n",
    "\n",
    "2.5. Рейтинг заведений:\n",
    "Усреднённые рейтинги для разных типов общепита не сильно отличаются: у всех он выше 4, его значения варьируются от 4,1 до 4.4.\n",
    "\n",
    "2.6. С какими данными показывают самую сильную корреляцию рейтинги заведений?\n",
    "Использована матрица корреляции рейтинга заведения с разными данными: его категория, положение (административный район Москвы), статус сетевого заведения, количество мест, ценовая категория и признак, является ли заведения круглосуточным. \n",
    "Наибольшая корреляция рейтинга наблюдается с ценой (0.22).   \n",
    "Связь цен и рейтинга подтвердилась, хотя различия в рейтинге и небольшие - рейтинг самый высокий для высоких цен, и становится ниже для цен выше среднего и средних, самый низкий рейтинг - для низкий цен.\n",
    "\n",
    "2.7. В топ-15 популярных сетей в Москве по названиям заведений лидирует с большим отрывом Шоколадница с количеством в 120 заведений, далее рядом четверка: домино'с пицца (76), додо пицца (74), one price coffee (71), и яндекс лавка (69). Меньше всего заведений у му-му. При этом, средний рейтинг не зависит от популярности заведения, у Яндекс лавки, входящей в пятерку самых популярных, он самый низкий. Самые высокие рейтинги, при этом, у Караваевых и Буханки, находящихся во сторой половине (а Буханка на 14 месте) из топ-15. однако, значения всех этих рейтингов достаточно высоки и находятся около 4!\n",
    "\n",
    "К какой категории заведений относится топ-15?  \n",
    "Больше всего кофеен (к которым в том числе относится шоколадница), с большим отрывом, далее рестораны и пиццерии. Столовых меньше всего, баров тоже немного.\n",
    "\n",
    "2.8. Изучим вариацию среднего чека заведения (столбец middle_avg_bill) в зависимости от района Москвы.   \n",
    "- С самым большим значением среднего чека в Центральном административном округе конкурирует лишь Западный административный округ, далее идут Северо-западный и Северные административные округа, за ним Юго-западный (медианы 700-650-700 соответственно). Уже дальше идет остальные округа. \n",
    "- Существет зависимость среднего чека от района: чем ближе к центру, тем выше значение среднего чека.\n",
    "\n",
    "2.9. Часы работы заведений/стоимость чашки кофе в зависимости от расположения или типа заведения.\n",
    "- В центре попить кофе дороже всего, за центром идет Западный административный округ. Однако прямой зависимости от удаленности от центра, как со средним чеком, не наблюдается.   \n",
    "- Прослеживается зависимость средней стоимости кофе от категории заведения: в кофейнях кофе дороже, чем пиццерии, но самый дорогой кофе в пабе (туда явно приходят не кофе пить).  \n",
    "- Средний чек выше в некруглосуточных заведениях.\n",
    "\n",
    "\n",
    "3. **Рекомендации на основе анализа данных**\n",
    "\n",
    "На основе проведенного анализа и выявления статистических характеристик, рекомендуется открыть заведение общественного питания в Москве в Центральном административном округе (возможно, в Западном) - кофейня, ресторан или кафе, некруглосуточное, мест может быть от 25 до 150, средний чек может составлять 1000 и более рублей, чашка кофе - около 190 рублей. \n"
   ]
  }
 ],
 "metadata": {
  "ExecuteTimeLog": [
   {
    "duration": 1527,
    "start_time": "2025-02-13T13:50:45.567Z"
   },
   {
    "duration": 11,
    "start_time": "2025-02-13T13:52:41.704Z"
   },
   {
    "duration": 13,
    "start_time": "2025-02-13T13:52:44.664Z"
   },
   {
    "duration": 64,
    "start_time": "2025-02-13T13:53:05.601Z"
   },
   {
    "duration": 11,
    "start_time": "2025-02-13T13:53:12.982Z"
   },
   {
    "duration": 10,
    "start_time": "2025-02-13T13:53:20.784Z"
   },
   {
    "duration": 11,
    "start_time": "2025-02-13T13:55:15.304Z"
   },
   {
    "duration": 4312,
    "start_time": "2025-02-13T13:55:26.584Z"
   },
   {
    "duration": 65,
    "start_time": "2025-02-13T14:07:59.440Z"
   },
   {
    "duration": 2682,
    "start_time": "2025-02-13T14:09:13.250Z"
   },
   {
    "duration": 509,
    "start_time": "2025-02-13T14:09:31.830Z"
   },
   {
    "duration": 266,
    "start_time": "2025-02-13T14:09:46.810Z"
   },
   {
    "duration": 74,
    "start_time": "2025-02-13T14:10:02.028Z"
   },
   {
    "duration": 20,
    "start_time": "2025-02-13T14:11:40.177Z"
   },
   {
    "duration": 24,
    "start_time": "2025-02-13T14:11:54.956Z"
   },
   {
    "duration": 9,
    "start_time": "2025-02-13T14:19:24.947Z"
   },
   {
    "duration": 10,
    "start_time": "2025-02-13T14:19:39.565Z"
   },
   {
    "duration": 14,
    "start_time": "2025-02-13T14:19:51.645Z"
   },
   {
    "duration": 12,
    "start_time": "2025-02-13T14:22:14.612Z"
   },
   {
    "duration": 72,
    "start_time": "2025-02-13T14:37:30.220Z"
   },
   {
    "duration": 2716,
    "start_time": "2025-02-13T14:41:00.398Z"
   },
   {
    "duration": 15,
    "start_time": "2025-02-13T14:53:14.197Z"
   },
   {
    "duration": 18,
    "start_time": "2025-02-13T14:53:33.821Z"
   },
   {
    "duration": 63,
    "start_time": "2025-02-13T14:54:28.714Z"
   },
   {
    "duration": 11,
    "start_time": "2025-02-13T14:54:38.914Z"
   },
   {
    "duration": 71,
    "start_time": "2025-02-13T14:56:21.906Z"
   },
   {
    "duration": 6544,
    "start_time": "2025-02-14T11:56:39.756Z"
   },
   {
    "duration": 215,
    "start_time": "2025-02-14T11:56:46.303Z"
   },
   {
    "duration": 19,
    "start_time": "2025-02-14T11:56:46.519Z"
   },
   {
    "duration": 27,
    "start_time": "2025-02-14T11:56:46.540Z"
   },
   {
    "duration": 10,
    "start_time": "2025-02-14T11:56:46.569Z"
   },
   {
    "duration": 36,
    "start_time": "2025-02-14T11:56:46.581Z"
   },
   {
    "duration": 15,
    "start_time": "2025-02-14T11:56:46.618Z"
   },
   {
    "duration": 15,
    "start_time": "2025-02-14T11:56:46.635Z"
   },
   {
    "duration": 4,
    "start_time": "2025-02-14T12:01:49.690Z"
   },
   {
    "duration": 120,
    "start_time": "2025-02-14T12:04:33.926Z"
   },
   {
    "duration": 15,
    "start_time": "2025-02-14T12:07:17.040Z"
   },
   {
    "duration": 5,
    "start_time": "2025-02-14T12:12:18.051Z"
   },
   {
    "duration": 6,
    "start_time": "2025-02-14T12:13:25.811Z"
   },
   {
    "duration": 62,
    "start_time": "2025-02-14T12:14:40.376Z"
   },
   {
    "duration": 7,
    "start_time": "2025-02-14T12:14:49.239Z"
   },
   {
    "duration": 6,
    "start_time": "2025-02-14T12:14:52.911Z"
   },
   {
    "duration": 11,
    "start_time": "2025-02-14T12:23:16.704Z"
   },
   {
    "duration": 12,
    "start_time": "2025-02-14T12:24:02.591Z"
   },
   {
    "duration": 6,
    "start_time": "2025-02-14T13:03:52.305Z"
   },
   {
    "duration": 5,
    "start_time": "2025-02-14T13:04:19.632Z"
   },
   {
    "duration": 15,
    "start_time": "2025-02-14T13:07:51.599Z"
   },
   {
    "duration": 1041,
    "start_time": "2025-02-14T13:08:13.890Z"
   },
   {
    "duration": 10,
    "start_time": "2025-02-14T13:08:42.320Z"
   },
   {
    "duration": 11,
    "start_time": "2025-02-14T13:09:07.128Z"
   },
   {
    "duration": 16,
    "start_time": "2025-02-14T13:11:39.730Z"
   },
   {
    "duration": 1014,
    "start_time": "2025-02-14T13:12:11.980Z"
   },
   {
    "duration": 6,
    "start_time": "2025-02-14T13:12:47.190Z"
   },
   {
    "duration": 9,
    "start_time": "2025-02-14T13:13:46.084Z"
   },
   {
    "duration": 1088,
    "start_time": "2025-02-14T13:14:49.814Z"
   },
   {
    "duration": 20,
    "start_time": "2025-02-14T13:15:12.982Z"
   },
   {
    "duration": 20,
    "start_time": "2025-02-14T13:20:46.894Z"
   },
   {
    "duration": 13,
    "start_time": "2025-02-14T13:27:33.844Z"
   },
   {
    "duration": 12,
    "start_time": "2025-02-14T13:27:45.873Z"
   },
   {
    "duration": 12,
    "start_time": "2025-02-14T13:30:32.954Z"
   },
   {
    "duration": 14,
    "start_time": "2025-02-14T13:33:17.448Z"
   },
   {
    "duration": 13,
    "start_time": "2025-02-14T13:34:17.950Z"
   },
   {
    "duration": 12,
    "start_time": "2025-02-14T13:35:22.955Z"
   },
   {
    "duration": 23,
    "start_time": "2025-02-14T13:35:35.226Z"
   },
   {
    "duration": 8,
    "start_time": "2025-02-14T13:36:16.307Z"
   },
   {
    "duration": 27887,
    "start_time": "2025-02-15T15:15:17.801Z"
   },
   {
    "duration": 224,
    "start_time": "2025-02-15T15:15:45.691Z"
   },
   {
    "duration": 19,
    "start_time": "2025-02-15T15:15:45.916Z"
   },
   {
    "duration": 19,
    "start_time": "2025-02-15T15:15:45.937Z"
   },
   {
    "duration": 14,
    "start_time": "2025-02-15T15:15:45.958Z"
   },
   {
    "duration": 13,
    "start_time": "2025-02-15T15:15:45.974Z"
   },
   {
    "duration": 15,
    "start_time": "2025-02-15T15:15:45.989Z"
   },
   {
    "duration": 39,
    "start_time": "2025-02-15T15:15:46.006Z"
   },
   {
    "duration": 13,
    "start_time": "2025-02-15T15:15:46.047Z"
   },
   {
    "duration": 18,
    "start_time": "2025-02-15T15:15:46.062Z"
   },
   {
    "duration": 33,
    "start_time": "2025-02-15T15:15:46.082Z"
   },
   {
    "duration": 13,
    "start_time": "2025-02-15T15:15:46.117Z"
   },
   {
    "duration": 26,
    "start_time": "2025-02-15T15:15:46.133Z"
   },
   {
    "duration": 8,
    "start_time": "2025-02-15T15:15:46.161Z"
   },
   {
    "duration": 14,
    "start_time": "2025-02-15T15:15:46.171Z"
   },
   {
    "duration": 36,
    "start_time": "2025-02-15T15:15:46.187Z"
   },
   {
    "duration": 1074,
    "start_time": "2025-02-15T15:15:46.224Z"
   },
   {
    "duration": 49,
    "start_time": "2025-02-15T17:23:19.541Z"
   },
   {
    "duration": 8,
    "start_time": "2025-02-15T17:23:26.836Z"
   },
   {
    "duration": 6,
    "start_time": "2025-02-15T17:23:51.734Z"
   },
   {
    "duration": 36270,
    "start_time": "2025-02-15T17:24:08.562Z"
   },
   {
    "duration": 212,
    "start_time": "2025-02-15T17:25:02.337Z"
   },
   {
    "duration": 27,
    "start_time": "2025-02-15T17:25:03.409Z"
   },
   {
    "duration": 14,
    "start_time": "2025-02-15T17:25:03.769Z"
   },
   {
    "duration": 9,
    "start_time": "2025-02-15T17:25:04.477Z"
   },
   {
    "duration": 21,
    "start_time": "2025-02-15T17:25:04.804Z"
   },
   {
    "duration": 12,
    "start_time": "2025-02-15T17:25:06.041Z"
   },
   {
    "duration": 15,
    "start_time": "2025-02-15T17:25:06.928Z"
   },
   {
    "duration": 7,
    "start_time": "2025-02-15T17:25:08.932Z"
   },
   {
    "duration": 5,
    "start_time": "2025-02-15T17:25:09.545Z"
   },
   {
    "duration": 9,
    "start_time": "2025-02-15T17:25:11.239Z"
   },
   {
    "duration": 10,
    "start_time": "2025-02-15T17:25:11.830Z"
   },
   {
    "duration": 23,
    "start_time": "2025-02-15T17:25:15.568Z"
   },
   {
    "duration": 7,
    "start_time": "2025-02-15T17:25:19.734Z"
   },
   {
    "duration": 11,
    "start_time": "2025-02-15T17:25:27.335Z"
   },
   {
    "duration": 72,
    "start_time": "2025-02-15T17:26:31.163Z"
   },
   {
    "duration": 64,
    "start_time": "2025-02-15T17:26:43.093Z"
   },
   {
    "duration": 4,
    "start_time": "2025-02-15T17:27:41.553Z"
   },
   {
    "duration": 11,
    "start_time": "2025-02-15T17:30:08.538Z"
   },
   {
    "duration": 5,
    "start_time": "2025-02-15T17:36:10.538Z"
   },
   {
    "duration": 22,
    "start_time": "2025-02-15T17:38:37.023Z"
   },
   {
    "duration": 16,
    "start_time": "2025-02-15T17:38:48.566Z"
   },
   {
    "duration": 18,
    "start_time": "2025-02-15T17:39:49.546Z"
   },
   {
    "duration": 18,
    "start_time": "2025-02-15T17:39:57.481Z"
   },
   {
    "duration": 17,
    "start_time": "2025-02-15T17:41:01.780Z"
   },
   {
    "duration": 1370,
    "start_time": "2025-02-15T17:42:20.634Z"
   },
   {
    "duration": 21,
    "start_time": "2025-02-15T17:43:22.515Z"
   },
   {
    "duration": 211,
    "start_time": "2025-02-15T18:05:49.263Z"
   },
   {
    "duration": 173,
    "start_time": "2025-02-15T18:06:38.982Z"
   },
   {
    "duration": 143,
    "start_time": "2025-02-15T18:08:22.389Z"
   },
   {
    "duration": 168,
    "start_time": "2025-02-15T18:08:27.329Z"
   },
   {
    "duration": 194,
    "start_time": "2025-02-15T18:10:14.901Z"
   },
   {
    "duration": 18,
    "start_time": "2025-02-15T18:18:49.130Z"
   },
   {
    "duration": 199,
    "start_time": "2025-02-15T18:18:58.278Z"
   },
   {
    "duration": 254,
    "start_time": "2025-02-15T18:21:31.886Z"
   },
   {
    "duration": 330,
    "start_time": "2025-02-15T18:21:41.093Z"
   },
   {
    "duration": 249,
    "start_time": "2025-02-15T18:23:02.745Z"
   },
   {
    "duration": 152,
    "start_time": "2025-02-15T18:31:02.477Z"
   },
   {
    "duration": 144,
    "start_time": "2025-02-15T18:31:27.950Z"
   },
   {
    "duration": 141,
    "start_time": "2025-02-15T18:33:40.230Z"
   },
   {
    "duration": 150,
    "start_time": "2025-02-15T18:38:12.116Z"
   },
   {
    "duration": 8,
    "start_time": "2025-02-15T18:39:28.934Z"
   },
   {
    "duration": 12,
    "start_time": "2025-02-15T18:40:11.506Z"
   },
   {
    "duration": 10,
    "start_time": "2025-02-15T18:40:46.733Z"
   },
   {
    "duration": 171,
    "start_time": "2025-02-15T18:41:04.987Z"
   },
   {
    "duration": 164,
    "start_time": "2025-02-15T18:43:51.299Z"
   },
   {
    "duration": 146,
    "start_time": "2025-02-15T18:44:10.548Z"
   },
   {
    "duration": 203,
    "start_time": "2025-02-15T18:45:23.886Z"
   },
   {
    "duration": 220,
    "start_time": "2025-02-15T18:45:38.080Z"
   },
   {
    "duration": 238,
    "start_time": "2025-02-15T18:45:55.075Z"
   },
   {
    "duration": 277,
    "start_time": "2025-02-15T18:46:10.301Z"
   },
   {
    "duration": 204,
    "start_time": "2025-02-15T18:46:34.341Z"
   },
   {
    "duration": 203,
    "start_time": "2025-02-15T18:46:42.983Z"
   },
   {
    "duration": 227,
    "start_time": "2025-02-15T18:47:08.830Z"
   },
   {
    "duration": 175,
    "start_time": "2025-02-15T18:47:16.747Z"
   },
   {
    "duration": 188,
    "start_time": "2025-02-15T18:47:28.468Z"
   },
   {
    "duration": 93,
    "start_time": "2025-02-15T18:48:30.172Z"
   },
   {
    "duration": 166,
    "start_time": "2025-02-15T18:54:01.913Z"
   },
   {
    "duration": 78,
    "start_time": "2025-02-15T18:54:09.871Z"
   },
   {
    "duration": 123,
    "start_time": "2025-02-15T18:54:13.851Z"
   },
   {
    "duration": 175,
    "start_time": "2025-02-15T18:54:41.983Z"
   },
   {
    "duration": 20610,
    "start_time": "2025-02-16T09:10:11.240Z"
   },
   {
    "duration": 172,
    "start_time": "2025-02-16T09:10:41.603Z"
   },
   {
    "duration": 18,
    "start_time": "2025-02-16T09:10:42.477Z"
   },
   {
    "duration": 23,
    "start_time": "2025-02-16T09:10:42.887Z"
   },
   {
    "duration": 10,
    "start_time": "2025-02-16T09:10:44.125Z"
   },
   {
    "duration": 12,
    "start_time": "2025-02-16T09:10:44.691Z"
   },
   {
    "duration": 13,
    "start_time": "2025-02-16T09:10:46.441Z"
   },
   {
    "duration": 17,
    "start_time": "2025-02-16T09:10:47.221Z"
   },
   {
    "duration": 8,
    "start_time": "2025-02-16T09:10:48.949Z"
   },
   {
    "duration": 5,
    "start_time": "2025-02-16T09:10:49.887Z"
   },
   {
    "duration": 10,
    "start_time": "2025-02-16T09:10:52.097Z"
   },
   {
    "duration": 12,
    "start_time": "2025-02-16T09:10:54.025Z"
   },
   {
    "duration": 24,
    "start_time": "2025-02-16T09:10:57.913Z"
   },
   {
    "duration": 7,
    "start_time": "2025-02-16T09:11:02.728Z"
   },
   {
    "duration": 13,
    "start_time": "2025-02-16T09:11:17.451Z"
   },
   {
    "duration": 23,
    "start_time": "2025-02-16T09:11:21.626Z"
   },
   {
    "duration": 202,
    "start_time": "2025-02-16T09:11:31.134Z"
   },
   {
    "duration": 216,
    "start_time": "2025-02-16T09:11:34.134Z"
   },
   {
    "duration": 130,
    "start_time": "2025-02-16T09:20:05.280Z"
   },
   {
    "duration": 138,
    "start_time": "2025-02-16T09:20:16.383Z"
   },
   {
    "duration": 139,
    "start_time": "2025-02-16T09:20:37.063Z"
   },
   {
    "duration": 169,
    "start_time": "2025-02-16T09:22:49.566Z"
   },
   {
    "duration": 342,
    "start_time": "2025-02-16T09:25:48.042Z"
   },
   {
    "duration": 171,
    "start_time": "2025-02-16T09:25:57.125Z"
   },
   {
    "duration": 148,
    "start_time": "2025-02-16T09:27:06.964Z"
   },
   {
    "duration": 64,
    "start_time": "2025-02-16T09:42:45.524Z"
   },
   {
    "duration": 1046,
    "start_time": "2025-02-16T09:42:57.138Z"
   },
   {
    "duration": 237,
    "start_time": "2025-02-16T09:47:34.982Z"
   },
   {
    "duration": 86,
    "start_time": "2025-02-16T09:52:25.888Z"
   },
   {
    "duration": 77,
    "start_time": "2025-02-16T09:53:20.069Z"
   },
   {
    "duration": 8,
    "start_time": "2025-02-16T09:53:40.689Z"
   },
   {
    "duration": 12,
    "start_time": "2025-02-16T09:54:21.090Z"
   },
   {
    "duration": 11,
    "start_time": "2025-02-16T09:55:02.442Z"
   },
   {
    "duration": 11,
    "start_time": "2025-02-16T09:55:20.244Z"
   },
   {
    "duration": 11,
    "start_time": "2025-02-16T09:55:27.786Z"
   },
   {
    "duration": 10,
    "start_time": "2025-02-16T09:56:12.064Z"
   },
   {
    "duration": 200,
    "start_time": "2025-02-16T09:58:21.386Z"
   },
   {
    "duration": 224,
    "start_time": "2025-02-16T10:04:07.731Z"
   },
   {
    "duration": 223,
    "start_time": "2025-02-16T10:05:28.985Z"
   },
   {
    "duration": 227,
    "start_time": "2025-02-16T10:05:37.570Z"
   },
   {
    "duration": 234,
    "start_time": "2025-02-16T10:05:53.626Z"
   },
   {
    "duration": 227,
    "start_time": "2025-02-16T10:06:02.016Z"
   },
   {
    "duration": 4,
    "start_time": "2025-02-16T10:07:25.826Z"
   },
   {
    "duration": 22,
    "start_time": "2025-02-16T10:07:33.622Z"
   },
   {
    "duration": 23,
    "start_time": "2025-02-16T10:07:38.073Z"
   },
   {
    "duration": 336,
    "start_time": "2025-02-16T10:09:06.368Z"
   },
   {
    "duration": 226,
    "start_time": "2025-02-16T10:09:23.657Z"
   },
   {
    "duration": 228,
    "start_time": "2025-02-16T10:09:59.611Z"
   },
   {
    "duration": 329,
    "start_time": "2025-02-16T10:10:45.306Z"
   },
   {
    "duration": 223,
    "start_time": "2025-02-16T10:11:12.091Z"
   },
   {
    "duration": 217,
    "start_time": "2025-02-16T10:11:23.275Z"
   },
   {
    "duration": 8,
    "start_time": "2025-02-16T10:47:44.566Z"
   },
   {
    "duration": 123,
    "start_time": "2025-02-16T10:52:40.990Z"
   },
   {
    "duration": 10,
    "start_time": "2025-02-16T10:58:15.060Z"
   },
   {
    "duration": 117,
    "start_time": "2025-02-16T11:01:58.394Z"
   },
   {
    "duration": 68,
    "start_time": "2025-02-16T11:03:32.395Z"
   },
   {
    "duration": 63,
    "start_time": "2025-02-16T11:03:45.361Z"
   },
   {
    "duration": 13,
    "start_time": "2025-02-16T11:04:37.943Z"
   },
   {
    "duration": 17,
    "start_time": "2025-02-16T11:05:04.570Z"
   },
   {
    "duration": 7,
    "start_time": "2025-02-16T11:06:00.059Z"
   },
   {
    "duration": 46,
    "start_time": "2025-02-16T11:06:16.068Z"
   },
   {
    "duration": 60,
    "start_time": "2025-02-16T11:08:27.382Z"
   },
   {
    "duration": 18,
    "start_time": "2025-02-16T11:12:18.861Z"
   },
   {
    "duration": 160,
    "start_time": "2025-02-16T11:12:51.229Z"
   },
   {
    "duration": 134,
    "start_time": "2025-02-16T11:13:16.554Z"
   },
   {
    "duration": 241,
    "start_time": "2025-02-16T11:13:29.891Z"
   },
   {
    "duration": 333,
    "start_time": "2025-02-16T11:20:59.891Z"
   },
   {
    "duration": 236,
    "start_time": "2025-02-16T11:21:22.524Z"
   },
   {
    "duration": 261,
    "start_time": "2025-02-16T11:21:35.997Z"
   },
   {
    "duration": 262,
    "start_time": "2025-02-16T11:21:43.143Z"
   },
   {
    "duration": 236,
    "start_time": "2025-02-16T11:22:56.804Z"
   },
   {
    "duration": 232,
    "start_time": "2025-02-16T11:31:08.452Z"
   },
   {
    "duration": 223,
    "start_time": "2025-02-16T11:32:51.675Z"
   },
   {
    "duration": 11,
    "start_time": "2025-02-16T11:54:07.764Z"
   },
   {
    "duration": 12,
    "start_time": "2025-02-16T11:55:30.908Z"
   },
   {
    "duration": 7,
    "start_time": "2025-02-16T11:55:39.678Z"
   },
   {
    "duration": 16,
    "start_time": "2025-02-16T11:55:47.206Z"
   },
   {
    "duration": 17,
    "start_time": "2025-02-16T11:56:26.400Z"
   },
   {
    "duration": 7,
    "start_time": "2025-02-16T11:56:34.620Z"
   },
   {
    "duration": 323,
    "start_time": "2025-02-16T11:59:44.506Z"
   },
   {
    "duration": 16,
    "start_time": "2025-02-16T12:05:08.492Z"
   },
   {
    "duration": 14,
    "start_time": "2025-02-16T12:05:19.503Z"
   },
   {
    "duration": 231,
    "start_time": "2025-02-16T12:05:33.321Z"
   },
   {
    "duration": 230,
    "start_time": "2025-02-16T12:05:44.683Z"
   },
   {
    "duration": 204,
    "start_time": "2025-02-16T12:06:26.071Z"
   },
   {
    "duration": 208,
    "start_time": "2025-02-16T12:06:52.525Z"
   },
   {
    "duration": 178,
    "start_time": "2025-02-16T12:09:40.329Z"
   },
   {
    "duration": 212,
    "start_time": "2025-02-16T12:10:00.557Z"
   },
   {
    "duration": 215,
    "start_time": "2025-02-16T12:10:27.033Z"
   },
   {
    "duration": 209,
    "start_time": "2025-02-16T12:10:31.774Z"
   },
   {
    "duration": 200,
    "start_time": "2025-02-16T12:12:19.334Z"
   },
   {
    "duration": 217,
    "start_time": "2025-02-16T12:12:42.141Z"
   },
   {
    "duration": 23,
    "start_time": "2025-02-16T12:33:53.914Z"
   },
   {
    "duration": 4,
    "start_time": "2025-02-16T12:34:04.772Z"
   },
   {
    "duration": 9,
    "start_time": "2025-02-16T12:36:08.085Z"
   },
   {
    "duration": 11,
    "start_time": "2025-02-16T12:36:42.347Z"
   },
   {
    "duration": 9,
    "start_time": "2025-02-16T12:36:54.672Z"
   },
   {
    "duration": 13,
    "start_time": "2025-02-16T12:37:02.388Z"
   },
   {
    "duration": 20,
    "start_time": "2025-02-16T12:38:50.004Z"
   },
   {
    "duration": 20,
    "start_time": "2025-02-16T12:38:55.570Z"
   },
   {
    "duration": 123,
    "start_time": "2025-02-16T12:39:50.613Z"
   },
   {
    "duration": 22,
    "start_time": "2025-02-16T12:40:22.937Z"
   },
   {
    "duration": 23,
    "start_time": "2025-02-16T12:41:29.883Z"
   },
   {
    "duration": 23,
    "start_time": "2025-02-16T12:41:49.899Z"
   },
   {
    "duration": 13,
    "start_time": "2025-02-16T12:41:58.306Z"
   },
   {
    "duration": 20,
    "start_time": "2025-02-16T12:42:57.101Z"
   },
   {
    "duration": 20,
    "start_time": "2025-02-16T12:43:12.848Z"
   },
   {
    "duration": 4,
    "start_time": "2025-02-16T12:44:04.730Z"
   },
   {
    "duration": 19,
    "start_time": "2025-02-16T12:44:20.999Z"
   },
   {
    "duration": 24,
    "start_time": "2025-02-16T12:44:35.034Z"
   },
   {
    "duration": 29,
    "start_time": "2025-02-16T12:46:24.139Z"
   },
   {
    "duration": 23,
    "start_time": "2025-02-16T12:48:06.345Z"
   },
   {
    "duration": 22,
    "start_time": "2025-02-16T12:48:24.630Z"
   },
   {
    "duration": 22,
    "start_time": "2025-02-16T12:48:32.186Z"
   },
   {
    "duration": 23,
    "start_time": "2025-02-16T12:48:41.494Z"
   },
   {
    "duration": 24,
    "start_time": "2025-02-16T12:48:58.600Z"
   },
   {
    "duration": 10,
    "start_time": "2025-02-16T13:01:16.445Z"
   },
   {
    "duration": 8,
    "start_time": "2025-02-16T13:01:24.115Z"
   },
   {
    "duration": 227,
    "start_time": "2025-02-16T13:04:00.594Z"
   },
   {
    "duration": 187,
    "start_time": "2025-02-16T13:04:35.739Z"
   },
   {
    "duration": 234,
    "start_time": "2025-02-16T13:04:43.097Z"
   },
   {
    "duration": 209,
    "start_time": "2025-02-16T13:06:27.265Z"
   },
   {
    "duration": 155,
    "start_time": "2025-02-16T13:06:41.471Z"
   },
   {
    "duration": 2570,
    "start_time": "2025-02-16T16:16:51.855Z"
   },
   {
    "duration": 278,
    "start_time": "2025-02-16T16:16:56.633Z"
   },
   {
    "duration": 20,
    "start_time": "2025-02-16T16:16:58.734Z"
   },
   {
    "duration": 15,
    "start_time": "2025-02-16T16:16:59.632Z"
   },
   {
    "duration": 10,
    "start_time": "2025-02-16T16:17:01.433Z"
   },
   {
    "duration": 12,
    "start_time": "2025-02-16T16:17:02.300Z"
   },
   {
    "duration": 12,
    "start_time": "2025-02-16T16:17:04.860Z"
   },
   {
    "duration": 16,
    "start_time": "2025-02-16T16:17:05.720Z"
   },
   {
    "duration": 7,
    "start_time": "2025-02-16T16:17:08.086Z"
   },
   {
    "duration": 5,
    "start_time": "2025-02-16T16:17:08.810Z"
   },
   {
    "duration": 10,
    "start_time": "2025-02-16T16:17:10.842Z"
   },
   {
    "duration": 11,
    "start_time": "2025-02-16T16:17:11.464Z"
   },
   {
    "duration": 22,
    "start_time": "2025-02-16T16:17:13.252Z"
   },
   {
    "duration": 8,
    "start_time": "2025-02-16T16:17:13.892Z"
   },
   {
    "duration": 11,
    "start_time": "2025-02-16T16:17:15.125Z"
   },
   {
    "duration": 22,
    "start_time": "2025-02-16T16:17:16.923Z"
   },
   {
    "duration": 199,
    "start_time": "2025-02-16T16:17:20.016Z"
   },
   {
    "duration": 215,
    "start_time": "2025-02-16T16:17:21.959Z"
   },
   {
    "duration": 180,
    "start_time": "2025-02-16T16:17:23.711Z"
   },
   {
    "duration": 163,
    "start_time": "2025-02-16T16:17:32.257Z"
   },
   {
    "duration": 10,
    "start_time": "2025-02-16T16:17:34.603Z"
   },
   {
    "duration": 229,
    "start_time": "2025-02-16T16:17:35.837Z"
   },
   {
    "duration": 10,
    "start_time": "2025-02-16T16:17:49.761Z"
   },
   {
    "duration": 230,
    "start_time": "2025-02-16T16:19:14.448Z"
   },
   {
    "duration": 223,
    "start_time": "2025-02-16T16:19:25.109Z"
   },
   {
    "duration": 240,
    "start_time": "2025-02-16T16:19:34.485Z"
   },
   {
    "duration": 321,
    "start_time": "2025-02-16T16:19:47.127Z"
   },
   {
    "duration": 221,
    "start_time": "2025-02-16T16:20:00.437Z"
   },
   {
    "duration": 220,
    "start_time": "2025-02-16T16:20:11.695Z"
   },
   {
    "duration": 207,
    "start_time": "2025-02-16T16:22:27.070Z"
   },
   {
    "duration": 107,
    "start_time": "2025-02-16T16:32:27.316Z"
   },
   {
    "duration": 9,
    "start_time": "2025-02-16T16:32:43.923Z"
   },
   {
    "duration": 9,
    "start_time": "2025-02-16T16:34:00.720Z"
   },
   {
    "duration": 8,
    "start_time": "2025-02-16T16:35:39.462Z"
   },
   {
    "duration": 10,
    "start_time": "2025-02-16T16:35:41.920Z"
   },
   {
    "duration": 231,
    "start_time": "2025-02-16T16:35:42.964Z"
   },
   {
    "duration": 219,
    "start_time": "2025-02-16T16:35:44.960Z"
   },
   {
    "duration": 23,
    "start_time": "2025-02-16T16:35:47.042Z"
   },
   {
    "duration": 149,
    "start_time": "2025-02-16T16:35:51.804Z"
   },
   {
    "duration": 169,
    "start_time": "2025-02-16T16:37:11.074Z"
   },
   {
    "duration": 267,
    "start_time": "2025-02-16T16:37:33.292Z"
   },
   {
    "duration": 161,
    "start_time": "2025-02-16T16:37:53.273Z"
   },
   {
    "duration": 255,
    "start_time": "2025-02-16T16:38:11.094Z"
   },
   {
    "duration": 186,
    "start_time": "2025-02-16T16:39:08.670Z"
   },
   {
    "duration": 155,
    "start_time": "2025-02-16T16:39:22.760Z"
   },
   {
    "duration": 152,
    "start_time": "2025-02-16T16:39:34.311Z"
   },
   {
    "duration": 148,
    "start_time": "2025-02-16T16:39:47.115Z"
   },
   {
    "duration": 7,
    "start_time": "2025-02-16T16:40:44.328Z"
   },
   {
    "duration": 161,
    "start_time": "2025-02-16T16:42:43.563Z"
   },
   {
    "duration": 7,
    "start_time": "2025-02-16T16:42:55.119Z"
   },
   {
    "duration": 160,
    "start_time": "2025-02-16T16:42:56.266Z"
   },
   {
    "duration": 8,
    "start_time": "2025-02-16T16:50:11.490Z"
   },
   {
    "duration": 4,
    "start_time": "2025-02-16T16:50:16.143Z"
   },
   {
    "duration": 13,
    "start_time": "2025-02-16T16:51:58.358Z"
   },
   {
    "duration": 11,
    "start_time": "2025-02-16T16:52:49.901Z"
   },
   {
    "duration": 12,
    "start_time": "2025-02-16T16:55:40.644Z"
   },
   {
    "duration": 11,
    "start_time": "2025-02-16T16:56:04.841Z"
   },
   {
    "duration": 10,
    "start_time": "2025-02-16T16:58:28.940Z"
   },
   {
    "duration": 11,
    "start_time": "2025-02-16T16:58:34.783Z"
   },
   {
    "duration": 2823,
    "start_time": "2025-02-16T16:59:14.537Z"
   },
   {
    "duration": 9681,
    "start_time": "2025-02-16T16:59:36.625Z"
   },
   {
    "duration": 799,
    "start_time": "2025-02-16T17:00:07.294Z"
   },
   {
    "duration": 81,
    "start_time": "2025-02-16T17:00:36.272Z"
   },
   {
    "duration": 823,
    "start_time": "2025-02-16T17:00:44.560Z"
   },
   {
    "duration": 296,
    "start_time": "2025-02-16T17:09:32.856Z"
   },
   {
    "duration": 192,
    "start_time": "2025-02-16T17:09:45.114Z"
   },
   {
    "duration": 178,
    "start_time": "2025-02-16T17:10:15.139Z"
   },
   {
    "duration": 37,
    "start_time": "2025-02-16T17:43:21.188Z"
   },
   {
    "duration": 12,
    "start_time": "2025-02-16T17:46:54.673Z"
   },
   {
    "duration": 13,
    "start_time": "2025-02-16T17:51:19.406Z"
   },
   {
    "duration": 143,
    "start_time": "2025-02-16T17:51:33.507Z"
   },
   {
    "duration": 136,
    "start_time": "2025-02-16T17:52:22.085Z"
   },
   {
    "duration": 136,
    "start_time": "2025-02-16T17:53:24.768Z"
   },
   {
    "duration": 133,
    "start_time": "2025-02-16T17:53:36.003Z"
   },
   {
    "duration": 11,
    "start_time": "2025-02-16T17:54:24.751Z"
   },
   {
    "duration": 157,
    "start_time": "2025-02-16T17:54:31.853Z"
   },
   {
    "duration": 136,
    "start_time": "2025-02-16T17:54:46.548Z"
   },
   {
    "duration": 231,
    "start_time": "2025-02-16T18:01:35.351Z"
   },
   {
    "duration": 126,
    "start_time": "2025-02-16T18:02:14.267Z"
   },
   {
    "duration": 136,
    "start_time": "2025-02-16T18:02:45.230Z"
   },
   {
    "duration": 9256,
    "start_time": "2025-02-16T18:03:26.488Z"
   },
   {
    "duration": 252,
    "start_time": "2025-02-16T18:03:36.055Z"
   },
   {
    "duration": 28,
    "start_time": "2025-02-16T18:19:14.143Z"
   },
   {
    "duration": 19,
    "start_time": "2025-02-16T18:21:21.184Z"
   },
   {
    "duration": 18,
    "start_time": "2025-02-16T18:21:54.978Z"
   },
   {
    "duration": 23,
    "start_time": "2025-02-16T18:24:48.546Z"
   },
   {
    "duration": 13,
    "start_time": "2025-02-16T18:25:45.228Z"
   },
   {
    "duration": 13,
    "start_time": "2025-02-16T18:27:34.200Z"
   },
   {
    "duration": 17,
    "start_time": "2025-02-16T18:27:47.867Z"
   },
   {
    "duration": 23,
    "start_time": "2025-02-16T18:27:55.972Z"
   },
   {
    "duration": 23,
    "start_time": "2025-02-16T18:28:13.393Z"
   },
   {
    "duration": 141,
    "start_time": "2025-02-16T18:40:04.201Z"
   },
   {
    "duration": 150,
    "start_time": "2025-02-16T18:40:26.031Z"
   },
   {
    "duration": 134,
    "start_time": "2025-02-16T18:51:27.870Z"
   },
   {
    "duration": 177,
    "start_time": "2025-02-16T18:51:50.355Z"
   },
   {
    "duration": 321,
    "start_time": "2025-02-16T18:51:58.453Z"
   },
   {
    "duration": 189,
    "start_time": "2025-02-16T18:54:56.390Z"
   },
   {
    "duration": 70,
    "start_time": "2025-02-16T18:59:26.953Z"
   },
   {
    "duration": 235,
    "start_time": "2025-02-16T19:01:10.883Z"
   },
   {
    "duration": 208,
    "start_time": "2025-02-16T19:03:21.146Z"
   },
   {
    "duration": 21,
    "start_time": "2025-02-16T19:03:46.400Z"
   },
   {
    "duration": 15,
    "start_time": "2025-02-16T19:03:49.282Z"
   },
   {
    "duration": 22,
    "start_time": "2025-02-16T19:04:19.331Z"
   },
   {
    "duration": 205,
    "start_time": "2025-02-16T19:04:31.599Z"
   },
   {
    "duration": 22,
    "start_time": "2025-02-16T19:04:56.138Z"
   },
   {
    "duration": 235,
    "start_time": "2025-02-16T19:05:07.058Z"
   },
   {
    "duration": 212,
    "start_time": "2025-02-16T19:05:14.826Z"
   },
   {
    "duration": 214,
    "start_time": "2025-02-16T19:05:27.328Z"
   },
   {
    "duration": 210,
    "start_time": "2025-02-16T19:08:22.147Z"
   },
   {
    "duration": 210,
    "start_time": "2025-02-16T19:10:27.572Z"
   },
   {
    "duration": 95,
    "start_time": "2025-02-16T19:11:04.332Z"
   },
   {
    "duration": 316,
    "start_time": "2025-02-16T19:11:14.497Z"
   },
   {
    "duration": 164,
    "start_time": "2025-02-16T19:11:27.447Z"
   },
   {
    "duration": 192,
    "start_time": "2025-02-16T19:13:05.919Z"
   },
   {
    "duration": 189,
    "start_time": "2025-02-16T19:14:19.022Z"
   },
   {
    "duration": 183,
    "start_time": "2025-02-16T19:14:48.719Z"
   },
   {
    "duration": 180,
    "start_time": "2025-02-16T19:15:15.414Z"
   },
   {
    "duration": 168,
    "start_time": "2025-02-16T19:15:33.256Z"
   },
   {
    "duration": 178,
    "start_time": "2025-02-16T19:15:42.207Z"
   },
   {
    "duration": 185,
    "start_time": "2025-02-16T19:21:39.620Z"
   },
   {
    "duration": 180,
    "start_time": "2025-02-16T19:21:52.450Z"
   },
   {
    "duration": 166,
    "start_time": "2025-02-16T19:22:07.492Z"
   },
   {
    "duration": 85,
    "start_time": "2025-02-16T19:23:31.658Z"
   },
   {
    "duration": 202,
    "start_time": "2025-02-16T19:23:38.634Z"
   },
   {
    "duration": 203,
    "start_time": "2025-02-16T19:24:37.759Z"
   },
   {
    "duration": 11,
    "start_time": "2025-02-16T19:25:21.200Z"
   },
   {
    "duration": 243,
    "start_time": "2025-02-16T19:25:45.562Z"
   },
   {
    "duration": 333,
    "start_time": "2025-02-16T19:26:13.505Z"
   },
   {
    "duration": 230,
    "start_time": "2025-02-16T19:26:19.330Z"
   },
   {
    "duration": 239,
    "start_time": "2025-02-16T19:26:28.573Z"
   },
   {
    "duration": 218,
    "start_time": "2025-02-16T19:26:33.904Z"
   },
   {
    "duration": 233,
    "start_time": "2025-02-16T19:26:51.442Z"
   },
   {
    "duration": 255,
    "start_time": "2025-02-16T19:27:03.301Z"
   },
   {
    "duration": 244,
    "start_time": "2025-02-16T19:27:20.626Z"
   },
   {
    "duration": 4,
    "start_time": "2025-02-16T19:27:30.965Z"
   },
   {
    "duration": 91,
    "start_time": "2025-02-16T19:27:48.707Z"
   },
   {
    "duration": 91,
    "start_time": "2025-02-16T19:27:54.339Z"
   },
   {
    "duration": 71,
    "start_time": "2025-02-16T19:27:59.114Z"
   },
   {
    "duration": 220,
    "start_time": "2025-02-16T19:28:26.422Z"
   },
   {
    "duration": 226,
    "start_time": "2025-02-16T19:28:34.475Z"
   },
   {
    "duration": 245,
    "start_time": "2025-02-16T19:28:41.882Z"
   },
   {
    "duration": 332,
    "start_time": "2025-02-16T19:29:08.457Z"
   },
   {
    "duration": 219,
    "start_time": "2025-02-16T19:29:45.585Z"
   },
   {
    "duration": 219,
    "start_time": "2025-02-16T19:29:56.840Z"
   },
   {
    "duration": 343,
    "start_time": "2025-02-16T19:35:01.266Z"
   },
   {
    "duration": 220,
    "start_time": "2025-02-16T19:35:18.918Z"
   },
   {
    "duration": 208,
    "start_time": "2025-02-16T19:35:46.221Z"
   },
   {
    "duration": 120,
    "start_time": "2025-02-16T19:37:34.675Z"
   },
   {
    "duration": 126,
    "start_time": "2025-02-16T19:37:56.077Z"
   },
   {
    "duration": 211,
    "start_time": "2025-02-16T19:38:02.486Z"
   },
   {
    "duration": 21,
    "start_time": "2025-02-16T19:38:18.904Z"
   },
   {
    "duration": 205,
    "start_time": "2025-02-16T19:38:23.012Z"
   },
   {
    "duration": 217,
    "start_time": "2025-02-16T19:38:31.232Z"
   },
   {
    "duration": 225,
    "start_time": "2025-02-16T19:38:37.882Z"
   },
   {
    "duration": 212,
    "start_time": "2025-02-16T19:38:45.809Z"
   },
   {
    "duration": 117,
    "start_time": "2025-02-16T19:39:50.499Z"
   },
   {
    "duration": 211,
    "start_time": "2025-02-16T19:39:57.914Z"
   },
   {
    "duration": 216,
    "start_time": "2025-02-16T19:41:05.337Z"
   },
   {
    "duration": 16,
    "start_time": "2025-02-16T19:49:01.295Z"
   },
   {
    "duration": 22,
    "start_time": "2025-02-16T19:49:19.536Z"
   },
   {
    "duration": 332,
    "start_time": "2025-02-16T19:49:50.572Z"
   },
   {
    "duration": 15,
    "start_time": "2025-02-16T19:52:33.718Z"
   },
   {
    "duration": 21,
    "start_time": "2025-02-16T19:52:46.594Z"
   },
   {
    "duration": 68,
    "start_time": "2025-02-16T19:58:29.394Z"
   },
   {
    "duration": 11,
    "start_time": "2025-02-16T19:58:37.483Z"
   },
   {
    "duration": 31,
    "start_time": "2025-02-16T19:58:46.792Z"
   },
   {
    "duration": 16,
    "start_time": "2025-02-16T19:59:06.536Z"
   },
   {
    "duration": 17,
    "start_time": "2025-02-16T19:59:30.501Z"
   },
   {
    "duration": 16,
    "start_time": "2025-02-16T19:59:52.861Z"
   },
   {
    "duration": 33,
    "start_time": "2025-02-16T20:00:00.032Z"
   },
   {
    "duration": 32,
    "start_time": "2025-02-16T20:00:17.577Z"
   },
   {
    "duration": 13,
    "start_time": "2025-02-16T20:03:10.204Z"
   },
   {
    "duration": 14,
    "start_time": "2025-02-16T20:03:19.495Z"
   },
   {
    "duration": 19,
    "start_time": "2025-02-16T20:03:38.381Z"
   },
   {
    "duration": 19,
    "start_time": "2025-02-16T20:04:28.489Z"
   },
   {
    "duration": 19,
    "start_time": "2025-02-16T20:04:41.749Z"
   },
   {
    "duration": 20,
    "start_time": "2025-02-16T20:05:06.627Z"
   },
   {
    "duration": 13,
    "start_time": "2025-02-16T20:07:23.078Z"
   },
   {
    "duration": 18,
    "start_time": "2025-02-16T20:10:40.658Z"
   },
   {
    "duration": 20,
    "start_time": "2025-02-16T20:14:30.238Z"
   },
   {
    "duration": 19,
    "start_time": "2025-02-16T20:16:41.784Z"
   },
   {
    "duration": 19,
    "start_time": "2025-02-16T20:16:50.478Z"
   },
   {
    "duration": 18,
    "start_time": "2025-02-16T20:17:22.441Z"
   },
   {
    "duration": 18,
    "start_time": "2025-02-16T20:18:39.060Z"
   },
   {
    "duration": 20,
    "start_time": "2025-02-16T20:18:46.857Z"
   },
   {
    "duration": 20,
    "start_time": "2025-02-16T20:19:48.179Z"
   },
   {
    "duration": 19,
    "start_time": "2025-02-16T20:19:57.122Z"
   },
   {
    "duration": 21,
    "start_time": "2025-02-16T20:20:15.772Z"
   },
   {
    "duration": 19,
    "start_time": "2025-02-16T20:21:01.281Z"
   },
   {
    "duration": 19,
    "start_time": "2025-02-16T20:21:05.247Z"
   },
   {
    "duration": 19,
    "start_time": "2025-02-16T20:25:10.392Z"
   },
   {
    "duration": 64,
    "start_time": "2025-02-16T20:25:15.426Z"
   },
   {
    "duration": 4,
    "start_time": "2025-02-16T20:25:25.419Z"
   },
   {
    "duration": 18,
    "start_time": "2025-02-16T20:25:29.219Z"
   },
   {
    "duration": 71,
    "start_time": "2025-02-16T20:25:47.481Z"
   },
   {
    "duration": 17,
    "start_time": "2025-02-16T20:29:38.018Z"
   },
   {
    "duration": 17,
    "start_time": "2025-02-16T20:29:53.540Z"
   },
   {
    "duration": 4,
    "start_time": "2025-02-16T20:30:23.379Z"
   },
   {
    "duration": 18,
    "start_time": "2025-02-16T20:30:27.479Z"
   },
   {
    "duration": 34,
    "start_time": "2025-02-16T20:31:31.102Z"
   },
   {
    "duration": 20,
    "start_time": "2025-02-16T20:31:49.150Z"
   },
   {
    "duration": 9,
    "start_time": "2025-02-16T20:35:01.480Z"
   },
   {
    "duration": 9,
    "start_time": "2025-02-16T20:35:10.696Z"
   },
   {
    "duration": 4,
    "start_time": "2025-02-16T20:38:48.223Z"
   },
   {
    "duration": 77,
    "start_time": "2025-02-16T20:39:29.306Z"
   },
   {
    "duration": 7,
    "start_time": "2025-02-16T20:39:35.604Z"
   },
   {
    "duration": 161,
    "start_time": "2025-02-16T20:43:00.695Z"
   },
   {
    "duration": 182,
    "start_time": "2025-02-16T20:43:58.524Z"
   },
   {
    "duration": 174,
    "start_time": "2025-02-16T20:44:13.312Z"
   },
   {
    "duration": 179,
    "start_time": "2025-02-16T20:44:35.624Z"
   },
   {
    "duration": 166,
    "start_time": "2025-02-16T20:46:12.944Z"
   },
   {
    "duration": 183,
    "start_time": "2025-02-16T20:46:20.555Z"
   },
   {
    "duration": 19,
    "start_time": "2025-02-16T20:48:47.062Z"
   },
   {
    "duration": 1564,
    "start_time": "2025-02-17T11:25:00.038Z"
   },
   {
    "duration": 10,
    "start_time": "2025-02-17T11:25:24.641Z"
   },
   {
    "duration": 4480,
    "start_time": "2025-02-17T11:25:35.808Z"
   },
   {
    "duration": 2806,
    "start_time": "2025-02-17T11:25:42.579Z"
   },
   {
    "duration": 2586,
    "start_time": "2025-02-17T11:25:57.961Z"
   },
   {
    "duration": 439,
    "start_time": "2025-02-17T11:26:00.550Z"
   },
   {
    "duration": 18,
    "start_time": "2025-02-17T11:26:02.129Z"
   },
   {
    "duration": 17,
    "start_time": "2025-02-17T11:26:02.540Z"
   },
   {
    "duration": 10,
    "start_time": "2025-02-17T11:26:03.309Z"
   },
   {
    "duration": 13,
    "start_time": "2025-02-17T11:26:03.688Z"
   },
   {
    "duration": 13,
    "start_time": "2025-02-17T11:26:05.231Z"
   },
   {
    "duration": 16,
    "start_time": "2025-02-17T11:26:05.928Z"
   },
   {
    "duration": 7,
    "start_time": "2025-02-17T11:26:07.881Z"
   },
   {
    "duration": 5,
    "start_time": "2025-02-17T11:26:08.486Z"
   },
   {
    "duration": 10,
    "start_time": "2025-02-17T11:26:10.191Z"
   },
   {
    "duration": 11,
    "start_time": "2025-02-17T11:26:10.746Z"
   },
   {
    "duration": 23,
    "start_time": "2025-02-17T11:26:12.248Z"
   },
   {
    "duration": 7,
    "start_time": "2025-02-17T11:26:12.695Z"
   },
   {
    "duration": 12,
    "start_time": "2025-02-17T11:26:13.688Z"
   },
   {
    "duration": 23,
    "start_time": "2025-02-17T11:26:15.357Z"
   },
   {
    "duration": 198,
    "start_time": "2025-02-17T11:26:18.330Z"
   },
   {
    "duration": 322,
    "start_time": "2025-02-17T11:26:22.598Z"
   },
   {
    "duration": 201,
    "start_time": "2025-02-17T11:26:24.994Z"
   },
   {
    "duration": 144,
    "start_time": "2025-02-17T11:26:26.967Z"
   },
   {
    "duration": 10,
    "start_time": "2025-02-17T11:26:27.912Z"
   },
   {
    "duration": 220,
    "start_time": "2025-02-17T11:26:28.387Z"
   },
   {
    "duration": 10,
    "start_time": "2025-02-17T11:26:30.171Z"
   },
   {
    "duration": 212,
    "start_time": "2025-02-17T11:26:30.780Z"
   },
   {
    "duration": 8,
    "start_time": "2025-02-17T11:26:33.177Z"
   },
   {
    "duration": 10,
    "start_time": "2025-02-17T11:26:34.388Z"
   },
   {
    "duration": 244,
    "start_time": "2025-02-17T11:26:40.535Z"
   },
   {
    "duration": 221,
    "start_time": "2025-02-17T11:26:42.449Z"
   },
   {
    "duration": 23,
    "start_time": "2025-02-17T11:26:43.751Z"
   },
   {
    "duration": 152,
    "start_time": "2025-02-17T11:26:45.090Z"
   },
   {
    "duration": 7,
    "start_time": "2025-02-17T11:26:47.138Z"
   },
   {
    "duration": 150,
    "start_time": "2025-02-17T11:26:48.198Z"
   },
   {
    "duration": 10384,
    "start_time": "2025-02-17T11:26:53.108Z"
   },
   {
    "duration": 356,
    "start_time": "2025-02-17T11:27:03.494Z"
   },
   {
    "duration": 265,
    "start_time": "2025-02-17T11:27:03.852Z"
   },
   {
    "duration": 23,
    "start_time": "2025-02-17T11:27:04.119Z"
   },
   {
    "duration": 72,
    "start_time": "2025-02-17T11:27:04.144Z"
   },
   {
    "duration": 0,
    "start_time": "2025-02-17T11:27:04.218Z"
   },
   {
    "duration": 221,
    "start_time": "2025-02-17T11:27:21.561Z"
   },
   {
    "duration": 25,
    "start_time": "2025-02-17T11:27:24.051Z"
   },
   {
    "duration": 186,
    "start_time": "2025-02-17T11:27:25.000Z"
   },
   {
    "duration": 9,
    "start_time": "2025-02-17T11:31:38.716Z"
   },
   {
    "duration": 219,
    "start_time": "2025-02-17T11:38:13.119Z"
   },
   {
    "duration": 120,
    "start_time": "2025-02-17T11:39:22.240Z"
   },
   {
    "duration": 120,
    "start_time": "2025-02-17T11:39:53.080Z"
   },
   {
    "duration": 120,
    "start_time": "2025-02-17T11:40:11.127Z"
   },
   {
    "duration": 121,
    "start_time": "2025-02-17T11:40:38.133Z"
   },
   {
    "duration": 118,
    "start_time": "2025-02-17T11:41:45.127Z"
   },
   {
    "duration": 22,
    "start_time": "2025-02-17T11:41:50.859Z"
   },
   {
    "duration": 229,
    "start_time": "2025-02-17T11:41:55.307Z"
   },
   {
    "duration": 227,
    "start_time": "2025-02-17T11:41:59.746Z"
   },
   {
    "duration": 1396,
    "start_time": "2025-02-17T11:45:08.557Z"
   },
   {
    "duration": 1625,
    "start_time": "2025-02-17T11:45:48.563Z"
   },
   {
    "duration": 1606,
    "start_time": "2025-02-17T11:46:36.691Z"
   },
   {
    "duration": 221,
    "start_time": "2025-02-17T11:47:23.538Z"
   },
   {
    "duration": 123,
    "start_time": "2025-02-17T11:48:36.147Z"
   },
   {
    "duration": 17,
    "start_time": "2025-02-17T11:48:44.700Z"
   },
   {
    "duration": 17,
    "start_time": "2025-02-17T11:48:50.623Z"
   },
   {
    "duration": 14,
    "start_time": "2025-02-17T11:48:57.710Z"
   },
   {
    "duration": 324,
    "start_time": "2025-02-17T11:49:02.619Z"
   },
   {
    "duration": 14,
    "start_time": "2025-02-17T11:49:06.676Z"
   },
   {
    "duration": 129,
    "start_time": "2025-02-17T11:49:28.461Z"
   },
   {
    "duration": 22,
    "start_time": "2025-02-17T11:49:33.567Z"
   },
   {
    "duration": 213,
    "start_time": "2025-02-17T11:49:39.028Z"
   },
   {
    "duration": 232,
    "start_time": "2025-02-17T11:49:43.732Z"
   },
   {
    "duration": 20,
    "start_time": "2025-02-17T11:49:53.018Z"
   },
   {
    "duration": 23,
    "start_time": "2025-02-17T12:09:21.244Z"
   },
   {
    "duration": 332,
    "start_time": "2025-02-17T12:09:43.549Z"
   },
   {
    "duration": 321,
    "start_time": "2025-02-17T12:10:58.398Z"
   },
   {
    "duration": 14,
    "start_time": "2025-02-17T12:11:23.618Z"
   },
   {
    "duration": 366,
    "start_time": "2025-02-17T12:11:41.688Z"
   },
   {
    "duration": 414,
    "start_time": "2025-02-17T12:12:01.348Z"
   },
   {
    "duration": 312,
    "start_time": "2025-02-17T12:16:32.283Z"
   },
   {
    "duration": 349,
    "start_time": "2025-02-17T12:27:40.784Z"
   },
   {
    "duration": 73,
    "start_time": "2025-02-17T12:38:23.951Z"
   },
   {
    "duration": 14,
    "start_time": "2025-02-17T12:38:34.423Z"
   },
   {
    "duration": 167,
    "start_time": "2025-02-17T12:40:00.043Z"
   },
   {
    "duration": 211,
    "start_time": "2025-02-17T12:41:41.749Z"
   },
   {
    "duration": 192,
    "start_time": "2025-02-17T12:41:55.703Z"
   },
   {
    "duration": 13,
    "start_time": "2025-02-17T12:42:30.623Z"
   },
   {
    "duration": 230,
    "start_time": "2025-02-17T12:43:01.835Z"
   },
   {
    "duration": 173,
    "start_time": "2025-02-17T12:44:17.921Z"
   },
   {
    "duration": 254,
    "start_time": "2025-02-17T12:44:28.559Z"
   },
   {
    "duration": 66,
    "start_time": "2025-02-17T12:45:03.839Z"
   },
   {
    "duration": 64,
    "start_time": "2025-02-17T12:45:12.270Z"
   },
   {
    "duration": 226,
    "start_time": "2025-02-17T12:45:18.922Z"
   },
   {
    "duration": 257,
    "start_time": "2025-02-17T12:46:06.040Z"
   },
   {
    "duration": 262,
    "start_time": "2025-02-17T12:46:22.211Z"
   },
   {
    "duration": 369,
    "start_time": "2025-02-17T12:46:37.550Z"
   },
   {
    "duration": 262,
    "start_time": "2025-02-17T12:47:22.111Z"
   },
   {
    "duration": 433,
    "start_time": "2025-02-17T12:47:45.330Z"
   },
   {
    "duration": 264,
    "start_time": "2025-02-17T12:47:53.411Z"
   },
   {
    "duration": 257,
    "start_time": "2025-02-17T12:48:12.882Z"
   },
   {
    "duration": 265,
    "start_time": "2025-02-17T12:48:39.109Z"
   },
   {
    "duration": 272,
    "start_time": "2025-02-17T12:48:58.499Z"
   },
   {
    "duration": 259,
    "start_time": "2025-02-17T12:49:16.526Z"
   },
   {
    "duration": 76,
    "start_time": "2025-02-17T12:51:57.527Z"
   },
   {
    "duration": 231,
    "start_time": "2025-02-17T12:53:38.012Z"
   },
   {
    "duration": 302,
    "start_time": "2025-02-17T12:54:24.031Z"
   },
   {
    "duration": 314,
    "start_time": "2025-02-17T12:54:33.770Z"
   },
   {
    "duration": 292,
    "start_time": "2025-02-17T12:54:47.900Z"
   },
   {
    "duration": 301,
    "start_time": "2025-02-17T12:54:52.480Z"
   },
   {
    "duration": 418,
    "start_time": "2025-02-17T12:54:57.681Z"
   },
   {
    "duration": 308,
    "start_time": "2025-02-17T12:55:07.995Z"
   },
   {
    "duration": 4,
    "start_time": "2025-02-17T13:02:52.153Z"
   },
   {
    "duration": 24,
    "start_time": "2025-02-17T13:08:27.863Z"
   },
   {
    "duration": 81,
    "start_time": "2025-02-17T13:13:26.141Z"
   },
   {
    "duration": 24,
    "start_time": "2025-02-17T13:14:03.308Z"
   },
   {
    "duration": 24,
    "start_time": "2025-02-17T13:14:30.972Z"
   },
   {
    "duration": 25,
    "start_time": "2025-02-17T13:15:59.321Z"
   },
   {
    "duration": 24,
    "start_time": "2025-02-17T13:16:15.327Z"
   },
   {
    "duration": 68,
    "start_time": "2025-02-17T13:16:32.559Z"
   },
   {
    "duration": 41,
    "start_time": "2025-02-17T13:16:41.611Z"
   },
   {
    "duration": 25,
    "start_time": "2025-02-17T13:17:04.798Z"
   },
   {
    "duration": 20,
    "start_time": "2025-02-17T13:23:15.458Z"
   },
   {
    "duration": 9959,
    "start_time": "2025-02-17T13:26:16.637Z"
   },
   {
    "duration": 860,
    "start_time": "2025-02-17T13:26:33.229Z"
   },
   {
    "duration": 10,
    "start_time": "2025-02-17T13:27:07.431Z"
   },
   {
    "duration": 1017,
    "start_time": "2025-02-17T13:28:58.361Z"
   },
   {
    "duration": 353,
    "start_time": "2025-02-17T13:39:19.741Z"
   },
   {
    "duration": 337,
    "start_time": "2025-02-17T13:40:44.033Z"
   },
   {
    "duration": 61,
    "start_time": "2025-02-17T13:48:50.093Z"
   },
   {
    "duration": 5,
    "start_time": "2025-02-17T13:53:13.483Z"
   },
   {
    "duration": 20,
    "start_time": "2025-02-17T13:54:13.310Z"
   },
   {
    "duration": 18,
    "start_time": "2025-02-17T13:55:10.088Z"
   },
   {
    "duration": 26,
    "start_time": "2025-02-17T13:57:16.779Z"
   },
   {
    "duration": 22,
    "start_time": "2025-02-17T13:57:37.657Z"
   },
   {
    "duration": 161,
    "start_time": "2025-02-17T14:02:09.749Z"
   },
   {
    "duration": 75,
    "start_time": "2025-02-17T14:02:51.416Z"
   },
   {
    "duration": 229,
    "start_time": "2025-02-17T14:03:04.649Z"
   },
   {
    "duration": 21,
    "start_time": "2025-02-17T14:03:33.004Z"
   },
   {
    "duration": 224,
    "start_time": "2025-02-17T14:03:44.684Z"
   },
   {
    "duration": 274,
    "start_time": "2025-02-17T14:05:29.056Z"
   },
   {
    "duration": 279,
    "start_time": "2025-02-17T14:06:46.378Z"
   },
   {
    "duration": 18,
    "start_time": "2025-02-17T14:11:31.106Z"
   },
   {
    "duration": 298,
    "start_time": "2025-02-17T14:12:11.365Z"
   },
   {
    "duration": 17,
    "start_time": "2025-02-17T14:12:31.415Z"
   },
   {
    "duration": 384,
    "start_time": "2025-02-17T14:12:46.322Z"
   },
   {
    "duration": 261,
    "start_time": "2025-02-17T14:13:09.515Z"
   },
   {
    "duration": 236,
    "start_time": "2025-02-17T14:13:42.666Z"
   },
   {
    "duration": 19,
    "start_time": "2025-02-17T14:18:41.050Z"
   },
   {
    "duration": 133,
    "start_time": "2025-02-17T14:19:17.290Z"
   },
   {
    "duration": 127,
    "start_time": "2025-02-17T14:19:54.724Z"
   },
   {
    "duration": 137,
    "start_time": "2025-02-17T14:21:59.415Z"
   },
   {
    "duration": 145,
    "start_time": "2025-02-17T14:42:03.012Z"
   },
   {
    "duration": 2635,
    "start_time": "2025-02-17T15:43:17.952Z"
   },
   {
    "duration": 236,
    "start_time": "2025-02-17T15:43:20.590Z"
   },
   {
    "duration": 14,
    "start_time": "2025-02-17T15:43:21.550Z"
   },
   {
    "duration": 16,
    "start_time": "2025-02-17T15:43:22.230Z"
   },
   {
    "duration": 9,
    "start_time": "2025-02-17T15:43:23.285Z"
   },
   {
    "duration": 11,
    "start_time": "2025-02-17T15:43:23.795Z"
   },
   {
    "duration": 13,
    "start_time": "2025-02-17T15:43:25.214Z"
   },
   {
    "duration": 15,
    "start_time": "2025-02-17T15:43:25.995Z"
   },
   {
    "duration": 7,
    "start_time": "2025-02-17T15:43:27.403Z"
   },
   {
    "duration": 5,
    "start_time": "2025-02-17T15:43:27.798Z"
   },
   {
    "duration": 12,
    "start_time": "2025-02-17T15:43:28.813Z"
   },
   {
    "duration": 11,
    "start_time": "2025-02-17T15:43:29.015Z"
   },
   {
    "duration": 22,
    "start_time": "2025-02-17T15:43:29.675Z"
   },
   {
    "duration": 8,
    "start_time": "2025-02-17T15:43:29.884Z"
   },
   {
    "duration": 13,
    "start_time": "2025-02-17T15:43:30.310Z"
   },
   {
    "duration": 24,
    "start_time": "2025-02-17T15:43:31.190Z"
   },
   {
    "duration": 184,
    "start_time": "2025-02-17T15:43:33.491Z"
   },
   {
    "duration": 214,
    "start_time": "2025-02-17T15:43:34.895Z"
   },
   {
    "duration": 182,
    "start_time": "2025-02-17T15:43:35.843Z"
   },
   {
    "duration": 145,
    "start_time": "2025-02-17T15:43:37.331Z"
   },
   {
    "duration": 15,
    "start_time": "2025-02-17T15:43:38.390Z"
   },
   {
    "duration": 232,
    "start_time": "2025-02-17T15:43:38.883Z"
   },
   {
    "duration": 9,
    "start_time": "2025-02-17T15:43:40.215Z"
   },
   {
    "duration": 323,
    "start_time": "2025-02-17T15:43:40.813Z"
   },
   {
    "duration": 9,
    "start_time": "2025-02-17T15:43:42.238Z"
   },
   {
    "duration": 11,
    "start_time": "2025-02-17T15:43:43.275Z"
   },
   {
    "duration": 235,
    "start_time": "2025-02-17T15:43:44.229Z"
   },
   {
    "duration": 221,
    "start_time": "2025-02-17T15:43:45.430Z"
   },
   {
    "duration": 27,
    "start_time": "2025-02-17T15:43:46.550Z"
   },
   {
    "duration": 154,
    "start_time": "2025-02-17T15:43:47.492Z"
   },
   {
    "duration": 8,
    "start_time": "2025-02-17T15:43:48.962Z"
   },
   {
    "duration": 160,
    "start_time": "2025-02-17T15:43:49.405Z"
   },
   {
    "duration": 9723,
    "start_time": "2025-02-17T15:43:50.771Z"
   },
   {
    "duration": 351,
    "start_time": "2025-02-17T15:44:00.497Z"
   },
   {
    "duration": 154,
    "start_time": "2025-02-17T15:44:00.850Z"
   },
   {
    "duration": 25,
    "start_time": "2025-02-17T15:44:01.006Z"
   },
   {
    "duration": 241,
    "start_time": "2025-02-17T15:44:01.033Z"
   },
   {
    "duration": 236,
    "start_time": "2025-02-17T15:44:01.276Z"
   },
   {
    "duration": 22,
    "start_time": "2025-02-17T15:44:01.513Z"
   },
   {
    "duration": 204,
    "start_time": "2025-02-17T15:44:01.537Z"
   },
   {
    "duration": 13,
    "start_time": "2025-02-17T15:44:01.743Z"
   },
   {
    "duration": 435,
    "start_time": "2025-02-17T15:44:01.769Z"
   },
   {
    "duration": 310,
    "start_time": "2025-02-17T15:44:02.206Z"
   },
   {
    "duration": 317,
    "start_time": "2025-02-17T15:44:02.517Z"
   },
   {
    "duration": 38,
    "start_time": "2025-02-17T15:44:02.836Z"
   },
   {
    "duration": 20,
    "start_time": "2025-02-17T15:44:03.523Z"
   },
   {
    "duration": 20,
    "start_time": "2025-02-17T15:44:14.651Z"
   },
   {
    "duration": 21,
    "start_time": "2025-02-17T15:44:26.846Z"
   },
   {
    "duration": 4,
    "start_time": "2025-02-17T15:45:23.371Z"
   },
   {
    "duration": 19,
    "start_time": "2025-02-17T15:45:42.205Z"
   },
   {
    "duration": 12,
    "start_time": "2025-02-17T15:46:43.517Z"
   },
   {
    "duration": 20,
    "start_time": "2025-02-17T15:46:44.821Z"
   },
   {
    "duration": 7,
    "start_time": "2025-02-17T15:46:45.378Z"
   },
   {
    "duration": 12,
    "start_time": "2025-02-17T15:46:46.615Z"
   },
   {
    "duration": 22,
    "start_time": "2025-02-17T15:46:48.381Z"
   },
   {
    "duration": 183,
    "start_time": "2025-02-17T15:46:50.965Z"
   },
   {
    "duration": 219,
    "start_time": "2025-02-17T15:46:53.405Z"
   },
   {
    "duration": 180,
    "start_time": "2025-02-17T15:46:55.815Z"
   },
   {
    "duration": 12,
    "start_time": "2025-02-17T15:47:04.167Z"
   },
   {
    "duration": 229,
    "start_time": "2025-02-17T15:47:05.525Z"
   },
   {
    "duration": 9,
    "start_time": "2025-02-17T15:47:09.105Z"
   },
   {
    "duration": 204,
    "start_time": "2025-02-17T15:47:09.852Z"
   },
   {
    "duration": 9,
    "start_time": "2025-02-17T15:47:14.941Z"
   },
   {
    "duration": 10,
    "start_time": "2025-02-17T15:47:16.237Z"
   },
   {
    "duration": 240,
    "start_time": "2025-02-17T15:47:17.573Z"
   },
   {
    "duration": 317,
    "start_time": "2025-02-17T15:47:18.981Z"
   },
   {
    "duration": 24,
    "start_time": "2025-02-17T15:47:21.013Z"
   },
   {
    "duration": 157,
    "start_time": "2025-02-17T15:47:23.875Z"
   },
   {
    "duration": 7,
    "start_time": "2025-02-17T15:47:26.701Z"
   },
   {
    "duration": 148,
    "start_time": "2025-02-17T15:47:27.708Z"
   },
   {
    "duration": 771,
    "start_time": "2025-02-17T15:47:37.741Z"
   },
   {
    "duration": 230,
    "start_time": "2025-02-17T15:47:42.276Z"
   },
   {
    "duration": 129,
    "start_time": "2025-02-17T15:47:46.436Z"
   },
   {
    "duration": 21,
    "start_time": "2025-02-17T15:47:49.341Z"
   },
   {
    "duration": 219,
    "start_time": "2025-02-17T15:47:53.899Z"
   },
   {
    "duration": 214,
    "start_time": "2025-02-17T15:47:57.500Z"
   },
   {
    "duration": 20,
    "start_time": "2025-02-17T15:48:02.795Z"
   },
   {
    "duration": 181,
    "start_time": "2025-02-17T15:48:05.762Z"
   },
   {
    "duration": 14,
    "start_time": "2025-02-17T15:48:09.314Z"
   },
   {
    "duration": 299,
    "start_time": "2025-02-17T15:48:10.873Z"
   },
   {
    "duration": 294,
    "start_time": "2025-02-17T15:48:12.678Z"
   },
   {
    "duration": 405,
    "start_time": "2025-02-17T15:48:14.474Z"
   },
   {
    "duration": 26,
    "start_time": "2025-02-17T15:48:17.766Z"
   },
   {
    "duration": 4,
    "start_time": "2025-02-17T15:48:19.562Z"
   },
   {
    "duration": 20,
    "start_time": "2025-02-17T15:48:23.610Z"
   },
   {
    "duration": 228,
    "start_time": "2025-02-17T15:48:45.325Z"
   },
   {
    "duration": 225,
    "start_time": "2025-02-17T15:48:51.951Z"
   },
   {
    "duration": 5,
    "start_time": "2025-02-17T15:48:58.696Z"
   },
   {
    "duration": 276,
    "start_time": "2025-02-17T15:48:59.645Z"
   },
   {
    "duration": 84,
    "start_time": "2025-02-17T15:49:01.752Z"
   },
   {
    "duration": 230,
    "start_time": "2025-02-17T15:49:02.633Z"
   },
   {
    "duration": 132,
    "start_time": "2025-02-17T15:49:05.201Z"
   },
   {
    "duration": 226,
    "start_time": "2025-02-17T15:51:05.037Z"
   },
   {
    "duration": 7918,
    "start_time": "2025-02-17T16:55:07.678Z"
   },
   {
    "duration": 178,
    "start_time": "2025-02-17T16:55:15.599Z"
   },
   {
    "duration": 17,
    "start_time": "2025-02-17T16:55:15.779Z"
   },
   {
    "duration": 15,
    "start_time": "2025-02-17T16:55:15.798Z"
   },
   {
    "duration": 9,
    "start_time": "2025-02-17T16:55:15.816Z"
   },
   {
    "duration": 14,
    "start_time": "2025-02-17T16:55:15.826Z"
   },
   {
    "duration": 33,
    "start_time": "2025-02-17T16:55:15.842Z"
   },
   {
    "duration": 16,
    "start_time": "2025-02-17T16:55:15.876Z"
   },
   {
    "duration": 9,
    "start_time": "2025-02-17T16:55:15.893Z"
   },
   {
    "duration": 10,
    "start_time": "2025-02-17T16:55:15.904Z"
   },
   {
    "duration": 10,
    "start_time": "2025-02-17T16:55:15.915Z"
   },
   {
    "duration": 10,
    "start_time": "2025-02-17T16:55:15.927Z"
   },
   {
    "duration": 50,
    "start_time": "2025-02-17T16:55:15.939Z"
   },
   {
    "duration": 29,
    "start_time": "2025-02-17T16:55:15.993Z"
   },
   {
    "duration": 11,
    "start_time": "2025-02-17T16:55:16.024Z"
   },
   {
    "duration": 22,
    "start_time": "2025-02-17T16:55:16.037Z"
   },
   {
    "duration": 203,
    "start_time": "2025-02-17T16:55:16.061Z"
   },
   {
    "duration": 226,
    "start_time": "2025-02-17T16:55:16.270Z"
   },
   {
    "duration": 187,
    "start_time": "2025-02-17T16:55:16.497Z"
   },
   {
    "duration": 156,
    "start_time": "2025-02-17T16:55:16.685Z"
   },
   {
    "duration": 11,
    "start_time": "2025-02-17T16:55:16.842Z"
   },
   {
    "duration": 237,
    "start_time": "2025-02-17T16:55:16.854Z"
   },
   {
    "duration": 9,
    "start_time": "2025-02-17T16:55:17.093Z"
   },
   {
    "duration": 220,
    "start_time": "2025-02-17T16:55:17.104Z"
   },
   {
    "duration": 8,
    "start_time": "2025-02-17T16:55:17.326Z"
   },
   {
    "duration": 10,
    "start_time": "2025-02-17T16:55:17.335Z"
   },
   {
    "duration": 259,
    "start_time": "2025-02-17T16:55:17.346Z"
   },
   {
    "duration": 308,
    "start_time": "2025-02-17T16:55:17.607Z"
   },
   {
    "duration": 24,
    "start_time": "2025-02-17T16:55:17.917Z"
   },
   {
    "duration": 167,
    "start_time": "2025-02-17T16:55:17.942Z"
   },
   {
    "duration": 7,
    "start_time": "2025-02-17T16:55:18.111Z"
   },
   {
    "duration": 162,
    "start_time": "2025-02-17T16:55:18.119Z"
   },
   {
    "duration": 126,
    "start_time": "2025-02-17T16:55:18.283Z"
   },
   {
    "duration": 0,
    "start_time": "2025-02-17T16:55:18.411Z"
   },
   {
    "duration": 0,
    "start_time": "2025-02-17T16:55:18.412Z"
   },
   {
    "duration": 0,
    "start_time": "2025-02-17T16:55:18.414Z"
   },
   {
    "duration": 0,
    "start_time": "2025-02-17T16:55:18.415Z"
   },
   {
    "duration": 0,
    "start_time": "2025-02-17T16:55:18.416Z"
   },
   {
    "duration": 0,
    "start_time": "2025-02-17T16:55:18.417Z"
   },
   {
    "duration": 0,
    "start_time": "2025-02-17T16:55:18.418Z"
   },
   {
    "duration": 0,
    "start_time": "2025-02-17T16:55:18.419Z"
   },
   {
    "duration": 0,
    "start_time": "2025-02-17T16:55:18.421Z"
   },
   {
    "duration": 0,
    "start_time": "2025-02-17T16:55:18.422Z"
   },
   {
    "duration": 0,
    "start_time": "2025-02-17T16:55:18.423Z"
   },
   {
    "duration": 0,
    "start_time": "2025-02-17T16:55:18.424Z"
   },
   {
    "duration": 0,
    "start_time": "2025-02-17T16:55:18.426Z"
   },
   {
    "duration": 0,
    "start_time": "2025-02-17T16:55:18.427Z"
   },
   {
    "duration": 0,
    "start_time": "2025-02-17T16:55:18.428Z"
   },
   {
    "duration": 0,
    "start_time": "2025-02-17T16:55:18.469Z"
   },
   {
    "duration": 0,
    "start_time": "2025-02-17T16:55:18.471Z"
   },
   {
    "duration": 0,
    "start_time": "2025-02-17T16:55:18.472Z"
   },
   {
    "duration": 0,
    "start_time": "2025-02-17T16:55:18.473Z"
   },
   {
    "duration": 184,
    "start_time": "2025-02-18T07:00:48.367Z"
   },
   {
    "duration": 5590,
    "start_time": "2025-02-18T07:01:56.281Z"
   },
   {
    "duration": 403,
    "start_time": "2025-02-18T07:02:01.874Z"
   },
   {
    "duration": 17,
    "start_time": "2025-02-18T07:02:02.278Z"
   },
   {
    "duration": 15,
    "start_time": "2025-02-18T07:02:02.296Z"
   },
   {
    "duration": 58,
    "start_time": "2025-02-18T07:02:02.313Z"
   },
   {
    "duration": 10,
    "start_time": "2025-02-18T07:02:02.372Z"
   },
   {
    "duration": 13,
    "start_time": "2025-02-18T07:02:02.384Z"
   },
   {
    "duration": 16,
    "start_time": "2025-02-18T07:02:02.398Z"
   },
   {
    "duration": 8,
    "start_time": "2025-02-18T07:02:02.416Z"
   },
   {
    "duration": 33,
    "start_time": "2025-02-18T07:02:02.425Z"
   },
   {
    "duration": 11,
    "start_time": "2025-02-18T07:02:02.460Z"
   },
   {
    "duration": 20,
    "start_time": "2025-02-18T07:02:02.472Z"
   },
   {
    "duration": 159,
    "start_time": "2025-02-18T07:02:02.494Z"
   },
   {
    "duration": 7,
    "start_time": "2025-02-18T07:02:02.656Z"
   },
   {
    "duration": 11,
    "start_time": "2025-02-18T07:02:02.664Z"
   },
   {
    "duration": 44,
    "start_time": "2025-02-18T07:02:02.676Z"
   },
   {
    "duration": 185,
    "start_time": "2025-02-18T07:02:02.722Z"
   },
   {
    "duration": 213,
    "start_time": "2025-02-18T07:02:02.909Z"
   },
   {
    "duration": 178,
    "start_time": "2025-02-18T07:02:03.123Z"
   },
   {
    "duration": 144,
    "start_time": "2025-02-18T07:02:03.302Z"
   },
   {
    "duration": 16,
    "start_time": "2025-02-18T07:02:03.448Z"
   },
   {
    "duration": 212,
    "start_time": "2025-02-18T07:02:03.466Z"
   },
   {
    "duration": 10,
    "start_time": "2025-02-18T07:02:03.680Z"
   },
   {
    "duration": 216,
    "start_time": "2025-02-18T07:02:03.691Z"
   },
   {
    "duration": 8,
    "start_time": "2025-02-18T07:02:03.908Z"
   },
   {
    "duration": 9,
    "start_time": "2025-02-18T07:02:03.918Z"
   },
   {
    "duration": 239,
    "start_time": "2025-02-18T07:02:03.928Z"
   },
   {
    "duration": 305,
    "start_time": "2025-02-18T07:02:04.169Z"
   },
   {
    "duration": 21,
    "start_time": "2025-02-18T07:02:04.476Z"
   },
   {
    "duration": 172,
    "start_time": "2025-02-18T07:02:04.498Z"
   },
   {
    "duration": 7,
    "start_time": "2025-02-18T07:02:04.671Z"
   },
   {
    "duration": 170,
    "start_time": "2025-02-18T07:02:04.680Z"
   },
   {
    "duration": 107,
    "start_time": "2025-02-18T07:02:04.851Z"
   },
   {
    "duration": 0,
    "start_time": "2025-02-18T07:02:04.960Z"
   },
   {
    "duration": 0,
    "start_time": "2025-02-18T07:02:04.961Z"
   },
   {
    "duration": 0,
    "start_time": "2025-02-18T07:02:04.963Z"
   },
   {
    "duration": 0,
    "start_time": "2025-02-18T07:02:04.964Z"
   },
   {
    "duration": 0,
    "start_time": "2025-02-18T07:02:04.965Z"
   },
   {
    "duration": 0,
    "start_time": "2025-02-18T07:02:04.966Z"
   },
   {
    "duration": 0,
    "start_time": "2025-02-18T07:02:04.966Z"
   },
   {
    "duration": 0,
    "start_time": "2025-02-18T07:02:04.967Z"
   },
   {
    "duration": 0,
    "start_time": "2025-02-18T07:02:04.968Z"
   },
   {
    "duration": 0,
    "start_time": "2025-02-18T07:02:04.969Z"
   },
   {
    "duration": 0,
    "start_time": "2025-02-18T07:02:04.970Z"
   },
   {
    "duration": 0,
    "start_time": "2025-02-18T07:02:04.971Z"
   },
   {
    "duration": 0,
    "start_time": "2025-02-18T07:02:04.973Z"
   },
   {
    "duration": 0,
    "start_time": "2025-02-18T07:02:04.974Z"
   },
   {
    "duration": 0,
    "start_time": "2025-02-18T07:02:04.975Z"
   },
   {
    "duration": 0,
    "start_time": "2025-02-18T07:02:04.977Z"
   },
   {
    "duration": 0,
    "start_time": "2025-02-18T07:02:04.979Z"
   },
   {
    "duration": 0,
    "start_time": "2025-02-18T07:02:04.980Z"
   },
   {
    "duration": 0,
    "start_time": "2025-02-18T07:02:04.981Z"
   },
   {
    "duration": 3663,
    "start_time": "2025-02-18T07:04:07.631Z"
   },
   {
    "duration": 247,
    "start_time": "2025-02-18T07:04:11.296Z"
   },
   {
    "duration": 29,
    "start_time": "2025-02-18T07:04:11.545Z"
   },
   {
    "duration": 18,
    "start_time": "2025-02-18T07:04:11.577Z"
   },
   {
    "duration": 71,
    "start_time": "2025-02-18T07:04:11.597Z"
   },
   {
    "duration": 20,
    "start_time": "2025-02-18T07:04:11.670Z"
   },
   {
    "duration": 23,
    "start_time": "2025-02-18T07:04:11.691Z"
   },
   {
    "duration": 14,
    "start_time": "2025-02-18T07:04:11.716Z"
   },
   {
    "duration": 6,
    "start_time": "2025-02-18T07:04:11.732Z"
   },
   {
    "duration": 10,
    "start_time": "2025-02-18T07:04:11.740Z"
   },
   {
    "duration": 15,
    "start_time": "2025-02-18T07:04:11.752Z"
   },
   {
    "duration": 10,
    "start_time": "2025-02-18T07:04:11.768Z"
   },
   {
    "duration": 23,
    "start_time": "2025-02-18T07:04:11.779Z"
   },
   {
    "duration": 10,
    "start_time": "2025-02-18T07:04:11.803Z"
   },
   {
    "duration": 10,
    "start_time": "2025-02-18T07:04:11.814Z"
   },
   {
    "duration": 49,
    "start_time": "2025-02-18T07:04:11.826Z"
   },
   {
    "duration": 193,
    "start_time": "2025-02-18T07:04:11.876Z"
   },
   {
    "duration": 205,
    "start_time": "2025-02-18T07:04:12.070Z"
   },
   {
    "duration": 176,
    "start_time": "2025-02-18T07:04:12.277Z"
   },
   {
    "duration": 140,
    "start_time": "2025-02-18T07:04:12.454Z"
   },
   {
    "duration": 10,
    "start_time": "2025-02-18T07:04:12.596Z"
   },
   {
    "duration": 237,
    "start_time": "2025-02-18T07:04:12.608Z"
   },
   {
    "duration": 13,
    "start_time": "2025-02-18T07:04:12.847Z"
   },
   {
    "duration": 198,
    "start_time": "2025-02-18T07:04:12.862Z"
   },
   {
    "duration": 8,
    "start_time": "2025-02-18T07:04:13.062Z"
   },
   {
    "duration": 10,
    "start_time": "2025-02-18T07:04:13.072Z"
   },
   {
    "duration": 238,
    "start_time": "2025-02-18T07:04:13.084Z"
   },
   {
    "duration": 294,
    "start_time": "2025-02-18T07:04:13.326Z"
   },
   {
    "duration": 22,
    "start_time": "2025-02-18T07:04:13.622Z"
   },
   {
    "duration": 160,
    "start_time": "2025-02-18T07:04:13.645Z"
   },
   {
    "duration": 7,
    "start_time": "2025-02-18T07:04:13.806Z"
   },
   {
    "duration": 154,
    "start_time": "2025-02-18T07:04:13.815Z"
   },
   {
    "duration": 111,
    "start_time": "2025-02-18T07:04:13.971Z"
   },
   {
    "duration": 0,
    "start_time": "2025-02-18T07:04:14.083Z"
   },
   {
    "duration": 0,
    "start_time": "2025-02-18T07:04:14.085Z"
   },
   {
    "duration": 0,
    "start_time": "2025-02-18T07:04:14.085Z"
   },
   {
    "duration": 0,
    "start_time": "2025-02-18T07:04:14.086Z"
   },
   {
    "duration": 0,
    "start_time": "2025-02-18T07:04:14.087Z"
   },
   {
    "duration": 0,
    "start_time": "2025-02-18T07:04:14.088Z"
   },
   {
    "duration": 0,
    "start_time": "2025-02-18T07:04:14.089Z"
   },
   {
    "duration": 0,
    "start_time": "2025-02-18T07:04:14.090Z"
   },
   {
    "duration": 0,
    "start_time": "2025-02-18T07:04:14.091Z"
   },
   {
    "duration": 0,
    "start_time": "2025-02-18T07:04:14.092Z"
   },
   {
    "duration": 0,
    "start_time": "2025-02-18T07:04:14.093Z"
   },
   {
    "duration": 0,
    "start_time": "2025-02-18T07:04:14.094Z"
   },
   {
    "duration": 0,
    "start_time": "2025-02-18T07:04:14.095Z"
   },
   {
    "duration": 0,
    "start_time": "2025-02-18T07:04:14.096Z"
   },
   {
    "duration": 0,
    "start_time": "2025-02-18T07:04:14.097Z"
   },
   {
    "duration": 0,
    "start_time": "2025-02-18T07:04:14.098Z"
   },
   {
    "duration": 0,
    "start_time": "2025-02-18T07:04:14.099Z"
   },
   {
    "duration": 0,
    "start_time": "2025-02-18T07:04:14.101Z"
   },
   {
    "duration": 0,
    "start_time": "2025-02-18T07:04:14.102Z"
   },
   {
    "duration": 3014,
    "start_time": "2025-02-18T07:13:53.216Z"
   },
   {
    "duration": 4119,
    "start_time": "2025-02-18T07:14:05.669Z"
   },
   {
    "duration": 253,
    "start_time": "2025-02-18T07:14:09.790Z"
   },
   {
    "duration": 17,
    "start_time": "2025-02-18T07:14:10.044Z"
   },
   {
    "duration": 14,
    "start_time": "2025-02-18T07:14:10.063Z"
   },
   {
    "duration": 15,
    "start_time": "2025-02-18T07:14:10.079Z"
   },
   {
    "duration": 11,
    "start_time": "2025-02-18T07:14:10.096Z"
   },
   {
    "duration": 12,
    "start_time": "2025-02-18T07:14:10.108Z"
   },
   {
    "duration": 37,
    "start_time": "2025-02-18T07:14:10.122Z"
   },
   {
    "duration": 25,
    "start_time": "2025-02-18T07:14:10.161Z"
   },
   {
    "duration": 5,
    "start_time": "2025-02-18T07:14:10.189Z"
   },
   {
    "duration": 10,
    "start_time": "2025-02-18T07:14:10.195Z"
   },
   {
    "duration": 41,
    "start_time": "2025-02-18T07:14:10.206Z"
   },
   {
    "duration": 39,
    "start_time": "2025-02-18T07:14:10.249Z"
   },
   {
    "duration": 8,
    "start_time": "2025-02-18T07:14:10.290Z"
   },
   {
    "duration": 12,
    "start_time": "2025-02-18T07:14:10.300Z"
   },
   {
    "duration": 21,
    "start_time": "2025-02-18T07:14:10.314Z"
   },
   {
    "duration": 296,
    "start_time": "2025-02-18T07:14:10.337Z"
   },
   {
    "duration": 209,
    "start_time": "2025-02-18T07:14:10.635Z"
   },
   {
    "duration": 181,
    "start_time": "2025-02-18T07:14:10.846Z"
   },
   {
    "duration": 150,
    "start_time": "2025-02-18T07:14:11.029Z"
   },
   {
    "duration": 11,
    "start_time": "2025-02-18T07:14:11.181Z"
   },
   {
    "duration": 222,
    "start_time": "2025-02-18T07:14:11.194Z"
   },
   {
    "duration": 9,
    "start_time": "2025-02-18T07:14:11.418Z"
   },
   {
    "duration": 291,
    "start_time": "2025-02-18T07:14:11.429Z"
   },
   {
    "duration": 7,
    "start_time": "2025-02-18T07:14:11.721Z"
   },
   {
    "duration": 10,
    "start_time": "2025-02-18T07:14:11.730Z"
   },
   {
    "duration": 222,
    "start_time": "2025-02-18T07:14:11.758Z"
   },
   {
    "duration": 211,
    "start_time": "2025-02-18T07:14:11.983Z"
   },
   {
    "duration": 22,
    "start_time": "2025-02-18T07:14:12.195Z"
   },
   {
    "duration": 211,
    "start_time": "2025-02-18T07:14:12.218Z"
   },
   {
    "duration": 7,
    "start_time": "2025-02-18T07:14:12.431Z"
   },
   {
    "duration": 157,
    "start_time": "2025-02-18T07:14:12.439Z"
   },
   {
    "duration": 9877,
    "start_time": "2025-02-18T07:14:12.597Z"
   },
   {
    "duration": 253,
    "start_time": "2025-02-18T07:14:22.476Z"
   },
   {
    "duration": 143,
    "start_time": "2025-02-18T07:14:22.731Z"
   },
   {
    "duration": 22,
    "start_time": "2025-02-18T07:14:22.875Z"
   },
   {
    "duration": 214,
    "start_time": "2025-02-18T07:14:22.898Z"
   },
   {
    "duration": 211,
    "start_time": "2025-02-18T07:14:23.115Z"
   },
   {
    "duration": 31,
    "start_time": "2025-02-18T07:14:23.328Z"
   },
   {
    "duration": 174,
    "start_time": "2025-02-18T07:14:23.361Z"
   },
   {
    "duration": 22,
    "start_time": "2025-02-18T07:14:23.536Z"
   },
   {
    "duration": 291,
    "start_time": "2025-02-18T07:14:23.559Z"
   },
   {
    "duration": 281,
    "start_time": "2025-02-18T07:14:23.851Z"
   },
   {
    "duration": 343,
    "start_time": "2025-02-18T07:14:24.134Z"
   },
   {
    "duration": 24,
    "start_time": "2025-02-18T07:14:24.479Z"
   },
   {
    "duration": 4,
    "start_time": "2025-02-18T07:14:24.505Z"
   },
   {
    "duration": 229,
    "start_time": "2025-02-18T07:14:24.511Z"
   },
   {
    "duration": 4,
    "start_time": "2025-02-18T07:14:24.741Z"
   },
   {
    "duration": 257,
    "start_time": "2025-02-18T07:14:24.758Z"
   },
   {
    "duration": 142,
    "start_time": "2025-02-18T07:14:25.017Z"
   },
   {
    "duration": 0,
    "start_time": "2025-02-18T07:14:25.161Z"
   },
   {
    "duration": 0,
    "start_time": "2025-02-18T07:14:25.162Z"
   },
   {
    "duration": 4106,
    "start_time": "2025-02-18T07:15:45.803Z"
   },
   {
    "duration": 233,
    "start_time": "2025-02-18T07:15:49.912Z"
   },
   {
    "duration": 18,
    "start_time": "2025-02-18T07:15:50.146Z"
   },
   {
    "duration": 16,
    "start_time": "2025-02-18T07:15:50.166Z"
   },
   {
    "duration": 10,
    "start_time": "2025-02-18T07:15:50.185Z"
   },
   {
    "duration": 11,
    "start_time": "2025-02-18T07:15:50.197Z"
   },
   {
    "duration": 85,
    "start_time": "2025-02-18T07:15:50.211Z"
   },
   {
    "duration": 15,
    "start_time": "2025-02-18T07:15:50.298Z"
   },
   {
    "duration": 12,
    "start_time": "2025-02-18T07:15:50.315Z"
   },
   {
    "duration": 6,
    "start_time": "2025-02-18T07:15:50.328Z"
   },
   {
    "duration": 9,
    "start_time": "2025-02-18T07:15:50.335Z"
   },
   {
    "duration": 10,
    "start_time": "2025-02-18T07:15:50.346Z"
   },
   {
    "duration": 23,
    "start_time": "2025-02-18T07:15:50.358Z"
   },
   {
    "duration": 8,
    "start_time": "2025-02-18T07:15:50.384Z"
   },
   {
    "duration": 11,
    "start_time": "2025-02-18T07:15:50.393Z"
   },
   {
    "duration": 22,
    "start_time": "2025-02-18T07:15:50.405Z"
   },
   {
    "duration": 283,
    "start_time": "2025-02-18T07:15:50.458Z"
   },
   {
    "duration": 217,
    "start_time": "2025-02-18T07:15:50.743Z"
   },
   {
    "duration": 181,
    "start_time": "2025-02-18T07:15:50.961Z"
   },
   {
    "duration": 177,
    "start_time": "2025-02-18T07:15:51.144Z"
   },
   {
    "duration": 10,
    "start_time": "2025-02-18T07:15:51.323Z"
   },
   {
    "duration": 251,
    "start_time": "2025-02-18T07:15:51.335Z"
   },
   {
    "duration": 14,
    "start_time": "2025-02-18T07:15:51.589Z"
   },
   {
    "duration": 213,
    "start_time": "2025-02-18T07:15:51.605Z"
   },
   {
    "duration": 9,
    "start_time": "2025-02-18T07:15:51.819Z"
   },
   {
    "duration": 15,
    "start_time": "2025-02-18T07:15:51.829Z"
   },
   {
    "duration": 239,
    "start_time": "2025-02-18T07:15:51.846Z"
   },
   {
    "duration": 234,
    "start_time": "2025-02-18T07:15:52.087Z"
   },
   {
    "duration": 36,
    "start_time": "2025-02-18T07:15:52.323Z"
   },
   {
    "duration": 152,
    "start_time": "2025-02-18T07:15:52.361Z"
   },
   {
    "duration": 7,
    "start_time": "2025-02-18T07:15:52.515Z"
   },
   {
    "duration": 155,
    "start_time": "2025-02-18T07:15:52.524Z"
   },
   {
    "duration": 10293,
    "start_time": "2025-02-18T07:15:52.681Z"
   },
   {
    "duration": 389,
    "start_time": "2025-02-18T07:16:02.977Z"
   },
   {
    "duration": 157,
    "start_time": "2025-02-18T07:16:03.369Z"
   },
   {
    "duration": 38,
    "start_time": "2025-02-18T07:16:03.527Z"
   },
   {
    "duration": 225,
    "start_time": "2025-02-18T07:16:03.567Z"
   },
   {
    "duration": 266,
    "start_time": "2025-02-18T07:16:03.794Z"
   },
   {
    "duration": 23,
    "start_time": "2025-02-18T07:16:04.062Z"
   },
   {
    "duration": 186,
    "start_time": "2025-02-18T07:16:04.087Z"
   },
   {
    "duration": 14,
    "start_time": "2025-02-18T07:16:04.278Z"
   },
   {
    "duration": 312,
    "start_time": "2025-02-18T07:16:04.294Z"
   },
   {
    "duration": 291,
    "start_time": "2025-02-18T07:16:04.607Z"
   },
   {
    "duration": 324,
    "start_time": "2025-02-18T07:16:04.900Z"
   },
   {
    "duration": 40,
    "start_time": "2025-02-18T07:16:05.226Z"
   },
   {
    "duration": 5,
    "start_time": "2025-02-18T07:16:05.268Z"
   },
   {
    "duration": 229,
    "start_time": "2025-02-18T07:16:05.274Z"
   },
   {
    "duration": 4,
    "start_time": "2025-02-18T07:16:05.505Z"
   },
   {
    "duration": 430,
    "start_time": "2025-02-18T07:16:05.511Z"
   },
   {
    "duration": 134,
    "start_time": "2025-02-18T07:16:05.943Z"
   },
   {
    "duration": 0,
    "start_time": "2025-02-18T07:16:06.079Z"
   },
   {
    "duration": 0,
    "start_time": "2025-02-18T07:16:06.081Z"
   },
   {
    "duration": 4235,
    "start_time": "2025-02-18T07:18:02.457Z"
   },
   {
    "duration": 244,
    "start_time": "2025-02-18T07:18:06.694Z"
   },
   {
    "duration": 17,
    "start_time": "2025-02-18T07:18:06.939Z"
   },
   {
    "duration": 30,
    "start_time": "2025-02-18T07:18:06.958Z"
   },
   {
    "duration": 9,
    "start_time": "2025-02-18T07:18:06.990Z"
   },
   {
    "duration": 10,
    "start_time": "2025-02-18T07:18:07.001Z"
   },
   {
    "duration": 11,
    "start_time": "2025-02-18T07:18:07.013Z"
   },
   {
    "duration": 23,
    "start_time": "2025-02-18T07:18:07.025Z"
   },
   {
    "duration": 17,
    "start_time": "2025-02-18T07:18:07.050Z"
   },
   {
    "duration": 12,
    "start_time": "2025-02-18T07:18:07.069Z"
   },
   {
    "duration": 23,
    "start_time": "2025-02-18T07:18:07.082Z"
   },
   {
    "duration": 12,
    "start_time": "2025-02-18T07:18:07.107Z"
   },
   {
    "duration": 27,
    "start_time": "2025-02-18T07:18:07.120Z"
   },
   {
    "duration": 7,
    "start_time": "2025-02-18T07:18:07.148Z"
   },
   {
    "duration": 21,
    "start_time": "2025-02-18T07:18:07.157Z"
   },
   {
    "duration": 23,
    "start_time": "2025-02-18T07:18:07.179Z"
   },
   {
    "duration": 325,
    "start_time": "2025-02-18T07:18:07.203Z"
   },
   {
    "duration": 210,
    "start_time": "2025-02-18T07:18:07.529Z"
   },
   {
    "duration": 177,
    "start_time": "2025-02-18T07:18:07.740Z"
   },
   {
    "duration": 154,
    "start_time": "2025-02-18T07:18:07.918Z"
   },
   {
    "duration": 11,
    "start_time": "2025-02-18T07:18:08.073Z"
   },
   {
    "duration": 235,
    "start_time": "2025-02-18T07:18:08.086Z"
   },
   {
    "duration": 9,
    "start_time": "2025-02-18T07:18:08.323Z"
   },
   {
    "duration": 215,
    "start_time": "2025-02-18T07:18:08.334Z"
   },
   {
    "duration": 14,
    "start_time": "2025-02-18T07:18:08.551Z"
   },
   {
    "duration": 123,
    "start_time": "2025-02-18T07:18:08.567Z"
   },
   {
    "duration": 221,
    "start_time": "2025-02-18T07:18:08.692Z"
   },
   {
    "duration": 224,
    "start_time": "2025-02-18T07:18:08.918Z"
   },
   {
    "duration": 32,
    "start_time": "2025-02-18T07:18:09.144Z"
   },
   {
    "duration": 164,
    "start_time": "2025-02-18T07:18:09.179Z"
   },
   {
    "duration": 7,
    "start_time": "2025-02-18T07:18:09.344Z"
   },
   {
    "duration": 163,
    "start_time": "2025-02-18T07:18:09.358Z"
   },
   {
    "duration": 10248,
    "start_time": "2025-02-18T07:18:09.523Z"
   },
   {
    "duration": 307,
    "start_time": "2025-02-18T07:18:19.772Z"
   },
   {
    "duration": 140,
    "start_time": "2025-02-18T07:18:20.080Z"
   },
   {
    "duration": 21,
    "start_time": "2025-02-18T07:18:20.222Z"
   },
   {
    "duration": 249,
    "start_time": "2025-02-18T07:18:20.244Z"
   },
   {
    "duration": 211,
    "start_time": "2025-02-18T07:18:20.494Z"
   },
   {
    "duration": 19,
    "start_time": "2025-02-18T07:18:20.706Z"
   },
   {
    "duration": 184,
    "start_time": "2025-02-18T07:18:20.727Z"
   },
   {
    "duration": 14,
    "start_time": "2025-02-18T07:18:20.913Z"
   },
   {
    "duration": 300,
    "start_time": "2025-02-18T07:18:20.928Z"
   },
   {
    "duration": 280,
    "start_time": "2025-02-18T07:18:21.230Z"
   },
   {
    "duration": 313,
    "start_time": "2025-02-18T07:18:21.512Z"
   },
   {
    "duration": 38,
    "start_time": "2025-02-18T07:18:21.826Z"
   },
   {
    "duration": 4,
    "start_time": "2025-02-18T07:18:21.865Z"
   },
   {
    "duration": 223,
    "start_time": "2025-02-18T07:18:21.871Z"
   },
   {
    "duration": 4,
    "start_time": "2025-02-18T07:18:22.096Z"
   },
   {
    "duration": 266,
    "start_time": "2025-02-18T07:18:22.101Z"
   },
   {
    "duration": 96,
    "start_time": "2025-02-18T07:18:22.368Z"
   },
   {
    "duration": 0,
    "start_time": "2025-02-18T07:18:22.465Z"
   },
   {
    "duration": 0,
    "start_time": "2025-02-18T07:18:22.467Z"
   },
   {
    "duration": 269,
    "start_time": "2025-02-18T07:19:56.175Z"
   },
   {
    "duration": 142,
    "start_time": "2025-02-18T07:20:09.683Z"
   },
   {
    "duration": 4094,
    "start_time": "2025-02-18T07:20:20.606Z"
   },
   {
    "duration": 251,
    "start_time": "2025-02-18T07:20:24.702Z"
   },
   {
    "duration": 17,
    "start_time": "2025-02-18T07:20:24.954Z"
   },
   {
    "duration": 15,
    "start_time": "2025-02-18T07:20:24.973Z"
   },
   {
    "duration": 9,
    "start_time": "2025-02-18T07:20:24.991Z"
   },
   {
    "duration": 11,
    "start_time": "2025-02-18T07:20:25.002Z"
   },
   {
    "duration": 45,
    "start_time": "2025-02-18T07:20:25.015Z"
   },
   {
    "duration": 15,
    "start_time": "2025-02-18T07:20:25.062Z"
   },
   {
    "duration": 10,
    "start_time": "2025-02-18T07:20:25.079Z"
   },
   {
    "duration": 5,
    "start_time": "2025-02-18T07:20:25.090Z"
   },
   {
    "duration": 9,
    "start_time": "2025-02-18T07:20:25.096Z"
   },
   {
    "duration": 18,
    "start_time": "2025-02-18T07:20:25.106Z"
   },
   {
    "duration": 49,
    "start_time": "2025-02-18T07:20:25.126Z"
   },
   {
    "duration": 10,
    "start_time": "2025-02-18T07:20:25.179Z"
   },
   {
    "duration": 12,
    "start_time": "2025-02-18T07:20:25.192Z"
   },
   {
    "duration": 55,
    "start_time": "2025-02-18T07:20:25.206Z"
   },
   {
    "duration": 287,
    "start_time": "2025-02-18T07:20:25.263Z"
   },
   {
    "duration": 210,
    "start_time": "2025-02-18T07:20:25.552Z"
   },
   {
    "duration": 179,
    "start_time": "2025-02-18T07:20:25.764Z"
   },
   {
    "duration": 143,
    "start_time": "2025-02-18T07:20:25.944Z"
   },
   {
    "duration": 10,
    "start_time": "2025-02-18T07:20:26.089Z"
   },
   {
    "duration": 234,
    "start_time": "2025-02-18T07:20:26.101Z"
   },
   {
    "duration": 10,
    "start_time": "2025-02-18T07:20:26.336Z"
   },
   {
    "duration": 212,
    "start_time": "2025-02-18T07:20:26.347Z"
   },
   {
    "duration": 7,
    "start_time": "2025-02-18T07:20:26.561Z"
   },
   {
    "duration": 119,
    "start_time": "2025-02-18T07:20:26.570Z"
   },
   {
    "duration": 220,
    "start_time": "2025-02-18T07:20:26.691Z"
   },
   {
    "duration": 221,
    "start_time": "2025-02-18T07:20:26.912Z"
   },
   {
    "duration": 38,
    "start_time": "2025-02-18T07:20:27.135Z"
   },
   {
    "duration": 146,
    "start_time": "2025-02-18T07:20:27.175Z"
   },
   {
    "duration": 7,
    "start_time": "2025-02-18T07:20:27.322Z"
   },
   {
    "duration": 157,
    "start_time": "2025-02-18T07:20:27.330Z"
   },
   {
    "duration": 9999,
    "start_time": "2025-02-18T07:20:27.489Z"
   },
   {
    "duration": 341,
    "start_time": "2025-02-18T07:20:37.490Z"
   },
   {
    "duration": 149,
    "start_time": "2025-02-18T07:20:37.833Z"
   },
   {
    "duration": 23,
    "start_time": "2025-02-18T07:20:37.984Z"
   },
   {
    "duration": 227,
    "start_time": "2025-02-18T07:20:38.009Z"
   },
   {
    "duration": 224,
    "start_time": "2025-02-18T07:20:38.238Z"
   },
   {
    "duration": 19,
    "start_time": "2025-02-18T07:20:38.464Z"
   },
   {
    "duration": 186,
    "start_time": "2025-02-18T07:20:38.484Z"
   },
   {
    "duration": 13,
    "start_time": "2025-02-18T07:20:38.674Z"
   },
   {
    "duration": 297,
    "start_time": "2025-02-18T07:20:38.688Z"
   },
   {
    "duration": 282,
    "start_time": "2025-02-18T07:20:38.986Z"
   },
   {
    "duration": 296,
    "start_time": "2025-02-18T07:20:39.269Z"
   },
   {
    "duration": 26,
    "start_time": "2025-02-18T07:20:39.567Z"
   },
   {
    "duration": 5,
    "start_time": "2025-02-18T07:20:39.595Z"
   },
   {
    "duration": 239,
    "start_time": "2025-02-18T07:20:39.602Z"
   },
   {
    "duration": 3,
    "start_time": "2025-02-18T07:20:39.843Z"
   },
   {
    "duration": 364,
    "start_time": "2025-02-18T07:20:39.858Z"
   },
   {
    "duration": 132,
    "start_time": "2025-02-18T07:20:40.223Z"
   },
   {
    "duration": 0,
    "start_time": "2025-02-18T07:20:40.356Z"
   },
   {
    "duration": 0,
    "start_time": "2025-02-18T07:20:40.358Z"
   },
   {
    "duration": 6673,
    "start_time": "2025-02-18T19:44:41.332Z"
   },
   {
    "duration": 283,
    "start_time": "2025-02-18T19:44:48.008Z"
   },
   {
    "duration": 17,
    "start_time": "2025-02-18T19:44:48.293Z"
   },
   {
    "duration": 15,
    "start_time": "2025-02-18T19:44:48.312Z"
   },
   {
    "duration": 9,
    "start_time": "2025-02-18T19:44:48.328Z"
   },
   {
    "duration": 39,
    "start_time": "2025-02-18T19:44:48.339Z"
   },
   {
    "duration": 13,
    "start_time": "2025-02-18T19:44:48.380Z"
   },
   {
    "duration": 15,
    "start_time": "2025-02-18T19:44:48.395Z"
   },
   {
    "duration": 11,
    "start_time": "2025-02-18T19:44:48.413Z"
   },
   {
    "duration": 5,
    "start_time": "2025-02-18T19:44:48.427Z"
   },
   {
    "duration": 17,
    "start_time": "2025-02-18T19:44:48.470Z"
   },
   {
    "duration": 11,
    "start_time": "2025-02-18T19:44:48.489Z"
   },
   {
    "duration": 24,
    "start_time": "2025-02-18T19:44:48.501Z"
   },
   {
    "duration": 45,
    "start_time": "2025-02-18T19:44:48.526Z"
   },
   {
    "duration": 17,
    "start_time": "2025-02-18T19:44:48.574Z"
   },
   {
    "duration": 23,
    "start_time": "2025-02-18T19:44:48.592Z"
   },
   {
    "duration": 276,
    "start_time": "2025-02-18T19:44:48.616Z"
   },
   {
    "duration": 237,
    "start_time": "2025-02-18T19:44:48.893Z"
   },
   {
    "duration": 207,
    "start_time": "2025-02-18T19:44:49.132Z"
   },
   {
    "duration": 168,
    "start_time": "2025-02-18T19:44:49.341Z"
   },
   {
    "duration": 13,
    "start_time": "2025-02-18T19:44:49.512Z"
   },
   {
    "duration": 317,
    "start_time": "2025-02-18T19:44:49.527Z"
   },
   {
    "duration": 9,
    "start_time": "2025-02-18T19:44:49.846Z"
   },
   {
    "duration": 246,
    "start_time": "2025-02-18T19:44:49.857Z"
   },
   {
    "duration": 8,
    "start_time": "2025-02-18T19:44:50.105Z"
   },
   {
    "duration": 8,
    "start_time": "2025-02-18T19:44:50.115Z"
   },
   {
    "duration": 277,
    "start_time": "2025-02-18T19:44:50.125Z"
   },
   {
    "duration": 347,
    "start_time": "2025-02-18T19:44:50.406Z"
   },
   {
    "duration": 40,
    "start_time": "2025-02-18T19:44:50.755Z"
   },
   {
    "duration": 171,
    "start_time": "2025-02-18T19:44:50.796Z"
   },
   {
    "duration": 10,
    "start_time": "2025-02-18T19:44:50.971Z"
   },
   {
    "duration": 176,
    "start_time": "2025-02-18T19:44:50.984Z"
   },
   {
    "duration": 230,
    "start_time": "2025-02-18T19:44:51.170Z"
   },
   {
    "duration": 298,
    "start_time": "2025-02-18T19:44:51.402Z"
   },
   {
    "duration": 141,
    "start_time": "2025-02-18T19:44:51.702Z"
   },
   {
    "duration": 41,
    "start_time": "2025-02-18T19:44:51.845Z"
   },
   {
    "duration": 236,
    "start_time": "2025-02-18T19:44:51.888Z"
   },
   {
    "duration": 263,
    "start_time": "2025-02-18T19:44:52.126Z"
   },
   {
    "duration": 18,
    "start_time": "2025-02-18T19:44:52.391Z"
   },
   {
    "duration": 206,
    "start_time": "2025-02-18T19:44:52.411Z"
   },
   {
    "duration": 13,
    "start_time": "2025-02-18T19:44:52.619Z"
   },
   {
    "duration": 360,
    "start_time": "2025-02-18T19:44:52.634Z"
   },
   {
    "duration": 309,
    "start_time": "2025-02-18T19:44:52.996Z"
   },
   {
    "duration": 422,
    "start_time": "2025-02-18T19:44:53.307Z"
   },
   {
    "duration": 43,
    "start_time": "2025-02-18T19:44:53.731Z"
   },
   {
    "duration": 6,
    "start_time": "2025-02-18T19:44:53.777Z"
   },
   {
    "duration": 254,
    "start_time": "2025-02-18T19:44:53.785Z"
   },
   {
    "duration": 4,
    "start_time": "2025-02-18T19:44:54.041Z"
   },
   {
    "duration": 305,
    "start_time": "2025-02-18T19:44:54.046Z"
   },
   {
    "duration": 87,
    "start_time": "2025-02-18T19:44:54.353Z"
   },
   {
    "duration": 0,
    "start_time": "2025-02-18T19:44:54.443Z"
   },
   {
    "duration": 0,
    "start_time": "2025-02-18T19:44:54.444Z"
   },
   {
    "duration": 268,
    "start_time": "2025-02-18T19:44:58.571Z"
   },
   {
    "duration": 148,
    "start_time": "2025-02-18T19:44:59.675Z"
   },
   {
    "duration": 22,
    "start_time": "2025-02-18T19:50:01.383Z"
   },
   {
    "duration": 9,
    "start_time": "2025-02-18T19:50:49.462Z"
   },
   {
    "duration": 7,
    "start_time": "2025-02-18T19:51:09.342Z"
   },
   {
    "duration": 52,
    "start_time": "2025-02-19T09:15:32.497Z"
   },
   {
    "duration": 1729,
    "start_time": "2025-02-19T09:15:41.035Z"
   },
   {
    "duration": 0,
    "start_time": "2025-02-19T09:15:42.767Z"
   },
   {
    "duration": 0,
    "start_time": "2025-02-19T09:15:42.768Z"
   },
   {
    "duration": 0,
    "start_time": "2025-02-19T09:15:42.775Z"
   },
   {
    "duration": 0,
    "start_time": "2025-02-19T09:15:42.777Z"
   },
   {
    "duration": 0,
    "start_time": "2025-02-19T09:15:42.778Z"
   },
   {
    "duration": 0,
    "start_time": "2025-02-19T09:15:42.782Z"
   },
   {
    "duration": 0,
    "start_time": "2025-02-19T09:15:42.783Z"
   },
   {
    "duration": 0,
    "start_time": "2025-02-19T09:15:42.784Z"
   },
   {
    "duration": 0,
    "start_time": "2025-02-19T09:15:42.785Z"
   },
   {
    "duration": 0,
    "start_time": "2025-02-19T09:15:42.787Z"
   },
   {
    "duration": 0,
    "start_time": "2025-02-19T09:15:42.789Z"
   },
   {
    "duration": 0,
    "start_time": "2025-02-19T09:15:42.791Z"
   },
   {
    "duration": 0,
    "start_time": "2025-02-19T09:15:42.792Z"
   },
   {
    "duration": 1,
    "start_time": "2025-02-19T09:15:42.793Z"
   },
   {
    "duration": 0,
    "start_time": "2025-02-19T09:15:42.795Z"
   },
   {
    "duration": 0,
    "start_time": "2025-02-19T09:15:42.797Z"
   },
   {
    "duration": 0,
    "start_time": "2025-02-19T09:15:42.798Z"
   },
   {
    "duration": 0,
    "start_time": "2025-02-19T09:15:42.799Z"
   },
   {
    "duration": 0,
    "start_time": "2025-02-19T09:15:42.801Z"
   },
   {
    "duration": 0,
    "start_time": "2025-02-19T09:15:42.802Z"
   },
   {
    "duration": 0,
    "start_time": "2025-02-19T09:15:42.804Z"
   },
   {
    "duration": 0,
    "start_time": "2025-02-19T09:15:42.805Z"
   },
   {
    "duration": 0,
    "start_time": "2025-02-19T09:15:42.807Z"
   },
   {
    "duration": 0,
    "start_time": "2025-02-19T09:15:42.808Z"
   },
   {
    "duration": 0,
    "start_time": "2025-02-19T09:15:42.810Z"
   },
   {
    "duration": 0,
    "start_time": "2025-02-19T09:15:42.811Z"
   },
   {
    "duration": 0,
    "start_time": "2025-02-19T09:15:42.813Z"
   },
   {
    "duration": 0,
    "start_time": "2025-02-19T09:15:42.814Z"
   },
   {
    "duration": 0,
    "start_time": "2025-02-19T09:15:42.816Z"
   },
   {
    "duration": 0,
    "start_time": "2025-02-19T09:15:42.876Z"
   },
   {
    "duration": 0,
    "start_time": "2025-02-19T09:15:42.877Z"
   },
   {
    "duration": 0,
    "start_time": "2025-02-19T09:15:42.879Z"
   },
   {
    "duration": 0,
    "start_time": "2025-02-19T09:15:42.880Z"
   },
   {
    "duration": 0,
    "start_time": "2025-02-19T09:15:42.882Z"
   },
   {
    "duration": 0,
    "start_time": "2025-02-19T09:15:42.883Z"
   },
   {
    "duration": 0,
    "start_time": "2025-02-19T09:15:42.885Z"
   },
   {
    "duration": 0,
    "start_time": "2025-02-19T09:15:42.886Z"
   },
   {
    "duration": 0,
    "start_time": "2025-02-19T09:15:42.888Z"
   },
   {
    "duration": 0,
    "start_time": "2025-02-19T09:15:42.889Z"
   },
   {
    "duration": 1,
    "start_time": "2025-02-19T09:15:42.890Z"
   },
   {
    "duration": 0,
    "start_time": "2025-02-19T09:15:42.895Z"
   },
   {
    "duration": 0,
    "start_time": "2025-02-19T09:15:42.896Z"
   },
   {
    "duration": 0,
    "start_time": "2025-02-19T09:15:42.898Z"
   },
   {
    "duration": 0,
    "start_time": "2025-02-19T09:15:42.900Z"
   },
   {
    "duration": 0,
    "start_time": "2025-02-19T09:15:42.901Z"
   },
   {
    "duration": 0,
    "start_time": "2025-02-19T09:15:42.903Z"
   },
   {
    "duration": 0,
    "start_time": "2025-02-19T09:15:42.904Z"
   },
   {
    "duration": 0,
    "start_time": "2025-02-19T09:15:42.906Z"
   },
   {
    "duration": 0,
    "start_time": "2025-02-19T09:15:42.907Z"
   },
   {
    "duration": 0,
    "start_time": "2025-02-19T09:15:42.909Z"
   },
   {
    "duration": 0,
    "start_time": "2025-02-19T09:15:42.910Z"
   },
   {
    "duration": 13724,
    "start_time": "2025-02-19T09:16:52.417Z"
   },
   {
    "duration": 4515,
    "start_time": "2025-02-19T09:17:19.931Z"
   },
   {
    "duration": 179,
    "start_time": "2025-02-19T09:17:24.449Z"
   },
   {
    "duration": 17,
    "start_time": "2025-02-19T09:17:24.630Z"
   },
   {
    "duration": 27,
    "start_time": "2025-02-19T09:17:24.649Z"
   },
   {
    "duration": 47,
    "start_time": "2025-02-19T09:17:24.678Z"
   },
   {
    "duration": 46,
    "start_time": "2025-02-19T09:17:24.726Z"
   },
   {
    "duration": 19,
    "start_time": "2025-02-19T09:17:24.774Z"
   },
   {
    "duration": 36,
    "start_time": "2025-02-19T09:17:24.796Z"
   },
   {
    "duration": 18,
    "start_time": "2025-02-19T09:17:24.834Z"
   },
   {
    "duration": 7,
    "start_time": "2025-02-19T09:17:24.855Z"
   },
   {
    "duration": 4,
    "start_time": "2025-02-19T09:17:24.864Z"
   },
   {
    "duration": 13,
    "start_time": "2025-02-19T09:17:24.870Z"
   },
   {
    "duration": 12,
    "start_time": "2025-02-19T09:17:24.885Z"
   },
   {
    "duration": 23,
    "start_time": "2025-02-19T09:17:24.899Z"
   },
   {
    "duration": 14,
    "start_time": "2025-02-19T09:17:24.924Z"
   },
   {
    "duration": 19,
    "start_time": "2025-02-19T09:17:24.939Z"
   },
   {
    "duration": 35,
    "start_time": "2025-02-19T09:17:24.974Z"
   },
   {
    "duration": 292,
    "start_time": "2025-02-19T09:17:25.011Z"
   },
   {
    "duration": 221,
    "start_time": "2025-02-19T09:17:25.305Z"
   },
   {
    "duration": 201,
    "start_time": "2025-02-19T09:17:25.528Z"
   },
   {
    "duration": 165,
    "start_time": "2025-02-19T09:17:25.730Z"
   },
   {
    "duration": 11,
    "start_time": "2025-02-19T09:17:25.897Z"
   },
   {
    "duration": 262,
    "start_time": "2025-02-19T09:17:25.909Z"
   },
   {
    "duration": 12,
    "start_time": "2025-02-19T09:17:26.177Z"
   },
   {
    "duration": 254,
    "start_time": "2025-02-19T09:17:26.191Z"
   },
   {
    "duration": 9,
    "start_time": "2025-02-19T09:17:26.447Z"
   },
   {
    "duration": 26,
    "start_time": "2025-02-19T09:17:26.457Z"
   },
   {
    "duration": 239,
    "start_time": "2025-02-19T09:17:26.487Z"
   },
   {
    "duration": 243,
    "start_time": "2025-02-19T09:17:26.728Z"
   },
   {
    "duration": 26,
    "start_time": "2025-02-19T09:17:26.973Z"
   },
   {
    "duration": 164,
    "start_time": "2025-02-19T09:17:27.001Z"
   },
   {
    "duration": 15,
    "start_time": "2025-02-19T09:17:27.167Z"
   },
   {
    "duration": 169,
    "start_time": "2025-02-19T09:17:27.183Z"
   },
   {
    "duration": 12025,
    "start_time": "2025-02-19T09:17:27.354Z"
   },
   {
    "duration": 272,
    "start_time": "2025-02-19T09:17:39.382Z"
   },
   {
    "duration": 160,
    "start_time": "2025-02-19T09:17:39.655Z"
   },
   {
    "duration": 22,
    "start_time": "2025-02-19T09:17:39.817Z"
   },
   {
    "duration": 239,
    "start_time": "2025-02-19T09:17:39.840Z"
   },
   {
    "duration": 259,
    "start_time": "2025-02-19T09:17:40.082Z"
   },
   {
    "duration": 20,
    "start_time": "2025-02-19T09:17:40.342Z"
   },
   {
    "duration": 201,
    "start_time": "2025-02-19T09:17:40.376Z"
   },
   {
    "duration": 18,
    "start_time": "2025-02-19T09:17:40.582Z"
   },
   {
    "duration": 308,
    "start_time": "2025-02-19T09:17:40.602Z"
   },
   {
    "duration": 294,
    "start_time": "2025-02-19T09:17:40.912Z"
   },
   {
    "duration": 368,
    "start_time": "2025-02-19T09:17:41.208Z"
   },
   {
    "duration": 32,
    "start_time": "2025-02-19T09:17:41.578Z"
   },
   {
    "duration": 4,
    "start_time": "2025-02-19T09:17:41.612Z"
   },
   {
    "duration": 266,
    "start_time": "2025-02-19T09:17:41.617Z"
   },
   {
    "duration": 5,
    "start_time": "2025-02-19T09:17:41.886Z"
   },
   {
    "duration": 305,
    "start_time": "2025-02-19T09:17:41.892Z"
   },
   {
    "duration": 382,
    "start_time": "2025-02-19T09:17:42.199Z"
   },
   {
    "duration": 156,
    "start_time": "2025-02-19T09:17:42.583Z"
   },
   {
    "duration": 108,
    "start_time": "2025-02-19T09:18:59.659Z"
   },
   {
    "duration": 9,
    "start_time": "2025-02-19T09:24:23.108Z"
   },
   {
    "duration": 9,
    "start_time": "2025-02-19T09:24:55.357Z"
   },
   {
    "duration": 10,
    "start_time": "2025-02-19T09:24:57.795Z"
   },
   {
    "duration": 4365,
    "start_time": "2025-02-19T09:26:08.168Z"
   },
   {
    "duration": 205,
    "start_time": "2025-02-19T09:26:12.535Z"
   },
   {
    "duration": 18,
    "start_time": "2025-02-19T09:26:12.742Z"
   },
   {
    "duration": 16,
    "start_time": "2025-02-19T09:26:12.762Z"
   },
   {
    "duration": 10,
    "start_time": "2025-02-19T09:26:12.781Z"
   },
   {
    "duration": 11,
    "start_time": "2025-02-19T09:26:12.793Z"
   },
   {
    "duration": 13,
    "start_time": "2025-02-19T09:26:12.806Z"
   },
   {
    "duration": 15,
    "start_time": "2025-02-19T09:26:12.821Z"
   },
   {
    "duration": 49,
    "start_time": "2025-02-19T09:26:12.838Z"
   },
   {
    "duration": 33,
    "start_time": "2025-02-19T09:26:12.889Z"
   },
   {
    "duration": 6,
    "start_time": "2025-02-19T09:26:12.923Z"
   },
   {
    "duration": 12,
    "start_time": "2025-02-19T09:26:12.930Z"
   },
   {
    "duration": 11,
    "start_time": "2025-02-19T09:26:12.944Z"
   },
   {
    "duration": 27,
    "start_time": "2025-02-19T09:26:12.960Z"
   },
   {
    "duration": 8,
    "start_time": "2025-02-19T09:26:12.989Z"
   },
   {
    "duration": 33,
    "start_time": "2025-02-19T09:26:12.999Z"
   },
   {
    "duration": 31,
    "start_time": "2025-02-19T09:26:13.034Z"
   },
   {
    "duration": 11,
    "start_time": "2025-02-19T09:26:13.068Z"
   },
   {
    "duration": 24,
    "start_time": "2025-02-19T09:26:13.080Z"
   },
   {
    "duration": 297,
    "start_time": "2025-02-19T09:26:13.105Z"
   },
   {
    "duration": 224,
    "start_time": "2025-02-19T09:26:13.403Z"
   },
   {
    "duration": 196,
    "start_time": "2025-02-19T09:26:13.628Z"
   },
   {
    "duration": 158,
    "start_time": "2025-02-19T09:26:13.826Z"
   },
   {
    "duration": 10,
    "start_time": "2025-02-19T09:26:13.985Z"
   },
   {
    "duration": 234,
    "start_time": "2025-02-19T09:26:13.997Z"
   },
   {
    "duration": 9,
    "start_time": "2025-02-19T09:26:14.233Z"
   },
   {
    "duration": 217,
    "start_time": "2025-02-19T09:26:14.244Z"
   },
   {
    "duration": 17,
    "start_time": "2025-02-19T09:26:14.462Z"
   },
   {
    "duration": 9,
    "start_time": "2025-02-19T09:26:14.481Z"
   },
   {
    "duration": 253,
    "start_time": "2025-02-19T09:26:14.492Z"
   },
   {
    "duration": 236,
    "start_time": "2025-02-19T09:26:14.747Z"
   },
   {
    "duration": 24,
    "start_time": "2025-02-19T09:26:14.985Z"
   },
   {
    "duration": 178,
    "start_time": "2025-02-19T09:26:15.011Z"
   },
   {
    "duration": 7,
    "start_time": "2025-02-19T09:26:15.191Z"
   },
   {
    "duration": 192,
    "start_time": "2025-02-19T09:26:15.200Z"
   },
   {
    "duration": 10794,
    "start_time": "2025-02-19T09:26:15.393Z"
   },
   {
    "duration": 364,
    "start_time": "2025-02-19T09:26:26.190Z"
   },
   {
    "duration": 154,
    "start_time": "2025-02-19T09:26:26.556Z"
   },
   {
    "duration": 22,
    "start_time": "2025-02-19T09:26:26.713Z"
   },
   {
    "duration": 239,
    "start_time": "2025-02-19T09:26:26.738Z"
   },
   {
    "duration": 235,
    "start_time": "2025-02-19T09:26:26.982Z"
   },
   {
    "duration": 22,
    "start_time": "2025-02-19T09:26:27.218Z"
   },
   {
    "duration": 197,
    "start_time": "2025-02-19T09:26:27.242Z"
   },
   {
    "duration": 15,
    "start_time": "2025-02-19T09:26:27.441Z"
   },
   {
    "duration": 302,
    "start_time": "2025-02-19T09:26:27.474Z"
   },
   {
    "duration": 327,
    "start_time": "2025-02-19T09:26:27.779Z"
   },
   {
    "duration": 324,
    "start_time": "2025-02-19T09:26:28.108Z"
   },
   {
    "duration": 42,
    "start_time": "2025-02-19T09:26:28.434Z"
   },
   {
    "duration": 5,
    "start_time": "2025-02-19T09:26:28.478Z"
   },
   {
    "duration": 242,
    "start_time": "2025-02-19T09:26:28.485Z"
   },
   {
    "duration": 5,
    "start_time": "2025-02-19T09:26:28.729Z"
   },
   {
    "duration": 409,
    "start_time": "2025-02-19T09:26:28.736Z"
   },
   {
    "duration": 246,
    "start_time": "2025-02-19T09:26:29.148Z"
   },
   {
    "duration": 146,
    "start_time": "2025-02-19T09:26:29.396Z"
   },
   {
    "duration": 63,
    "start_time": "2025-02-19T09:26:56.174Z"
   },
   {
    "duration": 145,
    "start_time": "2025-02-19T09:29:42.830Z"
   },
   {
    "duration": 152,
    "start_time": "2025-02-19T09:30:13.962Z"
   },
   {
    "duration": 152,
    "start_time": "2025-02-19T09:31:43.722Z"
   },
   {
    "duration": 65,
    "start_time": "2025-02-19T09:32:28.836Z"
   },
   {
    "duration": 89,
    "start_time": "2025-02-19T09:37:00.044Z"
   },
   {
    "duration": 63,
    "start_time": "2025-02-19T09:37:27.222Z"
   },
   {
    "duration": 141,
    "start_time": "2025-02-19T09:37:35.954Z"
   },
   {
    "duration": 77,
    "start_time": "2025-02-19T09:38:08.680Z"
   },
   {
    "duration": 62,
    "start_time": "2025-02-19T09:38:39.106Z"
   },
   {
    "duration": 140,
    "start_time": "2025-02-19T09:39:54.444Z"
   },
   {
    "duration": 147,
    "start_time": "2025-02-19T09:40:27.442Z"
   },
   {
    "duration": 169,
    "start_time": "2025-02-19T09:41:07.252Z"
   },
   {
    "duration": 63,
    "start_time": "2025-02-19T09:42:53.584Z"
   },
   {
    "duration": 3,
    "start_time": "2025-02-19T09:44:51.601Z"
   },
   {
    "duration": 149,
    "start_time": "2025-02-19T09:45:37.759Z"
   },
   {
    "duration": 152,
    "start_time": "2025-02-19T09:45:43.340Z"
   },
   {
    "duration": 188,
    "start_time": "2025-02-19T09:47:01.132Z"
   },
   {
    "duration": 224,
    "start_time": "2025-02-19T09:47:11.952Z"
   },
   {
    "duration": 283,
    "start_time": "2025-02-19T09:51:08.523Z"
   },
   {
    "duration": 216,
    "start_time": "2025-02-19T09:51:22.608Z"
   },
   {
    "duration": 10,
    "start_time": "2025-02-19T09:52:09.897Z"
   },
   {
    "duration": 9,
    "start_time": "2025-02-19T09:52:35.867Z"
   },
   {
    "duration": 55,
    "start_time": "2025-02-19T09:52:46.956Z"
   },
   {
    "duration": 9,
    "start_time": "2025-02-19T09:53:02.375Z"
   },
   {
    "duration": 131,
    "start_time": "2025-02-19T09:54:41.504Z"
   },
   {
    "duration": 19,
    "start_time": "2025-02-19T09:55:23.045Z"
   },
   {
    "duration": 15,
    "start_time": "2025-02-19T09:55:39.087Z"
   },
   {
    "duration": 9,
    "start_time": "2025-02-19T09:56:42.685Z"
   },
   {
    "duration": 144,
    "start_time": "2025-02-19T09:57:09.655Z"
   },
   {
    "duration": 11,
    "start_time": "2025-02-19T09:58:56.805Z"
   },
   {
    "duration": 11,
    "start_time": "2025-02-19T09:59:16.266Z"
   },
   {
    "duration": 217,
    "start_time": "2025-02-19T09:59:20.016Z"
   },
   {
    "duration": 218,
    "start_time": "2025-02-19T09:59:58.547Z"
   },
   {
    "duration": 10,
    "start_time": "2025-02-19T10:00:14.355Z"
   },
   {
    "duration": 233,
    "start_time": "2025-02-19T10:00:17.788Z"
   },
   {
    "duration": 10,
    "start_time": "2025-02-19T10:00:40.447Z"
   },
   {
    "duration": 215,
    "start_time": "2025-02-19T10:00:46.903Z"
   },
   {
    "duration": 10,
    "start_time": "2025-02-19T10:04:20.472Z"
   },
   {
    "duration": 211,
    "start_time": "2025-02-19T10:05:27.166Z"
   },
   {
    "duration": 10,
    "start_time": "2025-02-19T10:05:50.056Z"
   },
   {
    "duration": 189,
    "start_time": "2025-02-19T10:05:53.504Z"
   },
   {
    "duration": 58,
    "start_time": "2025-02-19T10:08:07.423Z"
   },
   {
    "duration": 7,
    "start_time": "2025-02-19T10:18:37.526Z"
   },
   {
    "duration": 5,
    "start_time": "2025-02-19T10:18:39.916Z"
   },
   {
    "duration": 5,
    "start_time": "2025-02-19T10:18:42.486Z"
   },
   {
    "duration": 6,
    "start_time": "2025-02-19T10:18:46.090Z"
   },
   {
    "duration": 11,
    "start_time": "2025-02-19T10:19:05.883Z"
   },
   {
    "duration": 8,
    "start_time": "2025-02-19T10:21:26.363Z"
   },
   {
    "duration": 213,
    "start_time": "2025-02-19T10:21:28.582Z"
   },
   {
    "duration": 208,
    "start_time": "2025-02-19T10:21:33.782Z"
   },
   {
    "duration": 259,
    "start_time": "2025-02-19T10:22:34.267Z"
   },
   {
    "duration": 16,
    "start_time": "2025-02-19T10:23:51.310Z"
   },
   {
    "duration": 164,
    "start_time": "2025-02-19T10:25:43.115Z"
   },
   {
    "duration": 159,
    "start_time": "2025-02-19T10:25:55.290Z"
   },
   {
    "duration": 160,
    "start_time": "2025-02-19T10:26:29.390Z"
   },
   {
    "duration": 161,
    "start_time": "2025-02-19T10:26:37.645Z"
   },
   {
    "duration": 167,
    "start_time": "2025-02-19T10:27:01.990Z"
   },
   {
    "duration": 3986,
    "start_time": "2025-02-19T11:16:36.341Z"
   },
   {
    "duration": 217,
    "start_time": "2025-02-19T11:16:40.329Z"
   },
   {
    "duration": 16,
    "start_time": "2025-02-19T11:16:40.547Z"
   },
   {
    "duration": 13,
    "start_time": "2025-02-19T11:16:40.565Z"
   },
   {
    "duration": 9,
    "start_time": "2025-02-19T11:16:40.580Z"
   },
   {
    "duration": 21,
    "start_time": "2025-02-19T11:16:40.590Z"
   },
   {
    "duration": 17,
    "start_time": "2025-02-19T11:16:40.613Z"
   },
   {
    "duration": 14,
    "start_time": "2025-02-19T11:16:40.632Z"
   },
   {
    "duration": 15,
    "start_time": "2025-02-19T11:16:40.648Z"
   },
   {
    "duration": 7,
    "start_time": "2025-02-19T11:16:40.675Z"
   },
   {
    "duration": 11,
    "start_time": "2025-02-19T11:16:40.684Z"
   },
   {
    "duration": 10,
    "start_time": "2025-02-19T11:16:40.696Z"
   },
   {
    "duration": 10,
    "start_time": "2025-02-19T11:16:40.707Z"
   },
   {
    "duration": 21,
    "start_time": "2025-02-19T11:16:40.718Z"
   },
   {
    "duration": 34,
    "start_time": "2025-02-19T11:16:40.741Z"
   },
   {
    "duration": 11,
    "start_time": "2025-02-19T11:16:40.777Z"
   },
   {
    "duration": 8,
    "start_time": "2025-02-19T11:16:40.789Z"
   },
   {
    "duration": 9,
    "start_time": "2025-02-19T11:16:40.798Z"
   },
   {
    "duration": 21,
    "start_time": "2025-02-19T11:16:40.809Z"
   },
   {
    "duration": 296,
    "start_time": "2025-02-19T11:16:40.832Z"
   },
   {
    "duration": 220,
    "start_time": "2025-02-19T11:16:41.129Z"
   },
   {
    "duration": 178,
    "start_time": "2025-02-19T11:16:41.350Z"
   },
   {
    "duration": 2,
    "start_time": "2025-02-19T11:16:41.530Z"
   },
   {
    "duration": 151,
    "start_time": "2025-02-19T11:16:41.534Z"
   },
   {
    "duration": 13,
    "start_time": "2025-02-19T11:16:41.687Z"
   },
   {
    "duration": 220,
    "start_time": "2025-02-19T11:16:41.702Z"
   },
   {
    "duration": 10,
    "start_time": "2025-02-19T11:16:41.924Z"
   },
   {
    "duration": 215,
    "start_time": "2025-02-19T11:16:41.938Z"
   },
   {
    "duration": 9,
    "start_time": "2025-02-19T11:16:42.154Z"
   },
   {
    "duration": 18,
    "start_time": "2025-02-19T11:16:42.164Z"
   },
   {
    "duration": 19,
    "start_time": "2025-02-19T11:16:42.183Z"
   },
   {
    "duration": 221,
    "start_time": "2025-02-19T11:16:42.204Z"
   },
   {
    "duration": 213,
    "start_time": "2025-02-19T11:16:42.427Z"
   },
   {
    "duration": 35,
    "start_time": "2025-02-19T11:16:42.642Z"
   },
   {
    "duration": 154,
    "start_time": "2025-02-19T11:16:42.678Z"
   },
   {
    "duration": 7,
    "start_time": "2025-02-19T11:16:42.833Z"
   },
   {
    "duration": 150,
    "start_time": "2025-02-19T11:16:42.841Z"
   },
   {
    "duration": 9490,
    "start_time": "2025-02-19T11:16:42.993Z"
   },
   {
    "duration": 262,
    "start_time": "2025-02-19T11:16:52.485Z"
   },
   {
    "duration": 152,
    "start_time": "2025-02-19T11:16:52.749Z"
   },
   {
    "duration": 20,
    "start_time": "2025-02-19T11:16:52.903Z"
   },
   {
    "duration": 219,
    "start_time": "2025-02-19T11:16:52.924Z"
   },
   {
    "duration": 217,
    "start_time": "2025-02-19T11:16:53.145Z"
   },
   {
    "duration": 29,
    "start_time": "2025-02-19T11:16:53.363Z"
   },
   {
    "duration": 176,
    "start_time": "2025-02-19T11:16:53.393Z"
   },
   {
    "duration": 14,
    "start_time": "2025-02-19T11:16:53.574Z"
   },
   {
    "duration": 290,
    "start_time": "2025-02-19T11:16:53.589Z"
   },
   {
    "duration": 278,
    "start_time": "2025-02-19T11:16:53.880Z"
   },
   {
    "duration": 296,
    "start_time": "2025-02-19T11:16:54.160Z"
   },
   {
    "duration": 33,
    "start_time": "2025-02-19T11:16:54.458Z"
   },
   {
    "duration": 4,
    "start_time": "2025-02-19T11:16:54.493Z"
   },
   {
    "duration": 214,
    "start_time": "2025-02-19T11:16:54.499Z"
   },
   {
    "duration": 4,
    "start_time": "2025-02-19T11:16:54.714Z"
   },
   {
    "duration": 254,
    "start_time": "2025-02-19T11:16:54.720Z"
   },
   {
    "duration": 346,
    "start_time": "2025-02-19T11:16:54.976Z"
   },
   {
    "duration": 123,
    "start_time": "2025-02-19T11:16:55.324Z"
   },
   {
    "duration": 117,
    "start_time": "2025-02-19T11:19:03.585Z"
   },
   {
    "duration": 11,
    "start_time": "2025-02-19T11:19:12.230Z"
   },
   {
    "duration": 8,
    "start_time": "2025-02-19T11:20:38.476Z"
   },
   {
    "duration": 150,
    "start_time": "2025-02-19T11:20:43.836Z"
   },
   {
    "duration": 120,
    "start_time": "2025-02-19T11:24:08.543Z"
   },
   {
    "duration": 170,
    "start_time": "2025-02-19T11:25:30.561Z"
   },
   {
    "duration": 15,
    "start_time": "2025-02-19T11:26:27.180Z"
   },
   {
    "duration": 22,
    "start_time": "2025-02-19T11:28:56.189Z"
   },
   {
    "duration": 192,
    "start_time": "2025-02-19T11:29:22.804Z"
   },
   {
    "duration": 14,
    "start_time": "2025-02-19T11:30:25.822Z"
   },
   {
    "duration": 203,
    "start_time": "2025-02-19T11:31:31.014Z"
   },
   {
    "duration": 221,
    "start_time": "2025-02-19T11:32:40.256Z"
   },
   {
    "duration": 190,
    "start_time": "2025-02-19T11:33:18.546Z"
   },
   {
    "duration": 204,
    "start_time": "2025-02-19T11:33:31.934Z"
   },
   {
    "duration": 202,
    "start_time": "2025-02-19T11:33:38.085Z"
   },
   {
    "duration": 82,
    "start_time": "2025-02-19T11:35:07.463Z"
   },
   {
    "duration": 15,
    "start_time": "2025-02-19T11:39:15.248Z"
   },
   {
    "duration": 14,
    "start_time": "2025-02-19T11:40:40.792Z"
   },
   {
    "duration": 15,
    "start_time": "2025-02-19T11:43:20.305Z"
   },
   {
    "duration": 387,
    "start_time": "2025-02-19T11:43:26.254Z"
   },
   {
    "duration": 301,
    "start_time": "2025-02-19T11:43:42.116Z"
   },
   {
    "duration": 11,
    "start_time": "2025-02-19T11:44:01.012Z"
   },
   {
    "duration": 15,
    "start_time": "2025-02-19T11:44:18.236Z"
   },
   {
    "duration": 291,
    "start_time": "2025-02-19T11:47:42.754Z"
   },
   {
    "duration": 291,
    "start_time": "2025-02-19T11:47:46.702Z"
   },
   {
    "duration": 279,
    "start_time": "2025-02-19T11:48:05.827Z"
   },
   {
    "duration": 277,
    "start_time": "2025-02-19T11:49:31.942Z"
   },
   {
    "duration": 16,
    "start_time": "2025-02-19T11:49:47.724Z"
   },
   {
    "duration": 16,
    "start_time": "2025-02-19T11:49:56.402Z"
   },
   {
    "duration": 264,
    "start_time": "2025-02-19T11:50:10.843Z"
   },
   {
    "duration": 219,
    "start_time": "2025-02-19T11:50:30.776Z"
   },
   {
    "duration": 206,
    "start_time": "2025-02-19T11:50:36.754Z"
   },
   {
    "duration": 320,
    "start_time": "2025-02-19T11:52:24.117Z"
   },
   {
    "duration": 145,
    "start_time": "2025-02-19T11:53:37.702Z"
   },
   {
    "duration": 269,
    "start_time": "2025-02-19T11:53:43.017Z"
   },
   {
    "duration": 238,
    "start_time": "2025-02-19T11:54:48.536Z"
   },
   {
    "duration": 239,
    "start_time": "2025-02-19T11:55:17.397Z"
   },
   {
    "duration": 92,
    "start_time": "2025-02-19T11:56:08.423Z"
   },
   {
    "duration": 84,
    "start_time": "2025-02-19T11:56:17.782Z"
   },
   {
    "duration": 61,
    "start_time": "2025-02-19T11:56:23.696Z"
   },
   {
    "duration": 297,
    "start_time": "2025-02-19T11:56:31.216Z"
   },
   {
    "duration": 65,
    "start_time": "2025-02-19T11:56:42.709Z"
   },
   {
    "duration": 241,
    "start_time": "2025-02-19T11:56:46.456Z"
   },
   {
    "duration": 72,
    "start_time": "2025-02-19T12:04:21.723Z"
   },
   {
    "duration": 17,
    "start_time": "2025-02-19T12:05:41.364Z"
   },
   {
    "duration": 227,
    "start_time": "2025-02-19T12:06:10.234Z"
   },
   {
    "duration": 229,
    "start_time": "2025-02-19T12:06:23.867Z"
   },
   {
    "duration": 30,
    "start_time": "2025-02-19T12:08:07.226Z"
   },
   {
    "duration": 26,
    "start_time": "2025-02-19T12:08:16.941Z"
   },
   {
    "duration": 293,
    "start_time": "2025-02-19T12:08:22.867Z"
   },
   {
    "duration": 28,
    "start_time": "2025-02-19T12:11:27.867Z"
   },
   {
    "duration": 32,
    "start_time": "2025-02-19T12:11:52.951Z"
   },
   {
    "duration": 303,
    "start_time": "2025-02-19T12:13:31.487Z"
   },
   {
    "duration": 23,
    "start_time": "2025-02-19T12:14:43.212Z"
   },
   {
    "duration": 269,
    "start_time": "2025-02-19T12:15:15.942Z"
   },
   {
    "duration": 464,
    "start_time": "2025-02-19T12:15:35.247Z"
   },
   {
    "duration": 9,
    "start_time": "2025-02-19T12:16:23.617Z"
   },
   {
    "duration": 269,
    "start_time": "2025-02-19T12:17:07.366Z"
   },
   {
    "duration": 9,
    "start_time": "2025-02-19T12:17:10.616Z"
   },
   {
    "duration": 25,
    "start_time": "2025-02-19T12:17:32.326Z"
   },
   {
    "duration": 9,
    "start_time": "2025-02-19T12:17:36.416Z"
   },
   {
    "duration": 287,
    "start_time": "2025-02-19T12:19:53.291Z"
   },
   {
    "duration": 23,
    "start_time": "2025-02-19T12:21:06.456Z"
   },
   {
    "duration": 9,
    "start_time": "2025-02-19T12:24:25.237Z"
   },
   {
    "duration": 264,
    "start_time": "2025-02-19T12:25:58.478Z"
   },
   {
    "duration": 278,
    "start_time": "2025-02-19T12:26:26.696Z"
   },
   {
    "duration": 240,
    "start_time": "2025-02-19T12:27:19.585Z"
   },
   {
    "duration": 247,
    "start_time": "2025-02-19T12:27:34.052Z"
   },
   {
    "duration": 282,
    "start_time": "2025-02-19T12:27:54.580Z"
   },
   {
    "duration": 285,
    "start_time": "2025-02-19T12:27:59.529Z"
   },
   {
    "duration": 257,
    "start_time": "2025-02-19T12:29:27.301Z"
   },
   {
    "duration": 261,
    "start_time": "2025-02-19T12:29:41.781Z"
   },
   {
    "duration": 391,
    "start_time": "2025-02-19T12:29:51.083Z"
   },
   {
    "duration": 26,
    "start_time": "2025-02-19T12:30:54.096Z"
   },
   {
    "duration": 26,
    "start_time": "2025-02-19T12:31:01.387Z"
   },
   {
    "duration": 8,
    "start_time": "2025-02-19T12:31:44.272Z"
   },
   {
    "duration": 9,
    "start_time": "2025-02-19T12:32:21.802Z"
   },
   {
    "duration": 22,
    "start_time": "2025-02-19T12:32:52.057Z"
   },
   {
    "duration": 226,
    "start_time": "2025-02-19T12:33:06.089Z"
   },
   {
    "duration": 24,
    "start_time": "2025-02-19T12:34:56.463Z"
   },
   {
    "duration": 23,
    "start_time": "2025-02-19T12:35:10.453Z"
   },
   {
    "duration": 22,
    "start_time": "2025-02-19T12:36:45.627Z"
   },
   {
    "duration": 253,
    "start_time": "2025-02-19T12:36:59.161Z"
   },
   {
    "duration": 24,
    "start_time": "2025-02-19T12:37:09.003Z"
   },
   {
    "duration": 7,
    "start_time": "2025-02-19T12:37:28.462Z"
   },
   {
    "duration": 22,
    "start_time": "2025-02-19T12:38:18.859Z"
   },
   {
    "duration": 23,
    "start_time": "2025-02-19T12:38:33.109Z"
   },
   {
    "duration": 212,
    "start_time": "2025-02-19T12:39:05.537Z"
   },
   {
    "duration": 293,
    "start_time": "2025-02-19T12:39:41.221Z"
   },
   {
    "duration": 25,
    "start_time": "2025-02-19T12:41:41.226Z"
   },
   {
    "duration": 249,
    "start_time": "2025-02-19T12:41:55.526Z"
   },
   {
    "duration": 22,
    "start_time": "2025-02-19T12:42:14.689Z"
   },
   {
    "duration": 258,
    "start_time": "2025-02-19T12:42:29.224Z"
   },
   {
    "duration": 21,
    "start_time": "2025-02-19T12:42:52.750Z"
   },
   {
    "duration": 5,
    "start_time": "2025-02-19T12:43:36.541Z"
   },
   {
    "duration": 24,
    "start_time": "2025-02-19T12:44:10.682Z"
   },
   {
    "duration": 22,
    "start_time": "2025-02-19T12:44:17.371Z"
   },
   {
    "duration": 22,
    "start_time": "2025-02-19T12:44:54.200Z"
   },
   {
    "duration": 23,
    "start_time": "2025-02-19T12:44:57.852Z"
   },
   {
    "duration": 210,
    "start_time": "2025-02-19T12:45:23.479Z"
   },
   {
    "duration": 213,
    "start_time": "2025-02-19T12:45:53.704Z"
   },
   {
    "duration": 225,
    "start_time": "2025-02-19T12:46:06.453Z"
   },
   {
    "duration": 4102,
    "start_time": "2025-02-19T12:46:27.325Z"
   },
   {
    "duration": 225,
    "start_time": "2025-02-19T12:46:31.429Z"
   },
   {
    "duration": 15,
    "start_time": "2025-02-19T12:46:31.656Z"
   },
   {
    "duration": 28,
    "start_time": "2025-02-19T12:46:31.673Z"
   },
   {
    "duration": 18,
    "start_time": "2025-02-19T12:46:31.703Z"
   },
   {
    "duration": 18,
    "start_time": "2025-02-19T12:46:31.723Z"
   },
   {
    "duration": 13,
    "start_time": "2025-02-19T12:46:31.743Z"
   },
   {
    "duration": 30,
    "start_time": "2025-02-19T12:46:31.758Z"
   },
   {
    "duration": 37,
    "start_time": "2025-02-19T12:46:31.790Z"
   },
   {
    "duration": 6,
    "start_time": "2025-02-19T12:46:31.828Z"
   },
   {
    "duration": 7,
    "start_time": "2025-02-19T12:46:31.836Z"
   },
   {
    "duration": 12,
    "start_time": "2025-02-19T12:46:31.844Z"
   },
   {
    "duration": 24,
    "start_time": "2025-02-19T12:46:31.858Z"
   },
   {
    "duration": 26,
    "start_time": "2025-02-19T12:46:31.884Z"
   },
   {
    "duration": 7,
    "start_time": "2025-02-19T12:46:31.912Z"
   },
   {
    "duration": 15,
    "start_time": "2025-02-19T12:46:31.920Z"
   },
   {
    "duration": 9,
    "start_time": "2025-02-19T12:46:31.936Z"
   },
   {
    "duration": 8,
    "start_time": "2025-02-19T12:46:31.946Z"
   },
   {
    "duration": 20,
    "start_time": "2025-02-19T12:46:31.975Z"
   },
   {
    "duration": 286,
    "start_time": "2025-02-19T12:46:31.996Z"
   },
   {
    "duration": 212,
    "start_time": "2025-02-19T12:46:32.283Z"
   },
   {
    "duration": 180,
    "start_time": "2025-02-19T12:46:32.497Z"
   },
   {
    "duration": 3,
    "start_time": "2025-02-19T12:46:32.678Z"
   },
   {
    "duration": 145,
    "start_time": "2025-02-19T12:46:32.682Z"
   },
   {
    "duration": 10,
    "start_time": "2025-02-19T12:46:32.829Z"
   },
   {
    "duration": 213,
    "start_time": "2025-02-19T12:46:32.840Z"
   },
   {
    "duration": 20,
    "start_time": "2025-02-19T12:46:33.055Z"
   },
   {
    "duration": 240,
    "start_time": "2025-02-19T12:46:33.076Z"
   },
   {
    "duration": 9,
    "start_time": "2025-02-19T12:46:33.318Z"
   },
   {
    "duration": 20,
    "start_time": "2025-02-19T12:46:33.328Z"
   },
   {
    "duration": 21,
    "start_time": "2025-02-19T12:46:33.349Z"
   },
   {
    "duration": 219,
    "start_time": "2025-02-19T12:46:33.372Z"
   },
   {
    "duration": 220,
    "start_time": "2025-02-19T12:46:33.593Z"
   },
   {
    "duration": 24,
    "start_time": "2025-02-19T12:46:33.815Z"
   },
   {
    "duration": 168,
    "start_time": "2025-02-19T12:46:33.840Z"
   },
   {
    "duration": 8,
    "start_time": "2025-02-19T12:46:34.009Z"
   },
   {
    "duration": 159,
    "start_time": "2025-02-19T12:46:34.018Z"
   },
   {
    "duration": 10411,
    "start_time": "2025-02-19T12:46:34.178Z"
   },
   {
    "duration": 257,
    "start_time": "2025-02-19T12:46:44.591Z"
   },
   {
    "duration": 143,
    "start_time": "2025-02-19T12:46:44.850Z"
   },
   {
    "duration": 23,
    "start_time": "2025-02-19T12:46:44.997Z"
   },
   {
    "duration": 254,
    "start_time": "2025-02-19T12:46:45.021Z"
   },
   {
    "duration": 220,
    "start_time": "2025-02-19T12:46:45.277Z"
   },
   {
    "duration": 219,
    "start_time": "2025-02-19T12:46:45.499Z"
   },
   {
    "duration": 20,
    "start_time": "2025-02-19T12:46:45.719Z"
   },
   {
    "duration": 190,
    "start_time": "2025-02-19T12:46:45.740Z"
   },
   {
    "duration": 15,
    "start_time": "2025-02-19T12:46:45.931Z"
   },
   {
    "duration": 299,
    "start_time": "2025-02-19T12:46:45.948Z"
   },
   {
    "duration": 281,
    "start_time": "2025-02-19T12:46:46.249Z"
   },
   {
    "duration": 245,
    "start_time": "2025-02-19T12:46:46.532Z"
   },
   {
    "duration": 25,
    "start_time": "2025-02-19T12:46:46.779Z"
   },
   {
    "duration": 35,
    "start_time": "2025-02-19T12:46:46.806Z"
   },
   {
    "duration": 334,
    "start_time": "2025-02-19T12:46:46.843Z"
   },
   {
    "duration": 273,
    "start_time": "2025-02-19T12:46:47.179Z"
   },
   {
    "duration": 238,
    "start_time": "2025-02-19T12:46:47.454Z"
   },
   {
    "duration": 133,
    "start_time": "2025-02-19T12:46:47.694Z"
   },
   {
    "duration": 95,
    "start_time": "2025-02-19T12:47:45.883Z"
   },
   {
    "duration": 7689,
    "start_time": "2025-02-20T05:50:50.237Z"
   },
   {
    "duration": 285,
    "start_time": "2025-02-20T05:50:57.929Z"
   },
   {
    "duration": 19,
    "start_time": "2025-02-20T05:50:58.216Z"
   },
   {
    "duration": 16,
    "start_time": "2025-02-20T05:50:58.236Z"
   },
   {
    "duration": 10,
    "start_time": "2025-02-20T05:50:58.255Z"
   },
   {
    "duration": 23,
    "start_time": "2025-02-20T05:50:58.267Z"
   },
   {
    "duration": 15,
    "start_time": "2025-02-20T05:50:58.292Z"
   },
   {
    "duration": 24,
    "start_time": "2025-02-20T05:50:58.308Z"
   },
   {
    "duration": 80,
    "start_time": "2025-02-20T05:50:58.334Z"
   },
   {
    "duration": 9,
    "start_time": "2025-02-20T05:50:58.416Z"
   },
   {
    "duration": 6,
    "start_time": "2025-02-20T05:50:58.426Z"
   },
   {
    "duration": 11,
    "start_time": "2025-02-20T05:50:58.434Z"
   },
   {
    "duration": 12,
    "start_time": "2025-02-20T05:50:58.446Z"
   },
   {
    "duration": 43,
    "start_time": "2025-02-20T05:50:58.461Z"
   },
   {
    "duration": 8,
    "start_time": "2025-02-20T05:50:58.506Z"
   },
   {
    "duration": 24,
    "start_time": "2025-02-20T05:50:58.515Z"
   },
   {
    "duration": 9,
    "start_time": "2025-02-20T05:50:58.541Z"
   },
   {
    "duration": 30,
    "start_time": "2025-02-20T05:50:58.552Z"
   },
   {
    "duration": 26,
    "start_time": "2025-02-20T05:50:58.588Z"
   },
   {
    "duration": 316,
    "start_time": "2025-02-20T05:50:58.616Z"
   },
   {
    "duration": 295,
    "start_time": "2025-02-20T05:50:58.934Z"
   },
   {
    "duration": 213,
    "start_time": "2025-02-20T05:50:59.231Z"
   },
   {
    "duration": 3,
    "start_time": "2025-02-20T05:50:59.446Z"
   },
   {
    "duration": 136,
    "start_time": "2025-02-20T05:50:59.451Z"
   },
   {
    "duration": 12,
    "start_time": "2025-02-20T05:50:59.589Z"
   },
   {
    "duration": 251,
    "start_time": "2025-02-20T05:50:59.603Z"
   },
   {
    "duration": 31,
    "start_time": "2025-02-20T05:50:59.855Z"
   },
   {
    "duration": 263,
    "start_time": "2025-02-20T05:50:59.888Z"
   },
   {
    "duration": 28,
    "start_time": "2025-02-20T05:51:00.153Z"
   },
   {
    "duration": 80,
    "start_time": "2025-02-20T05:51:00.182Z"
   },
   {
    "duration": 27,
    "start_time": "2025-02-20T05:51:00.264Z"
   },
   {
    "duration": 293,
    "start_time": "2025-02-20T05:51:00.293Z"
   },
   {
    "duration": 249,
    "start_time": "2025-02-20T05:51:00.588Z"
   },
   {
    "duration": 45,
    "start_time": "2025-02-20T05:51:00.839Z"
   },
   {
    "duration": 174,
    "start_time": "2025-02-20T05:51:00.889Z"
   },
   {
    "duration": 21,
    "start_time": "2025-02-20T05:51:01.065Z"
   },
   {
    "duration": 202,
    "start_time": "2025-02-20T05:51:01.088Z"
   },
   {
    "duration": 13900,
    "start_time": "2025-02-20T05:51:01.293Z"
   },
   {
    "duration": 284,
    "start_time": "2025-02-20T05:51:15.275Z"
   },
   {
    "duration": 179,
    "start_time": "2025-02-20T05:51:15.561Z"
   },
   {
    "duration": 47,
    "start_time": "2025-02-20T05:51:15.745Z"
   },
   {
    "duration": 233,
    "start_time": "2025-02-20T05:51:15.797Z"
   },
   {
    "duration": 262,
    "start_time": "2025-02-20T05:51:16.032Z"
   },
   {
    "duration": 239,
    "start_time": "2025-02-20T05:51:16.296Z"
   },
   {
    "duration": 48,
    "start_time": "2025-02-20T05:51:16.537Z"
   },
   {
    "duration": 204,
    "start_time": "2025-02-20T05:51:16.587Z"
   },
   {
    "duration": 16,
    "start_time": "2025-02-20T05:51:16.792Z"
   },
   {
    "duration": 344,
    "start_time": "2025-02-20T05:51:16.810Z"
   },
   {
    "duration": 345,
    "start_time": "2025-02-20T05:51:17.156Z"
   },
   {
    "duration": 286,
    "start_time": "2025-02-20T05:51:17.502Z"
   },
   {
    "duration": 32,
    "start_time": "2025-02-20T05:51:17.790Z"
   },
   {
    "duration": 6,
    "start_time": "2025-02-20T05:51:17.824Z"
   },
   {
    "duration": 423,
    "start_time": "2025-02-20T05:51:17.832Z"
   },
   {
    "duration": 335,
    "start_time": "2025-02-20T05:51:18.257Z"
   },
   {
    "duration": 271,
    "start_time": "2025-02-20T05:51:18.594Z"
   },
   {
    "duration": 187,
    "start_time": "2025-02-20T05:51:18.867Z"
   }
  ],
  "colab": {
   "provenance": []
  },
  "kernelspec": {
   "display_name": "Python 3 (ipykernel)",
   "language": "python",
   "name": "python3"
  },
  "language_info": {
   "codemirror_mode": {
    "name": "ipython",
    "version": 3
   },
   "file_extension": ".py",
   "mimetype": "text/x-python",
   "name": "python",
   "nbconvert_exporter": "python",
   "pygments_lexer": "ipython3",
   "version": "3.12.7"
  },
  "toc": {
   "base_numbering": 1,
   "nav_menu": {},
   "number_sections": true,
   "sideBar": true,
   "skip_h1_title": true,
   "title_cell": "Table of Contents",
   "title_sidebar": "Contents",
   "toc_cell": false,
   "toc_position": {},
   "toc_section_display": true,
   "toc_window_display": false
  }
 },
 "nbformat": 4,
 "nbformat_minor": 5
}
