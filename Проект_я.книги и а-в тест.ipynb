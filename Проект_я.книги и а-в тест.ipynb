{
 "cells": [
  {
   "cell_type": "markdown",
   "id": "_E41Wr5fqnFT",
   "metadata": {
    "id": "_E41Wr5fqnFT"
   },
   "source": [
    "# Часть 1. Проверка гипотезы в Python и составление аналитической записки"
   ]
  },
  {
   "cell_type": "markdown",
   "id": "Z5_6nf-FrY7o",
   "metadata": {
    "id": "Z5_6nf-FrY7o"
   },
   "source": [
    "Вы предобработали данные в SQL, и теперь они готовы для проверки гипотезы в Python. Загрузите данные пользователей из Москвы и Санкт-Петербурга c суммой часов их активности из файла yandex_knigi_data.csv. Если работаете локально, скачать файл можно по ссылке.\n",
    "\n",
    "Проверьте наличие дубликатов в идентификаторах пользователей. Сравните размеры групп, их статистики и распределение.\n",
    "\n",
    "Напомним, как выглядит гипотеза: пользователи из Москвы проводят в среднем больше времени за чтением и прослушиванием книг в приложении, чем пользователи из Москвы. Попробуйте статистически это доказать, используя одностороннюю проверку гипотезы с двумя выборками:\n",
    "\n",
    "Нулевая гипотеза $H_0: \\mu_{\\text{СПб}} \\leq \\mu_{\\text{Москва}}$ <br> Среднее время активности пользователей в Санкт-Петербурге не больше, чем в Москве.\n",
    "\n",
    "Альтернативная гипотеза $H_1: \\mu_{\\text{СПб}} > \\mu_{\\text{Москва}}$ <br> Среднее время активности пользователей в Санкт-Петербурге больше, и это различие статистически значимо.\n",
    "\n",
    "По результатам анализа данных подготовьте аналитическую записку, в которой опишите:\n",
    "\n",
    "Выбранный тип t-теста и уровень статистической значимости.\n",
    "\n",
    "Результат теста, или p-value.\n",
    "\n",
    "Вывод на основе полученного p-value, то есть интерпретацию результатов.\n",
    "\n",
    "Одну или две возможные причины, объясняющие полученные результаты."
   ]
  },
  {
   "cell_type": "markdown",
   "id": "e06910dd",
   "metadata": {
    "id": "e06910dd"
   },
   "source": [
    "## Проверка гипотезы в Python по Я.Книги: пользователи из СПБ проводят в среднем больше времени за чтением и прослушиванием книг, чем пользователи из Москвы \n",
    "\n",
    "- Автор: Котова Ольга\n",
    "- Дата: 04.05.2025"
   ]
  },
  {
   "cell_type": "markdown",
   "id": "4149134c",
   "metadata": {
    "id": "4149134c"
   },
   "source": [
    "## Цели и задачи проекта\n",
    "\n",
    "<font color='#777778'> Цель проекта: проверить гипотезу о том, что пользователи из СПБ проводят в среднем больше времени за чтением и прослушиванием книг, чем пользователи из Москвы.\n",
    "    \n",
    "    \n",
    "Задачи проекта:\n",
    "1. проведние A/B-теста:\n",
    "- выбор t-теста и уровень статистической значимости.\n",
    "- получение результата теста, или p-value.  \n",
    "    \n",
    "2. Интерпретация результатов A/B-теста:\n",
    "    \n",
    "- Вывод на основе полученного p-value.\n",
    "- Описание 1/2 возможных причин, объясняющих полученные результаты.\n",
    "</font>"
   ]
  },
  {
   "cell_type": "markdown",
   "id": "728986ea",
   "metadata": {
    "id": "728986ea"
   },
   "source": [
    "## Описание данных\n",
    "\n",
    "<font color='#777778'>https://code.s3.yandex.net/datasets/yandex_knigi_data.csv - таблица данные пользователей из Москвы и Санкт-Петербурга c суммой часов их активности в Яндекс Книгах.\n",
    "\n",
    "Таблица bookmate.audition содержит данные об активности пользователей и состоит из следующих полей:\n",
    "- audition_id — уникальный идентификатор сессии чтения или прослушивания;\n",
    "- puid — идентификатор пользователя;\n",
    "- usage_platform_ru — название платформы, с помощью которой пользователь слушал контент;\n",
    "- msk_business_dt_str — дата события в формате строки (московское время);\n",
    "- app_version — версия приложения, которая использовалась для чтения или прослушивания;\n",
    "- adult_content_flg — был ли это контент для взрослых: True или False;\n",
    "- hours — длительность чтения или прослушивания в часах;\n",
    "- hours_sessions_long — продолжительность длинных сессий чтения или прослушивания в часах;\n",
    "- kids_content_flg — был ли это детский контент: True или False;\n",
    "- main_content_id — идентификатор основного контента;\n",
    "- usage_geo_id — идентификатор географического местоположения.\n",
    "\n",
    "Таблица bookmate.content содержит данные о контенте и состоит из следующих полей:\n",
    "- main_content_id — идентификатор основного контента;\n",
    "- main_author_id — идентификатор основного автора контента;\n",
    "- main_content_type — тип контента;\n",
    "- main_content_name— название контента;\n",
    "- main_content_duration_hours — длительность контента в часах;\n",
    "- published_topic_title_list — список жанров контента.\n",
    "\n",
    "Таблица bookmate.author содержит данные об авторах контента и состоит из следующих полей:\n",
    "- main_author_id — идентификатор основного автора контента;\n",
    "- main_author_name — имя основного автора контента.\n",
    "\n",
    "Таблица bookmate.geo содержит данные о местоположении и состоит из следующих полей:\n",
    "- usage_geo_id — идентификатор географического положения;\n",
    "- usage_geo_id_name — город или регион географического положения;\n",
    "- usage_country_name — страна географического положения.</font>"
   ]
  },
  {
   "cell_type": "markdown",
   "id": "4fecaf95",
   "metadata": {
    "id": "4fecaf95"
   },
   "source": [
    "## Содержимое проекта\n",
    "\n",
    "<font color='#777778'> \n",
    "    \n",
    "1. Предобработка данных проведена в SQL.  \n",
    "    \n",
    "2. Загрузка и знакомство с данными  \n",
    "   \n",
    "3. Проверка наличия дубликатов в идентификаторах пользователей. \n",
    "    \n",
    "4. Сравниие размеров групп, их статистики, визуализация.\n",
    "\n",
    "5. Проверка гипотезы (пользователи из Санкт-Петербурга проводят в среднем больше времени за чтением и прослушиванием книг в приложении, чем пользователи из Москвы). \n",
    "\n",
    "Нулевая гипотеза  𝐻0:𝜇СПб≤𝜇Москва (Среднее время активности пользователей в Санкт-Петербурге не больше, чем в Москве).\n",
    "\n",
    "Альтернативная гипотеза  𝐻1:𝜇СПб>𝜇Москва  (Среднее время активности пользователей в Санкт-Петербурге больше, и это различие статистически значимо).\n",
    "\n",
    "6. Составление анализической записки.\n",
    "\n",
    "</font>\n",
    "\n",
    "---"
   ]
  },
  {
   "cell_type": "markdown",
   "id": "6f7d21d6",
   "metadata": {
    "id": "6f7d21d6"
   },
   "source": [
    "## 1. Загрузка данных и знакомство с ними\n",
    "\n",
    "Загрузите данные пользователей из Москвы и Санкт-Петербурга c их активностью (суммой часов чтения и прослушивания) из файла `/datasets/yandex_knigi_data.csv`."
   ]
  },
  {
   "cell_type": "code",
   "execution_count": 1,
   "id": "05faf34b",
   "metadata": {
    "id": "05faf34b"
   },
   "outputs": [],
   "source": [
    "# импортируем библиотеки \n",
    "import pandas as pd\n",
    "import matplotlib.pyplot as plt\n",
    "import seaborn as sns"
   ]
  },
  {
   "cell_type": "code",
   "execution_count": 2,
   "id": "ce87c1db",
   "metadata": {
    "id": "ce87c1db"
   },
   "outputs": [
    {
     "name": "stdout",
     "output_type": "stream",
     "text": [
      "<class 'pandas.core.frame.DataFrame'>\n",
      "RangeIndex: 8784 entries, 0 to 8783\n",
      "Data columns (total 4 columns):\n",
      " #   Column      Non-Null Count  Dtype  \n",
      "---  ------      --------------  -----  \n",
      " 0   Unnamed: 0  8784 non-null   int64  \n",
      " 1   city        8784 non-null   object \n",
      " 2   puid        8784 non-null   int64  \n",
      " 3   hours       8784 non-null   float64\n",
      "dtypes: float64(1), int64(2), object(1)\n",
      "memory usage: 274.6+ KB\n"
     ]
    },
    {
     "data": {
      "text/html": [
       "<div>\n",
       "<style scoped>\n",
       "    .dataframe tbody tr th:only-of-type {\n",
       "        vertical-align: middle;\n",
       "    }\n",
       "\n",
       "    .dataframe tbody tr th {\n",
       "        vertical-align: top;\n",
       "    }\n",
       "\n",
       "    .dataframe thead th {\n",
       "        text-align: right;\n",
       "    }\n",
       "</style>\n",
       "<table border=\"1\" class=\"dataframe\">\n",
       "  <thead>\n",
       "    <tr style=\"text-align: right;\">\n",
       "      <th></th>\n",
       "      <th>Unnamed: 0</th>\n",
       "      <th>city</th>\n",
       "      <th>puid</th>\n",
       "      <th>hours</th>\n",
       "    </tr>\n",
       "  </thead>\n",
       "  <tbody>\n",
       "    <tr>\n",
       "      <th>0</th>\n",
       "      <td>0</td>\n",
       "      <td>Москва</td>\n",
       "      <td>9668</td>\n",
       "      <td>26.167776</td>\n",
       "    </tr>\n",
       "    <tr>\n",
       "      <th>1</th>\n",
       "      <td>1</td>\n",
       "      <td>Москва</td>\n",
       "      <td>16598</td>\n",
       "      <td>82.111217</td>\n",
       "    </tr>\n",
       "    <tr>\n",
       "      <th>2</th>\n",
       "      <td>2</td>\n",
       "      <td>Москва</td>\n",
       "      <td>80401</td>\n",
       "      <td>4.656906</td>\n",
       "    </tr>\n",
       "    <tr>\n",
       "      <th>3</th>\n",
       "      <td>3</td>\n",
       "      <td>Москва</td>\n",
       "      <td>140205</td>\n",
       "      <td>1.840556</td>\n",
       "    </tr>\n",
       "    <tr>\n",
       "      <th>4</th>\n",
       "      <td>4</td>\n",
       "      <td>Москва</td>\n",
       "      <td>248755</td>\n",
       "      <td>151.326434</td>\n",
       "    </tr>\n",
       "  </tbody>\n",
       "</table>\n",
       "</div>"
      ],
      "text/plain": [
       "   Unnamed: 0    city    puid       hours\n",
       "0           0  Москва    9668   26.167776\n",
       "1           1  Москва   16598   82.111217\n",
       "2           2  Москва   80401    4.656906\n",
       "3           3  Москва  140205    1.840556\n",
       "4           4  Москва  248755  151.326434"
      ]
     },
     "execution_count": 2,
     "metadata": {},
     "output_type": "execute_result"
    }
   ],
   "source": [
    "# загрузка и занкомство с данными пользователей Мск и СПБ\n",
    "df = pd.read_csv('https://code.s3.yandex.net/datasets/yandex_knigi_data.csv')\n",
    "df.info()\n",
    "df.head()"
   ]
  },
  {
   "cell_type": "markdown",
   "id": "66d22e78",
   "metadata": {},
   "source": [
    "При знакомстве с данными видим, что пропусков нет, везде по 8784 значения. Типы данных соответствующие. Теперь посмотрим наличие дубликатов."
   ]
  },
  {
   "cell_type": "code",
   "execution_count": 3,
   "id": "f68a7419",
   "metadata": {
    "id": "f68a7419",
    "scrolled": true
   },
   "outputs": [
    {
     "data": {
      "text/plain": [
       "244"
      ]
     },
     "execution_count": 3,
     "metadata": {},
     "output_type": "execute_result"
    }
   ],
   "source": [
    "# проверка дубликатов в идентификаторах пользователей, сохраняя первую встреченную строку\n",
    "df.duplicated(subset='puid', keep='first').sum()\n",
    "\n"
   ]
  },
  {
   "cell_type": "markdown",
   "id": "02c28769",
   "metadata": {},
   "source": [
    "Дубликатов 244, удаляем их."
   ]
  },
  {
   "cell_type": "code",
   "execution_count": 4,
   "id": "d09dbdc5",
   "metadata": {
    "scrolled": true
   },
   "outputs": [
    {
     "name": "stdout",
     "output_type": "stream",
     "text": [
      "\n",
      "Количество строк без дубликатов: 8540\n"
     ]
    }
   ],
   "source": [
    "# удаляем дубликаты\n",
    "df=df.drop_duplicates(subset='puid', keep='first')\n",
    "\n",
    "print(\"\\nКоличество строк без дубликатов:\", len(df))"
   ]
  },
  {
   "cell_type": "markdown",
   "id": "be87bd09",
   "metadata": {},
   "source": [
    "Теперь необходимо сравнить  размеры групп и их статистики - применим визуализации для наглядности."
   ]
  },
  {
   "cell_type": "code",
   "execution_count": 5,
   "id": "0cd89346",
   "metadata": {},
   "outputs": [
    {
     "name": "stdout",
     "output_type": "stream",
     "text": [
      "Количество пользователей в Москве: 6234\n",
      "\n",
      "Статистики пользователей Москвы:\n",
      "count    6234.000000\n",
      "mean       10.881092\n",
      "std        36.851683\n",
      "min         0.000018\n",
      "25%         0.059903\n",
      "50%         0.924498\n",
      "75%         5.939972\n",
      "max       857.209373\n",
      "Name: hours, dtype: float64\n"
     ]
    }
   ],
   "source": [
    "msc_hours = df[df['city'] == 'Москва']['hours']\n",
    "\n",
    "print(\"Количество пользователей в Москве:\", len(msc_hours))\n",
    "\n",
    "print(\"\\nСтатистики пользователей Москвы:\")\n",
    "print(msc_hours.describe())\n"
   ]
  },
  {
   "cell_type": "code",
   "execution_count": 6,
   "id": "78074506",
   "metadata": {
    "scrolled": true
   },
   "outputs": [
    {
     "name": "stdout",
     "output_type": "stream",
     "text": [
      "Количество пользователей в Санкт-Петербурге: 2306\n",
      "\n",
      "Статистики пользователей Санкт-Петербурга:\n",
      "count    2306.000000\n",
      "mean       11.264433\n",
      "std        39.831755\n",
      "min         0.000025\n",
      "25%         0.060173\n",
      "50%         0.875355\n",
      "75%         6.138424\n",
      "max       978.764775\n",
      "Name: hours, dtype: float64\n"
     ]
    }
   ],
   "source": [
    "spb_hours = df[df['city'] == 'Санкт-Петербург']['hours']\n",
    "\n",
    "print(\"Количество пользователей в Санкт-Петербурге:\", len(spb_hours))\n",
    "\n",
    "print(\"\\nСтатистики пользователей Санкт-Петербурга:\")\n",
    "print(spb_hours.describe())"
   ]
  },
  {
   "cell_type": "markdown",
   "id": "593ed9e1",
   "metadata": {},
   "source": [
    "Количество пользователей в Москве: 6234, что значительно больше (почти втрое), чем в СПБ -2306, неравные группы могут не очень хорошо повлиять на анализ результатов. При этом, среднее значение в Мск и СПБ примерно равное (около 11), процентили также примерно равны, включая медиану (около 0.9). Максимум в Питере больше.\n",
    "\n",
    "Посмотрим на распределение часов активности."
   ]
  },
  {
   "cell_type": "code",
   "execution_count": 7,
   "id": "adc85b53",
   "metadata": {
    "scrolled": true
   },
   "outputs": [
    {
     "data": {
      "image/png": "[encoded data removed]",
      "text/plain": [
       "<Figure size 720x360 with 1 Axes>"
      ]
     },
     "metadata": {
      "needs_background": "light"
     },
     "output_type": "display_data"
    }
   ],
   "source": [
    "# визуализируем с помощью библиотеки seaborn\n",
    "plt.figure(figsize=(10, 5))\n",
    "sns.histplot(msc_hours, kde=True, color='red', label='Москва', alpha=0.6, bins=40)\n",
    "sns.histplot(spb_hours, kde=True, color='green', label='Санкт-Петербург', alpha=0.6, bins=40)\n",
    "\n",
    "plt.title('Распределение часов активности пользоватлеей Мск и СПБ')\n",
    "plt.xlabel('Часы активности')\n",
    "plt.ylabel('Количество пользователей')\n",
    "plt.legend()\n",
    "plt.grid(True, which='both', linewidth=0.5)\n",
    "plt.xlim(0, 300)\n",
    "plt.show()"
   ]
  },
  {
   "cell_type": "markdown",
   "id": "99ddd18f",
   "metadata": {},
   "source": [
    "Распределение похожее в СПБ и Мск: у большинства пользователей активности не более 50 часов."
   ]
  },
  {
   "cell_type": "markdown",
   "id": "956e82e2",
   "metadata": {
    "id": "956e82e2"
   },
   "source": [
    "## 2. Проверка гипотезы в Python\n",
    "\n",
    "Гипотеза звучит так: пользователи из Санкт-Петербурга проводят в среднем больше времени за чтением и прослушиванием книг в приложении, чем пользователи из Москвы. Попробуйте статистически это доказать, используя одностороннюю проверку гипотезы с двумя выборками:\n",
    "\n",
    "- Нулевая гипотеза H₀: Средняя активность пользователей в часах в двух группах (Москва и Санкт-Петербург) не различается.\n",
    "\n",
    "- Альтернативная гипотеза H₁: Средняя активность пользователей в Санкт-Петербурге больше, и это различие статистически значимо."
   ]
  },
  {
   "cell_type": "code",
   "execution_count": 8,
   "id": "67956690",
   "metadata": {
    "id": "67956690"
   },
   "outputs": [
    {
     "name": "stdout",
     "output_type": "stream",
     "text": [
      "T-статистика: 0.402767\n",
      "P-value: 0.343571\n",
      "Не можем отвергнуть нулевую гипотезу: различия в средней активности пользователей не являются статистически значимыми.\n"
     ]
    }
   ],
   "source": [
    "from scipy.stats import ttest_ind\n",
    "\n",
    "t_stat, p_value = ttest_ind(spb_hours, msc_hours, equal_var=False, alternative='greater')\n",
    "\n",
    "print(f\"T-статистика: {t_stat:.6f}\")\n",
    "print(f\"P-value: {p_value:.6f}\")\n",
    "\n",
    "\n",
    "alpha = 0.05\n",
    "if p_value < alpha:\n",
    "    print(\"Отвергаем нулевую гипотезу: средняя активность пользователей в Санкт-Петербурге выше, чем в Москве.\")\n",
    "else:\n",
    "    print(\"Не можем отвергнуть нулевую гипотезу: различия в средней активности пользователей не являются статистически значимыми.\")"
   ]
  },
  {
   "cell_type": "markdown",
   "id": "6953e84c",
   "metadata": {
    "id": "6953e84c"
   },
   "source": [
    "## 3. Аналитическая записка\n",
    "По результатам анализа данных подготовьте аналитическую записку, в которой опишете:\n",
    "\n",
    "- Выбранный тип t-теста и уровень статистической значимости.\n",
    "\n",
    "Выбран односторонний t-тест для двух независимых выборок с alternative='greater', уровень статистической значимости выбран стандартный (α = 0.05)\n",
    "\n",
    "- Результат теста, или p-value.\n",
    "\n",
    "P-value: 0.343571\n",
    "\n",
    "- Вывод на основе полученного p-value, то есть интерпретацию результатов.\n",
    "\n",
    "P-value (примерно 0.3) больше уровня статистической значимости (α = 0.05), то есть имеющиеся различия между средними значениями часов активности в Мск и СПБ не являются статистически значимыми.\n",
    "\n",
    "Не можем отвергнуть нулевую гипотезу, нет достаточных доказательств того, что пользователи из Санкт-Петербурга проводят в среднем больше времени за чтением и прослушиванием книг в приложении, чем пользователи из Москвы.\n",
    "\n",
    "- Одну или две возможные причины, объясняющие полученные результаты.\n",
    "\n",
    "Возможной причиной можно назвать неравное количество пользователей в группах: в Москве их больше в 2.7 раза, чем в СПБ.\n",
    "Различия в средней активности между двумя группами не являются статистически значимыми.\n"
   ]
  },
  {
   "cell_type": "markdown",
   "id": "hc1d6jVISegz",
   "metadata": {
    "id": "hc1d6jVISegz"
   },
   "source": [
    "----"
   ]
  },
  {
   "cell_type": "markdown",
   "id": "NqOUIYhbrIfC",
   "metadata": {
    "id": "NqOUIYhbrIfC"
   },
   "source": [
    "# Часть 2. Анализ результатов A/B-тестирования"
   ]
  },
  {
   "cell_type": "markdown",
   "id": "tDwMKFNGsClr",
   "metadata": {
    "id": "tDwMKFNGsClr"
   },
   "source": [
    "Теперь вам нужно проанализировать другие данные. Представьте, что к вам обратились представители интернет-магазина BitMotion Kit, в котором продаются геймифицированные товары для тех, кто ведёт здоровый образ жизни. У него есть своя целевая аудитория, даже появились хиты продаж: эспандер со счётчиком и напоминанием, так и подстольный велотренажёр с Bluetooth.\n",
    "\n",
    "В будущем компания хочет расширить ассортимент товаров. Но перед этим нужно решить одну проблему. Интерфейс онлайн-магазина слишком сложен для пользователей — об этом говорят отзывы.\n",
    "\n",
    "Чтобы привлечь новых клиентов и увеличить число продаж, владельцы магазина разработали новую версию сайта и протестировали его на части пользователей. По задумке, это решение доказуемо повысит количество пользователей, которые совершат покупку.\n",
    "\n",
    "Ваша задача — провести оценку результатов A/B-теста. В вашем распоряжении:\n",
    "\n",
    "* данные о действиях пользователей и распределении их на группы,\n",
    "\n",
    "* техническое задание.\n",
    "\n",
    "Оцените корректность проведения теста и проанализируйте его результаты."
   ]
  },
  {
   "cell_type": "markdown",
   "id": "UNXAAyF5r9Rk",
   "metadata": {
    "id": "UNXAAyF5r9Rk"
   },
   "source": [
    "## 1. Опишите цели исследования.\n",
    "\n"
   ]
  },
  {
   "cell_type": "markdown",
   "id": "kHx-51yES8bd",
   "metadata": {
    "id": "kHx-51yES8bd"
   },
   "source": [
    "Цель исследования: проверка гипотезы о том, что упрощение интерфейса приведёт к тому, что в течение семи дней после регистрации в системе конверсия зарегистрированных пользователей в покупателей увеличится как минимум на три процентных пункта.\n",
    "\n",
    "Поскольку предыдущий аналитик уже провел тестирование, необходимо: \n",
    "- загрузить данные и оценить их целостность,  \n",
    "- оценить корректность проведения теста,\n",
    "- провести оценку результатов A/B-тестирования."
   ]
  },
  {
   "cell_type": "markdown",
   "id": "_CZryx2OsH-s",
   "metadata": {
    "id": "_CZryx2OsH-s"
   },
   "source": [
    "## 2. Загрузите данные, оцените их целостность.\n"
   ]
  },
  {
   "cell_type": "code",
   "execution_count": 9,
   "id": "DjFcJbeGsTIg",
   "metadata": {
    "id": "DjFcJbeGsTIg"
   },
   "outputs": [],
   "source": [
    "participants = pd.read_csv('https://code.s3.yandex.net/datasets/ab_test_participants.csv')\n",
    "events = pd.read_csv('https://code.s3.yandex.net/datasets/ab_test_events.zip',\n",
    "                     parse_dates=['event_dt'], low_memory=False)"
   ]
  },
  {
   "cell_type": "code",
   "execution_count": 10,
   "id": "2ae03569",
   "metadata": {},
   "outputs": [
    {
     "name": "stdout",
     "output_type": "stream",
     "text": [
      "<class 'pandas.core.frame.DataFrame'>\n",
      "RangeIndex: 14525 entries, 0 to 14524\n",
      "Data columns (total 4 columns):\n",
      " #   Column   Non-Null Count  Dtype \n",
      "---  ------   --------------  ----- \n",
      " 0   user_id  14525 non-null  object\n",
      " 1   group    14525 non-null  object\n",
      " 2   ab_test  14525 non-null  object\n",
      " 3   device   14525 non-null  object\n",
      "dtypes: object(4)\n",
      "memory usage: 454.0+ KB\n"
     ]
    },
    {
     "data": {
      "text/html": [
       "<div>\n",
       "<style scoped>\n",
       "    .dataframe tbody tr th:only-of-type {\n",
       "        vertical-align: middle;\n",
       "    }\n",
       "\n",
       "    .dataframe tbody tr th {\n",
       "        vertical-align: top;\n",
       "    }\n",
       "\n",
       "    .dataframe thead th {\n",
       "        text-align: right;\n",
       "    }\n",
       "</style>\n",
       "<table border=\"1\" class=\"dataframe\">\n",
       "  <thead>\n",
       "    <tr style=\"text-align: right;\">\n",
       "      <th></th>\n",
       "      <th>user_id</th>\n",
       "      <th>group</th>\n",
       "      <th>ab_test</th>\n",
       "      <th>device</th>\n",
       "    </tr>\n",
       "  </thead>\n",
       "  <tbody>\n",
       "    <tr>\n",
       "      <th>0</th>\n",
       "      <td>0002CE61FF2C4011</td>\n",
       "      <td>B</td>\n",
       "      <td>interface_eu_test</td>\n",
       "      <td>Mac</td>\n",
       "    </tr>\n",
       "    <tr>\n",
       "      <th>1</th>\n",
       "      <td>001064FEAAB631A1</td>\n",
       "      <td>B</td>\n",
       "      <td>recommender_system_test</td>\n",
       "      <td>Android</td>\n",
       "    </tr>\n",
       "    <tr>\n",
       "      <th>2</th>\n",
       "      <td>001064FEAAB631A1</td>\n",
       "      <td>A</td>\n",
       "      <td>interface_eu_test</td>\n",
       "      <td>Android</td>\n",
       "    </tr>\n",
       "    <tr>\n",
       "      <th>3</th>\n",
       "      <td>0010A1C096941592</td>\n",
       "      <td>A</td>\n",
       "      <td>recommender_system_test</td>\n",
       "      <td>Android</td>\n",
       "    </tr>\n",
       "    <tr>\n",
       "      <th>4</th>\n",
       "      <td>001E72F50D1C48FA</td>\n",
       "      <td>A</td>\n",
       "      <td>interface_eu_test</td>\n",
       "      <td>Mac</td>\n",
       "    </tr>\n",
       "  </tbody>\n",
       "</table>\n",
       "</div>"
      ],
      "text/plain": [
       "            user_id group                  ab_test   device\n",
       "0  0002CE61FF2C4011     B        interface_eu_test      Mac\n",
       "1  001064FEAAB631A1     B  recommender_system_test  Android\n",
       "2  001064FEAAB631A1     A        interface_eu_test  Android\n",
       "3  0010A1C096941592     A  recommender_system_test  Android\n",
       "4  001E72F50D1C48FA     A        interface_eu_test      Mac"
      ]
     },
     "execution_count": 10,
     "metadata": {},
     "output_type": "execute_result"
    }
   ],
   "source": [
    "participants.info()\n",
    "participants.head()"
   ]
  },
  {
   "cell_type": "code",
   "execution_count": 11,
   "id": "d32d19ed",
   "metadata": {
    "scrolled": true
   },
   "outputs": [
    {
     "name": "stdout",
     "output_type": "stream",
     "text": [
      "<class 'pandas.core.frame.DataFrame'>\n",
      "RangeIndex: 787286 entries, 0 to 787285\n",
      "Data columns (total 4 columns):\n",
      " #   Column      Non-Null Count   Dtype         \n",
      "---  ------      --------------   -----         \n",
      " 0   user_id     787286 non-null  object        \n",
      " 1   event_dt    787286 non-null  datetime64[ns]\n",
      " 2   event_name  787286 non-null  object        \n",
      " 3   details     249022 non-null  object        \n",
      "dtypes: datetime64[ns](1), object(3)\n",
      "memory usage: 24.0+ MB\n"
     ]
    },
    {
     "data": {
      "text/html": [
       "<div>\n",
       "<style scoped>\n",
       "    .dataframe tbody tr th:only-of-type {\n",
       "        vertical-align: middle;\n",
       "    }\n",
       "\n",
       "    .dataframe tbody tr th {\n",
       "        vertical-align: top;\n",
       "    }\n",
       "\n",
       "    .dataframe thead th {\n",
       "        text-align: right;\n",
       "    }\n",
       "</style>\n",
       "<table border=\"1\" class=\"dataframe\">\n",
       "  <thead>\n",
       "    <tr style=\"text-align: right;\">\n",
       "      <th></th>\n",
       "      <th>user_id</th>\n",
       "      <th>event_dt</th>\n",
       "      <th>event_name</th>\n",
       "      <th>details</th>\n",
       "    </tr>\n",
       "  </thead>\n",
       "  <tbody>\n",
       "    <tr>\n",
       "      <th>0</th>\n",
       "      <td>GLOBAL</td>\n",
       "      <td>2020-12-01 00:00:00</td>\n",
       "      <td>End of Black Friday Ads Campaign</td>\n",
       "      <td>ZONE_CODE15</td>\n",
       "    </tr>\n",
       "    <tr>\n",
       "      <th>1</th>\n",
       "      <td>CCBE9E7E99F94A08</td>\n",
       "      <td>2020-12-01 00:00:11</td>\n",
       "      <td>registration</td>\n",
       "      <td>0.0</td>\n",
       "    </tr>\n",
       "    <tr>\n",
       "      <th>2</th>\n",
       "      <td>GLOBAL</td>\n",
       "      <td>2020-12-01 00:00:25</td>\n",
       "      <td>product_page</td>\n",
       "      <td>NaN</td>\n",
       "    </tr>\n",
       "    <tr>\n",
       "      <th>3</th>\n",
       "      <td>CCBE9E7E99F94A08</td>\n",
       "      <td>2020-12-01 00:00:33</td>\n",
       "      <td>login</td>\n",
       "      <td>NaN</td>\n",
       "    </tr>\n",
       "    <tr>\n",
       "      <th>4</th>\n",
       "      <td>CCBE9E7E99F94A08</td>\n",
       "      <td>2020-12-01 00:00:52</td>\n",
       "      <td>product_page</td>\n",
       "      <td>NaN</td>\n",
       "    </tr>\n",
       "  </tbody>\n",
       "</table>\n",
       "</div>"
      ],
      "text/plain": [
       "            user_id            event_dt                        event_name  \\\n",
       "0            GLOBAL 2020-12-01 00:00:00  End of Black Friday Ads Campaign   \n",
       "1  CCBE9E7E99F94A08 2020-12-01 00:00:11                      registration   \n",
       "2            GLOBAL 2020-12-01 00:00:25                      product_page   \n",
       "3  CCBE9E7E99F94A08 2020-12-01 00:00:33                             login   \n",
       "4  CCBE9E7E99F94A08 2020-12-01 00:00:52                      product_page   \n",
       "\n",
       "       details  \n",
       "0  ZONE_CODE15  \n",
       "1          0.0  \n",
       "2          NaN  \n",
       "3          NaN  \n",
       "4          NaN  "
      ]
     },
     "execution_count": 11,
     "metadata": {},
     "output_type": "execute_result"
    }
   ],
   "source": [
    "events.info()\n",
    "events.head()"
   ]
  },
  {
   "cell_type": "markdown",
   "id": "f8bc047e",
   "metadata": {},
   "source": [
    "*Описание данных*:\n",
    "\n",
    "https://code.s3.yandex.net/datasets/ab_test_participants.csv — таблица участников тестов.\n",
    "\n",
    "Структура файла:\n",
    "- user_id — идентификатор пользователя;\n",
    "- group — группа пользователя;\n",
    "- ab_test — название теста;\n",
    "- device — устройство, с которого происходила регистрация.\n",
    "\n",
    "https://code.s3.yandex.net/datasets/ab_test_events.zip — архив с одним csv-файлом, в котором собраны события 2020 года;\n",
    "\n",
    "Структура файла:\n",
    "- user_id — идентификатор пользователя;\n",
    "- event_dt — дата и время события;\n",
    "- event_name — тип события;\n",
    "- details — дополнительные данные о событии.\n",
    "\n",
    "Дополнительная информация по столбцу `details`\n",
    "\n",
    "\n",
    "Числовые значения:\n",
    "\n",
    "\n",
    "•\tregistration (регистрация) — стоимость привлечения клиента;  \n",
    "\n",
    "•\tpurchase (покупка) — стоимость покупки.\n"
   ]
  },
  {
   "cell_type": "markdown",
   "id": "789a8cc3",
   "metadata": {},
   "source": [
    "В данных практически нет пропусков, пропуски в таблице с событиями в столбце  details  - допустимы, это лишь дополнительные данные о событии.  \n",
    "Необходимо проверить также дубликаты и удалить их.\n"
   ]
  },
  {
   "cell_type": "code",
   "execution_count": 12,
   "id": "2323a4df",
   "metadata": {},
   "outputs": [
    {
     "data": {
      "text/plain": [
       "0"
      ]
     },
     "execution_count": 12,
     "metadata": {},
     "output_type": "execute_result"
    }
   ],
   "source": [
    "participants.duplicated(subset=['user_id', 'ab_test', 'group'], keep='first').sum()"
   ]
  },
  {
   "cell_type": "code",
   "execution_count": 13,
   "id": "8004d3f7",
   "metadata": {},
   "outputs": [
    {
     "data": {
      "text/plain": [
       "39510"
      ]
     },
     "execution_count": 13,
     "metadata": {},
     "output_type": "execute_result"
    }
   ],
   "source": [
    "events.duplicated(subset=['user_id', 'event_dt', 'event_name'], keep='first').sum()"
   ]
  },
  {
   "cell_type": "markdown",
   "id": "be0c07ca",
   "metadata": {},
   "source": [
    "Дулбикаты отсутствуют среди участников, но есть среди событий, удалим их."
   ]
  },
  {
   "cell_type": "code",
   "execution_count": 14,
   "id": "a188bddc",
   "metadata": {},
   "outputs": [],
   "source": [
    "# удаляем дубликаты\n",
    "events=events.drop_duplicates(subset=['user_id', 'event_dt', 'event_name'], keep='first')\n"
   ]
  },
  {
   "cell_type": "code",
   "execution_count": 15,
   "id": "3347f13f",
   "metadata": {},
   "outputs": [
    {
     "name": "stdout",
     "output_type": "stream",
     "text": [
      "<class 'pandas.core.frame.DataFrame'>\n",
      "Int64Index: 747776 entries, 0 to 787285\n",
      "Data columns (total 4 columns):\n",
      " #   Column      Non-Null Count   Dtype         \n",
      "---  ------      --------------   -----         \n",
      " 0   user_id     747776 non-null  object        \n",
      " 1   event_dt    747776 non-null  datetime64[ns]\n",
      " 2   event_name  747776 non-null  object        \n",
      " 3   details     241713 non-null  object        \n",
      "dtypes: datetime64[ns](1), object(3)\n",
      "memory usage: 28.5+ MB\n"
     ]
    }
   ],
   "source": [
    "events.info()"
   ]
  },
  {
   "cell_type": "markdown",
   "id": "CnzA-efasUrk",
   "metadata": {
    "id": "CnzA-efasUrk"
   },
   "source": [
    "## 3. По таблице `ab_test_participants` оцените корректность проведения теста:\n",
    "\n",
    "   3\\.1 Выделите пользователей, участвующих в тесте, и проверьте:\n",
    "\n",
    "   - соответствие требованиям технического задания,\n",
    "\n",
    "   - равномерность распределения пользователей по группам теста,\n",
    "\n",
    "   - отсутствие пересечений с конкурирующим тестом (нет пользователей, участвующих одновременно в двух тестовых группах)."
   ]
  },
  {
   "cell_type": "code",
   "execution_count": 16,
   "id": "aNa3zHrKslEN",
   "metadata": {
    "id": "aNa3zHrKslEN",
    "scrolled": true
   },
   "outputs": [
    {
     "name": "stdout",
     "output_type": "stream",
     "text": [
      "Всего пользователей в тесте interface_eu_test: 10850\n"
     ]
    }
   ],
   "source": [
    "all_test_users = participants[participants['ab_test'] == 'interface_eu_test']\n",
    "print(f\"Всего пользователей в тесте interface_eu_test: {all_test_users.shape[0]}\")"
   ]
  },
  {
   "cell_type": "code",
   "execution_count": 17,
   "id": "ce8c4ec5",
   "metadata": {},
   "outputs": [
    {
     "data": {
      "text/html": [
       "<div>\n",
       "<style scoped>\n",
       "    .dataframe tbody tr th:only-of-type {\n",
       "        vertical-align: middle;\n",
       "    }\n",
       "\n",
       "    .dataframe tbody tr th {\n",
       "        vertical-align: top;\n",
       "    }\n",
       "\n",
       "    .dataframe thead th {\n",
       "        text-align: right;\n",
       "    }\n",
       "</style>\n",
       "<table border=\"1\" class=\"dataframe\">\n",
       "  <thead>\n",
       "    <tr style=\"text-align: right;\">\n",
       "      <th></th>\n",
       "      <th>user_id</th>\n",
       "      <th>group</th>\n",
       "      <th>ab_test</th>\n",
       "      <th>device</th>\n",
       "    </tr>\n",
       "  </thead>\n",
       "  <tbody>\n",
       "    <tr>\n",
       "      <th>0</th>\n",
       "      <td>0002CE61FF2C4011</td>\n",
       "      <td>B</td>\n",
       "      <td>interface_eu_test</td>\n",
       "      <td>Mac</td>\n",
       "    </tr>\n",
       "    <tr>\n",
       "      <th>2</th>\n",
       "      <td>001064FEAAB631A1</td>\n",
       "      <td>A</td>\n",
       "      <td>interface_eu_test</td>\n",
       "      <td>Android</td>\n",
       "    </tr>\n",
       "    <tr>\n",
       "      <th>4</th>\n",
       "      <td>001E72F50D1C48FA</td>\n",
       "      <td>A</td>\n",
       "      <td>interface_eu_test</td>\n",
       "      <td>Mac</td>\n",
       "    </tr>\n",
       "    <tr>\n",
       "      <th>5</th>\n",
       "      <td>002412F1EB3F6E38</td>\n",
       "      <td>B</td>\n",
       "      <td>interface_eu_test</td>\n",
       "      <td>Mac</td>\n",
       "    </tr>\n",
       "    <tr>\n",
       "      <th>6</th>\n",
       "      <td>002540BE89C930FB</td>\n",
       "      <td>B</td>\n",
       "      <td>interface_eu_test</td>\n",
       "      <td>Android</td>\n",
       "    </tr>\n",
       "    <tr>\n",
       "      <th>...</th>\n",
       "      <td>...</td>\n",
       "      <td>...</td>\n",
       "      <td>...</td>\n",
       "      <td>...</td>\n",
       "    </tr>\n",
       "    <tr>\n",
       "      <th>14519</th>\n",
       "      <td>FFE600EEC4BA7685</td>\n",
       "      <td>B</td>\n",
       "      <td>interface_eu_test</td>\n",
       "      <td>Android</td>\n",
       "    </tr>\n",
       "    <tr>\n",
       "      <th>14520</th>\n",
       "      <td>FFE7FC140521F5F6</td>\n",
       "      <td>A</td>\n",
       "      <td>interface_eu_test</td>\n",
       "      <td>PC</td>\n",
       "    </tr>\n",
       "    <tr>\n",
       "      <th>14521</th>\n",
       "      <td>FFEFC0E55C1CCD4F</td>\n",
       "      <td>A</td>\n",
       "      <td>interface_eu_test</td>\n",
       "      <td>PC</td>\n",
       "    </tr>\n",
       "    <tr>\n",
       "      <th>14523</th>\n",
       "      <td>FFF28D02B1EACBE1</td>\n",
       "      <td>B</td>\n",
       "      <td>interface_eu_test</td>\n",
       "      <td>PC</td>\n",
       "    </tr>\n",
       "    <tr>\n",
       "      <th>14524</th>\n",
       "      <td>FFF58BC33966EB51</td>\n",
       "      <td>A</td>\n",
       "      <td>interface_eu_test</td>\n",
       "      <td>Android</td>\n",
       "    </tr>\n",
       "  </tbody>\n",
       "</table>\n",
       "<p>10850 rows × 4 columns</p>\n",
       "</div>"
      ],
      "text/plain": [
       "                user_id group            ab_test   device\n",
       "0      0002CE61FF2C4011     B  interface_eu_test      Mac\n",
       "2      001064FEAAB631A1     A  interface_eu_test  Android\n",
       "4      001E72F50D1C48FA     A  interface_eu_test      Mac\n",
       "5      002412F1EB3F6E38     B  interface_eu_test      Mac\n",
       "6      002540BE89C930FB     B  interface_eu_test  Android\n",
       "...                 ...   ...                ...      ...\n",
       "14519  FFE600EEC4BA7685     B  interface_eu_test  Android\n",
       "14520  FFE7FC140521F5F6     A  interface_eu_test       PC\n",
       "14521  FFEFC0E55C1CCD4F     A  interface_eu_test       PC\n",
       "14523  FFF28D02B1EACBE1     B  interface_eu_test       PC\n",
       "14524  FFF58BC33966EB51     A  interface_eu_test  Android\n",
       "\n",
       "[10850 rows x 4 columns]"
      ]
     },
     "execution_count": 17,
     "metadata": {},
     "output_type": "execute_result"
    }
   ],
   "source": [
    "all_test_users"
   ]
  },
  {
   "cell_type": "code",
   "execution_count": 18,
   "id": "b21df19f",
   "metadata": {
    "scrolled": true
   },
   "outputs": [
    {
     "data": {
      "text/html": [
       "<div>\n",
       "<style scoped>\n",
       "    .dataframe tbody tr th:only-of-type {\n",
       "        vertical-align: middle;\n",
       "    }\n",
       "\n",
       "    .dataframe tbody tr th {\n",
       "        vertical-align: top;\n",
       "    }\n",
       "\n",
       "    .dataframe thead th {\n",
       "        text-align: right;\n",
       "    }\n",
       "</style>\n",
       "<table border=\"1\" class=\"dataframe\">\n",
       "  <thead>\n",
       "    <tr style=\"text-align: right;\">\n",
       "      <th></th>\n",
       "      <th>group</th>\n",
       "      <th>user_id</th>\n",
       "    </tr>\n",
       "  </thead>\n",
       "  <tbody>\n",
       "    <tr>\n",
       "      <th>0</th>\n",
       "      <td>A</td>\n",
       "      <td>5383</td>\n",
       "    </tr>\n",
       "    <tr>\n",
       "      <th>1</th>\n",
       "      <td>B</td>\n",
       "      <td>5467</td>\n",
       "    </tr>\n",
       "  </tbody>\n",
       "</table>\n",
       "</div>"
      ],
      "text/plain": [
       "  group  user_id\n",
       "0     A     5383\n",
       "1     B     5467"
      ]
     },
     "execution_count": 18,
     "metadata": {},
     "output_type": "execute_result"
    }
   ],
   "source": [
    "gr_test_users=all_test_users.groupby('group')['user_id'].nunique().reset_index()\n",
    "gr_test_users\n",
    "    "
   ]
  },
  {
   "cell_type": "code",
   "execution_count": 19,
   "id": "7a203261",
   "metadata": {
    "scrolled": true
   },
   "outputs": [
    {
     "data": {
      "text/plain": [
       "Text(0, 0.5, '')"
      ]
     },
     "execution_count": 19,
     "metadata": {},
     "output_type": "execute_result"
    },
    {
     "data": {
      "image/png": "[encoded data removed]",
      "text/plain": [
       "<Figure size 432x288 with 1 Axes>"
      ]
     },
     "metadata": {},
     "output_type": "display_data"
    }
   ],
   "source": [
    "gr_test_users['user_id'].plot(\n",
    "    kind='pie',  # Тип графика — круговая диаграмма\n",
    "    autopct='%1.1f%%',  # Формат отображения процентов\n",
    "    startangle=90,  # Начальный угол\n",
    "    colors=['green', 'red'],  # Цвета секторов\n",
    "    legend=False,  # Выключаем легенду\n",
    "    labels=['Группа A','Группа B'])\n",
    "\n",
    "# Настраиваем оформление графика\n",
    "plt.title('Разница по количеству пользователей между группами A и B')\n",
    "plt.ylabel('') "
   ]
  },
  {
   "cell_type": "markdown",
   "id": "037a8f11",
   "metadata": {},
   "source": [
    "В группах равное примерно количество пользователей, на диаграмме наглядно видно, что и процентое отношение примерно 50 на 50."
   ]
  },
  {
   "cell_type": "markdown",
   "id": "GjulgSrlsqUU",
   "metadata": {
    "id": "GjulgSrlsqUU"
   },
   "source": [
    "3\\.2 Проанализируйте данные о пользовательской активности по таблице `ab_test_events`:\n",
    "\n",
    "- оставьте только события, связанные с участвующими в изучаемом тесте пользователями;"
   ]
  },
  {
   "cell_type": "code",
   "execution_count": 20,
   "id": "QMt0Ybo_swDK",
   "metadata": {
    "id": "QMt0Ybo_swDK",
    "scrolled": true
   },
   "outputs": [
    {
     "data": {
      "text/html": [
       "<div>\n",
       "<style scoped>\n",
       "    .dataframe tbody tr th:only-of-type {\n",
       "        vertical-align: middle;\n",
       "    }\n",
       "\n",
       "    .dataframe tbody tr th {\n",
       "        vertical-align: top;\n",
       "    }\n",
       "\n",
       "    .dataframe thead th {\n",
       "        text-align: right;\n",
       "    }\n",
       "</style>\n",
       "<table border=\"1\" class=\"dataframe\">\n",
       "  <thead>\n",
       "    <tr style=\"text-align: right;\">\n",
       "      <th></th>\n",
       "      <th>user_id</th>\n",
       "      <th>event_dt</th>\n",
       "      <th>event_name</th>\n",
       "      <th>details</th>\n",
       "      <th>group</th>\n",
       "    </tr>\n",
       "  </thead>\n",
       "  <tbody>\n",
       "    <tr>\n",
       "      <th>0</th>\n",
       "      <td>5F506CEBEDC05D30</td>\n",
       "      <td>2020-12-06 14:10:01</td>\n",
       "      <td>registration</td>\n",
       "      <td>0.0</td>\n",
       "      <td>A</td>\n",
       "    </tr>\n",
       "    <tr>\n",
       "      <th>1</th>\n",
       "      <td>51278A006E918D97</td>\n",
       "      <td>2020-12-06 14:37:25</td>\n",
       "      <td>registration</td>\n",
       "      <td>-3.8</td>\n",
       "      <td>A</td>\n",
       "    </tr>\n",
       "    <tr>\n",
       "      <th>2</th>\n",
       "      <td>A0C1E8EFAD874D8B</td>\n",
       "      <td>2020-12-06 17:20:22</td>\n",
       "      <td>registration</td>\n",
       "      <td>-3.32</td>\n",
       "      <td>B</td>\n",
       "    </tr>\n",
       "    <tr>\n",
       "      <th>3</th>\n",
       "      <td>275A8D6254ACF530</td>\n",
       "      <td>2020-12-06 19:36:54</td>\n",
       "      <td>registration</td>\n",
       "      <td>-0.48</td>\n",
       "      <td>A</td>\n",
       "    </tr>\n",
       "    <tr>\n",
       "      <th>4</th>\n",
       "      <td>0B704EB2DC7FCA4B</td>\n",
       "      <td>2020-12-06 19:42:20</td>\n",
       "      <td>registration</td>\n",
       "      <td>0.0</td>\n",
       "      <td>B</td>\n",
       "    </tr>\n",
       "  </tbody>\n",
       "</table>\n",
       "</div>"
      ],
      "text/plain": [
       "            user_id            event_dt    event_name details group\n",
       "0  5F506CEBEDC05D30 2020-12-06 14:10:01  registration     0.0     A\n",
       "1  51278A006E918D97 2020-12-06 14:37:25  registration    -3.8     A\n",
       "2  A0C1E8EFAD874D8B 2020-12-06 17:20:22  registration   -3.32     B\n",
       "3  275A8D6254ACF530 2020-12-06 19:36:54  registration   -0.48     A\n",
       "4  0B704EB2DC7FCA4B 2020-12-06 19:42:20  registration     0.0     B"
      ]
     },
     "execution_count": 20,
     "metadata": {},
     "output_type": "execute_result"
    }
   ],
   "source": [
    "# сформируем датафрейм, где события будут только по тем пользователям, которые участвуют в interface_eu_test\n",
    "test_events = events[events['user_id'].isin(all_test_users['user_id'])]\n",
    "\n",
    "# присоединяем данные с участвующими в изучаемом тесте пользователями\n",
    "test_events_gr = test_events.merge(all_test_users[['user_id', 'group']], on='user_id', how='left')\n",
    "test_events_gr.head()\n"
   ]
  },
  {
   "cell_type": "code",
   "execution_count": 21,
   "id": "f1197393",
   "metadata": {
    "scrolled": true
   },
   "outputs": [
    {
     "data": {
      "text/plain": [
       "Text(0, 0.5, '')"
      ]
     },
     "execution_count": 21,
     "metadata": {},
     "output_type": "execute_result"
    },
    {
     "data": {
      "image/png": "[encoded data removed]",
      "text/plain": [
       "<Figure size 432x288 with 1 Axes>"
      ]
     },
     "metadata": {},
     "output_type": "display_data"
    }
   ],
   "source": [
    "test_events_gr ['group']. value_counts().plot(\n",
    "    kind='pie',  # Тип графика — круговая диаграмма\n",
    "    autopct='%1.1f%%',  # Формат отображения процентов\n",
    "    startangle=90,  # Начальный угол\n",
    "    colors=['green', 'red'],  # Цвета секторов\n",
    "    legend=False,  # Выключаем легенду\n",
    "    labels=['Группа A','Группа B'])\n",
    "\n",
    "# Настраиваем оформление графика\n",
    "plt.title('Разница по количеству событий между группами A и B')\n",
    "plt.ylabel('') "
   ]
  },
  {
   "cell_type": "markdown",
   "id": "b2d95955",
   "metadata": {},
   "source": [
    "По количеству событий также примерно равное распределение."
   ]
  },
  {
   "cell_type": "markdown",
   "id": "fBZ4DC2xswZJ",
   "metadata": {
    "id": "fBZ4DC2xswZJ"
   },
   "source": [
    "- определите горизонт анализа: рассчитайте время (лайфтайм) совершения события пользователем после регистрации и оставьте только те события, которые были выполнены в течение первых семи дней с момента регистрации;"
   ]
  },
  {
   "cell_type": "code",
   "execution_count": 22,
   "id": "cf1f67a0",
   "metadata": {},
   "outputs": [
    {
     "name": "stdout",
     "output_type": "stream",
     "text": [
      "Количество событий в течение первых 7 дней: 65077\n"
     ]
    }
   ],
   "source": [
    "# формируем отдельный датафреймы, где будут только пользователи с датой регистрации (где есть событие \"регистрация\")\n",
    "reg = test_events[test_events['event_name'] == 'registration'][['user_id', 'event_dt']]\n",
    "# меняем наименование столбца на registration_dt, чтобы в дальнейшем использовать в формуле\n",
    "reg.rename(columns={'event_dt': 'registration_dt'}, inplace=True)\n",
    "# присоединяем столбец с датой регистрации\n",
    "test_events_reg = test_events.merge(reg, on='user_id', how='left')\n",
    "\n",
    "# считаем лайфтайм с использованием нового столбца в днях\n",
    "test_events_reg['lifetime'] = (test_events_reg['event_dt'] - test_events_reg['registration_dt']).dt.days\n",
    "\n",
    "# оставиляем только те события, которые произошли в течение первых 7 дней после регистрации\n",
    "test_events_reg_7 = test_events_reg[(test_events_reg['lifetime'] >= 0) & (test_events_reg['lifetime'] <= 7)]\n",
    "\n",
    "print(f\"Количество событий в течение первых 7 дней: {test_events_reg_7.shape[0]}\")"
   ]
  },
  {
   "cell_type": "code",
   "execution_count": 23,
   "id": "2db03dc7",
   "metadata": {},
   "outputs": [
    {
     "data": {
      "text/plain": [
       "B    33188\n",
       "A    31889\n",
       "Name: group, dtype: int64"
      ]
     },
     "execution_count": 23,
     "metadata": {},
     "output_type": "execute_result"
    }
   ],
   "source": [
    "test_events_reg_7 = test_events_reg_7.merge(all_test_users[['user_id', 'group']], on='user_id', how='left')\n",
    "test_events_reg_7['group']. value_counts()"
   ]
  },
  {
   "cell_type": "code",
   "execution_count": 24,
   "id": "sES4-dKts0Yb",
   "metadata": {
    "id": "sES4-dKts0Yb",
    "scrolled": true
   },
   "outputs": [
    {
     "data": {
      "text/plain": [
       "Text(0, 0.5, '')"
      ]
     },
     "execution_count": 24,
     "metadata": {},
     "output_type": "execute_result"
    },
    {
     "data": {
      "image/png": "[encoded data removed]",
      "text/plain": [
       "<Figure size 432x288 with 1 Axes>"
      ]
     },
     "metadata": {},
     "output_type": "display_data"
    }
   ],
   "source": [
    "test_events_reg_7['group']. value_counts().plot(\n",
    "    kind='pie',  # Тип графика — круговая диаграмма\n",
    "    autopct='%1.1f%%',  # Формат отображения процентов\n",
    "    startangle=90,  # Начальный угол\n",
    "    colors=['green', 'red'],  # Цвета секторов\n",
    "    legend=False,  # Выключаем легенду\n",
    "    labels=['Группа A','Группа B'])\n",
    "\n",
    "# Настраиваем оформление графика\n",
    "plt.title('Разница по количеству событий между группами A и B в течение 7 дней после регистрации')\n",
    "plt.ylabel('') "
   ]
  },
  {
   "cell_type": "code",
   "execution_count": 25,
   "id": "3f78fc91",
   "metadata": {
    "scrolled": true
   },
   "outputs": [
    {
     "data": {
      "image/png": "[encoded data removed]",
      "text/plain": [
       "<Figure size 432x288 with 1 Axes>"
      ]
     },
     "metadata": {
      "needs_background": "light"
     },
     "output_type": "display_data"
    }
   ],
   "source": [
    "test_events_reg_7['lifetime'].value_counts().plot(\n",
    "    kind='bar', color = 'green')\n",
    "# Настройка графика\n",
    "plt.title('Распределение лайфтайма (в днях)')\n",
    "plt.xlabel('Количество дней')\n",
    "plt.ylabel('Количество событий')\n",
    "plt.xticks(rotation=45)  # Поворот меток по оси X для лучшей читаемости\n",
    "plt.grid()\n",
    "\n",
    "plt.show()"
   ]
  },
  {
   "cell_type": "code",
   "execution_count": 26,
   "id": "54a9d224",
   "metadata": {},
   "outputs": [
    {
     "data": {
      "text/plain": [
       "0    37300\n",
       "1     8084\n",
       "2     5532\n",
       "3     4100\n",
       "4     3209\n",
       "5     2720\n",
       "6     2203\n",
       "7     1929\n",
       "Name: lifetime, dtype: int64"
      ]
     },
     "execution_count": 26,
     "metadata": {},
     "output_type": "execute_result"
    }
   ],
   "source": [
    "test_events_reg_7['lifetime'].value_counts()"
   ]
  },
  {
   "cell_type": "markdown",
   "id": "7cf1df48",
   "metadata": {},
   "source": [
    "Оцените достаточность выборки для получения статистически значимых результатов A/B-теста. Заданные параметры:\n",
    "\n",
    "- базовый показатель конверсии — 30%,\n",
    "\n",
    "- мощность теста — 80%,\n",
    "\n",
    "- достоверность теста — 95%."
   ]
  },
  {
   "cell_type": "code",
   "execution_count": 27,
   "id": "7d97b466",
   "metadata": {
    "scrolled": true
   },
   "outputs": [
    {
     "name": "stdout",
     "output_type": "stream",
     "text": [
      "Минимальный размер выборки для каждой группы: 3761\n",
      "Общий размер выборки: 7523\n"
     ]
    }
   ],
   "source": [
    "from statsmodels.stats.power import NormalIndPower\n",
    "from statsmodels.stats.proportion import proportion_effectsize\n",
    "\n",
    "base_conversion_rate = 0.3  \n",
    "mde = 0.1  \n",
    "alpha = 0.05  \n",
    "power = 0.8 \n",
    "\n",
    "new_conversion_rate = base_conversion_rate * (1 + mde)\n",
    "\n",
    "effect_size = proportion_effectsize(base_conversion_rate, new_conversion_rate)\n",
    "\n",
    "power_analysis = NormalIndPower()\n",
    "sample_size_per_group = power_analysis.solve_power(\n",
    "    effect_size=effect_size,\n",
    "    alpha=alpha,\n",
    "    power=power,\n",
    "    ratio=1\n",
    ")\n",
    "\n",
    "total_sample_size = sample_size_per_group * 2\n",
    "\n",
    "print(f\"Минимальный размер выборки для каждой группы: {int(sample_size_per_group)}\")\n",
    "print(f\"Общий размер выборки: {int(total_sample_size)}\")\n"
   ]
  },
  {
   "cell_type": "markdown",
   "id": "13327620",
   "metadata": {},
   "source": [
    "У нас по количеству событий выборка составляет в группах А и B  - 31889 и 33188 соответсвенно. \n",
    "ПО количеству участиков выборка  по группе A\t- 5383, по группе B - 5467.\n",
    "\n",
    "\n",
    "Значит,  выборка достаточна для проведения теста. "
   ]
  },
  {
   "cell_type": "markdown",
   "id": "SadyUDgZs0t3",
   "metadata": {
    "id": "SadyUDgZs0t3"
   },
   "source": [
    "- рассчитайте для каждой группы количество посетителей, сделавших покупку, и общее количество посетителей."
   ]
  },
  {
   "cell_type": "code",
   "execution_count": 28,
   "id": "7ph853Xks4sy",
   "metadata": {
    "id": "7ph853Xks4sy",
    "scrolled": true
   },
   "outputs": [
    {
     "data": {
      "text/html": [
       "<div>\n",
       "<style scoped>\n",
       "    .dataframe tbody tr th:only-of-type {\n",
       "        vertical-align: middle;\n",
       "    }\n",
       "\n",
       "    .dataframe tbody tr th {\n",
       "        vertical-align: top;\n",
       "    }\n",
       "\n",
       "    .dataframe thead th {\n",
       "        text-align: right;\n",
       "    }\n",
       "</style>\n",
       "<table border=\"1\" class=\"dataframe\">\n",
       "  <thead>\n",
       "    <tr style=\"text-align: right;\">\n",
       "      <th></th>\n",
       "      <th>group</th>\n",
       "      <th>total_count_users</th>\n",
       "      <th>purchasers</th>\n",
       "      <th>conv</th>\n",
       "    </tr>\n",
       "  </thead>\n",
       "  <tbody>\n",
       "    <tr>\n",
       "      <th>0</th>\n",
       "      <td>A</td>\n",
       "      <td>5383</td>\n",
       "      <td>1766</td>\n",
       "      <td>0.32807</td>\n",
       "    </tr>\n",
       "    <tr>\n",
       "      <th>1</th>\n",
       "      <td>B</td>\n",
       "      <td>5467</td>\n",
       "      <td>1931</td>\n",
       "      <td>0.35321</td>\n",
       "    </tr>\n",
       "  </tbody>\n",
       "</table>\n",
       "</div>"
      ],
      "text/plain": [
       "  group  total_count_users  purchasers     conv\n",
       "0     A               5383        1766  0.32807\n",
       "1     B               5467        1931  0.35321"
      ]
     },
     "execution_count": 28,
     "metadata": {},
     "output_type": "execute_result"
    }
   ],
   "source": [
    "# формируем отдельный датафреймы, где будут только покупатели ('purchase')\n",
    "purchasers = test_events_gr[test_events_gr['event_name'] == 'purchase']['user_id'].unique()\n",
    "# присоединяем данные по всем пользователям - только тех, кто сделал покупку те, кто есть в датафрейме purchasers\n",
    "test_purchase = all_test_users.copy()\n",
    "test_purchase['made_purchase'] = test_purchase['user_id'].isin(purchasers)\n",
    "# группируем данные\n",
    "grouped_test_purchase = test_purchase.groupby('group').agg(\n",
    "    total_count_users=('user_id', 'nunique'),\n",
    "    purchasers=('made_purchase', 'sum')\n",
    ").reset_index()\n",
    "# посчитаем конверсию в покупку\n",
    "grouped_test_purchase['conv']=grouped_test_purchase['purchasers']/grouped_test_purchase['total_count_users']\n",
    "grouped_test_purchase"
   ]
  },
  {
   "cell_type": "markdown",
   "id": "sh1JpGvAs5E3",
   "metadata": {
    "id": "sh1JpGvAs5E3"
   },
   "source": [
    "- сделайте предварительный общий вывод об изменении пользовательской активности в тестовой группе по сравнению с контрольной."
   ]
  },
  {
   "cell_type": "markdown",
   "id": "9bb4da05",
   "metadata": {
    "id": "hHTHPkJYs8mE"
   },
   "source": [
    "По количеству числа пользователей контрольная группа А (3583) меньше тестовой группы В (5467), как и по числу покупателей. Покупателей в тестовой группе В больше на 165 пользователей. То же самое происходит с конверсией: в контрольной группе A конверсия составляет 32.81%, в тестовой группе B конверсия выше на 2.51% (35.32%).\n",
    "\n",
    "Таким, образом, новый интерфейс положительно влияет на пользовательскую активность и способствует увеличению числа покупок."
   ]
  },
  {
   "cell_type": "markdown",
   "id": "IKZ1Oo3Ws919",
   "metadata": {
    "id": "IKZ1Oo3Ws919"
   },
   "source": [
    "## 4. Проведите оценку результатов A/B-тестирования:"
   ]
  },
  {
   "cell_type": "markdown",
   "id": "dcUdBSmvtC-E",
   "metadata": {
    "id": "dcUdBSmvtC-E"
   },
   "source": [
    "- Проверьте изменение конверсии подходящим статистическим тестом, учитывая все этапы проверки гипотез."
   ]
  },
  {
   "cell_type": "markdown",
   "id": "2f1d8848",
   "metadata": {},
   "source": [
    "Будем использовать z-тест. Новый интерфейс - это группа B, значит проверяем нулевую гипотезу, что конверсия в группе В равна или меньше контрольной группы А.\n",
    "Альтернативная гипотеза: в тестовой группе В конверсия выше, чем в группе А (аlternative='larger').\n",
    "\n",
    "H₀: p_B ≤ p_A\n",
    "H₁: p_B > p_A\n",
    "\n"
   ]
  },
  {
   "cell_type": "code",
   "execution_count": 29,
   "id": "l_KOziBQtL3t",
   "metadata": {
    "id": "l_KOziBQtL3t"
   },
   "outputs": [
    {
     "name": "stdout",
     "output_type": "stream",
     "text": [
      "Z-статистика: 2.76\n",
      "P-value: 0.0029\n",
      "Отвергаем нулевую гипотезу. Различие в конверсии статистически значимо.\n"
     ]
    }
   ],
   "source": [
    "from statsmodels.stats.proportion import proportions_ztest\n",
    "\n",
    "success = [1931, 1766]  \n",
    "total_count_users = [5467, 5383]  \n",
    "\n",
    "z_stat, p_value = proportions_ztest(success, total_count_users, alternative='larger')\n",
    "alpha=0.05\n",
    "\n",
    "print(f\"Z-статистика: {z_stat:.2f}\")\n",
    "print(f\"P-value: {p_value:.4f}\")\n",
    "\n",
    "if p_value < alpha:\n",
    "    print(\"Отвергаем нулевую гипотезу. Различие в конверсии статистически значимо.\")\n",
    "else:\n",
    "    print(\"Не можем отвергнуть нулевую гипотезу. Различие в конверсии статистически незначимо.\")"
   ]
  },
  {
   "cell_type": "markdown",
   "id": "9jkyKOjgtGoc",
   "metadata": {
    "id": "9jkyKOjgtGoc"
   },
   "source": [
    "- Опишите выводы по проведённой оценке результатов A/B-тестирования. Что можно сказать про результаты A/B-тестирования? Был ли достигнут ожидаемый эффект в изменении конверсии?"
   ]
  },
  {
   "cell_type": "markdown",
   "id": "3be17163",
   "metadata": {},
   "source": [
    "P-value: 0.0029, что меньше уровня значимости α = 0.05. Отклоняем нулевую нулевую гипотезу. Различие в конверсии является статистически значимым.\n",
    "\n",
    "Рекомендуется внедрить новый интерфейс для всех пользователей, так как он значительно улучшает конверсию.\n",
    "\n",
    "Было заявлено, что в течение семи дней после регистрации в системе конверсия зарегистрированных пользователей в покупателей увеличится как минимум на три процентных пункта. По результатм исследования в тестовой группе B конверсия выше на 2.51% (при округлении на 3 процентных пункта и это различие статистически значимо.\n"
   ]
  }
 ],
 "metadata": {
  "ExecuteTimeLog": [
   {
    "duration": 1369,
    "start_time": "2025-05-04T15:41:22.737Z"
   },
   {
    "duration": 69,
    "start_time": "2025-05-04T15:43:30.182Z"
   },
   {
    "duration": 2,
    "start_time": "2025-05-04T15:44:11.829Z"
   },
   {
    "duration": 5,
    "start_time": "2025-05-04T15:55:39.129Z"
   },
   {
    "duration": 5,
    "start_time": "2025-05-04T15:57:22.967Z"
   },
   {
    "duration": 76,
    "start_time": "2025-05-04T15:57:26.053Z"
   },
   {
    "duration": 6,
    "start_time": "2025-05-04T15:57:33.079Z"
   },
   {
    "duration": 106,
    "start_time": "2025-05-04T15:57:57.793Z"
   },
   {
    "duration": 7,
    "start_time": "2025-05-04T15:58:22.476Z"
   },
   {
    "duration": 6,
    "start_time": "2025-05-04T16:00:44.695Z"
   },
   {
    "duration": 109,
    "start_time": "2025-05-04T16:01:15.780Z"
   },
   {
    "duration": 12,
    "start_time": "2025-05-04T16:03:39.787Z"
   },
   {
    "duration": 11,
    "start_time": "2025-05-04T16:03:52.751Z"
   },
   {
    "duration": 11,
    "start_time": "2025-05-04T16:04:07.422Z"
   },
   {
    "duration": 10,
    "start_time": "2025-05-04T16:04:48.034Z"
   },
   {
    "duration": 11,
    "start_time": "2025-05-04T16:04:53.500Z"
   },
   {
    "duration": 11,
    "start_time": "2025-05-04T16:05:02.063Z"
   },
   {
    "duration": 14,
    "start_time": "2025-05-04T16:06:07.999Z"
   },
   {
    "duration": 561,
    "start_time": "2025-05-04T16:07:00.817Z"
   },
   {
    "duration": 574,
    "start_time": "2025-05-04T16:07:30.392Z"
   },
   {
    "duration": 551,
    "start_time": "2025-05-04T16:07:43.410Z"
   },
   {
    "duration": 505,
    "start_time": "2025-05-04T16:07:54.528Z"
   },
   {
    "duration": 671,
    "start_time": "2025-05-04T16:08:17.981Z"
   },
   {
    "duration": 507,
    "start_time": "2025-05-04T16:08:50.152Z"
   },
   {
    "duration": 345,
    "start_time": "2025-05-04T16:09:03.282Z"
   },
   {
    "duration": 356,
    "start_time": "2025-05-04T16:09:59.993Z"
   },
   {
    "duration": 366,
    "start_time": "2025-05-04T16:10:44.255Z"
   },
   {
    "duration": 466,
    "start_time": "2025-05-04T16:11:54.163Z"
   },
   {
    "duration": 592,
    "start_time": "2025-05-04T16:12:00.854Z"
   },
   {
    "duration": 389,
    "start_time": "2025-05-04T16:12:17.567Z"
   },
   {
    "duration": 368,
    "start_time": "2025-05-04T16:12:55.756Z"
   },
   {
    "duration": 72,
    "start_time": "2025-05-04T16:16:37.819Z"
   },
   {
    "duration": 343,
    "start_time": "2025-05-04T16:20:31.962Z"
   },
   {
    "duration": 354,
    "start_time": "2025-05-04T16:20:39.585Z"
   },
   {
    "duration": 6,
    "start_time": "2025-05-04T16:29:35.325Z"
   },
   {
    "duration": 6,
    "start_time": "2025-05-04T16:32:33.184Z"
   },
   {
    "duration": 5,
    "start_time": "2025-05-04T16:32:44.735Z"
   },
   {
    "duration": 6,
    "start_time": "2025-05-04T16:37:35.762Z"
   },
   {
    "duration": 6,
    "start_time": "2025-05-04T16:38:01.346Z"
   },
   {
    "duration": 6,
    "start_time": "2025-05-04T16:38:54.757Z"
   },
   {
    "duration": 1555,
    "start_time": "2025-05-04T16:53:56.008Z"
   },
   {
    "duration": 19,
    "start_time": "2025-05-04T16:54:16.541Z"
   },
   {
    "duration": 126,
    "start_time": "2025-05-04T16:54:25.219Z"
   },
   {
    "duration": 170,
    "start_time": "2025-05-04T16:55:12.226Z"
   },
   {
    "duration": 11,
    "start_time": "2025-05-04T17:05:10.882Z"
   },
   {
    "duration": 248,
    "start_time": "2025-05-04T17:05:59.269Z"
   },
   {
    "duration": 293,
    "start_time": "2025-05-04T17:07:31.746Z"
   },
   {
    "duration": 309,
    "start_time": "2025-05-04T17:07:40.551Z"
   },
   {
    "duration": 17,
    "start_time": "2025-05-04T17:08:36.208Z"
   },
   {
    "duration": 119,
    "start_time": "2025-05-04T17:08:40.137Z"
   },
   {
    "duration": 11,
    "start_time": "2025-05-04T17:09:01.877Z"
   },
   {
    "duration": 245,
    "start_time": "2025-05-04T17:09:07.705Z"
   },
   {
    "duration": 1181,
    "start_time": "2025-05-04T17:10:36.181Z"
   },
   {
    "duration": 110,
    "start_time": "2025-05-04T17:10:37.364Z"
   },
   {
    "duration": 6,
    "start_time": "2025-05-04T17:10:37.475Z"
   },
   {
    "duration": 6,
    "start_time": "2025-05-04T17:10:37.482Z"
   },
   {
    "duration": 11,
    "start_time": "2025-05-04T17:10:37.490Z"
   },
   {
    "duration": 25,
    "start_time": "2025-05-04T17:10:37.502Z"
   },
   {
    "duration": 410,
    "start_time": "2025-05-04T17:10:37.539Z"
   },
   {
    "duration": 5,
    "start_time": "2025-05-04T17:10:37.951Z"
   },
   {
    "duration": 1521,
    "start_time": "2025-05-04T17:10:37.957Z"
   },
   {
    "duration": 18,
    "start_time": "2025-05-04T17:10:39.480Z"
   },
   {
    "duration": 139,
    "start_time": "2025-05-04T17:10:39.500Z"
   },
   {
    "duration": 10,
    "start_time": "2025-05-04T17:10:39.640Z"
   },
   {
    "duration": 305,
    "start_time": "2025-05-04T17:10:39.652Z"
   },
   {
    "duration": 72,
    "start_time": "2025-05-04T17:10:39.959Z"
   },
   {
    "duration": 0,
    "start_time": "2025-05-04T17:10:40.032Z"
   },
   {
    "duration": 1237,
    "start_time": "2025-05-04T17:10:53.924Z"
   },
   {
    "duration": 175,
    "start_time": "2025-05-04T17:10:55.163Z"
   },
   {
    "duration": 5,
    "start_time": "2025-05-04T17:10:55.340Z"
   },
   {
    "duration": 5,
    "start_time": "2025-05-04T17:10:55.347Z"
   },
   {
    "duration": 10,
    "start_time": "2025-05-04T17:10:55.354Z"
   },
   {
    "duration": 13,
    "start_time": "2025-05-04T17:10:55.366Z"
   },
   {
    "duration": 405,
    "start_time": "2025-05-04T17:10:55.381Z"
   },
   {
    "duration": 5,
    "start_time": "2025-05-04T17:10:55.788Z"
   },
   {
    "duration": 1491,
    "start_time": "2025-05-04T17:10:55.794Z"
   },
   {
    "duration": 18,
    "start_time": "2025-05-04T17:10:57.286Z"
   },
   {
    "duration": 136,
    "start_time": "2025-05-04T17:10:57.306Z"
   },
   {
    "duration": 10,
    "start_time": "2025-05-04T17:10:57.444Z"
   },
   {
    "duration": 351,
    "start_time": "2025-05-04T17:10:57.456Z"
   },
   {
    "duration": 350,
    "start_time": "2025-05-04T17:10:57.810Z"
   },
   {
    "duration": 291,
    "start_time": "2025-05-04T17:11:20.258Z"
   },
   {
    "duration": 114,
    "start_time": "2025-05-04T17:11:46.661Z"
   },
   {
    "duration": 102,
    "start_time": "2025-05-04T17:17:11.909Z"
   },
   {
    "duration": 7,
    "start_time": "2025-05-04T17:17:30.268Z"
   },
   {
    "duration": 98,
    "start_time": "2025-05-04T17:19:00.710Z"
   },
   {
    "duration": 19,
    "start_time": "2025-05-04T17:19:27.021Z"
   },
   {
    "duration": 10,
    "start_time": "2025-05-04T17:21:07.069Z"
   },
   {
    "duration": 9,
    "start_time": "2025-05-04T17:22:11.662Z"
   },
   {
    "duration": 12,
    "start_time": "2025-05-04T17:22:28.750Z"
   },
   {
    "duration": 10,
    "start_time": "2025-05-04T17:23:53.302Z"
   },
   {
    "duration": 12,
    "start_time": "2025-05-04T17:24:28.610Z"
   },
   {
    "duration": 91,
    "start_time": "2025-05-04T17:24:32.028Z"
   },
   {
    "duration": 123,
    "start_time": "2025-05-04T17:26:04.108Z"
   },
   {
    "duration": 119,
    "start_time": "2025-05-04T17:40:24.174Z"
   },
   {
    "duration": 86,
    "start_time": "2025-05-04T17:40:47.912Z"
   },
   {
    "duration": 81,
    "start_time": "2025-05-04T17:41:44.511Z"
   },
   {
    "duration": 84,
    "start_time": "2025-05-04T17:42:00.782Z"
   },
   {
    "duration": 113,
    "start_time": "2025-05-04T17:43:04.461Z"
   },
   {
    "duration": 101,
    "start_time": "2025-05-04T17:45:19.077Z"
   },
   {
    "duration": 82,
    "start_time": "2025-05-04T17:45:46.641Z"
   },
   {
    "duration": 102,
    "start_time": "2025-05-04T17:47:58.399Z"
   },
   {
    "duration": 397,
    "start_time": "2025-05-04T17:48:36.782Z"
   },
   {
    "duration": 10,
    "start_time": "2025-05-04T17:48:53.912Z"
   },
   {
    "duration": 91,
    "start_time": "2025-05-04T17:48:59.066Z"
   },
   {
    "duration": 87,
    "start_time": "2025-05-04T17:49:52.959Z"
   },
   {
    "duration": 103,
    "start_time": "2025-05-04T17:51:35.539Z"
   },
   {
    "duration": 13,
    "start_time": "2025-05-04T17:59:53.141Z"
   },
   {
    "duration": 18,
    "start_time": "2025-05-04T18:09:22.775Z"
   },
   {
    "duration": 17,
    "start_time": "2025-05-04T18:09:35.612Z"
   },
   {
    "duration": 16,
    "start_time": "2025-05-04T18:09:44.774Z"
   },
   {
    "duration": 1936,
    "start_time": "2025-05-04T18:15:48.250Z"
   },
   {
    "duration": 44,
    "start_time": "2025-05-04T18:16:24.712Z"
   },
   {
    "duration": 1537,
    "start_time": "2025-05-04T18:17:24.094Z"
   },
   {
    "duration": 117,
    "start_time": "2025-05-04T18:18:38.875Z"
   },
   {
    "duration": 46,
    "start_time": "2025-05-04T18:18:41.551Z"
   },
   {
    "duration": 43,
    "start_time": "2025-05-04T18:18:46.381Z"
   },
   {
    "duration": 120,
    "start_time": "2025-05-04T18:18:49.241Z"
   },
   {
    "duration": 1712,
    "start_time": "2025-05-04T18:20:40.405Z"
   },
   {
    "duration": 123,
    "start_time": "2025-05-04T18:20:46.016Z"
   },
   {
    "duration": 157,
    "start_time": "2025-05-04T18:25:00.616Z"
   },
   {
    "duration": 150,
    "start_time": "2025-05-04T18:25:29.215Z"
   },
   {
    "duration": 154,
    "start_time": "2025-05-04T18:26:14.568Z"
   },
   {
    "duration": 6,
    "start_time": "2025-05-04T18:27:17.835Z"
   },
   {
    "duration": 5,
    "start_time": "2025-05-04T18:27:49.258Z"
   },
   {
    "duration": 1905,
    "start_time": "2025-05-04T18:28:36.974Z"
   },
   {
    "duration": 50,
    "start_time": "2025-05-04T18:28:41.599Z"
   },
   {
    "duration": 1233,
    "start_time": "2025-05-04T18:28:48.330Z"
   },
   {
    "duration": 103,
    "start_time": "2025-05-04T18:28:49.565Z"
   },
   {
    "duration": 6,
    "start_time": "2025-05-04T18:28:49.669Z"
   },
   {
    "duration": 13,
    "start_time": "2025-05-04T18:28:49.676Z"
   },
   {
    "duration": 35,
    "start_time": "2025-05-04T18:28:49.691Z"
   },
   {
    "duration": 30,
    "start_time": "2025-05-04T18:28:49.728Z"
   },
   {
    "duration": 387,
    "start_time": "2025-05-04T18:28:49.760Z"
   },
   {
    "duration": 6,
    "start_time": "2025-05-04T18:28:50.149Z"
   },
   {
    "duration": 1632,
    "start_time": "2025-05-04T18:28:50.157Z"
   },
   {
    "duration": 19,
    "start_time": "2025-05-04T18:28:51.790Z"
   },
   {
    "duration": 140,
    "start_time": "2025-05-04T18:28:51.811Z"
   },
   {
    "duration": 12,
    "start_time": "2025-05-04T18:28:51.953Z"
   },
   {
    "duration": 293,
    "start_time": "2025-05-04T18:28:51.967Z"
   },
   {
    "duration": 326,
    "start_time": "2025-05-04T18:28:52.264Z"
   },
   {
    "duration": 119,
    "start_time": "2025-05-04T18:28:52.591Z"
   },
   {
    "duration": 7,
    "start_time": "2025-05-04T18:28:52.712Z"
   },
   {
    "duration": 26,
    "start_time": "2025-05-04T18:28:52.721Z"
   },
   {
    "duration": 28,
    "start_time": "2025-05-04T18:28:52.749Z"
   },
   {
    "duration": 114,
    "start_time": "2025-05-04T18:28:52.779Z"
   },
   {
    "duration": 110,
    "start_time": "2025-05-04T18:28:52.895Z"
   },
   {
    "duration": 102,
    "start_time": "2025-05-04T18:28:53.007Z"
   },
   {
    "duration": 55,
    "start_time": "2025-05-04T18:28:53.111Z"
   },
   {
    "duration": 34,
    "start_time": "2025-05-04T18:28:53.168Z"
   },
   {
    "duration": 113,
    "start_time": "2025-05-04T18:28:53.204Z"
   },
   {
    "duration": 175,
    "start_time": "2025-05-04T18:28:53.319Z"
   },
   {
    "duration": 1633,
    "start_time": "2025-05-04T18:29:53.552Z"
   },
   {
    "duration": 6,
    "start_time": "2025-05-04T18:30:09.940Z"
   },
   {
    "duration": 115,
    "start_time": "2025-05-04T18:37:50.990Z"
   },
   {
    "duration": 22,
    "start_time": "2025-05-04T18:37:57.808Z"
   },
   {
    "duration": 15,
    "start_time": "2025-05-04T18:38:38.706Z"
   },
   {
    "duration": 37,
    "start_time": "2025-05-04T18:48:15.356Z"
   },
   {
    "duration": 26,
    "start_time": "2025-05-04T18:49:00.464Z"
   },
   {
    "duration": 30,
    "start_time": "2025-05-04T18:51:48.243Z"
   },
   {
    "duration": 30,
    "start_time": "2025-05-04T18:55:52.267Z"
   },
   {
    "duration": 5,
    "start_time": "2025-05-04T19:05:32.376Z"
   },
   {
    "duration": 5,
    "start_time": "2025-05-04T19:06:06.260Z"
   },
   {
    "duration": 5,
    "start_time": "2025-05-04T19:08:48.596Z"
   },
   {
    "duration": 6,
    "start_time": "2025-05-04T19:13:31.498Z"
   },
   {
    "duration": 6,
    "start_time": "2025-05-04T19:18:27.803Z"
   },
   {
    "duration": 1212,
    "start_time": "2025-05-04T19:23:47.865Z"
   },
   {
    "duration": 63,
    "start_time": "2025-05-04T19:23:49.079Z"
   },
   {
    "duration": 5,
    "start_time": "2025-05-04T19:23:49.144Z"
   },
   {
    "duration": 8,
    "start_time": "2025-05-04T19:23:49.151Z"
   },
   {
    "duration": 18,
    "start_time": "2025-05-04T19:23:49.161Z"
   },
   {
    "duration": 20,
    "start_time": "2025-05-04T19:23:49.181Z"
   },
   {
    "duration": 373,
    "start_time": "2025-05-04T19:23:49.203Z"
   },
   {
    "duration": 6,
    "start_time": "2025-05-04T19:23:49.578Z"
   },
   {
    "duration": 1468,
    "start_time": "2025-05-04T19:23:49.585Z"
   },
   {
    "duration": 18,
    "start_time": "2025-05-04T19:23:51.055Z"
   },
   {
    "duration": 138,
    "start_time": "2025-05-04T19:23:51.075Z"
   },
   {
    "duration": 10,
    "start_time": "2025-05-04T19:23:51.214Z"
   },
   {
    "duration": 283,
    "start_time": "2025-05-04T19:23:51.225Z"
   },
   {
    "duration": 319,
    "start_time": "2025-05-04T19:23:51.511Z"
   },
   {
    "duration": 111,
    "start_time": "2025-05-04T19:23:51.831Z"
   },
   {
    "duration": 6,
    "start_time": "2025-05-04T19:23:51.943Z"
   },
   {
    "duration": 11,
    "start_time": "2025-05-04T19:23:51.951Z"
   },
   {
    "duration": 19,
    "start_time": "2025-05-04T19:23:51.963Z"
   },
   {
    "duration": 105,
    "start_time": "2025-05-04T19:23:51.983Z"
   },
   {
    "duration": 113,
    "start_time": "2025-05-04T19:23:52.090Z"
   },
   {
    "duration": 98,
    "start_time": "2025-05-04T19:23:52.205Z"
   },
   {
    "duration": 58,
    "start_time": "2025-05-04T19:23:52.305Z"
   },
   {
    "duration": 33,
    "start_time": "2025-05-04T19:23:52.365Z"
   },
   {
    "duration": 112,
    "start_time": "2025-05-04T19:23:52.400Z"
   },
   {
    "duration": 178,
    "start_time": "2025-05-04T19:23:52.514Z"
   },
   {
    "duration": 6,
    "start_time": "2025-05-04T19:23:52.693Z"
   },
   {
    "duration": 65,
    "start_time": "2025-05-04T19:23:52.700Z"
   },
   {
    "duration": 40,
    "start_time": "2025-05-04T19:23:52.766Z"
   },
   {
    "duration": 5,
    "start_time": "2025-05-04T19:23:52.807Z"
   }
  ],
  "colab": {
   "provenance": [],
   "toc_visible": true
  },
  "kernelspec": {
   "display_name": "Python 3 (ipykernel)",
   "language": "python",
   "name": "python3"
  },
  "language_info": {
   "codemirror_mode": {
    "name": "ipython",
    "version": 3
   },
   "file_extension": ".py",
   "mimetype": "text/x-python",
   "name": "python",
   "nbconvert_exporter": "python",
   "pygments_lexer": "ipython3",
   "version": "3.12.7"
  },
  "toc": {
   "base_numbering": 1,
   "nav_menu": {},
   "number_sections": true,
   "sideBar": true,
   "skip_h1_title": true,
   "title_cell": "Table of Contents",
   "title_sidebar": "Contents",
   "toc_cell": false,
   "toc_position": {
    "height": "calc(100% - 180px)",
    "left": "10px",
    "top": "150px",
    "width": "191px"
   },
   "toc_section_display": true,
   "toc_window_display": true
  }
 },
 "nbformat": 4,
 "nbformat_minor": 5
}
