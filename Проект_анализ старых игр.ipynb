{
 "cells": [
  {
   "cell_type": "markdown",
   "id": "bc17204b-99c7-4795-91a3-d6e3cddd89ed",
   "metadata": {},
   "source": [
    "# Анализ старых игр для команды «Секреты Темнолесья»\n",
    "- Автор: Котова Ольга \n",
    "- Дата: 02.02.2025"
   ]
  },
  {
   "cell_type": "markdown",
   "id": "8c3a2118-0b3b-4d15-af33-b16d4e658dc7",
   "metadata": {},
   "source": [
    "### Цели и задачи проекта\n",
    "<font color='#777778'>Цель анализа: написание статьи  о развитии индустрии игр в начале XXI века для привлечения новой аудитории к \"Секретам Темнолесья\".\n",
    "Необходимо: \n",
    "- провести обзор игровых платформ, \n",
    "- изучить объёмы продаж игр разных жанров и региональные предпочтения игроков. \n",
    "Период изучения: с 2000 по 2013 год.\n",
    "\n",
    "**Акцент на играх жанра RPG**.\n",
    "\n",
    "Источник данных: исторические данные собраны из открытых источников \"Секретами Темнолесья\":\n",
    "- о продажах игр, сделанных в разных жанрах и выпущенных на разных платформах, \n",
    "- пользовательские и экспертные оценки.\n",
    "\n",
    "Задачи:\n",
    "\n",
    "- познакомиться с данными, \n",
    "- проверить их корректность и провести предобработку,\n",
    "- получить необходимый срез данных."
   ]
  },
  {
   "cell_type": "markdown",
   "id": "2c560172-9a34-4dea-89fc-58cbec331577",
   "metadata": {},
   "source": [
    "### Описание данных\n",
    "\n",
    "`Name` — название игры.  \n",
    "`Platform` — название платформы.  \n",
    "`Year of Release` — год выпуска игры.  \n",
    "`Genre` — жанр игры.  \n",
    "`NA sales` — продажи в Северной Америке (в миллионах проданных копий).  \n",
    "`EU sales` — продажи в Европе (в миллионах проданных копий).  \n",
    "`JP sales` — продажи в Японии (в миллионах проданных копий).  \n",
    "`Other sales` — продажи в других странах (в миллионах проданных копий).  \n",
    "`Critic Score` — оценка критиков (от 0 до 100).  \n",
    "`User Score` — оценка пользователей (от 0 до 10).  \n",
    "`Rating` — рейтинг организации ESRB (англ. Entertainment Software Rating Board) c подходящей возрастной категорией.  "
   ]
  },
  {
   "cell_type": "markdown",
   "id": "28bc2f68-162f-458a-a777-a2d6c90f7efe",
   "metadata": {},
   "source": [
    "### Содержимое проекта\n",
    "1. Загрузка данных и знакомство с ними\n",
    "2. Проверка ошибок в данных и их предобработка  \n",
    "    2.1. Названия, или метки, столбцов датафрейма  \n",
    "    2.2. Типы данных  \n",
    "    2.3. Наличие пропусков в данных  \n",
    "    2.4. Явные и неявные дубликаты в данных  \n",
    "3. Фильтрация данных  \n",
    "4. Категоризация данных\n",
    "5. Выводы"
   ]
  },
  {
   "cell_type": "markdown",
   "id": "a9b5396e-9e30-45d1-bb0d-29754fae4dae",
   "metadata": {},
   "source": [
    "## 1. Загрузка данных и знакомство с ними\n",
    "Загружаем необходимые библиотеки Python и данные датасета /datasets/new_games.csv.\n",
    "Знакомимся с данными: вывели первые строки и результат метода info().\n"
   ]
  },
  {
   "cell_type": "code",
   "execution_count": 6,
   "id": "dd8dd51a-05e8-47ae-8558-ce4a1815e824",
   "metadata": {},
   "outputs": [
    {
     "name": "stdout",
     "output_type": "stream",
     "text": [
      "<class 'pandas.core.frame.DataFrame'>\n",
      "RangeIndex: 16956 entries, 0 to 16955\n",
      "Data columns (total 11 columns):\n",
      " #   Column           Non-Null Count  Dtype  \n",
      "---  ------           --------------  -----  \n",
      " 0   Name             16954 non-null  object \n",
      " 1   Platform         16956 non-null  object \n",
      " 2   Year of Release  16681 non-null  float64\n",
      " 3   Genre            16954 non-null  object \n",
      " 4   NA sales         16956 non-null  float64\n",
      " 5   EU sales         16956 non-null  object \n",
      " 6   JP sales         16956 non-null  object \n",
      " 7   Other sales      16956 non-null  float64\n",
      " 8   Critic Score     8242 non-null   float64\n",
      " 9   User Score       10152 non-null  object \n",
      " 10  Rating           10085 non-null  object \n",
      "dtypes: float64(4), object(7)\n",
      "memory usage: 1.4+ MB\n"
     ]
    },
    {
     "data": {
      "text/html": [
       "<div>\n",
       "<style scoped>\n",
       "    .dataframe tbody tr th:only-of-type {\n",
       "        vertical-align: middle;\n",
       "    }\n",
       "\n",
       "    .dataframe tbody tr th {\n",
       "        vertical-align: top;\n",
       "    }\n",
       "\n",
       "    .dataframe thead th {\n",
       "        text-align: right;\n",
       "    }\n",
       "</style>\n",
       "<table border=\"1\" class=\"dataframe\">\n",
       "  <thead>\n",
       "    <tr style=\"text-align: right;\">\n",
       "      <th></th>\n",
       "      <th>Name</th>\n",
       "      <th>Platform</th>\n",
       "      <th>Year of Release</th>\n",
       "      <th>Genre</th>\n",
       "      <th>NA sales</th>\n",
       "      <th>EU sales</th>\n",
       "      <th>JP sales</th>\n",
       "      <th>Other sales</th>\n",
       "      <th>Critic Score</th>\n",
       "      <th>User Score</th>\n",
       "      <th>Rating</th>\n",
       "    </tr>\n",
       "  </thead>\n",
       "  <tbody>\n",
       "    <tr>\n",
       "      <th>0</th>\n",
       "      <td>Wii Sports</td>\n",
       "      <td>Wii</td>\n",
       "      <td>2006.0</td>\n",
       "      <td>Sports</td>\n",
       "      <td>41.36</td>\n",
       "      <td>28.96</td>\n",
       "      <td>3.77</td>\n",
       "      <td>8.45</td>\n",
       "      <td>76.0</td>\n",
       "      <td>8</td>\n",
       "      <td>E</td>\n",
       "    </tr>\n",
       "    <tr>\n",
       "      <th>1</th>\n",
       "      <td>Super Mario Bros.</td>\n",
       "      <td>NES</td>\n",
       "      <td>1985.0</td>\n",
       "      <td>Platform</td>\n",
       "      <td>29.08</td>\n",
       "      <td>3.58</td>\n",
       "      <td>6.81</td>\n",
       "      <td>0.77</td>\n",
       "      <td>NaN</td>\n",
       "      <td>NaN</td>\n",
       "      <td>NaN</td>\n",
       "    </tr>\n",
       "    <tr>\n",
       "      <th>2</th>\n",
       "      <td>Mario Kart Wii</td>\n",
       "      <td>Wii</td>\n",
       "      <td>2008.0</td>\n",
       "      <td>Racing</td>\n",
       "      <td>15.68</td>\n",
       "      <td>12.76</td>\n",
       "      <td>3.79</td>\n",
       "      <td>3.29</td>\n",
       "      <td>82.0</td>\n",
       "      <td>8.3</td>\n",
       "      <td>E</td>\n",
       "    </tr>\n",
       "    <tr>\n",
       "      <th>3</th>\n",
       "      <td>Wii Sports Resort</td>\n",
       "      <td>Wii</td>\n",
       "      <td>2009.0</td>\n",
       "      <td>Sports</td>\n",
       "      <td>15.61</td>\n",
       "      <td>10.93</td>\n",
       "      <td>3.28</td>\n",
       "      <td>2.95</td>\n",
       "      <td>80.0</td>\n",
       "      <td>8</td>\n",
       "      <td>E</td>\n",
       "    </tr>\n",
       "    <tr>\n",
       "      <th>4</th>\n",
       "      <td>Pokemon Red/Pokemon Blue</td>\n",
       "      <td>GB</td>\n",
       "      <td>1996.0</td>\n",
       "      <td>Role-Playing</td>\n",
       "      <td>11.27</td>\n",
       "      <td>8.89</td>\n",
       "      <td>10.22</td>\n",
       "      <td>1.00</td>\n",
       "      <td>NaN</td>\n",
       "      <td>NaN</td>\n",
       "      <td>NaN</td>\n",
       "    </tr>\n",
       "  </tbody>\n",
       "</table>\n",
       "</div>"
      ],
      "text/plain": [
       "                       Name Platform  Year of Release         Genre  NA sales  \\\n",
       "0                Wii Sports      Wii           2006.0        Sports     41.36   \n",
       "1         Super Mario Bros.      NES           1985.0      Platform     29.08   \n",
       "2            Mario Kart Wii      Wii           2008.0        Racing     15.68   \n",
       "3         Wii Sports Resort      Wii           2009.0        Sports     15.61   \n",
       "4  Pokemon Red/Pokemon Blue       GB           1996.0  Role-Playing     11.27   \n",
       "\n",
       "  EU sales JP sales  Other sales  Critic Score User Score Rating  \n",
       "0    28.96     3.77         8.45          76.0          8      E  \n",
       "1     3.58     6.81         0.77           NaN        NaN    NaN  \n",
       "2    12.76     3.79         3.29          82.0        8.3      E  \n",
       "3    10.93     3.28         2.95          80.0          8      E  \n",
       "4     8.89    10.22         1.00           NaN        NaN    NaN  "
      ]
     },
     "execution_count": 6,
     "metadata": {},
     "output_type": "execute_result"
    }
   ],
   "source": [
    "# Импортируем библиотеку pandas\n",
    "import pandas as pd\n",
    "pd.options.mode.chained_assignment = None\n",
    "# Выгружаем данные в датафрейм\n",
    "df = pd.read_csv('https://code.s3.yandex.net/datasets/new_games.csv')\n",
    "\n",
    "\n",
    "df.info()\n",
    "\n",
    "df.head()\n"
   ]
  },
  {
   "cell_type": "markdown",
   "id": "5b78b969-17c0-4f39-954c-d00213c66df7",
   "metadata": {},
   "source": [
    "**Вывод о полученных данных**: \n",
    "нам предоставлены данные  в 16956 строк и 11 столбцов. Они соответствуют описанию.\n",
    "\n",
    "В данных встречаются пропуски: в столбцах в Name и Genre по 2 пропуска,\n",
    "пропусков больше в Year of Release, Critic Score,  User Score,  Rating.\n",
    "В дальнейшем следует оценить объем пропусков стоит через их долю.\n",
    "\n",
    "Верный тип данных object  в Name, Platform, Genre, Rating.    \n",
    "В Year of Release  тип данных не временной - float64, что неверно, его следует заменить, но поскольку нас инетерсует только год, а не конкретные даты и время в анализе, приведем к целочисленному значению.  \n",
    "Во всех продажах небходим числовой тип данных, float64 только у NA sales, Other sales, треубет замены EU sales, JP sales.  \n",
    "Столбец Critic Score также в числовом формате, но следует оценить, необходим ли float64 или разрядность можно уменьшить.  \n",
    "Столбец User Score следует пересевсти из object в числовой формат.\n",
    "\n",
    "В целом названия столбцов отражают содержание данных, однако для приведению к стилю snake case следует дать названия в нижнем регистре и с нижним подчеркиванием вместо пробелов."
   ]
  },
  {
   "cell_type": "markdown",
   "id": "e18508bf-51fb-4229-af94-43230becffb8",
   "metadata": {},
   "source": [
    "## 2.  Проверка ошибок в данных и их предобработка\n",
    "\n",
    "\n",
    "### 2.1. Названия, или метки, столбцов датафрейма\n",
    "\n",
    "- Выводим на экран названия всех столбцов датафрейма и проверяем их стиль написания."
   ]
  },
  {
   "cell_type": "code",
   "execution_count": 9,
   "id": "9cbcbb69-2aa3-466e-8754-33b0da2acce0",
   "metadata": {},
   "outputs": [
    {
     "data": {
      "text/plain": [
       "Index(['Name', 'Platform', 'Year of Release', 'Genre', 'NA sales', 'EU sales',\n",
       "       'JP sales', 'Other sales', 'Critic Score', 'User Score', 'Rating'],\n",
       "      dtype='object')"
      ]
     },
     "execution_count": 9,
     "metadata": {},
     "output_type": "execute_result"
    }
   ],
   "source": [
    "#Во избежании удаления лишних данных в исходном датафрейме, создадим его копию и будем работать в ней\n",
    "games=pd.read_csv('https://code.s3.yandex.net/datasets/new_games.csv')\n",
    "games.columns"
   ]
  },
  {
   "cell_type": "markdown",
   "id": "cb63d881-b960-4862-bbea-c1b46ba1f25d",
   "metadata": {},
   "source": [
    "- Приводим все столбцы к стилю snake case"
   ]
  },
  {
   "cell_type": "code",
   "execution_count": 11,
   "id": "79af9e8d-1dbe-402b-abcc-bccd6466c062",
   "metadata": {},
   "outputs": [
    {
     "data": {
      "text/plain": [
       "Index(['name', 'platform', 'year_of_release', 'genre', 'na_sales', 'eu_sales',\n",
       "       'jp_sales', 'other_sales', 'critic_score', 'user_score', 'rating'],\n",
       "      dtype='object')"
      ]
     },
     "execution_count": 11,
     "metadata": {},
     "output_type": "execute_result"
    }
   ],
   "source": [
    " def columns_snake_case (column):\n",
    "     return column.lower().replace(' ', '_')\n",
    "\n",
    "games.columns = [columns_snake_case(column) for column in games.columns]\n",
    "\n",
    "games.columns"
   ]
  },
  {
   "cell_type": "markdown",
   "id": "48ca693a-04e9-48a0-8355-a98b01641298",
   "metadata": {},
   "source": [
    "### 2.2. Типы данных\n",
    "\n",
    "-  Некорректные типы данных и их причины:  \n",
    "Год year_of_release выражен числом, в этом может быть причина присвоения float64, нам следует его преобразовать в `int32`.  \n",
    "Во всех продажах небходим числовой тип данных, треубет замены eu_sales, jp_sales, other_sales, вероятно, в столбцах встречались строковые значения, поэтому всему столбцу присвоен строковый тип. \n",
    "Столбец critic_score во `float64б` попробуем разрядность снизить, хотя числовой формат - это верно  \n",
    "Столбец user_score следует пересевсти из `object` в числовой формат, причина неверного формата опять\n",
    "может скрываться в наличии строковых значений\n",
    "- Проведем необходимые преобразование типов данных.\n",
    "Помним, что столбцы с числовыми данными и пропусками нельзя преобразовать к типу `int64`. Сначала понадобится обработать пропуски, а затем преобразовать типы данных.\n",
    "- В числовых столбцах могут встретиться строковые значения, например `unknown` или другие. Приводим такие столбцы к числовому типу данных, заменив строковые значения на пропуски - метод to_numeric строковые значения, такие как `unknown`, заменит на NaN, а числовые значения - переведет вок типу float.\n",
    "- Также можно разделить данные на категории, например, в рейтинге."
   ]
  },
  {
   "cell_type": "code",
   "execution_count": 13,
   "id": "7a75ea6b-7509-4b23-9461-1954ff177906",
   "metadata": {
    "scrolled": true
   },
   "outputs": [
    {
     "data": {
      "text/plain": [
       "0        2006\n",
       "1        1985\n",
       "2        2008\n",
       "3        2009\n",
       "4        1996\n",
       "         ... \n",
       "16951    2016\n",
       "16952    2006\n",
       "16953    2016\n",
       "16954    2003\n",
       "16955    2016\n",
       "Name: year_of_release, Length: 16956, dtype: int32"
      ]
     },
     "execution_count": 13,
     "metadata": {},
     "output_type": "execute_result"
    }
   ],
   "source": [
    "#Сначала заменяем пропуски на 0, без этого код выдаст ошибку\n",
    "games['year_of_release'] = games['year_of_release'].fillna(0)\n",
    "#Меняем тип на целое число, выбираем разрядость поменьше для снижения загруженности памяти - int32\n",
    "games['year_of_release'] = games['year_of_release'].astype('int32')\n",
    "games['year_of_release']"
   ]
  },
  {
   "cell_type": "code",
   "execution_count": 14,
   "id": "5fadf9d9-e3e5-49b6-a8f9-d673b56b1d1a",
   "metadata": {
    "scrolled": true
   },
   "outputs": [
    {
     "data": {
      "text/plain": [
       "name                 object\n",
       "platform             object\n",
       "year_of_release       int32\n",
       "genre                object\n",
       "na_sales            float64\n",
       "eu_sales            float32\n",
       "jp_sales            float32\n",
       "other_sales         float32\n",
       "critic_score        float32\n",
       "user_score          float32\n",
       "rating             category\n",
       "dtype: object"
      ]
     },
     "execution_count": 14,
     "metadata": {},
     "output_type": "execute_result"
    }
   ],
   "source": [
    "#меняем тип данных в продажах и оценках на оптимальный, при этом строковые значения будут заменены на NaN, \n",
    "#а числовые значения были приведены к типу float, по столбцу critic_score - уменьшена разрядность.\n",
    "for column in ['eu_sales', 'jp_sales', 'other_sales', 'critic_score', 'user_score']:\n",
    "    games [column]= pd.to_numeric (games [column], errors = 'coerce', downcast = 'float')\n",
    "\n",
    "#меняем тип данных в регйтинге на категориальный\n",
    "games['rating'] = games['rating'].astype('category')\n",
    "games.dtypes"
   ]
  },
  {
   "cell_type": "markdown",
   "id": "8b82db4c-a182-459d-b3a5-e78c9ce127a9",
   "metadata": {},
   "source": [
    "### 2.3. Наличие пропусков в данных\n",
    "\n",
    "- Считаем количество пропусков в каждом столбце в абсолютных и относительных значениях.\n"
   ]
  },
  {
   "cell_type": "code",
   "execution_count": 16,
   "id": "8cab08d7-829d-4331-a5b9-150a68afdea9",
   "metadata": {},
   "outputs": [
    {
     "data": {
      "text/plain": [
       "name                  2\n",
       "platform              0\n",
       "year_of_release       0\n",
       "genre                 2\n",
       "na_sales              0\n",
       "eu_sales              6\n",
       "jp_sales              4\n",
       "other_sales           0\n",
       "critic_score       8714\n",
       "user_score         9268\n",
       "rating             6871\n",
       "dtype: int64"
      ]
     },
     "execution_count": 16,
     "metadata": {},
     "output_type": "execute_result"
    }
   ],
   "source": [
    "#выводим количество пропусков в каждом столбце в абсолютном значении\n",
    "games.isna().sum()"
   ]
  },
  {
   "cell_type": "code",
   "execution_count": 17,
   "id": "ade718db-4551-4d78-9014-5bbdcfdf2dd3",
   "metadata": {},
   "outputs": [
    {
     "data": {
      "text/plain": [
       "name               0.000118\n",
       "platform           0.000000\n",
       "year_of_release    0.000000\n",
       "genre              0.000118\n",
       "na_sales           0.000000\n",
       "eu_sales           0.000354\n",
       "jp_sales           0.000236\n",
       "other_sales        0.000000\n",
       "critic_score       0.513918\n",
       "user_score         0.546591\n",
       "rating             0.405225\n",
       "dtype: float64"
      ]
     },
     "execution_count": 17,
     "metadata": {},
     "output_type": "execute_result"
    }
   ],
   "source": [
    "#выводим количество пропусков в каждом столбце в относительном значении\n",
    "games.isna().mean()"
   ]
  },
  {
   "cell_type": "markdown",
   "id": "acf51a3b-6313-4422-981e-083ff08ab325",
   "metadata": {},
   "source": [
    "**Промежуточный вывод**\n",
    "- По 2 пропуска в name и genre - их процент незначителен, можно их удалить.\n",
    "- Пропуски в sales также незначительны, они нам в целом не требуются для анализа на данном этапе, в всязи с чем их можно пригнорировать.   \n",
    "А можно количество проданных копий игры в том или ином регионе, заменить на среднее значение в зависимости от названия платформы и года выхода игры.\n",
    "- Заметное число пропусков следующих столбцах, их можно заменить на индикатор \"отсутствует\": \n",
    "critic_score    -   8714,\n",
    "user_score      -   9268,\n",
    "rating           -  6871.\n",
    "Доля пропусков высока. Вероятно, пропуски здесь возникли в связи с тем, что анализ проводится по старым годам, когда оценки было учесть не так легко, как в наши дни, тыкнув на звездочку в приложении, а данные собраны из открытых источников."
   ]
  },
  {
   "cell_type": "code",
   "execution_count": 19,
   "id": "975ea788-f3d7-45d9-91c6-c47e325cfb36",
   "metadata": {},
   "outputs": [
    {
     "name": "stdout",
     "output_type": "stream",
     "text": [
      "<class 'pandas.core.frame.DataFrame'>\n",
      "Index: 16954 entries, 0 to 16955\n",
      "Data columns (total 11 columns):\n",
      " #   Column           Non-Null Count  Dtype   \n",
      "---  ------           --------------  -----   \n",
      " 0   name             16954 non-null  object  \n",
      " 1   platform         16954 non-null  object  \n",
      " 2   year_of_release  16954 non-null  int32   \n",
      " 3   genre            16954 non-null  object  \n",
      " 4   na_sales         16954 non-null  float64 \n",
      " 5   eu_sales         16948 non-null  float32 \n",
      " 6   jp_sales         16950 non-null  float32 \n",
      " 7   other_sales      16954 non-null  float32 \n",
      " 8   critic_score     8242 non-null   float32 \n",
      " 9   user_score       7688 non-null   float32 \n",
      " 10  rating           10085 non-null  category\n",
      "dtypes: category(1), float32(5), float64(1), int32(1), object(3)\n",
      "memory usage: 1.1+ MB\n"
     ]
    }
   ],
   "source": [
    "#удаляем пропуски в name и genre \n",
    "games.dropna(subset=['name', 'genre'], inplace=True)\n",
    "games.info()"
   ]
  },
  {
   "cell_type": "code",
   "execution_count": 20,
   "id": "05734352-ae11-4806-99e9-647d8b5bb3bb",
   "metadata": {},
   "outputs": [
    {
     "name": "stdout",
     "output_type": "stream",
     "text": [
      "<class 'pandas.core.frame.DataFrame'>\n",
      "Index: 16954 entries, 0 to 16955\n",
      "Data columns (total 11 columns):\n",
      " #   Column           Non-Null Count  Dtype   \n",
      "---  ------           --------------  -----   \n",
      " 0   name             16954 non-null  object  \n",
      " 1   platform         16954 non-null  object  \n",
      " 2   year_of_release  16954 non-null  int32   \n",
      " 3   genre            16954 non-null  object  \n",
      " 4   na_sales         16954 non-null  float64 \n",
      " 5   eu_sales         16954 non-null  float64 \n",
      " 6   jp_sales         16954 non-null  float64 \n",
      " 7   other_sales      16954 non-null  float32 \n",
      " 8   critic_score     8242 non-null   float32 \n",
      " 9   user_score       7688 non-null   float32 \n",
      " 10  rating           10085 non-null  category\n",
      "dtypes: category(1), float32(3), float64(3), int32(1), object(3)\n",
      "memory usage: 1.2+ MB\n"
     ]
    }
   ],
   "source": [
    "# В столбцах eu_sales, jp_sales меняем пропуски на среднее значение в зависимости от названия платформы и года выхода игры\n",
    "\n",
    "# вводим переменную индекса для столбцов продаж, чтобы функция присвоения среднего значения работала по каждому из 3 столбцов с пропусками\n",
    "col_sales_index=0 \n",
    "# создаем пользовательскую функцию лоя расчета среднего значения\n",
    "def mean_group_sales(row): \n",
    "    columns_sales=['eu_sales', 'jp_sales']\n",
    "    if pd.isna(row[columns_sales[col_sales_index]]): \n",
    "        group = games[(games['platform'] == row['platform']) & (games['year_of_release'] == row['year_of_release'])]\n",
    "        return group[columns_sales[col_sales_index]].mean()  # Возврат среднего значения\n",
    "    else:\n",
    "        return row[columns_sales[col_sales_index]]  # Возврат текущего значения, если оно не NaN\n",
    "        \n",
    "# в цикле перебираем необходимые столбцы, в которых надо заменить пропуски средним значением\n",
    "for i in ['eu_sales', 'jp_sales']:\n",
    "# Применяем функцию к каждой строке\n",
    "    games[i] = games.apply(mean_group_sales, axis=1)\n",
    "# увеличиваем переменную индекса для столбцов продаж, чтобы применить функцию к следующему столбцу из списка   \n",
    "    col_sales_index+=1 \n",
    "games.info()"
   ]
  },
  {
   "cell_type": "code",
   "execution_count": 21,
   "id": "a2fa1a51-3483-4274-925e-1c19ebba1dd5",
   "metadata": {
    "scrolled": true
   },
   "outputs": [
    {
     "name": "stdout",
     "output_type": "stream",
     "text": [
      "<class 'pandas.core.frame.DataFrame'>\n",
      "Index: 16954 entries, 0 to 16955\n",
      "Data columns (total 11 columns):\n",
      " #   Column           Non-Null Count  Dtype   \n",
      "---  ------           --------------  -----   \n",
      " 0   name             16954 non-null  object  \n",
      " 1   platform         16954 non-null  object  \n",
      " 2   year_of_release  16954 non-null  int32   \n",
      " 3   genre            16954 non-null  object  \n",
      " 4   na_sales         16954 non-null  float64 \n",
      " 5   eu_sales         16954 non-null  float64 \n",
      " 6   jp_sales         16954 non-null  float64 \n",
      " 7   other_sales      16954 non-null  float32 \n",
      " 8   critic_score     16954 non-null  float32 \n",
      " 9   user_score       16954 non-null  float32 \n",
      " 10  rating           16954 non-null  category\n",
      "dtypes: category(1), float32(3), float64(3), int32(1), object(3)\n",
      "memory usage: 1.2+ MB\n"
     ]
    }
   ],
   "source": [
    "# в столбцах со значительным количеством пропусков меняем пропуски в оценках на индикаторы: для оценок -1\n",
    "games['critic_score'] = games['critic_score'].fillna(-1) \n",
    "games['user_score'] = games['user_score'].fillna(-1)  \n",
    "# заполнение пропусков в колонке 'rating' возможно только через добавление новой категории, иначе код выдаст ошибку\n",
    "games['rating'] = games['rating'].cat.add_categories('no rating')  \n",
    "games['rating'] = games['rating'].fillna('no rating')  \n",
    "games.info()"
   ]
  },
  {
   "cell_type": "markdown",
   "id": "2aa1a1d6-c928-4499-8b0b-385dc48af2d4",
   "metadata": {},
   "source": [
    "В итоговом выводе через info() видим, что все пропуски удалены - по всем 16954 строкам 16954 non-null значений."
   ]
  },
  {
   "cell_type": "markdown",
   "id": "65d9dcaa-c01a-41c7-8807-fdcbad29549d",
   "metadata": {},
   "source": [
    "### 2.4. Явные и неявные дубликаты в данных\n",
    "\n",
    "- Изучим уникальные значения в категориальных данных, например с названиями жанра игры, платформы, рейтинга и года выпуска, на наличие среди данных неявных дубликатов, связанных с опечатками или разным способом написания.\n"
   ]
  },
  {
   "cell_type": "code",
   "execution_count": 24,
   "id": "abeef87b-09cb-4c4b-9d1e-1db76e5a8eb8",
   "metadata": {
    "scrolled": true
   },
   "outputs": [
    {
     "data": {
      "text/plain": [
       "'Уникальные значения столбца genre:'"
      ]
     },
     "metadata": {},
     "output_type": "display_data"
    },
    {
     "data": {
      "text/plain": [
       "array(['Sports', 'Platform', 'Racing', 'Role-Playing', 'Puzzle', 'Misc',\n",
       "       'Shooter', 'Simulation', 'Action', 'Fighting', 'Adventure',\n",
       "       'Strategy', 'MISC', 'ROLE-PLAYING', 'RACING', 'ACTION', 'SHOOTER',\n",
       "       'FIGHTING', 'SPORTS', 'PLATFORM', 'ADVENTURE', 'SIMULATION',\n",
       "       'PUZZLE', 'STRATEGY'], dtype=object)"
      ]
     },
     "metadata": {},
     "output_type": "display_data"
    },
    {
     "data": {
      "text/plain": [
       "'Уникальные значения столбца platform:'"
      ]
     },
     "metadata": {},
     "output_type": "display_data"
    },
    {
     "data": {
      "text/plain": [
       "array(['Wii', 'NES', 'GB', 'DS', 'X360', 'PS3', 'PS2', 'SNES', 'GBA',\n",
       "       'PS4', '3DS', 'N64', 'PS', 'XB', 'PC', '2600', 'PSP', 'XOne',\n",
       "       'WiiU', 'GC', 'GEN', 'DC', 'PSV', 'SAT', 'SCD', 'WS', 'NG', 'TG16',\n",
       "       '3DO', 'GG', 'PCFX'], dtype=object)"
      ]
     },
     "metadata": {},
     "output_type": "display_data"
    },
    {
     "data": {
      "text/plain": [
       "'Уникальные значения столбца rating:'"
      ]
     },
     "metadata": {},
     "output_type": "display_data"
    },
    {
     "data": {
      "text/plain": [
       "['E', 'no rating', 'M', 'T', 'E10+', 'K-A', 'AO', 'EC', 'RP']\n",
       "Categories (9, object): ['AO', 'E', 'E10+', 'EC', ..., 'M', 'RP', 'T', 'no rating']"
      ]
     },
     "metadata": {},
     "output_type": "display_data"
    },
    {
     "data": {
      "text/plain": [
       "'Уникальные значения столбца year_of_release:'"
      ]
     },
     "metadata": {},
     "output_type": "display_data"
    },
    {
     "data": {
      "text/plain": [
       "array([2006, 1985, 2008, 2009, 1996, 1989, 1984, 2005, 1999, 2007, 2010,\n",
       "       2013, 2004, 1990, 1988, 2002, 2001, 2011, 1998, 2015, 2012, 2014,\n",
       "       1992, 1997, 1993, 1994, 1982, 2016, 2003, 1986, 2000,    0, 1995,\n",
       "       1991, 1981, 1987, 1980, 1983])"
      ]
     },
     "metadata": {},
     "output_type": "display_data"
    }
   ],
   "source": [
    "# выводим уникальные значения по столбцам названиями жанра игры, платформы, рейтинга и года выпуска\n",
    "for category_colomn in ['genre', 'platform', 'rating', 'year_of_release']:\n",
    "    display(f'Уникальные значения столбца {category_colomn}:')\n",
    "    display(games[category_colomn].unique())"
   ]
  },
  {
   "cell_type": "markdown",
   "id": "c18e5a99-a4b8-47ec-8dfe-f75afe976526",
   "metadata": {},
   "source": [
    "Видим наличие неявных дубликатов, типа 'Sports' и 'SPORTS' в жанре.  \n",
    "Проведем нормализацию данных с текстовыми значениями. Жанры игр приведем к нижнему регистру, а названия рейтинга — к верхнему."
   ]
  },
  {
   "cell_type": "code",
   "execution_count": 26,
   "id": "756878c2-e017-47d6-84fd-9eefdeb9d400",
   "metadata": {},
   "outputs": [
    {
     "data": {
      "text/plain": [
       "array(['sports', 'platform', 'racing', 'role-playing', 'puzzle', 'misc',\n",
       "       'shooter', 'simulation', 'action', 'fighting', 'adventure',\n",
       "       'strategy'], dtype=object)"
      ]
     },
     "metadata": {},
     "output_type": "display_data"
    }
   ],
   "source": [
    "# В целях минимизации неявных дубликатов, таких как 'Sports' и 'SPORTS', приводим данные в столбцe genre в нижний регистр\n",
    "games['genre']=games['genre'].str.lower()\n",
    "display(games['genre'].unique())\n"
   ]
  },
  {
   "cell_type": "code",
   "execution_count": 27,
   "id": "066fdfe5-ee01-4010-835a-0773cca6676b",
   "metadata": {},
   "outputs": [
    {
     "data": {
      "text/plain": [
       "array(['E', 'NO RATING', 'M', 'T', 'E10+', 'K-A', 'AO', 'EC', 'RP'],\n",
       "      dtype=object)"
      ]
     },
     "metadata": {},
     "output_type": "display_data"
    }
   ],
   "source": [
    "games['rating']=games['rating'].str.upper()\n",
    "display(games['rating'].unique())"
   ]
  },
  {
   "cell_type": "markdown",
   "id": "4cc118af-82d3-4c36-b9e8-bc5d1de2e56f",
   "metadata": {},
   "source": [
    "- Проверим наличие явных дубликатов в данных."
   ]
  },
  {
   "cell_type": "code",
   "execution_count": 29,
   "id": "a24b8aec-9a7d-474e-a3b1-3d4e1a37fb3a",
   "metadata": {},
   "outputs": [
    {
     "data": {
      "text/plain": [
       "241"
      ]
     },
     "execution_count": 29,
     "metadata": {},
     "output_type": "execute_result"
    }
   ],
   "source": [
    "#ищем количество явных дубликатов\n",
    "games.duplicated().sum()\n"
   ]
  },
  {
   "cell_type": "markdown",
   "id": "c52f9c98-69e3-4e14-ae52-311021a2cc8b",
   "metadata": {},
   "source": [
    "Найден 241 явный дубликат, в целях качественного анализа удаляем их, сохраняя первую запись в новом датафрейме games_clean"
   ]
  },
  {
   "cell_type": "code",
   "execution_count": 31,
   "id": "6b1d2cc2-f027-4c68-8eda-9006ee6a1ea0",
   "metadata": {},
   "outputs": [
    {
     "name": "stdout",
     "output_type": "stream",
     "text": [
      "<class 'pandas.core.frame.DataFrame'>\n",
      "Index: 16713 entries, 0 to 16955\n",
      "Data columns (total 11 columns):\n",
      " #   Column           Non-Null Count  Dtype  \n",
      "---  ------           --------------  -----  \n",
      " 0   name             16713 non-null  object \n",
      " 1   platform         16713 non-null  object \n",
      " 2   year_of_release  16713 non-null  int32  \n",
      " 3   genre            16713 non-null  object \n",
      " 4   na_sales         16713 non-null  float64\n",
      " 5   eu_sales         16713 non-null  float64\n",
      " 6   jp_sales         16713 non-null  float64\n",
      " 7   other_sales      16713 non-null  float32\n",
      " 8   critic_score     16713 non-null  float32\n",
      " 9   user_score       16713 non-null  float32\n",
      " 10  rating           16713 non-null  object \n",
      "dtypes: float32(3), float64(3), int32(1), object(4)\n",
      "memory usage: 1.3+ MB\n"
     ]
    }
   ],
   "source": [
    "# удаляем дубликаты, сохраняя первую запись в новом датафрейме\n",
    "games_clean=games.drop_duplicates(subset=None, keep='first', inplace=False)\n",
    "games_clean. info()"
   ]
  },
  {
   "cell_type": "markdown",
   "id": "d4bbca3c-b7b8-4508-808e-7a31c4fc5899",
   "metadata": {},
   "source": [
    "- В процессе подготовки данных мы удаляли строки с пропусками и дубликатами, посчитаем количество удалённых строк в абсолютном и относительном значениях."
   ]
  },
  {
   "cell_type": "code",
   "execution_count": 33,
   "id": "4e28b9d5-475e-45c1-ac88-ad6519c20981",
   "metadata": {},
   "outputs": [
    {
     "data": {
      "text/plain": [
       "'Начальное число строк: 16956, в результате предобрабоки осталось: 16713 строк. Удалено 243 строк, или 1.43 %'"
      ]
     },
     "metadata": {},
     "output_type": "display_data"
    }
   ],
   "source": [
    "# Считаем количеcтво строк в загруженном изначально начальном датафрейме\n",
    "start_row_count=df.shape[0]\n",
    "# Считаем количеcтво строк в датафрейме после предобработки\n",
    "final_row_count=games_clean.shape[0]\n",
    "# Считаем разницу в строках начального и конечного датафреймов\n",
    "difference_row=start_row_count-final_row_count\n",
    "# Считаем долю удаленных строк от изначального количества строк в процентах\n",
    "difference_row_share=round(difference_row/start_row_count*100,2)\n",
    "display (f'Начальное число строк: {start_row_count}, в результате предобрабоки осталось: {final_row_count} строк. Удалено {difference_row} строк, или {difference_row_share} %')"
   ]
  },
  {
   "cell_type": "markdown",
   "id": "5847da74-5bd8-4e69-8f80-096cd4f02ac0",
   "metadata": {},
   "source": [
    "**Oбщий промежуточный вывод**  \n",
    "В процессе подготовки данных:\n",
    "- исследовали объем и типы данных, скорректировали тип данных, оставив категоризацию на 4 этап проекта;  \n",
    "- выявили наличие пропусков, которые заменили на 0 в годе выпуска, на среднее значение в продажах, удалили (при невесомом проценте пропусков), заменили на индикаторы в оценках и рейтинге;\n",
    "- поработали с дубликатами: избавились от неявных дубликатов и удалили явные, в итоге осталось 16713 строк вместо исходных 16955. Удалено 243 строк, или 1.43 %"
   ]
  },
  {
   "cell_type": "markdown",
   "id": "ca4547a1-6930-4f97-9cdb-3527b7d2ce31",
   "metadata": {},
   "source": [
    "\n",
    "## 3. Фильтрация данных\n",
    "\n",
    "Стояла задача изучить историю продаж игр в начале XXI века, а именно период с 2000 по 2013 год включительно. Отбираем данные по этому показателю и сохраняем новый срез данных в отдельном датафрейме - `df_actual`."
   ]
  },
  {
   "cell_type": "code",
   "execution_count": 36,
   "id": "a9604ba3-1739-4435-b02c-02edbfb05624",
   "metadata": {},
   "outputs": [
    {
     "data": {
      "text/plain": [
       "array([2006, 2008, 2009, 2005, 2007, 2010, 2013, 2004, 2002, 2001, 2011,\n",
       "       2012, 2003, 2000])"
      ]
     },
     "execution_count": 36,
     "metadata": {},
     "output_type": "execute_result"
    }
   ],
   "source": [
    "#фильтруем данные по годам\n",
    "df_actual=games_clean[(games_clean['year_of_release'] >= 2000) & (games_clean['year_of_release'] <= 2013)]\n",
    "#выведем уникальные годы нового датафрейма с фильтром по годам\n",
    "df_actual['year_of_release'].unique()"
   ]
  },
  {
   "cell_type": "markdown",
   "id": "cbdd148c-603f-403a-8e1b-cd1da2a06948",
   "metadata": {},
   "source": [
    "\n",
    "## 4. Категоризация данных\n",
    "    \n",
    "Проведем категоризацию данных:\n",
    "- Разделим все игры по оценкам пользователей на такие категории: высокая оценка (от 8 до 10 включительно), средняя оценка (от 3 до 8, не включая правую границу интервала) и низкая оценка (от 0 до 3, не включая правую границу интервала)."
   ]
  },
  {
   "cell_type": "code",
   "execution_count": 38,
   "id": "b8194ca3-b304-43ed-a5a1-7f802fa072bc",
   "metadata": {},
   "outputs": [
    {
     "data": {
      "text/html": [
       "<div>\n",
       "<style scoped>\n",
       "    .dataframe tbody tr th:only-of-type {\n",
       "        vertical-align: middle;\n",
       "    }\n",
       "\n",
       "    .dataframe tbody tr th {\n",
       "        vertical-align: top;\n",
       "    }\n",
       "\n",
       "    .dataframe thead th {\n",
       "        text-align: right;\n",
       "    }\n",
       "</style>\n",
       "<table border=\"1\" class=\"dataframe\">\n",
       "  <thead>\n",
       "    <tr style=\"text-align: right;\">\n",
       "      <th></th>\n",
       "      <th>name</th>\n",
       "      <th>platform</th>\n",
       "      <th>year_of_release</th>\n",
       "      <th>genre</th>\n",
       "      <th>na_sales</th>\n",
       "      <th>eu_sales</th>\n",
       "      <th>jp_sales</th>\n",
       "      <th>other_sales</th>\n",
       "      <th>critic_score</th>\n",
       "      <th>user_score</th>\n",
       "      <th>rating</th>\n",
       "      <th>category_user_score</th>\n",
       "    </tr>\n",
       "  </thead>\n",
       "  <tbody>\n",
       "    <tr>\n",
       "      <th>0</th>\n",
       "      <td>Wii Sports</td>\n",
       "      <td>Wii</td>\n",
       "      <td>2006</td>\n",
       "      <td>sports</td>\n",
       "      <td>41.36</td>\n",
       "      <td>28.959999</td>\n",
       "      <td>3.77</td>\n",
       "      <td>8.45</td>\n",
       "      <td>76.0</td>\n",
       "      <td>8.0</td>\n",
       "      <td>E</td>\n",
       "      <td>Высокая оценка</td>\n",
       "    </tr>\n",
       "    <tr>\n",
       "      <th>2</th>\n",
       "      <td>Mario Kart Wii</td>\n",
       "      <td>Wii</td>\n",
       "      <td>2008</td>\n",
       "      <td>racing</td>\n",
       "      <td>15.68</td>\n",
       "      <td>12.760000</td>\n",
       "      <td>3.79</td>\n",
       "      <td>3.29</td>\n",
       "      <td>82.0</td>\n",
       "      <td>8.3</td>\n",
       "      <td>E</td>\n",
       "      <td>Высокая оценка</td>\n",
       "    </tr>\n",
       "    <tr>\n",
       "      <th>3</th>\n",
       "      <td>Wii Sports Resort</td>\n",
       "      <td>Wii</td>\n",
       "      <td>2009</td>\n",
       "      <td>sports</td>\n",
       "      <td>15.61</td>\n",
       "      <td>10.930000</td>\n",
       "      <td>3.28</td>\n",
       "      <td>2.95</td>\n",
       "      <td>80.0</td>\n",
       "      <td>8.0</td>\n",
       "      <td>E</td>\n",
       "      <td>Высокая оценка</td>\n",
       "    </tr>\n",
       "    <tr>\n",
       "      <th>6</th>\n",
       "      <td>New Super Mario Bros.</td>\n",
       "      <td>DS</td>\n",
       "      <td>2006</td>\n",
       "      <td>platform</td>\n",
       "      <td>11.28</td>\n",
       "      <td>9.140000</td>\n",
       "      <td>6.50</td>\n",
       "      <td>2.88</td>\n",
       "      <td>89.0</td>\n",
       "      <td>8.5</td>\n",
       "      <td>E</td>\n",
       "      <td>Высокая оценка</td>\n",
       "    </tr>\n",
       "    <tr>\n",
       "      <th>7</th>\n",
       "      <td>Wii Play</td>\n",
       "      <td>Wii</td>\n",
       "      <td>2006</td>\n",
       "      <td>misc</td>\n",
       "      <td>13.96</td>\n",
       "      <td>9.180000</td>\n",
       "      <td>2.93</td>\n",
       "      <td>2.84</td>\n",
       "      <td>58.0</td>\n",
       "      <td>6.6</td>\n",
       "      <td>E</td>\n",
       "      <td>Средняя оценка</td>\n",
       "    </tr>\n",
       "  </tbody>\n",
       "</table>\n",
       "</div>"
      ],
      "text/plain": [
       "                    name platform  year_of_release     genre  na_sales  \\\n",
       "0             Wii Sports      Wii             2006    sports     41.36   \n",
       "2         Mario Kart Wii      Wii             2008    racing     15.68   \n",
       "3      Wii Sports Resort      Wii             2009    sports     15.61   \n",
       "6  New Super Mario Bros.       DS             2006  platform     11.28   \n",
       "7               Wii Play      Wii             2006      misc     13.96   \n",
       "\n",
       "    eu_sales  jp_sales  other_sales  critic_score  user_score rating  \\\n",
       "0  28.959999      3.77         8.45          76.0         8.0      E   \n",
       "2  12.760000      3.79         3.29          82.0         8.3      E   \n",
       "3  10.930000      3.28         2.95          80.0         8.0      E   \n",
       "6   9.140000      6.50         2.88          89.0         8.5      E   \n",
       "7   9.180000      2.93         2.84          58.0         6.6      E   \n",
       "\n",
       "  category_user_score  \n",
       "0      Высокая оценка  \n",
       "2      Высокая оценка  \n",
       "3      Высокая оценка  \n",
       "6      Высокая оценка  \n",
       "7      Средняя оценка  "
      ]
     },
     "execution_count": 38,
     "metadata": {},
     "output_type": "execute_result"
    }
   ],
   "source": [
    "#создаем пользовательскую функцию для категоризации оценки пользователей\n",
    "def categorize_user_score(user_score):\n",
    "    if 8 <= user_score <= 10:\n",
    "        return 'Высокая оценка'\n",
    "    elif 3 <= user_score < 8:\n",
    "        return 'Средняя оценка'\n",
    "    elif 0 <= user_score < 3:\n",
    "        return 'Низкая оценка'\n",
    "    else:\n",
    "        return 'нет данных'  # На случай, если рейтинг не в ожидаемых границах\n",
    "\n",
    "# Применяем пользовательскую функцию к датафрейму и содаем новый столбец 'category_user_score'\n",
    "df_actual['category_user_score'] = df_actual['user_score'].apply(categorize_user_score)\n",
    "df_actual.head()\n"
   ]
  },
  {
   "cell_type": "markdown",
   "id": "9400a1e2-174d-47c8-b114-468fc3994f40",
   "metadata": {},
   "source": [
    "- После категоризации данных проверим результат: сгруппируем данные по выделенным категориям и посчитаем количество игр в каждой категории."
   ]
  },
  {
   "cell_type": "code",
   "execution_count": 40,
   "id": "568aa366-8089-4a5b-b1b5-3cde4cb71d1e",
   "metadata": {},
   "outputs": [
    {
     "data": {
      "text/plain": [
       "category_user_score\n",
       "Высокая оценка    2286\n",
       "Низкая оценка      116\n",
       "Средняя оценка    4081\n",
       "нет данных        6298\n",
       "Name: name, dtype: int64"
      ]
     },
     "metadata": {},
     "output_type": "display_data"
    }
   ],
   "source": [
    "# Группируем по категории оценки пользователей и считаем количество игр в каждой категории\n",
    "category_user_counts = df_actual.groupby('category_user_score')['name'].count()\n",
    "# Проверяем результат\n",
    "display(category_user_counts)"
   ]
  },
  {
   "cell_type": "markdown",
   "id": "f42b88ac-b91f-4f51-a693-29bf3490eda2",
   "metadata": {},
   "source": [
    "- Выделим топ-7 платформ по количеству игр, выпущенных за весь актуальный период."
   ]
  },
  {
   "cell_type": "code",
   "execution_count": 42,
   "id": "f8bb3178-0376-4e01-a4f8-823fe930366c",
   "metadata": {},
   "outputs": [
    {
     "data": {
      "text/plain": [
       "platform\n",
       "PS2     2127\n",
       "DS      2120\n",
       "Wii     1275\n",
       "PSP     1180\n",
       "X360    1121\n",
       "PS3     1087\n",
       "GBA      811\n",
       "Name: count, dtype: int64"
      ]
     },
     "execution_count": 42,
     "metadata": {},
     "output_type": "execute_result"
    }
   ],
   "source": [
    "# сортируем по количеству игр \n",
    "category_platform_counts = df_actual['platform'].value_counts()\n",
    "# выводим первые 7 строк, чтобы получить топ-7\n",
    "category_platform_counts.head(7)"
   ]
  },
  {
   "cell_type": "markdown",
   "id": "3217a1de-b83a-4057-bf0d-967bb2442866",
   "metadata": {},
   "source": [
    "\n",
    "## 5. Итоговый вывод\n",
    "\n",
    "- Были загружены данные `datasets/new_games.csv`, содержащие 16956 строк и 11 столбцов.  \n",
    "- Названия всех столбцов к стилю snake case.  \n",
    "- Для оптимизации работы с данными в датафрейме были произведены изменения типов данных: в столбце 'year_of_release' изменили тип данных с float64 на  целочисленный int32 (с заменой пропусков на 0),  в продажах 'eu_sales', 'jp_sales', 'other_sales' и оценках 'critic_score', 'user_score' на оптимальный float32, по столбцу 'critic_score' - уменьшена разрядность. В рейтинге установлен категориальный тип данных.\n",
    "- В 6 столбцах 'name', 'genre', 'eu_sales', 'jp_sales', 'critic_score', 'user_score' были обнаружены пропущенные значения. По первым двум 2 столбцам'name', 'genre' данные были удалены (всего 2 пропуска), в столбцах 'eu_sales', 'jp_sales'- пропуски заполнены средними значениями, в 'critic_score', 'user_score', 'rating' со значительным количеством пропусков заменили пропуски на индикаторы: для оценок -1, для рейтинга - на 'no rating'.\n",
    "- Обнаружены неявные дубликаты, проведена работы по борьбе с ними, также найден и удален 241 явный дубликат.\n",
    "- Получен срез датафрейма за период с 2000 по 2013 год, добавлено новое поле 'category_user_score' с рейтингом по оценкам пользователей: высокая оценка (от 8 до 10 включительно), средняя оценка (от 3 до 8, не включая правую границу интервала) и низкая оценка (от 0 до 3, не включая правую границу интервала). По результатам катгоризации по количеству игр получили следующую градацию:\n",
    "Высокая оценка    2286\n",
    "Низкая оценка      116  \n",
    "Средняя оценка    4081  \n",
    "нет данных        6298  \n",
    "\n",
    "- Выделено топ-7 платформ по количеству игр, выпущенных за весь актуальный период: PS2, DS, Wii, PSP, X360, PS3, GBA.  "
   ]
  }
 ],
 "metadata": {
  "kernelspec": {
   "display_name": "Python 3 (ipykernel)",
   "language": "python",
   "name": "python3"
  },
  "language_info": {
   "codemirror_mode": {
    "name": "ipython",
    "version": 3
   },
   "file_extension": ".py",
   "mimetype": "text/x-python",
   "name": "python",
   "nbconvert_exporter": "python",
   "pygments_lexer": "ipython3",
   "version": "3.12.7"
  }
 },
 "nbformat": 4,
 "nbformat_minor": 5
}
